{
 "cells": [
  {
   "attachments": {},
   "cell_type": "markdown",
   "metadata": {},
   "source": [
    "Joueur Bas"
   ]
  },
  {
   "cell_type": "code",
   "execution_count": 11,
   "metadata": {},
   "outputs": [],
   "source": [
    "from smart.model import ModelJoueurClassique\n",
    "from keras.models import Sequential\n",
    "from keras.layers import Dense, Dropout, Activation\n",
    "import tensorflow as tf"
   ]
  },
  {
   "cell_type": "code",
   "execution_count": 12,
   "metadata": {},
   "outputs": [],
   "source": [
    "# Config\n",
    "NB_FRAMES = 30\n",
    "WIDTH = 100\n",
    "HEIGHT = 100\n",
    "PATH_DATA = 'img/JBas'"
   ]
  },
  {
   "cell_type": "code",
   "execution_count": 13,
   "metadata": {},
   "outputs": [],
   "source": [
    "layers = [               \n",
    "    tf.keras.Input(shape = NB_FRAMES * WIDTH * HEIGHT ),\n",
    "    Dense(units=16, activation=\"relu\"),\n",
    "    Dense(units=32, activation=\"relu\"),\n",
    "    Dense(units=64, activation=\"sigmoid\"),\n",
    "    Dense(units=128, activation=\"relu\"),\n",
    "    Dense(units=4, activation=\"softmax\"),\n",
    "]"
   ]
  },
  {
   "cell_type": "code",
   "execution_count": 14,
   "metadata": {},
   "outputs": [
    {
     "name": "stdout",
     "output_type": "stream",
     "text": [
      "Model: \"sequential_1\"\n",
      "_________________________________________________________________\n",
      " Layer (type)                Output Shape              Param #   \n",
      "=================================================================\n",
      " dense_5 (Dense)             (None, 16)                4800016   \n",
      "                                                                 \n",
      " dense_6 (Dense)             (None, 32)                544       \n",
      "                                                                 \n",
      " dense_7 (Dense)             (None, 64)                2112      \n",
      "                                                                 \n",
      " dense_8 (Dense)             (None, 128)               8320      \n",
      "                                                                 \n",
      " dense_9 (Dense)             (None, 4)                 516       \n",
      "                                                                 \n",
      "=================================================================\n",
      "Total params: 4,811,508\n",
      "Trainable params: 4,811,508\n",
      "Non-trainable params: 0\n",
      "_________________________________________________________________\n"
     ]
    }
   ],
   "source": [
    "# Load the model\n",
    "model = ModelJoueurClassique.load_model_from_layers(layers)\n",
    "model.summary_model"
   ]
  },
  {
   "cell_type": "code",
   "execution_count": 15,
   "metadata": {},
   "outputs": [
    {
     "data": {
      "text/plain": [
       "[<smart.video.Video.Video at 0x20763d10250>,\n",
       " <smart.video.Video.Video at 0x207665ee460>,\n",
       " <smart.video.Video.Video at 0x207665ee400>,\n",
       " <smart.video.Video.Video at 0x207665ee430>,\n",
       " <smart.video.Video.Video at 0x207665ee9a0>,\n",
       " <smart.video.Video.Video at 0x207665ee760>,\n",
       " <smart.video.Video.Video at 0x207665ee7c0>,\n",
       " <smart.video.Video.Video at 0x207665ee6a0>,\n",
       " <smart.video.Video.Video at 0x207665ee700>,\n",
       " <smart.video.Video.Video at 0x207665ee820>,\n",
       " <smart.video.Video.Video at 0x207665ee880>,\n",
       " <smart.video.Video.Video at 0x207665ee8e0>,\n",
       " <smart.video.Video.Video at 0x207665ee940>,\n",
       " <smart.video.Video.Video at 0x207665ee550>,\n",
       " <smart.video.Video.Video at 0x207665eea00>,\n",
       " <smart.video.Video.Video at 0x207665eea60>,\n",
       " <smart.video.Video.Video at 0x207665eeac0>,\n",
       " <smart.video.Video.Video at 0x207665eeb20>,\n",
       " <smart.video.Video.Video at 0x207665eeb80>,\n",
       " <smart.video.Video.Video at 0x207665eebe0>,\n",
       " <smart.video.Video.Video at 0x207665eec40>,\n",
       " <smart.video.Video.Video at 0x207665eeca0>,\n",
       " <smart.video.Video.Video at 0x207665eed00>,\n",
       " <smart.video.Video.Video at 0x207665eed60>,\n",
       " <smart.video.Video.Video at 0x207665eedc0>,\n",
       " <smart.video.Video.Video at 0x207665eee20>,\n",
       " <smart.video.Video.Video at 0x207665eee80>,\n",
       " <smart.video.Video.Video at 0x207665eeee0>,\n",
       " <smart.video.Video.Video at 0x207665eef40>,\n",
       " <smart.video.Video.Video at 0x207665eefd0>,\n",
       " <smart.video.Video.Video at 0x20763d102b0>,\n",
       " <smart.video.Video.Video at 0x207665fa0a0>,\n",
       " <smart.video.Video.Video at 0x207665fa100>,\n",
       " <smart.video.Video.Video at 0x207665fa160>,\n",
       " <smart.video.Video.Video at 0x207665fa1c0>,\n",
       " <smart.video.Video.Video at 0x207665fa220>,\n",
       " <smart.video.Video.Video at 0x207665fa280>,\n",
       " <smart.video.Video.Video at 0x207665fa040>,\n",
       " <smart.video.Video.Video at 0x207665fa070>,\n",
       " <smart.video.Video.Video at 0x207665fa3a0>,\n",
       " <smart.video.Video.Video at 0x207665fa400>,\n",
       " <smart.video.Video.Video at 0x207665fa460>,\n",
       " <smart.video.Video.Video at 0x207665fa4c0>,\n",
       " <smart.video.Video.Video at 0x207665fa520>,\n",
       " <smart.video.Video.Video at 0x207665fa580>,\n",
       " <smart.video.Video.Video at 0x207665fa5e0>,\n",
       " <smart.video.Video.Video at 0x207665fa640>,\n",
       " <smart.video.Video.Video at 0x207665fa6a0>,\n",
       " <smart.video.Video.Video at 0x207665fa700>,\n",
       " <smart.video.Video.Video at 0x207665fa760>,\n",
       " <smart.video.Video.Video at 0x207665fa7c0>,\n",
       " <smart.video.Video.Video at 0x207665fa820>,\n",
       " <smart.video.Video.Video at 0x207665fa880>,\n",
       " <smart.video.Video.Video at 0x207665fa8e0>,\n",
       " <smart.video.Video.Video at 0x207665fa940>,\n",
       " <smart.video.Video.Video at 0x207665fa9a0>,\n",
       " <smart.video.Video.Video at 0x207665faa00>,\n",
       " <smart.video.Video.Video at 0x207665faa60>,\n",
       " <smart.video.Video.Video at 0x207665faac0>,\n",
       " <smart.video.Video.Video at 0x207665fab20>,\n",
       " <smart.video.Video.Video at 0x207665fab80>,\n",
       " <smart.video.Video.Video at 0x207665fabe0>,\n",
       " <smart.video.Video.Video at 0x207665fac40>,\n",
       " <smart.video.Video.Video at 0x207665faca0>,\n",
       " <smart.video.Video.Video at 0x207665fad00>,\n",
       " <smart.video.Video.Video at 0x207665fad60>,\n",
       " <smart.video.Video.Video at 0x207665fadc0>,\n",
       " <smart.video.Video.Video at 0x207665fae20>,\n",
       " <smart.video.Video.Video at 0x207665fae80>,\n",
       " <smart.video.Video.Video at 0x207665faee0>,\n",
       " <smart.video.Video.Video at 0x207665faf40>,\n",
       " <smart.video.Video.Video at 0x207665fa2e0>,\n",
       " <smart.video.Video.Video at 0x207665ee5b0>,\n",
       " <smart.video.Video.Video at 0x207665fc0a0>,\n",
       " <smart.video.Video.Video at 0x207665fc0d0>,\n",
       " <smart.video.Video.Video at 0x207665fc130>,\n",
       " <smart.video.Video.Video at 0x207665fc190>,\n",
       " <smart.video.Video.Video at 0x207665fc1f0>,\n",
       " <smart.video.Video.Video at 0x207665fc250>,\n",
       " <smart.video.Video.Video at 0x207665fc2b0>,\n",
       " <smart.video.Video.Video at 0x207665fc310>,\n",
       " <smart.video.Video.Video at 0x207665fc3d0>,\n",
       " <smart.video.Video.Video at 0x207665fc400>,\n",
       " <smart.video.Video.Video at 0x207665fc460>,\n",
       " <smart.video.Video.Video at 0x207665fc4c0>,\n",
       " <smart.video.Video.Video at 0x207665fc520>,\n",
       " <smart.video.Video.Video at 0x207665fc580>,\n",
       " <smart.video.Video.Video at 0x207640c1790>,\n",
       " <smart.video.Video.Video at 0x207665ee130>,\n",
       " <smart.video.Video.Video at 0x207665ee3a0>,\n",
       " <smart.video.Video.Video at 0x207665ee490>,\n",
       " <smart.video.Video.Video at 0x207665ee190>,\n",
       " <smart.video.Video.Video at 0x207665ee220>,\n",
       " <smart.video.Video.Video at 0x207665ee340>,\n",
       " <smart.video.Video.Video at 0x207665ee160>,\n",
       " <smart.video.Video.Video at 0x207665e7ac0>,\n",
       " <smart.video.Video.Video at 0x207665e79a0>,\n",
       " <smart.video.Video.Video at 0x207665e7d00>,\n",
       " <smart.video.Video.Video at 0x207665e7040>,\n",
       " <smart.video.Video.Video at 0x207665e7ca0>,\n",
       " <smart.video.Video.Video at 0x207665e7100>,\n",
       " <smart.video.Video.Video at 0x207665e7400>,\n",
       " <smart.video.Video.Video at 0x207665e70d0>,\n",
       " <smart.video.Video.Video at 0x207665e70a0>,\n",
       " <smart.video.Video.Video at 0x207665e7dc0>,\n",
       " <smart.video.Video.Video at 0x207665ae6a0>,\n",
       " <smart.video.Video.Video at 0x207665e7850>,\n",
       " <smart.video.Video.Video at 0x207665e7790>,\n",
       " <smart.video.Video.Video at 0x207665e78e0>,\n",
       " <smart.video.Video.Video at 0x207665e7520>,\n",
       " <smart.video.Video.Video at 0x207665e7670>,\n",
       " <smart.video.Video.Video at 0x207665e7760>]"
      ]
     },
     "execution_count": 15,
     "metadata": {},
     "output_type": "execute_result"
    }
   ],
   "source": [
    "list_videos, y = model.analyse_sequence_frame(PATH_DATA, nb_frame=NB_FRAMES)\n",
    "list_videos"
   ]
  },
  {
   "cell_type": "code",
   "execution_count": 16,
   "metadata": {},
   "outputs": [
    {
     "data": {
      "text/plain": [
       "array([0, 0, 0, 0, 0, 0, 0, 0, 0, 0, 0, 0, 0, 0, 0, 0, 0, 0, 0, 0, 0, 0,\n",
       "       0, 0, 0, 0, 0, 0, 0, 0, 0, 0, 0, 0, 0, 0, 0, 1, 1, 1, 1, 1, 1, 1,\n",
       "       1, 1, 1, 1, 1, 1, 1, 1, 1, 1, 1, 1, 1, 1, 1, 1, 1, 1, 1, 1, 1, 1,\n",
       "       1, 1, 1, 1, 1, 2, 2, 2, 2, 2, 2, 2, 2, 2, 2, 2, 2, 2, 2, 2, 2, 2,\n",
       "       2, 2, 2, 2, 2, 3, 3, 3, 3, 3, 3, 3, 3, 3, 3, 3, 3, 3, 3, 3, 3, 3,\n",
       "       3, 3], dtype=int64)"
      ]
     },
     "execution_count": 16,
     "metadata": {},
     "output_type": "execute_result"
    }
   ],
   "source": [
    "y = model.label_encoder(y)\n",
    "y"
   ]
  },
  {
   "cell_type": "code",
   "execution_count": 17,
   "metadata": {},
   "outputs": [
    {
     "data": {
      "text/plain": [
       "((89, 300000), (89,), (23, 300000), (23,))"
      ]
     },
     "execution_count": 17,
     "metadata": {},
     "output_type": "execute_result"
    }
   ],
   "source": [
    "# Split the data\n",
    "X_train, y_train, X_test, y_test = model.split_train_test(list_videos, y, test_size=0.2,\n",
    "                                        shape_frame=(WIDTH, HEIGHT), nb_frame=NB_FRAMES)\n",
    "X_train.shape, y_train.shape, X_test.shape, y_test.shape"
   ]
  },
  {
   "cell_type": "code",
   "execution_count": 18,
   "metadata": {},
   "outputs": [],
   "source": [
    "# Normalize the data\n",
    "X_train, X_test = model.normalize_input(X_train, X_test)"
   ]
  },
  {
   "cell_type": "code",
   "execution_count": 19,
   "metadata": {},
   "outputs": [
    {
     "name": "stdout",
     "output_type": "stream",
     "text": [
      "Epoch 1/50\n",
      "3/3 [==============================] - ETA: 0s - loss: 1.3614 - sparse_categorical_accuracy: 0.3239\n",
      "Epoch 1: val_loss improved from inf to 2.16245, saving model to checkpoints\\Weights-001--2.16245.hdf5\n",
      "3/3 [==============================] - 1s 174ms/step - loss: 1.3614 - sparse_categorical_accuracy: 0.3239 - val_loss: 2.1625 - val_sparse_categorical_accuracy: 0.0000e+00\n",
      "Epoch 2/50\n",
      "3/3 [==============================] - ETA: 0s - loss: 1.0948 - sparse_categorical_accuracy: 0.5352\n",
      "Epoch 2: val_loss did not improve from 2.16245\n",
      "3/3 [==============================] - 0s 41ms/step - loss: 1.0948 - sparse_categorical_accuracy: 0.5352 - val_loss: 2.7571 - val_sparse_categorical_accuracy: 0.0000e+00\n",
      "Epoch 3/50\n",
      "3/3 [==============================] - ETA: 0s - loss: 0.9448 - sparse_categorical_accuracy: 0.7606\n",
      "Epoch 3: val_loss did not improve from 2.16245\n",
      "3/3 [==============================] - 0s 40ms/step - loss: 0.9448 - sparse_categorical_accuracy: 0.7606 - val_loss: 3.1026 - val_sparse_categorical_accuracy: 0.0000e+00\n",
      "Epoch 4/50\n",
      "3/3 [==============================] - ETA: 0s - loss: 0.8671 - sparse_categorical_accuracy: 0.7324\n",
      "Epoch 4: val_loss did not improve from 2.16245\n",
      "3/3 [==============================] - 0s 42ms/step - loss: 0.8671 - sparse_categorical_accuracy: 0.7324 - val_loss: 3.4471 - val_sparse_categorical_accuracy: 0.0000e+00\n",
      "Epoch 5/50\n",
      "3/3 [==============================] - ETA: 0s - loss: 0.7563 - sparse_categorical_accuracy: 0.8028\n",
      "Epoch 5: val_loss did not improve from 2.16245\n",
      "3/3 [==============================] - 0s 41ms/step - loss: 0.7563 - sparse_categorical_accuracy: 0.8028 - val_loss: 3.6831 - val_sparse_categorical_accuracy: 0.0000e+00\n",
      "Epoch 6/50\n",
      "3/3 [==============================] - ETA: 0s - loss: 0.6716 - sparse_categorical_accuracy: 0.8310\n",
      "Epoch 6: val_loss did not improve from 2.16245\n",
      "3/3 [==============================] - 0s 43ms/step - loss: 0.6716 - sparse_categorical_accuracy: 0.8310 - val_loss: 3.8364 - val_sparse_categorical_accuracy: 0.0000e+00\n",
      "Epoch 7/50\n",
      "3/3 [==============================] - ETA: 0s - loss: 0.5927 - sparse_categorical_accuracy: 0.8451\n",
      "Epoch 7: val_loss did not improve from 2.16245\n",
      "3/3 [==============================] - 0s 46ms/step - loss: 0.5927 - sparse_categorical_accuracy: 0.8451 - val_loss: 3.9563 - val_sparse_categorical_accuracy: 0.0000e+00\n",
      "Epoch 8/50\n",
      "3/3 [==============================] - ETA: 0s - loss: 0.5248 - sparse_categorical_accuracy: 0.8451\n",
      "Epoch 8: val_loss did not improve from 2.16245\n",
      "3/3 [==============================] - 0s 46ms/step - loss: 0.5248 - sparse_categorical_accuracy: 0.8451 - val_loss: 4.2140 - val_sparse_categorical_accuracy: 0.0000e+00\n",
      "Epoch 9/50\n",
      "3/3 [==============================] - ETA: 0s - loss: 0.4513 - sparse_categorical_accuracy: 0.8732\n",
      "Epoch 9: val_loss did not improve from 2.16245\n",
      "3/3 [==============================] - 0s 42ms/step - loss: 0.4513 - sparse_categorical_accuracy: 0.8732 - val_loss: 4.4876 - val_sparse_categorical_accuracy: 0.0000e+00\n",
      "Epoch 10/50\n",
      "1/3 [=========>....................] - ETA: 0s - loss: 0.3639 - sparse_categorical_accuracy: 0.9375\n",
      "Epoch 10: val_loss did not improve from 2.16245\n",
      "3/3 [==============================] - 0s 39ms/step - loss: 0.3838 - sparse_categorical_accuracy: 0.9437 - val_loss: 4.6369 - val_sparse_categorical_accuracy: 0.0000e+00\n",
      "Epoch 11/50\n",
      "1/3 [=========>....................] - ETA: 0s - loss: 0.3525 - sparse_categorical_accuracy: 0.9688\n",
      "Epoch 11: val_loss did not improve from 2.16245\n",
      "3/3 [==============================] - 0s 39ms/step - loss: 0.3228 - sparse_categorical_accuracy: 0.9577 - val_loss: 4.7967 - val_sparse_categorical_accuracy: 0.0000e+00\n",
      "Epoch 12/50\n",
      "3/3 [==============================] - ETA: 0s - loss: 0.2745 - sparse_categorical_accuracy: 0.9718\n",
      "Epoch 12: val_loss did not improve from 2.16245\n",
      "3/3 [==============================] - 0s 43ms/step - loss: 0.2745 - sparse_categorical_accuracy: 0.9718 - val_loss: 4.9968 - val_sparse_categorical_accuracy: 0.0000e+00\n",
      "Epoch 13/50\n",
      "3/3 [==============================] - ETA: 0s - loss: 0.2284 - sparse_categorical_accuracy: 0.9718\n",
      "Epoch 13: val_loss did not improve from 2.16245\n",
      "3/3 [==============================] - 0s 41ms/step - loss: 0.2284 - sparse_categorical_accuracy: 0.9718 - val_loss: 5.0190 - val_sparse_categorical_accuracy: 0.0000e+00\n",
      "Epoch 14/50\n",
      "3/3 [==============================] - ETA: 0s - loss: 0.1902 - sparse_categorical_accuracy: 0.9859\n",
      "Epoch 14: val_loss did not improve from 2.16245\n",
      "3/3 [==============================] - 0s 45ms/step - loss: 0.1902 - sparse_categorical_accuracy: 0.9859 - val_loss: 5.1040 - val_sparse_categorical_accuracy: 0.0000e+00\n",
      "Epoch 15/50\n",
      "3/3 [==============================] - ETA: 0s - loss: 0.1647 - sparse_categorical_accuracy: 0.9859\n",
      "Epoch 15: val_loss did not improve from 2.16245\n",
      "3/3 [==============================] - 0s 43ms/step - loss: 0.1647 - sparse_categorical_accuracy: 0.9859 - val_loss: 5.1574 - val_sparse_categorical_accuracy: 0.0000e+00\n",
      "Epoch 16/50\n",
      "3/3 [==============================] - ETA: 0s - loss: 0.1434 - sparse_categorical_accuracy: 0.9859\n",
      "Epoch 16: val_loss did not improve from 2.16245\n",
      "3/3 [==============================] - 0s 43ms/step - loss: 0.1434 - sparse_categorical_accuracy: 0.9859 - val_loss: 5.2157 - val_sparse_categorical_accuracy: 0.0000e+00\n",
      "Epoch 17/50\n",
      "3/3 [==============================] - ETA: 0s - loss: 0.1224 - sparse_categorical_accuracy: 0.9859\n",
      "Epoch 17: val_loss did not improve from 2.16245\n",
      "3/3 [==============================] - 0s 41ms/step - loss: 0.1224 - sparse_categorical_accuracy: 0.9859 - val_loss: 5.2993 - val_sparse_categorical_accuracy: 0.0000e+00\n",
      "Epoch 18/50\n",
      "3/3 [==============================] - ETA: 0s - loss: 0.1066 - sparse_categorical_accuracy: 0.9859\n",
      "Epoch 18: val_loss did not improve from 2.16245\n",
      "3/3 [==============================] - 0s 42ms/step - loss: 0.1066 - sparse_categorical_accuracy: 0.9859 - val_loss: 5.3376 - val_sparse_categorical_accuracy: 0.0000e+00\n",
      "Epoch 19/50\n",
      "3/3 [==============================] - ETA: 0s - loss: 0.0944 - sparse_categorical_accuracy: 0.9859\n",
      "Epoch 19: val_loss did not improve from 2.16245\n",
      "3/3 [==============================] - 0s 42ms/step - loss: 0.0944 - sparse_categorical_accuracy: 0.9859 - val_loss: 5.4331 - val_sparse_categorical_accuracy: 0.0000e+00\n",
      "Epoch 20/50\n",
      "1/3 [=========>....................] - ETA: 0s - loss: 0.1273 - sparse_categorical_accuracy: 0.9688\n",
      "Epoch 20: val_loss did not improve from 2.16245\n",
      "3/3 [==============================] - 0s 42ms/step - loss: 0.0843 - sparse_categorical_accuracy: 0.9859 - val_loss: 5.5600 - val_sparse_categorical_accuracy: 0.0000e+00\n",
      "Epoch 21/50\n",
      "3/3 [==============================] - ETA: 0s - loss: 0.0748 - sparse_categorical_accuracy: 0.9859\n",
      "Epoch 21: val_loss did not improve from 2.16245\n",
      "3/3 [==============================] - 0s 43ms/step - loss: 0.0748 - sparse_categorical_accuracy: 0.9859 - val_loss: 5.6372 - val_sparse_categorical_accuracy: 0.0000e+00\n",
      "Epoch 22/50\n",
      "1/3 [=========>....................] - ETA: 0s - loss: 0.0411 - sparse_categorical_accuracy: 1.0000\n",
      "Epoch 22: val_loss did not improve from 2.16245\n",
      "3/3 [==============================] - 0s 40ms/step - loss: 0.0677 - sparse_categorical_accuracy: 0.9859 - val_loss: 5.6897 - val_sparse_categorical_accuracy: 0.0000e+00\n",
      "Epoch 23/50\n",
      "3/3 [==============================] - ETA: 0s - loss: 0.0625 - sparse_categorical_accuracy: 0.9859\n",
      "Epoch 23: val_loss did not improve from 2.16245\n",
      "3/3 [==============================] - 0s 42ms/step - loss: 0.0625 - sparse_categorical_accuracy: 0.9859 - val_loss: 5.7638 - val_sparse_categorical_accuracy: 0.0000e+00\n",
      "Epoch 24/50\n",
      "1/3 [=========>....................] - ETA: 0s - loss: 0.0726 - sparse_categorical_accuracy: 0.9688\n",
      "Epoch 24: val_loss did not improve from 2.16245\n",
      "3/3 [==============================] - 0s 40ms/step - loss: 0.0572 - sparse_categorical_accuracy: 0.9859 - val_loss: 5.8740 - val_sparse_categorical_accuracy: 0.0000e+00\n",
      "Epoch 25/50\n",
      "1/3 [=========>....................] - ETA: 0s - loss: 0.0424 - sparse_categorical_accuracy: 1.0000\n",
      "Epoch 25: val_loss did not improve from 2.16245\n",
      "3/3 [==============================] - 0s 39ms/step - loss: 0.0542 - sparse_categorical_accuracy: 0.9859 - val_loss: 5.9625 - val_sparse_categorical_accuracy: 0.0000e+00\n",
      "Epoch 26/50\n",
      "3/3 [==============================] - ETA: 0s - loss: 0.0512 - sparse_categorical_accuracy: 0.9859\n",
      "Epoch 26: val_loss did not improve from 2.16245\n",
      "3/3 [==============================] - 0s 41ms/step - loss: 0.0512 - sparse_categorical_accuracy: 0.9859 - val_loss: 6.0148 - val_sparse_categorical_accuracy: 0.0000e+00\n",
      "Epoch 27/50\n",
      "1/3 [=========>....................] - ETA: 0s - loss: 0.0380 - sparse_categorical_accuracy: 1.0000\n",
      "Epoch 27: val_loss did not improve from 2.16245\n",
      "3/3 [==============================] - 0s 39ms/step - loss: 0.0490 - sparse_categorical_accuracy: 0.9859 - val_loss: 6.0479 - val_sparse_categorical_accuracy: 0.0000e+00\n",
      "Epoch 28/50\n",
      "3/3 [==============================] - ETA: 0s - loss: 0.0463 - sparse_categorical_accuracy: 0.9859\n",
      "Epoch 28: val_loss did not improve from 2.16245\n",
      "3/3 [==============================] - 0s 43ms/step - loss: 0.0463 - sparse_categorical_accuracy: 0.9859 - val_loss: 6.0538 - val_sparse_categorical_accuracy: 0.0000e+00\n",
      "Epoch 29/50\n",
      "1/3 [=========>....................] - ETA: 0s - loss: 0.0689 - sparse_categorical_accuracy: 0.9688\n",
      "Epoch 29: val_loss did not improve from 2.16245\n",
      "3/3 [==============================] - 0s 39ms/step - loss: 0.0439 - sparse_categorical_accuracy: 0.9859 - val_loss: 6.0411 - val_sparse_categorical_accuracy: 0.0000e+00\n",
      "Epoch 30/50\n",
      "1/3 [=========>....................] - ETA: 0s - loss: 0.0208 - sparse_categorical_accuracy: 1.0000\n",
      "Epoch 30: val_loss did not improve from 2.16245\n",
      "3/3 [==============================] - 0s 40ms/step - loss: 0.0416 - sparse_categorical_accuracy: 0.9859 - val_loss: 6.0262 - val_sparse_categorical_accuracy: 0.0000e+00\n",
      "Epoch 31/50\n",
      "1/3 [=========>....................] - ETA: 0s - loss: 0.0344 - sparse_categorical_accuracy: 1.0000\n",
      "Epoch 31: val_loss did not improve from 2.16245\n",
      "3/3 [==============================] - 0s 39ms/step - loss: 0.0400 - sparse_categorical_accuracy: 0.9859 - val_loss: 6.0264 - val_sparse_categorical_accuracy: 0.0000e+00\n",
      "Epoch 32/50\n",
      "3/3 [==============================] - ETA: 0s - loss: 0.0386 - sparse_categorical_accuracy: 0.9859\n",
      "Epoch 32: val_loss did not improve from 2.16245\n",
      "3/3 [==============================] - 0s 42ms/step - loss: 0.0386 - sparse_categorical_accuracy: 0.9859 - val_loss: 6.0340 - val_sparse_categorical_accuracy: 0.0000e+00\n",
      "Epoch 33/50\n",
      "1/3 [=========>....................] - ETA: 0s - loss: 0.0188 - sparse_categorical_accuracy: 1.0000\n",
      "Epoch 33: val_loss did not improve from 2.16245\n",
      "3/3 [==============================] - 0s 40ms/step - loss: 0.0366 - sparse_categorical_accuracy: 0.9859 - val_loss: 6.0601 - val_sparse_categorical_accuracy: 0.0000e+00\n",
      "Epoch 34/50\n",
      "1/3 [=========>....................] - ETA: 0s - loss: 0.0270 - sparse_categorical_accuracy: 1.0000\n",
      "Epoch 34: val_loss did not improve from 2.16245\n",
      "3/3 [==============================] - 0s 40ms/step - loss: 0.0340 - sparse_categorical_accuracy: 0.9859 - val_loss: 6.0970 - val_sparse_categorical_accuracy: 0.0000e+00\n",
      "Epoch 35/50\n",
      "3/3 [==============================] - ETA: 0s - loss: 0.0332 - sparse_categorical_accuracy: 0.9859\n",
      "Epoch 35: val_loss did not improve from 2.16245\n",
      "3/3 [==============================] - 0s 42ms/step - loss: 0.0332 - sparse_categorical_accuracy: 0.9859 - val_loss: 6.1030 - val_sparse_categorical_accuracy: 0.0000e+00\n",
      "Epoch 36/50\n",
      "1/3 [=========>....................] - ETA: 0s - loss: 0.0385 - sparse_categorical_accuracy: 0.9688\n",
      "Epoch 36: val_loss did not improve from 2.16245\n",
      "3/3 [==============================] - 0s 39ms/step - loss: 0.0322 - sparse_categorical_accuracy: 0.9859 - val_loss: 6.1134 - val_sparse_categorical_accuracy: 0.0000e+00\n",
      "Epoch 37/50\n",
      "1/3 [=========>....................] - ETA: 0s - loss: 0.0091 - sparse_categorical_accuracy: 1.0000\n",
      "Epoch 37: val_loss did not improve from 2.16245\n",
      "3/3 [==============================] - 0s 40ms/step - loss: 0.0324 - sparse_categorical_accuracy: 0.9859 - val_loss: 6.1146 - val_sparse_categorical_accuracy: 0.0000e+00\n",
      "Epoch 38/50\n",
      "1/3 [=========>....................] - ETA: 0s - loss: 0.0085 - sparse_categorical_accuracy: 1.0000\n",
      "Epoch 38: val_loss did not improve from 2.16245\n",
      "3/3 [==============================] - 0s 39ms/step - loss: 0.0328 - sparse_categorical_accuracy: 0.9859 - val_loss: 6.1039 - val_sparse_categorical_accuracy: 0.0000e+00\n",
      "Epoch 39/50\n",
      "1/3 [=========>....................] - ETA: 0s - loss: 0.0615 - sparse_categorical_accuracy: 0.9688\n",
      "Epoch 39: val_loss did not improve from 2.16245\n",
      "3/3 [==============================] - 0s 39ms/step - loss: 0.0328 - sparse_categorical_accuracy: 0.9859 - val_loss: 6.1011 - val_sparse_categorical_accuracy: 0.0000e+00\n",
      "Epoch 40/50\n",
      "1/3 [=========>....................] - ETA: 0s - loss: 0.0578 - sparse_categorical_accuracy: 0.9688\n",
      "Epoch 40: val_loss did not improve from 2.16245\n",
      "3/3 [==============================] - 0s 39ms/step - loss: 0.0323 - sparse_categorical_accuracy: 0.9859 - val_loss: 6.1106 - val_sparse_categorical_accuracy: 0.0000e+00\n",
      "Epoch 41/50\n",
      "1/3 [=========>....................] - ETA: 0s - loss: 0.0581 - sparse_categorical_accuracy: 0.9688\n",
      "Epoch 41: val_loss did not improve from 2.16245\n",
      "3/3 [==============================] - 0s 39ms/step - loss: 0.0304 - sparse_categorical_accuracy: 0.9859 - val_loss: 6.1938 - val_sparse_categorical_accuracy: 0.0000e+00\n",
      "Epoch 42/50\n",
      "1/3 [=========>....................] - ETA: 0s - loss: 0.0090 - sparse_categorical_accuracy: 1.0000\n",
      "Epoch 42: val_loss did not improve from 2.16245\n",
      "3/3 [==============================] - 0s 38ms/step - loss: 0.0282 - sparse_categorical_accuracy: 0.9859 - val_loss: 6.2702 - val_sparse_categorical_accuracy: 0.0000e+00\n",
      "Epoch 43/50\n",
      "1/3 [=========>....................] - ETA: 0s - loss: 0.0334 - sparse_categorical_accuracy: 0.9688\n",
      "Epoch 43: val_loss did not improve from 2.16245\n",
      "3/3 [==============================] - 0s 40ms/step - loss: 0.0276 - sparse_categorical_accuracy: 0.9859 - val_loss: 6.3098 - val_sparse_categorical_accuracy: 0.0000e+00\n",
      "Epoch 44/50\n",
      "3/3 [==============================] - ETA: 0s - loss: 0.0277 - sparse_categorical_accuracy: 0.9859\n",
      "Epoch 44: val_loss did not improve from 2.16245\n",
      "3/3 [==============================] - 0s 42ms/step - loss: 0.0277 - sparse_categorical_accuracy: 0.9859 - val_loss: 6.3445 - val_sparse_categorical_accuracy: 0.0000e+00\n",
      "Epoch 45/50\n",
      "1/3 [=========>....................] - ETA: 0s - loss: 0.0509 - sparse_categorical_accuracy: 0.9688\n",
      "Epoch 45: val_loss did not improve from 2.16245\n",
      "3/3 [==============================] - 0s 38ms/step - loss: 0.0267 - sparse_categorical_accuracy: 0.9859 - val_loss: 6.3418 - val_sparse_categorical_accuracy: 0.0000e+00\n",
      "Epoch 46/50\n",
      "1/3 [=========>....................] - ETA: 0s - loss: 0.0305 - sparse_categorical_accuracy: 0.9688\n",
      "Epoch 46: val_loss did not improve from 2.16245\n",
      "3/3 [==============================] - 0s 39ms/step - loss: 0.0265 - sparse_categorical_accuracy: 0.9859 - val_loss: 6.3353 - val_sparse_categorical_accuracy: 0.0000e+00\n",
      "Epoch 47/50\n",
      "1/3 [=========>....................] - ETA: 0s - loss: 0.0507 - sparse_categorical_accuracy: 0.9688\n",
      "Epoch 47: val_loss did not improve from 2.16245\n",
      "3/3 [==============================] - 0s 38ms/step - loss: 0.0259 - sparse_categorical_accuracy: 0.9859 - val_loss: 6.3520 - val_sparse_categorical_accuracy: 0.0000e+00\n",
      "Epoch 48/50\n",
      "1/3 [=========>....................] - ETA: 0s - loss: 0.0309 - sparse_categorical_accuracy: 0.9688\n",
      "Epoch 48: val_loss did not improve from 2.16245\n",
      "3/3 [==============================] - 0s 38ms/step - loss: 0.0257 - sparse_categorical_accuracy: 0.9859 - val_loss: 6.3622 - val_sparse_categorical_accuracy: 0.0000e+00\n",
      "Epoch 49/50\n",
      "1/3 [=========>....................] - ETA: 0s - loss: 0.0312 - sparse_categorical_accuracy: 0.9688\n",
      "Epoch 49: val_loss did not improve from 2.16245\n",
      "3/3 [==============================] - 0s 37ms/step - loss: 0.0255 - sparse_categorical_accuracy: 0.9859 - val_loss: 6.3738 - val_sparse_categorical_accuracy: 0.0000e+00\n",
      "Epoch 50/50\n",
      "1/3 [=========>....................] - ETA: 0s - loss: 0.0061 - sparse_categorical_accuracy: 1.0000\n",
      "Epoch 50: val_loss did not improve from 2.16245\n",
      "3/3 [==============================] - 0s 38ms/step - loss: 0.0252 - sparse_categorical_accuracy: 0.9859 - val_loss: 6.4177 - val_sparse_categorical_accuracy: 0.0000e+00\n"
     ]
    },
    {
     "data": {
      "text/plain": [
       "<keras.callbacks.History at 0x207666026a0>"
      ]
     },
     "execution_count": 19,
     "metadata": {},
     "output_type": "execute_result"
    }
   ],
   "source": [
    "# Train the model\n",
    "history = model.train(X_train, y_train, epochs=50, batch_size=32)"
   ]
  },
  {
   "cell_type": "code",
   "execution_count": 20,
   "metadata": {},
   "outputs": [
    {
     "name": "stdout",
     "output_type": "stream",
     "text": [
      "1/1 [==============================] - 0s 25ms/step - loss: 2.1643 - sparse_categorical_accuracy: 0.3478\n",
      "Loss:  2.164332628250122\n",
      "Accuracy:  0.3478260934352875\n"
     ]
    },
    {
     "data": {
      "text/plain": [
       "[2.164332628250122, 0.3478260934352875]"
      ]
     },
     "execution_count": 20,
     "metadata": {},
     "output_type": "execute_result"
    }
   ],
   "source": [
    "model.evaluate(X_test, y_test)"
   ]
  }
 ],
 "metadata": {
  "kernelspec": {
   "display_name": "base",
   "language": "python",
   "name": "python3"
  },
  "language_info": {
   "codemirror_mode": {
    "name": "ipython",
    "version": 3
   },
   "file_extension": ".py",
   "mimetype": "text/x-python",
   "name": "python",
   "nbconvert_exporter": "python",
   "pygments_lexer": "ipython3",
   "version": "3.9.13"
  },
  "orig_nbformat": 4
 },
 "nbformat": 4,
 "nbformat_minor": 2
}
