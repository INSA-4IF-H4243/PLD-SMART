{
 "cells": [
  {
   "attachments": {},
   "cell_type": "markdown",
   "metadata": {},
   "source": [
    "Joueur Bas"
   ]
  },
  {
   "cell_type": "code",
   "execution_count": 51,
   "metadata": {},
   "outputs": [],
   "source": [
    "from smart.model import ModelJoueurClassique\n",
    "from keras.models import Sequential\n",
    "from keras.layers import Dense, Dropout, Activation\n",
    "import tensorflow as tf"
   ]
  },
  {
   "cell_type": "code",
   "execution_count": 52,
   "metadata": {},
   "outputs": [],
   "source": [
    "# Config\n",
    "NB_FRAMES = 30\n",
    "WIDTH = 100\n",
    "HEIGHT = 100\n",
    "PATH_DATA = 'img_maxime/JHaut'"
   ]
  },
  {
   "cell_type": "code",
   "execution_count": 53,
   "metadata": {},
   "outputs": [],
   "source": [
    "layers = [               \n",
    "    tf.keras.Input(shape = NB_FRAMES * WIDTH * HEIGHT ),\n",
    "    Dense(units=16, activation=\"relu\"),\n",
    "    Dense(units=32, activation=\"sigmoid\"),\n",
    "    # Dense(units=64, activation=\"sigmoid\"),\n",
    "    # Dense(units=128, activation=\"relu\"),\n",
    "    Dense(units=4, activation=\"softmax\"),\n",
    "]"
   ]
  },
  {
   "cell_type": "code",
   "execution_count": 54,
   "metadata": {},
   "outputs": [
    {
     "name": "stdout",
     "output_type": "stream",
     "text": [
      "Model: \"sequential_4\"\n",
      "_________________________________________________________________\n",
      " Layer (type)                Output Shape              Param #   \n",
      "=================================================================\n",
      " dense_12 (Dense)            (None, 16)                4800016   \n",
      "                                                                 \n",
      " dense_13 (Dense)            (None, 32)                544       \n",
      "                                                                 \n",
      " dense_14 (Dense)            (None, 4)                 132       \n",
      "                                                                 \n",
      "=================================================================\n",
      "Total params: 4,800,692\n",
      "Trainable params: 4,800,692\n",
      "Non-trainable params: 0\n",
      "_________________________________________________________________\n"
     ]
    }
   ],
   "source": [
    "# Load the model\n",
    "model = ModelJoueurClassique.load_model_from_layers(layers)\n",
    "model.summary_model"
   ]
  },
  {
   "cell_type": "code",
   "execution_count": 55,
   "metadata": {},
   "outputs": [
    {
     "data": {
      "text/plain": [
       "[<smart.video.Video.Video at 0x17fb46fffd0>,\n",
       " <smart.video.Video.Video at 0x17fb4768670>,\n",
       " <smart.video.Video.Video at 0x17fbd527310>,\n",
       " <smart.video.Video.Video at 0x17fbd5272b0>,\n",
       " <smart.video.Video.Video at 0x17fbd527220>,\n",
       " <smart.video.Video.Video at 0x17fbd5273a0>,\n",
       " <smart.video.Video.Video at 0x17fbd527370>,\n",
       " <smart.video.Video.Video at 0x17fbd527250>,\n",
       " <smart.video.Video.Video at 0x17fbd527430>,\n",
       " <smart.video.Video.Video at 0x17fbd5271f0>,\n",
       " <smart.video.Video.Video at 0x17fbd527520>,\n",
       " <smart.video.Video.Video at 0x17fbd527580>,\n",
       " <smart.video.Video.Video at 0x17fbd5275e0>,\n",
       " <smart.video.Video.Video at 0x17fbd527640>,\n",
       " <smart.video.Video.Video at 0x17fbd5276a0>,\n",
       " <smart.video.Video.Video at 0x17fbd527700>,\n",
       " <smart.video.Video.Video at 0x17fbd527490>,\n",
       " <smart.video.Video.Video at 0x17fbd5274f0>,\n",
       " <smart.video.Video.Video at 0x17fbd5277f0>,\n",
       " <smart.video.Video.Video at 0x17fbd527850>]"
      ]
     },
     "execution_count": 55,
     "metadata": {},
     "output_type": "execute_result"
    }
   ],
   "source": [
    "list_videos, y = model.analyse_sequence_frame(PATH_DATA, nb_frame=NB_FRAMES)\n",
    "list_videos"
   ]
  },
  {
   "cell_type": "code",
   "execution_count": 56,
   "metadata": {},
   "outputs": [
    {
     "data": {
      "text/plain": [
       "array([0, 0, 0, 0, 0, 1, 1, 1, 1, 2, 2, 2, 2, 2, 2, 2, 3, 3, 3, 3],\n",
       "      dtype=int64)"
      ]
     },
     "execution_count": 56,
     "metadata": {},
     "output_type": "execute_result"
    }
   ],
   "source": [
    "y = model.label_encoder(y)\n",
    "y"
   ]
  },
  {
   "cell_type": "code",
   "execution_count": 57,
   "metadata": {},
   "outputs": [
    {
     "data": {
      "text/plain": [
       "((16, 300000), (16,), (4, 300000), (4,))"
      ]
     },
     "execution_count": 57,
     "metadata": {},
     "output_type": "execute_result"
    }
   ],
   "source": [
    "# Split the data\n",
    "X_train, y_train, X_test, y_test = model.split_train_test(list_videos, y, test_size=0.2,\n",
    "                                        shape_frame=(WIDTH, HEIGHT), nb_frame=NB_FRAMES)\n",
    "X_train.shape, y_train.shape, X_test.shape, y_test.shape"
   ]
  },
  {
   "cell_type": "code",
   "execution_count": 58,
   "metadata": {},
   "outputs": [],
   "source": [
    "# Normalize the data\n",
    "X_train, X_test = model.normalize_input(X_train, X_test)"
   ]
  },
  {
   "cell_type": "code",
   "execution_count": 59,
   "metadata": {},
   "outputs": [
    {
     "name": "stdout",
     "output_type": "stream",
     "text": [
      "Epoch 1/50\n",
      "1/1 [==============================] - 0s 279ms/step - loss: 1.6858 - accuracy: 0.1875\n",
      "Epoch 2/50\n",
      "1/1 [==============================] - 0s 27ms/step - loss: 1.2971 - accuracy: 0.3750\n",
      "Epoch 3/50\n",
      "1/1 [==============================] - 0s 35ms/step - loss: 1.1489 - accuracy: 0.5000\n",
      "Epoch 4/50\n",
      "1/1 [==============================] - 0s 30ms/step - loss: 1.1020 - accuracy: 0.6250\n",
      "Epoch 5/50\n",
      "1/1 [==============================] - 0s 34ms/step - loss: 0.9855 - accuracy: 0.8125\n",
      "Epoch 6/50\n",
      "1/1 [==============================] - 0s 35ms/step - loss: 0.9133 - accuracy: 0.8750\n",
      "Epoch 7/50\n",
      "1/1 [==============================] - 0s 33ms/step - loss: 0.8633 - accuracy: 0.7500\n",
      "Epoch 8/50\n",
      "1/1 [==============================] - 0s 31ms/step - loss: 0.7702 - accuracy: 0.8750\n",
      "Epoch 9/50\n",
      "1/1 [==============================] - 0s 24ms/step - loss: 0.6902 - accuracy: 0.8750\n",
      "Epoch 10/50\n",
      "1/1 [==============================] - 0s 23ms/step - loss: 0.6233 - accuracy: 0.9375\n",
      "Epoch 11/50\n",
      "1/1 [==============================] - 0s 22ms/step - loss: 0.6047 - accuracy: 0.8750\n",
      "Epoch 12/50\n",
      "1/1 [==============================] - 0s 23ms/step - loss: 0.6011 - accuracy: 0.8750\n",
      "Epoch 13/50\n",
      "1/1 [==============================] - 0s 26ms/step - loss: 0.6701 - accuracy: 0.8750\n",
      "Epoch 14/50\n",
      "1/1 [==============================] - 0s 24ms/step - loss: 0.5705 - accuracy: 0.9375\n",
      "Epoch 15/50\n",
      "1/1 [==============================] - 0s 26ms/step - loss: 0.5265 - accuracy: 0.9375\n",
      "Epoch 16/50\n",
      "1/1 [==============================] - 0s 27ms/step - loss: 0.4867 - accuracy: 1.0000\n",
      "Epoch 17/50\n",
      "1/1 [==============================] - 0s 24ms/step - loss: 0.4727 - accuracy: 1.0000\n",
      "Epoch 18/50\n",
      "1/1 [==============================] - 0s 25ms/step - loss: 0.4808 - accuracy: 0.9375\n",
      "Epoch 19/50\n",
      "1/1 [==============================] - 0s 19ms/step - loss: 0.4696 - accuracy: 0.9375\n",
      "Epoch 20/50\n",
      "1/1 [==============================] - 0s 22ms/step - loss: 0.5104 - accuracy: 0.9375\n",
      "Epoch 21/50\n",
      "1/1 [==============================] - 0s 22ms/step - loss: 0.4922 - accuracy: 0.9375\n",
      "Epoch 22/50\n",
      "1/1 [==============================] - 0s 24ms/step - loss: 0.5196 - accuracy: 1.0000\n",
      "Epoch 23/50\n",
      "1/1 [==============================] - 0s 22ms/step - loss: 0.4145 - accuracy: 1.0000\n",
      "Epoch 24/50\n",
      "1/1 [==============================] - 0s 24ms/step - loss: 0.3906 - accuracy: 1.0000\n",
      "Epoch 25/50\n",
      "1/1 [==============================] - 0s 22ms/step - loss: 0.3775 - accuracy: 1.0000\n",
      "Epoch 26/50\n",
      "1/1 [==============================] - 0s 22ms/step - loss: 0.3699 - accuracy: 1.0000\n",
      "Epoch 27/50\n",
      "1/1 [==============================] - 0s 22ms/step - loss: 0.3633 - accuracy: 1.0000\n",
      "Epoch 28/50\n",
      "1/1 [==============================] - 0s 23ms/step - loss: 0.3599 - accuracy: 1.0000\n",
      "Epoch 29/50\n",
      "1/1 [==============================] - 0s 20ms/step - loss: 0.3578 - accuracy: 1.0000\n",
      "Epoch 30/50\n",
      "1/1 [==============================] - 0s 19ms/step - loss: 0.3551 - accuracy: 1.0000\n",
      "Epoch 31/50\n",
      "1/1 [==============================] - 0s 18ms/step - loss: 0.3515 - accuracy: 1.0000\n",
      "Epoch 32/50\n",
      "1/1 [==============================] - 0s 18ms/step - loss: 0.3499 - accuracy: 1.0000\n",
      "Epoch 33/50\n",
      "1/1 [==============================] - 0s 19ms/step - loss: 0.3452 - accuracy: 1.0000\n",
      "Epoch 34/50\n",
      "1/1 [==============================] - 0s 18ms/step - loss: 0.3479 - accuracy: 1.0000\n",
      "Epoch 35/50\n",
      "1/1 [==============================] - 0s 17ms/step - loss: 0.3423 - accuracy: 1.0000\n",
      "Epoch 36/50\n",
      "1/1 [==============================] - 0s 19ms/step - loss: 0.3382 - accuracy: 1.0000\n",
      "Epoch 37/50\n",
      "1/1 [==============================] - 0s 18ms/step - loss: 0.3294 - accuracy: 1.0000\n",
      "Epoch 38/50\n",
      "1/1 [==============================] - 0s 25ms/step - loss: 0.3195 - accuracy: 1.0000\n",
      "Epoch 39/50\n",
      "1/1 [==============================] - 0s 19ms/step - loss: 0.3144 - accuracy: 1.0000\n",
      "Epoch 40/50\n",
      "1/1 [==============================] - 0s 20ms/step - loss: 0.3090 - accuracy: 1.0000\n",
      "Epoch 41/50\n",
      "1/1 [==============================] - 0s 21ms/step - loss: 0.3061 - accuracy: 1.0000\n",
      "Epoch 42/50\n",
      "1/1 [==============================] - 0s 24ms/step - loss: 0.3031 - accuracy: 1.0000\n",
      "Epoch 43/50\n",
      "1/1 [==============================] - 0s 25ms/step - loss: 0.2999 - accuracy: 1.0000\n",
      "Epoch 44/50\n",
      "1/1 [==============================] - 0s 22ms/step - loss: 0.2963 - accuracy: 1.0000\n",
      "Epoch 45/50\n",
      "1/1 [==============================] - 0s 21ms/step - loss: 0.2930 - accuracy: 1.0000\n",
      "Epoch 46/50\n",
      "1/1 [==============================] - 0s 22ms/step - loss: 0.2901 - accuracy: 1.0000\n",
      "Epoch 47/50\n",
      "1/1 [==============================] - 0s 22ms/step - loss: 0.2873 - accuracy: 1.0000\n",
      "Epoch 48/50\n",
      "1/1 [==============================] - 0s 23ms/step - loss: 0.2846 - accuracy: 1.0000\n",
      "Epoch 49/50\n",
      "1/1 [==============================] - 0s 21ms/step - loss: 0.2817 - accuracy: 1.0000\n",
      "Epoch 50/50\n",
      "1/1 [==============================] - 0s 20ms/step - loss: 0.2788 - accuracy: 1.0000\n"
     ]
    }
   ],
   "source": [
    "# Train the model\n",
    "history = model.train(X_train, y_train, epochs=50, batch_size=32)"
   ]
  },
  {
   "cell_type": "code",
   "execution_count": 60,
   "metadata": {},
   "outputs": [
    {
     "name": "stdout",
     "output_type": "stream",
     "text": [
      "WARNING:tensorflow:5 out of the last 6 calls to <function Model.make_test_function.<locals>.test_function at 0x0000017FBD52F670> triggered tf.function retracing. Tracing is expensive and the excessive number of tracings could be due to (1) creating @tf.function repeatedly in a loop, (2) passing tensors with different shapes, (3) passing Python objects instead of tensors. For (1), please define your @tf.function outside of the loop. For (2), @tf.function has reduce_retracing=True option that can avoid unnecessary retracing. For (3), please refer to https://www.tensorflow.org/guide/function#controlling_retracing and https://www.tensorflow.org/api_docs/python/tf/function for  more details.\n",
      "1/1 [==============================] - 0s 68ms/step - loss: 1.7041 - accuracy: 0.2500\n",
      "Loss:  1.7041313648223877\n",
      "Accuracy:  0.25\n"
     ]
    },
    {
     "data": {
      "text/plain": [
       "[1.7041313648223877, 0.25]"
      ]
     },
     "execution_count": 60,
     "metadata": {},
     "output_type": "execute_result"
    }
   ],
   "source": [
    "model.evaluate(X_test, y_test)"
   ]
  },
  {
   "cell_type": "code",
   "execution_count": 61,
   "metadata": {},
   "outputs": [],
   "source": [
    "# model.model.save_weights('weights_jiaqi_bas_deplacement.hdf5')"
   ]
  },
  {
   "cell_type": "code",
   "execution_count": 63,
   "metadata": {},
   "outputs": [],
   "source": [
    "model.save_model('saved_models/model_classic_maxime_haut.h5')"
   ]
  }
 ],
 "metadata": {
  "kernelspec": {
   "display_name": "base",
   "language": "python",
   "name": "python3"
  },
  "language_info": {
   "codemirror_mode": {
    "name": "ipython",
    "version": 3
   },
   "file_extension": ".py",
   "mimetype": "text/x-python",
   "name": "python",
   "nbconvert_exporter": "python",
   "pygments_lexer": "ipython3",
   "version": "3.9.13"
  },
  "orig_nbformat": 4
 },
 "nbformat": 4,
 "nbformat_minor": 2
}
