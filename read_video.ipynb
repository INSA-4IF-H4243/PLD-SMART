{
 "cells": [
  {
   "cell_type": "code",
   "execution_count": 10,
   "metadata": {},
   "outputs": [],
   "source": [
    "import sys\n",
    "sys.path.append('d:\\\\4IF\\\\SMART\\\\projet\\\\Video')"
   ]
  },
  {
   "cell_type": "code",
   "execution_count": 11,
   "metadata": {},
   "outputs": [
    {
     "data": {
      "text/plain": [
       "['d:\\\\4IF\\\\SMART\\\\projet',\n",
       " 'c:\\\\Users\\\\bbbbb\\\\anaconda3\\\\python39.zip',\n",
       " 'c:\\\\Users\\\\bbbbb\\\\anaconda3\\\\DLLs',\n",
       " 'c:\\\\Users\\\\bbbbb\\\\anaconda3\\\\lib',\n",
       " 'c:\\\\Users\\\\bbbbb\\\\anaconda3',\n",
       " '',\n",
       " 'c:\\\\Users\\\\bbbbb\\\\anaconda3\\\\lib\\\\site-packages',\n",
       " 'c:\\\\Users\\\\bbbbb\\\\anaconda3\\\\lib\\\\site-packages\\\\win32',\n",
       " 'c:\\\\Users\\\\bbbbb\\\\anaconda3\\\\lib\\\\site-packages\\\\win32\\\\lib',\n",
       " 'c:\\\\Users\\\\bbbbb\\\\anaconda3\\\\lib\\\\site-packages\\\\Pythonwin',\n",
       " 'c:\\\\Users\\\\bbbbb\\\\anaconda3\\\\lib\\\\site-packages\\\\IPython\\\\extensions',\n",
       " 'C:\\\\Users\\\\bbbbb\\\\.ipython',\n",
       " 'd:\\\\4IF\\\\SMART\\\\projet\\\\Video',\n",
       " 'd:\\\\4IF\\\\SMART\\\\projet\\\\Video',\n",
       " 'd:\\\\4IF\\\\SMART\\\\projet\\\\Video']"
      ]
     },
     "execution_count": 11,
     "metadata": {},
     "output_type": "execute_result"
    }
   ],
   "source": [
    "sys.path"
   ]
  },
  {
   "cell_type": "code",
   "execution_count": 13,
   "metadata": {},
   "outputs": [],
   "source": [
    "from Video import Video"
   ]
  },
  {
   "cell_type": "code",
   "execution_count": 14,
   "metadata": {},
   "outputs": [],
   "source": [
    "vid = Video('video_input/video_input2.mp4')"
   ]
  },
  {
   "cell_type": "code",
   "execution_count": 16,
   "metadata": {},
   "outputs": [
    {
     "name": "stdout",
     "output_type": "stream",
     "text": [
      "(1080, 1920, 3)\n",
      "There are 929 frames in the video!\n"
     ]
    }
   ],
   "source": [
    "frames = vid.read_video()\n",
    "print(frames[928].shape)\n",
    "print(\"There are {} frames in the video!\".format(len(frames)))"
   ]
  }
 ],
 "metadata": {
  "kernelspec": {
   "display_name": "base",
   "language": "python",
   "name": "python3"
  },
  "language_info": {
   "codemirror_mode": {
    "name": "ipython",
    "version": 3
   },
   "file_extension": ".py",
   "mimetype": "text/x-python",
   "name": "python",
   "nbconvert_exporter": "python",
   "pygments_lexer": "ipython3",
   "version": "3.9.13"
  },
  "orig_nbformat": 4
 },
 "nbformat": 4,
 "nbformat_minor": 2
}
