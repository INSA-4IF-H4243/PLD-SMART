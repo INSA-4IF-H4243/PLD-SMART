{
 "cells": [
  {
   "cell_type": "code",
   "execution_count": 23,
   "metadata": {},
   "outputs": [],
   "source": [
    "import pandas as pd\n",
    "from sklearn.model_selection import train_test_split\n",
    "import numpy as np\n",
    "from smart.model import RFModelBalle\n",
    "from sklearn.preprocessing import StandardScaler, LabelEncoder\n",
    "import joblib\n",
    "from sklearn.metrics import confusion_matrix, classification_report"
   ]
  },
  {
   "cell_type": "code",
   "execution_count": 24,
   "metadata": {},
   "outputs": [
    {
     "data": {
      "text/html": [
       "<div>\n",
       "<style scoped>\n",
       "    .dataframe tbody tr th:only-of-type {\n",
       "        vertical-align: middle;\n",
       "    }\n",
       "\n",
       "    .dataframe tbody tr th {\n",
       "        vertical-align: top;\n",
       "    }\n",
       "\n",
       "    .dataframe thead th {\n",
       "        text-align: right;\n",
       "    }\n",
       "</style>\n",
       "<table border=\"1\" class=\"dataframe\">\n",
       "  <thead>\n",
       "    <tr style=\"text-align: right;\">\n",
       "      <th></th>\n",
       "      <th>0</th>\n",
       "      <th>1</th>\n",
       "      <th>2</th>\n",
       "      <th>3</th>\n",
       "      <th>4</th>\n",
       "      <th>5</th>\n",
       "      <th>6</th>\n",
       "      <th>7</th>\n",
       "      <th>8</th>\n",
       "      <th>9</th>\n",
       "      <th>...</th>\n",
       "      <th>81</th>\n",
       "      <th>82</th>\n",
       "      <th>83</th>\n",
       "      <th>84</th>\n",
       "      <th>85</th>\n",
       "      <th>86</th>\n",
       "      <th>87</th>\n",
       "      <th>88</th>\n",
       "      <th>89</th>\n",
       "      <th>90</th>\n",
       "    </tr>\n",
       "  </thead>\n",
       "  <tbody>\n",
       "    <tr>\n",
       "      <th>0</th>\n",
       "      <td>231.0</td>\n",
       "      <td>304.0</td>\n",
       "      <td>250.0</td>\n",
       "      <td>287.0</td>\n",
       "      <td>266.0</td>\n",
       "      <td>287.0</td>\n",
       "      <td>252.0</td>\n",
       "      <td>283.0</td>\n",
       "      <td>275.0</td>\n",
       "      <td>284.0</td>\n",
       "      <td>...</td>\n",
       "      <td>73.0</td>\n",
       "      <td>495.0</td>\n",
       "      <td>56.0</td>\n",
       "      <td>490.0</td>\n",
       "      <td>68.0</td>\n",
       "      <td>516.0</td>\n",
       "      <td>78.0</td>\n",
       "      <td>503.0</td>\n",
       "      <td>62.0</td>\n",
       "      <td>1</td>\n",
       "    </tr>\n",
       "    <tr>\n",
       "      <th>1</th>\n",
       "      <td>230.0</td>\n",
       "      <td>304.0</td>\n",
       "      <td>239.0</td>\n",
       "      <td>303.0</td>\n",
       "      <td>242.0</td>\n",
       "      <td>297.0</td>\n",
       "      <td>263.0</td>\n",
       "      <td>263.0</td>\n",
       "      <td>281.0</td>\n",
       "      <td>273.0</td>\n",
       "      <td>...</td>\n",
       "      <td>74.0</td>\n",
       "      <td>490.0</td>\n",
       "      <td>80.0</td>\n",
       "      <td>502.0</td>\n",
       "      <td>73.0</td>\n",
       "      <td>503.0</td>\n",
       "      <td>64.0</td>\n",
       "      <td>499.0</td>\n",
       "      <td>57.0</td>\n",
       "      <td>1</td>\n",
       "    </tr>\n",
       "    <tr>\n",
       "      <th>2</th>\n",
       "      <td>227.0</td>\n",
       "      <td>306.0</td>\n",
       "      <td>248.0</td>\n",
       "      <td>282.0</td>\n",
       "      <td>247.0</td>\n",
       "      <td>296.0</td>\n",
       "      <td>271.0</td>\n",
       "      <td>278.0</td>\n",
       "      <td>255.0</td>\n",
       "      <td>268.0</td>\n",
       "      <td>...</td>\n",
       "      <td>80.0</td>\n",
       "      <td>502.0</td>\n",
       "      <td>61.0</td>\n",
       "      <td>513.0</td>\n",
       "      <td>66.0</td>\n",
       "      <td>493.0</td>\n",
       "      <td>57.0</td>\n",
       "      <td>522.0</td>\n",
       "      <td>51.0</td>\n",
       "      <td>1</td>\n",
       "    </tr>\n",
       "    <tr>\n",
       "      <th>3</th>\n",
       "      <td>236.0</td>\n",
       "      <td>304.0</td>\n",
       "      <td>250.0</td>\n",
       "      <td>280.0</td>\n",
       "      <td>239.0</td>\n",
       "      <td>273.0</td>\n",
       "      <td>251.0</td>\n",
       "      <td>287.0</td>\n",
       "      <td>261.0</td>\n",
       "      <td>261.0</td>\n",
       "      <td>...</td>\n",
       "      <td>78.0</td>\n",
       "      <td>483.0</td>\n",
       "      <td>78.0</td>\n",
       "      <td>501.0</td>\n",
       "      <td>76.0</td>\n",
       "      <td>509.0</td>\n",
       "      <td>63.0</td>\n",
       "      <td>500.0</td>\n",
       "      <td>63.0</td>\n",
       "      <td>1</td>\n",
       "    </tr>\n",
       "    <tr>\n",
       "      <th>4</th>\n",
       "      <td>248.0</td>\n",
       "      <td>286.0</td>\n",
       "      <td>251.0</td>\n",
       "      <td>294.0</td>\n",
       "      <td>265.0</td>\n",
       "      <td>296.0</td>\n",
       "      <td>260.0</td>\n",
       "      <td>266.0</td>\n",
       "      <td>269.0</td>\n",
       "      <td>283.0</td>\n",
       "      <td>...</td>\n",
       "      <td>82.0</td>\n",
       "      <td>484.0</td>\n",
       "      <td>77.0</td>\n",
       "      <td>496.0</td>\n",
       "      <td>73.0</td>\n",
       "      <td>491.0</td>\n",
       "      <td>65.0</td>\n",
       "      <td>512.0</td>\n",
       "      <td>56.0</td>\n",
       "      <td>1</td>\n",
       "    </tr>\n",
       "    <tr>\n",
       "      <th>...</th>\n",
       "      <td>...</td>\n",
       "      <td>...</td>\n",
       "      <td>...</td>\n",
       "      <td>...</td>\n",
       "      <td>...</td>\n",
       "      <td>...</td>\n",
       "      <td>...</td>\n",
       "      <td>...</td>\n",
       "      <td>...</td>\n",
       "      <td>...</td>\n",
       "      <td>...</td>\n",
       "      <td>...</td>\n",
       "      <td>...</td>\n",
       "      <td>...</td>\n",
       "      <td>...</td>\n",
       "      <td>...</td>\n",
       "      <td>...</td>\n",
       "      <td>...</td>\n",
       "      <td>...</td>\n",
       "      <td>...</td>\n",
       "      <td>...</td>\n",
       "    </tr>\n",
       "    <tr>\n",
       "      <th>4306</th>\n",
       "      <td>544.5</td>\n",
       "      <td>231.0</td>\n",
       "      <td>533.5</td>\n",
       "      <td>216.0</td>\n",
       "      <td>542.0</td>\n",
       "      <td>226.0</td>\n",
       "      <td>542.0</td>\n",
       "      <td>213.0</td>\n",
       "      <td>534.5</td>\n",
       "      <td>213.5</td>\n",
       "      <td>...</td>\n",
       "      <td>250.0</td>\n",
       "      <td>584.0</td>\n",
       "      <td>259.0</td>\n",
       "      <td>567.5</td>\n",
       "      <td>284.0</td>\n",
       "      <td>573.0</td>\n",
       "      <td>279.0</td>\n",
       "      <td>577.0</td>\n",
       "      <td>288.0</td>\n",
       "      <td>13</td>\n",
       "    </tr>\n",
       "    <tr>\n",
       "      <th>4307</th>\n",
       "      <td>548.5</td>\n",
       "      <td>223.0</td>\n",
       "      <td>550.5</td>\n",
       "      <td>217.0</td>\n",
       "      <td>539.0</td>\n",
       "      <td>211.0</td>\n",
       "      <td>548.0</td>\n",
       "      <td>222.0</td>\n",
       "      <td>547.5</td>\n",
       "      <td>217.5</td>\n",
       "      <td>...</td>\n",
       "      <td>258.0</td>\n",
       "      <td>581.0</td>\n",
       "      <td>259.0</td>\n",
       "      <td>569.5</td>\n",
       "      <td>285.0</td>\n",
       "      <td>582.0</td>\n",
       "      <td>272.0</td>\n",
       "      <td>589.0</td>\n",
       "      <td>283.0</td>\n",
       "      <td>13</td>\n",
       "    </tr>\n",
       "    <tr>\n",
       "      <th>4308</th>\n",
       "      <td>549.5</td>\n",
       "      <td>215.0</td>\n",
       "      <td>537.5</td>\n",
       "      <td>229.0</td>\n",
       "      <td>546.0</td>\n",
       "      <td>207.0</td>\n",
       "      <td>539.0</td>\n",
       "      <td>216.0</td>\n",
       "      <td>539.5</td>\n",
       "      <td>217.5</td>\n",
       "      <td>...</td>\n",
       "      <td>245.0</td>\n",
       "      <td>573.0</td>\n",
       "      <td>260.0</td>\n",
       "      <td>574.5</td>\n",
       "      <td>292.0</td>\n",
       "      <td>582.0</td>\n",
       "      <td>284.0</td>\n",
       "      <td>589.0</td>\n",
       "      <td>282.0</td>\n",
       "      <td>13</td>\n",
       "    </tr>\n",
       "    <tr>\n",
       "      <th>4309</th>\n",
       "      <td>550.5</td>\n",
       "      <td>213.0</td>\n",
       "      <td>538.5</td>\n",
       "      <td>221.0</td>\n",
       "      <td>540.0</td>\n",
       "      <td>211.0</td>\n",
       "      <td>551.0</td>\n",
       "      <td>218.0</td>\n",
       "      <td>547.5</td>\n",
       "      <td>226.5</td>\n",
       "      <td>...</td>\n",
       "      <td>251.0</td>\n",
       "      <td>580.0</td>\n",
       "      <td>259.0</td>\n",
       "      <td>579.5</td>\n",
       "      <td>283.0</td>\n",
       "      <td>592.0</td>\n",
       "      <td>289.0</td>\n",
       "      <td>591.0</td>\n",
       "      <td>287.0</td>\n",
       "      <td>13</td>\n",
       "    </tr>\n",
       "    <tr>\n",
       "      <th>4310</th>\n",
       "      <td>550.5</td>\n",
       "      <td>221.0</td>\n",
       "      <td>531.5</td>\n",
       "      <td>212.0</td>\n",
       "      <td>544.0</td>\n",
       "      <td>211.0</td>\n",
       "      <td>547.0</td>\n",
       "      <td>213.0</td>\n",
       "      <td>540.5</td>\n",
       "      <td>216.5</td>\n",
       "      <td>...</td>\n",
       "      <td>261.0</td>\n",
       "      <td>566.0</td>\n",
       "      <td>274.0</td>\n",
       "      <td>579.5</td>\n",
       "      <td>296.0</td>\n",
       "      <td>588.0</td>\n",
       "      <td>273.0</td>\n",
       "      <td>576.0</td>\n",
       "      <td>273.0</td>\n",
       "      <td>13</td>\n",
       "    </tr>\n",
       "  </tbody>\n",
       "</table>\n",
       "<p>4311 rows × 91 columns</p>\n",
       "</div>"
      ],
      "text/plain": [
       "          0      1      2      3      4      5      6      7      8      9  \\\n",
       "0     231.0  304.0  250.0  287.0  266.0  287.0  252.0  283.0  275.0  284.0   \n",
       "1     230.0  304.0  239.0  303.0  242.0  297.0  263.0  263.0  281.0  273.0   \n",
       "2     227.0  306.0  248.0  282.0  247.0  296.0  271.0  278.0  255.0  268.0   \n",
       "3     236.0  304.0  250.0  280.0  239.0  273.0  251.0  287.0  261.0  261.0   \n",
       "4     248.0  286.0  251.0  294.0  265.0  296.0  260.0  266.0  269.0  283.0   \n",
       "...     ...    ...    ...    ...    ...    ...    ...    ...    ...    ...   \n",
       "4306  544.5  231.0  533.5  216.0  542.0  226.0  542.0  213.0  534.5  213.5   \n",
       "4307  548.5  223.0  550.5  217.0  539.0  211.0  548.0  222.0  547.5  217.5   \n",
       "4308  549.5  215.0  537.5  229.0  546.0  207.0  539.0  216.0  539.5  217.5   \n",
       "4309  550.5  213.0  538.5  221.0  540.0  211.0  551.0  218.0  547.5  226.5   \n",
       "4310  550.5  221.0  531.5  212.0  544.0  211.0  547.0  213.0  540.5  216.5   \n",
       "\n",
       "      ...     81     82     83     84     85     86     87     88     89  90  \n",
       "0     ...   73.0  495.0   56.0  490.0   68.0  516.0   78.0  503.0   62.0   1  \n",
       "1     ...   74.0  490.0   80.0  502.0   73.0  503.0   64.0  499.0   57.0   1  \n",
       "2     ...   80.0  502.0   61.0  513.0   66.0  493.0   57.0  522.0   51.0   1  \n",
       "3     ...   78.0  483.0   78.0  501.0   76.0  509.0   63.0  500.0   63.0   1  \n",
       "4     ...   82.0  484.0   77.0  496.0   73.0  491.0   65.0  512.0   56.0   1  \n",
       "...   ...    ...    ...    ...    ...    ...    ...    ...    ...    ...  ..  \n",
       "4306  ...  250.0  584.0  259.0  567.5  284.0  573.0  279.0  577.0  288.0  13  \n",
       "4307  ...  258.0  581.0  259.0  569.5  285.0  582.0  272.0  589.0  283.0  13  \n",
       "4308  ...  245.0  573.0  260.0  574.5  292.0  582.0  284.0  589.0  282.0  13  \n",
       "4309  ...  251.0  580.0  259.0  579.5  283.0  592.0  289.0  591.0  287.0  13  \n",
       "4310  ...  261.0  566.0  274.0  579.5  296.0  588.0  273.0  576.0  273.0  13  \n",
       "\n",
       "[4311 rows x 91 columns]"
      ]
     },
     "execution_count": 24,
     "metadata": {},
     "output_type": "execute_result"
    }
   ],
   "source": [
    "df = pd.read_csv('../trajectoire/datasetsimple.csv')\n",
    "df"
   ]
  },
  {
   "cell_type": "code",
   "execution_count": 38,
   "metadata": {},
   "outputs": [
    {
     "data": {
      "text/plain": [
       "<smart.model.RFModelBalle.RFModelBalle at 0x1ed1e6be7d0>"
      ]
     },
     "execution_count": 38,
     "metadata": {},
     "output_type": "execute_result"
    }
   ],
   "source": [
    "# Step 1: load the model\n",
    "model_balle = RFModelBalle.construct_model(max_depth = 8, n_estimators = 20)\n",
    "model_balle"
   ]
  },
  {
   "cell_type": "code",
   "execution_count": 39,
   "metadata": {},
   "outputs": [
    {
     "data": {
      "text/plain": [
       "0        1\n",
       "1        1\n",
       "2        1\n",
       "3        1\n",
       "4        1\n",
       "        ..\n",
       "4306    13\n",
       "4307    13\n",
       "4308    13\n",
       "4309    13\n",
       "4310    13\n",
       "Name: 90, Length: 4311, dtype: int64"
      ]
     },
     "execution_count": 39,
     "metadata": {},
     "output_type": "execute_result"
    }
   ],
   "source": [
    "# Step 2: Read the data\n",
    "X = df.drop(['90'], axis=1)\n",
    "y = df['90']\n",
    "y"
   ]
  },
  {
   "cell_type": "code",
   "execution_count": 40,
   "metadata": {},
   "outputs": [],
   "source": [
    "# Step 3: Normalize X and encode y \n",
    "possible_outputs = [ 1,  3,  4,  6,  7,  8, 10, 11, 12,13]"
   ]
  },
  {
   "cell_type": "code",
   "execution_count": 41,
   "metadata": {},
   "outputs": [],
   "source": [
    "scaler = StandardScaler()\n",
    "encoder = LabelEncoder()"
   ]
  },
  {
   "cell_type": "code",
   "execution_count": 42,
   "metadata": {},
   "outputs": [
    {
     "data": {
      "text/plain": [
       "array([0, 0, 0, ..., 9, 9, 9], dtype=int64)"
      ]
     },
     "execution_count": 42,
     "metadata": {},
     "output_type": "execute_result"
    }
   ],
   "source": [
    "X = scaler.fit_transform(X)\n",
    "encoder.fit(possible_outputs)\n",
    "y = encoder.transform(y)\n",
    "y"
   ]
  },
  {
   "cell_type": "code",
   "execution_count": 43,
   "metadata": {},
   "outputs": [],
   "source": [
    "X_train, X_test, y_train, y_test = model_balle.train_test_split(X, y)"
   ]
  },
  {
   "cell_type": "code",
   "execution_count": 44,
   "metadata": {},
   "outputs": [],
   "source": [
    "\n",
    "model_balle.fit(X_train, y_train)"
   ]
  },
  {
   "cell_type": "code",
   "execution_count": 45,
   "metadata": {},
   "outputs": [
    {
     "data": {
      "text/plain": [
       "0.9990721410345628"
      ]
     },
     "execution_count": 45,
     "metadata": {},
     "output_type": "execute_result"
    }
   ],
   "source": [
    "# Step 4: Evaluate the model\n",
    "score = model_balle.evaluate(X, y)\n",
    "score"
   ]
  },
  {
   "cell_type": "code",
   "execution_count": 50,
   "metadata": {},
   "outputs": [],
   "source": [
    "model_balle.save_model('../saved_models/model_balle_1.joblib')"
   ]
  },
  {
   "cell_type": "code",
   "execution_count": null,
   "metadata": {},
   "outputs": [],
   "source": [
    "df_test = pd.read_csv('../trajectoire/dataset.csv')"
   ]
  },
  {
   "cell_type": "code",
   "execution_count": 46,
   "metadata": {},
   "outputs": [
    {
     "data": {
      "text/plain": [
       "(array([0, 0, 0, ..., 9, 9, 9], dtype=int64),\n",
       " array([0, 0, 0, ..., 9, 9, 9], dtype=int64))"
      ]
     },
     "execution_count": 46,
     "metadata": {},
     "output_type": "execute_result"
    }
   ],
   "source": [
    "# Step 5: Predict\n",
    "y_pred = model_balle.predict(X)\n",
    "y_pred, y"
   ]
  },
  {
   "cell_type": "code",
   "execution_count": 47,
   "metadata": {},
   "outputs": [
    {
     "data": {
      "text/plain": [
       "array([[1273,    0,    0,    0,    0,    0,    0,    0,    0,    0],\n",
       "       [   0,  408,    0,    0,    0,    0,    0,    0,    0,    0],\n",
       "       [   0,    0,  408,    0,    0,    0,    0,    0,    0,    0],\n",
       "       [   0,    0,    0,  408,    0,    0,    0,    0,    0,    0],\n",
       "       [   0,    0,    0,    0,  204,    0,    0,    0,    0,    0],\n",
       "       [   0,    0,    0,    0,    0,  153,    0,    0,    0,    0],\n",
       "       [   0,    0,    0,    0,    0,    0,  510,    0,    0,    0],\n",
       "       [   0,    0,    0,    0,    0,    0,    0,  306,    0,    0],\n",
       "       [   0,    0,    0,    0,    0,    0,    0,    0,  306,    0],\n",
       "       [   3,    0,    1,    0,    0,    0,    0,    0,    0,  331]],\n",
       "      dtype=int64)"
      ]
     },
     "execution_count": 47,
     "metadata": {},
     "output_type": "execute_result"
    }
   ],
   "source": [
    "# Confusion matrix\n",
    "confusion_matrix(y, y_pred)"
   ]
  },
  {
   "cell_type": "code",
   "execution_count": 34,
   "metadata": {},
   "outputs": [
    {
     "name": "stdout",
     "output_type": "stream",
     "text": [
      "              precision    recall  f1-score   support\n",
      "\n",
      "           0       0.74      0.42      0.54        33\n",
      "           1       0.00      0.00      0.00         0\n",
      "           2       0.00      0.00      0.00         0\n",
      "           3       0.00      0.00      0.00         6\n",
      "           4       0.33      1.00      0.50         1\n",
      "           5       0.00      0.00      0.00         0\n",
      "           6       0.46      0.30      0.36        20\n",
      "           7       0.00      0.00      0.00         0\n",
      "           8       0.67      1.00      0.80         2\n",
      "\n",
      "    accuracy                           0.37        62\n",
      "   macro avg       0.24      0.30      0.24        62\n",
      "weighted avg       0.57      0.37      0.44        62\n",
      "\n"
     ]
    },
    {
     "name": "stderr",
     "output_type": "stream",
     "text": [
      "c:\\Users\\bbbbb\\anaconda3\\lib\\site-packages\\sklearn\\metrics\\_classification.py:1318: UndefinedMetricWarning: Recall and F-score are ill-defined and being set to 0.0 in labels with no true samples. Use `zero_division` parameter to control this behavior.\n",
      "  _warn_prf(average, modifier, msg_start, len(result))\n",
      "c:\\Users\\bbbbb\\anaconda3\\lib\\site-packages\\sklearn\\metrics\\_classification.py:1318: UndefinedMetricWarning: Recall and F-score are ill-defined and being set to 0.0 in labels with no true samples. Use `zero_division` parameter to control this behavior.\n",
      "  _warn_prf(average, modifier, msg_start, len(result))\n",
      "c:\\Users\\bbbbb\\anaconda3\\lib\\site-packages\\sklearn\\metrics\\_classification.py:1318: UndefinedMetricWarning: Recall and F-score are ill-defined and being set to 0.0 in labels with no true samples. Use `zero_division` parameter to control this behavior.\n",
      "  _warn_prf(average, modifier, msg_start, len(result))\n"
     ]
    }
   ],
   "source": [
    "print(classification_report(y, y_pred))"
   ]
  }
 ],
 "metadata": {
  "kernelspec": {
   "display_name": "base",
   "language": "python",
   "name": "python3"
  },
  "language_info": {
   "codemirror_mode": {
    "name": "ipython",
    "version": 3
   },
   "file_extension": ".py",
   "mimetype": "text/x-python",
   "name": "python",
   "nbconvert_exporter": "python",
   "pygments_lexer": "ipython3",
   "version": "3.10.9"
  },
  "orig_nbformat": 4
 },
 "nbformat": 4,
 "nbformat_minor": 2
}
