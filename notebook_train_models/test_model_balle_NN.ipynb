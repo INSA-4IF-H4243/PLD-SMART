{
 "cells": [
  {
   "cell_type": "code",
   "execution_count": 1,
   "metadata": {},
   "outputs": [],
   "source": [
    "from smart.model import NNModelBalle\n",
    "import pandas as pd\n",
    "import numpy as np\n",
    "from sklearn.preprocessing import LabelEncoder, StandardScaler\n",
    "from sklearn.metrics import confusion_matrix, classification_report"
   ]
  },
  {
   "attachments": {},
   "cell_type": "markdown",
   "metadata": {},
   "source": [
    "# Read data"
   ]
  },
  {
   "cell_type": "code",
   "execution_count": 2,
   "metadata": {},
   "outputs": [
    {
     "data": {
      "text/html": [
       "<div>\n",
       "<style scoped>\n",
       "    .dataframe tbody tr th:only-of-type {\n",
       "        vertical-align: middle;\n",
       "    }\n",
       "\n",
       "    .dataframe tbody tr th {\n",
       "        vertical-align: top;\n",
       "    }\n",
       "\n",
       "    .dataframe thead th {\n",
       "        text-align: right;\n",
       "    }\n",
       "</style>\n",
       "<table border=\"1\" class=\"dataframe\">\n",
       "  <thead>\n",
       "    <tr style=\"text-align: right;\">\n",
       "      <th></th>\n",
       "      <th>col1_0</th>\n",
       "      <th>col1_1</th>\n",
       "      <th>col2_0</th>\n",
       "      <th>col2_1</th>\n",
       "      <th>col3_0</th>\n",
       "      <th>col3_1</th>\n",
       "      <th>col4_0</th>\n",
       "      <th>col4_1</th>\n",
       "      <th>col5_0</th>\n",
       "      <th>col5_1</th>\n",
       "      <th>...</th>\n",
       "      <th>col41_1</th>\n",
       "      <th>col42_0</th>\n",
       "      <th>col42_1</th>\n",
       "      <th>col43_0</th>\n",
       "      <th>col43_1</th>\n",
       "      <th>col44_0</th>\n",
       "      <th>col44_1</th>\n",
       "      <th>col45_0</th>\n",
       "      <th>col45_1</th>\n",
       "      <th>col46</th>\n",
       "    </tr>\n",
       "  </thead>\n",
       "  <tbody>\n",
       "    <tr>\n",
       "      <th>0</th>\n",
       "      <td>264.0</td>\n",
       "      <td>269.5</td>\n",
       "      <td>264.0</td>\n",
       "      <td>269.5</td>\n",
       "      <td>264.0</td>\n",
       "      <td>269.5</td>\n",
       "      <td>264.0</td>\n",
       "      <td>269.5</td>\n",
       "      <td>264.0</td>\n",
       "      <td>269.5</td>\n",
       "      <td>...</td>\n",
       "      <td>196.5</td>\n",
       "      <td>187.5</td>\n",
       "      <td>202.0</td>\n",
       "      <td>188.0</td>\n",
       "      <td>202.0</td>\n",
       "      <td>184.0</td>\n",
       "      <td>208.0</td>\n",
       "      <td>184.0</td>\n",
       "      <td>208.0</td>\n",
       "      <td>2.0</td>\n",
       "    </tr>\n",
       "    <tr>\n",
       "      <th>1</th>\n",
       "      <td>248.5</td>\n",
       "      <td>78.5</td>\n",
       "      <td>248.5</td>\n",
       "      <td>78.5</td>\n",
       "      <td>248.5</td>\n",
       "      <td>78.5</td>\n",
       "      <td>349.5</td>\n",
       "      <td>187.5</td>\n",
       "      <td>315.5</td>\n",
       "      <td>150.5</td>\n",
       "      <td>...</td>\n",
       "      <td>82.5</td>\n",
       "      <td>212.0</td>\n",
       "      <td>77.5</td>\n",
       "      <td>212.0</td>\n",
       "      <td>77.5</td>\n",
       "      <td>212.0</td>\n",
       "      <td>77.5</td>\n",
       "      <td>212.0</td>\n",
       "      <td>77.5</td>\n",
       "      <td>2.0</td>\n",
       "    </tr>\n",
       "    <tr>\n",
       "      <th>2</th>\n",
       "      <td>144.5</td>\n",
       "      <td>84.5</td>\n",
       "      <td>144.0</td>\n",
       "      <td>84.5</td>\n",
       "      <td>144.5</td>\n",
       "      <td>84.5</td>\n",
       "      <td>145.5</td>\n",
       "      <td>83.5</td>\n",
       "      <td>217.5</td>\n",
       "      <td>76.5</td>\n",
       "      <td>...</td>\n",
       "      <td>237.0</td>\n",
       "      <td>293.0</td>\n",
       "      <td>237.0</td>\n",
       "      <td>293.0</td>\n",
       "      <td>237.0</td>\n",
       "      <td>293.0</td>\n",
       "      <td>237.0</td>\n",
       "      <td>293.0</td>\n",
       "      <td>237.0</td>\n",
       "      <td>2.0</td>\n",
       "    </tr>\n",
       "    <tr>\n",
       "      <th>3</th>\n",
       "      <td>375.5</td>\n",
       "      <td>203.0</td>\n",
       "      <td>377.5</td>\n",
       "      <td>206.5</td>\n",
       "      <td>379.5</td>\n",
       "      <td>210.0</td>\n",
       "      <td>380.5</td>\n",
       "      <td>214.0</td>\n",
       "      <td>380.0</td>\n",
       "      <td>214.0</td>\n",
       "      <td>...</td>\n",
       "      <td>292.5</td>\n",
       "      <td>371.5</td>\n",
       "      <td>291.0</td>\n",
       "      <td>371.5</td>\n",
       "      <td>291.0</td>\n",
       "      <td>371.5</td>\n",
       "      <td>291.0</td>\n",
       "      <td>371.5</td>\n",
       "      <td>291.0</td>\n",
       "      <td>2.0</td>\n",
       "    </tr>\n",
       "    <tr>\n",
       "      <th>4</th>\n",
       "      <td>268.0</td>\n",
       "      <td>175.0</td>\n",
       "      <td>268.0</td>\n",
       "      <td>175.0</td>\n",
       "      <td>268.0</td>\n",
       "      <td>175.0</td>\n",
       "      <td>268.0</td>\n",
       "      <td>175.0</td>\n",
       "      <td>268.0</td>\n",
       "      <td>175.0</td>\n",
       "      <td>...</td>\n",
       "      <td>79.5</td>\n",
       "      <td>370.0</td>\n",
       "      <td>85.5</td>\n",
       "      <td>365.0</td>\n",
       "      <td>92.5</td>\n",
       "      <td>394.5</td>\n",
       "      <td>52.0</td>\n",
       "      <td>394.5</td>\n",
       "      <td>52.0</td>\n",
       "      <td>2.0</td>\n",
       "    </tr>\n",
       "  </tbody>\n",
       "</table>\n",
       "<p>5 rows × 91 columns</p>\n",
       "</div>"
      ],
      "text/plain": [
       "   col1_0  col1_1  col2_0  col2_1  col3_0  col3_1  col4_0  col4_1  col5_0  \\\n",
       "0   264.0   269.5   264.0   269.5   264.0   269.5   264.0   269.5   264.0   \n",
       "1   248.5    78.5   248.5    78.5   248.5    78.5   349.5   187.5   315.5   \n",
       "2   144.5    84.5   144.0    84.5   144.5    84.5   145.5    83.5   217.5   \n",
       "3   375.5   203.0   377.5   206.5   379.5   210.0   380.5   214.0   380.0   \n",
       "4   268.0   175.0   268.0   175.0   268.0   175.0   268.0   175.0   268.0   \n",
       "\n",
       "   col5_1  ...  col41_1  col42_0  col42_1  col43_0  col43_1  col44_0  col44_1  \\\n",
       "0   269.5  ...    196.5    187.5    202.0    188.0    202.0    184.0    208.0   \n",
       "1   150.5  ...     82.5    212.0     77.5    212.0     77.5    212.0     77.5   \n",
       "2    76.5  ...    237.0    293.0    237.0    293.0    237.0    293.0    237.0   \n",
       "3   214.0  ...    292.5    371.5    291.0    371.5    291.0    371.5    291.0   \n",
       "4   175.0  ...     79.5    370.0     85.5    365.0     92.5    394.5     52.0   \n",
       "\n",
       "   col45_0  col45_1  col46  \n",
       "0    184.0    208.0    2.0  \n",
       "1    212.0     77.5    2.0  \n",
       "2    293.0    237.0    2.0  \n",
       "3    371.5    291.0    2.0  \n",
       "4    394.5     52.0    2.0  \n",
       "\n",
       "[5 rows x 91 columns]"
      ]
     },
     "execution_count": 2,
     "metadata": {},
     "output_type": "execute_result"
    }
   ],
   "source": [
    "df = pd.read_csv(\"../dataset/new_pos_test.csv\")\n",
    "df.head()"
   ]
  },
  {
   "cell_type": "code",
   "execution_count": 3,
   "metadata": {},
   "outputs": [
    {
     "name": "stdout",
     "output_type": "stream",
     "text": [
      "Model: \"sequential_9\"\n",
      "_________________________________________________________________\n",
      " Layer (type)                Output Shape              Param #   \n",
      "=================================================================\n",
      " dense_24 (Dense)            (None, 64)                5824      \n",
      "                                                                 \n",
      " dense_25 (Dense)            (None, 96)                6240      \n",
      "                                                                 \n",
      " dense_26 (Dense)            (None, 9)                 873       \n",
      "                                                                 \n",
      "=================================================================\n",
      "Total params: 12,937\n",
      "Trainable params: 12,937\n",
      "Non-trainable params: 0\n",
      "_________________________________________________________________\n"
     ]
    },
    {
     "data": {
      "text/plain": [
       "<smart.model.NNModelBalle.NNModelBalle at 0x226bd517c40>"
      ]
     },
     "execution_count": 3,
     "metadata": {},
     "output_type": "execute_result"
    }
   ],
   "source": [
    "# Step 1: Load model\n",
    "model_balle = NNModelBalle.load_model_from_path(\"../saved_models/model_balle_2.h5\")\n",
    "model_balle"
   ]
  },
  {
   "cell_type": "code",
   "execution_count": 4,
   "metadata": {},
   "outputs": [],
   "source": [
    "# Step 2: Read the data\n",
    "X = df.drop('col46', axis=1)\n",
    "y = df['col46']"
   ]
  },
  {
   "cell_type": "code",
   "execution_count": 5,
   "metadata": {},
   "outputs": [],
   "source": [
    "# Step 3: Normalize X and encode y \n",
    "possible_outputs = [ 2,  3,  4,  6,  7,  8, 10, 11, 12]"
   ]
  },
  {
   "cell_type": "code",
   "execution_count": 6,
   "metadata": {},
   "outputs": [],
   "source": [
    "scaler = StandardScaler()\n",
    "encoder = LabelEncoder()"
   ]
  },
  {
   "cell_type": "code",
   "execution_count": 7,
   "metadata": {},
   "outputs": [
    {
     "data": {
      "text/plain": [
       "array([0, 0, 0, 0, 0, 0, 0, 0, 0, 0, 0, 0, 0, 0, 0, 0, 0, 0, 0, 0, 0, 0,\n",
       "       0, 0, 0, 0, 0, 0, 0, 0, 0, 0, 0, 3, 3, 3, 3, 3, 3, 4, 6, 6, 6, 6,\n",
       "       6, 6, 6, 6, 6, 6, 6, 6, 6, 6, 6, 6, 6, 6, 6, 6, 8, 8], dtype=int64)"
      ]
     },
     "execution_count": 7,
     "metadata": {},
     "output_type": "execute_result"
    }
   ],
   "source": [
    "X = scaler.fit_transform(X)\n",
    "encoder.fit(possible_outputs)\n",
    "y = encoder.transform(y)\n",
    "y"
   ]
  },
  {
   "cell_type": "code",
   "execution_count": 8,
   "metadata": {},
   "outputs": [
    {
     "name": "stdout",
     "output_type": "stream",
     "text": [
      "2/2 [==============================] - 0s 4ms/step - loss: 7.3971 - sparse_categorical_accuracy: 0.3548\n",
      "Loss:  7.397058486938477\n",
      "Accuracy:  0.35483869910240173\n"
     ]
    }
   ],
   "source": [
    "# Step 4: Evaluate the model\n",
    "loss, accuracy = model_balle.evaluate(X, y)"
   ]
  },
  {
   "cell_type": "code",
   "execution_count": 9,
   "metadata": {},
   "outputs": [
    {
     "name": "stdout",
     "output_type": "stream",
     "text": [
      "2/2 [==============================] - 0s 999us/step\n"
     ]
    },
    {
     "data": {
      "text/plain": [
       "array([1, 0, 2, 7, 0, 6, 0, 0, 0, 2, 0, 7, 0, 0, 7, 1, 0, 7, 3, 7, 1, 0,\n",
       "       7, 4, 7, 2, 0, 0, 7, 0, 7, 0, 0, 1, 0, 1, 7, 5, 3, 8, 6, 5, 6, 7,\n",
       "       6, 0, 1, 5, 8, 7, 8, 7, 6, 1, 5, 7, 0, 7, 1, 7, 8, 8], dtype=int64)"
      ]
     },
     "execution_count": 9,
     "metadata": {},
     "output_type": "execute_result"
    }
   ],
   "source": [
    "# Step 5: Predict\n",
    "y_pred = model_balle.predict(X)\n",
    "y_pred"
   ]
  },
  {
   "cell_type": "code",
   "execution_count": 10,
   "metadata": {},
   "outputs": [
    {
     "data": {
      "text/plain": [
       "array([[15,  3,  3,  1,  1,  0,  1,  9,  0],\n",
       "       [ 0,  0,  0,  0,  0,  0,  0,  0,  0],\n",
       "       [ 0,  0,  0,  0,  0,  0,  0,  0,  0],\n",
       "       [ 1,  2,  0,  1,  0,  1,  0,  1,  0],\n",
       "       [ 0,  0,  0,  0,  0,  0,  0,  0,  1],\n",
       "       [ 0,  0,  0,  0,  0,  0,  0,  0,  0],\n",
       "       [ 2,  3,  0,  0,  0,  3,  4,  6,  2],\n",
       "       [ 0,  0,  0,  0,  0,  0,  0,  0,  0],\n",
       "       [ 0,  0,  0,  0,  0,  0,  0,  0,  2]], dtype=int64)"
      ]
     },
     "execution_count": 10,
     "metadata": {},
     "output_type": "execute_result"
    }
   ],
   "source": [
    "# Confusion matrix\n",
    "confusion_matrix(y, y_pred)"
   ]
  },
  {
   "cell_type": "code",
   "execution_count": 11,
   "metadata": {},
   "outputs": [
    {
     "name": "stdout",
     "output_type": "stream",
     "text": [
      "              precision    recall  f1-score   support\n",
      "\n",
      "           0       0.83      0.45      0.59        33\n",
      "           1       0.00      0.00      0.00         0\n",
      "           2       0.00      0.00      0.00         0\n",
      "           3       0.50      0.17      0.25         6\n",
      "           4       0.00      0.00      0.00         1\n",
      "           5       0.00      0.00      0.00         0\n",
      "           6       0.80      0.20      0.32        20\n",
      "           7       0.00      0.00      0.00         0\n",
      "           8       0.40      1.00      0.57         2\n",
      "\n",
      "    accuracy                           0.35        62\n",
      "   macro avg       0.28      0.20      0.19        62\n",
      "weighted avg       0.76      0.35      0.46        62\n",
      "\n"
     ]
    },
    {
     "name": "stderr",
     "output_type": "stream",
     "text": [
      "c:\\Users\\bbbbb\\anaconda3\\lib\\site-packages\\sklearn\\metrics\\_classification.py:1318: UndefinedMetricWarning: Recall and F-score are ill-defined and being set to 0.0 in labels with no true samples. Use `zero_division` parameter to control this behavior.\n",
      "  _warn_prf(average, modifier, msg_start, len(result))\n",
      "c:\\Users\\bbbbb\\anaconda3\\lib\\site-packages\\sklearn\\metrics\\_classification.py:1318: UndefinedMetricWarning: Recall and F-score are ill-defined and being set to 0.0 in labels with no true samples. Use `zero_division` parameter to control this behavior.\n",
      "  _warn_prf(average, modifier, msg_start, len(result))\n",
      "c:\\Users\\bbbbb\\anaconda3\\lib\\site-packages\\sklearn\\metrics\\_classification.py:1318: UndefinedMetricWarning: Recall and F-score are ill-defined and being set to 0.0 in labels with no true samples. Use `zero_division` parameter to control this behavior.\n",
      "  _warn_prf(average, modifier, msg_start, len(result))\n"
     ]
    }
   ],
   "source": [
    "print(classification_report(y, y_pred))"
   ]
  }
 ],
 "metadata": {
  "kernelspec": {
   "display_name": "base",
   "language": "python",
   "name": "python3"
  },
  "language_info": {
   "codemirror_mode": {
    "name": "ipython",
    "version": 3
   },
   "file_extension": ".py",
   "mimetype": "text/x-python",
   "name": "python",
   "nbconvert_exporter": "python",
   "pygments_lexer": "ipython3",
   "version": "3.9.13"
  },
  "orig_nbformat": 4
 },
 "nbformat": 4,
 "nbformat_minor": 2
}
