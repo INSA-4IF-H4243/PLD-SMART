{
 "cells": [
  {
   "cell_type": "code",
   "execution_count": 1,
   "metadata": {},
   "outputs": [],
   "source": [
    "from smart.model import NNModelBalle\n",
    "import pandas as pd\n",
    "import numpy as np\n",
    "from sklearn.preprocessing import LabelEncoder, StandardScaler\n",
    "from sklearn.metrics import confusion_matrix, classification_report"
   ]
  },
  {
   "attachments": {},
   "cell_type": "markdown",
   "metadata": {},
   "source": [
    "# Read data"
   ]
  },
  {
   "cell_type": "code",
   "execution_count": 3,
   "metadata": {},
   "outputs": [
    {
     "data": {
      "text/html": [
       "<div>\n",
       "<style scoped>\n",
       "    .dataframe tbody tr th:only-of-type {\n",
       "        vertical-align: middle;\n",
       "    }\n",
       "\n",
       "    .dataframe tbody tr th {\n",
       "        vertical-align: top;\n",
       "    }\n",
       "\n",
       "    .dataframe thead th {\n",
       "        text-align: right;\n",
       "    }\n",
       "</style>\n",
       "<table border=\"1\" class=\"dataframe\">\n",
       "  <thead>\n",
       "    <tr style=\"text-align: right;\">\n",
       "      <th></th>\n",
       "      <th>0</th>\n",
       "      <th>1</th>\n",
       "      <th>2</th>\n",
       "      <th>3</th>\n",
       "      <th>4</th>\n",
       "      <th>5</th>\n",
       "      <th>6</th>\n",
       "      <th>7</th>\n",
       "      <th>8</th>\n",
       "      <th>9</th>\n",
       "      <th>...</th>\n",
       "      <th>81</th>\n",
       "      <th>82</th>\n",
       "      <th>83</th>\n",
       "      <th>84</th>\n",
       "      <th>85</th>\n",
       "      <th>86</th>\n",
       "      <th>87</th>\n",
       "      <th>88</th>\n",
       "      <th>89</th>\n",
       "      <th>90</th>\n",
       "    </tr>\n",
       "  </thead>\n",
       "  <tbody>\n",
       "    <tr>\n",
       "      <th>0</th>\n",
       "      <td>231.0</td>\n",
       "      <td>304.0</td>\n",
       "      <td>250.0</td>\n",
       "      <td>287.0</td>\n",
       "      <td>266.0</td>\n",
       "      <td>287.0</td>\n",
       "      <td>252.0</td>\n",
       "      <td>283.0</td>\n",
       "      <td>275.0</td>\n",
       "      <td>284.0</td>\n",
       "      <td>...</td>\n",
       "      <td>73.0</td>\n",
       "      <td>495.0</td>\n",
       "      <td>56.0</td>\n",
       "      <td>490.0</td>\n",
       "      <td>68.0</td>\n",
       "      <td>516.0</td>\n",
       "      <td>78.0</td>\n",
       "      <td>503.0</td>\n",
       "      <td>62.0</td>\n",
       "      <td>1</td>\n",
       "    </tr>\n",
       "    <tr>\n",
       "      <th>1</th>\n",
       "      <td>230.0</td>\n",
       "      <td>304.0</td>\n",
       "      <td>239.0</td>\n",
       "      <td>303.0</td>\n",
       "      <td>242.0</td>\n",
       "      <td>297.0</td>\n",
       "      <td>263.0</td>\n",
       "      <td>263.0</td>\n",
       "      <td>281.0</td>\n",
       "      <td>273.0</td>\n",
       "      <td>...</td>\n",
       "      <td>74.0</td>\n",
       "      <td>490.0</td>\n",
       "      <td>80.0</td>\n",
       "      <td>502.0</td>\n",
       "      <td>73.0</td>\n",
       "      <td>503.0</td>\n",
       "      <td>64.0</td>\n",
       "      <td>499.0</td>\n",
       "      <td>57.0</td>\n",
       "      <td>1</td>\n",
       "    </tr>\n",
       "    <tr>\n",
       "      <th>2</th>\n",
       "      <td>227.0</td>\n",
       "      <td>306.0</td>\n",
       "      <td>248.0</td>\n",
       "      <td>282.0</td>\n",
       "      <td>247.0</td>\n",
       "      <td>296.0</td>\n",
       "      <td>271.0</td>\n",
       "      <td>278.0</td>\n",
       "      <td>255.0</td>\n",
       "      <td>268.0</td>\n",
       "      <td>...</td>\n",
       "      <td>80.0</td>\n",
       "      <td>502.0</td>\n",
       "      <td>61.0</td>\n",
       "      <td>513.0</td>\n",
       "      <td>66.0</td>\n",
       "      <td>493.0</td>\n",
       "      <td>57.0</td>\n",
       "      <td>522.0</td>\n",
       "      <td>51.0</td>\n",
       "      <td>1</td>\n",
       "    </tr>\n",
       "    <tr>\n",
       "      <th>3</th>\n",
       "      <td>236.0</td>\n",
       "      <td>304.0</td>\n",
       "      <td>250.0</td>\n",
       "      <td>280.0</td>\n",
       "      <td>239.0</td>\n",
       "      <td>273.0</td>\n",
       "      <td>251.0</td>\n",
       "      <td>287.0</td>\n",
       "      <td>261.0</td>\n",
       "      <td>261.0</td>\n",
       "      <td>...</td>\n",
       "      <td>78.0</td>\n",
       "      <td>483.0</td>\n",
       "      <td>78.0</td>\n",
       "      <td>501.0</td>\n",
       "      <td>76.0</td>\n",
       "      <td>509.0</td>\n",
       "      <td>63.0</td>\n",
       "      <td>500.0</td>\n",
       "      <td>63.0</td>\n",
       "      <td>1</td>\n",
       "    </tr>\n",
       "    <tr>\n",
       "      <th>4</th>\n",
       "      <td>248.0</td>\n",
       "      <td>286.0</td>\n",
       "      <td>251.0</td>\n",
       "      <td>294.0</td>\n",
       "      <td>265.0</td>\n",
       "      <td>296.0</td>\n",
       "      <td>260.0</td>\n",
       "      <td>266.0</td>\n",
       "      <td>269.0</td>\n",
       "      <td>283.0</td>\n",
       "      <td>...</td>\n",
       "      <td>82.0</td>\n",
       "      <td>484.0</td>\n",
       "      <td>77.0</td>\n",
       "      <td>496.0</td>\n",
       "      <td>73.0</td>\n",
       "      <td>491.0</td>\n",
       "      <td>65.0</td>\n",
       "      <td>512.0</td>\n",
       "      <td>56.0</td>\n",
       "      <td>1</td>\n",
       "    </tr>\n",
       "  </tbody>\n",
       "</table>\n",
       "<p>5 rows × 91 columns</p>\n",
       "</div>"
      ],
      "text/plain": [
       "       0      1      2      3      4      5      6      7      8      9  ...  \\\n",
       "0  231.0  304.0  250.0  287.0  266.0  287.0  252.0  283.0  275.0  284.0  ...   \n",
       "1  230.0  304.0  239.0  303.0  242.0  297.0  263.0  263.0  281.0  273.0  ...   \n",
       "2  227.0  306.0  248.0  282.0  247.0  296.0  271.0  278.0  255.0  268.0  ...   \n",
       "3  236.0  304.0  250.0  280.0  239.0  273.0  251.0  287.0  261.0  261.0  ...   \n",
       "4  248.0  286.0  251.0  294.0  265.0  296.0  260.0  266.0  269.0  283.0  ...   \n",
       "\n",
       "     81     82    83     84    85     86    87     88    89  90  \n",
       "0  73.0  495.0  56.0  490.0  68.0  516.0  78.0  503.0  62.0   1  \n",
       "1  74.0  490.0  80.0  502.0  73.0  503.0  64.0  499.0  57.0   1  \n",
       "2  80.0  502.0  61.0  513.0  66.0  493.0  57.0  522.0  51.0   1  \n",
       "3  78.0  483.0  78.0  501.0  76.0  509.0  63.0  500.0  63.0   1  \n",
       "4  82.0  484.0  77.0  496.0  73.0  491.0  65.0  512.0  56.0   1  \n",
       "\n",
       "[5 rows x 91 columns]"
      ]
     },
     "execution_count": 3,
     "metadata": {},
     "output_type": "execute_result"
    }
   ],
   "source": [
    "df = pd.read_csv(\"../trajectoire/datasetsimple.csv\")\n",
    "df.head()"
   ]
  },
  {
   "cell_type": "code",
   "execution_count": 3,
   "metadata": {},
   "outputs": [
    {
     "name": "stdout",
     "output_type": "stream",
     "text": [
      "Model: \"sequential_9\"\n",
      "_________________________________________________________________\n",
      " Layer (type)                Output Shape              Param #   \n",
      "=================================================================\n",
      " dense_24 (Dense)            (None, 64)                5824      \n",
      "                                                                 \n",
      " dense_25 (Dense)            (None, 96)                6240      \n",
      "                                                                 \n",
      " dense_26 (Dense)            (None, 9)                 873       \n",
      "                                                                 \n",
      "=================================================================\n",
      "Total params: 12,937\n",
      "Trainable params: 12,937\n",
      "Non-trainable params: 0\n",
      "_________________________________________________________________\n"
     ]
    },
    {
     "data": {
      "text/plain": [
       "<smart.model.NNModelBalle.NNModelBalle at 0x226bd517c40>"
      ]
     },
     "execution_count": 3,
     "metadata": {},
     "output_type": "execute_result"
    }
   ],
   "source": [
    "# Step 1: Load model\n",
    "model_balle = NNModelBalle.construct_model()\n",
    "model_balle"
   ]
  },
  {
   "cell_type": "code",
   "execution_count": 4,
   "metadata": {},
   "outputs": [],
   "source": [
    "# Step 2: Read the data\n",
    "X = df.drop('col46', axis=1)\n",
    "y = df['col46']"
   ]
  },
  {
   "cell_type": "code",
   "execution_count": 5,
   "metadata": {},
   "outputs": [],
   "source": [
    "# Step 3: Normalize X and encode y \n",
    "possible_outputs = [ 2,  3,  4,  6,  7,  8, 10, 11, 12]"
   ]
  },
  {
   "cell_type": "code",
   "execution_count": 6,
   "metadata": {},
   "outputs": [],
   "source": [
    "scaler = StandardScaler()\n",
    "encoder = LabelEncoder()"
   ]
  },
  {
   "cell_type": "code",
   "execution_count": 7,
   "metadata": {},
   "outputs": [
    {
     "data": {
      "text/plain": [
       "array([0, 0, 0, 0, 0, 0, 0, 0, 0, 0, 0, 0, 0, 0, 0, 0, 0, 0, 0, 0, 0, 0,\n",
       "       0, 0, 0, 0, 0, 0, 0, 0, 0, 0, 0, 3, 3, 3, 3, 3, 3, 4, 6, 6, 6, 6,\n",
       "       6, 6, 6, 6, 6, 6, 6, 6, 6, 6, 6, 6, 6, 6, 6, 6, 8, 8], dtype=int64)"
      ]
     },
     "execution_count": 7,
     "metadata": {},
     "output_type": "execute_result"
    }
   ],
   "source": [
    "X = scaler.fit_transform(X)\n",
    "encoder.fit(possible_outputs)\n",
    "y = encoder.transform(y)\n",
    "y"
   ]
  },
  {
   "cell_type": "code",
   "execution_count": 8,
   "metadata": {},
   "outputs": [
    {
     "name": "stdout",
     "output_type": "stream",
     "text": [
      "2/2 [==============================] - 0s 4ms/step - loss: 7.3971 - sparse_categorical_accuracy: 0.3548\n",
      "Loss:  7.397058486938477\n",
      "Accuracy:  0.35483869910240173\n"
     ]
    }
   ],
   "source": [
    "# Step 4: Evaluate the model\n",
    "loss, accuracy = model_balle.evaluate(X, y)"
   ]
  },
  {
   "cell_type": "code",
   "execution_count": 9,
   "metadata": {},
   "outputs": [
    {
     "name": "stdout",
     "output_type": "stream",
     "text": [
      "2/2 [==============================] - 0s 999us/step\n"
     ]
    },
    {
     "data": {
      "text/plain": [
       "array([1, 0, 2, 7, 0, 6, 0, 0, 0, 2, 0, 7, 0, 0, 7, 1, 0, 7, 3, 7, 1, 0,\n",
       "       7, 4, 7, 2, 0, 0, 7, 0, 7, 0, 0, 1, 0, 1, 7, 5, 3, 8, 6, 5, 6, 7,\n",
       "       6, 0, 1, 5, 8, 7, 8, 7, 6, 1, 5, 7, 0, 7, 1, 7, 8, 8], dtype=int64)"
      ]
     },
     "execution_count": 9,
     "metadata": {},
     "output_type": "execute_result"
    }
   ],
   "source": [
    "# Step 5: Predict\n",
    "y_pred = model_balle.predict(X)\n",
    "y_pred"
   ]
  },
  {
   "cell_type": "code",
   "execution_count": 10,
   "metadata": {},
   "outputs": [
    {
     "data": {
      "text/plain": [
       "array([[15,  3,  3,  1,  1,  0,  1,  9,  0],\n",
       "       [ 0,  0,  0,  0,  0,  0,  0,  0,  0],\n",
       "       [ 0,  0,  0,  0,  0,  0,  0,  0,  0],\n",
       "       [ 1,  2,  0,  1,  0,  1,  0,  1,  0],\n",
       "       [ 0,  0,  0,  0,  0,  0,  0,  0,  1],\n",
       "       [ 0,  0,  0,  0,  0,  0,  0,  0,  0],\n",
       "       [ 2,  3,  0,  0,  0,  3,  4,  6,  2],\n",
       "       [ 0,  0,  0,  0,  0,  0,  0,  0,  0],\n",
       "       [ 0,  0,  0,  0,  0,  0,  0,  0,  2]], dtype=int64)"
      ]
     },
     "execution_count": 10,
     "metadata": {},
     "output_type": "execute_result"
    }
   ],
   "source": [
    "# Confusion matrix\n",
    "confusion_matrix(y, y_pred)"
   ]
  },
  {
   "cell_type": "code",
   "execution_count": 11,
   "metadata": {},
   "outputs": [
    {
     "name": "stdout",
     "output_type": "stream",
     "text": [
      "              precision    recall  f1-score   support\n",
      "\n",
      "           0       0.83      0.45      0.59        33\n",
      "           1       0.00      0.00      0.00         0\n",
      "           2       0.00      0.00      0.00         0\n",
      "           3       0.50      0.17      0.25         6\n",
      "           4       0.00      0.00      0.00         1\n",
      "           5       0.00      0.00      0.00         0\n",
      "           6       0.80      0.20      0.32        20\n",
      "           7       0.00      0.00      0.00         0\n",
      "           8       0.40      1.00      0.57         2\n",
      "\n",
      "    accuracy                           0.35        62\n",
      "   macro avg       0.28      0.20      0.19        62\n",
      "weighted avg       0.76      0.35      0.46        62\n",
      "\n"
     ]
    },
    {
     "name": "stderr",
     "output_type": "stream",
     "text": [
      "c:\\Users\\bbbbb\\anaconda3\\lib\\site-packages\\sklearn\\metrics\\_classification.py:1318: UndefinedMetricWarning: Recall and F-score are ill-defined and being set to 0.0 in labels with no true samples. Use `zero_division` parameter to control this behavior.\n",
      "  _warn_prf(average, modifier, msg_start, len(result))\n",
      "c:\\Users\\bbbbb\\anaconda3\\lib\\site-packages\\sklearn\\metrics\\_classification.py:1318: UndefinedMetricWarning: Recall and F-score are ill-defined and being set to 0.0 in labels with no true samples. Use `zero_division` parameter to control this behavior.\n",
      "  _warn_prf(average, modifier, msg_start, len(result))\n",
      "c:\\Users\\bbbbb\\anaconda3\\lib\\site-packages\\sklearn\\metrics\\_classification.py:1318: UndefinedMetricWarning: Recall and F-score are ill-defined and being set to 0.0 in labels with no true samples. Use `zero_division` parameter to control this behavior.\n",
      "  _warn_prf(average, modifier, msg_start, len(result))\n"
     ]
    }
   ],
   "source": [
    "print(classification_report(y, y_pred))"
   ]
  }
 ],
 "metadata": {
  "kernelspec": {
   "display_name": "base",
   "language": "python",
   "name": "python3"
  },
  "language_info": {
   "codemirror_mode": {
    "name": "ipython",
    "version": 3
   },
   "file_extension": ".py",
   "mimetype": "text/x-python",
   "name": "python",
   "nbconvert_exporter": "python",
   "pygments_lexer": "ipython3",
   "version": "3.10.9"
  },
  "orig_nbformat": 4
 },
 "nbformat": 4,
 "nbformat_minor": 2
}
