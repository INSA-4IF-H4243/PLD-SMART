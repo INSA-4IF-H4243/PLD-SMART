{
 "cells": [
  {
   "cell_type": "code",
   "execution_count": 22,
   "metadata": {},
   "outputs": [],
   "source": [
    "from smart.model import ModelBalle\n",
    "import pandas as pd\n",
    "import math\n",
    "import numpy as np"
   ]
  },
  {
   "attachments": {},
   "cell_type": "markdown",
   "metadata": {},
   "source": [
    "# Read data"
   ]
  },
  {
   "cell_type": "code",
   "execution_count": 6,
   "metadata": {},
   "outputs": [
    {
     "ename": "NameError",
     "evalue": "name 'pd' is not defined",
     "output_type": "error",
     "traceback": [
      "\u001b[1;31m---------------------------------------------------------------------------\u001b[0m",
      "\u001b[1;31mNameError\u001b[0m                                 Traceback (most recent call last)",
      "Cell \u001b[1;32mIn[6], line 1\u001b[0m\n\u001b[1;32m----> 1\u001b[0m df \u001b[39m=\u001b[39m pd\u001b[39m.\u001b[39mread_csv(\u001b[39m\"\u001b[39m\u001b[39mdataset/new_pos.csv\u001b[39m\u001b[39m\"\u001b[39m)\n\u001b[0;32m      2\u001b[0m df\u001b[39m.\u001b[39mhead()\n",
      "\u001b[1;31mNameError\u001b[0m: name 'pd' is not defined"
     ]
    }
   ],
   "source": [
    "df = pd.read_csv(\"dataset/new_pos.csv\")\n",
    "df.head()"
   ]
  },
  {
   "cell_type": "code",
   "execution_count": 4,
   "metadata": {},
   "outputs": [
    {
     "data": {
      "text/plain": [
       "<smart.model.ModelBalle.ModelBalle at 0x202e119e3d0>"
      ]
     },
     "execution_count": 4,
     "metadata": {},
     "output_type": "execute_result"
    }
   ],
   "source": [
    "model_balle = ModelBalle.construct_model(n_estimators = 100)\n",
    "model_balle"
   ]
  },
  {
   "cell_type": "code",
   "execution_count": 5,
   "metadata": {},
   "outputs": [],
   "source": [
    "from sklearn.model_selection import train_test_split\n",
    "\n",
    "X = df.drop('col46', axis=1)\n",
    "y = df['col46']\n",
    "        \n",
    "X_train, X_test, y_train, y_test = train_test_split(X, y, test_size=0.2, random_state=42)\n",
    "\n",
    "print(type(X), X.shape)\n",
    "\n",
    "import pandas as pd\n",
    "\n",
    "df_test = pd.read_csv(\"dataset/new_pos_test.csv\")\n",
    "\n",
    "# préparation de l'ensemble\n",
    "\n",
    "X_test1 = df_test.drop('col46', axis=1)\n",
    "y_test1 = df_test['col46']\n",
    "\n",
    "print(type(X_test1), X_test1.shape)\n",
    "\n",
    "from sklearn.ensemble import RandomForestClassifier\n",
    "import numpy as np\n",
    "\n",
    "rf_clf = RandomForestClassifier(n_estimators = 20, max_depth = 8)\n",
    "# max_samples : indique le nombre d'échantillons à tirer des données d'entraînement dans l'échantillonnage Bootstrap. \n",
    "# max_depth : indique la profondeur maximale de l'arbre, que nous spécifions si nécessaire.\n",
    "# n_estimators : indique le nombre d'arbres de décision à créer dans le modèle de forêt aléatoire. Par défaut, il est de 100.\n",
    "rf_clf.fit(X_train, y_train)\n",
    "pred = rf_clf.predict(X_test)\n",
    "\n",
    "# test de la précision\n",
    "\n",
    "print(rf_clf.score(X_test1, y_test1))\n",
    "print(rf_clf.score(X_train, y_train))"
   ]
  },
  {
   "cell_type": "code",
   "execution_count": 6,
   "metadata": {},
   "outputs": [],
   "source": [
    "def conv(a):  \n",
    "    a = a[1:len(a) - 1]\n",
    "    l = a.split(',')\n",
    "    return math.sqrt(math.pow(float(l[0]), 2) + math.pow(float(l[1]), 2))"
   ]
  },
  {
   "cell_type": "code",
   "execution_count": 7,
   "metadata": {},
   "outputs": [],
   "source": [
    "data_size = 6463\n",
    "for col in X:\n",
    "    for lig in range(data_size):\n",
    "        X[col][lig] = conv(X[col][lig])"
   ]
  },
  {
   "cell_type": "code",
   "execution_count": 8,
   "metadata": {},
   "outputs": [
    {
     "data": {
      "text/plain": [
       "((5170, 45), (1293, 45), (5170,), (1293,))"
      ]
     },
     "execution_count": 8,
     "metadata": {},
     "output_type": "execute_result"
    }
   ],
   "source": [
    "# Step 1: Split the data\n",
    "X_train, X_test, y_train, y_test = model_balle.train_test_split(X, y, test_size=0.2, random_state=42)\n",
    "X_train.shape, X_test.shape, y_train.shape, y_test.shape"
   ]
  },
  {
   "cell_type": "code",
   "execution_count": 9,
   "metadata": {},
   "outputs": [],
   "source": [
    "# Step 2: Fit the model\n",
    "model_balle.fit(X_train, y_train)"
   ]
  },
  {
   "cell_type": "code",
   "execution_count": 10,
   "metadata": {},
   "outputs": [
    {
     "data": {
      "text/plain": [
       "0.9984532095901005"
      ]
     },
     "execution_count": 10,
     "metadata": {},
     "output_type": "execute_result"
    }
   ],
   "source": [
    "# Step 3: Evaluate the model\n",
    "model_balle.evaluate(X_test, y_test)"
   ]
  },
  {
   "cell_type": "code",
   "execution_count": 12,
   "metadata": {},
   "outputs": [
    {
     "data": {
      "text/plain": [
       "array([ 3,  6, 10, ..., 12,  2, 10], dtype=int64)"
      ]
     },
     "execution_count": 12,
     "metadata": {},
     "output_type": "execute_result"
    }
   ],
   "source": [
    "# Step 4: Predict\n",
    "y_pred = model_balle.predict(X_test)\n",
    "y_pred"
   ]
  },
  {
   "cell_type": "code",
   "execution_count": 13,
   "metadata": {},
   "outputs": [],
   "source": [
    "# Final Step: Save the model\n",
    "model_balle.save_model(\"saved_models/model_balle_1.joblib\")"
   ]
  },
  {
   "attachments": {},
   "cell_type": "markdown",
   "metadata": {},
   "source": [
    "--------------------------------------------------------------------------------------------------------------------------------------"
   ]
  },
  {
   "attachments": {},
   "cell_type": "markdown",
   "metadata": {},
   "source": [
    "# Test loading the model from disk (do not need to train)"
   ]
  },
  {
   "cell_type": "code",
   "execution_count": 14,
   "metadata": {},
   "outputs": [
    {
     "data": {
      "text/plain": [
       "<smart.model.ModelBalle.ModelBalle at 0x202e129ee80>"
      ]
     },
     "execution_count": 14,
     "metadata": {},
     "output_type": "execute_result"
    }
   ],
   "source": [
    "# Test loading the model from disk\n",
    "model_balle = ModelBalle.load_model_from_path('saved_models/model_balle_1.joblib')\n",
    "model_balle"
   ]
  },
  {
   "attachments": {},
   "cell_type": "markdown",
   "metadata": {},
   "source": [
    "- Convertir les données en 2-dim avant de prédire"
   ]
  },
  {
   "cell_type": "code",
   "execution_count": 23,
   "metadata": {},
   "outputs": [
    {
     "data": {
      "text/plain": [
       "array([[293.218348675522, 295.67718883945037, 306.2025473440742,\n",
       "        307.9366818032564, 311.52046481732145, 309.9193443462347,\n",
       "        315.54555930958685, 310.39490975207696, 315.29827148273426,\n",
       "        322.44844549167857, 319.2882710028666, 314.14805426741066,\n",
       "        312.385979198811, 319.7811751807789, 324.7845439672276,\n",
       "        321.6286678764814, 324.0385779502188, 332.0557182160849,\n",
       "        337.7217789838257, 346.0014450836875, 333.7019628351023,\n",
       "        339.69545183884935, 339.3287491504367, 340.75357665034124,\n",
       "        347.7010209936117, 351.38582783032103, 354.268259938708,\n",
       "        350.65652710308984, 360.25685281476603, 359.1670920337775,\n",
       "        357.8337602854152, 358.2206024225854, 362.70787143374764,\n",
       "        361.7982863419892, 360.9348971767623, 361.809342057388,\n",
       "        368.63532115086315, 370.3147310059377, 367.25059564281173,\n",
       "        367.87090126836614, 375.7658845611187, 378.00132274900835,\n",
       "        371.7216700704978, 379.2888081660201, 387.7434718986253]],\n",
       "      dtype=object)"
      ]
     },
     "execution_count": 23,
     "metadata": {},
     "output_type": "execute_result"
    }
   ],
   "source": [
    "X_to_test = np.array(X_test.iloc[0]).reshape(1, -1)\n",
    "X_to_test"
   ]
  },
  {
   "cell_type": "code",
   "execution_count": 31,
   "metadata": {},
   "outputs": [
    {
     "name": "stderr",
     "output_type": "stream",
     "text": [
      "c:\\Users\\bbbbb\\anaconda3\\lib\\site-packages\\sklearn\\base.py:450: UserWarning: X does not have valid feature names, but RandomForestClassifier was fitted with feature names\n",
      "  warnings.warn(\n"
     ]
    },
    {
     "data": {
      "text/plain": [
       "array([3], dtype=int64)"
      ]
     },
     "execution_count": 31,
     "metadata": {},
     "output_type": "execute_result"
    }
   ],
   "source": [
    "model_balle.predict(X_to_test)"
   ]
  }
 ],
 "metadata": {
  "kernelspec": {
   "display_name": "base",
   "language": "python",
   "name": "python3"
  },
  "language_info": {
   "codemirror_mode": {
    "name": "ipython",
    "version": 3
   },
   "file_extension": ".py",
   "mimetype": "text/x-python",
   "name": "python",
   "nbconvert_exporter": "python",
   "pygments_lexer": "ipython3",
   "version": "3.10.9"
  },
  "orig_nbformat": 4
 },
 "nbformat": 4,
 "nbformat_minor": 2
}
