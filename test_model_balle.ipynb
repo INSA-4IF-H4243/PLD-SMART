{
 "cells": [
  {
   "cell_type": "code",
   "execution_count": 22,
   "metadata": {},
   "outputs": [],
   "source": [
    "from smart.model import ModelBalle\n",
    "import pandas as pd\n",
    "import math\n",
    "import numpy as np"
   ]
  },
  {
   "attachments": {},
   "cell_type": "markdown",
   "metadata": {},
   "source": [
    "# Read data"
   ]
  },
  {
   "cell_type": "code",
   "execution_count": 3,
   "metadata": {},
   "outputs": [
    {
     "data": {
      "text/html": [
       "<div>\n",
       "<style scoped>\n",
       "    .dataframe tbody tr th:only-of-type {\n",
       "        vertical-align: middle;\n",
       "    }\n",
       "\n",
       "    .dataframe tbody tr th {\n",
       "        vertical-align: top;\n",
       "    }\n",
       "\n",
       "    .dataframe thead th {\n",
       "        text-align: right;\n",
       "    }\n",
       "</style>\n",
       "<table border=\"1\" class=\"dataframe\">\n",
       "  <thead>\n",
       "    <tr style=\"text-align: right;\">\n",
       "      <th></th>\n",
       "      <th>col1</th>\n",
       "      <th>col2</th>\n",
       "      <th>col3</th>\n",
       "      <th>col4</th>\n",
       "      <th>col5</th>\n",
       "      <th>col6</th>\n",
       "      <th>col7</th>\n",
       "      <th>col8</th>\n",
       "      <th>col9</th>\n",
       "      <th>col10</th>\n",
       "      <th>...</th>\n",
       "      <th>col37</th>\n",
       "      <th>col38</th>\n",
       "      <th>col39</th>\n",
       "      <th>col40</th>\n",
       "      <th>col41</th>\n",
       "      <th>col42</th>\n",
       "      <th>col43</th>\n",
       "      <th>col44</th>\n",
       "      <th>col45</th>\n",
       "      <th>col46</th>\n",
       "    </tr>\n",
       "  </thead>\n",
       "  <tbody>\n",
       "    <tr>\n",
       "      <th>0</th>\n",
       "      <td>(175, 232)</td>\n",
       "      <td>(184, 227)</td>\n",
       "      <td>(195, 229)</td>\n",
       "      <td>(200, 215)</td>\n",
       "      <td>(196, 213)</td>\n",
       "      <td>(206, 214)</td>\n",
       "      <td>(215, 214)</td>\n",
       "      <td>(207, 208)</td>\n",
       "      <td>(217, 194)</td>\n",
       "      <td>(217, 195)</td>\n",
       "      <td>...</td>\n",
       "      <td>(350, 126)</td>\n",
       "      <td>(358, 136)</td>\n",
       "      <td>(356, 121)</td>\n",
       "      <td>(360, 125)</td>\n",
       "      <td>(370, 119)</td>\n",
       "      <td>(374, 114)</td>\n",
       "      <td>(371, 110)</td>\n",
       "      <td>(380, 108)</td>\n",
       "      <td>(391, 93)</td>\n",
       "      <td>2</td>\n",
       "    </tr>\n",
       "    <tr>\n",
       "      <th>1</th>\n",
       "      <td>(176, 232)</td>\n",
       "      <td>(191, 229)</td>\n",
       "      <td>(188, 233)</td>\n",
       "      <td>(200, 216)</td>\n",
       "      <td>(205, 217)</td>\n",
       "      <td>(208, 210)</td>\n",
       "      <td>(211, 213)</td>\n",
       "      <td>(215, 209)</td>\n",
       "      <td>(221, 196)</td>\n",
       "      <td>(218, 191)</td>\n",
       "      <td>...</td>\n",
       "      <td>(346, 128)</td>\n",
       "      <td>(354, 124)</td>\n",
       "      <td>(357, 117)</td>\n",
       "      <td>(361, 122)</td>\n",
       "      <td>(364, 121)</td>\n",
       "      <td>(377, 110)</td>\n",
       "      <td>(374, 107)</td>\n",
       "      <td>(383, 97)</td>\n",
       "      <td>(382, 101)</td>\n",
       "      <td>2</td>\n",
       "    </tr>\n",
       "    <tr>\n",
       "      <th>2</th>\n",
       "      <td>(176, 236)</td>\n",
       "      <td>(191, 226)</td>\n",
       "      <td>(196, 227)</td>\n",
       "      <td>(200, 221)</td>\n",
       "      <td>(199, 221)</td>\n",
       "      <td>(198, 214)</td>\n",
       "      <td>(214, 204)</td>\n",
       "      <td>(212, 206)</td>\n",
       "      <td>(224, 192)</td>\n",
       "      <td>(219, 194)</td>\n",
       "      <td>...</td>\n",
       "      <td>(350, 129)</td>\n",
       "      <td>(352, 131)</td>\n",
       "      <td>(362, 120)</td>\n",
       "      <td>(357, 119)</td>\n",
       "      <td>(361, 113)</td>\n",
       "      <td>(375, 106)</td>\n",
       "      <td>(377, 110)</td>\n",
       "      <td>(378, 97)</td>\n",
       "      <td>(383, 95)</td>\n",
       "      <td>2</td>\n",
       "    </tr>\n",
       "    <tr>\n",
       "      <th>3</th>\n",
       "      <td>(176, 238)</td>\n",
       "      <td>(184, 236)</td>\n",
       "      <td>(191, 224)</td>\n",
       "      <td>(189, 214)</td>\n",
       "      <td>(194, 215)</td>\n",
       "      <td>(198, 210)</td>\n",
       "      <td>(206, 204)</td>\n",
       "      <td>(216, 211)</td>\n",
       "      <td>(216, 195)</td>\n",
       "      <td>(218, 188)</td>\n",
       "      <td>...</td>\n",
       "      <td>(346, 128)</td>\n",
       "      <td>(359, 124)</td>\n",
       "      <td>(360, 122)</td>\n",
       "      <td>(357, 119)</td>\n",
       "      <td>(365, 120)</td>\n",
       "      <td>(368, 105)</td>\n",
       "      <td>(380, 108)</td>\n",
       "      <td>(384, 96)</td>\n",
       "      <td>(386, 94)</td>\n",
       "      <td>2</td>\n",
       "    </tr>\n",
       "    <tr>\n",
       "      <th>4</th>\n",
       "      <td>(176, 242)</td>\n",
       "      <td>(185, 231)</td>\n",
       "      <td>(191, 228)</td>\n",
       "      <td>(187, 224)</td>\n",
       "      <td>(195, 219)</td>\n",
       "      <td>(205, 215)</td>\n",
       "      <td>(202, 207)</td>\n",
       "      <td>(218, 208)</td>\n",
       "      <td>(220, 199)</td>\n",
       "      <td>(219, 198)</td>\n",
       "      <td>...</td>\n",
       "      <td>(347, 127)</td>\n",
       "      <td>(353, 127)</td>\n",
       "      <td>(358, 120)</td>\n",
       "      <td>(362, 114)</td>\n",
       "      <td>(369, 113)</td>\n",
       "      <td>(374, 105)</td>\n",
       "      <td>(373, 109)</td>\n",
       "      <td>(380, 98)</td>\n",
       "      <td>(392, 102)</td>\n",
       "      <td>2</td>\n",
       "    </tr>\n",
       "  </tbody>\n",
       "</table>\n",
       "<p>5 rows × 46 columns</p>\n",
       "</div>"
      ],
      "text/plain": [
       "         col1        col2        col3        col4        col5        col6  \\\n",
       "0  (175, 232)  (184, 227)  (195, 229)  (200, 215)  (196, 213)  (206, 214)   \n",
       "1  (176, 232)  (191, 229)  (188, 233)  (200, 216)  (205, 217)  (208, 210)   \n",
       "2  (176, 236)  (191, 226)  (196, 227)  (200, 221)  (199, 221)  (198, 214)   \n",
       "3  (176, 238)  (184, 236)  (191, 224)  (189, 214)  (194, 215)  (198, 210)   \n",
       "4  (176, 242)  (185, 231)  (191, 228)  (187, 224)  (195, 219)  (205, 215)   \n",
       "\n",
       "         col7        col8        col9       col10  ...       col37  \\\n",
       "0  (215, 214)  (207, 208)  (217, 194)  (217, 195)  ...  (350, 126)   \n",
       "1  (211, 213)  (215, 209)  (221, 196)  (218, 191)  ...  (346, 128)   \n",
       "2  (214, 204)  (212, 206)  (224, 192)  (219, 194)  ...  (350, 129)   \n",
       "3  (206, 204)  (216, 211)  (216, 195)  (218, 188)  ...  (346, 128)   \n",
       "4  (202, 207)  (218, 208)  (220, 199)  (219, 198)  ...  (347, 127)   \n",
       "\n",
       "        col38       col39       col40       col41       col42       col43  \\\n",
       "0  (358, 136)  (356, 121)  (360, 125)  (370, 119)  (374, 114)  (371, 110)   \n",
       "1  (354, 124)  (357, 117)  (361, 122)  (364, 121)  (377, 110)  (374, 107)   \n",
       "2  (352, 131)  (362, 120)  (357, 119)  (361, 113)  (375, 106)  (377, 110)   \n",
       "3  (359, 124)  (360, 122)  (357, 119)  (365, 120)  (368, 105)  (380, 108)   \n",
       "4  (353, 127)  (358, 120)  (362, 114)  (369, 113)  (374, 105)  (373, 109)   \n",
       "\n",
       "        col44       col45 col46  \n",
       "0  (380, 108)   (391, 93)     2  \n",
       "1   (383, 97)  (382, 101)     2  \n",
       "2   (378, 97)   (383, 95)     2  \n",
       "3   (384, 96)   (386, 94)     2  \n",
       "4   (380, 98)  (392, 102)     2  \n",
       "\n",
       "[5 rows x 46 columns]"
      ]
     },
     "execution_count": 3,
     "metadata": {},
     "output_type": "execute_result"
    }
   ],
   "source": [
    "df = pd.read_csv(\"dataset/pos.csv\")\n",
    "df.head()"
   ]
  },
  {
   "cell_type": "code",
   "execution_count": 4,
   "metadata": {},
   "outputs": [
    {
     "data": {
      "text/plain": [
       "<smart.model.ModelBalle.ModelBalle at 0x202e119e3d0>"
      ]
     },
     "execution_count": 4,
     "metadata": {},
     "output_type": "execute_result"
    }
   ],
   "source": [
    "model_balle = ModelBalle.construct_model(n_estimators = 100)\n",
    "model_balle"
   ]
  },
  {
   "cell_type": "code",
   "execution_count": 5,
   "metadata": {},
   "outputs": [],
   "source": [
    "X = df.drop('col46', axis=1)\n",
    "y = df['col46']"
   ]
  },
  {
   "cell_type": "code",
   "execution_count": 6,
   "metadata": {},
   "outputs": [],
   "source": [
    "def conv(a):  \n",
    "    a = a[1:len(a) - 1]\n",
    "    l = a.split(',')\n",
    "    return math.sqrt(math.pow(float(l[0]), 2) + math.pow(float(l[1]), 2))"
   ]
  },
  {
   "cell_type": "code",
   "execution_count": 7,
   "metadata": {},
   "outputs": [],
   "source": [
    "data_size = 6463\n",
    "for col in X:\n",
    "    for lig in range(data_size):\n",
    "        X[col][lig] = conv(X[col][lig])"
   ]
  },
  {
   "cell_type": "code",
   "execution_count": 8,
   "metadata": {},
   "outputs": [
    {
     "data": {
      "text/plain": [
       "((5170, 45), (1293, 45), (5170,), (1293,))"
      ]
     },
     "execution_count": 8,
     "metadata": {},
     "output_type": "execute_result"
    }
   ],
   "source": [
    "# Step 1: Split the data\n",
    "X_train, X_test, y_train, y_test = model_balle.train_test_split(X, y, test_size=0.2, random_state=42)\n",
    "X_train.shape, X_test.shape, y_train.shape, y_test.shape"
   ]
  },
  {
   "cell_type": "code",
   "execution_count": 9,
   "metadata": {},
   "outputs": [],
   "source": [
    "# Step 2: Fit the model\n",
    "model_balle.fit(X_train, y_train)"
   ]
  },
  {
   "cell_type": "code",
   "execution_count": 10,
   "metadata": {},
   "outputs": [
    {
     "data": {
      "text/plain": [
       "0.9984532095901005"
      ]
     },
     "execution_count": 10,
     "metadata": {},
     "output_type": "execute_result"
    }
   ],
   "source": [
    "# Step 3: Evaluate the model\n",
    "model_balle.evaluate(X_test, y_test)"
   ]
  },
  {
   "cell_type": "code",
   "execution_count": 12,
   "metadata": {},
   "outputs": [
    {
     "data": {
      "text/plain": [
       "array([ 3,  6, 10, ..., 12,  2, 10], dtype=int64)"
      ]
     },
     "execution_count": 12,
     "metadata": {},
     "output_type": "execute_result"
    }
   ],
   "source": [
    "# Step 4: Predict\n",
    "y_pred = model_balle.predict(X_test)\n",
    "y_pred"
   ]
  },
  {
   "cell_type": "code",
   "execution_count": 13,
   "metadata": {},
   "outputs": [],
   "source": [
    "# Final Step: Save the model\n",
    "model_balle.save_model(\"saved_models/model_balle_1.joblib\")"
   ]
  },
  {
   "attachments": {},
   "cell_type": "markdown",
   "metadata": {},
   "source": [
    "--------------------------------------------------------------------------------------------------------------------------------------"
   ]
  },
  {
   "attachments": {},
   "cell_type": "markdown",
   "metadata": {},
   "source": [
    "# Test loading the model from disk (do not need to train)"
   ]
  },
  {
   "cell_type": "code",
   "execution_count": 14,
   "metadata": {},
   "outputs": [
    {
     "data": {
      "text/plain": [
       "<smart.model.ModelBalle.ModelBalle at 0x202e129ee80>"
      ]
     },
     "execution_count": 14,
     "metadata": {},
     "output_type": "execute_result"
    }
   ],
   "source": [
    "# Test loading the model from disk\n",
    "model_balle = ModelBalle.load_model_from_path('saved_models/model_balle_1.joblib')\n",
    "model_balle"
   ]
  },
  {
   "attachments": {},
   "cell_type": "markdown",
   "metadata": {},
   "source": [
    "- Convertir les données en 2-dim avant de prédire"
   ]
  },
  {
   "cell_type": "code",
   "execution_count": 23,
   "metadata": {},
   "outputs": [
    {
     "data": {
      "text/plain": [
       "array([[293.218348675522, 295.67718883945037, 306.2025473440742,\n",
       "        307.9366818032564, 311.52046481732145, 309.9193443462347,\n",
       "        315.54555930958685, 310.39490975207696, 315.29827148273426,\n",
       "        322.44844549167857, 319.2882710028666, 314.14805426741066,\n",
       "        312.385979198811, 319.7811751807789, 324.7845439672276,\n",
       "        321.6286678764814, 324.0385779502188, 332.0557182160849,\n",
       "        337.7217789838257, 346.0014450836875, 333.7019628351023,\n",
       "        339.69545183884935, 339.3287491504367, 340.75357665034124,\n",
       "        347.7010209936117, 351.38582783032103, 354.268259938708,\n",
       "        350.65652710308984, 360.25685281476603, 359.1670920337775,\n",
       "        357.8337602854152, 358.2206024225854, 362.70787143374764,\n",
       "        361.7982863419892, 360.9348971767623, 361.809342057388,\n",
       "        368.63532115086315, 370.3147310059377, 367.25059564281173,\n",
       "        367.87090126836614, 375.7658845611187, 378.00132274900835,\n",
       "        371.7216700704978, 379.2888081660201, 387.7434718986253]],\n",
       "      dtype=object)"
      ]
     },
     "execution_count": 23,
     "metadata": {},
     "output_type": "execute_result"
    }
   ],
   "source": [
    "X_to_test = np.array(X_test.iloc[0]).reshape(1, -1)\n",
    "X_to_test"
   ]
  },
  {
   "cell_type": "code",
   "execution_count": 31,
   "metadata": {},
   "outputs": [
    {
     "name": "stderr",
     "output_type": "stream",
     "text": [
      "c:\\Users\\bbbbb\\anaconda3\\lib\\site-packages\\sklearn\\base.py:450: UserWarning: X does not have valid feature names, but RandomForestClassifier was fitted with feature names\n",
      "  warnings.warn(\n"
     ]
    },
    {
     "data": {
      "text/plain": [
       "array([3], dtype=int64)"
      ]
     },
     "execution_count": 31,
     "metadata": {},
     "output_type": "execute_result"
    }
   ],
   "source": [
    "model_balle.predict(X_to_test)"
   ]
  }
 ],
 "metadata": {
  "kernelspec": {
   "display_name": "base",
   "language": "python",
   "name": "python3"
  },
  "language_info": {
   "codemirror_mode": {
    "name": "ipython",
    "version": 3
   },
   "file_extension": ".py",
   "mimetype": "text/x-python",
   "name": "python",
   "nbconvert_exporter": "python",
   "pygments_lexer": "ipython3",
   "version": "3.9.13"
  },
  "orig_nbformat": 4
 },
 "nbformat": 4,
 "nbformat_minor": 2
}
