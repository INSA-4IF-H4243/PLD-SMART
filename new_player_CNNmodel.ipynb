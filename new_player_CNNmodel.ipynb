{
 "cells": [
  {
   "attachments": {},
   "cell_type": "markdown",
   "metadata": {},
   "source": [
    "Joueur Bas"
   ]
  },
  {
   "cell_type": "code",
   "execution_count": 1,
   "metadata": {},
   "outputs": [],
   "source": [
    "from smart.model import ModelJoueurConvolution\n",
    "from keras.models import Sequential\n",
    "from keras.layers import Dense, Dropout, Activation\n",
    "import tensorflow as tf\n",
    "from keras.layers import Conv2D, MaxPooling2D, Flatten, Dense, BatchNormalization, Dropout\n",
    "import matplotlib.pyplot as plt"
   ]
  },
  {
   "cell_type": "code",
   "execution_count": 2,
   "metadata": {},
   "outputs": [],
   "source": [
    "# Config\n",
    "NB_FRAMES = 30\n",
    "WIDTH = 100\n",
    "HEIGHT = 100\n",
    "PATH_DATA = 'img/JBas'"
   ]
  },
  {
   "cell_type": "code",
   "execution_count": 3,
   "metadata": {},
   "outputs": [],
   "source": [
    "layers = [\n",
    "    tf.keras.Input(shape = (WIDTH, NB_FRAMES * HEIGHT, 3)), # 50, 15*50, 3\n",
    "    Conv2D(filters=16, kernel_size=(3, 3), activation=\"relu\"),\n",
    "    BatchNormalization(),\n",
    "    MaxPooling2D(pool_size=(2, 2)),\n",
    "    Dropout(0.2),\n",
    "        \n",
    "    # Conv2D(filters=32, kernel_size=(3, 3), activation=\"relu\"),\n",
    "    # BatchNormalization(),\n",
    "    # MaxPooling2D(pool_size=(2, 2)),\n",
    "    # Dropout(0.2),\n",
    "        \n",
    "    Conv2D(filters=32, kernel_size=(3, 3), activation=\"relu\"),\n",
    "    BatchNormalization(),\n",
    "    MaxPooling2D(pool_size=(2, 2)),\n",
    "    Dropout(0.2),\n",
    "        \n",
    "    Flatten(),\n",
    "    # Dense(units=128, activation=\"relu\"),\n",
    "    Dense(units=4, activation=\"softmax\"),\n",
    "]"
   ]
  },
  {
   "cell_type": "code",
   "execution_count": 4,
   "metadata": {},
   "outputs": [
    {
     "name": "stdout",
     "output_type": "stream",
     "text": [
      "Model: \"sequential\"\n",
      "_________________________________________________________________\n",
      " Layer (type)                Output Shape              Param #   \n",
      "=================================================================\n",
      " conv2d (Conv2D)             (None, 98, 2998, 16)      448       \n",
      "                                                                 \n",
      " batch_normalization (BatchN  (None, 98, 2998, 16)     64        \n",
      " ormalization)                                                   \n",
      "                                                                 \n",
      " max_pooling2d (MaxPooling2D  (None, 49, 1499, 16)     0         \n",
      " )                                                               \n",
      "                                                                 \n",
      " dropout (Dropout)           (None, 49, 1499, 16)      0         \n",
      "                                                                 \n",
      " conv2d_1 (Conv2D)           (None, 47, 1497, 32)      4640      \n",
      "                                                                 \n",
      " batch_normalization_1 (Batc  (None, 47, 1497, 32)     128       \n",
      " hNormalization)                                                 \n",
      "                                                                 \n",
      " max_pooling2d_1 (MaxPooling  (None, 23, 748, 32)      0         \n",
      " 2D)                                                             \n",
      "                                                                 \n",
      " dropout_1 (Dropout)         (None, 23, 748, 32)       0         \n",
      "                                                                 \n",
      " flatten (Flatten)           (None, 550528)            0         \n",
      "                                                                 \n",
      " dense (Dense)               (None, 4)                 2202116   \n",
      "                                                                 \n",
      "=================================================================\n",
      "Total params: 2,207,396\n",
      "Trainable params: 2,207,300\n",
      "Non-trainable params: 96\n",
      "_________________________________________________________________\n"
     ]
    }
   ],
   "source": [
    "# Load the model\n",
    "model = ModelJoueurConvolution.load_model_from_layers(layers)\n",
    "model.summary_model"
   ]
  },
  {
   "cell_type": "code",
   "execution_count": 5,
   "metadata": {},
   "outputs": [
    {
     "data": {
      "text/plain": [
       "[<smart.video.Video.Video at 0x1e9079b5d30>,\n",
       " <smart.video.Video.Video at 0x1e908a645b0>,\n",
       " <smart.video.Video.Video at 0x1e908aceca0>,\n",
       " <smart.video.Video.Video at 0x1e908aceb80>,\n",
       " <smart.video.Video.Video at 0x1e908ace880>,\n",
       " <smart.video.Video.Video at 0x1e908acec10>,\n",
       " <smart.video.Video.Video at 0x1e908aced60>,\n",
       " <smart.video.Video.Video at 0x1e908ace580>,\n",
       " <smart.video.Video.Video at 0x1e908ace250>,\n",
       " <smart.video.Video.Video at 0x1e908aceb20>,\n",
       " <smart.video.Video.Video at 0x1e908acec40>,\n",
       " <smart.video.Video.Video at 0x1e908acedc0>,\n",
       " <smart.video.Video.Video at 0x1e908acee20>,\n",
       " <smart.video.Video.Video at 0x1e908acee80>,\n",
       " <smart.video.Video.Video at 0x1e908aceee0>,\n",
       " <smart.video.Video.Video at 0x1e908acef40>,\n",
       " <smart.video.Video.Video at 0x1e908acefa0>,\n",
       " <smart.video.Video.Video at 0x1e908aceac0>,\n",
       " <smart.video.Video.Video at 0x1e907a05040>,\n",
       " <smart.video.Video.Video at 0x1e907a050d0>,\n",
       " <smart.video.Video.Video at 0x1e907a05130>,\n",
       " <smart.video.Video.Video at 0x1e907a05190>,\n",
       " <smart.video.Video.Video at 0x1e907a051f0>,\n",
       " <smart.video.Video.Video at 0x1e907a05250>,\n",
       " <smart.video.Video.Video at 0x1e907a052b0>,\n",
       " <smart.video.Video.Video at 0x1e907a05310>,\n",
       " <smart.video.Video.Video at 0x1e907a05370>,\n",
       " <smart.video.Video.Video at 0x1e907a053d0>,\n",
       " <smart.video.Video.Video at 0x1e907a05430>,\n",
       " <smart.video.Video.Video at 0x1e907a05490>,\n",
       " <smart.video.Video.Video at 0x1e907a054f0>,\n",
       " <smart.video.Video.Video at 0x1e907a05550>,\n",
       " <smart.video.Video.Video at 0x1e907a055b0>,\n",
       " <smart.video.Video.Video at 0x1e907a05610>,\n",
       " <smart.video.Video.Video at 0x1e907a05670>,\n",
       " <smart.video.Video.Video at 0x1e907a056d0>,\n",
       " <smart.video.Video.Video at 0x1e907a05730>,\n",
       " <smart.video.Video.Video at 0x1e907a05790>,\n",
       " <smart.video.Video.Video at 0x1e907a057f0>,\n",
       " <smart.video.Video.Video at 0x1e907a05850>,\n",
       " <smart.video.Video.Video at 0x1e907a058b0>,\n",
       " <smart.video.Video.Video at 0x1e907a05910>,\n",
       " <smart.video.Video.Video at 0x1e907a05970>,\n",
       " <smart.video.Video.Video at 0x1e907a059d0>,\n",
       " <smart.video.Video.Video at 0x1e907a05a30>,\n",
       " <smart.video.Video.Video at 0x1e907a05a90>,\n",
       " <smart.video.Video.Video at 0x1e907a05af0>,\n",
       " <smart.video.Video.Video at 0x1e907a05b50>,\n",
       " <smart.video.Video.Video at 0x1e907a05bb0>,\n",
       " <smart.video.Video.Video at 0x1e907a05c10>,\n",
       " <smart.video.Video.Video at 0x1e907a05c70>,\n",
       " <smart.video.Video.Video at 0x1e907a05cd0>,\n",
       " <smart.video.Video.Video at 0x1e907a05d30>,\n",
       " <smart.video.Video.Video at 0x1e907a05d90>,\n",
       " <smart.video.Video.Video at 0x1e907a05df0>,\n",
       " <smart.video.Video.Video at 0x1e907a05e50>,\n",
       " <smart.video.Video.Video at 0x1e907a05eb0>,\n",
       " <smart.video.Video.Video at 0x1e907a05f10>,\n",
       " <smart.video.Video.Video at 0x1e907a05f70>,\n",
       " <smart.video.Video.Video at 0x1e9079b5940>,\n",
       " <smart.video.Video.Video at 0x1e908ad60a0>,\n",
       " <smart.video.Video.Video at 0x1e908ad60d0>,\n",
       " <smart.video.Video.Video at 0x1e908ad6130>,\n",
       " <smart.video.Video.Video at 0x1e908ad6190>,\n",
       " <smart.video.Video.Video at 0x1e908ad61f0>,\n",
       " <smart.video.Video.Video at 0x1e908ad6250>,\n",
       " <smart.video.Video.Video at 0x1e908ad62b0>,\n",
       " <smart.video.Video.Video at 0x1e908ad6310>,\n",
       " <smart.video.Video.Video at 0x1e908ad6370>,\n",
       " <smart.video.Video.Video at 0x1e908ad63d0>,\n",
       " <smart.video.Video.Video at 0x1e908ad6430>,\n",
       " <smart.video.Video.Video at 0x1e908ad6490>,\n",
       " <smart.video.Video.Video at 0x1e908ad64f0>,\n",
       " <smart.video.Video.Video at 0x1e908ad6550>,\n",
       " <smart.video.Video.Video at 0x1e908ad65b0>,\n",
       " <smart.video.Video.Video at 0x1e908ad6610>,\n",
       " <smart.video.Video.Video at 0x1e908ad6670>,\n",
       " <smart.video.Video.Video at 0x1e908ad66d0>,\n",
       " <smart.video.Video.Video at 0x1e908ad6730>,\n",
       " <smart.video.Video.Video at 0x1e908ad6790>,\n",
       " <smart.video.Video.Video at 0x1e908ad67f0>,\n",
       " <smart.video.Video.Video at 0x1e908ad6850>,\n",
       " <smart.video.Video.Video at 0x1e908ad68b0>,\n",
       " <smart.video.Video.Video at 0x1e908ad6910>,\n",
       " <smart.video.Video.Video at 0x1e908ad6970>,\n",
       " <smart.video.Video.Video at 0x1e908ad69d0>,\n",
       " <smart.video.Video.Video at 0x1e908ad6a30>,\n",
       " <smart.video.Video.Video at 0x1e908ad6a90>,\n",
       " <smart.video.Video.Video at 0x1e908ad6af0>,\n",
       " <smart.video.Video.Video at 0x1e908ad6b50>,\n",
       " <smart.video.Video.Video at 0x1e908ad6bb0>,\n",
       " <smart.video.Video.Video at 0x1e908ad6c10>,\n",
       " <smart.video.Video.Video at 0x1e908ad6070>,\n",
       " <smart.video.Video.Video at 0x1e908ad6cd0>,\n",
       " <smart.video.Video.Video at 0x1e908ad6d30>,\n",
       " <smart.video.Video.Video at 0x1e908ad6d90>,\n",
       " <smart.video.Video.Video at 0x1e908ad6df0>,\n",
       " <smart.video.Video.Video at 0x1e908ad6e50>,\n",
       " <smart.video.Video.Video at 0x1e908ad6eb0>,\n",
       " <smart.video.Video.Video at 0x1e908ad6f10>,\n",
       " <smart.video.Video.Video at 0x1e908ad6f70>,\n",
       " <smart.video.Video.Video at 0x1e908ad6c70>,\n",
       " <smart.video.Video.Video at 0x1e908adf040>,\n",
       " <smart.video.Video.Video at 0x1e908adf0d0>,\n",
       " <smart.video.Video.Video at 0x1e908adf130>,\n",
       " <smart.video.Video.Video at 0x1e908adf190>,\n",
       " <smart.video.Video.Video at 0x1e908adf1f0>,\n",
       " <smart.video.Video.Video at 0x1e908adf250>,\n",
       " <smart.video.Video.Video at 0x1e908adf2b0>,\n",
       " <smart.video.Video.Video at 0x1e908adf310>,\n",
       " <smart.video.Video.Video at 0x1e908adf370>,\n",
       " <smart.video.Video.Video at 0x1e908adf3d0>,\n",
       " <smart.video.Video.Video at 0x1e908adf430>,\n",
       " <smart.video.Video.Video at 0x1e908adf490>,\n",
       " <smart.video.Video.Video at 0x1e908adf4f0>,\n",
       " <smart.video.Video.Video at 0x1e908adf550>,\n",
       " <smart.video.Video.Video at 0x1e908adf5b0>,\n",
       " <smart.video.Video.Video at 0x1e908adf610>,\n",
       " <smart.video.Video.Video at 0x1e908adf670>,\n",
       " <smart.video.Video.Video at 0x1e908adf6d0>,\n",
       " <smart.video.Video.Video at 0x1e908adf730>,\n",
       " <smart.video.Video.Video at 0x1e908adf790>,\n",
       " <smart.video.Video.Video at 0x1e908adf7f0>,\n",
       " <smart.video.Video.Video at 0x1e908adf850>,\n",
       " <smart.video.Video.Video at 0x1e908adf8b0>,\n",
       " <smart.video.Video.Video at 0x1e908adf910>,\n",
       " <smart.video.Video.Video at 0x1e908adf970>,\n",
       " <smart.video.Video.Video at 0x1e908adf9d0>,\n",
       " <smart.video.Video.Video at 0x1e908adfa30>,\n",
       " <smart.video.Video.Video at 0x1e908adfa90>,\n",
       " <smart.video.Video.Video at 0x1e908adfaf0>,\n",
       " <smart.video.Video.Video at 0x1e908adfb50>,\n",
       " <smart.video.Video.Video at 0x1e908adfbb0>,\n",
       " <smart.video.Video.Video at 0x1e908adfc10>,\n",
       " <smart.video.Video.Video at 0x1e908adfc70>,\n",
       " <smart.video.Video.Video at 0x1e908adfcd0>,\n",
       " <smart.video.Video.Video at 0x1e908adfd30>,\n",
       " <smart.video.Video.Video at 0x1e908adfd90>,\n",
       " <smart.video.Video.Video at 0x1e908adfdf0>,\n",
       " <smart.video.Video.Video at 0x1e908adfe50>,\n",
       " <smart.video.Video.Video at 0x1e908adfeb0>,\n",
       " <smart.video.Video.Video at 0x1e908adff10>,\n",
       " <smart.video.Video.Video at 0x1e908adff70>,\n",
       " <smart.video.Video.Video at 0x1e908adf0a0>,\n",
       " <smart.video.Video.Video at 0x1e909ab40a0>,\n",
       " <smart.video.Video.Video at 0x1e909ab4130>,\n",
       " <smart.video.Video.Video at 0x1e909ab4160>,\n",
       " <smart.video.Video.Video at 0x1e909ab41f0>,\n",
       " <smart.video.Video.Video at 0x1e909ab4220>,\n",
       " <smart.video.Video.Video at 0x1e909ab4280>,\n",
       " <smart.video.Video.Video at 0x1e909ab4190>,\n",
       " <smart.video.Video.Video at 0x1e909ab4370>,\n",
       " <smart.video.Video.Video at 0x1e909ab43a0>,\n",
       " <smart.video.Video.Video at 0x1e909ab4400>,\n",
       " <smart.video.Video.Video at 0x1e909ab4460>,\n",
       " <smart.video.Video.Video at 0x1e909ab44c0>,\n",
       " <smart.video.Video.Video at 0x1e909ab4520>,\n",
       " <smart.video.Video.Video at 0x1e909ab4580>,\n",
       " <smart.video.Video.Video at 0x1e909ab45e0>,\n",
       " <smart.video.Video.Video at 0x1e909ab4640>,\n",
       " <smart.video.Video.Video at 0x1e909ab46a0>,\n",
       " <smart.video.Video.Video at 0x1e909ab4700>,\n",
       " <smart.video.Video.Video at 0x1e909ab4760>,\n",
       " <smart.video.Video.Video at 0x1e909ab47c0>,\n",
       " <smart.video.Video.Video at 0x1e909ab4820>,\n",
       " <smart.video.Video.Video at 0x1e909ab4880>,\n",
       " <smart.video.Video.Video at 0x1e909ab48e0>,\n",
       " <smart.video.Video.Video at 0x1e909ab4940>,\n",
       " <smart.video.Video.Video at 0x1e909ab49a0>,\n",
       " <smart.video.Video.Video at 0x1e909ab4a00>,\n",
       " <smart.video.Video.Video at 0x1e909ab42e0>,\n",
       " <smart.video.Video.Video at 0x1e909ab4a60>,\n",
       " <smart.video.Video.Video at 0x1e908acefd0>,\n",
       " <smart.video.Video.Video at 0x1e909ab4af0>,\n",
       " <smart.video.Video.Video at 0x1e909ab4c10>,\n",
       " <smart.video.Video.Video at 0x1e909ab4c70>,\n",
       " <smart.video.Video.Video at 0x1e909ab4cd0>,\n",
       " <smart.video.Video.Video at 0x1e909ab4d30>,\n",
       " <smart.video.Video.Video at 0x1e909ab4d90>]"
      ]
     },
     "execution_count": 5,
     "metadata": {},
     "output_type": "execute_result"
    }
   ],
   "source": [
    "list_videos, y = model.analyse_sequence_frame(PATH_DATA, nb_frame=NB_FRAMES)\n",
    "list_videos"
   ]
  },
  {
   "cell_type": "code",
   "execution_count": 6,
   "metadata": {},
   "outputs": [
    {
     "data": {
      "text/plain": [
       "array([0, 0, 0, 0, 0, 0, 0, 0, 0, 0, 0, 0, 0, 0, 0, 0, 0, 0, 0, 0, 0, 0,\n",
       "       0, 0, 0, 0, 0, 0, 0, 0, 0, 0, 0, 0, 0, 0, 0, 0, 0, 0, 0, 0, 0, 0,\n",
       "       0, 0, 0, 0, 0, 0, 0, 0, 0, 0, 0, 0, 0, 0, 0, 1, 1, 1, 1, 1, 1, 1,\n",
       "       1, 1, 1, 1, 1, 1, 1, 1, 1, 1, 1, 1, 1, 1, 1, 1, 1, 1, 1, 1, 1, 1,\n",
       "       1, 1, 1, 1, 2, 2, 2, 2, 2, 2, 2, 2, 2, 2, 2, 2, 2, 2, 2, 2, 2, 2,\n",
       "       2, 2, 2, 2, 2, 2, 2, 2, 2, 2, 2, 2, 2, 2, 2, 2, 2, 2, 2, 2, 2, 2,\n",
       "       2, 2, 2, 2, 2, 2, 2, 2, 2, 2, 2, 2, 2, 3, 3, 3, 3, 3, 3, 3, 3, 3,\n",
       "       3, 3, 3, 3, 3, 3, 3, 3, 3, 3, 3, 3, 3, 3, 3, 3, 3, 3, 3, 3, 3, 3,\n",
       "       3, 3, 3], dtype=int64)"
      ]
     },
     "execution_count": 6,
     "metadata": {},
     "output_type": "execute_result"
    }
   ],
   "source": [
    "y = model.label_encoder(y)\n",
    "y"
   ]
  },
  {
   "cell_type": "code",
   "execution_count": 7,
   "metadata": {},
   "outputs": [
    {
     "data": {
      "text/plain": [
       "((143, 100, 3000, 3), (143,), (36, 100, 3000, 3), (36,))"
      ]
     },
     "execution_count": 7,
     "metadata": {},
     "output_type": "execute_result"
    }
   ],
   "source": [
    "# Split the data\n",
    "X_train, y_train, X_test, y_test = model.split_train_test(list_videos, y, test_size=0.2,\n",
    "                                        shape_frame=(WIDTH, HEIGHT, 3), nb_frame=NB_FRAMES)\n",
    "X_train.shape, y_train.shape, X_test.shape, y_test.shape"
   ]
  },
  {
   "cell_type": "code",
   "execution_count": 8,
   "metadata": {},
   "outputs": [
    {
     "data": {
      "text/plain": [
       "(array([47.,  0.,  0., 28.,  0.,  0., 43.,  0.,  0., 25.]),\n",
       " array([0. , 0.3, 0.6, 0.9, 1.2, 1.5, 1.8, 2.1, 2.4, 2.7, 3. ]),\n",
       " <BarContainer object of 10 artists>)"
      ]
     },
     "execution_count": 8,
     "metadata": {},
     "output_type": "execute_result"
    },
    {
     "data": {
      "image/png": "[encoded data removed]",
      "text/plain": [
       "<Figure size 640x480 with 1 Axes>"
      ]
     },
     "metadata": {},
     "output_type": "display_data"
    }
   ],
   "source": [
    "plt.hist(y_train)"
   ]
  },
  {
   "cell_type": "code",
   "execution_count": 9,
   "metadata": {},
   "outputs": [
    {
     "name": "stderr",
     "output_type": "stream",
     "text": [
      "WARNING:absl:`lr` is deprecated in Keras optimizer, please use `learning_rate` or use the legacy optimizer, e.g.,tf.keras.optimizers.legacy.RMSprop.\n"
     ]
    },
    {
     "name": "stdout",
     "output_type": "stream",
     "text": [
      "Epoch 1/10\n",
      "4/4 [==============================] - ETA: 0s - loss: 356.7950 - accuracy: 0.3070\n",
      "Epoch 1: val_loss improved from inf to 1635.41296, saving model to checkpoints\\Weights-001--1635.41296.hdf5\n",
      "4/4 [==============================] - 10s 2s/step - loss: 356.7950 - accuracy: 0.3070 - val_loss: 1635.4130 - val_accuracy: 0.1379\n",
      "Epoch 2/10\n",
      "4/4 [==============================] - ETA: 0s - loss: 42.7119 - accuracy: 0.6754\n",
      "Epoch 2: val_loss improved from 1635.41296 to 1411.14563, saving model to checkpoints\\Weights-002--1411.14563.hdf5\n",
      "4/4 [==============================] - 8s 2s/step - loss: 42.7119 - accuracy: 0.6754 - val_loss: 1411.1456 - val_accuracy: 0.0345\n",
      "Epoch 3/10\n",
      "4/4 [==============================] - ETA: 0s - loss: 34.4070 - accuracy: 0.7544\n",
      "Epoch 3: val_loss improved from 1411.14563 to 1045.59851, saving model to checkpoints\\Weights-003--1045.59851.hdf5\n",
      "4/4 [==============================] - 8s 2s/step - loss: 34.4070 - accuracy: 0.7544 - val_loss: 1045.5985 - val_accuracy: 0.1034\n",
      "Epoch 4/10\n",
      "4/4 [==============================] - ETA: 0s - loss: 3.7471 - accuracy: 0.9386\n",
      "Epoch 4: val_loss improved from 1045.59851 to 947.08502, saving model to checkpoints\\Weights-004--947.08502.hdf5\n",
      "4/4 [==============================] - 8s 2s/step - loss: 3.7471 - accuracy: 0.9386 - val_loss: 947.0850 - val_accuracy: 0.1034\n",
      "Epoch 5/10\n",
      "4/4 [==============================] - ETA: 0s - loss: 8.4945 - accuracy: 0.9561 \n",
      "Epoch 5: val_loss improved from 947.08502 to 863.11652, saving model to checkpoints\\Weights-005--863.11652.hdf5\n",
      "4/4 [==============================] - 8s 2s/step - loss: 8.4945 - accuracy: 0.9561 - val_loss: 863.1165 - val_accuracy: 0.1034\n",
      "Epoch 6/10\n",
      "4/4 [==============================] - ETA: 0s - loss: 2.0818 - accuracy: 0.9649\n",
      "Epoch 6: val_loss improved from 863.11652 to 851.16846, saving model to checkpoints\\Weights-006--851.16846.hdf5\n",
      "4/4 [==============================] - 8s 2s/step - loss: 2.0818 - accuracy: 0.9649 - val_loss: 851.1685 - val_accuracy: 0.0345\n",
      "Epoch 7/10\n",
      "4/4 [==============================] - ETA: 0s - loss: 6.7440 - accuracy: 0.9561\n",
      "Epoch 7: val_loss improved from 851.16846 to 835.22943, saving model to checkpoints\\Weights-007--835.22943.hdf5\n",
      "4/4 [==============================] - 7s 2s/step - loss: 6.7440 - accuracy: 0.9561 - val_loss: 835.2294 - val_accuracy: 0.1379\n",
      "Epoch 8/10\n",
      "4/4 [==============================] - ETA: 0s - loss: 28.9627 - accuracy: 0.7281\n",
      "Epoch 8: val_loss improved from 835.22943 to 623.35724, saving model to checkpoints\\Weights-008--623.35724.hdf5\n",
      "4/4 [==============================] - 7s 2s/step - loss: 28.9627 - accuracy: 0.7281 - val_loss: 623.3572 - val_accuracy: 0.1034\n",
      "Epoch 9/10\n",
      "4/4 [==============================] - ETA: 0s - loss: 6.3853 - accuracy: 0.9825 \n",
      "Epoch 9: val_loss improved from 623.35724 to 600.67383, saving model to checkpoints\\Weights-009--600.67383.hdf5\n",
      "4/4 [==============================] - 8s 2s/step - loss: 6.3853 - accuracy: 0.9825 - val_loss: 600.6738 - val_accuracy: 0.1034\n",
      "Epoch 10/10\n",
      "4/4 [==============================] - ETA: 0s - loss: 1.8336 - accuracy: 0.9825\n",
      "Epoch 10: val_loss did not improve from 600.67383\n",
      "4/4 [==============================] - 8s 2s/step - loss: 1.8336 - accuracy: 0.9825 - val_loss: 604.6844 - val_accuracy: 0.1379\n"
     ]
    }
   ],
   "source": [
    "# Train the model\n",
    "history = model.train(X_train, y_train, epochs=10, batch_size=32)"
   ]
  },
  {
   "cell_type": "code",
   "execution_count": 11,
   "metadata": {},
   "outputs": [
    {
     "data": {
      "image/png": "[encoded data removed]",
      "text/plain": [
       "<Figure size 640x480 with 1 Axes>"
      ]
     },
     "metadata": {},
     "output_type": "display_data"
    }
   ],
   "source": [
    "# Visualisation\n",
    "plt.plot(history.history['loss'])\n",
    "plt.title('Model loss')  \n",
    "plt.ylabel('Val Loss')  \n",
    "plt.xlabel('Epoch')  \n",
    "plt.legend(['Train'], loc='upper left')  \n",
    "plt.show()"
   ]
  },
  {
   "cell_type": "code",
   "execution_count": 10,
   "metadata": {},
   "outputs": [
    {
     "name": "stdout",
     "output_type": "stream",
     "text": [
      "2/2 [==============================] - 1s 72ms/step - loss: 231.7183 - accuracy: 0.2778\n",
      "Loss:  231.71826171875\n",
      "Accuracy:  0.2777777910232544\n"
     ]
    },
    {
     "data": {
      "text/plain": [
       "[231.71826171875, 0.2777777910232544]"
      ]
     },
     "execution_count": 10,
     "metadata": {},
     "output_type": "execute_result"
    }
   ],
   "source": [
    "model.evaluate(X_test, y_test)"
   ]
  },
  {
   "cell_type": "code",
   "execution_count": 10,
   "metadata": {},
   "outputs": [],
   "source": [
    "model.save_model('saved_models/model_joueur_bas_convolution_Maxime.h5')"
   ]
  }
 ],
 "metadata": {
  "kernelspec": {
   "display_name": "base",
   "language": "python",
   "name": "python3"
  },
  "language_info": {
   "codemirror_mode": {
    "name": "ipython",
    "version": 3
   },
   "file_extension": ".py",
   "mimetype": "text/x-python",
   "name": "python",
   "nbconvert_exporter": "python",
   "pygments_lexer": "ipython3",
   "version": "3.9.13"
  },
  "orig_nbformat": 4
 },
 "nbformat": 4,
 "nbformat_minor": 2
}
