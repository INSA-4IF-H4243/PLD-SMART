{
 "cells": [
  {
   "attachments": {},
   "cell_type": "markdown",
   "metadata": {},
   "source": [
    "Joueur Bas"
   ]
  },
  {
   "cell_type": "code",
   "execution_count": 18,
   "metadata": {},
   "outputs": [],
   "source": [
    "from smart.model import ModelJoueurConvolution\n",
    "from keras.models import Sequential\n",
    "from keras.layers import Dense, Dropout, Activation\n",
    "import tensorflow as tf\n",
    "from keras.layers import Conv2D, MaxPooling2D, Flatten, Dense, BatchNormalization, Dropout\n",
    "import matplotlib.pyplot as plt"
   ]
  },
  {
   "cell_type": "code",
   "execution_count": 19,
   "metadata": {},
   "outputs": [],
   "source": [
    "# Config\n",
    "NB_FRAMES = 30\n",
    "WIDTH = 100\n",
    "HEIGHT = 100\n",
    "PATH_DATA = 'img/JBas'"
   ]
  },
  {
   "cell_type": "code",
   "execution_count": 20,
   "metadata": {},
   "outputs": [],
   "source": [
    "layers = [\n",
    "    tf.keras.Input(shape = (WIDTH, NB_FRAMES * HEIGHT, 3)), # 50, 15*50, 3\n",
    "    Conv2D(filters=16, kernel_size=(3, 3), activation=\"relu\"),\n",
    "    BatchNormalization(),\n",
    "    MaxPooling2D(pool_size=(2, 2)),\n",
    "    Dropout(0.2),\n",
    "        \n",
    "    # Conv2D(filters=32, kernel_size=(3, 3), activation=\"relu\"),\n",
    "    # BatchNormalization(),\n",
    "    # MaxPooling2D(pool_size=(2, 2)),\n",
    "    # Dropout(0.2),\n",
    "        \n",
    "    Conv2D(filters=32, kernel_size=(3, 3), activation=\"relu\"),\n",
    "    BatchNormalization(),\n",
    "    MaxPooling2D(pool_size=(2, 2)),\n",
    "    Dropout(0.2),\n",
    "        \n",
    "    Flatten(),\n",
    "    # Dense(units=128, activation=\"relu\"),\n",
    "    Dense(units=4, activation=\"softmax\"),\n",
    "]"
   ]
  },
  {
   "cell_type": "code",
   "execution_count": 21,
   "metadata": {},
   "outputs": [
    {
     "name": "stdout",
     "output_type": "stream",
     "text": [
      "Model: \"sequential_1\"\n",
      "_________________________________________________________________\n",
      " Layer (type)                Output Shape              Param #   \n",
      "=================================================================\n",
      " conv2d_2 (Conv2D)           (None, 98, 2998, 16)      448       \n",
      "                                                                 \n",
      " batch_normalization_2 (Batc  (None, 98, 2998, 16)     64        \n",
      " hNormalization)                                                 \n",
      "                                                                 \n",
      " max_pooling2d_2 (MaxPooling  (None, 49, 1499, 16)     0         \n",
      " 2D)                                                             \n",
      "                                                                 \n",
      " dropout_2 (Dropout)         (None, 49, 1499, 16)      0         \n",
      "                                                                 \n",
      " conv2d_3 (Conv2D)           (None, 47, 1497, 32)      4640      \n",
      "                                                                 \n",
      " batch_normalization_3 (Batc  (None, 47, 1497, 32)     128       \n",
      " hNormalization)                                                 \n",
      "                                                                 \n",
      " max_pooling2d_3 (MaxPooling  (None, 23, 748, 32)      0         \n",
      " 2D)                                                             \n",
      "                                                                 \n",
      " dropout_3 (Dropout)         (None, 23, 748, 32)       0         \n",
      "                                                                 \n",
      " flatten_1 (Flatten)         (None, 550528)            0         \n",
      "                                                                 \n",
      " dense_1 (Dense)             (None, 4)                 2202116   \n",
      "                                                                 \n",
      "=================================================================\n",
      "Total params: 2,207,396\n",
      "Trainable params: 2,207,300\n",
      "Non-trainable params: 96\n",
      "_________________________________________________________________\n"
     ]
    }
   ],
   "source": [
    "# Load the model\n",
    "model = ModelJoueurConvolution.load_model_from_layers(layers)\n",
    "model.summary_model"
   ]
  },
  {
   "cell_type": "code",
   "execution_count": 22,
   "metadata": {},
   "outputs": [
    {
     "data": {
      "text/plain": [
       "[<smart.video.Video.Video at 0x7f91fd600460>,\n",
       " <smart.video.Video.Video at 0x7f9205b4b310>,\n",
       " <smart.video.Video.Video at 0x7f91fd626ac0>,\n",
       " <smart.video.Video.Video at 0x7f91fd626730>,\n",
       " <smart.video.Video.Video at 0x7f91fc3a8490>,\n",
       " <smart.video.Video.Video at 0x7f9205b4b7f0>,\n",
       " <smart.video.Video.Video at 0x7f91fd5db3a0>,\n",
       " <smart.video.Video.Video at 0x7f91fd5db370>,\n",
       " <smart.video.Video.Video at 0x7f91fd5db340>,\n",
       " <smart.video.Video.Video at 0x7f91fd5db430>,\n",
       " <smart.video.Video.Video at 0x7f91fd5db490>,\n",
       " <smart.video.Video.Video at 0x7f91fd5db4f0>,\n",
       " <smart.video.Video.Video at 0x7f91fd5db550>,\n",
       " <smart.video.Video.Video at 0x7f91fd5db5b0>,\n",
       " <smart.video.Video.Video at 0x7f91fd5db610>,\n",
       " <smart.video.Video.Video at 0x7f91fd5db670>,\n",
       " <smart.video.Video.Video at 0x7f91fd5db6d0>,\n",
       " <smart.video.Video.Video at 0x7f91fd5db730>,\n",
       " <smart.video.Video.Video at 0x7f91fd5db790>,\n",
       " <smart.video.Video.Video at 0x7f91fd5db7f0>,\n",
       " <smart.video.Video.Video at 0x7f91fd5db850>,\n",
       " <smart.video.Video.Video at 0x7f91fd5db8b0>,\n",
       " <smart.video.Video.Video at 0x7f91fd5db910>,\n",
       " <smart.video.Video.Video at 0x7f91fd5db970>,\n",
       " <smart.video.Video.Video at 0x7f91fd5db9d0>,\n",
       " <smart.video.Video.Video at 0x7f91fd5dba30>,\n",
       " <smart.video.Video.Video at 0x7f91fd5dba90>,\n",
       " <smart.video.Video.Video at 0x7f91fd5dbaf0>,\n",
       " <smart.video.Video.Video at 0x7f91fd5dbb50>,\n",
       " <smart.video.Video.Video at 0x7f91fd5dbbb0>,\n",
       " <smart.video.Video.Video at 0x7f91fd5dbc10>,\n",
       " <smart.video.Video.Video at 0x7f91fd5dbc70>,\n",
       " <smart.video.Video.Video at 0x7f91fd5dbcd0>,\n",
       " <smart.video.Video.Video at 0x7f91fd5dbd30>,\n",
       " <smart.video.Video.Video at 0x7f91fd5dbd90>,\n",
       " <smart.video.Video.Video at 0x7f91fd5dbdf0>,\n",
       " <smart.video.Video.Video at 0x7f91fd5dbe50>,\n",
       " <smart.video.Video.Video at 0x7f91fd5dbeb0>,\n",
       " <smart.video.Video.Video at 0x7f91fd5dbf10>,\n",
       " <smart.video.Video.Video at 0x7f91fd5dbf70>,\n",
       " <smart.video.Video.Video at 0x7f91fd5db2e0>,\n",
       " <smart.video.Video.Video at 0x7f91fd5ef0a0>,\n",
       " <smart.video.Video.Video at 0x7f91fd5ef0d0>,\n",
       " <smart.video.Video.Video at 0x7f91fd5be970>,\n",
       " <smart.video.Video.Video at 0x7f91fd5ef040>,\n",
       " <smart.video.Video.Video at 0x7f91fd5ef190>,\n",
       " <smart.video.Video.Video at 0x7f91fd5ef220>,\n",
       " <smart.video.Video.Video at 0x7f91fd5ef280>,\n",
       " <smart.video.Video.Video at 0x7f91fd5ef2e0>,\n",
       " <smart.video.Video.Video at 0x7f91fd5ef340>,\n",
       " <smart.video.Video.Video at 0x7f91fd5ef3a0>,\n",
       " <smart.video.Video.Video at 0x7f91fd5ef400>,\n",
       " <smart.video.Video.Video at 0x7f91fd5ef460>,\n",
       " <smart.video.Video.Video at 0x7f91fd5ef4c0>,\n",
       " <smart.video.Video.Video at 0x7f91fd5ef520>,\n",
       " <smart.video.Video.Video at 0x7f91fd5ef580>,\n",
       " <smart.video.Video.Video at 0x7f91fd5ef5e0>,\n",
       " <smart.video.Video.Video at 0x7f91fd5ef640>,\n",
       " <smart.video.Video.Video at 0x7f91fd5ef6a0>,\n",
       " <smart.video.Video.Video at 0x7f91fd5ef700>,\n",
       " <smart.video.Video.Video at 0x7f91fd5ef760>,\n",
       " <smart.video.Video.Video at 0x7f91fd5ef7c0>,\n",
       " <smart.video.Video.Video at 0x7f91fd5ef820>,\n",
       " <smart.video.Video.Video at 0x7f91fd5ef880>,\n",
       " <smart.video.Video.Video at 0x7f91fd5ef910>,\n",
       " <smart.video.Video.Video at 0x7f91fd5ef940>,\n",
       " <smart.video.Video.Video at 0x7f91fd5ef9a0>,\n",
       " <smart.video.Video.Video at 0x7f91fd5efa00>,\n",
       " <smart.video.Video.Video at 0x7f91fd5efa60>,\n",
       " <smart.video.Video.Video at 0x7f91fd5efac0>,\n",
       " <smart.video.Video.Video at 0x7f91fd5efb20>,\n",
       " <smart.video.Video.Video at 0x7f91fd5efb80>,\n",
       " <smart.video.Video.Video at 0x7f91fd5efbe0>,\n",
       " <smart.video.Video.Video at 0x7f91fd5efc40>,\n",
       " <smart.video.Video.Video at 0x7f91fd5efca0>,\n",
       " <smart.video.Video.Video at 0x7f91fd5efd00>,\n",
       " <smart.video.Video.Video at 0x7f91fd5efd60>,\n",
       " <smart.video.Video.Video at 0x7f91fd5efdc0>,\n",
       " <smart.video.Video.Video at 0x7f91fd5efe20>,\n",
       " <smart.video.Video.Video at 0x7f91fd5efe80>,\n",
       " <smart.video.Video.Video at 0x7f91fd5ef130>,\n",
       " <smart.video.Video.Video at 0x7f91fd5eff40>,\n",
       " <smart.video.Video.Video at 0x7f91fd5effd0>,\n",
       " <smart.video.Video.Video at 0x7f9206390df0>,\n",
       " <smart.video.Video.Video at 0x7f91fd5f20a0>,\n",
       " <smart.video.Video.Video at 0x7f91fd5f2100>,\n",
       " <smart.video.Video.Video at 0x7f91fd5f2160>,\n",
       " <smart.video.Video.Video at 0x7f91fd5f21c0>,\n",
       " <smart.video.Video.Video at 0x7f91fd5f2220>,\n",
       " <smart.video.Video.Video at 0x7f91fd5f2280>,\n",
       " <smart.video.Video.Video at 0x7f91fd5f22e0>,\n",
       " <smart.video.Video.Video at 0x7f91fd5f2340>,\n",
       " <smart.video.Video.Video at 0x7f91fd5f23a0>,\n",
       " <smart.video.Video.Video at 0x7f91fd5f2400>,\n",
       " <smart.video.Video.Video at 0x7f91fd5f2460>,\n",
       " <smart.video.Video.Video at 0x7f91fd5f24c0>,\n",
       " <smart.video.Video.Video at 0x7f91fd5f2520>,\n",
       " <smart.video.Video.Video at 0x7f91fd5f2580>,\n",
       " <smart.video.Video.Video at 0x7f91fd5f25e0>,\n",
       " <smart.video.Video.Video at 0x7f91fd5f2640>,\n",
       " <smart.video.Video.Video at 0x7f91fd5f26a0>,\n",
       " <smart.video.Video.Video at 0x7f91fd5f2700>,\n",
       " <smart.video.Video.Video at 0x7f91fd5f2760>,\n",
       " <smart.video.Video.Video at 0x7f91fd5f27c0>,\n",
       " <smart.video.Video.Video at 0x7f91fd5f2820>,\n",
       " <smart.video.Video.Video at 0x7f91fd5f2880>,\n",
       " <smart.video.Video.Video at 0x7f91fd5f28e0>,\n",
       " <smart.video.Video.Video at 0x7f91fd5f2940>,\n",
       " <smart.video.Video.Video at 0x7f91fd5f29a0>,\n",
       " <smart.video.Video.Video at 0x7f91fd5f2a00>,\n",
       " <smart.video.Video.Video at 0x7f91fd5f2a60>,\n",
       " <smart.video.Video.Video at 0x7f91fd5f2ac0>,\n",
       " <smart.video.Video.Video at 0x7f91fd5f2b20>,\n",
       " <smart.video.Video.Video at 0x7f91fd5f2b80>,\n",
       " <smart.video.Video.Video at 0x7f91fd5f2be0>,\n",
       " <smart.video.Video.Video at 0x7f91fd5f2c40>,\n",
       " <smart.video.Video.Video at 0x7f91fd5f2ca0>,\n",
       " <smart.video.Video.Video at 0x7f91fd5f2d00>]"
      ]
     },
     "execution_count": 22,
     "metadata": {},
     "output_type": "execute_result"
    }
   ],
   "source": [
    "list_videos, y = model.analyse_sequence_frame(PATH_DATA, nb_frame=NB_FRAMES)\n",
    "list_videos"
   ]
  },
  {
   "cell_type": "code",
   "execution_count": 23,
   "metadata": {},
   "outputs": [
    {
     "data": {
      "text/plain": [
       "array([2, 2, 2, 2, 2, 2, 2, 2, 2, 2, 2, 2, 2, 2, 2, 2, 2, 2, 2, 2, 2, 2,\n",
       "       2, 2, 2, 2, 2, 2, 2, 2, 2, 2, 2, 2, 2, 2, 2, 2, 2, 2, 2, 2, 2, 3,\n",
       "       3, 3, 3, 3, 3, 3, 3, 3, 3, 3, 3, 3, 3, 3, 3, 3, 3, 3, 3, 1, 1, 1,\n",
       "       1, 1, 1, 1, 1, 1, 1, 1, 1, 1, 1, 1, 1, 0, 0, 0, 0, 0, 0, 0, 0, 0,\n",
       "       0, 0, 0, 0, 0, 0, 0, 0, 0, 0, 0, 0, 0, 0, 0, 0, 0, 0, 0, 0, 0, 0,\n",
       "       0, 0, 0, 0, 0, 0, 0, 0])"
      ]
     },
     "execution_count": 23,
     "metadata": {},
     "output_type": "execute_result"
    }
   ],
   "source": [
    "y = model.label_encoder(y)\n",
    "y"
   ]
  },
  {
   "cell_type": "code",
   "execution_count": 24,
   "metadata": {},
   "outputs": [
    {
     "data": {
      "text/plain": [
       "((94, 100, 3000, 3), (94,), (24, 100, 3000, 3), (24,))"
      ]
     },
     "execution_count": 24,
     "metadata": {},
     "output_type": "execute_result"
    }
   ],
   "source": [
    "# Split the data\n",
    "X_train, y_train, X_test, y_test = model.split_train_test(list_videos, y, test_size=0.2,\n",
    "                                        shape_frame=(WIDTH, HEIGHT, 3), nb_frame=NB_FRAMES)\n",
    "X_train.shape, y_train.shape, X_test.shape, y_test.shape"
   ]
  },
  {
   "cell_type": "code",
   "execution_count": 25,
   "metadata": {},
   "outputs": [
    {
     "data": {
      "text/plain": [
       "(array([31.,  0.,  0., 13.,  0.,  0., 33.,  0.,  0., 17.]),\n",
       " array([0. , 0.3, 0.6, 0.9, 1.2, 1.5, 1.8, 2.1, 2.4, 2.7, 3. ]),\n",
       " <BarContainer object of 10 artists>)"
      ]
     },
     "execution_count": 25,
     "metadata": {},
     "output_type": "execute_result"
    },
    {
     "data": {
      "image/png": "[encoded data removed]",
      "text/plain": [
       "<Figure size 640x480 with 1 Axes>"
      ]
     },
     "metadata": {},
     "output_type": "display_data"
    }
   ],
   "source": [
    "plt.hist(y_train)"
   ]
  },
  {
   "cell_type": "code",
   "execution_count": 26,
   "metadata": {},
   "outputs": [
    {
     "name": "stderr",
     "output_type": "stream",
     "text": [
      "WARNING:absl:`lr` is deprecated in Keras optimizer, please use `learning_rate` or use the legacy optimizer, e.g.,tf.keras.optimizers.legacy.RMSprop.\n"
     ]
    },
    {
     "name": "stdout",
     "output_type": "stream",
     "text": [
      "Epoch 1/5\n",
      "5/5 [==============================] - ETA: 0s - loss: 235.5655 - accuracy: 0.2933\n",
      "Epoch 1: val_loss improved from inf to 1062.85742, saving model to checkpoints/Weights-001--1062.85742.hdf5\n",
      "5/5 [==============================] - 14s 3s/step - loss: 235.5655 - accuracy: 0.2933 - val_loss: 1062.8574 - val_accuracy: 0.0000e+00\n",
      "Epoch 2/5\n",
      "5/5 [==============================] - ETA: 0s - loss: 41.2802 - accuracy: 0.7867\n",
      "Epoch 2: val_loss improved from 1062.85742 to 183.74046, saving model to checkpoints/Weights-002--183.74046.hdf5\n",
      "5/5 [==============================] - 12s 2s/step - loss: 41.2802 - accuracy: 0.7867 - val_loss: 183.7405 - val_accuracy: 0.0000e+00\n",
      "Epoch 3/5\n",
      "5/5 [==============================] - ETA: 0s - loss: 0.2382 - accuracy: 0.9733\n",
      "Epoch 3: val_loss did not improve from 183.74046\n",
      "5/5 [==============================] - 13s 3s/step - loss: 0.2382 - accuracy: 0.9733 - val_loss: 212.2291 - val_accuracy: 0.0000e+00\n",
      "Epoch 4/5\n",
      "5/5 [==============================] - ETA: 0s - loss: 0.3893 - accuracy: 0.9733\n",
      "Epoch 4: val_loss did not improve from 183.74046\n",
      "5/5 [==============================] - 12s 2s/step - loss: 0.3893 - accuracy: 0.9733 - val_loss: 198.0258 - val_accuracy: 0.0000e+00\n",
      "Epoch 5/5\n",
      "5/5 [==============================] - ETA: 0s - loss: 5.2452e-08 - accuracy: 1.0000\n",
      "Epoch 5: val_loss did not improve from 183.74046\n",
      "5/5 [==============================] - 13s 3s/step - loss: 5.2452e-08 - accuracy: 1.0000 - val_loss: 183.9770 - val_accuracy: 0.0000e+00\n"
     ]
    }
   ],
   "source": [
    "# Train the model\n",
    "history = model.train(X_train, y_train, epochs=5, batch_size=8)"
   ]
  },
  {
   "cell_type": "code",
   "execution_count": 27,
   "metadata": {},
   "outputs": [
    {
     "data": {
      "image/png": "[encoded data removed]",
      "text/plain": [
       "<Figure size 640x480 with 1 Axes>"
      ]
     },
     "metadata": {},
     "output_type": "display_data"
    }
   ],
   "source": [
    "# Visualisation\n",
    "plt.plot(history.history['loss'])\n",
    "plt.title('Model loss')  \n",
    "plt.ylabel('Val Loss')  \n",
    "plt.xlabel('Epoch')  \n",
    "plt.legend(['Train'], loc='upper left')  \n",
    "plt.show()"
   ]
  },
  {
   "cell_type": "code",
   "execution_count": 28,
   "metadata": {},
   "outputs": [
    {
     "name": "stdout",
     "output_type": "stream",
     "text": [
      "1/1 [==============================] - 1s 943ms/step - loss: 90.5001 - accuracy: 0.4167\n",
      "Loss:  90.5001220703125\n",
      "Accuracy:  0.4166666567325592\n"
     ]
    },
    {
     "data": {
      "text/plain": [
       "[90.5001220703125, 0.4166666567325592]"
      ]
     },
     "execution_count": 28,
     "metadata": {},
     "output_type": "execute_result"
    }
   ],
   "source": [
    "model.evaluate(X_test, y_test)"
   ]
  },
  {
   "cell_type": "code",
   "execution_count": 29,
   "metadata": {},
   "outputs": [],
   "source": [
    "model.save_model('saved_models/model_joueur_bas_convolution_JQI.h5')"
   ]
  }
 ],
 "metadata": {
  "kernelspec": {
   "display_name": "base",
   "language": "python",
   "name": "python3"
  },
  "language_info": {
   "codemirror_mode": {
    "name": "ipython",
    "version": 3
   },
   "file_extension": ".py",
   "mimetype": "text/x-python",
   "name": "python",
   "nbconvert_exporter": "python",
   "pygments_lexer": "ipython3",
   "version": "3.8.10"
  },
  "orig_nbformat": 4
 },
 "nbformat": 4,
 "nbformat_minor": 2
}
