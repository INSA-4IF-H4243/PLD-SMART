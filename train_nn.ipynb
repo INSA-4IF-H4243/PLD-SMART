{
 "cells": [
  {
   "cell_type": "code",
   "execution_count": 1,
   "metadata": {},
   "outputs": [],
   "source": [
    "from smart.model import ModelJoueurClassique\n",
    "import tensorflow as tf\n",
    "from keras.models import Sequential\n",
    "from keras.layers import Conv2D, MaxPooling2D, Flatten, Dense, BatchNormalization, Dropout\n",
    "import numpy as np"
   ]
  },
  {
   "cell_type": "code",
   "execution_count": 16,
   "metadata": {},
   "outputs": [],
   "source": [
    "path_dataset = 'img/JHaut'"
   ]
  },
  {
   "cell_type": "code",
   "execution_count": 17,
   "metadata": {},
   "outputs": [
    {
     "name": "stdout",
     "output_type": "stream",
     "text": [
      "Model: \"sequential\"\n",
      "_________________________________________________________________\n",
      " Layer (type)                Output Shape              Param #   \n",
      "=================================================================\n",
      " dense (Dense)               (None, 16)                600016    \n",
      "                                                                 \n",
      " dense_1 (Dense)             (None, 32)                544       \n",
      "                                                                 \n",
      " dense_2 (Dense)             (None, 64)                2112      \n",
      "                                                                 \n",
      " dense_3 (Dense)             (None, 128)               8320      \n",
      "                                                                 \n",
      " dense_4 (Dense)             (None, 4)                 516       \n",
      "                                                                 \n",
      "=================================================================\n",
      "Total params: 611,508\n",
      "Trainable params: 611,508\n",
      "Non-trainable params: 0\n",
      "_________________________________________________________________\n"
     ]
    }
   ],
   "source": [
    "model_joueur_classique = ModelJoueurClassique.load_model_from_path(\"saved_models/classic_model_1_joueur_haut.h5\")\n",
    "model_joueur_classique.summary_model"
   ]
  },
  {
   "cell_type": "code",
   "execution_count": 18,
   "metadata": {},
   "outputs": [],
   "source": [
    "# Step 1: Load the data\n",
    "list_videos, y = model_joueur_classique.analyse_sequence_frame(path_data_frame=path_dataset)"
   ]
  },
  {
   "cell_type": "code",
   "execution_count": 19,
   "metadata": {},
   "outputs": [
    {
     "data": {
      "text/plain": [
       "array([0, 0, 0, 0, 0, 0, 0, 0, 0, 0, 0, 0, 0, 0, 0, 0, 1, 1, 1, 1, 1, 1,\n",
       "       1, 1, 1, 1, 1, 1, 1, 1, 1, 1, 1, 1, 1, 1, 1, 1, 1, 1, 2, 2, 2, 2,\n",
       "       2, 2, 2, 2, 2, 2, 2, 2, 2, 2, 3, 3, 3, 3, 3, 3, 3, 3, 3, 3, 3, 3,\n",
       "       3], dtype=int64)"
      ]
     },
     "execution_count": 19,
     "metadata": {},
     "output_type": "execute_result"
    }
   ],
   "source": [
    "# Step 2: Label encoder\n",
    "y = model_joueur_classique.label_encoder(y)\n",
    "y"
   ]
  },
  {
   "cell_type": "code",
   "execution_count": 20,
   "metadata": {},
   "outputs": [
    {
     "data": {
      "text/plain": [
       "(14, 37500)"
      ]
     },
     "execution_count": 20,
     "metadata": {},
     "output_type": "execute_result"
    }
   ],
   "source": [
    "# Step 3: Split the data\n",
    "X_train, y_train, X_test, y_test = model_joueur_classique.split_train_test(list_videos, y)\n",
    "X_test.shape"
   ]
  },
  {
   "cell_type": "code",
   "execution_count": 21,
   "metadata": {},
   "outputs": [],
   "source": [
    "# Step 4: Normalize the data\n",
    "X_train, X_test = model_joueur_classique.normalize_input(X_train, X_test)"
   ]
  },
  {
   "cell_type": "code",
   "execution_count": 22,
   "metadata": {},
   "outputs": [
    {
     "name": "stdout",
     "output_type": "stream",
     "text": [
      "Epoch 1/100\n",
      "1/2 [==============>...............] - ETA: 0s - loss: 0.0012 - accuracy: 1.0000\n",
      "Epoch 1: val_loss improved from inf to 7.89873, saving model to checkpoints\\Weights-001--7.89873.hdf5\n",
      "2/2 [==============================] - 1s 249ms/step - loss: 0.0011 - accuracy: 1.0000 - val_loss: 7.8987 - val_accuracy: 0.0000e+00\n",
      "Epoch 2/100\n",
      "1/2 [==============>...............] - ETA: 0s - loss: 6.7494e-04 - accuracy: 1.0000\n",
      "Epoch 2: val_loss did not improve from 7.89873\n",
      "2/2 [==============================] - 0s 54ms/step - loss: 6.2990e-04 - accuracy: 1.0000 - val_loss: 8.2885 - val_accuracy: 0.0000e+00\n",
      "Epoch 3/100\n",
      "1/2 [==============>...............] - ETA: 0s - loss: 3.6736e-04 - accuracy: 1.0000\n",
      "Epoch 3: val_loss did not improve from 7.89873\n",
      "2/2 [==============================] - 0s 53ms/step - loss: 3.5551e-04 - accuracy: 1.0000 - val_loss: 8.7767 - val_accuracy: 0.0000e+00\n",
      "Epoch 4/100\n",
      "1/2 [==============>...............] - ETA: 0s - loss: 2.2609e-04 - accuracy: 1.0000\n",
      "Epoch 4: val_loss did not improve from 7.89873\n",
      "2/2 [==============================] - 0s 56ms/step - loss: 2.1471e-04 - accuracy: 1.0000 - val_loss: 9.2568 - val_accuracy: 0.0000e+00\n",
      "Epoch 5/100\n",
      "1/2 [==============>...............] - ETA: 0s - loss: 1.4309e-04 - accuracy: 1.0000\n",
      "Epoch 5: val_loss did not improve from 7.89873\n",
      "2/2 [==============================] - 0s 55ms/step - loss: 1.3667e-04 - accuracy: 1.0000 - val_loss: 9.5660 - val_accuracy: 0.0000e+00\n",
      "Epoch 6/100\n",
      "1/2 [==============>...............] - ETA: 0s - loss: 9.6055e-05 - accuracy: 1.0000\n",
      "Epoch 6: val_loss did not improve from 7.89873\n",
      "2/2 [==============================] - 0s 58ms/step - loss: 9.1418e-05 - accuracy: 1.0000 - val_loss: 9.7759 - val_accuracy: 0.0000e+00\n",
      "Epoch 7/100\n",
      "1/2 [==============>...............] - ETA: 0s - loss: 7.0119e-05 - accuracy: 1.0000\n",
      "Epoch 7: val_loss did not improve from 7.89873\n",
      "2/2 [==============================] - 0s 60ms/step - loss: 6.4428e-05 - accuracy: 1.0000 - val_loss: 9.9392 - val_accuracy: 0.0000e+00\n",
      "Epoch 8/100\n",
      "1/2 [==============>...............] - ETA: 0s - loss: 4.8651e-05 - accuracy: 1.0000\n",
      "Epoch 8: val_loss did not improve from 7.89873\n",
      "2/2 [==============================] - 0s 53ms/step - loss: 4.6788e-05 - accuracy: 1.0000 - val_loss: 10.0845 - val_accuracy: 0.0000e+00\n",
      "Epoch 9/100\n",
      "1/2 [==============>...............] - ETA: 0s - loss: 3.7695e-05 - accuracy: 1.0000\n",
      "Epoch 9: val_loss did not improve from 7.89873\n",
      "2/2 [==============================] - 0s 58ms/step - loss: 3.5640e-05 - accuracy: 1.0000 - val_loss: 10.2128 - val_accuracy: 0.0000e+00\n",
      "Epoch 10/100\n",
      "1/2 [==============>...............] - ETA: 0s - loss: 2.8993e-05 - accuracy: 1.0000\n",
      "Epoch 10: val_loss did not improve from 7.89873\n",
      "2/2 [==============================] - 0s 51ms/step - loss: 2.7937e-05 - accuracy: 1.0000 - val_loss: 10.3290 - val_accuracy: 0.0000e+00\n",
      "Epoch 11/100\n",
      "1/2 [==============>...............] - ETA: 0s - loss: 2.2251e-05 - accuracy: 1.0000\n",
      "Epoch 11: val_loss did not improve from 7.89873\n",
      "2/2 [==============================] - 0s 50ms/step - loss: 2.2499e-05 - accuracy: 1.0000 - val_loss: 10.4275 - val_accuracy: 0.0000e+00\n",
      "Epoch 12/100\n",
      "1/2 [==============>...............] - ETA: 0s - loss: 1.9088e-05 - accuracy: 1.0000\n",
      "Epoch 12: val_loss did not improve from 7.89873\n",
      "2/2 [==============================] - 0s 52ms/step - loss: 1.8719e-05 - accuracy: 1.0000 - val_loss: 10.5103 - val_accuracy: 0.0000e+00\n",
      "Epoch 13/100\n",
      "1/2 [==============>...............] - ETA: 0s - loss: 1.5370e-05 - accuracy: 1.0000\n",
      "Epoch 13: val_loss did not improve from 7.89873\n",
      "2/2 [==============================] - 0s 55ms/step - loss: 1.5852e-05 - accuracy: 1.0000 - val_loss: 10.5813 - val_accuracy: 0.0000e+00\n",
      "Epoch 14/100\n",
      "1/2 [==============>...............] - ETA: 0s - loss: 1.3959e-05 - accuracy: 1.0000\n",
      "Epoch 14: val_loss did not improve from 7.89873\n",
      "2/2 [==============================] - 0s 54ms/step - loss: 1.3726e-05 - accuracy: 1.0000 - val_loss: 10.6417 - val_accuracy: 0.0000e+00\n",
      "Epoch 15/100\n",
      "1/2 [==============>...............] - ETA: 0s - loss: 1.2252e-05 - accuracy: 1.0000\n",
      "Epoch 15: val_loss did not improve from 7.89873\n",
      "2/2 [==============================] - 0s 51ms/step - loss: 1.2057e-05 - accuracy: 1.0000 - val_loss: 10.6963 - val_accuracy: 0.0000e+00\n",
      "Epoch 16/100\n",
      "1/2 [==============>...............] - ETA: 0s - loss: 1.0852e-05 - accuracy: 1.0000\n",
      "Epoch 16: val_loss did not improve from 7.89873\n",
      "2/2 [==============================] - 0s 54ms/step - loss: 1.0766e-05 - accuracy: 1.0000 - val_loss: 10.7488 - val_accuracy: 0.0000e+00\n",
      "Epoch 17/100\n",
      "1/2 [==============>...............] - ETA: 0s - loss: 9.9241e-06 - accuracy: 1.0000\n",
      "Epoch 17: val_loss did not improve from 7.89873\n",
      "2/2 [==============================] - 0s 160ms/step - loss: 9.7439e-06 - accuracy: 1.0000 - val_loss: 10.7975 - val_accuracy: 0.0000e+00\n",
      "Epoch 18/100\n",
      "1/2 [==============>...............] - ETA: 0s - loss: 8.4526e-06 - accuracy: 1.0000\n",
      "Epoch 18: val_loss did not improve from 7.89873\n",
      "2/2 [==============================] - 0s 55ms/step - loss: 8.8952e-06 - accuracy: 1.0000 - val_loss: 10.8402 - val_accuracy: 0.0000e+00\n",
      "Epoch 19/100\n",
      "1/2 [==============>...............] - ETA: 0s - loss: 8.0913e-06 - accuracy: 1.0000\n",
      "Epoch 19: val_loss did not improve from 7.89873\n",
      "2/2 [==============================] - 0s 109ms/step - loss: 8.2169e-06 - accuracy: 1.0000 - val_loss: 10.8760 - val_accuracy: 0.0000e+00\n",
      "Epoch 20/100\n",
      "1/2 [==============>...............] - ETA: 0s - loss: 7.9423e-06 - accuracy: 1.0000\n",
      "Epoch 20: val_loss did not improve from 7.89873\n",
      "2/2 [==============================] - 0s 80ms/step - loss: 7.6549e-06 - accuracy: 1.0000 - val_loss: 10.9085 - val_accuracy: 0.0000e+00\n",
      "Epoch 21/100\n",
      "1/2 [==============>...............] - ETA: 0s - loss: 7.3686e-06 - accuracy: 1.0000\n",
      "Epoch 21: val_loss did not improve from 7.89873\n",
      "2/2 [==============================] - 0s 90ms/step - loss: 7.1894e-06 - accuracy: 1.0000 - val_loss: 10.9397 - val_accuracy: 0.0000e+00\n",
      "Epoch 22/100\n",
      "1/2 [==============>...............] - ETA: 0s - loss: 6.5826e-06 - accuracy: 1.0000\n",
      "Epoch 22: val_loss did not improve from 7.89873\n",
      "2/2 [==============================] - 0s 101ms/step - loss: 6.7949e-06 - accuracy: 1.0000 - val_loss: 10.9695 - val_accuracy: 0.0000e+00\n",
      "Epoch 23/100\n",
      "1/2 [==============>...............] - ETA: 0s - loss: 6.6943e-06 - accuracy: 1.0000\n",
      "Epoch 23: val_loss did not improve from 7.89873\n",
      "2/2 [==============================] - 0s 73ms/step - loss: 6.4742e-06 - accuracy: 1.0000 - val_loss: 10.9954 - val_accuracy: 0.0000e+00\n",
      "Epoch 24/100\n",
      "1/2 [==============>...............] - ETA: 0s - loss: 6.0685e-06 - accuracy: 1.0000\n",
      "Epoch 24: val_loss did not improve from 7.89873\n",
      "2/2 [==============================] - 0s 96ms/step - loss: 6.1506e-06 - accuracy: 1.0000 - val_loss: 11.0196 - val_accuracy: 0.0000e+00\n",
      "Epoch 25/100\n",
      "1/2 [==============>...............] - ETA: 0s - loss: 5.9716e-06 - accuracy: 1.0000\n",
      "Epoch 25: val_loss did not improve from 7.89873\n",
      "2/2 [==============================] - 0s 99ms/step - loss: 5.9179e-06 - accuracy: 1.0000 - val_loss: 11.0425 - val_accuracy: 0.0000e+00\n",
      "Epoch 26/100\n",
      "1/2 [==============>...............] - ETA: 0s - loss: 5.7854e-06 - accuracy: 1.0000\n",
      "Epoch 26: val_loss did not improve from 7.89873\n",
      "2/2 [==============================] - 0s 114ms/step - loss: 5.6738e-06 - accuracy: 1.0000 - val_loss: 11.0638 - val_accuracy: 0.0000e+00\n",
      "Epoch 27/100\n",
      "1/2 [==============>...............] - ETA: 0s - loss: 5.5656e-06 - accuracy: 1.0000\n",
      "Epoch 27: val_loss did not improve from 7.89873\n",
      "2/2 [==============================] - 0s 92ms/step - loss: 5.4723e-06 - accuracy: 1.0000 - val_loss: 11.0837 - val_accuracy: 0.0000e+00\n",
      "Epoch 28/100\n",
      "1/2 [==============>...............] - ETA: 0s - loss: 5.2638e-06 - accuracy: 1.0000\n",
      "Epoch 28: val_loss did not improve from 7.89873\n",
      "2/2 [==============================] - 0s 93ms/step - loss: 5.2906e-06 - accuracy: 1.0000 - val_loss: 11.1025 - val_accuracy: 0.0000e+00\n",
      "Epoch 29/100\n",
      "1/2 [==============>...............] - ETA: 0s - loss: 5.2266e-06 - accuracy: 1.0000\n",
      "Epoch 29: val_loss did not improve from 7.89873\n",
      "2/2 [==============================] - 0s 62ms/step - loss: 5.1175e-06 - accuracy: 1.0000 - val_loss: 11.1200 - val_accuracy: 0.0000e+00\n",
      "Epoch 30/100\n",
      "1/2 [==============>...............] - ETA: 0s - loss: 5.0664e-06 - accuracy: 1.0000\n",
      "Epoch 30: val_loss did not improve from 7.89873\n",
      "2/2 [==============================] - 0s 108ms/step - loss: 4.9614e-06 - accuracy: 1.0000 - val_loss: 11.1370 - val_accuracy: 0.0000e+00\n",
      "Epoch 31/100\n",
      "1/2 [==============>...............] - ETA: 0s - loss: 4.7572e-06 - accuracy: 1.0000\n",
      "Epoch 31: val_loss did not improve from 7.89873\n",
      "2/2 [==============================] - 0s 95ms/step - loss: 4.8166e-06 - accuracy: 1.0000 - val_loss: 11.1536 - val_accuracy: 0.0000e+00\n",
      "Epoch 32/100\n",
      "1/2 [==============>...............] - ETA: 0s - loss: 4.8056e-06 - accuracy: 1.0000\n",
      "Epoch 32: val_loss did not improve from 7.89873\n",
      "2/2 [==============================] - 0s 123ms/step - loss: 4.7088e-06 - accuracy: 1.0000 - val_loss: 11.1696 - val_accuracy: 0.0000e+00\n",
      "Epoch 33/100\n",
      "1/2 [==============>...............] - ETA: 0s - loss: 4.4852e-06 - accuracy: 1.0000\n",
      "Epoch 33: val_loss did not improve from 7.89873\n",
      "2/2 [==============================] - 0s 124ms/step - loss: 4.5697e-06 - accuracy: 1.0000 - val_loss: 11.1864 - val_accuracy: 0.0000e+00\n",
      "Epoch 34/100\n",
      "1/2 [==============>...............] - ETA: 0s - loss: 4.3847e-06 - accuracy: 1.0000\n",
      "Epoch 34: val_loss did not improve from 7.89873\n",
      "2/2 [==============================] - 0s 136ms/step - loss: 4.4675e-06 - accuracy: 1.0000 - val_loss: 11.2023 - val_accuracy: 0.0000e+00\n",
      "Epoch 35/100\n",
      "1/2 [==============>...............] - ETA: 0s - loss: 4.3176e-06 - accuracy: 1.0000\n",
      "Epoch 35: val_loss did not improve from 7.89873\n",
      "2/2 [==============================] - 0s 119ms/step - loss: 4.3568e-06 - accuracy: 1.0000 - val_loss: 11.2174 - val_accuracy: 0.0000e+00\n",
      "Epoch 36/100\n",
      "1/2 [==============>...............] - ETA: 0s - loss: 4.2952e-06 - accuracy: 1.0000\n",
      "Epoch 36: val_loss did not improve from 7.89873\n",
      "2/2 [==============================] - 0s 102ms/step - loss: 4.2490e-06 - accuracy: 1.0000 - val_loss: 11.2331 - val_accuracy: 0.0000e+00\n",
      "Epoch 37/100\n",
      "1/2 [==============>...............] - ETA: 0s - loss: 4.0233e-06 - accuracy: 1.0000\n",
      "Epoch 37: val_loss did not improve from 7.89873\n",
      "2/2 [==============================] - 0s 97ms/step - loss: 4.1638e-06 - accuracy: 1.0000 - val_loss: 11.2484 - val_accuracy: 0.0000e+00\n",
      "Epoch 38/100\n",
      "1/2 [==============>...............] - ETA: 0s - loss: 4.0680e-06 - accuracy: 1.0000\n",
      "Epoch 38: val_loss did not improve from 7.89873\n",
      "2/2 [==============================] - 0s 50ms/step - loss: 4.0588e-06 - accuracy: 1.0000 - val_loss: 11.2624 - val_accuracy: 0.0000e+00\n",
      "Epoch 39/100\n",
      "1/2 [==============>...............] - ETA: 0s - loss: 4.0978e-06 - accuracy: 1.0000\n",
      "Epoch 39: val_loss did not improve from 7.89873\n",
      "2/2 [==============================] - 0s 59ms/step - loss: 3.9736e-06 - accuracy: 1.0000 - val_loss: 11.2772 - val_accuracy: 0.0000e+00\n",
      "Epoch 40/100\n",
      "1/2 [==============>...............] - ETA: 0s - loss: 3.9637e-06 - accuracy: 1.0000\n",
      "Epoch 40: val_loss did not improve from 7.89873\n",
      "2/2 [==============================] - 0s 75ms/step - loss: 3.8885e-06 - accuracy: 1.0000 - val_loss: 11.2916 - val_accuracy: 0.0000e+00\n",
      "Epoch 41/100\n",
      "1/2 [==============>...............] - ETA: 0s - loss: 3.6173e-06 - accuracy: 1.0000\n",
      "Epoch 41: val_loss did not improve from 7.89873\n",
      "2/2 [==============================] - 0s 81ms/step - loss: 3.8119e-06 - accuracy: 1.0000 - val_loss: 11.3053 - val_accuracy: 0.0000e+00\n",
      "Epoch 42/100\n",
      "1/2 [==============>...............] - ETA: 0s - loss: 3.8147e-06 - accuracy: 1.0000\n",
      "Epoch 42: val_loss did not improve from 7.89873\n",
      "2/2 [==============================] - 0s 104ms/step - loss: 3.7381e-06 - accuracy: 1.0000 - val_loss: 11.3179 - val_accuracy: 0.0000e+00\n",
      "Epoch 43/100\n",
      "1/2 [==============>...............] - ETA: 0s - loss: 3.6396e-06 - accuracy: 1.0000\n",
      "Epoch 43: val_loss did not improve from 7.89873\n",
      "2/2 [==============================] - 0s 105ms/step - loss: 3.6472e-06 - accuracy: 1.0000 - val_loss: 11.3304 - val_accuracy: 0.0000e+00\n",
      "Epoch 44/100\n",
      "1/2 [==============>...............] - ETA: 0s - loss: 3.6396e-06 - accuracy: 1.0000\n",
      "Epoch 44: val_loss did not improve from 7.89873\n",
      "2/2 [==============================] - 0s 111ms/step - loss: 3.5763e-06 - accuracy: 1.0000 - val_loss: 11.3427 - val_accuracy: 0.0000e+00\n",
      "Epoch 45/100\n",
      "1/2 [==============>...............] - ETA: 0s - loss: 3.4459e-06 - accuracy: 1.0000\n",
      "Epoch 45: val_loss did not improve from 7.89873\n",
      "2/2 [==============================] - 0s 85ms/step - loss: 3.4996e-06 - accuracy: 1.0000 - val_loss: 11.3552 - val_accuracy: 0.0000e+00\n",
      "Epoch 46/100\n",
      "1/2 [==============>...............] - ETA: 0s - loss: 3.4049e-06 - accuracy: 1.0000\n",
      "Epoch 46: val_loss did not improve from 7.89873\n",
      "2/2 [==============================] - 0s 68ms/step - loss: 3.4344e-06 - accuracy: 1.0000 - val_loss: 11.3673 - val_accuracy: 0.0000e+00\n",
      "Epoch 47/100\n",
      "1/2 [==============>...............] - ETA: 0s - loss: 3.4049e-06 - accuracy: 1.0000\n",
      "Epoch 47: val_loss did not improve from 7.89873\n",
      "2/2 [==============================] - 0s 100ms/step - loss: 3.3577e-06 - accuracy: 1.0000 - val_loss: 11.3795 - val_accuracy: 0.0000e+00\n",
      "Epoch 48/100\n",
      "1/2 [==============>...............] - ETA: 0s - loss: 3.3267e-06 - accuracy: 1.0000\n",
      "Epoch 48: val_loss did not improve from 7.89873\n",
      "2/2 [==============================] - 0s 74ms/step - loss: 3.3095e-06 - accuracy: 1.0000 - val_loss: 11.3928 - val_accuracy: 0.0000e+00\n",
      "Epoch 49/100\n",
      "1/2 [==============>...............] - ETA: 0s - loss: 3.2298e-06 - accuracy: 1.0000\n",
      "Epoch 49: val_loss did not improve from 7.89873\n",
      "2/2 [==============================] - 0s 91ms/step - loss: 3.2272e-06 - accuracy: 1.0000 - val_loss: 11.4072 - val_accuracy: 0.0000e+00\n",
      "Epoch 50/100\n",
      "1/2 [==============>...............] - ETA: 0s - loss: 3.1516e-06 - accuracy: 1.0000\n",
      "Epoch 50: val_loss did not improve from 7.89873\n",
      "2/2 [==============================] - 0s 100ms/step - loss: 3.1817e-06 - accuracy: 1.0000 - val_loss: 11.4208 - val_accuracy: 0.0000e+00\n",
      "Epoch 51/100\n",
      "1/2 [==============>...............] - ETA: 0s - loss: 3.0622e-06 - accuracy: 1.0000\n",
      "Epoch 51: val_loss did not improve from 7.89873\n",
      "2/2 [==============================] - 0s 98ms/step - loss: 3.0994e-06 - accuracy: 1.0000 - val_loss: 11.4323 - val_accuracy: 0.0000e+00\n",
      "Epoch 52/100\n",
      "1/2 [==============>...............] - ETA: 0s - loss: 3.0808e-06 - accuracy: 1.0000\n",
      "Epoch 52: val_loss did not improve from 7.89873\n",
      "2/2 [==============================] - 0s 97ms/step - loss: 3.0512e-06 - accuracy: 1.0000 - val_loss: 11.4429 - val_accuracy: 0.0000e+00\n",
      "Epoch 53/100\n",
      "1/2 [==============>...............] - ETA: 0s - loss: 2.9951e-06 - accuracy: 1.0000\n",
      "Epoch 53: val_loss did not improve from 7.89873\n",
      "2/2 [==============================] - 0s 87ms/step - loss: 2.9973e-06 - accuracy: 1.0000 - val_loss: 11.4541 - val_accuracy: 0.0000e+00\n",
      "Epoch 54/100\n",
      "1/2 [==============>...............] - ETA: 0s - loss: 2.9765e-06 - accuracy: 1.0000\n",
      "Epoch 54: val_loss did not improve from 7.89873\n",
      "2/2 [==============================] - 0s 81ms/step - loss: 2.9405e-06 - accuracy: 1.0000 - val_loss: 11.4655 - val_accuracy: 0.0000e+00\n",
      "Epoch 55/100\n",
      "1/2 [==============>...............] - ETA: 0s - loss: 2.9579e-06 - accuracy: 1.0000\n",
      "Epoch 55: val_loss did not improve from 7.89873\n",
      "2/2 [==============================] - 0s 52ms/step - loss: 2.8780e-06 - accuracy: 1.0000 - val_loss: 11.4765 - val_accuracy: 0.0000e+00\n",
      "Epoch 56/100\n",
      "1/2 [==============>...............] - ETA: 0s - loss: 2.8536e-06 - accuracy: 1.0000\n",
      "Epoch 56: val_loss did not improve from 7.89873\n",
      "2/2 [==============================] - 0s 67ms/step - loss: 2.8383e-06 - accuracy: 1.0000 - val_loss: 11.4871 - val_accuracy: 0.0000e+00\n",
      "Epoch 57/100\n",
      "1/2 [==============>...............] - ETA: 0s - loss: 2.8685e-06 - accuracy: 1.0000\n",
      "Epoch 57: val_loss did not improve from 7.89873\n",
      "2/2 [==============================] - 0s 60ms/step - loss: 2.7957e-06 - accuracy: 1.0000 - val_loss: 11.4981 - val_accuracy: 0.0000e+00\n",
      "Epoch 58/100\n",
      "1/2 [==============>...............] - ETA: 0s - loss: 2.7493e-06 - accuracy: 1.0000\n",
      "Epoch 58: val_loss did not improve from 7.89873\n",
      "2/2 [==============================] - 0s 62ms/step - loss: 2.7276e-06 - accuracy: 1.0000 - val_loss: 11.5098 - val_accuracy: 0.0000e+00\n",
      "Epoch 59/100\n",
      "1/2 [==============>...............] - ETA: 0s - loss: 2.7306e-06 - accuracy: 1.0000\n",
      "Epoch 59: val_loss did not improve from 7.89873\n",
      "2/2 [==============================] - 0s 58ms/step - loss: 2.6850e-06 - accuracy: 1.0000 - val_loss: 11.5219 - val_accuracy: 0.0000e+00\n",
      "Epoch 60/100\n",
      "1/2 [==============>...............] - ETA: 0s - loss: 2.6971e-06 - accuracy: 1.0000\n",
      "Epoch 60: val_loss did not improve from 7.89873\n",
      "2/2 [==============================] - 0s 98ms/step - loss: 2.6368e-06 - accuracy: 1.0000 - val_loss: 11.5337 - val_accuracy: 0.0000e+00\n",
      "Epoch 61/100\n",
      "1/2 [==============>...............] - ETA: 0s - loss: 2.5518e-06 - accuracy: 1.0000\n",
      "Epoch 61: val_loss did not improve from 7.89873\n",
      "2/2 [==============================] - 0s 61ms/step - loss: 2.5829e-06 - accuracy: 1.0000 - val_loss: 11.5458 - val_accuracy: 0.0000e+00\n",
      "Epoch 62/100\n",
      "1/2 [==============>...............] - ETA: 0s - loss: 2.5928e-06 - accuracy: 1.0000\n",
      "Epoch 62: val_loss did not improve from 7.89873\n",
      "2/2 [==============================] - 0s 85ms/step - loss: 2.5431e-06 - accuracy: 1.0000 - val_loss: 11.5574 - val_accuracy: 0.0000e+00\n",
      "Epoch 63/100\n",
      "1/2 [==============>...............] - ETA: 0s - loss: 2.5518e-06 - accuracy: 1.0000\n",
      "Epoch 63: val_loss did not improve from 7.89873\n",
      "2/2 [==============================] - 0s 67ms/step - loss: 2.5091e-06 - accuracy: 1.0000 - val_loss: 11.5684 - val_accuracy: 0.0000e+00\n",
      "Epoch 64/100\n",
      "1/2 [==============>...............] - ETA: 0s - loss: 2.4922e-06 - accuracy: 1.0000\n",
      "Epoch 64: val_loss did not improve from 7.89873\n",
      "2/2 [==============================] - 0s 87ms/step - loss: 2.4637e-06 - accuracy: 1.0000 - val_loss: 11.5796 - val_accuracy: 0.0000e+00\n",
      "Epoch 65/100\n",
      "1/2 [==============>...............] - ETA: 0s - loss: 2.4028e-06 - accuracy: 1.0000\n",
      "Epoch 65: val_loss did not improve from 7.89873\n",
      "2/2 [==============================] - 0s 69ms/step - loss: 2.4239e-06 - accuracy: 1.0000 - val_loss: 11.5907 - val_accuracy: 0.0000e+00\n",
      "Epoch 66/100\n",
      "1/2 [==============>...............] - ETA: 0s - loss: 2.4103e-06 - accuracy: 1.0000\n",
      "Epoch 66: val_loss did not improve from 7.89873\n",
      "2/2 [==============================] - 0s 87ms/step - loss: 2.3728e-06 - accuracy: 1.0000 - val_loss: 11.6012 - val_accuracy: 0.0000e+00\n",
      "Epoch 67/100\n",
      "1/2 [==============>...............] - ETA: 0s - loss: 2.3395e-06 - accuracy: 1.0000\n",
      "Epoch 67: val_loss did not improve from 7.89873\n",
      "2/2 [==============================] - 0s 47ms/step - loss: 2.3303e-06 - accuracy: 1.0000 - val_loss: 11.6119 - val_accuracy: 0.0000e+00\n",
      "Epoch 68/100\n",
      "1/2 [==============>...............] - ETA: 0s - loss: 2.3358e-06 - accuracy: 1.0000\n",
      "Epoch 68: val_loss did not improve from 7.89873\n",
      "2/2 [==============================] - 0s 46ms/step - loss: 2.2848e-06 - accuracy: 1.0000 - val_loss: 11.6224 - val_accuracy: 0.0000e+00\n",
      "Epoch 69/100\n",
      "1/2 [==============>...............] - ETA: 0s - loss: 2.2985e-06 - accuracy: 1.0000\n",
      "Epoch 69: val_loss did not improve from 7.89873\n",
      "2/2 [==============================] - 0s 91ms/step - loss: 2.2423e-06 - accuracy: 1.0000 - val_loss: 11.6332 - val_accuracy: 0.0000e+00\n",
      "Epoch 70/100\n",
      "1/2 [==============>...............] - ETA: 0s - loss: 2.2128e-06 - accuracy: 1.0000\n",
      "Epoch 70: val_loss did not improve from 7.89873\n",
      "2/2 [==============================] - 0s 70ms/step - loss: 2.1940e-06 - accuracy: 1.0000 - val_loss: 11.6435 - val_accuracy: 0.0000e+00\n",
      "Epoch 71/100\n",
      "1/2 [==============>...............] - ETA: 0s - loss: 2.1495e-06 - accuracy: 1.0000\n",
      "Epoch 71: val_loss did not improve from 7.89873\n",
      "2/2 [==============================] - 0s 74ms/step - loss: 2.1458e-06 - accuracy: 1.0000 - val_loss: 11.6525 - val_accuracy: 0.0000e+00\n",
      "Epoch 72/100\n",
      "1/2 [==============>...............] - ETA: 0s - loss: 2.1644e-06 - accuracy: 1.0000\n",
      "Epoch 72: val_loss did not improve from 7.89873\n",
      "2/2 [==============================] - 0s 66ms/step - loss: 2.1089e-06 - accuracy: 1.0000 - val_loss: 11.6606 - val_accuracy: 0.0000e+00\n",
      "Epoch 73/100\n",
      "1/2 [==============>...............] - ETA: 0s - loss: 2.0713e-06 - accuracy: 1.0000\n",
      "Epoch 73: val_loss did not improve from 7.89873\n",
      "2/2 [==============================] - 0s 69ms/step - loss: 2.0720e-06 - accuracy: 1.0000 - val_loss: 11.6687 - val_accuracy: 0.0000e+00\n",
      "Epoch 74/100\n",
      "1/2 [==============>...............] - ETA: 0s - loss: 2.0303e-06 - accuracy: 1.0000\n",
      "Epoch 74: val_loss did not improve from 7.89873\n",
      "2/2 [==============================] - 0s 70ms/step - loss: 2.0294e-06 - accuracy: 1.0000 - val_loss: 11.6772 - val_accuracy: 0.0000e+00\n",
      "Epoch 75/100\n",
      "1/2 [==============>...............] - ETA: 0s - loss: 2.0005e-06 - accuracy: 1.0000\n",
      "Epoch 75: val_loss did not improve from 7.89873\n",
      "2/2 [==============================] - 0s 99ms/step - loss: 1.9982e-06 - accuracy: 1.0000 - val_loss: 11.6849 - val_accuracy: 0.0000e+00\n",
      "Epoch 76/100\n",
      "1/2 [==============>...............] - ETA: 0s - loss: 2.0042e-06 - accuracy: 1.0000\n",
      "Epoch 76: val_loss did not improve from 7.89873\n",
      "2/2 [==============================] - 0s 115ms/step - loss: 1.9783e-06 - accuracy: 1.0000 - val_loss: 11.6917 - val_accuracy: 0.0000e+00\n",
      "Epoch 77/100\n",
      "1/2 [==============>...............] - ETA: 0s - loss: 1.9930e-06 - accuracy: 1.0000\n",
      "Epoch 77: val_loss did not improve from 7.89873\n",
      "2/2 [==============================] - 0s 106ms/step - loss: 1.9386e-06 - accuracy: 1.0000 - val_loss: 11.6985 - val_accuracy: 0.0000e+00\n",
      "Epoch 78/100\n",
      "1/2 [==============>...............] - ETA: 0s - loss: 1.9073e-06 - accuracy: 1.0000\n",
      "Epoch 78: val_loss did not improve from 7.89873\n",
      "2/2 [==============================] - 0s 84ms/step - loss: 1.9102e-06 - accuracy: 1.0000 - val_loss: 11.7056 - val_accuracy: 0.0000e+00\n",
      "Epoch 79/100\n",
      "1/2 [==============>...............] - ETA: 0s - loss: 1.9073e-06 - accuracy: 1.0000\n",
      "Epoch 79: val_loss did not improve from 7.89873\n",
      "2/2 [==============================] - 0s 69ms/step - loss: 1.8676e-06 - accuracy: 1.0000 - val_loss: 11.7123 - val_accuracy: 0.0000e+00\n",
      "Epoch 80/100\n",
      "1/2 [==============>...............] - ETA: 0s - loss: 1.7881e-06 - accuracy: 1.0000\n",
      "Epoch 80: val_loss did not improve from 7.89873\n",
      "2/2 [==============================] - 0s 105ms/step - loss: 1.8534e-06 - accuracy: 1.0000 - val_loss: 11.7192 - val_accuracy: 0.0000e+00\n",
      "Epoch 81/100\n",
      "1/2 [==============>...............] - ETA: 0s - loss: 1.8217e-06 - accuracy: 1.0000\n",
      "Epoch 81: val_loss did not improve from 7.89873\n",
      "2/2 [==============================] - 0s 84ms/step - loss: 1.8222e-06 - accuracy: 1.0000 - val_loss: 11.7257 - val_accuracy: 0.0000e+00\n",
      "Epoch 82/100\n",
      "1/2 [==============>...............] - ETA: 0s - loss: 1.8142e-06 - accuracy: 1.0000\n",
      "Epoch 82: val_loss did not improve from 7.89873\n",
      "2/2 [==============================] - 0s 111ms/step - loss: 1.7995e-06 - accuracy: 1.0000 - val_loss: 11.7314 - val_accuracy: 0.0000e+00\n",
      "Epoch 83/100\n",
      "1/2 [==============>...............] - ETA: 0s - loss: 1.7844e-06 - accuracy: 1.0000\n",
      "Epoch 83: val_loss did not improve from 7.89873\n",
      "2/2 [==============================] - 0s 109ms/step - loss: 1.7768e-06 - accuracy: 1.0000 - val_loss: 11.7368 - val_accuracy: 0.0000e+00\n",
      "Epoch 84/100\n",
      "1/2 [==============>...............] - ETA: 0s - loss: 1.6838e-06 - accuracy: 1.0000\n",
      "Epoch 84: val_loss did not improve from 7.89873\n",
      "2/2 [==============================] - 0s 114ms/step - loss: 1.7427e-06 - accuracy: 1.0000 - val_loss: 11.7429 - val_accuracy: 0.0000e+00\n",
      "Epoch 85/100\n",
      "1/2 [==============>...............] - ETA: 0s - loss: 1.7025e-06 - accuracy: 1.0000\n",
      "Epoch 85: val_loss did not improve from 7.89873\n",
      "2/2 [==============================] - 0s 72ms/step - loss: 1.7115e-06 - accuracy: 1.0000 - val_loss: 11.7486 - val_accuracy: 0.0000e+00\n",
      "Epoch 86/100\n",
      "1/2 [==============>...............] - ETA: 0s - loss: 1.7323e-06 - accuracy: 1.0000\n",
      "Epoch 86: val_loss did not improve from 7.89873\n",
      "2/2 [==============================] - 0s 72ms/step - loss: 1.6973e-06 - accuracy: 1.0000 - val_loss: 11.7550 - val_accuracy: 0.0000e+00\n",
      "Epoch 87/100\n",
      "1/2 [==============>...............] - ETA: 0s - loss: 1.7099e-06 - accuracy: 1.0000\n",
      "Epoch 87: val_loss did not improve from 7.89873\n",
      "2/2 [==============================] - 0s 73ms/step - loss: 1.6604e-06 - accuracy: 1.0000 - val_loss: 11.7622 - val_accuracy: 0.0000e+00\n",
      "Epoch 88/100\n",
      "1/2 [==============>...............] - ETA: 0s - loss: 1.6280e-06 - accuracy: 1.0000\n",
      "Epoch 88: val_loss did not improve from 7.89873\n",
      "2/2 [==============================] - 0s 107ms/step - loss: 1.6349e-06 - accuracy: 1.0000 - val_loss: 11.7703 - val_accuracy: 0.0000e+00\n",
      "Epoch 89/100\n",
      "1/2 [==============>...............] - ETA: 0s - loss: 1.5832e-06 - accuracy: 1.0000\n",
      "Epoch 89: val_loss did not improve from 7.89873\n",
      "2/2 [==============================] - 0s 91ms/step - loss: 1.6150e-06 - accuracy: 1.0000 - val_loss: 11.7777 - val_accuracy: 0.0000e+00\n",
      "Epoch 90/100\n",
      "1/2 [==============>...............] - ETA: 0s - loss: 1.5013e-06 - accuracy: 1.0000\n",
      "Epoch 90: val_loss did not improve from 7.89873\n",
      "2/2 [==============================] - 0s 112ms/step - loss: 1.5866e-06 - accuracy: 1.0000 - val_loss: 11.7838 - val_accuracy: 0.0000e+00\n",
      "Epoch 91/100\n",
      "1/2 [==============>...............] - ETA: 0s - loss: 1.5274e-06 - accuracy: 1.0000\n",
      "Epoch 91: val_loss did not improve from 7.89873\n",
      "2/2 [==============================] - 0s 109ms/step - loss: 1.5526e-06 - accuracy: 1.0000 - val_loss: 11.7887 - val_accuracy: 0.0000e+00\n",
      "Epoch 92/100\n",
      "1/2 [==============>...............] - ETA: 0s - loss: 1.5683e-06 - accuracy: 1.0000\n",
      "Epoch 92: val_loss did not improve from 7.89873\n",
      "2/2 [==============================] - 0s 114ms/step - loss: 1.5384e-06 - accuracy: 1.0000 - val_loss: 11.7937 - val_accuracy: 0.0000e+00\n",
      "Epoch 93/100\n",
      "1/2 [==============>...............] - ETA: 0s - loss: 1.5348e-06 - accuracy: 1.0000\n",
      "Epoch 93: val_loss did not improve from 7.89873\n",
      "2/2 [==============================] - 0s 111ms/step - loss: 1.5128e-06 - accuracy: 1.0000 - val_loss: 11.7987 - val_accuracy: 0.0000e+00\n",
      "Epoch 94/100\n",
      "1/2 [==============>...............] - ETA: 0s - loss: 1.5013e-06 - accuracy: 1.0000\n",
      "Epoch 94: val_loss did not improve from 7.89873\n",
      "2/2 [==============================] - 0s 105ms/step - loss: 1.4901e-06 - accuracy: 1.0000 - val_loss: 11.8040 - val_accuracy: 0.0000e+00\n",
      "Epoch 95/100\n",
      "1/2 [==============>...............] - ETA: 0s - loss: 1.5236e-06 - accuracy: 1.0000\n",
      "Epoch 95: val_loss did not improve from 7.89873\n",
      "2/2 [==============================] - 0s 91ms/step - loss: 1.4788e-06 - accuracy: 1.0000 - val_loss: 11.8092 - val_accuracy: 0.0000e+00\n",
      "Epoch 96/100\n",
      "1/2 [==============>...............] - ETA: 0s - loss: 1.4305e-06 - accuracy: 1.0000\n",
      "Epoch 96: val_loss did not improve from 7.89873\n",
      "2/2 [==============================] - 0s 84ms/step - loss: 1.4390e-06 - accuracy: 1.0000 - val_loss: 11.8145 - val_accuracy: 0.0000e+00\n",
      "Epoch 97/100\n",
      "1/2 [==============>...............] - ETA: 0s - loss: 1.4715e-06 - accuracy: 1.0000\n",
      "Epoch 97: val_loss did not improve from 7.89873\n",
      "2/2 [==============================] - 0s 109ms/step - loss: 1.4106e-06 - accuracy: 1.0000 - val_loss: 11.8200 - val_accuracy: 0.0000e+00\n",
      "Epoch 98/100\n",
      "1/2 [==============>...............] - ETA: 0s - loss: 1.3486e-06 - accuracy: 1.0000\n",
      "Epoch 98: val_loss did not improve from 7.89873\n",
      "2/2 [==============================] - 0s 85ms/step - loss: 1.3993e-06 - accuracy: 1.0000 - val_loss: 11.8253 - val_accuracy: 0.0000e+00\n",
      "Epoch 99/100\n",
      "1/2 [==============>...............] - ETA: 0s - loss: 1.3821e-06 - accuracy: 1.0000\n",
      "Epoch 99: val_loss did not improve from 7.89873\n",
      "2/2 [==============================] - 0s 110ms/step - loss: 1.3936e-06 - accuracy: 1.0000 - val_loss: 11.8308 - val_accuracy: 0.0000e+00\n",
      "Epoch 100/100\n",
      "1/2 [==============>...............] - ETA: 0s - loss: 1.3895e-06 - accuracy: 1.0000\n",
      "Epoch 100: val_loss did not improve from 7.89873\n",
      "2/2 [==============================] - 0s 110ms/step - loss: 1.3737e-06 - accuracy: 1.0000 - val_loss: 11.8370 - val_accuracy: 0.0000e+00\n"
     ]
    }
   ],
   "source": [
    "# Step 5: Train the model\n",
    "history = model_joueur_classique.train(X_train, y_train, epochs=100)"
   ]
  },
  {
   "cell_type": "code",
   "execution_count": 23,
   "metadata": {},
   "outputs": [
    {
     "name": "stdout",
     "output_type": "stream",
     "text": [
      "1/1 [==============================] - 0s 25ms/step - loss: 3.4565 - accuracy: 0.5714\n",
      "Loss:  3.456465005874634\n",
      "Accuracy:  0.5714285969734192\n"
     ]
    }
   ],
   "source": [
    "# Step 6: evaluate\n",
    "loss, accuracy = model_joueur_classique.evaluate(X_test, y_test)"
   ]
  },
  {
   "cell_type": "code",
   "execution_count": 24,
   "metadata": {},
   "outputs": [
    {
     "data": {
      "text/plain": [
       "array([[0., 0., 0., ..., 0., 0., 0.],\n",
       "       [0., 0., 0., ..., 0., 0., 0.],\n",
       "       [0., 0., 0., ..., 0., 0., 0.],\n",
       "       ...,\n",
       "       [0., 0., 0., ..., 0., 0., 0.],\n",
       "       [0., 0., 0., ..., 0., 0., 0.],\n",
       "       [0., 0., 0., ..., 0., 0., 0.]])"
      ]
     },
     "execution_count": 24,
     "metadata": {},
     "output_type": "execute_result"
    }
   ],
   "source": [
    "X_test"
   ]
  },
  {
   "cell_type": "code",
   "execution_count": 25,
   "metadata": {},
   "outputs": [
    {
     "data": {
      "text/plain": [
       "array([[0., 0., 0., ..., 0., 0., 0.]])"
      ]
     },
     "execution_count": 25,
     "metadata": {},
     "output_type": "execute_result"
    }
   ],
   "source": [
    "example_input = np.reshape(X_test[0], (1, 50*50*15))\n",
    "example_input"
   ]
  },
  {
   "cell_type": "code",
   "execution_count": 26,
   "metadata": {},
   "outputs": [
    {
     "name": "stdout",
     "output_type": "stream",
     "text": [
      "1/1 [==============================] - 0s 65ms/step\n"
     ]
    },
    {
     "data": {
      "text/plain": [
       "array([0], dtype=int64)"
      ]
     },
     "execution_count": 26,
     "metadata": {},
     "output_type": "execute_result"
    }
   ],
   "source": [
    "# Step 7: predict\n",
    "y_pred = model_joueur_classique.predict(example_input)\n",
    "y_pred"
   ]
  },
  {
   "cell_type": "code",
   "execution_count": 29,
   "metadata": {},
   "outputs": [],
   "source": [
    "possible_outputs = ['coup droit', 'revers', 'service', 'deplacement']"
   ]
  },
  {
   "cell_type": "code",
   "execution_count": 30,
   "metadata": {},
   "outputs": [
    {
     "name": "stdout",
     "output_type": "stream",
     "text": [
      "1/1 [==============================] - 0s 21ms/step\n"
     ]
    },
    {
     "data": {
      "text/plain": [
       "array(['coup droit'], dtype='<U11')"
      ]
     },
     "execution_count": 30,
     "metadata": {},
     "output_type": "execute_result"
    }
   ],
   "source": [
    "pred_label = model_joueur_classique.predict_label(example_input, possible_outputs)\n",
    "pred_label"
   ]
  },
  {
   "cell_type": "code",
   "execution_count": 28,
   "metadata": {},
   "outputs": [],
   "source": [
    "# Final step: save the model\n",
    "model_joueur_classique.save_model('saved_models/classic_model_1_joueur_haut.h5')"
   ]
  }
 ],
 "metadata": {
  "kernelspec": {
   "display_name": "base",
   "language": "python",
   "name": "python3"
  },
  "language_info": {
   "codemirror_mode": {
    "name": "ipython",
    "version": 3
   },
   "file_extension": ".py",
   "mimetype": "text/x-python",
   "name": "python",
   "nbconvert_exporter": "python",
   "pygments_lexer": "ipython3",
   "version": "3.9.13"
  },
  "orig_nbformat": 4
 },
 "nbformat": 4,
 "nbformat_minor": 2
}
