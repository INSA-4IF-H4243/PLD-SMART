{
 "cells": [
  {
   "cell_type": "code",
   "execution_count": 21,
   "metadata": {},
   "outputs": [],
   "source": [
    "from smart.model import ModelJoueurClassique\n",
    "import tensorflow as tf\n",
    "from keras.models import Sequential\n",
    "from keras.layers import Conv2D, MaxPooling2D, Flatten, Dense, BatchNormalization, Dropout\n",
    "import numpy as np"
   ]
  },
  {
   "cell_type": "code",
   "execution_count": 22,
   "metadata": {},
   "outputs": [],
   "source": [
    "path_dataset = 'img/JHaut'"
   ]
  },
  {
   "cell_type": "code",
   "execution_count": 23,
   "metadata": {},
   "outputs": [
    {
     "name": "stdout",
     "output_type": "stream",
     "text": [
      "Model: \"sequential\"\n",
      "_________________________________________________________________\n",
      " Layer (type)                Output Shape              Param #   \n",
      "=================================================================\n",
      " dense (Dense)               (None, 16)                600016    \n",
      "                                                                 \n",
      " dense_1 (Dense)             (None, 32)                544       \n",
      "                                                                 \n",
      " dense_2 (Dense)             (None, 64)                2112      \n",
      "                                                                 \n",
      " dense_3 (Dense)             (None, 128)               8320      \n",
      "                                                                 \n",
      " dense_4 (Dense)             (None, 4)                 516       \n",
      "                                                                 \n",
      "=================================================================\n",
      "Total params: 611,508\n",
      "Trainable params: 611,508\n",
      "Non-trainable params: 0\n",
      "_________________________________________________________________\n"
     ]
    }
   ],
   "source": [
    "model_joueur_classique = ModelJoueurClassique.load_model_from_path(\"saved_models/classic_model_1_joueur_haut.h5\")\n",
    "model_joueur_classique.summary_model"
   ]
  },
  {
   "cell_type": "code",
   "execution_count": 24,
   "metadata": {},
   "outputs": [
    {
     "data": {
      "text/plain": [
       "(144, 144)"
      ]
     },
     "execution_count": 24,
     "metadata": {},
     "output_type": "execute_result"
    }
   ],
   "source": [
    "# Step 1: Load the data\n",
    "list_videos, y = model_joueur_classique.analyse_sequence_frame(path_data_frame=path_dataset)\n",
    "len(list_videos), len(y)"
   ]
  },
  {
   "cell_type": "code",
   "execution_count": 25,
   "metadata": {},
   "outputs": [
    {
     "data": {
      "text/plain": [
       "array([0, 0, 0, 0, 0, 0, 0, 0, 0, 0, 0, 0, 0, 0, 0, 0, 0, 0, 0, 0, 0, 0,\n",
       "       0, 0, 0, 0, 0, 0, 0, 0, 0, 0, 0, 1, 1, 1, 1, 1, 1, 1, 1, 1, 1, 1,\n",
       "       1, 1, 1, 1, 1, 1, 1, 1, 1, 1, 1, 1, 1, 1, 1, 1, 1, 1, 1, 1, 1, 1,\n",
       "       1, 1, 1, 2, 2, 2, 2, 2, 2, 2, 2, 2, 2, 2, 2, 2, 2, 2, 2, 2, 2, 2,\n",
       "       2, 2, 2, 2, 2, 2, 2, 2, 2, 2, 2, 2, 2, 2, 2, 2, 3, 3, 3, 3, 3, 3,\n",
       "       3, 3, 3, 3, 3, 3, 3, 3, 3, 3, 3, 3, 3, 3, 3, 3, 3, 3, 3, 3, 3, 3,\n",
       "       3, 3, 3, 3, 3, 3, 3, 3, 3, 3, 3, 3], dtype=int64)"
      ]
     },
     "execution_count": 25,
     "metadata": {},
     "output_type": "execute_result"
    }
   ],
   "source": [
    "# Step 2: Label encoder\n",
    "y = model_joueur_classique.label_encoder(y)\n",
    "y"
   ]
  },
  {
   "cell_type": "code",
   "execution_count": 26,
   "metadata": {},
   "outputs": [
    {
     "data": {
      "text/plain": [
       "(115, 37500)"
      ]
     },
     "execution_count": 26,
     "metadata": {},
     "output_type": "execute_result"
    }
   ],
   "source": [
    "# Step 3: Split the data\n",
    "X_train, y_train, X_test, y_test = model_joueur_classique.split_train_test(list_videos, y)\n",
    "X_train.shape"
   ]
  },
  {
   "cell_type": "code",
   "execution_count": 27,
   "metadata": {},
   "outputs": [],
   "source": [
    "# Step 4: Normalize the data\n",
    "X_train, X_test = model_joueur_classique.normalize_input(X_train, X_test)"
   ]
  },
  {
   "cell_type": "code",
   "execution_count": 30,
   "metadata": {},
   "outputs": [
    {
     "name": "stdout",
     "output_type": "stream",
     "text": [
      "Epoch 1/70\n",
      "1/3 [=========>....................] - ETA: 0s - loss: 1.6197e-05 - accuracy: 1.0000\n",
      "Epoch 1: val_loss improved from inf to 3.88633, saving model to checkpoints\\Weights-001--3.88633.hdf5\n",
      "3/3 [==============================] - 1s 76ms/step - loss: 1.3710e-05 - accuracy: 1.0000 - val_loss: 3.8863 - val_accuracy: 0.3913\n",
      "Epoch 2/70\n",
      "1/3 [=========>....................] - ETA: 0s - loss: 8.6797e-06 - accuracy: 1.0000\n",
      "Epoch 2: val_loss did not improve from 3.88633\n",
      "3/3 [==============================] - 0s 24ms/step - loss: 8.5350e-06 - accuracy: 1.0000 - val_loss: 4.0833 - val_accuracy: 0.3913\n",
      "Epoch 3/70\n",
      "1/3 [=========>....................] - ETA: 0s - loss: 7.6293e-06 - accuracy: 1.0000\n",
      "Epoch 3: val_loss did not improve from 3.88633\n",
      "3/3 [==============================] - 0s 28ms/step - loss: 6.1573e-06 - accuracy: 1.0000 - val_loss: 4.3434 - val_accuracy: 0.3478\n",
      "Epoch 4/70\n",
      "1/3 [=========>....................] - ETA: 0s - loss: 8.2440e-06 - accuracy: 1.0000\n",
      "Epoch 4: val_loss did not improve from 3.88633\n",
      "3/3 [==============================] - 0s 19ms/step - loss: 4.6180e-06 - accuracy: 1.0000 - val_loss: 4.5568 - val_accuracy: 0.3478\n",
      "Epoch 5/70\n",
      "1/3 [=========>....................] - ETA: 0s - loss: 4.7870e-06 - accuracy: 1.0000\n",
      "Epoch 5: val_loss did not improve from 3.88633\n",
      "3/3 [==============================] - 0s 21ms/step - loss: 3.4570e-06 - accuracy: 1.0000 - val_loss: 4.7711 - val_accuracy: 0.3478\n",
      "Epoch 6/70\n",
      "1/3 [=========>....................] - ETA: 0s - loss: 2.6375e-06 - accuracy: 1.0000\n",
      "Epoch 6: val_loss did not improve from 3.88633\n",
      "3/3 [==============================] - 0s 26ms/step - loss: 2.7301e-06 - accuracy: 1.0000 - val_loss: 4.9287 - val_accuracy: 0.3478\n",
      "Epoch 7/70\n",
      "1/3 [=========>....................] - ETA: 0s - loss: 2.6896e-06 - accuracy: 1.0000\n",
      "Epoch 7: val_loss did not improve from 3.88633\n",
      "3/3 [==============================] - 0s 24ms/step - loss: 2.1678e-06 - accuracy: 1.0000 - val_loss: 5.0179 - val_accuracy: 0.3478\n",
      "Epoch 8/70\n",
      "3/3 [==============================] - ETA: 0s - loss: 1.7557e-06 - accuracy: 1.0000\n",
      "Epoch 8: val_loss did not improve from 3.88633\n",
      "3/3 [==============================] - 0s 51ms/step - loss: 1.7557e-06 - accuracy: 1.0000 - val_loss: 5.0810 - val_accuracy: 0.3478\n",
      "Epoch 9/70\n",
      "1/3 [=========>....................] - ETA: 0s - loss: 2.0042e-06 - accuracy: 1.0000\n",
      "Epoch 9: val_loss did not improve from 3.88633\n",
      "3/3 [==============================] - 0s 19ms/step - loss: 1.4914e-06 - accuracy: 1.0000 - val_loss: 5.1135 - val_accuracy: 0.3478\n",
      "Epoch 10/70\n",
      "1/3 [=========>....................] - ETA: 0s - loss: 8.6799e-07 - accuracy: 1.0000\n",
      "Epoch 10: val_loss did not improve from 3.88633\n",
      "3/3 [==============================] - 0s 19ms/step - loss: 1.2426e-06 - accuracy: 1.0000 - val_loss: 5.1650 - val_accuracy: 0.3478\n",
      "Epoch 11/70\n",
      "1/3 [=========>....................] - ETA: 0s - loss: 6.1467e-07 - accuracy: 1.0000\n",
      "Epoch 11: val_loss did not improve from 3.88633\n",
      "3/3 [==============================] - 0s 19ms/step - loss: 1.0794e-06 - accuracy: 1.0000 - val_loss: 5.2048 - val_accuracy: 0.3478\n",
      "Epoch 12/70\n",
      "1/3 [=========>....................] - ETA: 0s - loss: 9.4995e-07 - accuracy: 1.0000\n",
      "Epoch 12: val_loss did not improve from 3.88633\n",
      "3/3 [==============================] - 0s 15ms/step - loss: 9.6145e-07 - accuracy: 1.0000 - val_loss: 5.2436 - val_accuracy: 0.3478\n",
      "Epoch 13/70\n",
      "1/3 [=========>....................] - ETA: 0s - loss: 1.0617e-06 - accuracy: 1.0000\n",
      "Epoch 13: val_loss did not improve from 3.88633\n",
      "3/3 [==============================] - 0s 20ms/step - loss: 8.6167e-07 - accuracy: 1.0000 - val_loss: 5.2889 - val_accuracy: 0.3478\n",
      "Epoch 14/70\n",
      "1/3 [=========>....................] - ETA: 0s - loss: 8.7172e-07 - accuracy: 1.0000\n",
      "Epoch 14: val_loss did not improve from 3.88633\n",
      "3/3 [==============================] - 0s 18ms/step - loss: 7.6968e-07 - accuracy: 1.0000 - val_loss: 5.3444 - val_accuracy: 0.3478\n",
      "Epoch 15/70\n",
      "1/3 [=========>....................] - ETA: 0s - loss: 6.6683e-07 - accuracy: 1.0000\n",
      "Epoch 15: val_loss did not improve from 3.88633\n",
      "3/3 [==============================] - 0s 15ms/step - loss: 6.9452e-07 - accuracy: 1.0000 - val_loss: 5.3967 - val_accuracy: 0.3478\n",
      "Epoch 16/70\n",
      "1/3 [=========>....................] - ETA: 0s - loss: 6.6310e-07 - accuracy: 1.0000\n",
      "Epoch 16: val_loss did not improve from 3.88633\n",
      "3/3 [==============================] - 0s 24ms/step - loss: 6.2585e-07 - accuracy: 1.0000 - val_loss: 5.4496 - val_accuracy: 0.3478\n",
      "Epoch 17/70\n",
      "1/3 [=========>....................] - ETA: 0s - loss: 7.2271e-07 - accuracy: 1.0000\n",
      "Epoch 17: val_loss did not improve from 3.88633\n",
      "3/3 [==============================] - 0s 20ms/step - loss: 5.7531e-07 - accuracy: 1.0000 - val_loss: 5.4934 - val_accuracy: 0.3478\n",
      "Epoch 18/70\n",
      "1/3 [=========>....................] - ETA: 0s - loss: 4.7311e-07 - accuracy: 1.0000\n",
      "Epoch 18: val_loss did not improve from 3.88633\n",
      "3/3 [==============================] - 0s 18ms/step - loss: 5.2478e-07 - accuracy: 1.0000 - val_loss: 5.5432 - val_accuracy: 0.3478\n",
      "Epoch 19/70\n",
      "1/3 [=========>....................] - ETA: 0s - loss: 4.0233e-07 - accuracy: 1.0000\n",
      "Epoch 19: val_loss did not improve from 3.88633\n",
      "3/3 [==============================] - 0s 15ms/step - loss: 4.9627e-07 - accuracy: 1.0000 - val_loss: 5.5724 - val_accuracy: 0.3478\n",
      "Epoch 20/70\n",
      "1/3 [=========>....................] - ETA: 0s - loss: 2.2724e-07 - accuracy: 1.0000\n",
      "Epoch 20: val_loss did not improve from 3.88633\n",
      "3/3 [==============================] - 0s 16ms/step - loss: 4.6906e-07 - accuracy: 1.0000 - val_loss: 5.6050 - val_accuracy: 0.3478\n",
      "Epoch 21/70\n",
      "2/3 [===================>..........] - ETA: 0s - loss: 3.9861e-07 - accuracy: 1.0000\n",
      "Epoch 21: val_loss did not improve from 3.88633\n",
      "3/3 [==============================] - 0s 56ms/step - loss: 4.4315e-07 - accuracy: 1.0000 - val_loss: 5.6258 - val_accuracy: 0.3478\n",
      "Epoch 22/70\n",
      "1/3 [=========>....................] - ETA: 0s - loss: 3.7625e-07 - accuracy: 1.0000\n",
      "Epoch 22: val_loss did not improve from 3.88633\n",
      "3/3 [==============================] - 0s 16ms/step - loss: 4.1853e-07 - accuracy: 1.0000 - val_loss: 5.6379 - val_accuracy: 0.3478\n",
      "Epoch 23/70\n",
      "1/3 [=========>....................] - ETA: 0s - loss: 6.0722e-07 - accuracy: 1.0000\n",
      "Epoch 23: val_loss did not improve from 3.88633\n",
      "3/3 [==============================] - 0s 23ms/step - loss: 4.0039e-07 - accuracy: 1.0000 - val_loss: 5.6425 - val_accuracy: 0.3478\n",
      "Epoch 24/70\n",
      "1/3 [=========>....................] - ETA: 0s - loss: 3.2410e-07 - accuracy: 1.0000\n",
      "Epoch 24: val_loss did not improve from 3.88633\n",
      "3/3 [==============================] - 0s 20ms/step - loss: 3.8225e-07 - accuracy: 1.0000 - val_loss: 5.6577 - val_accuracy: 0.3478\n",
      "Epoch 25/70\n",
      "1/3 [=========>....................] - ETA: 0s - loss: 4.6566e-07 - accuracy: 1.0000\n",
      "Epoch 25: val_loss did not improve from 3.88633\n",
      "3/3 [==============================] - 0s 19ms/step - loss: 3.6540e-07 - accuracy: 1.0000 - val_loss: 5.6773 - val_accuracy: 0.3478\n",
      "Epoch 26/70\n",
      "1/3 [=========>....................] - ETA: 0s - loss: 3.5018e-07 - accuracy: 1.0000\n",
      "Epoch 26: val_loss did not improve from 3.88633\n",
      "3/3 [==============================] - 0s 18ms/step - loss: 3.4726e-07 - accuracy: 1.0000 - val_loss: 5.6896 - val_accuracy: 0.3478\n",
      "Epoch 27/70\n",
      "1/3 [=========>....................] - ETA: 0s - loss: 2.0489e-07 - accuracy: 1.0000\n",
      "Epoch 27: val_loss did not improve from 3.88633\n",
      "3/3 [==============================] - 0s 18ms/step - loss: 3.3301e-07 - accuracy: 1.0000 - val_loss: 5.7115 - val_accuracy: 0.3478\n",
      "Epoch 28/70\n",
      "1/3 [=========>....................] - ETA: 0s - loss: 4.0978e-07 - accuracy: 1.0000\n",
      "Epoch 28: val_loss did not improve from 3.88633\n",
      "3/3 [==============================] - 0s 19ms/step - loss: 3.2005e-07 - accuracy: 1.0000 - val_loss: 5.7235 - val_accuracy: 0.3478\n",
      "Epoch 29/70\n",
      "1/3 [=========>....................] - ETA: 0s - loss: 3.2037e-07 - accuracy: 1.0000\n",
      "Epoch 29: val_loss did not improve from 3.88633\n",
      "3/3 [==============================] - 0s 19ms/step - loss: 3.0709e-07 - accuracy: 1.0000 - val_loss: 5.7335 - val_accuracy: 0.3478\n",
      "Epoch 30/70\n",
      "1/3 [=========>....................] - ETA: 0s - loss: 2.8312e-07 - accuracy: 1.0000\n",
      "Epoch 30: val_loss did not improve from 3.88633\n",
      "3/3 [==============================] - 0s 19ms/step - loss: 2.8766e-07 - accuracy: 1.0000 - val_loss: 5.7476 - val_accuracy: 0.3478\n",
      "Epoch 31/70\n",
      "1/3 [=========>....................] - ETA: 0s - loss: 3.9861e-07 - accuracy: 1.0000\n",
      "Epoch 31: val_loss did not improve from 3.88633\n",
      "3/3 [==============================] - 0s 19ms/step - loss: 2.8507e-07 - accuracy: 1.0000 - val_loss: 5.7541 - val_accuracy: 0.3478\n",
      "Epoch 32/70\n",
      "1/3 [=========>....................] - ETA: 0s - loss: 2.9802e-07 - accuracy: 1.0000\n",
      "Epoch 32: val_loss did not improve from 3.88633\n",
      "3/3 [==============================] - 0s 20ms/step - loss: 2.6822e-07 - accuracy: 1.0000 - val_loss: 5.7684 - val_accuracy: 0.3478\n",
      "Epoch 33/70\n",
      "1/3 [=========>....................] - ETA: 0s - loss: 2.4587e-07 - accuracy: 1.0000\n",
      "Epoch 33: val_loss did not improve from 3.88633\n",
      "3/3 [==============================] - 0s 20ms/step - loss: 2.5656e-07 - accuracy: 1.0000 - val_loss: 5.7878 - val_accuracy: 0.3478\n",
      "Epoch 34/70\n",
      "1/3 [=========>....................] - ETA: 0s - loss: 2.4214e-07 - accuracy: 1.0000\n",
      "Epoch 34: val_loss did not improve from 3.88633\n",
      "3/3 [==============================] - 0s 21ms/step - loss: 2.4231e-07 - accuracy: 1.0000 - val_loss: 5.7981 - val_accuracy: 0.3478\n",
      "Epoch 35/70\n",
      "1/3 [=========>....................] - ETA: 0s - loss: 2.8685e-07 - accuracy: 1.0000\n",
      "Epoch 35: val_loss did not improve from 3.88633\n",
      "3/3 [==============================] - 0s 21ms/step - loss: 2.3194e-07 - accuracy: 1.0000 - val_loss: 5.8093 - val_accuracy: 0.3478\n",
      "Epoch 36/70\n",
      "1/3 [=========>....................] - ETA: 0s - loss: 1.2666e-07 - accuracy: 1.0000\n",
      "Epoch 36: val_loss did not improve from 3.88633\n",
      "3/3 [==============================] - 0s 20ms/step - loss: 2.1898e-07 - accuracy: 1.0000 - val_loss: 5.8214 - val_accuracy: 0.3478\n",
      "Epoch 37/70\n",
      "1/3 [=========>....................] - ETA: 0s - loss: 1.4529e-07 - accuracy: 1.0000\n",
      "Epoch 37: val_loss did not improve from 3.88633\n",
      "3/3 [==============================] - 0s 19ms/step - loss: 2.0602e-07 - accuracy: 1.0000 - val_loss: 5.8341 - val_accuracy: 0.3478\n",
      "Epoch 38/70\n",
      "1/3 [=========>....................] - ETA: 0s - loss: 2.0117e-07 - accuracy: 1.0000\n",
      "Epoch 38: val_loss did not improve from 3.88633\n",
      "3/3 [==============================] - 0s 22ms/step - loss: 2.0214e-07 - accuracy: 1.0000 - val_loss: 5.8443 - val_accuracy: 0.3478\n",
      "Epoch 39/70\n",
      "1/3 [=========>....................] - ETA: 0s - loss: 2.2352e-07 - accuracy: 1.0000\n",
      "Epoch 39: val_loss did not improve from 3.88633\n",
      "3/3 [==============================] - 0s 24ms/step - loss: 1.9695e-07 - accuracy: 1.0000 - val_loss: 5.8454 - val_accuracy: 0.3478\n",
      "Epoch 40/70\n",
      "1/3 [=========>....................] - ETA: 0s - loss: 1.4901e-07 - accuracy: 1.0000\n",
      "Epoch 40: val_loss did not improve from 3.88633\n",
      "3/3 [==============================] - 0s 23ms/step - loss: 1.8918e-07 - accuracy: 1.0000 - val_loss: 5.8492 - val_accuracy: 0.3478\n",
      "Epoch 41/70\n",
      "1/3 [=========>....................] - ETA: 0s - loss: 1.8626e-07 - accuracy: 1.0000\n",
      "Epoch 41: val_loss did not improve from 3.88633\n",
      "3/3 [==============================] - 0s 22ms/step - loss: 1.8141e-07 - accuracy: 1.0000 - val_loss: 5.8547 - val_accuracy: 0.3478\n",
      "Epoch 42/70\n",
      "1/3 [=========>....................] - ETA: 0s - loss: 1.3784e-07 - accuracy: 1.0000\n",
      "Epoch 42: val_loss did not improve from 3.88633\n",
      "3/3 [==============================] - 0s 17ms/step - loss: 1.7493e-07 - accuracy: 1.0000 - val_loss: 5.8628 - val_accuracy: 0.3478\n",
      "Epoch 43/70\n",
      "1/3 [=========>....................] - ETA: 0s - loss: 2.3469e-07 - accuracy: 1.0000\n",
      "Epoch 43: val_loss did not improve from 3.88633\n",
      "3/3 [==============================] - 0s 17ms/step - loss: 1.7363e-07 - accuracy: 1.0000 - val_loss: 5.8748 - val_accuracy: 0.3478\n",
      "Epoch 44/70\n",
      "1/3 [=========>....................] - ETA: 0s - loss: 1.7136e-07 - accuracy: 1.0000\n",
      "Epoch 44: val_loss did not improve from 3.88633\n",
      "3/3 [==============================] - 0s 17ms/step - loss: 1.6974e-07 - accuracy: 1.0000 - val_loss: 5.8816 - val_accuracy: 0.3478\n",
      "Epoch 45/70\n",
      "1/3 [=========>....................] - ETA: 0s - loss: 1.9372e-07 - accuracy: 1.0000\n",
      "Epoch 45: val_loss did not improve from 3.88633\n",
      "3/3 [==============================] - 0s 16ms/step - loss: 1.6326e-07 - accuracy: 1.0000 - val_loss: 5.8900 - val_accuracy: 0.3478\n",
      "Epoch 46/70\n",
      "1/3 [=========>....................] - ETA: 0s - loss: 1.9744e-07 - accuracy: 1.0000\n",
      "Epoch 46: val_loss did not improve from 3.88633\n",
      "3/3 [==============================] - 0s 16ms/step - loss: 1.5938e-07 - accuracy: 1.0000 - val_loss: 5.8966 - val_accuracy: 0.3478\n",
      "Epoch 47/70\n",
      "1/3 [=========>....................] - ETA: 0s - loss: 2.1979e-07 - accuracy: 1.0000\n",
      "Epoch 47: val_loss did not improve from 3.88633\n",
      "3/3 [==============================] - 0s 16ms/step - loss: 1.5679e-07 - accuracy: 1.0000 - val_loss: 5.9050 - val_accuracy: 0.3478\n",
      "Epoch 48/70\n",
      "1/3 [=========>....................] - ETA: 0s - loss: 2.3469e-07 - accuracy: 1.0000\n",
      "Epoch 48: val_loss did not improve from 3.88633\n",
      "3/3 [==============================] - 0s 18ms/step - loss: 1.5419e-07 - accuracy: 1.0000 - val_loss: 5.9128 - val_accuracy: 0.3478\n",
      "Epoch 49/70\n",
      "1/3 [=========>....................] - ETA: 0s - loss: 2.5332e-07 - accuracy: 1.0000\n",
      "Epoch 49: val_loss did not improve from 3.88633\n",
      "3/3 [==============================] - 0s 22ms/step - loss: 1.4772e-07 - accuracy: 1.0000 - val_loss: 5.9244 - val_accuracy: 0.3478\n",
      "Epoch 50/70\n",
      "1/3 [=========>....................] - ETA: 0s - loss: 1.4901e-07 - accuracy: 1.0000\n",
      "Epoch 50: val_loss did not improve from 3.88633\n",
      "3/3 [==============================] - 0s 20ms/step - loss: 1.4124e-07 - accuracy: 1.0000 - val_loss: 5.9421 - val_accuracy: 0.3478\n",
      "Epoch 51/70\n",
      "1/3 [=========>....................] - ETA: 0s - loss: 1.6391e-07 - accuracy: 1.0000\n",
      "Epoch 51: val_loss did not improve from 3.88633\n",
      "3/3 [==============================] - 0s 21ms/step - loss: 1.3865e-07 - accuracy: 1.0000 - val_loss: 5.9556 - val_accuracy: 0.3478\n",
      "Epoch 52/70\n",
      "1/3 [=========>....................] - ETA: 0s - loss: 1.7881e-07 - accuracy: 1.0000\n",
      "Epoch 52: val_loss did not improve from 3.88633\n",
      "3/3 [==============================] - 0s 20ms/step - loss: 1.3476e-07 - accuracy: 1.0000 - val_loss: 5.9671 - val_accuracy: 0.3478\n",
      "Epoch 53/70\n",
      "1/3 [=========>....................] - ETA: 0s - loss: 7.0781e-08 - accuracy: 1.0000\n",
      "Epoch 53: val_loss did not improve from 3.88633\n",
      "3/3 [==============================] - 0s 19ms/step - loss: 1.3217e-07 - accuracy: 1.0000 - val_loss: 5.9826 - val_accuracy: 0.3478\n",
      "Epoch 54/70\n",
      "1/3 [=========>....................] - ETA: 0s - loss: 8.5682e-08 - accuracy: 1.0000\n",
      "Epoch 54: val_loss did not improve from 3.88633\n",
      "3/3 [==============================] - 0s 19ms/step - loss: 1.3217e-07 - accuracy: 1.0000 - val_loss: 5.9955 - val_accuracy: 0.3478\n",
      "Epoch 55/70\n",
      "1/3 [=========>....................] - ETA: 0s - loss: 1.0431e-07 - accuracy: 1.0000\n",
      "Epoch 55: val_loss did not improve from 3.88633\n",
      "3/3 [==============================] - 0s 21ms/step - loss: 1.2180e-07 - accuracy: 1.0000 - val_loss: 6.0075 - val_accuracy: 0.3478\n",
      "Epoch 56/70\n",
      "1/3 [=========>....................] - ETA: 0s - loss: 1.2666e-07 - accuracy: 1.0000\n",
      "Epoch 56: val_loss did not improve from 3.88633\n",
      "3/3 [==============================] - 0s 20ms/step - loss: 1.1791e-07 - accuracy: 1.0000 - val_loss: 6.0169 - val_accuracy: 0.3478\n",
      "Epoch 57/70\n",
      "1/3 [=========>....................] - ETA: 0s - loss: 1.0058e-07 - accuracy: 1.0000\n",
      "Epoch 57: val_loss did not improve from 3.88633\n",
      "3/3 [==============================] - 0s 22ms/step - loss: 1.1014e-07 - accuracy: 1.0000 - val_loss: 6.0263 - val_accuracy: 0.3478\n",
      "Epoch 58/70\n",
      "1/3 [=========>....................] - ETA: 0s - loss: 7.0781e-08 - accuracy: 1.0000\n",
      "Epoch 58: val_loss did not improve from 3.88633\n",
      "3/3 [==============================] - 0s 23ms/step - loss: 1.0625e-07 - accuracy: 1.0000 - val_loss: 6.0366 - val_accuracy: 0.3478\n",
      "Epoch 59/70\n",
      "1/3 [=========>....................] - ETA: 0s - loss: 1.0803e-07 - accuracy: 1.0000\n",
      "Epoch 59: val_loss did not improve from 3.88633\n",
      "3/3 [==============================] - 0s 23ms/step - loss: 1.0236e-07 - accuracy: 1.0000 - val_loss: 6.0395 - val_accuracy: 0.3478\n",
      "Epoch 60/70\n",
      "1/3 [=========>....................] - ETA: 0s - loss: 4.0978e-08 - accuracy: 1.0000\n",
      "Epoch 60: val_loss did not improve from 3.88633\n",
      "3/3 [==============================] - 0s 20ms/step - loss: 9.4590e-08 - accuracy: 1.0000 - val_loss: 6.0444 - val_accuracy: 0.3478\n",
      "Epoch 61/70\n",
      "1/3 [=========>....................] - ETA: 0s - loss: 6.7055e-08 - accuracy: 1.0000\n",
      "Epoch 61: val_loss did not improve from 3.88633\n",
      "3/3 [==============================] - 0s 28ms/step - loss: 9.4590e-08 - accuracy: 1.0000 - val_loss: 6.0479 - val_accuracy: 0.3478\n",
      "Epoch 62/70\n",
      "1/3 [=========>....................] - ETA: 0s - loss: 1.1548e-07 - accuracy: 1.0000\n",
      "Epoch 62: val_loss did not improve from 3.88633\n",
      "3/3 [==============================] - 0s 21ms/step - loss: 8.9407e-08 - accuracy: 1.0000 - val_loss: 6.0496 - val_accuracy: 0.3478\n",
      "Epoch 63/70\n",
      "1/3 [=========>....................] - ETA: 0s - loss: 1.1548e-07 - accuracy: 1.0000\n",
      "Epoch 63: val_loss did not improve from 3.88633\n",
      "3/3 [==============================] - 0s 20ms/step - loss: 8.5520e-08 - accuracy: 1.0000 - val_loss: 6.0523 - val_accuracy: 0.3478\n",
      "Epoch 64/70\n",
      "1/3 [=========>....................] - ETA: 0s - loss: 9.6858e-08 - accuracy: 1.0000\n",
      "Epoch 64: val_loss did not improve from 3.88633\n",
      "3/3 [==============================] - 0s 21ms/step - loss: 8.5520e-08 - accuracy: 1.0000 - val_loss: 6.0583 - val_accuracy: 0.3478\n",
      "Epoch 65/70\n",
      "1/3 [=========>....................] - ETA: 0s - loss: 1.1921e-07 - accuracy: 1.0000\n",
      "Epoch 65: val_loss did not improve from 3.88633\n",
      "3/3 [==============================] - 0s 21ms/step - loss: 8.2928e-08 - accuracy: 1.0000 - val_loss: 6.0623 - val_accuracy: 0.3478\n",
      "Epoch 66/70\n",
      "1/3 [=========>....................] - ETA: 0s - loss: 7.4506e-08 - accuracy: 1.0000\n",
      "Epoch 66: val_loss did not improve from 3.88633\n",
      "3/3 [==============================] - 0s 21ms/step - loss: 8.0337e-08 - accuracy: 1.0000 - val_loss: 6.0667 - val_accuracy: 0.3478\n",
      "Epoch 67/70\n",
      "1/3 [=========>....................] - ETA: 0s - loss: 8.1956e-08 - accuracy: 1.0000\n",
      "Epoch 67: val_loss did not improve from 3.88633\n",
      "3/3 [==============================] - 0s 20ms/step - loss: 7.9041e-08 - accuracy: 1.0000 - val_loss: 6.0721 - val_accuracy: 0.3478\n",
      "Epoch 68/70\n",
      "1/3 [=========>....................] - ETA: 0s - loss: 5.2154e-08 - accuracy: 1.0000\n",
      "Epoch 68: val_loss did not improve from 3.88633\n",
      "3/3 [==============================] - 0s 20ms/step - loss: 7.5154e-08 - accuracy: 1.0000 - val_loss: 6.0815 - val_accuracy: 0.3478\n",
      "Epoch 69/70\n",
      "1/3 [=========>....................] - ETA: 0s - loss: 8.5682e-08 - accuracy: 1.0000\n",
      "Epoch 69: val_loss did not improve from 3.88633\n",
      "3/3 [==============================] - 0s 22ms/step - loss: 7.2562e-08 - accuracy: 1.0000 - val_loss: 6.0873 - val_accuracy: 0.3478\n",
      "Epoch 70/70\n",
      "1/3 [=========>....................] - ETA: 0s - loss: 4.4703e-08 - accuracy: 1.0000\n",
      "Epoch 70: val_loss did not improve from 3.88633\n",
      "3/3 [==============================] - 0s 21ms/step - loss: 6.9971e-08 - accuracy: 1.0000 - val_loss: 6.0931 - val_accuracy: 0.3478\n"
     ]
    }
   ],
   "source": [
    "# Step 5: Train the model\n",
    "history = model_joueur_classique.train(X_train, y_train, epochs=70)"
   ]
  },
  {
   "cell_type": "code",
   "execution_count": 31,
   "metadata": {},
   "outputs": [
    {
     "name": "stdout",
     "output_type": "stream",
     "text": [
      "1/1 [==============================] - 0s 18ms/step - loss: 10.6794 - accuracy: 0.0690\n",
      "Loss:  10.679405212402344\n",
      "Accuracy:  0.06896551698446274\n"
     ]
    }
   ],
   "source": [
    "# Step 6: evaluate\n",
    "loss, accuracy = model_joueur_classique.evaluate(X_test, y_test)"
   ]
  },
  {
   "cell_type": "code",
   "execution_count": 24,
   "metadata": {},
   "outputs": [
    {
     "data": {
      "text/plain": [
       "array([[0., 0., 0., ..., 0., 0., 0.],\n",
       "       [0., 0., 0., ..., 0., 0., 0.],\n",
       "       [0., 0., 0., ..., 0., 0., 0.],\n",
       "       ...,\n",
       "       [0., 0., 0., ..., 0., 0., 0.],\n",
       "       [0., 0., 0., ..., 0., 0., 0.],\n",
       "       [0., 0., 0., ..., 0., 0., 0.]])"
      ]
     },
     "execution_count": 24,
     "metadata": {},
     "output_type": "execute_result"
    }
   ],
   "source": [
    "X_test"
   ]
  },
  {
   "cell_type": "code",
   "execution_count": 25,
   "metadata": {},
   "outputs": [
    {
     "data": {
      "text/plain": [
       "array([[0., 0., 0., ..., 0., 0., 0.]])"
      ]
     },
     "execution_count": 25,
     "metadata": {},
     "output_type": "execute_result"
    }
   ],
   "source": [
    "example_input = np.reshape(X_test[0], (1, 50*50*15))\n",
    "example_input"
   ]
  },
  {
   "cell_type": "code",
   "execution_count": 26,
   "metadata": {},
   "outputs": [
    {
     "name": "stdout",
     "output_type": "stream",
     "text": [
      "1/1 [==============================] - 0s 65ms/step\n"
     ]
    },
    {
     "data": {
      "text/plain": [
       "array([0], dtype=int64)"
      ]
     },
     "execution_count": 26,
     "metadata": {},
     "output_type": "execute_result"
    }
   ],
   "source": [
    "# Step 7: predict\n",
    "y_pred = model_joueur_classique.predict(example_input)\n",
    "y_pred"
   ]
  },
  {
   "cell_type": "code",
   "execution_count": 29,
   "metadata": {},
   "outputs": [],
   "source": [
    "possible_outputs = ['coup droit', 'revers', 'service', 'deplacement']"
   ]
  },
  {
   "cell_type": "code",
   "execution_count": 30,
   "metadata": {},
   "outputs": [
    {
     "name": "stdout",
     "output_type": "stream",
     "text": [
      "1/1 [==============================] - 0s 21ms/step\n"
     ]
    },
    {
     "data": {
      "text/plain": [
       "array(['coup droit'], dtype='<U11')"
      ]
     },
     "execution_count": 30,
     "metadata": {},
     "output_type": "execute_result"
    }
   ],
   "source": [
    "pred_label = model_joueur_classique.predict_label(example_input, possible_outputs)\n",
    "pred_label"
   ]
  },
  {
   "cell_type": "code",
   "execution_count": 28,
   "metadata": {},
   "outputs": [],
   "source": [
    "# Final step: save the model\n",
    "model_joueur_classique.save_model('saved_models/classic_model_1_joueur_haut.h5')"
   ]
  }
 ],
 "metadata": {
  "kernelspec": {
   "display_name": "base",
   "language": "python",
   "name": "python3"
  },
  "language_info": {
   "codemirror_mode": {
    "name": "ipython",
    "version": 3
   },
   "file_extension": ".py",
   "mimetype": "text/x-python",
   "name": "python",
   "nbconvert_exporter": "python",
   "pygments_lexer": "ipython3",
   "version": "3.9.13"
  },
  "orig_nbformat": 4
 },
 "nbformat": 4,
 "nbformat_minor": 2
}
