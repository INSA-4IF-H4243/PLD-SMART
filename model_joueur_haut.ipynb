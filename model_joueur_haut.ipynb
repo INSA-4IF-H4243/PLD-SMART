{
 "cells": [
  {
   "attachments": {},
   "cell_type": "markdown",
   "metadata": {},
   "source": [
    "Modèle de réseaux de neurones sur le dataset du Joueur haut - Henri, Minh, Maxime\n",
    "- Coup droit\n",
    "- Déplacement\n",
    "- Revers\n",
    "- Service"
   ]
  },
  {
   "cell_type": "code",
   "execution_count": 72,
   "metadata": {},
   "outputs": [],
   "source": [
    "import numpy as np\n",
    "import cv2\n",
    "import os\n",
    "from smart.video import Video, Image\n",
    "from keras.models import Sequential\n",
    "from keras.layers import Conv2D, MaxPooling2D, Flatten, Dense, BatchNormalization, Dropout\n",
    "from keras.callbacks import ModelCheckpoint\n",
    "from keras.optimizers import Adam\n",
    "import tensorflow as tf\n",
    "import random\n",
    "from sklearn.preprocessing import LabelEncoder"
   ]
  },
  {
   "cell_type": "code",
   "execution_count": 73,
   "metadata": {},
   "outputs": [],
   "source": [
    "# Configuration\n",
    "path_dataset = 'img/JHaut'"
   ]
  },
  {
   "attachments": {},
   "cell_type": "markdown",
   "metadata": {},
   "source": [
    "# Réseau de neurones classique"
   ]
  },
  {
   "attachments": {},
   "cell_type": "markdown",
   "metadata": {},
   "source": [
    "## Prises des frames et des vidéos"
   ]
  },
  {
   "cell_type": "code",
   "execution_count": 74,
   "metadata": {},
   "outputs": [],
   "source": [
    "list_videos = []"
   ]
  },
  {
   "cell_type": "code",
   "execution_count": 75,
   "metadata": {},
   "outputs": [],
   "source": [
    "y = []\n",
    "all_paths = []\n",
    "for dirpath, dirnames, _ in os.walk(path_dataset):\n",
    "    for dir_type in dirnames:\n",
    "        \n",
    "        path_fol = os.path.join(dirpath, dir_type)\n",
    "        for file in os.listdir(path_fol):\n",
    "            path_fol_img = os.path.join(path_fol, file)\n",
    "            if os.path.isdir(path_fol_img) and file == 'images':\n",
    "                frames = []\n",
    "                for file_img in os.listdir(path_fol_img):\n",
    "                    path_img = os.path.join(path_fol_img, file_img)\n",
    "                    img_obj = Image.load_image(cv2.IMREAD_GRAYSCALE, path_img)\n",
    "                    img = img_obj.img\n",
    "                    frames.append(img)\t\n",
    "                if (len(frames) == 15):\n",
    "                    output_res = path_img.split('\\\\')[1]\n",
    "                    all_paths.append(path_fol_img)\n",
    "                    vid = Video.read_video_from_frames(frames)\n",
    "                    list_videos.append(vid)\n",
    "                    y.append(output_res)"
   ]
  },
  {
   "cell_type": "code",
   "execution_count": 76,
   "metadata": {},
   "outputs": [
    {
     "data": {
      "text/plain": [
       "[<smart.video.Video.Video at 0x1f4bfd171c0>,\n",
       " <smart.video.Video.Video at 0x1f4bfcc6be0>,\n",
       " <smart.video.Video.Video at 0x1f4bfcc69d0>,\n",
       " <smart.video.Video.Video at 0x1f4bfcc6fd0>,\n",
       " <smart.video.Video.Video at 0x1f4bfcc6160>,\n",
       " <smart.video.Video.Video at 0x1f4bfcc6040>,\n",
       " <smart.video.Video.Video at 0x1f4bfcc6c10>,\n",
       " <smart.video.Video.Video at 0x1f4bfcc6940>,\n",
       " <smart.video.Video.Video at 0x1f4bfcc68e0>,\n",
       " <smart.video.Video.Video at 0x1f4bfcc6c40>,\n",
       " <smart.video.Video.Video at 0x1f4bfcc6280>,\n",
       " <smart.video.Video.Video at 0x1f4bfcc6190>,\n",
       " <smart.video.Video.Video at 0x1f4bfbdf160>,\n",
       " <smart.video.Video.Video at 0x1f4bfcc6ca0>,\n",
       " <smart.video.Video.Video at 0x1f4bdd94be0>,\n",
       " <smart.video.Video.Video at 0x1f4bdd94370>,\n",
       " <smart.video.Video.Video at 0x1f4bfcc6df0>,\n",
       " <smart.video.Video.Video at 0x1f4bff19a30>,\n",
       " <smart.video.Video.Video at 0x1f4bff19e20>,\n",
       " <smart.video.Video.Video at 0x1f4bff19730>,\n",
       " <smart.video.Video.Video at 0x1f4bff19eb0>,\n",
       " <smart.video.Video.Video at 0x1f4bff19c10>,\n",
       " <smart.video.Video.Video at 0x1f4bff19a60>,\n",
       " <smart.video.Video.Video at 0x1f4bff19250>,\n",
       " <smart.video.Video.Video at 0x1f4bff19940>,\n",
       " <smart.video.Video.Video at 0x1f4bff190d0>,\n",
       " <smart.video.Video.Video at 0x1f4bff19b20>,\n",
       " <smart.video.Video.Video at 0x1f4bff19be0>,\n",
       " <smart.video.Video.Video at 0x1f4bff194c0>,\n",
       " <smart.video.Video.Video at 0x1f4bff19040>,\n",
       " <smart.video.Video.Video at 0x1f4bff198e0>,\n",
       " <smart.video.Video.Video at 0x1f4bff198b0>,\n",
       " <smart.video.Video.Video at 0x1f4bff19130>,\n",
       " <smart.video.Video.Video at 0x1f4bff19550>,\n",
       " <smart.video.Video.Video at 0x1f4bff19a00>,\n",
       " <smart.video.Video.Video at 0x1f4bff19190>,\n",
       " <smart.video.Video.Video at 0x1f4bff19c70>,\n",
       " <smart.video.Video.Video at 0x1f4bff19790>,\n",
       " <smart.video.Video.Video at 0x1f4bff191f0>,\n",
       " <smart.video.Video.Video at 0x1f4bff194f0>,\n",
       " <smart.video.Video.Video at 0x1f4bff19ca0>,\n",
       " <smart.video.Video.Video at 0x1f4bff19df0>,\n",
       " <smart.video.Video.Video at 0x1f4bff19d00>,\n",
       " <smart.video.Video.Video at 0x1f4bff19670>,\n",
       " <smart.video.Video.Video at 0x1f4bff19880>,\n",
       " <smart.video.Video.Video at 0x1f4bff19d90>,\n",
       " <smart.video.Video.Video at 0x1f4bff19f70>,\n",
       " <smart.video.Video.Video at 0x1f4bfcc6a00>,\n",
       " <smart.video.Video.Video at 0x1f4bff19760>,\n",
       " <smart.video.Video.Video at 0x1f4bfd1a4c0>,\n",
       " <smart.video.Video.Video at 0x1f4bff19340>,\n",
       " <smart.video.Video.Video at 0x1f4bfcd4370>,\n",
       " <smart.video.Video.Video at 0x1f4bfcd4790>,\n",
       " <smart.video.Video.Video at 0x1f4bfcd4340>,\n",
       " <smart.video.Video.Video at 0x1f4bfcd4520>,\n",
       " <smart.video.Video.Video at 0x1f4bfcd4100>,\n",
       " <smart.video.Video.Video at 0x1f4bfd1a730>,\n",
       " <smart.video.Video.Video at 0x1f4bfcd4430>,\n",
       " <smart.video.Video.Video at 0x1f4bfd561c0>,\n",
       " <smart.video.Video.Video at 0x1f4bfd56d00>,\n",
       " <smart.video.Video.Video at 0x1f4bfcd47c0>,\n",
       " <smart.video.Video.Video at 0x1f4bfd56a30>,\n",
       " <smart.video.Video.Video at 0x1f4bfd24340>,\n",
       " <smart.video.Video.Video at 0x1f4bfd03460>,\n",
       " <smart.video.Video.Video at 0x1f4bff42f10>,\n",
       " <smart.video.Video.Video at 0x1f4c00f4580>,\n",
       " <smart.video.Video.Video at 0x1f4bfbe4040>]"
      ]
     },
     "execution_count": 76,
     "metadata": {},
     "output_type": "execute_result"
    }
   ],
   "source": [
    "list_videos"
   ]
  },
  {
   "cell_type": "code",
   "execution_count": 77,
   "metadata": {},
   "outputs": [
    {
     "data": {
      "text/plain": [
       "['coup droit',\n",
       " 'coup droit',\n",
       " 'coup droit',\n",
       " 'coup droit',\n",
       " 'coup droit',\n",
       " 'coup droit',\n",
       " 'coup droit',\n",
       " 'coup droit',\n",
       " 'coup droit',\n",
       " 'coup droit',\n",
       " 'coup droit',\n",
       " 'coup droit',\n",
       " 'coup droit',\n",
       " 'coup droit',\n",
       " 'coup droit',\n",
       " 'coup droit',\n",
       " 'deplacement',\n",
       " 'deplacement',\n",
       " 'deplacement',\n",
       " 'deplacement',\n",
       " 'deplacement',\n",
       " 'deplacement',\n",
       " 'deplacement',\n",
       " 'deplacement',\n",
       " 'deplacement',\n",
       " 'deplacement',\n",
       " 'deplacement',\n",
       " 'deplacement',\n",
       " 'deplacement',\n",
       " 'deplacement',\n",
       " 'deplacement',\n",
       " 'deplacement',\n",
       " 'deplacement',\n",
       " 'deplacement',\n",
       " 'deplacement',\n",
       " 'deplacement',\n",
       " 'deplacement',\n",
       " 'deplacement',\n",
       " 'deplacement',\n",
       " 'deplacement',\n",
       " 'revers',\n",
       " 'revers',\n",
       " 'revers',\n",
       " 'revers',\n",
       " 'revers',\n",
       " 'revers',\n",
       " 'revers',\n",
       " 'revers',\n",
       " 'revers',\n",
       " 'revers',\n",
       " 'revers',\n",
       " 'revers',\n",
       " 'revers',\n",
       " 'revers',\n",
       " 'service',\n",
       " 'service',\n",
       " 'service',\n",
       " 'service',\n",
       " 'service',\n",
       " 'service',\n",
       " 'service',\n",
       " 'service',\n",
       " 'service',\n",
       " 'service',\n",
       " 'service',\n",
       " 'service',\n",
       " 'service']"
      ]
     },
     "execution_count": 77,
     "metadata": {},
     "output_type": "execute_result"
    }
   ],
   "source": [
    "# Output sans label encoder\n",
    "y"
   ]
  },
  {
   "cell_type": "code",
   "execution_count": 78,
   "metadata": {},
   "outputs": [],
   "source": [
    "# One-hot encoding\n",
    "encoder = LabelEncoder()"
   ]
  },
  {
   "attachments": {},
   "cell_type": "markdown",
   "metadata": {},
   "source": [
    "Transformer output y en one hot vector\n",
    "- 0: coup droit\n",
    "- 1: déplacement\n",
    "- 2: revers\n",
    "- 3: service"
   ]
  },
  {
   "cell_type": "code",
   "execution_count": 79,
   "metadata": {},
   "outputs": [
    {
     "data": {
      "text/plain": [
       "array([0, 0, 0, 0, 0, 0, 0, 0, 0, 0, 0, 0, 0, 0, 0, 0, 1, 1, 1, 1, 1, 1,\n",
       "       1, 1, 1, 1, 1, 1, 1, 1, 1, 1, 1, 1, 1, 1, 1, 1, 1, 1, 2, 2, 2, 2,\n",
       "       2, 2, 2, 2, 2, 2, 2, 2, 2, 2, 3, 3, 3, 3, 3, 3, 3, 3, 3, 3, 3, 3,\n",
       "       3], dtype=int64)"
      ]
     },
     "execution_count": 79,
     "metadata": {},
     "output_type": "execute_result"
    }
   ],
   "source": [
    "y = encoder.fit_transform(y)\n",
    "y"
   ]
  },
  {
   "cell_type": "code",
   "execution_count": 80,
   "metadata": {},
   "outputs": [
    {
     "data": {
      "text/plain": [
       "array([0, 1, 2, 3], dtype=int64)"
      ]
     },
     "execution_count": 80,
     "metadata": {},
     "output_type": "execute_result"
    }
   ],
   "source": [
    "output_y = np.unique(y)\n",
    "output_y"
   ]
  },
  {
   "cell_type": "code",
   "execution_count": 81,
   "metadata": {},
   "outputs": [
    {
     "data": {
      "text/plain": [
       "37500"
      ]
     },
     "execution_count": 81,
     "metadata": {},
     "output_type": "execute_result"
    }
   ],
   "source": [
    "# Résolution des images\n",
    "input_shape_model = list_videos[0].frames.shape[0] * list_videos[0].frames.shape[1] * list_videos[0].frames.shape[2]\n",
    "input_shape_model"
   ]
  },
  {
   "cell_type": "code",
   "execution_count": 82,
   "metadata": {},
   "outputs": [
    {
     "data": {
      "text/plain": [
       "67"
      ]
     },
     "execution_count": 82,
     "metadata": {},
     "output_type": "execute_result"
    }
   ],
   "source": [
    "len(list_videos)"
   ]
  },
  {
   "cell_type": "code",
   "execution_count": 83,
   "metadata": {},
   "outputs": [],
   "source": [
    "train_size = int(len(list_videos) * 0.8)\n",
    "test_size = len(list_videos) - train_size"
   ]
  },
  {
   "cell_type": "code",
   "execution_count": 84,
   "metadata": {},
   "outputs": [
    {
     "data": {
      "text/plain": [
       "(53, 53, 14, 14)"
      ]
     },
     "execution_count": 84,
     "metadata": {},
     "output_type": "execute_result"
    }
   ],
   "source": [
    "## Split video train, test\n",
    "random.seed(42)\n",
    "vids_train = random.sample(list_videos, k = train_size)\n",
    "vids_test = [vid for vid in list_videos if vid not in vids_train]\n",
    "y_train = [y[i] for i in range(len(y)) if list_videos[i] in vids_train]\n",
    "y_test = [y[i] for i in range(len(y)) if list_videos[i] in vids_test]\n",
    "paths_test = [all_paths[i] for i in range(len(all_paths)) if list_videos[i] in vids_test]\n",
    "len(vids_train), len(y_train), len(vids_test), len(y_test)"
   ]
  },
  {
   "cell_type": "code",
   "execution_count": 85,
   "metadata": {},
   "outputs": [
    {
     "data": {
      "text/plain": [
       "['img/JHaut\\\\coup droit\\\\AS_18386\\\\images',\n",
       " 'img/JHaut\\\\coup droit\\\\AS_29198\\\\images',\n",
       " 'img/JHaut\\\\coup droit\\\\car5493-5847138\\\\images',\n",
       " 'img/JHaut\\\\deplacement\\\\17694-1786278\\\\images',\n",
       " 'img/JHaut\\\\deplacement\\\\1980-2563441\\\\images',\n",
       " 'img/JHaut\\\\deplacement\\\\28040-28230129\\\\images',\n",
       " 'img/JHaut\\\\deplacement\\\\44260-4450099\\\\images',\n",
       " 'img/JHaut\\\\deplacement\\\\6481-660086\\\\images',\n",
       " 'img/JHaut\\\\deplacement\\\\AS_15180\\\\images',\n",
       " 'img/JHaut\\\\revers\\\\AS_34270\\\\images',\n",
       " 'img/JHaut\\\\revers\\\\car5936-6390142\\\\images',\n",
       " 'img/JHaut\\\\revers\\\\car5936-6390257\\\\images',\n",
       " 'img/JHaut\\\\service\\\\AS_19185\\\\images',\n",
       " 'img/JHaut\\\\service\\\\AS_35549\\\\images']"
      ]
     },
     "execution_count": 85,
     "metadata": {},
     "output_type": "execute_result"
    }
   ],
   "source": [
    "paths_test"
   ]
  },
  {
   "cell_type": "code",
   "execution_count": 86,
   "metadata": {},
   "outputs": [
    {
     "data": {
      "text/plain": [
       "array([0, 0, 0, 0, 0, 0, 0, 0, 0, 0, 0, 0, 0, 1, 1, 1, 1, 1, 1, 1, 1, 1,\n",
       "       1, 1, 1, 1, 1, 1, 1, 1, 1, 2, 2, 2, 2, 2, 2, 2, 2, 2, 2, 2, 3, 3,\n",
       "       3, 3, 3, 3, 3, 3, 3, 3, 3])"
      ]
     },
     "execution_count": 86,
     "metadata": {},
     "output_type": "execute_result"
    }
   ],
   "source": [
    "y_train = np.array(y_train, dtype=int)\n",
    "y_test = np.array(y_test, dtype=int)\n",
    "y_train"
   ]
  },
  {
   "cell_type": "code",
   "execution_count": 87,
   "metadata": {},
   "outputs": [
    {
     "data": {
      "text/plain": [
       "(53, 37500)"
      ]
     },
     "execution_count": 87,
     "metadata": {},
     "output_type": "execute_result"
    }
   ],
   "source": [
    "# Split input X en train, test set\n",
    "X_train = np.zeros((train_size, 50*50*15), dtype=int)\n",
    "for i, vid in enumerate(vids_train):\n",
    "    seq_img = vid.frames.flatten()\n",
    "    X_train[i] = seq_img\n",
    "X_train.shape"
   ]
  },
  {
   "cell_type": "code",
   "execution_count": 88,
   "metadata": {},
   "outputs": [
    {
     "data": {
      "text/plain": [
       "array([[0, 0, 0, ..., 0, 0, 0],\n",
       "       [0, 0, 0, ..., 0, 0, 0],\n",
       "       [0, 0, 0, ..., 0, 0, 0],\n",
       "       ...,\n",
       "       [0, 0, 0, ..., 0, 0, 0],\n",
       "       [0, 0, 0, ..., 0, 0, 0],\n",
       "       [0, 0, 0, ..., 0, 0, 0]])"
      ]
     },
     "execution_count": 88,
     "metadata": {},
     "output_type": "execute_result"
    }
   ],
   "source": [
    "X_test = np.zeros((test_size, 50*50*15), dtype=int)\n",
    "for i, vid in enumerate(vids_test):\n",
    "    seq_img = vid.frames.flatten()\n",
    "    X_test[i] = seq_img\n",
    "X_test"
   ]
  },
  {
   "cell_type": "code",
   "execution_count": 89,
   "metadata": {},
   "outputs": [],
   "source": [
    "# Normalisation\n",
    "X_train = X_train / 255.0\n",
    "X_test = X_test / 255.0"
   ]
  },
  {
   "attachments": {},
   "cell_type": "markdown",
   "metadata": {},
   "source": [
    "## Modèle de réseau de neurones avec classification multiclass"
   ]
  },
  {
   "cell_type": "code",
   "execution_count": 90,
   "metadata": {},
   "outputs": [
    {
     "name": "stdout",
     "output_type": "stream",
     "text": [
      "Model: \"sequential_3\"\n",
      "_________________________________________________________________\n",
      " Layer (type)                Output Shape              Param #   \n",
      "=================================================================\n",
      " dense_15 (Dense)            (None, 16)                600016    \n",
      "                                                                 \n",
      " dense_16 (Dense)            (None, 32)                544       \n",
      "                                                                 \n",
      " dense_17 (Dense)            (None, 64)                2112      \n",
      "                                                                 \n",
      " dense_18 (Dense)            (None, 128)               8320      \n",
      "                                                                 \n",
      " dense_19 (Dense)            (None, 4)                 516       \n",
      "                                                                 \n",
      "=================================================================\n",
      "Total params: 611,508\n",
      "Trainable params: 611,508\n",
      "Non-trainable params: 0\n",
      "_________________________________________________________________\n"
     ]
    }
   ],
   "source": [
    "tf.random.set_seed(1234) # for consistent results\n",
    "model = Sequential(\n",
    "    [               \n",
    "        tf.keras.Input(shape = input_shape_model), # 50*50 * 15 = 37500\n",
    "        Dense(units=16, activation=\"relu\"),\n",
    "        Dense(units=32, activation=\"relu\"),\n",
    "        Dense(units=64, activation=\"sigmoid\"),\n",
    "        Dense(units=128, activation=\"relu\"),\n",
    "        Dense(units=len(output_y), activation=\"softmax\"),\n",
    "    ]\n",
    ")          \n",
    "model.summary()"
   ]
  },
  {
   "cell_type": "code",
   "execution_count": 91,
   "metadata": {},
   "outputs": [],
   "source": [
    "checkpoint_name = 'checkpoints/Weights-{epoch:03d}--{val_loss:.5f}.hdf5' \n",
    "checkpoint = ModelCheckpoint(checkpoint_name, monitor='val_loss', verbose = 1, save_best_only = True, mode ='auto')\n",
    "callbacks_list = [checkpoint]"
   ]
  },
  {
   "cell_type": "code",
   "execution_count": 92,
   "metadata": {},
   "outputs": [
    {
     "name": "stdout",
     "output_type": "stream",
     "text": [
      "Epoch 1/100\n",
      "1/2 [==============>...............] - ETA: 0s - loss: 1.6034 - accuracy: 0.0000e+00\n",
      "Epoch 1: val_loss improved from inf to 1.63703, saving model to checkpoints\\Weights-001--1.63703.hdf5\n",
      "2/2 [==============================] - 0s 143ms/step - loss: 1.5686 - accuracy: 0.0714 - val_loss: 1.6370 - val_accuracy: 0.0000e+00\n",
      "Epoch 2/100\n",
      "1/2 [==============>...............] - ETA: 0s - loss: 1.3144 - accuracy: 0.2812\n",
      "Epoch 2: val_loss did not improve from 1.63703\n",
      "2/2 [==============================] - 0s 33ms/step - loss: 1.2922 - accuracy: 0.3333 - val_loss: 2.2306 - val_accuracy: 0.0000e+00\n",
      "Epoch 3/100\n",
      "1/2 [==============>...............] - ETA: 0s - loss: 1.1354 - accuracy: 0.3750\n",
      "Epoch 3: val_loss did not improve from 1.63703\n",
      "2/2 [==============================] - 0s 32ms/step - loss: 1.1150 - accuracy: 0.4524 - val_loss: 2.7827 - val_accuracy: 0.0000e+00\n",
      "Epoch 4/100\n",
      "1/2 [==============>...............] - ETA: 0s - loss: 1.0569 - accuracy: 0.4375\n",
      "Epoch 4: val_loss did not improve from 1.63703\n",
      "2/2 [==============================] - 0s 28ms/step - loss: 1.0494 - accuracy: 0.4286 - val_loss: 3.2537 - val_accuracy: 0.0000e+00\n",
      "Epoch 5/100\n",
      "1/2 [==============>...............] - ETA: 0s - loss: 0.9936 - accuracy: 0.4375\n",
      "Epoch 5: val_loss did not improve from 1.63703\n",
      "2/2 [==============================] - 0s 31ms/step - loss: 1.0004 - accuracy: 0.4286 - val_loss: 3.5770 - val_accuracy: 0.0000e+00\n",
      "Epoch 6/100\n",
      "1/2 [==============>...............] - ETA: 0s - loss: 0.9524 - accuracy: 0.4062\n",
      "Epoch 6: val_loss did not improve from 1.63703\n",
      "2/2 [==============================] - 0s 29ms/step - loss: 0.9171 - accuracy: 0.4524 - val_loss: 3.7833 - val_accuracy: 0.0000e+00\n",
      "Epoch 7/100\n",
      "1/2 [==============>...............] - ETA: 0s - loss: 0.8815 - accuracy: 0.4062\n",
      "Epoch 7: val_loss did not improve from 1.63703\n",
      "2/2 [==============================] - 0s 28ms/step - loss: 0.8273 - accuracy: 0.5238 - val_loss: 3.9725 - val_accuracy: 0.0000e+00\n",
      "Epoch 8/100\n",
      "1/2 [==============>...............] - ETA: 0s - loss: 0.7386 - accuracy: 0.7812\n",
      "Epoch 8: val_loss did not improve from 1.63703\n",
      "2/2 [==============================] - 0s 27ms/step - loss: 0.7339 - accuracy: 0.8095 - val_loss: 4.1892 - val_accuracy: 0.0000e+00\n",
      "Epoch 9/100\n",
      "1/2 [==============>...............] - ETA: 0s - loss: 0.6562 - accuracy: 1.0000\n",
      "Epoch 9: val_loss did not improve from 1.63703\n",
      "2/2 [==============================] - 0s 29ms/step - loss: 0.6513 - accuracy: 1.0000 - val_loss: 4.4151 - val_accuracy: 0.0000e+00\n",
      "Epoch 10/100\n",
      "1/2 [==============>...............] - ETA: 0s - loss: 0.5853 - accuracy: 1.0000\n",
      "Epoch 10: val_loss did not improve from 1.63703\n",
      "2/2 [==============================] - 0s 28ms/step - loss: 0.5687 - accuracy: 1.0000 - val_loss: 4.6289 - val_accuracy: 0.0000e+00\n",
      "Epoch 11/100\n",
      "1/2 [==============>...............] - ETA: 0s - loss: 0.4882 - accuracy: 1.0000\n",
      "Epoch 11: val_loss did not improve from 1.63703\n",
      "2/2 [==============================] - 0s 25ms/step - loss: 0.4798 - accuracy: 1.0000 - val_loss: 4.7970 - val_accuracy: 0.0000e+00\n",
      "Epoch 12/100\n",
      "1/2 [==============>...............] - ETA: 0s - loss: 0.4051 - accuracy: 1.0000\n",
      "Epoch 12: val_loss did not improve from 1.63703\n",
      "2/2 [==============================] - 0s 30ms/step - loss: 0.3942 - accuracy: 1.0000 - val_loss: 4.9176 - val_accuracy: 0.0000e+00\n",
      "Epoch 13/100\n",
      "1/2 [==============>...............] - ETA: 0s - loss: 0.3276 - accuracy: 1.0000\n",
      "Epoch 13: val_loss did not improve from 1.63703\n",
      "2/2 [==============================] - 0s 89ms/step - loss: 0.3208 - accuracy: 1.0000 - val_loss: 5.0186 - val_accuracy: 0.0000e+00\n",
      "Epoch 14/100\n",
      "1/2 [==============>...............] - ETA: 0s - loss: 0.2742 - accuracy: 1.0000\n",
      "Epoch 14: val_loss did not improve from 1.63703\n",
      "2/2 [==============================] - 0s 46ms/step - loss: 0.2618 - accuracy: 1.0000 - val_loss: 5.1454 - val_accuracy: 0.0000e+00\n",
      "Epoch 15/100\n",
      "1/2 [==============>...............] - ETA: 0s - loss: 0.2076 - accuracy: 1.0000\n",
      "Epoch 15: val_loss did not improve from 1.63703\n",
      "2/2 [==============================] - 0s 28ms/step - loss: 0.2079 - accuracy: 1.0000 - val_loss: 5.3337 - val_accuracy: 0.0000e+00\n",
      "Epoch 16/100\n",
      "1/2 [==============>...............] - ETA: 0s - loss: 0.1652 - accuracy: 1.0000\n",
      "Epoch 16: val_loss did not improve from 1.63703\n",
      "2/2 [==============================] - 0s 26ms/step - loss: 0.1608 - accuracy: 1.0000 - val_loss: 5.5703 - val_accuracy: 0.0000e+00\n",
      "Epoch 17/100\n",
      "1/2 [==============>...............] - ETA: 0s - loss: 0.1281 - accuracy: 1.0000\n",
      "Epoch 17: val_loss did not improve from 1.63703\n",
      "2/2 [==============================] - 0s 25ms/step - loss: 0.1260 - accuracy: 1.0000 - val_loss: 5.8112 - val_accuracy: 0.0000e+00\n",
      "Epoch 18/100\n",
      "1/2 [==============>...............] - ETA: 0s - loss: 0.0986 - accuracy: 1.0000\n",
      "Epoch 18: val_loss did not improve from 1.63703\n",
      "2/2 [==============================] - 0s 31ms/step - loss: 0.1013 - accuracy: 1.0000 - val_loss: 5.9836 - val_accuracy: 0.0000e+00\n",
      "Epoch 19/100\n",
      "1/2 [==============>...............] - ETA: 0s - loss: 0.0846 - accuracy: 1.0000\n",
      "Epoch 19: val_loss did not improve from 1.63703\n",
      "2/2 [==============================] - 0s 26ms/step - loss: 0.0803 - accuracy: 1.0000 - val_loss: 6.0546 - val_accuracy: 0.0000e+00\n",
      "Epoch 20/100\n",
      "1/2 [==============>...............] - ETA: 0s - loss: 0.0650 - accuracy: 1.0000\n",
      "Epoch 20: val_loss did not improve from 1.63703\n",
      "2/2 [==============================] - 0s 26ms/step - loss: 0.0628 - accuracy: 1.0000 - val_loss: 6.0958 - val_accuracy: 0.0000e+00\n",
      "Epoch 21/100\n",
      "1/2 [==============>...............] - ETA: 0s - loss: 0.0507 - accuracy: 1.0000\n",
      "Epoch 21: val_loss did not improve from 1.63703\n",
      "2/2 [==============================] - 0s 28ms/step - loss: 0.0499 - accuracy: 1.0000 - val_loss: 6.1394 - val_accuracy: 0.0000e+00\n",
      "Epoch 22/100\n",
      "1/2 [==============>...............] - ETA: 0s - loss: 0.0426 - accuracy: 1.0000\n",
      "Epoch 22: val_loss did not improve from 1.63703\n",
      "2/2 [==============================] - 0s 22ms/step - loss: 0.0404 - accuracy: 1.0000 - val_loss: 6.1909 - val_accuracy: 0.0000e+00\n",
      "Epoch 23/100\n",
      "1/2 [==============>...............] - ETA: 0s - loss: 0.0344 - accuracy: 1.0000\n",
      "Epoch 23: val_loss did not improve from 1.63703\n",
      "2/2 [==============================] - 0s 54ms/step - loss: 0.0332 - accuracy: 1.0000 - val_loss: 6.2467 - val_accuracy: 0.0000e+00\n",
      "Epoch 24/100\n",
      "1/2 [==============>...............] - ETA: 0s - loss: 0.0293 - accuracy: 1.0000\n",
      "Epoch 24: val_loss did not improve from 1.63703\n",
      "2/2 [==============================] - 0s 84ms/step - loss: 0.0279 - accuracy: 1.0000 - val_loss: 6.3105 - val_accuracy: 0.0000e+00\n",
      "Epoch 25/100\n",
      "1/2 [==============>...............] - ETA: 0s - loss: 0.0236 - accuracy: 1.0000\n",
      "Epoch 25: val_loss did not improve from 1.63703\n",
      "2/2 [==============================] - 0s 29ms/step - loss: 0.0237 - accuracy: 1.0000 - val_loss: 6.3818 - val_accuracy: 0.0000e+00\n",
      "Epoch 26/100\n",
      "1/2 [==============>...............] - ETA: 0s - loss: 0.0207 - accuracy: 1.0000\n",
      "Epoch 26: val_loss did not improve from 1.63703\n",
      "2/2 [==============================] - 0s 28ms/step - loss: 0.0205 - accuracy: 1.0000 - val_loss: 6.4599 - val_accuracy: 0.0000e+00\n",
      "Epoch 27/100\n",
      "1/2 [==============>...............] - ETA: 0s - loss: 0.0186 - accuracy: 1.0000\n",
      "Epoch 27: val_loss did not improve from 1.63703\n",
      "2/2 [==============================] - 0s 28ms/step - loss: 0.0178 - accuracy: 1.0000 - val_loss: 6.5424 - val_accuracy: 0.0000e+00\n",
      "Epoch 28/100\n",
      "1/2 [==============>...............] - ETA: 0s - loss: 0.0161 - accuracy: 1.0000\n",
      "Epoch 28: val_loss did not improve from 1.63703\n",
      "2/2 [==============================] - 0s 27ms/step - loss: 0.0157 - accuracy: 1.0000 - val_loss: 6.6213 - val_accuracy: 0.0000e+00\n",
      "Epoch 29/100\n",
      "1/2 [==============>...............] - ETA: 0s - loss: 0.0145 - accuracy: 1.0000\n",
      "Epoch 29: val_loss did not improve from 1.63703\n",
      "2/2 [==============================] - 0s 29ms/step - loss: 0.0139 - accuracy: 1.0000 - val_loss: 6.6970 - val_accuracy: 0.0000e+00\n",
      "Epoch 30/100\n",
      "1/2 [==============>...............] - ETA: 0s - loss: 0.0129 - accuracy: 1.0000\n",
      "Epoch 30: val_loss did not improve from 1.63703\n",
      "2/2 [==============================] - 0s 30ms/step - loss: 0.0124 - accuracy: 1.0000 - val_loss: 6.7678 - val_accuracy: 0.0000e+00\n",
      "Epoch 31/100\n",
      "1/2 [==============>...............] - ETA: 0s - loss: 0.0117 - accuracy: 1.0000\n",
      "Epoch 31: val_loss did not improve from 1.63703\n",
      "2/2 [==============================] - 0s 28ms/step - loss: 0.0112 - accuracy: 1.0000 - val_loss: 6.8269 - val_accuracy: 0.0000e+00\n",
      "Epoch 32/100\n",
      "1/2 [==============>...............] - ETA: 0s - loss: 0.0101 - accuracy: 1.0000\n",
      "Epoch 32: val_loss did not improve from 1.63703\n",
      "2/2 [==============================] - 0s 26ms/step - loss: 0.0102 - accuracy: 1.0000 - val_loss: 6.8805 - val_accuracy: 0.0000e+00\n",
      "Epoch 33/100\n",
      "1/2 [==============>...............] - ETA: 0s - loss: 0.0094 - accuracy: 1.0000\n",
      "Epoch 33: val_loss did not improve from 1.63703\n",
      "2/2 [==============================] - 0s 27ms/step - loss: 0.0093 - accuracy: 1.0000 - val_loss: 6.9340 - val_accuracy: 0.0000e+00\n",
      "Epoch 34/100\n",
      "1/2 [==============>...............] - ETA: 0s - loss: 0.0086 - accuracy: 1.0000\n",
      "Epoch 34: val_loss did not improve from 1.63703\n",
      "2/2 [==============================] - 0s 30ms/step - loss: 0.0086 - accuracy: 1.0000 - val_loss: 6.9854 - val_accuracy: 0.0000e+00\n",
      "Epoch 35/100\n",
      "1/2 [==============>...............] - ETA: 0s - loss: 0.0080 - accuracy: 1.0000\n",
      "Epoch 35: val_loss did not improve from 1.63703\n",
      "2/2 [==============================] - 0s 27ms/step - loss: 0.0080 - accuracy: 1.0000 - val_loss: 7.0330 - val_accuracy: 0.0000e+00\n",
      "Epoch 36/100\n",
      "1/2 [==============>...............] - ETA: 0s - loss: 0.0072 - accuracy: 1.0000\n",
      "Epoch 36: val_loss did not improve from 1.63703\n",
      "2/2 [==============================] - 0s 29ms/step - loss: 0.0074 - accuracy: 1.0000 - val_loss: 7.0783 - val_accuracy: 0.0000e+00\n",
      "Epoch 37/100\n",
      "1/2 [==============>...............] - ETA: 0s - loss: 0.0070 - accuracy: 1.0000\n",
      "Epoch 37: val_loss did not improve from 1.63703\n",
      "2/2 [==============================] - 0s 40ms/step - loss: 0.0069 - accuracy: 1.0000 - val_loss: 7.1209 - val_accuracy: 0.0000e+00\n",
      "Epoch 38/100\n",
      "1/2 [==============>...............] - ETA: 0s - loss: 0.0066 - accuracy: 1.0000\n",
      "Epoch 38: val_loss did not improve from 1.63703\n",
      "2/2 [==============================] - 0s 27ms/step - loss: 0.0065 - accuracy: 1.0000 - val_loss: 7.1591 - val_accuracy: 0.0000e+00\n",
      "Epoch 39/100\n",
      "1/2 [==============>...............] - ETA: 0s - loss: 0.0061 - accuracy: 1.0000\n",
      "Epoch 39: val_loss did not improve from 1.63703\n",
      "2/2 [==============================] - 0s 27ms/step - loss: 0.0061 - accuracy: 1.0000 - val_loss: 7.1968 - val_accuracy: 0.0000e+00\n",
      "Epoch 40/100\n",
      "1/2 [==============>...............] - ETA: 0s - loss: 0.0058 - accuracy: 1.0000\n",
      "Epoch 40: val_loss did not improve from 1.63703\n",
      "2/2 [==============================] - 0s 27ms/step - loss: 0.0057 - accuracy: 1.0000 - val_loss: 7.2356 - val_accuracy: 0.0000e+00\n",
      "Epoch 41/100\n",
      "1/2 [==============>...............] - ETA: 0s - loss: 0.0053 - accuracy: 1.0000\n",
      "Epoch 41: val_loss did not improve from 1.63703\n",
      "2/2 [==============================] - 0s 30ms/step - loss: 0.0054 - accuracy: 1.0000 - val_loss: 7.2726 - val_accuracy: 0.0000e+00\n",
      "Epoch 42/100\n",
      "1/2 [==============>...............] - ETA: 0s - loss: 0.0050 - accuracy: 1.0000\n",
      "Epoch 42: val_loss did not improve from 1.63703\n",
      "2/2 [==============================] - 0s 30ms/step - loss: 0.0050 - accuracy: 1.0000 - val_loss: 7.3091 - val_accuracy: 0.0000e+00\n",
      "Epoch 43/100\n",
      "1/2 [==============>...............] - ETA: 0s - loss: 0.0048 - accuracy: 1.0000\n",
      "Epoch 43: val_loss did not improve from 1.63703\n",
      "2/2 [==============================] - 0s 29ms/step - loss: 0.0047 - accuracy: 1.0000 - val_loss: 7.3508 - val_accuracy: 0.0000e+00\n",
      "Epoch 44/100\n",
      "1/2 [==============>...............] - ETA: 0s - loss: 0.0045 - accuracy: 1.0000\n",
      "Epoch 44: val_loss did not improve from 1.63703\n",
      "2/2 [==============================] - 0s 28ms/step - loss: 0.0045 - accuracy: 1.0000 - val_loss: 7.3946 - val_accuracy: 0.0000e+00\n",
      "Epoch 45/100\n",
      "1/2 [==============>...............] - ETA: 0s - loss: 0.0043 - accuracy: 1.0000\n",
      "Epoch 45: val_loss did not improve from 1.63703\n",
      "2/2 [==============================] - 0s 27ms/step - loss: 0.0042 - accuracy: 1.0000 - val_loss: 7.4353 - val_accuracy: 0.0000e+00\n",
      "Epoch 46/100\n",
      "1/2 [==============>...............] - ETA: 0s - loss: 0.0040 - accuracy: 1.0000\n",
      "Epoch 46: val_loss did not improve from 1.63703\n",
      "2/2 [==============================] - 0s 28ms/step - loss: 0.0040 - accuracy: 1.0000 - val_loss: 7.4722 - val_accuracy: 0.0000e+00\n",
      "Epoch 47/100\n",
      "1/2 [==============>...............] - ETA: 0s - loss: 0.0040 - accuracy: 1.0000\n",
      "Epoch 47: val_loss did not improve from 1.63703\n",
      "2/2 [==============================] - 0s 26ms/step - loss: 0.0039 - accuracy: 1.0000 - val_loss: 7.5062 - val_accuracy: 0.0000e+00\n",
      "Epoch 48/100\n",
      "1/2 [==============>...............] - ETA: 0s - loss: 0.0037 - accuracy: 1.0000\n",
      "Epoch 48: val_loss did not improve from 1.63703\n",
      "2/2 [==============================] - 0s 28ms/step - loss: 0.0037 - accuracy: 1.0000 - val_loss: 7.5377 - val_accuracy: 0.0000e+00\n",
      "Epoch 49/100\n",
      "1/2 [==============>...............] - ETA: 0s - loss: 0.0034 - accuracy: 1.0000\n",
      "Epoch 49: val_loss did not improve from 1.63703\n",
      "2/2 [==============================] - 0s 26ms/step - loss: 0.0035 - accuracy: 1.0000 - val_loss: 7.5675 - val_accuracy: 0.0000e+00\n",
      "Epoch 50/100\n",
      "1/2 [==============>...............] - ETA: 0s - loss: 0.0035 - accuracy: 1.0000\n",
      "Epoch 50: val_loss did not improve from 1.63703\n",
      "2/2 [==============================] - 0s 24ms/step - loss: 0.0034 - accuracy: 1.0000 - val_loss: 7.5948 - val_accuracy: 0.0000e+00\n",
      "Epoch 51/100\n",
      "1/2 [==============>...............] - ETA: 0s - loss: 0.0033 - accuracy: 1.0000\n",
      "Epoch 51: val_loss did not improve from 1.63703\n",
      "2/2 [==============================] - 0s 24ms/step - loss: 0.0032 - accuracy: 1.0000 - val_loss: 7.6198 - val_accuracy: 0.0000e+00\n",
      "Epoch 52/100\n",
      "1/2 [==============>...............] - ETA: 0s - loss: 0.0030 - accuracy: 1.0000\n",
      "Epoch 52: val_loss did not improve from 1.63703\n",
      "2/2 [==============================] - 0s 25ms/step - loss: 0.0031 - accuracy: 1.0000 - val_loss: 7.6444 - val_accuracy: 0.0000e+00\n",
      "Epoch 53/100\n",
      "1/2 [==============>...............] - ETA: 0s - loss: 0.0030 - accuracy: 1.0000\n",
      "Epoch 53: val_loss did not improve from 1.63703\n",
      "2/2 [==============================] - 0s 27ms/step - loss: 0.0029 - accuracy: 1.0000 - val_loss: 7.6704 - val_accuracy: 0.0000e+00\n",
      "Epoch 54/100\n",
      "1/2 [==============>...............] - ETA: 0s - loss: 0.0028 - accuracy: 1.0000\n",
      "Epoch 54: val_loss did not improve from 1.63703\n",
      "2/2 [==============================] - 0s 32ms/step - loss: 0.0028 - accuracy: 1.0000 - val_loss: 7.6983 - val_accuracy: 0.0000e+00\n",
      "Epoch 55/100\n",
      "1/2 [==============>...............] - ETA: 0s - loss: 0.0028 - accuracy: 1.0000\n",
      "Epoch 55: val_loss did not improve from 1.63703\n",
      "2/2 [==============================] - 0s 26ms/step - loss: 0.0027 - accuracy: 1.0000 - val_loss: 7.7275 - val_accuracy: 0.0000e+00\n",
      "Epoch 56/100\n",
      "1/2 [==============>...............] - ETA: 0s - loss: 0.0025 - accuracy: 1.0000\n",
      "Epoch 56: val_loss did not improve from 1.63703\n",
      "2/2 [==============================] - 0s 25ms/step - loss: 0.0026 - accuracy: 1.0000 - val_loss: 7.7568 - val_accuracy: 0.0000e+00\n",
      "Epoch 57/100\n",
      "1/2 [==============>...............] - ETA: 0s - loss: 0.0025 - accuracy: 1.0000\n",
      "Epoch 57: val_loss did not improve from 1.63703\n",
      "2/2 [==============================] - 0s 27ms/step - loss: 0.0025 - accuracy: 1.0000 - val_loss: 7.7866 - val_accuracy: 0.0000e+00\n",
      "Epoch 58/100\n",
      "1/2 [==============>...............] - ETA: 0s - loss: 0.0023 - accuracy: 1.0000\n",
      "Epoch 58: val_loss did not improve from 1.63703\n",
      "2/2 [==============================] - 0s 26ms/step - loss: 0.0024 - accuracy: 1.0000 - val_loss: 7.8164 - val_accuracy: 0.0000e+00\n",
      "Epoch 59/100\n",
      "1/2 [==============>...............] - ETA: 0s - loss: 0.0024 - accuracy: 1.0000\n",
      "Epoch 59: val_loss did not improve from 1.63703\n",
      "2/2 [==============================] - 0s 27ms/step - loss: 0.0023 - accuracy: 1.0000 - val_loss: 7.8454 - val_accuracy: 0.0000e+00\n",
      "Epoch 60/100\n",
      "1/2 [==============>...............] - ETA: 0s - loss: 0.0023 - accuracy: 1.0000\n",
      "Epoch 60: val_loss did not improve from 1.63703\n",
      "2/2 [==============================] - 0s 40ms/step - loss: 0.0022 - accuracy: 1.0000 - val_loss: 7.8736 - val_accuracy: 0.0000e+00\n",
      "Epoch 61/100\n",
      "1/2 [==============>...............] - ETA: 0s - loss: 0.0022 - accuracy: 1.0000\n",
      "Epoch 61: val_loss did not improve from 1.63703\n",
      "2/2 [==============================] - 0s 39ms/step - loss: 0.0022 - accuracy: 1.0000 - val_loss: 7.9017 - val_accuracy: 0.0000e+00\n",
      "Epoch 62/100\n",
      "1/2 [==============>...............] - ETA: 0s - loss: 0.0021 - accuracy: 1.0000\n",
      "Epoch 62: val_loss did not improve from 1.63703\n",
      "2/2 [==============================] - 0s 30ms/step - loss: 0.0021 - accuracy: 1.0000 - val_loss: 7.9289 - val_accuracy: 0.0000e+00\n",
      "Epoch 63/100\n",
      "1/2 [==============>...............] - ETA: 0s - loss: 0.0020 - accuracy: 1.0000\n",
      "Epoch 63: val_loss did not improve from 1.63703\n",
      "2/2 [==============================] - 0s 29ms/step - loss: 0.0020 - accuracy: 1.0000 - val_loss: 7.9552 - val_accuracy: 0.0000e+00\n",
      "Epoch 64/100\n",
      "1/2 [==============>...............] - ETA: 0s - loss: 0.0019 - accuracy: 1.0000\n",
      "Epoch 64: val_loss did not improve from 1.63703\n",
      "2/2 [==============================] - 0s 26ms/step - loss: 0.0019 - accuracy: 1.0000 - val_loss: 7.9815 - val_accuracy: 0.0000e+00\n",
      "Epoch 65/100\n",
      "1/2 [==============>...............] - ETA: 0s - loss: 0.0018 - accuracy: 1.0000\n",
      "Epoch 65: val_loss did not improve from 1.63703\n",
      "2/2 [==============================] - 0s 25ms/step - loss: 0.0019 - accuracy: 1.0000 - val_loss: 8.0077 - val_accuracy: 0.0000e+00\n",
      "Epoch 66/100\n",
      "1/2 [==============>...............] - ETA: 0s - loss: 0.0018 - accuracy: 1.0000\n",
      "Epoch 66: val_loss did not improve from 1.63703\n",
      "2/2 [==============================] - 0s 28ms/step - loss: 0.0018 - accuracy: 1.0000 - val_loss: 8.0337 - val_accuracy: 0.0000e+00\n",
      "Epoch 67/100\n",
      "1/2 [==============>...............] - ETA: 0s - loss: 0.0018 - accuracy: 1.0000\n",
      "Epoch 67: val_loss did not improve from 1.63703\n",
      "2/2 [==============================] - 0s 28ms/step - loss: 0.0018 - accuracy: 1.0000 - val_loss: 8.0602 - val_accuracy: 0.0000e+00\n",
      "Epoch 68/100\n",
      "1/2 [==============>...............] - ETA: 0s - loss: 0.0017 - accuracy: 1.0000\n",
      "Epoch 68: val_loss did not improve from 1.63703\n",
      "2/2 [==============================] - 0s 29ms/step - loss: 0.0017 - accuracy: 1.0000 - val_loss: 8.0866 - val_accuracy: 0.0000e+00\n",
      "Epoch 69/100\n",
      "1/2 [==============>...............] - ETA: 0s - loss: 0.0017 - accuracy: 1.0000\n",
      "Epoch 69: val_loss did not improve from 1.63703\n",
      "2/2 [==============================] - 0s 29ms/step - loss: 0.0017 - accuracy: 1.0000 - val_loss: 8.1130 - val_accuracy: 0.0000e+00\n",
      "Epoch 70/100\n",
      "1/2 [==============>...............] - ETA: 0s - loss: 0.0017 - accuracy: 1.0000\n",
      "Epoch 70: val_loss did not improve from 1.63703\n",
      "2/2 [==============================] - 0s 31ms/step - loss: 0.0016 - accuracy: 1.0000 - val_loss: 8.1391 - val_accuracy: 0.0000e+00\n",
      "Epoch 71/100\n",
      "1/2 [==============>...............] - ETA: 0s - loss: 0.0016 - accuracy: 1.0000\n",
      "Epoch 71: val_loss did not improve from 1.63703\n",
      "2/2 [==============================] - 0s 30ms/step - loss: 0.0016 - accuracy: 1.0000 - val_loss: 8.1647 - val_accuracy: 0.0000e+00\n",
      "Epoch 72/100\n",
      "1/2 [==============>...............] - ETA: 0s - loss: 0.0015 - accuracy: 1.0000\n",
      "Epoch 72: val_loss did not improve from 1.63703\n",
      "2/2 [==============================] - 0s 28ms/step - loss: 0.0015 - accuracy: 1.0000 - val_loss: 8.1896 - val_accuracy: 0.0000e+00\n",
      "Epoch 73/100\n",
      "1/2 [==============>...............] - ETA: 0s - loss: 0.0014 - accuracy: 1.0000\n",
      "Epoch 73: val_loss did not improve from 1.63703\n",
      "2/2 [==============================] - 0s 28ms/step - loss: 0.0015 - accuracy: 1.0000 - val_loss: 8.2139 - val_accuracy: 0.0000e+00\n",
      "Epoch 74/100\n",
      "1/2 [==============>...............] - ETA: 0s - loss: 0.0014 - accuracy: 1.0000\n",
      "Epoch 74: val_loss did not improve from 1.63703\n",
      "2/2 [==============================] - 0s 28ms/step - loss: 0.0014 - accuracy: 1.0000 - val_loss: 8.2376 - val_accuracy: 0.0000e+00\n",
      "Epoch 75/100\n",
      "1/2 [==============>...............] - ETA: 0s - loss: 0.0014 - accuracy: 1.0000\n",
      "Epoch 75: val_loss did not improve from 1.63703\n",
      "2/2 [==============================] - 0s 28ms/step - loss: 0.0014 - accuracy: 1.0000 - val_loss: 8.2604 - val_accuracy: 0.0000e+00\n",
      "Epoch 76/100\n",
      "1/2 [==============>...............] - ETA: 0s - loss: 0.0014 - accuracy: 1.0000\n",
      "Epoch 76: val_loss did not improve from 1.63703\n",
      "2/2 [==============================] - 0s 29ms/step - loss: 0.0013 - accuracy: 1.0000 - val_loss: 8.2821 - val_accuracy: 0.0000e+00\n",
      "Epoch 77/100\n",
      "1/2 [==============>...............] - ETA: 0s - loss: 0.0012 - accuracy: 1.0000\n",
      "Epoch 77: val_loss did not improve from 1.63703\n",
      "2/2 [==============================] - 0s 29ms/step - loss: 0.0013 - accuracy: 1.0000 - val_loss: 8.3029 - val_accuracy: 0.0000e+00\n",
      "Epoch 78/100\n",
      "1/2 [==============>...............] - ETA: 0s - loss: 0.0013 - accuracy: 1.0000\n",
      "Epoch 78: val_loss did not improve from 1.63703\n",
      "2/2 [==============================] - 0s 29ms/step - loss: 0.0013 - accuracy: 1.0000 - val_loss: 8.3230 - val_accuracy: 0.0000e+00\n",
      "Epoch 79/100\n",
      "1/2 [==============>...............] - ETA: 0s - loss: 0.0012 - accuracy: 1.0000\n",
      "Epoch 79: val_loss did not improve from 1.63703\n",
      "2/2 [==============================] - 0s 27ms/step - loss: 0.0012 - accuracy: 1.0000 - val_loss: 8.3427 - val_accuracy: 0.0000e+00\n",
      "Epoch 80/100\n",
      "1/2 [==============>...............] - ETA: 0s - loss: 0.0012 - accuracy: 1.0000\n",
      "Epoch 80: val_loss did not improve from 1.63703\n",
      "2/2 [==============================] - 0s 28ms/step - loss: 0.0012 - accuracy: 1.0000 - val_loss: 8.3625 - val_accuracy: 0.0000e+00\n",
      "Epoch 81/100\n",
      "1/2 [==============>...............] - ETA: 0s - loss: 0.0012 - accuracy: 1.0000\n",
      "Epoch 81: val_loss did not improve from 1.63703\n",
      "2/2 [==============================] - 0s 27ms/step - loss: 0.0012 - accuracy: 1.0000 - val_loss: 8.3823 - val_accuracy: 0.0000e+00\n",
      "Epoch 82/100\n",
      "1/2 [==============>...............] - ETA: 0s - loss: 0.0012 - accuracy: 1.0000\n",
      "Epoch 82: val_loss did not improve from 1.63703\n",
      "2/2 [==============================] - 0s 42ms/step - loss: 0.0011 - accuracy: 1.0000 - val_loss: 8.4018 - val_accuracy: 0.0000e+00\n",
      "Epoch 83/100\n",
      "1/2 [==============>...............] - ETA: 0s - loss: 0.0011 - accuracy: 1.0000\n",
      "Epoch 83: val_loss did not improve from 1.63703\n",
      "2/2 [==============================] - 0s 29ms/step - loss: 0.0011 - accuracy: 1.0000 - val_loss: 8.4214 - val_accuracy: 0.0000e+00\n",
      "Epoch 84/100\n",
      "1/2 [==============>...............] - ETA: 0s - loss: 0.0011 - accuracy: 1.0000\n",
      "Epoch 84: val_loss did not improve from 1.63703\n",
      "2/2 [==============================] - 0s 31ms/step - loss: 0.0011 - accuracy: 1.0000 - val_loss: 8.4418 - val_accuracy: 0.0000e+00\n",
      "Epoch 85/100\n",
      "1/2 [==============>...............] - ETA: 0s - loss: 0.0010 - accuracy: 1.0000\n",
      "Epoch 85: val_loss did not improve from 1.63703\n",
      "2/2 [==============================] - 0s 28ms/step - loss: 0.0011 - accuracy: 1.0000 - val_loss: 8.4621 - val_accuracy: 0.0000e+00\n",
      "Epoch 86/100\n",
      "1/2 [==============>...............] - ETA: 0s - loss: 0.0010 - accuracy: 1.0000\n",
      "Epoch 86: val_loss did not improve from 1.63703\n",
      "2/2 [==============================] - 0s 30ms/step - loss: 0.0010 - accuracy: 1.0000 - val_loss: 8.4827 - val_accuracy: 0.0000e+00\n",
      "Epoch 87/100\n",
      "1/2 [==============>...............] - ETA: 0s - loss: 9.3219e-04 - accuracy: 1.0000\n",
      "Epoch 87: val_loss did not improve from 1.63703\n",
      "2/2 [==============================] - 0s 28ms/step - loss: 0.0010 - accuracy: 1.0000 - val_loss: 8.5034 - val_accuracy: 0.0000e+00\n",
      "Epoch 88/100\n",
      "1/2 [==============>...............] - ETA: 0s - loss: 0.0010 - accuracy: 1.0000\n",
      "Epoch 88: val_loss did not improve from 1.63703\n",
      "2/2 [==============================] - 0s 28ms/step - loss: 9.7772e-04 - accuracy: 1.0000 - val_loss: 8.5240 - val_accuracy: 0.0000e+00\n",
      "Epoch 89/100\n",
      "1/2 [==============>...............] - ETA: 0s - loss: 9.9131e-04 - accuracy: 1.0000\n",
      "Epoch 89: val_loss did not improve from 1.63703\n",
      "2/2 [==============================] - 0s 28ms/step - loss: 9.5390e-04 - accuracy: 1.0000 - val_loss: 8.5438 - val_accuracy: 0.0000e+00\n",
      "Epoch 90/100\n",
      "1/2 [==============>...............] - ETA: 0s - loss: 9.3794e-04 - accuracy: 1.0000\n",
      "Epoch 90: val_loss did not improve from 1.63703\n",
      "2/2 [==============================] - 0s 27ms/step - loss: 9.3096e-04 - accuracy: 1.0000 - val_loss: 8.5628 - val_accuracy: 0.0000e+00\n",
      "Epoch 91/100\n",
      "1/2 [==============>...............] - ETA: 0s - loss: 8.7177e-04 - accuracy: 1.0000\n",
      "Epoch 91: val_loss did not improve from 1.63703\n",
      "2/2 [==============================] - 0s 28ms/step - loss: 9.0887e-04 - accuracy: 1.0000 - val_loss: 8.5815 - val_accuracy: 0.0000e+00\n",
      "Epoch 92/100\n",
      "1/2 [==============>...............] - ETA: 0s - loss: 9.3345e-04 - accuracy: 1.0000\n",
      "Epoch 92: val_loss did not improve from 1.63703\n",
      "2/2 [==============================] - 0s 26ms/step - loss: 8.8892e-04 - accuracy: 1.0000 - val_loss: 8.5999 - val_accuracy: 0.0000e+00\n",
      "Epoch 93/100\n",
      "1/2 [==============>...............] - ETA: 0s - loss: 8.7050e-04 - accuracy: 1.0000\n",
      "Epoch 93: val_loss did not improve from 1.63703\n",
      "2/2 [==============================] - 0s 26ms/step - loss: 8.6811e-04 - accuracy: 1.0000 - val_loss: 8.6175 - val_accuracy: 0.0000e+00\n",
      "Epoch 94/100\n",
      "1/2 [==============>...............] - ETA: 0s - loss: 8.7019e-04 - accuracy: 1.0000\n",
      "Epoch 94: val_loss did not improve from 1.63703\n",
      "2/2 [==============================] - 0s 25ms/step - loss: 8.4877e-04 - accuracy: 1.0000 - val_loss: 8.6350 - val_accuracy: 0.0000e+00\n",
      "Epoch 95/100\n",
      "1/2 [==============>...............] - ETA: 0s - loss: 8.4540e-04 - accuracy: 1.0000\n",
      "Epoch 95: val_loss did not improve from 1.63703\n",
      "2/2 [==============================] - 0s 26ms/step - loss: 8.2997e-04 - accuracy: 1.0000 - val_loss: 8.6526 - val_accuracy: 0.0000e+00\n",
      "Epoch 96/100\n",
      "1/2 [==============>...............] - ETA: 0s - loss: 8.2017e-04 - accuracy: 1.0000\n",
      "Epoch 96: val_loss did not improve from 1.63703\n",
      "2/2 [==============================] - 0s 27ms/step - loss: 8.1173e-04 - accuracy: 1.0000 - val_loss: 8.6703 - val_accuracy: 0.0000e+00\n",
      "Epoch 97/100\n",
      "1/2 [==============>...............] - ETA: 0s - loss: 8.2021e-04 - accuracy: 1.0000\n",
      "Epoch 97: val_loss did not improve from 1.63703\n",
      "2/2 [==============================] - 0s 27ms/step - loss: 7.9445e-04 - accuracy: 1.0000 - val_loss: 8.6877 - val_accuracy: 0.0000e+00\n",
      "Epoch 98/100\n",
      "1/2 [==============>...............] - ETA: 0s - loss: 7.9034e-04 - accuracy: 1.0000\n",
      "Epoch 98: val_loss did not improve from 1.63703\n",
      "2/2 [==============================] - 0s 24ms/step - loss: 7.7749e-04 - accuracy: 1.0000 - val_loss: 8.7047 - val_accuracy: 0.0000e+00\n",
      "Epoch 99/100\n",
      "1/2 [==============>...............] - ETA: 0s - loss: 7.5305e-04 - accuracy: 1.0000\n",
      "Epoch 99: val_loss did not improve from 1.63703\n",
      "2/2 [==============================] - 0s 29ms/step - loss: 7.6116e-04 - accuracy: 1.0000 - val_loss: 8.7214 - val_accuracy: 0.0000e+00\n",
      "Epoch 100/100\n",
      "1/2 [==============>...............] - ETA: 0s - loss: 7.6569e-04 - accuracy: 1.0000\n",
      "Epoch 100: val_loss did not improve from 1.63703\n",
      "2/2 [==============================] - 0s 40ms/step - loss: 7.4581e-04 - accuracy: 1.0000 - val_loss: 8.7379 - val_accuracy: 0.0000e+00\n"
     ]
    }
   ],
   "source": [
    "model.compile(\n",
    "    loss = tf.keras.losses.SparseCategoricalCrossentropy(),\n",
    "    optimizer = Adam(learning_rate=0.001), # 'Adam',\n",
    "    metrics=['accuracy']\n",
    ")\n",
    "\n",
    "history = model.fit(\n",
    "    X_train, y_train,\n",
    "    epochs = 100,\n",
    "    batch_size = 32, # données transmises pour une session\n",
    "    validation_split=0.2,\n",
    "    callbacks=callbacks_list\n",
    ")"
   ]
  },
  {
   "cell_type": "code",
   "execution_count": 25,
   "metadata": {},
   "outputs": [],
   "source": [
    "# Save model\n",
    "model.save('saved_models\\classic_model_1_joueur_haut.h5')"
   ]
  },
  {
   "cell_type": "code",
   "execution_count": 93,
   "metadata": {},
   "outputs": [
    {
     "name": "stdout",
     "output_type": "stream",
     "text": [
      "1/1 [==============================] - 0s 29ms/step - loss: 2.4916 - accuracy: 0.5000\n"
     ]
    },
    {
     "data": {
      "text/plain": [
       "[2.4915664196014404, 0.5]"
      ]
     },
     "execution_count": 93,
     "metadata": {},
     "output_type": "execute_result"
    }
   ],
   "source": [
    "model.evaluate(X_test, y_test)"
   ]
  },
  {
   "cell_type": "code",
   "execution_count": 94,
   "metadata": {},
   "outputs": [
    {
     "name": "stdout",
     "output_type": "stream",
     "text": [
      "1/1 [==============================] - 0s 39ms/step\n"
     ]
    },
    {
     "data": {
      "text/plain": [
       "array([[9.3768126e-01, 5.8769848e-02, 3.3202462e-03, 2.2866404e-04],\n",
       "       [1.4789995e-02, 9.7630125e-01, 8.7563572e-03, 1.5232492e-04],\n",
       "       [4.2683479e-01, 5.6289965e-01, 9.7612320e-03, 5.0437305e-04],\n",
       "       [3.4849536e-02, 8.5830021e-01, 1.0647215e-01, 3.7820748e-04],\n",
       "       [2.6128751e-01, 7.3313445e-01, 5.2384809e-03, 3.3956187e-04],\n",
       "       [1.3584740e-02, 9.7620732e-01, 1.0067902e-02, 1.4004315e-04],\n",
       "       [6.7455277e-02, 9.2993563e-01, 2.4244040e-03, 1.8471872e-04],\n",
       "       [1.5410262e-02, 9.8336315e-01, 1.1361671e-03, 9.0343259e-05],\n",
       "       [9.8351246e-01, 1.5533330e-02, 8.4053824e-04, 1.1367043e-04],\n",
       "       [2.5411665e-02, 9.5028055e-01, 2.4057344e-02, 2.5041259e-04],\n",
       "       [5.9056103e-02, 9.2747504e-01, 1.3100634e-02, 3.6827565e-04],\n",
       "       [4.2315223e-03, 1.8263814e-01, 8.1289792e-01, 2.3245366e-04],\n",
       "       [4.4910014e-03, 9.9560238e-02, 8.9574826e-01, 2.0048725e-04],\n",
       "       [7.4567511e-03, 8.4417129e-01, 1.4810446e-01, 2.6744147e-04]],\n",
       "      dtype=float32)"
      ]
     },
     "execution_count": 94,
     "metadata": {},
     "output_type": "execute_result"
    }
   ],
   "source": [
    "pred = model.predict(X_test)\n",
    "pred"
   ]
  },
  {
   "cell_type": "code",
   "execution_count": 95,
   "metadata": {},
   "outputs": [
    {
     "name": "stdout",
     "output_type": "stream",
     "text": [
      "Predicted labels:  [0 1 1 1 1 1 1 1 0 1 1 2 2 1]\n",
      "True labels:       [0 0 0 1 1 1 1 1 1 2 2 2 3 3]\n"
     ]
    }
   ],
   "source": [
    "y_pred = np.argmax(pred, axis=1)\n",
    "print(\"Predicted labels: \", y_pred)\n",
    "print(\"True labels:      \", y_test)"
   ]
  },
  {
   "attachments": {},
   "cell_type": "markdown",
   "metadata": {},
   "source": [
    "**Accuracy: $7/14$ ($50 \\%$)**"
   ]
  },
  {
   "attachments": {},
   "cell_type": "markdown",
   "metadata": {},
   "source": [
    "# Réseaux de neurones convolutifs"
   ]
  },
  {
   "attachments": {},
   "cell_type": "markdown",
   "metadata": {},
   "source": [
    "## Prises des frames et des vidéos"
   ]
  },
  {
   "cell_type": "code",
   "execution_count": 96,
   "metadata": {},
   "outputs": [],
   "source": [
    "list_videos_cnn = []\n",
    "y_cnn = []\n",
    "for dirpath, dirnames, _ in os.walk(path_dataset):\n",
    "    for dir_type in dirnames:\n",
    "        \n",
    "        path_fol = os.path.join(dirpath, dir_type)\n",
    "        for file in os.listdir(path_fol):\n",
    "            path_fol_img = os.path.join(path_fol, file)\n",
    "            if os.path.isdir(path_fol_img) and file == 'images':\n",
    "                frames = []\n",
    "                for file_img in os.listdir(path_fol_img):\n",
    "                    path_img = os.path.join(path_fol_img, file_img)\n",
    "                    img_obj = Image.load_image(cv2.IMREAD_COLOR, path_img)\n",
    "                    img = img_obj.img\n",
    "                    frames.append(img)\t\n",
    "                if (len(frames) == 15):\n",
    "                    output_res = path_img.split('\\\\')[1]\n",
    "                    vid = Video.read_video_from_frames(frames)\n",
    "                    list_videos_cnn.append(vid)\n",
    "                    y_cnn.append(output_res)"
   ]
  },
  {
   "cell_type": "code",
   "execution_count": 97,
   "metadata": {},
   "outputs": [
    {
     "data": {
      "text/plain": [
       "(50, 50, 3)"
      ]
     },
     "execution_count": 97,
     "metadata": {},
     "output_type": "execute_result"
    }
   ],
   "source": [
    "list_videos_cnn[0].frames.shape[1:]"
   ]
  },
  {
   "cell_type": "code",
   "execution_count": 98,
   "metadata": {},
   "outputs": [],
   "source": [
    "# One-hot encoding\n",
    "encoder = LabelEncoder()"
   ]
  },
  {
   "attachments": {},
   "cell_type": "markdown",
   "metadata": {},
   "source": [
    "Transformer output y en one hot vector\n",
    "- 0: coup droit\n",
    "- 1: déplacement\n",
    "- 2: revers\n",
    "- 3: service"
   ]
  },
  {
   "cell_type": "code",
   "execution_count": 99,
   "metadata": {},
   "outputs": [
    {
     "data": {
      "text/plain": [
       "array([0, 0, 0, 0, 0, 0, 0, 0, 0, 0, 0, 0, 0, 0, 0, 0, 1, 1, 1, 1, 1, 1,\n",
       "       1, 1, 1, 1, 1, 1, 1, 1, 1, 1, 1, 1, 1, 1, 1, 1, 1, 1, 2, 2, 2, 2,\n",
       "       2, 2, 2, 2, 2, 2, 2, 2, 2, 2, 3, 3, 3, 3, 3, 3, 3, 3, 3, 3, 3, 3,\n",
       "       3], dtype=int64)"
      ]
     },
     "execution_count": 99,
     "metadata": {},
     "output_type": "execute_result"
    }
   ],
   "source": [
    "y_cnn = encoder.fit_transform(y_cnn)\n",
    "y_cnn"
   ]
  },
  {
   "cell_type": "code",
   "execution_count": 100,
   "metadata": {},
   "outputs": [
    {
     "data": {
      "text/plain": [
       "array([0, 1, 2, 3], dtype=int64)"
      ]
     },
     "execution_count": 100,
     "metadata": {},
     "output_type": "execute_result"
    }
   ],
   "source": [
    "output_y = np.unique(y_cnn)\n",
    "output_y"
   ]
  },
  {
   "cell_type": "code",
   "execution_count": 101,
   "metadata": {},
   "outputs": [
    {
     "data": {
      "text/plain": [
       "67"
      ]
     },
     "execution_count": 101,
     "metadata": {},
     "output_type": "execute_result"
    }
   ],
   "source": [
    "len(list_videos_cnn)"
   ]
  },
  {
   "cell_type": "code",
   "execution_count": 102,
   "metadata": {},
   "outputs": [],
   "source": [
    "train_size = int(len(list_videos_cnn) * 0.8)\n",
    "test_size = len(list_videos_cnn) - train_size"
   ]
  },
  {
   "cell_type": "code",
   "execution_count": 104,
   "metadata": {},
   "outputs": [
    {
     "data": {
      "text/plain": [
       "(53, 53, 14, 14)"
      ]
     },
     "execution_count": 104,
     "metadata": {},
     "output_type": "execute_result"
    }
   ],
   "source": [
    "## Split video train, test\n",
    "random.seed(42)\n",
    "vids_train_cnn = random.sample(list_videos_cnn, k = train_size)\n",
    "vids_test_cnn = [vid for vid in list_videos_cnn if vid not in vids_train_cnn]\n",
    "y_train_cnn = [y_cnn[i] for i in range(len(y_cnn)) if list_videos_cnn[i] in vids_train_cnn]\n",
    "y_test_cnn = [y_cnn[i] for i in range(len(y_cnn)) if list_videos_cnn[i] in vids_test_cnn]\n",
    "len(vids_train_cnn), len(y_train_cnn), len(vids_test_cnn), len(y_test_cnn)"
   ]
  },
  {
   "cell_type": "code",
   "execution_count": 105,
   "metadata": {},
   "outputs": [
    {
     "data": {
      "text/plain": [
       "array([0, 0, 0, 0, 0, 0, 0, 0, 0, 0, 0, 0, 0, 1, 1, 1, 1, 1, 1, 1, 1, 1,\n",
       "       1, 1, 1, 1, 1, 1, 1, 1, 1, 2, 2, 2, 2, 2, 2, 2, 2, 2, 2, 2, 3, 3,\n",
       "       3, 3, 3, 3, 3, 3, 3, 3, 3])"
      ]
     },
     "execution_count": 105,
     "metadata": {},
     "output_type": "execute_result"
    }
   ],
   "source": [
    "y_train_cnn = np.array(y_train_cnn, dtype=int)\n",
    "y_test_cnn = np.array(y_test_cnn, dtype=int)\n",
    "y_train_cnn"
   ]
  },
  {
   "cell_type": "code",
   "execution_count": 106,
   "metadata": {},
   "outputs": [
    {
     "data": {
      "text/plain": [
       "(53, 50, 750, 3)"
      ]
     },
     "execution_count": 106,
     "metadata": {},
     "output_type": "execute_result"
    }
   ],
   "source": [
    "# Split input X en train, test set\n",
    "X_train_cnn = np.zeros((train_size, 50, 15*50, 3), dtype=int)\n",
    "for i, vid in enumerate(vids_train_cnn):\n",
    "    for j, frame in enumerate(vid.frames):\n",
    "        X_train_cnn[i, :, 50*j:50*(j+1), :] = frame\n",
    "X_train_cnn.shape"
   ]
  },
  {
   "cell_type": "code",
   "execution_count": 107,
   "metadata": {},
   "outputs": [
    {
     "data": {
      "text/plain": [
       "(14, 50, 750, 3)"
      ]
     },
     "execution_count": 107,
     "metadata": {},
     "output_type": "execute_result"
    }
   ],
   "source": [
    "X_test_cnn = np.zeros((test_size, 50, 15*50, 3), dtype=int)\n",
    "for i, vid in enumerate(vids_test_cnn):\n",
    "    for j, frame in enumerate(vid.frames):\n",
    "        X_test_cnn[i, :, 50*j:50*(j+1), :] = frame\n",
    "X_test_cnn.shape"
   ]
  },
  {
   "cell_type": "code",
   "execution_count": 108,
   "metadata": {},
   "outputs": [
    {
     "data": {
      "text/plain": [
       "(50, 750, 3)"
      ]
     },
     "execution_count": 108,
     "metadata": {},
     "output_type": "execute_result"
    }
   ],
   "source": [
    "input_shape_cnn = X_train_cnn.shape[1:]\n",
    "input_shape_cnn"
   ]
  },
  {
   "attachments": {},
   "cell_type": "markdown",
   "metadata": {},
   "source": [
    "## Modèle de réseau de neurones convolutifs"
   ]
  },
  {
   "cell_type": "code",
   "execution_count": 141,
   "metadata": {},
   "outputs": [
    {
     "name": "stdout",
     "output_type": "stream",
     "text": [
      "Model: \"sequential_10\"\n",
      "_________________________________________________________________\n",
      " Layer (type)                Output Shape              Param #   \n",
      "=================================================================\n",
      " conv2d_12 (Conv2D)          (None, 48, 748, 16)       448       \n",
      "                                                                 \n",
      " batch_normalization_12 (Bat  (None, 48, 748, 16)      64        \n",
      " chNormalization)                                                \n",
      "                                                                 \n",
      " max_pooling2d_12 (MaxPoolin  (None, 24, 374, 16)      0         \n",
      " g2D)                                                            \n",
      "                                                                 \n",
      " dropout_12 (Dropout)        (None, 24, 374, 16)       0         \n",
      "                                                                 \n",
      " conv2d_13 (Conv2D)          (None, 22, 372, 32)       4640      \n",
      "                                                                 \n",
      " batch_normalization_13 (Bat  (None, 22, 372, 32)      128       \n",
      " chNormalization)                                                \n",
      "                                                                 \n",
      " max_pooling2d_13 (MaxPoolin  (None, 11, 186, 32)      0         \n",
      " g2D)                                                            \n",
      "                                                                 \n",
      " dropout_13 (Dropout)        (None, 11, 186, 32)       0         \n",
      "                                                                 \n",
      " flatten_6 (Flatten)         (None, 65472)             0         \n",
      "                                                                 \n",
      " dense_29 (Dense)            (None, 4)                 261892    \n",
      "                                                                 \n",
      "=================================================================\n",
      "Total params: 267,172\n",
      "Trainable params: 267,076\n",
      "Non-trainable params: 96\n",
      "_________________________________________________________________\n"
     ]
    }
   ],
   "source": [
    "model_cnn = Sequential(\n",
    "    [\n",
    "        tf.keras.Input(shape = input_shape_cnn), # 50, 15*50, 3\n",
    "        Conv2D(filters=16, kernel_size=(3, 3), activation=\"relu\"),\n",
    "        BatchNormalization(),\n",
    "        MaxPooling2D(pool_size=(2, 2)),\n",
    "        Dropout(0.2),\n",
    "        \n",
    "        Conv2D(filters=32, kernel_size=(3, 3), activation=\"relu\"),\n",
    "        BatchNormalization(),\n",
    "        MaxPooling2D(pool_size=(2, 2)),\n",
    "        Dropout(0.2),\n",
    "        \n",
    "        # Conv2D(filters=64, kernel_size=(3, 3), activation=\"relu\"),\n",
    "        # BatchNormalization(),\n",
    "        # MaxPooling2D(pool_size=(2, 2)),\n",
    "        # Dropout(0.2),\n",
    "        \n",
    "        Flatten(),\n",
    "        # Dense(units=128, activation=\"relu\"),\n",
    "        Dense(units=len(output_y), activation=\"softmax\"),\n",
    "    ]\n",
    ")\n",
    "\n",
    "model_cnn.summary()"
   ]
  },
  {
   "cell_type": "code",
   "execution_count": 142,
   "metadata": {},
   "outputs": [],
   "source": [
    "checkpoint_name = 'checkpoints/Weights-{epoch:03d}--{val_loss:.5f}.hdf5' \n",
    "checkpoint = ModelCheckpoint(checkpoint_name, monitor='val_loss', verbose = 1, save_best_only = True, mode ='auto')\n",
    "callbacks_list = [checkpoint]"
   ]
  },
  {
   "cell_type": "code",
   "execution_count": 143,
   "metadata": {},
   "outputs": [
    {
     "name": "stdout",
     "output_type": "stream",
     "text": [
      "Epoch 1/8\n",
      "2/2 [==============================] - ETA: 0s - loss: 3.7184 - accuracy: 0.3095\n",
      "Epoch 1: val_loss improved from inf to 362.18332, saving model to checkpoints\\Weights-001--362.18332.hdf5\n",
      "2/2 [==============================] - 1s 248ms/step - loss: 3.7184 - accuracy: 0.3095 - val_loss: 362.1833 - val_accuracy: 0.0000e+00\n",
      "Epoch 2/8\n",
      "2/2 [==============================] - ETA: 0s - loss: 9.2877 - accuracy: 0.5238\n",
      "Epoch 2: val_loss did not improve from 362.18332\n",
      "2/2 [==============================] - 0s 125ms/step - loss: 9.2877 - accuracy: 0.5238 - val_loss: 372.9922 - val_accuracy: 0.0000e+00\n",
      "Epoch 3/8\n",
      "2/2 [==============================] - ETA: 0s - loss: 0.4647 - accuracy: 0.8810\n",
      "Epoch 3: val_loss did not improve from 362.18332\n",
      "2/2 [==============================] - 0s 131ms/step - loss: 0.4647 - accuracy: 0.8810 - val_loss: 403.5988 - val_accuracy: 0.0000e+00\n",
      "Epoch 4/8\n",
      "2/2 [==============================] - ETA: 0s - loss: 2.3565 - accuracy: 0.7381\n",
      "Epoch 4: val_loss did not improve from 362.18332\n",
      "2/2 [==============================] - 0s 121ms/step - loss: 2.3565 - accuracy: 0.7381 - val_loss: 396.0271 - val_accuracy: 0.0000e+00\n",
      "Epoch 5/8\n",
      "2/2 [==============================] - ETA: 0s - loss: 0.7684 - accuracy: 0.8333\n",
      "Epoch 5: val_loss did not improve from 362.18332\n",
      "2/2 [==============================] - 0s 121ms/step - loss: 0.7684 - accuracy: 0.8333 - val_loss: 374.9751 - val_accuracy: 0.0000e+00\n",
      "Epoch 6/8\n",
      "2/2 [==============================] - ETA: 0s - loss: 0.1240 - accuracy: 0.9762    \n",
      "Epoch 6: val_loss did not improve from 362.18332\n",
      "2/2 [==============================] - 0s 116ms/step - loss: 0.1240 - accuracy: 0.9762 - val_loss: 365.2366 - val_accuracy: 0.0000e+00\n",
      "Epoch 7/8\n",
      "2/2 [==============================] - ETA: 0s - loss: 0.0093 - accuracy: 1.0000\n",
      "Epoch 7: val_loss improved from 362.18332 to 356.39417, saving model to checkpoints\\Weights-007--356.39417.hdf5\n",
      "2/2 [==============================] - 0s 130ms/step - loss: 0.0093 - accuracy: 1.0000 - val_loss: 356.3942 - val_accuracy: 0.0000e+00\n",
      "Epoch 8/8\n",
      "2/2 [==============================] - ETA: 0s - loss: 0.0767 - accuracy: 0.9762    \n",
      "Epoch 8: val_loss improved from 356.39417 to 346.82529, saving model to checkpoints\\Weights-008--346.82529.hdf5\n",
      "2/2 [==============================] - 0s 132ms/step - loss: 0.0767 - accuracy: 0.9762 - val_loss: 346.8253 - val_accuracy: 0.0000e+00\n"
     ]
    }
   ],
   "source": [
    "model_cnn.compile(\n",
    "    loss = tf.keras.losses.SparseCategoricalCrossentropy(),\n",
    "    optimizer=Adam(learning_rate=0.001), # 'Adam',\n",
    "    metrics=['accuracy']\n",
    ")\n",
    "\n",
    "history_cnn = model_cnn.fit(\n",
    "    X_train_cnn, y_train_cnn,\n",
    "    epochs = 8,\n",
    "    batch_size = 32, # données transmises pour une session\n",
    "    validation_split=0.2,\n",
    "    callbacks=callbacks_list\n",
    ")"
   ]
  },
  {
   "cell_type": "code",
   "execution_count": 144,
   "metadata": {},
   "outputs": [
    {
     "name": "stdout",
     "output_type": "stream",
     "text": [
      "1/1 [==============================] - 0s 60ms/step - loss: 46.2811 - accuracy: 0.3571\n"
     ]
    },
    {
     "data": {
      "text/plain": [
       "[46.281131744384766, 0.3571428656578064]"
      ]
     },
     "execution_count": 144,
     "metadata": {},
     "output_type": "execute_result"
    }
   ],
   "source": [
    "model_cnn.evaluate(X_test_cnn, y_test_cnn)"
   ]
  },
  {
   "cell_type": "code",
   "execution_count": 120,
   "metadata": {},
   "outputs": [
    {
     "name": "stdout",
     "output_type": "stream",
     "text": [
      "1/1 [==============================] - 0s 111ms/step\n"
     ]
    },
    {
     "data": {
      "text/plain": [
       "array([[1.6808382e-05, 9.9998319e-01, 1.4623816e-11, 0.0000000e+00],\n",
       "       [4.3282096e-20, 4.9459021e-13, 1.0000000e+00, 0.0000000e+00],\n",
       "       [7.4852690e-02, 9.2514735e-01, 1.0751601e-16, 0.0000000e+00],\n",
       "       [7.3618253e-07, 9.9999928e-01, 3.0678612e-11, 2.4728244e-29],\n",
       "       [9.9999917e-01, 7.7741157e-07, 3.0447034e-28, 4.5529375e-38],\n",
       "       [1.0000000e+00, 2.2580164e-09, 5.6281295e-12, 0.0000000e+00],\n",
       "       [1.0000000e+00, 2.1196392e-18, 3.1410056e-22, 0.0000000e+00],\n",
       "       [9.9809319e-01, 1.9067571e-03, 3.6028285e-20, 4.8427297e-31],\n",
       "       [1.6480216e-03, 9.9835205e-01, 4.5297893e-16, 1.0144309e-28],\n",
       "       [5.4310608e-01, 4.5689389e-01, 1.7405993e-12, 1.2257344e-24],\n",
       "       [5.4348352e-06, 9.9999452e-01, 1.1249352e-08, 3.2613151e-16],\n",
       "       [8.9860947e-08, 8.4770671e-20, 9.9999988e-01, 4.1639471e-31],\n",
       "       [4.3335021e-03, 5.2602943e-02, 9.4306356e-01, 5.0179386e-18],\n",
       "       [8.2089363e-10, 6.4054498e-11, 1.0000000e+00, 0.0000000e+00]],\n",
       "      dtype=float32)"
      ]
     },
     "execution_count": 120,
     "metadata": {},
     "output_type": "execute_result"
    }
   ],
   "source": [
    "pred_cnn = model_cnn.predict(X_test_cnn)\n",
    "pred_cnn"
   ]
  },
  {
   "cell_type": "code",
   "execution_count": 121,
   "metadata": {},
   "outputs": [
    {
     "name": "stdout",
     "output_type": "stream",
     "text": [
      "Predicted labels:  [1 2 1 1 0 0 0 0 1 0 1 2 2 2]\n",
      "True labels:       [0 0 0 1 1 1 1 1 1 2 2 2 3 3]\n"
     ]
    }
   ],
   "source": [
    "y_pred_cnn = np.argmax(pred_cnn, axis=1)\n",
    "print(\"Predicted labels: \", y_pred_cnn)\n",
    "print(\"True labels:      \", y_test_cnn)"
   ]
  },
  {
   "attachments": {},
   "cell_type": "markdown",
   "metadata": {},
   "source": [
    "**Accuracy: $9 / 14$ ($64.28 \\%$)**"
   ]
  }
 ],
 "metadata": {
  "kernelspec": {
   "display_name": "base",
   "language": "python",
   "name": "python3"
  },
  "language_info": {
   "codemirror_mode": {
    "name": "ipython",
    "version": 3
   },
   "file_extension": ".py",
   "mimetype": "text/x-python",
   "name": "python",
   "nbconvert_exporter": "python",
   "pygments_lexer": "ipython3",
   "version": "3.9.13"
  },
  "orig_nbformat": 4
 },
 "nbformat": 4,
 "nbformat_minor": 2
}
