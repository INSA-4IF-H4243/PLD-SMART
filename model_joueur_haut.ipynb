{
 "cells": [
  {
   "attachments": {},
   "cell_type": "markdown",
   "metadata": {},
   "source": [
    "Modèle sans convolution (réseau de neurones classique) sur le dataset du Joueur haut - Henri, Minh, Maxime\n",
    "- Coup droit\n",
    "- Déplacement\n",
    "- Revers\n",
    "- Service"
   ]
  },
  {
   "cell_type": "code",
   "execution_count": 53,
   "metadata": {},
   "outputs": [],
   "source": [
    "import numpy as np\n",
    "import cv2\n",
    "import os\n",
    "from smart.video import Video, Image\n",
    "from keras.models import Sequential\n",
    "from keras.layers import Conv2D, MaxPooling2D, Flatten, Dense, BatchNormalization, Dropout\n",
    "from keras.callbacks import ModelCheckpoint\n",
    "from keras.optimizers import Adam\n",
    "import tensorflow as tf\n",
    "import random\n",
    "from sklearn.preprocessing import LabelEncoder"
   ]
  },
  {
   "cell_type": "code",
   "execution_count": 2,
   "metadata": {},
   "outputs": [],
   "source": [
    "# Configuration\n",
    "path_dataset = 'img/JHaut'"
   ]
  },
  {
   "attachments": {},
   "cell_type": "markdown",
   "metadata": {},
   "source": [
    "# Coup droit, revers, déplacement"
   ]
  },
  {
   "attachments": {},
   "cell_type": "markdown",
   "metadata": {},
   "source": [
    "## Prises des frames et des vidéos"
   ]
  },
  {
   "cell_type": "code",
   "execution_count": 3,
   "metadata": {},
   "outputs": [],
   "source": [
    "list_videos = []"
   ]
  },
  {
   "cell_type": "code",
   "execution_count": 4,
   "metadata": {},
   "outputs": [],
   "source": [
    "y = []\n",
    "all_paths = []\n",
    "for dirpath, dirnames, _ in os.walk(path_dataset):\n",
    "    for dir_type in dirnames:\n",
    "        \n",
    "        path_fol = os.path.join(dirpath, dir_type)\n",
    "        for file in os.listdir(path_fol):\n",
    "            path_fol_img = os.path.join(path_fol, file)\n",
    "            if os.path.isdir(path_fol_img) and file == 'images':\n",
    "                frames = []\n",
    "                for file_img in os.listdir(path_fol_img):\n",
    "                    path_img = os.path.join(path_fol_img, file_img)\n",
    "                    img_obj = Image.load_image(cv2.IMREAD_GRAYSCALE, path_img)\n",
    "                    img = img_obj.img\n",
    "                    frames.append(img)\t\n",
    "                if (len(frames) == 15):\n",
    "                    output_res = path_img.split('\\\\')[1]\n",
    "                    all_paths.append(path_fol_img)\n",
    "                    vid = Video.read_video_from_frames(frames)\n",
    "                    list_videos.append(vid)\n",
    "                    y.append(output_res)"
   ]
  },
  {
   "cell_type": "code",
   "execution_count": 5,
   "metadata": {},
   "outputs": [
    {
     "data": {
      "text/plain": [
       "[<smart.video.Video.Video at 0x23627e5adf0>,\n",
       " <smart.video.Video.Video at 0x23627e5aee0>,\n",
       " <smart.video.Video.Video at 0x23627e5af70>,\n",
       " <smart.video.Video.Video at 0x23627e5ad90>,\n",
       " <smart.video.Video.Video at 0x2364ce4e3a0>,\n",
       " <smart.video.Video.Video at 0x23627e5af40>,\n",
       " <smart.video.Video.Video at 0x23627e5dc10>,\n",
       " <smart.video.Video.Video at 0x23627e5db20>,\n",
       " <smart.video.Video.Video at 0x23627e5dc40>,\n",
       " <smart.video.Video.Video at 0x23627e5dcd0>,\n",
       " <smart.video.Video.Video at 0x23627e5dd30>,\n",
       " <smart.video.Video.Video at 0x23627e5dd90>,\n",
       " <smart.video.Video.Video at 0x23627e5ddf0>,\n",
       " <smart.video.Video.Video at 0x23627e5de50>,\n",
       " <smart.video.Video.Video at 0x23627e5deb0>,\n",
       " <smart.video.Video.Video at 0x23627e5df10>,\n",
       " <smart.video.Video.Video at 0x23627e5d520>,\n",
       " <smart.video.Video.Video at 0x23627e5d760>,\n",
       " <smart.video.Video.Video at 0x23627e5dc70>,\n",
       " <smart.video.Video.Video at 0x23627e5ad60>,\n",
       " <smart.video.Video.Video at 0x23627e4cf10>,\n",
       " <smart.video.Video.Video at 0x23627e4cfd0>,\n",
       " <smart.video.Video.Video at 0x23627e4ce50>,\n",
       " <smart.video.Video.Video at 0x23627e4cdf0>,\n",
       " <smart.video.Video.Video at 0x23627e4ccd0>,\n",
       " <smart.video.Video.Video at 0x23627e4cca0>,\n",
       " <smart.video.Video.Video at 0x23627e4cf70>,\n",
       " <smart.video.Video.Video at 0x23627e4cbe0>,\n",
       " <smart.video.Video.Video at 0x23627e4cb80>,\n",
       " <smart.video.Video.Video at 0x23627e4cac0>,\n",
       " <smart.video.Video.Video at 0x23627e4cd60>,\n",
       " <smart.video.Video.Video at 0x23627e5dfa0>,\n",
       " <smart.video.Video.Video at 0x23627e4cdc0>,\n",
       " <smart.video.Video.Video at 0x23627e1be20>,\n",
       " <smart.video.Video.Video at 0x23627e4cf40>,\n",
       " <smart.video.Video.Video at 0x2362643ee80>,\n",
       " <smart.video.Video.Video at 0x2364d3c3f70>,\n",
       " <smart.video.Video.Video at 0x2364d3c3fd0>,\n",
       " <smart.video.Video.Video at 0x2364d3c3fa0>,\n",
       " <smart.video.Video.Video at 0x2362643ebb0>,\n",
       " <smart.video.Video.Video at 0x2364cefbbe0>,\n",
       " <smart.video.Video.Video at 0x2364cefb8e0>,\n",
       " <smart.video.Video.Video at 0x2364cefb3d0>,\n",
       " <smart.video.Video.Video at 0x2364cefb400>,\n",
       " <smart.video.Video.Video at 0x2364cefb1c0>,\n",
       " <smart.video.Video.Video at 0x23627e5adc0>,\n",
       " <smart.video.Video.Video at 0x2364cefba00>,\n",
       " <smart.video.Video.Video at 0x2364d3cf880>,\n",
       " <smart.video.Video.Video at 0x2364d3cf8b0>,\n",
       " <smart.video.Video.Video at 0x2364d3cfa00>,\n",
       " <smart.video.Video.Video at 0x2364d3cfa90>,\n",
       " <smart.video.Video.Video at 0x2364d3cf9d0>,\n",
       " <smart.video.Video.Video at 0x2364d3cf5e0>,\n",
       " <smart.video.Video.Video at 0x2364d3cf970>,\n",
       " <smart.video.Video.Video at 0x2364d3cfbe0>,\n",
       " <smart.video.Video.Video at 0x23627e5ae80>,\n",
       " <smart.video.Video.Video at 0x2364efac040>,\n",
       " <smart.video.Video.Video at 0x2364cefdd00>,\n",
       " <smart.video.Video.Video at 0x2364ce702e0>,\n",
       " <smart.video.Video.Video at 0x2364ceef0d0>,\n",
       " <smart.video.Video.Video at 0x2364d3cf4f0>,\n",
       " <smart.video.Video.Video at 0x23627e680d0>,\n",
       " <smart.video.Video.Video at 0x23627e68070>,\n",
       " <smart.video.Video.Video at 0x23627e68160>,\n",
       " <smart.video.Video.Video at 0x23627e681c0>,\n",
       " <smart.video.Video.Video at 0x23627e682b0>,\n",
       " <smart.video.Video.Video at 0x23627e68100>]"
      ]
     },
     "execution_count": 5,
     "metadata": {},
     "output_type": "execute_result"
    }
   ],
   "source": [
    "list_videos"
   ]
  },
  {
   "cell_type": "code",
   "execution_count": 6,
   "metadata": {},
   "outputs": [
    {
     "data": {
      "text/plain": [
       "['coup droit',\n",
       " 'coup droit',\n",
       " 'coup droit',\n",
       " 'coup droit',\n",
       " 'coup droit',\n",
       " 'coup droit',\n",
       " 'coup droit',\n",
       " 'coup droit',\n",
       " 'coup droit',\n",
       " 'coup droit',\n",
       " 'coup droit',\n",
       " 'coup droit',\n",
       " 'coup droit',\n",
       " 'coup droit',\n",
       " 'coup droit',\n",
       " 'coup droit',\n",
       " 'deplacement',\n",
       " 'deplacement',\n",
       " 'deplacement',\n",
       " 'deplacement',\n",
       " 'deplacement',\n",
       " 'deplacement',\n",
       " 'deplacement',\n",
       " 'deplacement',\n",
       " 'deplacement',\n",
       " 'deplacement',\n",
       " 'deplacement',\n",
       " 'deplacement',\n",
       " 'deplacement',\n",
       " 'deplacement',\n",
       " 'deplacement',\n",
       " 'deplacement',\n",
       " 'deplacement',\n",
       " 'deplacement',\n",
       " 'deplacement',\n",
       " 'deplacement',\n",
       " 'deplacement',\n",
       " 'deplacement',\n",
       " 'deplacement',\n",
       " 'deplacement',\n",
       " 'revers',\n",
       " 'revers',\n",
       " 'revers',\n",
       " 'revers',\n",
       " 'revers',\n",
       " 'revers',\n",
       " 'revers',\n",
       " 'revers',\n",
       " 'revers',\n",
       " 'revers',\n",
       " 'revers',\n",
       " 'revers',\n",
       " 'revers',\n",
       " 'revers',\n",
       " 'service',\n",
       " 'service',\n",
       " 'service',\n",
       " 'service',\n",
       " 'service',\n",
       " 'service',\n",
       " 'service',\n",
       " 'service',\n",
       " 'service',\n",
       " 'service',\n",
       " 'service',\n",
       " 'service',\n",
       " 'service']"
      ]
     },
     "execution_count": 6,
     "metadata": {},
     "output_type": "execute_result"
    }
   ],
   "source": [
    "# Output sans label encoder\n",
    "y"
   ]
  },
  {
   "cell_type": "code",
   "execution_count": 7,
   "metadata": {},
   "outputs": [],
   "source": [
    "# One-hot encoding\n",
    "encoder = LabelEncoder()"
   ]
  },
  {
   "attachments": {},
   "cell_type": "markdown",
   "metadata": {},
   "source": [
    "Transformer output y en one hot vector\n",
    "- 0: coup droit\n",
    "- 1: déplacement\n",
    "- 2: revers\n",
    "- 3: service"
   ]
  },
  {
   "cell_type": "code",
   "execution_count": 8,
   "metadata": {},
   "outputs": [
    {
     "data": {
      "text/plain": [
       "array([0, 0, 0, 0, 0, 0, 0, 0, 0, 0, 0, 0, 0, 0, 0, 0, 1, 1, 1, 1, 1, 1,\n",
       "       1, 1, 1, 1, 1, 1, 1, 1, 1, 1, 1, 1, 1, 1, 1, 1, 1, 1, 2, 2, 2, 2,\n",
       "       2, 2, 2, 2, 2, 2, 2, 2, 2, 2, 3, 3, 3, 3, 3, 3, 3, 3, 3, 3, 3, 3,\n",
       "       3], dtype=int64)"
      ]
     },
     "execution_count": 8,
     "metadata": {},
     "output_type": "execute_result"
    }
   ],
   "source": [
    "y = encoder.fit_transform(y)\n",
    "y"
   ]
  },
  {
   "cell_type": "code",
   "execution_count": 9,
   "metadata": {},
   "outputs": [
    {
     "data": {
      "text/plain": [
       "array([0, 1, 2, 3], dtype=int64)"
      ]
     },
     "execution_count": 9,
     "metadata": {},
     "output_type": "execute_result"
    }
   ],
   "source": [
    "output_y = np.unique(y)\n",
    "output_y"
   ]
  },
  {
   "cell_type": "code",
   "execution_count": 10,
   "metadata": {},
   "outputs": [
    {
     "data": {
      "text/plain": [
       "37500"
      ]
     },
     "execution_count": 10,
     "metadata": {},
     "output_type": "execute_result"
    }
   ],
   "source": [
    "# Résolution des images\n",
    "input_shape_model = list_videos[0].frames.shape[0] * list_videos[0].frames.shape[1] * list_videos[0].frames.shape[2]\n",
    "input_shape_model"
   ]
  },
  {
   "cell_type": "code",
   "execution_count": 11,
   "metadata": {},
   "outputs": [
    {
     "data": {
      "text/plain": [
       "67"
      ]
     },
     "execution_count": 11,
     "metadata": {},
     "output_type": "execute_result"
    }
   ],
   "source": [
    "len(list_videos)"
   ]
  },
  {
   "cell_type": "code",
   "execution_count": 12,
   "metadata": {},
   "outputs": [],
   "source": [
    "train_size = int(len(list_videos) * 0.8)\n",
    "test_size = len(list_videos) - train_size"
   ]
  },
  {
   "cell_type": "code",
   "execution_count": 13,
   "metadata": {},
   "outputs": [
    {
     "data": {
      "text/plain": [
       "(53, 53, 14, 14)"
      ]
     },
     "execution_count": 13,
     "metadata": {},
     "output_type": "execute_result"
    }
   ],
   "source": [
    "## Split video train, test\n",
    "random.seed(42)\n",
    "vids_train = random.sample(list_videos, k = train_size)\n",
    "vids_test = [vid for vid in list_videos if vid not in vids_train]\n",
    "y_train = [y[i] for i in range(len(y)) if list_videos[i] in vids_train]\n",
    "y_test = [y[i] for i in range(len(y)) if list_videos[i] in vids_test]\n",
    "paths_test = [all_paths[i] for i in range(len(all_paths)) if list_videos[i] in vids_test]\n",
    "len(vids_train), len(y_train), len(vids_test), len(y_test)"
   ]
  },
  {
   "cell_type": "code",
   "execution_count": 14,
   "metadata": {},
   "outputs": [
    {
     "data": {
      "text/plain": [
       "['img/JHaut\\\\coup droit\\\\AS_18386\\\\images',\n",
       " 'img/JHaut\\\\coup droit\\\\AS_29198\\\\images',\n",
       " 'img/JHaut\\\\coup droit\\\\car5493-5847138\\\\images',\n",
       " 'img/JHaut\\\\deplacement\\\\17694-1786278\\\\images',\n",
       " 'img/JHaut\\\\deplacement\\\\1980-2563441\\\\images',\n",
       " 'img/JHaut\\\\deplacement\\\\28040-28230129\\\\images',\n",
       " 'img/JHaut\\\\deplacement\\\\44260-4450099\\\\images',\n",
       " 'img/JHaut\\\\deplacement\\\\6481-660086\\\\images',\n",
       " 'img/JHaut\\\\deplacement\\\\AS_15180\\\\images',\n",
       " 'img/JHaut\\\\revers\\\\AS_34270\\\\images',\n",
       " 'img/JHaut\\\\revers\\\\car5936-6390142\\\\images',\n",
       " 'img/JHaut\\\\revers\\\\car5936-6390257\\\\images',\n",
       " 'img/JHaut\\\\service\\\\AS_19185\\\\images',\n",
       " 'img/JHaut\\\\service\\\\AS_35549\\\\images']"
      ]
     },
     "execution_count": 14,
     "metadata": {},
     "output_type": "execute_result"
    }
   ],
   "source": [
    "paths_test"
   ]
  },
  {
   "cell_type": "code",
   "execution_count": 15,
   "metadata": {},
   "outputs": [
    {
     "data": {
      "text/plain": [
       "array([0, 0, 0, 0, 0, 0, 0, 0, 0, 0, 0, 0, 0, 1, 1, 1, 1, 1, 1, 1, 1, 1,\n",
       "       1, 1, 1, 1, 1, 1, 1, 1, 1, 2, 2, 2, 2, 2, 2, 2, 2, 2, 2, 2, 3, 3,\n",
       "       3, 3, 3, 3, 3, 3, 3, 3, 3])"
      ]
     },
     "execution_count": 15,
     "metadata": {},
     "output_type": "execute_result"
    }
   ],
   "source": [
    "y_train = np.array(y_train, dtype=int)\n",
    "y_test = np.array(y_test, dtype=int)\n",
    "y_train"
   ]
  },
  {
   "cell_type": "code",
   "execution_count": 16,
   "metadata": {},
   "outputs": [
    {
     "data": {
      "text/plain": [
       "array([[0, 0, 0, ..., 0, 0, 0],\n",
       "       [0, 0, 0, ..., 0, 0, 0],\n",
       "       [0, 0, 0, ..., 0, 0, 0],\n",
       "       ...,\n",
       "       [0, 0, 0, ..., 0, 0, 0],\n",
       "       [0, 0, 0, ..., 0, 0, 0],\n",
       "       [0, 0, 0, ..., 0, 0, 0]])"
      ]
     },
     "execution_count": 16,
     "metadata": {},
     "output_type": "execute_result"
    }
   ],
   "source": [
    "# Split input X en train, test set\n",
    "X_train = np.zeros((train_size, 50*50*15), dtype=int)\n",
    "for i, vid in enumerate(vids_train):\n",
    "    seq_img = vid.frames.flatten()\n",
    "    X_train[i] = seq_img\n",
    "X_train"
   ]
  },
  {
   "cell_type": "code",
   "execution_count": 17,
   "metadata": {},
   "outputs": [
    {
     "data": {
      "text/plain": [
       "array([[0, 0, 0, ..., 0, 0, 0],\n",
       "       [0, 0, 0, ..., 0, 0, 0],\n",
       "       [0, 0, 0, ..., 0, 0, 0],\n",
       "       ...,\n",
       "       [0, 0, 0, ..., 0, 0, 0],\n",
       "       [0, 0, 0, ..., 0, 0, 0],\n",
       "       [0, 0, 0, ..., 0, 0, 0]])"
      ]
     },
     "execution_count": 17,
     "metadata": {},
     "output_type": "execute_result"
    }
   ],
   "source": [
    "X_test = np.zeros((test_size, 50*50*15), dtype=int)\n",
    "for i, vid in enumerate(vids_test):\n",
    "    seq_img = vid.frames.flatten()\n",
    "    X_test[i] = seq_img\n",
    "X_test"
   ]
  },
  {
   "cell_type": "code",
   "execution_count": 18,
   "metadata": {},
   "outputs": [],
   "source": [
    "# Normalisation\n",
    "X_train = X_train / 255.0\n",
    "X_test = X_test / 255.0"
   ]
  },
  {
   "attachments": {},
   "cell_type": "markdown",
   "metadata": {},
   "source": [
    "## Modèle de réseau de neurones avec classification multiclass"
   ]
  },
  {
   "cell_type": "code",
   "execution_count": 19,
   "metadata": {},
   "outputs": [
    {
     "name": "stdout",
     "output_type": "stream",
     "text": [
      "Model: \"sequential\"\n",
      "_________________________________________________________________\n",
      " Layer (type)                Output Shape              Param #   \n",
      "=================================================================\n",
      " dense (Dense)               (None, 16)                600016    \n",
      "                                                                 \n",
      " dense_1 (Dense)             (None, 32)                544       \n",
      "                                                                 \n",
      " dense_2 (Dense)             (None, 64)                2112      \n",
      "                                                                 \n",
      " dense_3 (Dense)             (None, 128)               8320      \n",
      "                                                                 \n",
      " dense_4 (Dense)             (None, 4)                 516       \n",
      "                                                                 \n",
      "=================================================================\n",
      "Total params: 611,508\n",
      "Trainable params: 611,508\n",
      "Non-trainable params: 0\n",
      "_________________________________________________________________\n"
     ]
    }
   ],
   "source": [
    "tf.random.set_seed(1234) # for consistent results\n",
    "model = Sequential(\n",
    "    [               \n",
    "        tf.keras.Input(shape = input_shape_model), # 50*50 * 15 = 37500\n",
    "        Dense(units=16, activation=\"relu\"),\n",
    "        Dense(units=32, activation=\"relu\"),\n",
    "        Dense(units=64, activation=\"sigmoid\"),\n",
    "        Dense(units=128, activation=\"relu\"),\n",
    "        Dense(units=len(output_y), activation=\"softmax\"),\n",
    "    ]\n",
    ")          \n",
    "model.summary()"
   ]
  },
  {
   "cell_type": "code",
   "execution_count": 20,
   "metadata": {},
   "outputs": [],
   "source": [
    "checkpoint_name = 'Weights-{epoch:03d}--{val_loss:.5f}.hdf5' \n",
    "checkpoint = ModelCheckpoint(checkpoint_name, monitor='val_loss', verbose = 1, save_best_only = True, mode ='auto')\n",
    "callbacks_list = [checkpoint]"
   ]
  },
  {
   "cell_type": "code",
   "execution_count": 21,
   "metadata": {},
   "outputs": [
    {
     "name": "stdout",
     "output_type": "stream",
     "text": [
      "Epoch 1/70\n",
      "1/2 [==============>...............] - ETA: 0s - loss: 1.6046 - accuracy: 0.0000e+00\n",
      "Epoch 1: val_loss improved from inf to 1.59683, saving model to Weights-001--1.59683.hdf5\n",
      "2/2 [==============================] - 1s 422ms/step - loss: 1.5694 - accuracy: 0.0714 - val_loss: 1.5968 - val_accuracy: 0.0000e+00\n",
      "Epoch 2/70\n",
      "1/2 [==============>...............] - ETA: 0s - loss: 1.3235 - accuracy: 0.2812\n",
      "Epoch 2: val_loss did not improve from 1.59683\n",
      "2/2 [==============================] - 0s 85ms/step - loss: 1.3050 - accuracy: 0.2857 - val_loss: 2.2099 - val_accuracy: 0.0000e+00\n",
      "Epoch 3/70\n",
      "1/2 [==============>...............] - ETA: 0s - loss: 1.1585 - accuracy: 0.3750\n",
      "Epoch 3: val_loss did not improve from 1.59683\n",
      "2/2 [==============================] - 0s 71ms/step - loss: 1.1321 - accuracy: 0.4524 - val_loss: 2.7788 - val_accuracy: 0.0000e+00\n",
      "Epoch 4/70\n",
      "1/2 [==============>...............] - ETA: 0s - loss: 1.0700 - accuracy: 0.4375\n",
      "Epoch 4: val_loss did not improve from 1.59683\n",
      "2/2 [==============================] - 0s 55ms/step - loss: 1.0659 - accuracy: 0.4286 - val_loss: 3.2540 - val_accuracy: 0.0000e+00\n",
      "Epoch 5/70\n",
      "1/2 [==============>...............] - ETA: 0s - loss: 1.0148 - accuracy: 0.4375\n",
      "Epoch 5: val_loss did not improve from 1.59683\n",
      "2/2 [==============================] - 0s 54ms/step - loss: 1.0253 - accuracy: 0.4286 - val_loss: 3.5903 - val_accuracy: 0.0000e+00\n",
      "Epoch 6/70\n",
      "1/2 [==============>...............] - ETA: 0s - loss: 0.9905 - accuracy: 0.4062\n",
      "Epoch 6: val_loss did not improve from 1.59683\n",
      "2/2 [==============================] - 0s 54ms/step - loss: 0.9569 - accuracy: 0.4524 - val_loss: 3.7939 - val_accuracy: 0.0000e+00\n",
      "Epoch 7/70\n",
      "1/2 [==============>...............] - ETA: 0s - loss: 0.9461 - accuracy: 0.4062\n",
      "Epoch 7: val_loss did not improve from 1.59683\n",
      "2/2 [==============================] - 0s 69ms/step - loss: 0.8809 - accuracy: 0.5000 - val_loss: 3.9334 - val_accuracy: 0.0000e+00\n",
      "Epoch 8/70\n",
      "1/2 [==============>...............] - ETA: 0s - loss: 0.8057 - accuracy: 0.6875\n",
      "Epoch 8: val_loss did not improve from 1.59683\n",
      "2/2 [==============================] - 0s 48ms/step - loss: 0.8016 - accuracy: 0.6667 - val_loss: 4.0862 - val_accuracy: 0.0000e+00\n",
      "Epoch 9/70\n",
      "1/2 [==============>...............] - ETA: 0s - loss: 0.7446 - accuracy: 0.7812\n",
      "Epoch 9: val_loss did not improve from 1.59683\n",
      "2/2 [==============================] - 0s 167ms/step - loss: 0.7261 - accuracy: 0.8095 - val_loss: 4.2738 - val_accuracy: 0.0000e+00\n",
      "Epoch 10/70\n",
      "1/2 [==============>...............] - ETA: 0s - loss: 0.6604 - accuracy: 0.9375\n",
      "Epoch 10: val_loss did not improve from 1.59683\n",
      "2/2 [==============================] - 0s 93ms/step - loss: 0.6470 - accuracy: 0.9048 - val_loss: 4.4456 - val_accuracy: 0.0000e+00\n",
      "Epoch 11/70\n",
      "1/2 [==============>...............] - ETA: 0s - loss: 0.5613 - accuracy: 1.0000\n",
      "Epoch 11: val_loss did not improve from 1.59683\n",
      "2/2 [==============================] - 0s 63ms/step - loss: 0.5640 - accuracy: 1.0000 - val_loss: 4.5440 - val_accuracy: 0.0000e+00\n",
      "Epoch 12/70\n",
      "1/2 [==============>...............] - ETA: 0s - loss: 0.4837 - accuracy: 1.0000\n",
      "Epoch 12: val_loss did not improve from 1.59683\n",
      "2/2 [==============================] - 0s 104ms/step - loss: 0.4811 - accuracy: 1.0000 - val_loss: 4.6048 - val_accuracy: 0.0000e+00\n",
      "Epoch 13/70\n",
      "1/2 [==============>...............] - ETA: 0s - loss: 0.4023 - accuracy: 1.0000\n",
      "Epoch 13: val_loss did not improve from 1.59683\n",
      "2/2 [==============================] - 0s 104ms/step - loss: 0.4012 - accuracy: 1.0000 - val_loss: 4.6656 - val_accuracy: 0.0000e+00\n",
      "Epoch 14/70\n",
      "1/2 [==============>...............] - ETA: 0s - loss: 0.3519 - accuracy: 1.0000\n",
      "Epoch 14: val_loss did not improve from 1.59683\n",
      "2/2 [==============================] - 0s 106ms/step - loss: 0.3306 - accuracy: 1.0000 - val_loss: 4.7427 - val_accuracy: 0.0000e+00\n",
      "Epoch 15/70\n",
      "1/2 [==============>...............] - ETA: 0s - loss: 0.2686 - accuracy: 1.0000\n",
      "Epoch 15: val_loss did not improve from 1.59683\n",
      "2/2 [==============================] - 0s 68ms/step - loss: 0.2639 - accuracy: 1.0000 - val_loss: 4.8873 - val_accuracy: 0.0000e+00\n",
      "Epoch 16/70\n",
      "1/2 [==============>...............] - ETA: 0s - loss: 0.2067 - accuracy: 1.0000\n",
      "Epoch 16: val_loss did not improve from 1.59683\n",
      "2/2 [==============================] - 0s 65ms/step - loss: 0.2062 - accuracy: 1.0000 - val_loss: 5.1028 - val_accuracy: 0.0000e+00\n",
      "Epoch 17/70\n",
      "1/2 [==============>...............] - ETA: 0s - loss: 0.1649 - accuracy: 1.0000\n",
      "Epoch 17: val_loss did not improve from 1.59683\n",
      "2/2 [==============================] - 0s 55ms/step - loss: 0.1634 - accuracy: 1.0000 - val_loss: 5.3056 - val_accuracy: 0.0000e+00\n",
      "Epoch 18/70\n",
      "1/2 [==============>...............] - ETA: 0s - loss: 0.1253 - accuracy: 1.0000\n",
      "Epoch 18: val_loss did not improve from 1.59683\n",
      "2/2 [==============================] - 0s 55ms/step - loss: 0.1290 - accuracy: 1.0000 - val_loss: 5.4302 - val_accuracy: 0.0000e+00\n",
      "Epoch 19/70\n",
      "1/2 [==============>...............] - ETA: 0s - loss: 0.1073 - accuracy: 1.0000\n",
      "Epoch 19: val_loss did not improve from 1.59683\n",
      "2/2 [==============================] - 0s 107ms/step - loss: 0.1011 - accuracy: 1.0000 - val_loss: 5.4825 - val_accuracy: 0.0000e+00\n",
      "Epoch 20/70\n",
      "1/2 [==============>...............] - ETA: 0s - loss: 0.0791 - accuracy: 1.0000\n",
      "Epoch 20: val_loss did not improve from 1.59683\n",
      "2/2 [==============================] - 0s 76ms/step - loss: 0.0783 - accuracy: 1.0000 - val_loss: 5.5212 - val_accuracy: 0.0000e+00\n",
      "Epoch 21/70\n",
      "1/2 [==============>...............] - ETA: 0s - loss: 0.0655 - accuracy: 1.0000\n",
      "Epoch 21: val_loss did not improve from 1.59683\n",
      "2/2 [==============================] - 0s 75ms/step - loss: 0.0622 - accuracy: 1.0000 - val_loss: 5.5732 - val_accuracy: 0.0000e+00\n",
      "Epoch 22/70\n",
      "1/2 [==============>...............] - ETA: 0s - loss: 0.0481 - accuracy: 1.0000\n",
      "Epoch 22: val_loss did not improve from 1.59683\n",
      "2/2 [==============================] - 0s 75ms/step - loss: 0.0499 - accuracy: 1.0000 - val_loss: 5.6374 - val_accuracy: 0.0000e+00\n",
      "Epoch 23/70\n",
      "1/2 [==============>...............] - ETA: 0s - loss: 0.0411 - accuracy: 1.0000\n",
      "Epoch 23: val_loss did not improve from 1.59683\n",
      "2/2 [==============================] - 0s 81ms/step - loss: 0.0409 - accuracy: 1.0000 - val_loss: 5.7025 - val_accuracy: 0.0000e+00\n",
      "Epoch 24/70\n",
      "1/2 [==============>...............] - ETA: 0s - loss: 0.0326 - accuracy: 1.0000\n",
      "Epoch 24: val_loss did not improve from 1.59683\n",
      "2/2 [==============================] - 0s 105ms/step - loss: 0.0342 - accuracy: 1.0000 - val_loss: 5.7696 - val_accuracy: 0.0000e+00\n",
      "Epoch 25/70\n",
      "1/2 [==============>...............] - ETA: 0s - loss: 0.0296 - accuracy: 1.0000\n",
      "Epoch 25: val_loss did not improve from 1.59683\n",
      "2/2 [==============================] - 0s 104ms/step - loss: 0.0289 - accuracy: 1.0000 - val_loss: 5.8348 - val_accuracy: 0.0000e+00\n",
      "Epoch 26/70\n",
      "1/2 [==============>...............] - ETA: 0s - loss: 0.0247 - accuracy: 1.0000\n",
      "Epoch 26: val_loss did not improve from 1.59683\n",
      "2/2 [==============================] - 0s 102ms/step - loss: 0.0246 - accuracy: 1.0000 - val_loss: 5.8999 - val_accuracy: 0.0000e+00\n",
      "Epoch 27/70\n",
      "1/2 [==============>...............] - ETA: 0s - loss: 0.0227 - accuracy: 1.0000\n",
      "Epoch 27: val_loss did not improve from 1.59683\n",
      "2/2 [==============================] - 0s 68ms/step - loss: 0.0212 - accuracy: 1.0000 - val_loss: 5.9643 - val_accuracy: 0.0000e+00\n",
      "Epoch 28/70\n",
      "1/2 [==============>...............] - ETA: 0s - loss: 0.0175 - accuracy: 1.0000\n",
      "Epoch 28: val_loss did not improve from 1.59683\n",
      "2/2 [==============================] - 0s 81ms/step - loss: 0.0183 - accuracy: 1.0000 - val_loss: 6.0261 - val_accuracy: 0.0000e+00\n",
      "Epoch 29/70\n",
      "1/2 [==============>...............] - ETA: 0s - loss: 0.0163 - accuracy: 1.0000\n",
      "Epoch 29: val_loss did not improve from 1.59683\n",
      "2/2 [==============================] - 0s 48ms/step - loss: 0.0160 - accuracy: 1.0000 - val_loss: 6.0845 - val_accuracy: 0.0000e+00\n",
      "Epoch 30/70\n",
      "1/2 [==============>...............] - ETA: 0s - loss: 0.0137 - accuracy: 1.0000\n",
      "Epoch 30: val_loss did not improve from 1.59683\n",
      "2/2 [==============================] - 0s 65ms/step - loss: 0.0140 - accuracy: 1.0000 - val_loss: 6.1423 - val_accuracy: 0.0000e+00\n",
      "Epoch 31/70\n",
      "1/2 [==============>...............] - ETA: 0s - loss: 0.0117 - accuracy: 1.0000\n",
      "Epoch 31: val_loss did not improve from 1.59683\n",
      "2/2 [==============================] - 0s 81ms/step - loss: 0.0123 - accuracy: 1.0000 - val_loss: 6.2012 - val_accuracy: 0.0000e+00\n",
      "Epoch 32/70\n",
      "1/2 [==============>...............] - ETA: 0s - loss: 0.0113 - accuracy: 1.0000\n",
      "Epoch 32: val_loss did not improve from 1.59683\n",
      "2/2 [==============================] - 0s 97ms/step - loss: 0.0110 - accuracy: 1.0000 - val_loss: 6.2595 - val_accuracy: 0.0000e+00\n",
      "Epoch 33/70\n",
      "1/2 [==============>...............] - ETA: 0s - loss: 0.0097 - accuracy: 1.0000\n",
      "Epoch 33: val_loss did not improve from 1.59683\n",
      "2/2 [==============================] - 0s 93ms/step - loss: 0.0098 - accuracy: 1.0000 - val_loss: 6.3207 - val_accuracy: 0.0000e+00\n",
      "Epoch 34/70\n",
      "1/2 [==============>...............] - ETA: 0s - loss: 0.0086 - accuracy: 1.0000\n",
      "Epoch 34: val_loss did not improve from 1.59683\n",
      "2/2 [==============================] - 0s 69ms/step - loss: 0.0088 - accuracy: 1.0000 - val_loss: 6.3818 - val_accuracy: 0.0000e+00\n",
      "Epoch 35/70\n",
      "1/2 [==============>...............] - ETA: 0s - loss: 0.0079 - accuracy: 1.0000\n",
      "Epoch 35: val_loss did not improve from 1.59683\n",
      "2/2 [==============================] - 0s 99ms/step - loss: 0.0080 - accuracy: 1.0000 - val_loss: 6.4389 - val_accuracy: 0.0000e+00\n",
      "Epoch 36/70\n",
      "1/2 [==============>...............] - ETA: 0s - loss: 0.0073 - accuracy: 1.0000\n",
      "Epoch 36: val_loss did not improve from 1.59683\n",
      "2/2 [==============================] - 0s 88ms/step - loss: 0.0073 - accuracy: 1.0000 - val_loss: 6.4896 - val_accuracy: 0.0000e+00\n",
      "Epoch 37/70\n",
      "1/2 [==============>...............] - ETA: 0s - loss: 0.0067 - accuracy: 1.0000\n",
      "Epoch 37: val_loss did not improve from 1.59683\n",
      "2/2 [==============================] - 0s 83ms/step - loss: 0.0067 - accuracy: 1.0000 - val_loss: 6.5350 - val_accuracy: 0.0000e+00\n",
      "Epoch 38/70\n",
      "1/2 [==============>...............] - ETA: 0s - loss: 0.0063 - accuracy: 1.0000\n",
      "Epoch 38: val_loss did not improve from 1.59683\n",
      "2/2 [==============================] - 0s 68ms/step - loss: 0.0062 - accuracy: 1.0000 - val_loss: 6.5758 - val_accuracy: 0.0000e+00\n",
      "Epoch 39/70\n",
      "1/2 [==============>...............] - ETA: 0s - loss: 0.0062 - accuracy: 1.0000\n",
      "Epoch 39: val_loss did not improve from 1.59683\n",
      "2/2 [==============================] - 0s 101ms/step - loss: 0.0058 - accuracy: 1.0000 - val_loss: 6.6139 - val_accuracy: 0.0000e+00\n",
      "Epoch 40/70\n",
      "1/2 [==============>...............] - ETA: 0s - loss: 0.0054 - accuracy: 1.0000\n",
      "Epoch 40: val_loss did not improve from 1.59683\n",
      "2/2 [==============================] - 0s 86ms/step - loss: 0.0054 - accuracy: 1.0000 - val_loss: 6.6489 - val_accuracy: 0.0000e+00\n",
      "Epoch 41/70\n",
      "1/2 [==============>...............] - ETA: 0s - loss: 0.0046 - accuracy: 1.0000\n",
      "Epoch 41: val_loss did not improve from 1.59683\n",
      "2/2 [==============================] - 0s 88ms/step - loss: 0.0050 - accuracy: 1.0000 - val_loss: 6.6826 - val_accuracy: 0.0000e+00\n",
      "Epoch 42/70\n",
      "1/2 [==============>...............] - ETA: 0s - loss: 0.0049 - accuracy: 1.0000\n",
      "Epoch 42: val_loss did not improve from 1.59683\n",
      "2/2 [==============================] - 0s 111ms/step - loss: 0.0047 - accuracy: 1.0000 - val_loss: 6.7165 - val_accuracy: 0.0000e+00\n",
      "Epoch 43/70\n",
      "1/2 [==============>...............] - ETA: 0s - loss: 0.0044 - accuracy: 1.0000\n",
      "Epoch 43: val_loss did not improve from 1.59683\n",
      "2/2 [==============================] - 0s 65ms/step - loss: 0.0044 - accuracy: 1.0000 - val_loss: 6.7502 - val_accuracy: 0.0000e+00\n",
      "Epoch 44/70\n",
      "1/2 [==============>...............] - ETA: 0s - loss: 0.0042 - accuracy: 1.0000\n",
      "Epoch 44: val_loss did not improve from 1.59683\n",
      "2/2 [==============================] - 0s 99ms/step - loss: 0.0042 - accuracy: 1.0000 - val_loss: 6.7836 - val_accuracy: 0.0000e+00\n",
      "Epoch 45/70\n",
      "1/2 [==============>...............] - ETA: 0s - loss: 0.0040 - accuracy: 1.0000\n",
      "Epoch 45: val_loss did not improve from 1.59683\n",
      "2/2 [==============================] - 0s 104ms/step - loss: 0.0040 - accuracy: 1.0000 - val_loss: 6.8166 - val_accuracy: 0.0000e+00\n",
      "Epoch 46/70\n",
      "1/2 [==============>...............] - ETA: 0s - loss: 0.0037 - accuracy: 1.0000\n",
      "Epoch 46: val_loss did not improve from 1.59683\n",
      "2/2 [==============================] - 0s 104ms/step - loss: 0.0038 - accuracy: 1.0000 - val_loss: 6.8486 - val_accuracy: 0.0000e+00\n",
      "Epoch 47/70\n",
      "1/2 [==============>...............] - ETA: 0s - loss: 0.0036 - accuracy: 1.0000\n",
      "Epoch 47: val_loss did not improve from 1.59683\n",
      "2/2 [==============================] - 0s 85ms/step - loss: 0.0036 - accuracy: 1.0000 - val_loss: 6.8792 - val_accuracy: 0.0000e+00\n",
      "Epoch 48/70\n",
      "1/2 [==============>...............] - ETA: 0s - loss: 0.0033 - accuracy: 1.0000\n",
      "Epoch 48: val_loss did not improve from 1.59683\n",
      "2/2 [==============================] - 0s 104ms/step - loss: 0.0034 - accuracy: 1.0000 - val_loss: 6.9092 - val_accuracy: 0.0000e+00\n",
      "Epoch 49/70\n",
      "1/2 [==============>...............] - ETA: 0s - loss: 0.0033 - accuracy: 1.0000\n",
      "Epoch 49: val_loss did not improve from 1.59683\n",
      "2/2 [==============================] - 0s 63ms/step - loss: 0.0033 - accuracy: 1.0000 - val_loss: 6.9383 - val_accuracy: 0.0000e+00\n",
      "Epoch 50/70\n",
      "1/2 [==============>...............] - ETA: 0s - loss: 0.0033 - accuracy: 1.0000\n",
      "Epoch 50: val_loss did not improve from 1.59683\n",
      "2/2 [==============================] - 0s 63ms/step - loss: 0.0031 - accuracy: 1.0000 - val_loss: 6.9659 - val_accuracy: 0.0000e+00\n",
      "Epoch 51/70\n",
      "1/2 [==============>...............] - ETA: 0s - loss: 0.0030 - accuracy: 1.0000\n",
      "Epoch 51: val_loss did not improve from 1.59683\n",
      "2/2 [==============================] - 0s 100ms/step - loss: 0.0030 - accuracy: 1.0000 - val_loss: 6.9915 - val_accuracy: 0.0000e+00\n",
      "Epoch 52/70\n",
      "1/2 [==============>...............] - ETA: 0s - loss: 0.0028 - accuracy: 1.0000\n",
      "Epoch 52: val_loss did not improve from 1.59683\n",
      "2/2 [==============================] - 0s 100ms/step - loss: 0.0029 - accuracy: 1.0000 - val_loss: 7.0159 - val_accuracy: 0.0000e+00\n",
      "Epoch 53/70\n",
      "1/2 [==============>...............] - ETA: 0s - loss: 0.0028 - accuracy: 1.0000\n",
      "Epoch 53: val_loss did not improve from 1.59683\n",
      "2/2 [==============================] - 0s 83ms/step - loss: 0.0028 - accuracy: 1.0000 - val_loss: 7.0394 - val_accuracy: 0.0000e+00\n",
      "Epoch 54/70\n",
      "1/2 [==============>...............] - ETA: 0s - loss: 0.0027 - accuracy: 1.0000\n",
      "Epoch 54: val_loss did not improve from 1.59683\n",
      "2/2 [==============================] - 0s 105ms/step - loss: 0.0026 - accuracy: 1.0000 - val_loss: 7.0620 - val_accuracy: 0.0000e+00\n",
      "Epoch 55/70\n",
      "1/2 [==============>...............] - ETA: 0s - loss: 0.0027 - accuracy: 1.0000\n",
      "Epoch 55: val_loss did not improve from 1.59683\n",
      "2/2 [==============================] - 0s 89ms/step - loss: 0.0025 - accuracy: 1.0000 - val_loss: 7.0833 - val_accuracy: 0.0000e+00\n",
      "Epoch 56/70\n",
      "1/2 [==============>...............] - ETA: 0s - loss: 0.0025 - accuracy: 1.0000\n",
      "Epoch 56: val_loss did not improve from 1.59683\n",
      "2/2 [==============================] - 0s 91ms/step - loss: 0.0025 - accuracy: 1.0000 - val_loss: 7.1034 - val_accuracy: 0.0000e+00\n",
      "Epoch 57/70\n",
      "1/2 [==============>...............] - ETA: 0s - loss: 0.0024 - accuracy: 1.0000\n",
      "Epoch 57: val_loss did not improve from 1.59683\n",
      "2/2 [==============================] - 0s 77ms/step - loss: 0.0024 - accuracy: 1.0000 - val_loss: 7.1229 - val_accuracy: 0.0000e+00\n",
      "Epoch 58/70\n",
      "1/2 [==============>...............] - ETA: 0s - loss: 0.0022 - accuracy: 1.0000\n",
      "Epoch 58: val_loss did not improve from 1.59683\n",
      "2/2 [==============================] - 0s 114ms/step - loss: 0.0023 - accuracy: 1.0000 - val_loss: 7.1422 - val_accuracy: 0.0000e+00\n",
      "Epoch 59/70\n",
      "1/2 [==============>...............] - ETA: 0s - loss: 0.0024 - accuracy: 1.0000\n",
      "Epoch 59: val_loss did not improve from 1.59683\n",
      "2/2 [==============================] - 0s 71ms/step - loss: 0.0022 - accuracy: 1.0000 - val_loss: 7.1612 - val_accuracy: 0.0000e+00\n",
      "Epoch 60/70\n",
      "1/2 [==============>...............] - ETA: 0s - loss: 0.0022 - accuracy: 1.0000\n",
      "Epoch 60: val_loss did not improve from 1.59683\n",
      "2/2 [==============================] - 0s 68ms/step - loss: 0.0021 - accuracy: 1.0000 - val_loss: 7.1797 - val_accuracy: 0.0000e+00\n",
      "Epoch 61/70\n",
      "1/2 [==============>...............] - ETA: 0s - loss: 0.0020 - accuracy: 1.0000\n",
      "Epoch 61: val_loss did not improve from 1.59683\n",
      "2/2 [==============================] - 0s 62ms/step - loss: 0.0021 - accuracy: 1.0000 - val_loss: 7.1982 - val_accuracy: 0.0000e+00\n",
      "Epoch 62/70\n",
      "1/2 [==============>...............] - ETA: 0s - loss: 0.0022 - accuracy: 1.0000\n",
      "Epoch 62: val_loss did not improve from 1.59683\n",
      "2/2 [==============================] - 0s 69ms/step - loss: 0.0020 - accuracy: 1.0000 - val_loss: 7.2164 - val_accuracy: 0.0000e+00\n",
      "Epoch 63/70\n",
      "1/2 [==============>...............] - ETA: 0s - loss: 0.0020 - accuracy: 1.0000\n",
      "Epoch 63: val_loss did not improve from 1.59683\n",
      "2/2 [==============================] - 0s 80ms/step - loss: 0.0019 - accuracy: 1.0000 - val_loss: 7.2339 - val_accuracy: 0.0000e+00\n",
      "Epoch 64/70\n",
      "1/2 [==============>...............] - ETA: 0s - loss: 0.0019 - accuracy: 1.0000\n",
      "Epoch 64: val_loss did not improve from 1.59683\n",
      "2/2 [==============================] - 0s 76ms/step - loss: 0.0019 - accuracy: 1.0000 - val_loss: 7.2511 - val_accuracy: 0.0000e+00\n",
      "Epoch 65/70\n",
      "1/2 [==============>...............] - ETA: 0s - loss: 0.0018 - accuracy: 1.0000\n",
      "Epoch 65: val_loss did not improve from 1.59683\n",
      "2/2 [==============================] - 0s 63ms/step - loss: 0.0018 - accuracy: 1.0000 - val_loss: 7.2683 - val_accuracy: 0.0000e+00\n",
      "Epoch 66/70\n",
      "1/2 [==============>...............] - ETA: 0s - loss: 0.0018 - accuracy: 1.0000\n",
      "Epoch 66: val_loss did not improve from 1.59683\n",
      "2/2 [==============================] - 0s 89ms/step - loss: 0.0018 - accuracy: 1.0000 - val_loss: 7.2854 - val_accuracy: 0.0000e+00\n",
      "Epoch 67/70\n",
      "1/2 [==============>...............] - ETA: 0s - loss: 0.0017 - accuracy: 1.0000\n",
      "Epoch 67: val_loss did not improve from 1.59683\n",
      "2/2 [==============================] - 0s 97ms/step - loss: 0.0017 - accuracy: 1.0000 - val_loss: 7.3022 - val_accuracy: 0.0000e+00\n",
      "Epoch 68/70\n",
      "1/2 [==============>...............] - ETA: 0s - loss: 0.0017 - accuracy: 1.0000\n",
      "Epoch 68: val_loss did not improve from 1.59683\n",
      "2/2 [==============================] - 0s 72ms/step - loss: 0.0017 - accuracy: 1.0000 - val_loss: 7.3188 - val_accuracy: 0.0000e+00\n",
      "Epoch 69/70\n",
      "1/2 [==============>...............] - ETA: 0s - loss: 0.0017 - accuracy: 1.0000\n",
      "Epoch 69: val_loss did not improve from 1.59683\n",
      "2/2 [==============================] - 0s 61ms/step - loss: 0.0016 - accuracy: 1.0000 - val_loss: 7.3351 - val_accuracy: 0.0000e+00\n",
      "Epoch 70/70\n",
      "1/2 [==============>...............] - ETA: 0s - loss: 0.0017 - accuracy: 1.0000\n",
      "Epoch 70: val_loss did not improve from 1.59683\n",
      "2/2 [==============================] - 0s 94ms/step - loss: 0.0016 - accuracy: 1.0000 - val_loss: 7.3510 - val_accuracy: 0.0000e+00\n"
     ]
    }
   ],
   "source": [
    "model.compile(\n",
    "    loss = tf.keras.losses.SparseCategoricalCrossentropy(),\n",
    "    optimizer = Adam(learning_rate=0.001), # 'Adam',\n",
    "    metrics=['accuracy']\n",
    ")\n",
    "\n",
    "history = model.fit(\n",
    "    X_train, y_train,\n",
    "    epochs = 70,\n",
    "    batch_size = 32, # données transmises pour une session\n",
    "    validation_split=0.2,\n",
    "    callbacks=callbacks_list\n",
    ")"
   ]
  },
  {
   "cell_type": "code",
   "execution_count": 22,
   "metadata": {},
   "outputs": [
    {
     "name": "stdout",
     "output_type": "stream",
     "text": [
      "1/1 [==============================] - 0s 26ms/step - loss: 2.2362 - accuracy: 0.6429\n"
     ]
    },
    {
     "data": {
      "text/plain": [
       "[2.23620867729187, 0.6428571343421936]"
      ]
     },
     "execution_count": 22,
     "metadata": {},
     "output_type": "execute_result"
    }
   ],
   "source": [
    "model.evaluate(X_test, y_test)"
   ]
  },
  {
   "cell_type": "code",
   "execution_count": 23,
   "metadata": {},
   "outputs": [
    {
     "name": "stdout",
     "output_type": "stream",
     "text": [
      "1/1 [==============================] - 0s 107ms/step\n"
     ]
    },
    {
     "data": {
      "text/plain": [
       "array([[9.8574126e-01, 1.2261490e-02, 1.7229455e-03, 2.7428952e-04],\n",
       "       [5.2467215e-01, 1.2538719e-02, 4.6138632e-01, 1.4028152e-03],\n",
       "       [7.6203406e-01, 2.0797512e-01, 2.8665708e-02, 1.3251211e-03],\n",
       "       [2.7888781e-01, 6.2948935e-02, 6.5671915e-01, 1.4441023e-03],\n",
       "       [2.8552525e-02, 9.6941400e-01, 1.8100357e-03, 2.2342656e-04],\n",
       "       [1.8907211e-03, 9.9731928e-01, 7.2984851e-04, 6.0192950e-05],\n",
       "       [1.3463103e-02, 9.8484784e-01, 1.5306365e-03, 1.5834186e-04],\n",
       "       [3.8654558e-02, 9.5439738e-01, 6.5933410e-03, 3.5473250e-04],\n",
       "       [7.8976661e-01, 2.3486086e-03, 2.0703013e-01, 8.5468299e-04],\n",
       "       [1.3633434e-01, 2.6912370e-01, 5.9277445e-01, 1.7674989e-03],\n",
       "       [1.9269371e-02, 9.7248411e-01, 7.8756493e-03, 3.7085830e-04],\n",
       "       [3.7321991e-01, 3.3543635e-02, 5.9172714e-01, 1.5093855e-03],\n",
       "       [9.3530631e-03, 9.7396201e-01, 1.6385380e-02, 2.9956110e-04],\n",
       "       [1.5364959e-02, 9.2454821e-01, 5.9508868e-02, 5.7800027e-04]],\n",
       "      dtype=float32)"
      ]
     },
     "execution_count": 23,
     "metadata": {},
     "output_type": "execute_result"
    }
   ],
   "source": [
    "pred = model.predict(X_test)\n",
    "pred"
   ]
  },
  {
   "cell_type": "code",
   "execution_count": 24,
   "metadata": {},
   "outputs": [
    {
     "name": "stdout",
     "output_type": "stream",
     "text": [
      "Predicted labels:  [0 0 0 2 1 1 1 1 0 2 1 2 1 1]\n",
      "True labels:       [0 0 0 1 1 1 1 1 1 2 2 2 3 3]\n"
     ]
    }
   ],
   "source": [
    "y_pred = np.argmax(pred, axis=1)\n",
    "print(\"Predicted labels: \", y_pred)\n",
    "print(\"True labels:      \", y_test)"
   ]
  },
  {
   "attachments": {},
   "cell_type": "markdown",
   "metadata": {},
   "source": [
    "**Accuracy: $9/14$ ($64.28 \\%$)**"
   ]
  },
  {
   "attachments": {},
   "cell_type": "markdown",
   "metadata": {},
   "source": [
    "# Réseaux de neurones convolutifs"
   ]
  },
  {
   "attachments": {},
   "cell_type": "markdown",
   "metadata": {},
   "source": [
    "## Prises des frames et des vidéos"
   ]
  },
  {
   "cell_type": "code",
   "execution_count": 54,
   "metadata": {},
   "outputs": [],
   "source": [
    "list_videos_cnn = []\n",
    "y_cnn = []\n",
    "for dirpath, dirnames, _ in os.walk(path_dataset):\n",
    "    for dir_type in dirnames:\n",
    "        \n",
    "        path_fol = os.path.join(dirpath, dir_type)\n",
    "        for file in os.listdir(path_fol):\n",
    "            path_fol_img = os.path.join(path_fol, file)\n",
    "            if os.path.isdir(path_fol_img) and file == 'images':\n",
    "                frames = []\n",
    "                for file_img in os.listdir(path_fol_img):\n",
    "                    path_img = os.path.join(path_fol_img, file_img)\n",
    "                    img_obj = Image.load_image(cv2.IMREAD_COLOR, path_img)\n",
    "                    img = img_obj.img\n",
    "                    frames.append(img)\t\n",
    "                if (len(frames) == 15):\n",
    "                    output_res = path_img.split('\\\\')[1]\n",
    "                    vid = Video.read_video_from_frames(frames)\n",
    "                    list_videos_cnn.append(vid)\n",
    "                    y_cnn.append(output_res)"
   ]
  },
  {
   "cell_type": "code",
   "execution_count": 55,
   "metadata": {},
   "outputs": [
    {
     "data": {
      "text/plain": [
       "(50, 50, 3)"
      ]
     },
     "execution_count": 55,
     "metadata": {},
     "output_type": "execute_result"
    }
   ],
   "source": [
    "list_videos_cnn[0].frames.shape[1:]"
   ]
  },
  {
   "cell_type": "code",
   "execution_count": 56,
   "metadata": {},
   "outputs": [],
   "source": [
    "# One-hot encoding\n",
    "encoder = LabelEncoder()"
   ]
  },
  {
   "attachments": {},
   "cell_type": "markdown",
   "metadata": {},
   "source": [
    "Transformer output y en one hot vector\n",
    "- 0: coup droit\n",
    "- 1: déplacement\n",
    "- 2: revers\n",
    "- 3: service"
   ]
  },
  {
   "cell_type": "code",
   "execution_count": 57,
   "metadata": {},
   "outputs": [
    {
     "data": {
      "text/plain": [
       "array([0, 0, 0, 0, 0, 0, 0, 0, 0, 0, 0, 0, 0, 0, 0, 0, 1, 1, 1, 1, 1, 1,\n",
       "       1, 1, 1, 1, 1, 1, 1, 1, 1, 1, 1, 1, 1, 1, 1, 1, 1, 1, 2, 2, 2, 2,\n",
       "       2, 2, 2, 2, 2, 2, 2, 2, 2, 2, 3, 3, 3, 3, 3, 3, 3, 3, 3, 3, 3, 3,\n",
       "       3], dtype=int64)"
      ]
     },
     "execution_count": 57,
     "metadata": {},
     "output_type": "execute_result"
    }
   ],
   "source": [
    "y_cnn = encoder.fit_transform(y_cnn)\n",
    "y_cnn"
   ]
  },
  {
   "cell_type": "code",
   "execution_count": 58,
   "metadata": {},
   "outputs": [
    {
     "data": {
      "text/plain": [
       "array([0, 1, 2, 3], dtype=int64)"
      ]
     },
     "execution_count": 58,
     "metadata": {},
     "output_type": "execute_result"
    }
   ],
   "source": [
    "output_y = np.unique(y_cnn)\n",
    "output_y"
   ]
  },
  {
   "cell_type": "code",
   "execution_count": 59,
   "metadata": {},
   "outputs": [
    {
     "data": {
      "text/plain": [
       "67"
      ]
     },
     "execution_count": 59,
     "metadata": {},
     "output_type": "execute_result"
    }
   ],
   "source": [
    "len(list_videos_cnn)"
   ]
  },
  {
   "cell_type": "code",
   "execution_count": 60,
   "metadata": {},
   "outputs": [],
   "source": [
    "train_size = int(len(list_videos_cnn) * 0.8)\n",
    "test_size = len(list_videos_cnn) - train_size"
   ]
  },
  {
   "cell_type": "code",
   "execution_count": 61,
   "metadata": {},
   "outputs": [
    {
     "data": {
      "text/plain": [
       "(53, 53, 14, 14)"
      ]
     },
     "execution_count": 61,
     "metadata": {},
     "output_type": "execute_result"
    }
   ],
   "source": [
    "## Split video train, test\n",
    "random.seed(42)\n",
    "vids_train_cnn = random.sample(list_videos_cnn, k = train_size)\n",
    "vids_test_cnn = [vid for vid in list_videos_cnn if vid not in vids_train_cnn]\n",
    "y_train_cnn = [y_cnn[i] for i in range(len(y_cnn)) if list_videos_cnn[i] in vids_train_cnn]\n",
    "y_test_cnn = [y_cnn[i] for i in range(len(y_cnn)) if list_videos_cnn[i] in vids_test_cnn]\n",
    "len(vids_train_cnn), len(y_train_cnn), len(vids_test_cnn), len(y_test_cnn)"
   ]
  },
  {
   "cell_type": "code",
   "execution_count": 62,
   "metadata": {},
   "outputs": [
    {
     "data": {
      "text/plain": [
       "array([0, 0, 0, 0, 0, 0, 0, 0, 0, 0, 0, 0, 0, 1, 1, 1, 1, 1, 1, 1, 1, 1,\n",
       "       1, 1, 1, 1, 1, 1, 1, 1, 1, 2, 2, 2, 2, 2, 2, 2, 2, 2, 2, 2, 3, 3,\n",
       "       3, 3, 3, 3, 3, 3, 3, 3, 3])"
      ]
     },
     "execution_count": 62,
     "metadata": {},
     "output_type": "execute_result"
    }
   ],
   "source": [
    "y_train_cnn = np.array(y_train_cnn, dtype=int)\n",
    "y_test_cnn = np.array(y_test_cnn, dtype=int)\n",
    "y_train_cnn"
   ]
  },
  {
   "cell_type": "code",
   "execution_count": 63,
   "metadata": {},
   "outputs": [
    {
     "data": {
      "text/plain": [
       "(53, 50, 750, 3)"
      ]
     },
     "execution_count": 63,
     "metadata": {},
     "output_type": "execute_result"
    }
   ],
   "source": [
    "# Split input X en train, test set\n",
    "X_train_cnn = np.zeros((train_size, 50, 15*50, 3), dtype=int)\n",
    "for i, vid in enumerate(vids_train_cnn):\n",
    "    for j, frame in enumerate(vid.frames):\n",
    "        X_train_cnn[i, :, 50*j:50*(j+1), :] = frame\n",
    "X_train_cnn.shape"
   ]
  },
  {
   "cell_type": "code",
   "execution_count": 64,
   "metadata": {},
   "outputs": [
    {
     "data": {
      "text/plain": [
       "(14, 50, 750, 3)"
      ]
     },
     "execution_count": 64,
     "metadata": {},
     "output_type": "execute_result"
    }
   ],
   "source": [
    "X_test_cnn = np.zeros((test_size, 50, 15*50, 3), dtype=int)\n",
    "for i, vid in enumerate(vids_test_cnn):\n",
    "    for j, frame in enumerate(vid.frames):\n",
    "        X_test_cnn[i, :, 50*j:50*(j+1), :] = frame\n",
    "X_test_cnn.shape"
   ]
  },
  {
   "cell_type": "code",
   "execution_count": 65,
   "metadata": {},
   "outputs": [
    {
     "data": {
      "text/plain": [
       "(50, 750, 3)"
      ]
     },
     "execution_count": 65,
     "metadata": {},
     "output_type": "execute_result"
    }
   ],
   "source": [
    "input_shape_cnn = X_train_cnn.shape[1:]\n",
    "input_shape_cnn"
   ]
  },
  {
   "attachments": {},
   "cell_type": "markdown",
   "metadata": {},
   "source": [
    "## Modèle de réseau de neurones convolutifs"
   ]
  },
  {
   "cell_type": "code",
   "execution_count": 74,
   "metadata": {},
   "outputs": [
    {
     "name": "stdout",
     "output_type": "stream",
     "text": [
      "Model: \"sequential_3\"\n",
      "_________________________________________________________________\n",
      " Layer (type)                Output Shape              Param #   \n",
      "=================================================================\n",
      " conv2d_6 (Conv2D)           (None, 48, 748, 16)       448       \n",
      "                                                                 \n",
      " batch_normalization_2 (Batc  (None, 48, 748, 16)      64        \n",
      " hNormalization)                                                 \n",
      "                                                                 \n",
      " max_pooling2d_6 (MaxPooling  (None, 24, 374, 16)      0         \n",
      " 2D)                                                             \n",
      "                                                                 \n",
      " dropout_2 (Dropout)         (None, 24, 374, 16)       0         \n",
      "                                                                 \n",
      " conv2d_7 (Conv2D)           (None, 22, 372, 32)       4640      \n",
      "                                                                 \n",
      " batch_normalization_3 (Batc  (None, 22, 372, 32)      128       \n",
      " hNormalization)                                                 \n",
      "                                                                 \n",
      " max_pooling2d_7 (MaxPooling  (None, 11, 186, 32)      0         \n",
      " 2D)                                                             \n",
      "                                                                 \n",
      " dropout_3 (Dropout)         (None, 11, 186, 32)       0         \n",
      "                                                                 \n",
      " conv2d_8 (Conv2D)           (None, 9, 184, 64)        18496     \n",
      "                                                                 \n",
      " batch_normalization_4 (Batc  (None, 9, 184, 64)       256       \n",
      " hNormalization)                                                 \n",
      "                                                                 \n",
      " max_pooling2d_8 (MaxPooling  (None, 4, 92, 64)        0         \n",
      " 2D)                                                             \n",
      "                                                                 \n",
      " dropout_4 (Dropout)         (None, 4, 92, 64)         0         \n",
      "                                                                 \n",
      " flatten_2 (Flatten)         (None, 23552)             0         \n",
      "                                                                 \n",
      " dense_9 (Dense)             (None, 128)               3014784   \n",
      "                                                                 \n",
      " dense_10 (Dense)            (None, 4)                 516       \n",
      "                                                                 \n",
      "=================================================================\n",
      "Total params: 3,039,332\n",
      "Trainable params: 3,039,108\n",
      "Non-trainable params: 224\n",
      "_________________________________________________________________\n"
     ]
    }
   ],
   "source": [
    "model_cnn = Sequential(\n",
    "    [\n",
    "        tf.keras.Input(shape = input_shape_cnn), # 50, 15*50, 3\n",
    "        Conv2D(filters=16, kernel_size=(3, 3), activation=\"relu\"),\n",
    "        BatchNormalization(),\n",
    "        MaxPooling2D(pool_size=(2, 2)),\n",
    "        Dropout(0.2),\n",
    "        \n",
    "        Conv2D(filters=32, kernel_size=(3, 3), activation=\"relu\"),\n",
    "        BatchNormalization(),\n",
    "        MaxPooling2D(pool_size=(2, 2)),\n",
    "        Dropout(0.2),\n",
    "        \n",
    "        Conv2D(filters=64, kernel_size=(3, 3), activation=\"relu\"),\n",
    "        BatchNormalization(),\n",
    "        MaxPooling2D(pool_size=(2, 2)),\n",
    "        Dropout(0.2),\n",
    "        \n",
    "        Flatten(),\n",
    "        Dense(units=128, activation=\"relu\"),\n",
    "        Dense(units=len(output_y), activation=\"softmax\"),\n",
    "    ]\n",
    ")\n",
    "\n",
    "model_cnn.summary()"
   ]
  },
  {
   "cell_type": "code",
   "execution_count": 75,
   "metadata": {},
   "outputs": [],
   "source": [
    "checkpoint_name = 'Weights-{epoch:03d}--{val_loss:.5f}.hdf5' \n",
    "checkpoint = ModelCheckpoint(checkpoint_name, monitor='val_loss', verbose = 1, save_best_only = True, mode ='auto')\n",
    "callbacks_list = [checkpoint]"
   ]
  },
  {
   "cell_type": "code",
   "execution_count": 76,
   "metadata": {},
   "outputs": [
    {
     "name": "stdout",
     "output_type": "stream",
     "text": [
      "Epoch 1/70\n",
      "2/2 [==============================] - ETA: 0s - loss: 31.8355 - accuracy: 0.2143\n",
      "Epoch 1: val_loss improved from inf to 750.79340, saving model to Weights-001--750.79340.hdf5\n",
      "2/2 [==============================] - 3s 688ms/step - loss: 31.8355 - accuracy: 0.2143 - val_loss: 750.7934 - val_accuracy: 0.0000e+00\n",
      "Epoch 2/70\n",
      "2/2 [==============================] - ETA: 0s - loss: 46.3705 - accuracy: 0.3095\n",
      "Epoch 2: val_loss improved from 750.79340 to 273.56985, saving model to Weights-002--273.56985.hdf5\n",
      "2/2 [==============================] - 1s 361ms/step - loss: 46.3705 - accuracy: 0.3095 - val_loss: 273.5699 - val_accuracy: 0.0000e+00\n",
      "Epoch 3/70\n",
      "2/2 [==============================] - ETA: 0s - loss: 9.9025 - accuracy: 0.4286\n",
      "Epoch 3: val_loss improved from 273.56985 to 178.38153, saving model to Weights-003--178.38153.hdf5\n",
      "2/2 [==============================] - 1s 364ms/step - loss: 9.9025 - accuracy: 0.4286 - val_loss: 178.3815 - val_accuracy: 0.0000e+00\n",
      "Epoch 4/70\n",
      "2/2 [==============================] - ETA: 0s - loss: 5.0678 - accuracy: 0.6429\n",
      "Epoch 4: val_loss improved from 178.38153 to 150.36221, saving model to Weights-004--150.36221.hdf5\n",
      "2/2 [==============================] - 1s 387ms/step - loss: 5.0678 - accuracy: 0.6429 - val_loss: 150.3622 - val_accuracy: 0.0000e+00\n",
      "Epoch 5/70\n",
      "2/2 [==============================] - ETA: 0s - loss: 4.6280 - accuracy: 0.6905\n",
      "Epoch 5: val_loss improved from 150.36221 to 127.79194, saving model to Weights-005--127.79194.hdf5\n",
      "2/2 [==============================] - 1s 441ms/step - loss: 4.6280 - accuracy: 0.6905 - val_loss: 127.7919 - val_accuracy: 0.0000e+00\n",
      "Epoch 6/70\n",
      "2/2 [==============================] - ETA: 0s - loss: 2.1035 - accuracy: 0.7381\n",
      "Epoch 6: val_loss improved from 127.79194 to 112.07889, saving model to Weights-006--112.07889.hdf5\n",
      "2/2 [==============================] - 1s 510ms/step - loss: 2.1035 - accuracy: 0.7381 - val_loss: 112.0789 - val_accuracy: 0.0000e+00\n",
      "Epoch 7/70\n",
      "2/2 [==============================] - ETA: 0s - loss: 0.2698 - accuracy: 0.9048\n",
      "Epoch 7: val_loss improved from 112.07889 to 99.28275, saving model to Weights-007--99.28275.hdf5\n",
      "2/2 [==============================] - 1s 494ms/step - loss: 0.2698 - accuracy: 0.9048 - val_loss: 99.2827 - val_accuracy: 0.0000e+00\n",
      "Epoch 8/70\n",
      "2/2 [==============================] - ETA: 0s - loss: 0.0138 - accuracy: 1.0000\n",
      "Epoch 8: val_loss improved from 99.28275 to 93.45486, saving model to Weights-008--93.45486.hdf5\n",
      "2/2 [==============================] - 1s 430ms/step - loss: 0.0138 - accuracy: 1.0000 - val_loss: 93.4549 - val_accuracy: 0.0000e+00\n",
      "Epoch 9/70\n",
      "2/2 [==============================] - ETA: 0s - loss: 0.0036 - accuracy: 1.0000\n",
      "Epoch 9: val_loss improved from 93.45486 to 88.75938, saving model to Weights-009--88.75938.hdf5\n",
      "2/2 [==============================] - 1s 291ms/step - loss: 0.0036 - accuracy: 1.0000 - val_loss: 88.7594 - val_accuracy: 0.0000e+00\n",
      "Epoch 10/70\n",
      "2/2 [==============================] - ETA: 0s - loss: 6.0638e-04 - accuracy: 1.0000\n",
      "Epoch 10: val_loss improved from 88.75938 to 84.51022, saving model to Weights-010--84.51022.hdf5\n",
      "2/2 [==============================] - 1s 370ms/step - loss: 6.0638e-04 - accuracy: 1.0000 - val_loss: 84.5102 - val_accuracy: 0.0000e+00\n",
      "Epoch 11/70\n",
      "2/2 [==============================] - ETA: 0s - loss: 0.0105 - accuracy: 1.0000\n",
      "Epoch 11: val_loss improved from 84.51022 to 80.79984, saving model to Weights-011--80.79984.hdf5\n",
      "2/2 [==============================] - 1s 452ms/step - loss: 0.0105 - accuracy: 1.0000 - val_loss: 80.7998 - val_accuracy: 0.0000e+00\n",
      "Epoch 12/70\n",
      "2/2 [==============================] - ETA: 0s - loss: 0.0021 - accuracy: 1.0000\n",
      "Epoch 12: val_loss improved from 80.79984 to 77.81034, saving model to Weights-012--77.81034.hdf5\n",
      "2/2 [==============================] - 1s 457ms/step - loss: 0.0021 - accuracy: 1.0000 - val_loss: 77.8103 - val_accuracy: 0.0000e+00\n",
      "Epoch 13/70\n",
      "2/2 [==============================] - ETA: 0s - loss: 0.0020 - accuracy: 1.0000\n",
      "Epoch 13: val_loss improved from 77.81034 to 75.17838, saving model to Weights-013--75.17838.hdf5\n",
      "2/2 [==============================] - 1s 472ms/step - loss: 0.0020 - accuracy: 1.0000 - val_loss: 75.1784 - val_accuracy: 0.0000e+00\n",
      "Epoch 14/70\n",
      "2/2 [==============================] - ETA: 0s - loss: 0.0056 - accuracy: 1.0000\n",
      "Epoch 14: val_loss improved from 75.17838 to 72.59777, saving model to Weights-014--72.59777.hdf5\n",
      "2/2 [==============================] - 1s 448ms/step - loss: 0.0056 - accuracy: 1.0000 - val_loss: 72.5978 - val_accuracy: 0.0000e+00\n",
      "Epoch 15/70\n",
      "2/2 [==============================] - ETA: 0s - loss: 0.0013 - accuracy: 1.0000    \n",
      "Epoch 15: val_loss improved from 72.59777 to 70.64703, saving model to Weights-015--70.64703.hdf5\n",
      "2/2 [==============================] - 1s 481ms/step - loss: 0.0013 - accuracy: 1.0000 - val_loss: 70.6470 - val_accuracy: 0.0000e+00\n",
      "Epoch 16/70\n",
      "2/2 [==============================] - ETA: 0s - loss: 1.3555e-04 - accuracy: 1.0000\n",
      "Epoch 16: val_loss improved from 70.64703 to 68.68118, saving model to Weights-016--68.68118.hdf5\n",
      "2/2 [==============================] - 1s 527ms/step - loss: 1.3555e-04 - accuracy: 1.0000 - val_loss: 68.6812 - val_accuracy: 0.0000e+00\n",
      "Epoch 17/70\n",
      "2/2 [==============================] - ETA: 0s - loss: 3.3474e-04 - accuracy: 1.0000\n",
      "Epoch 17: val_loss improved from 68.68118 to 66.86952, saving model to Weights-017--66.86952.hdf5\n",
      "2/2 [==============================] - 1s 497ms/step - loss: 3.3474e-04 - accuracy: 1.0000 - val_loss: 66.8695 - val_accuracy: 0.0000e+00\n",
      "Epoch 18/70\n",
      "2/2 [==============================] - ETA: 0s - loss: 0.0021 - accuracy: 1.0000\n",
      "Epoch 18: val_loss improved from 66.86952 to 65.45068, saving model to Weights-018--65.45068.hdf5\n",
      "2/2 [==============================] - 1s 528ms/step - loss: 0.0021 - accuracy: 1.0000 - val_loss: 65.4507 - val_accuracy: 0.0000e+00\n",
      "Epoch 19/70\n",
      "2/2 [==============================] - ETA: 0s - loss: 5.1719e-04 - accuracy: 1.0000\n",
      "Epoch 19: val_loss improved from 65.45068 to 63.99292, saving model to Weights-019--63.99292.hdf5\n",
      "2/2 [==============================] - 1s 391ms/step - loss: 5.1719e-04 - accuracy: 1.0000 - val_loss: 63.9929 - val_accuracy: 0.0000e+00\n",
      "Epoch 20/70\n",
      "2/2 [==============================] - ETA: 0s - loss: 2.8879e-04 - accuracy: 1.0000\n",
      "Epoch 20: val_loss improved from 63.99292 to 62.65522, saving model to Weights-020--62.65522.hdf5\n",
      "2/2 [==============================] - 1s 471ms/step - loss: 2.8879e-04 - accuracy: 1.0000 - val_loss: 62.6552 - val_accuracy: 0.0000e+00\n",
      "Epoch 21/70\n",
      "2/2 [==============================] - ETA: 0s - loss: 1.1355e-04 - accuracy: 1.0000\n",
      "Epoch 21: val_loss improved from 62.65522 to 61.42119, saving model to Weights-021--61.42119.hdf5\n",
      "2/2 [==============================] - 1s 485ms/step - loss: 1.1355e-04 - accuracy: 1.0000 - val_loss: 61.4212 - val_accuracy: 0.0000e+00\n",
      "Epoch 22/70\n",
      "2/2 [==============================] - ETA: 0s - loss: 1.1434e-04 - accuracy: 1.0000\n",
      "Epoch 22: val_loss improved from 61.42119 to 60.22250, saving model to Weights-022--60.22250.hdf5\n",
      "2/2 [==============================] - 1s 519ms/step - loss: 1.1434e-04 - accuracy: 1.0000 - val_loss: 60.2225 - val_accuracy: 0.0000e+00\n",
      "Epoch 23/70\n",
      "2/2 [==============================] - ETA: 0s - loss: 0.0033 - accuracy: 1.0000    \n",
      "Epoch 23: val_loss did not improve from 60.22250\n",
      "2/2 [==============================] - 1s 424ms/step - loss: 0.0033 - accuracy: 1.0000 - val_loss: 62.2159 - val_accuracy: 0.0000e+00\n",
      "Epoch 24/70\n",
      "2/2 [==============================] - ETA: 0s - loss: 0.0789 - accuracy: 0.9762\n",
      "Epoch 24: val_loss improved from 60.22250 to 59.86563, saving model to Weights-024--59.86563.hdf5\n",
      "2/2 [==============================] - 1s 535ms/step - loss: 0.0789 - accuracy: 0.9762 - val_loss: 59.8656 - val_accuracy: 0.0000e+00\n",
      "Epoch 25/70\n",
      "2/2 [==============================] - ETA: 0s - loss: 0.1555 - accuracy: 0.9762\n",
      "Epoch 25: val_loss did not improve from 59.86563\n",
      "2/2 [==============================] - 1s 441ms/step - loss: 0.1555 - accuracy: 0.9762 - val_loss: 74.6796 - val_accuracy: 0.0000e+00\n",
      "Epoch 26/70\n",
      "2/2 [==============================] - ETA: 0s - loss: 9.1440 - accuracy: 0.4524\n",
      "Epoch 26: val_loss did not improve from 59.86563\n",
      "2/2 [==============================] - 1s 365ms/step - loss: 9.1440 - accuracy: 0.4524 - val_loss: 63.5147 - val_accuracy: 0.0000e+00\n",
      "Epoch 27/70\n",
      "2/2 [==============================] - ETA: 0s - loss: 8.2461 - accuracy: 0.4524\n",
      "Epoch 27: val_loss improved from 59.86563 to 36.71873, saving model to Weights-027--36.71873.hdf5\n",
      "2/2 [==============================] - 1s 521ms/step - loss: 8.2461 - accuracy: 0.4524 - val_loss: 36.7187 - val_accuracy: 0.0000e+00\n",
      "Epoch 28/70\n",
      "2/2 [==============================] - ETA: 0s - loss: 0.0230 - accuracy: 1.0000\n",
      "Epoch 28: val_loss improved from 36.71873 to 35.85060, saving model to Weights-028--35.85060.hdf5\n",
      "2/2 [==============================] - 1s 539ms/step - loss: 0.0230 - accuracy: 1.0000 - val_loss: 35.8506 - val_accuracy: 0.0000e+00\n",
      "Epoch 29/70\n",
      "2/2 [==============================] - ETA: 0s - loss: 0.0809 - accuracy: 0.9524\n",
      "Epoch 29: val_loss improved from 35.85060 to 32.19101, saving model to Weights-029--32.19101.hdf5\n",
      "2/2 [==============================] - 1s 480ms/step - loss: 0.0809 - accuracy: 0.9524 - val_loss: 32.1910 - val_accuracy: 0.0000e+00\n",
      "Epoch 30/70\n",
      "2/2 [==============================] - ETA: 0s - loss: 0.0099 - accuracy: 1.0000\n",
      "Epoch 30: val_loss improved from 32.19101 to 31.97565, saving model to Weights-030--31.97565.hdf5\n",
      "2/2 [==============================] - 1s 437ms/step - loss: 0.0099 - accuracy: 1.0000 - val_loss: 31.9757 - val_accuracy: 0.0000e+00\n",
      "Epoch 31/70\n",
      "2/2 [==============================] - ETA: 0s - loss: 6.4799e-04 - accuracy: 1.0000\n",
      "Epoch 31: val_loss improved from 31.97565 to 31.71036, saving model to Weights-031--31.71036.hdf5\n",
      "2/2 [==============================] - 1s 530ms/step - loss: 6.4799e-04 - accuracy: 1.0000 - val_loss: 31.7104 - val_accuracy: 0.0000e+00\n",
      "Epoch 32/70\n",
      "2/2 [==============================] - ETA: 0s - loss: 1.2040e-04 - accuracy: 1.0000\n",
      "Epoch 32: val_loss improved from 31.71036 to 31.43964, saving model to Weights-032--31.43964.hdf5\n",
      "2/2 [==============================] - 1s 535ms/step - loss: 1.2040e-04 - accuracy: 1.0000 - val_loss: 31.4396 - val_accuracy: 0.0000e+00\n",
      "Epoch 33/70\n",
      "2/2 [==============================] - ETA: 0s - loss: 0.0030 - accuracy: 1.0000\n",
      "Epoch 33: val_loss improved from 31.43964 to 31.33482, saving model to Weights-033--31.33482.hdf5\n",
      "2/2 [==============================] - 1s 568ms/step - loss: 0.0030 - accuracy: 1.0000 - val_loss: 31.3348 - val_accuracy: 0.0000e+00\n",
      "Epoch 34/70\n",
      "2/2 [==============================] - ETA: 0s - loss: 4.6756e-04 - accuracy: 1.0000\n",
      "Epoch 34: val_loss improved from 31.33482 to 31.11343, saving model to Weights-034--31.11343.hdf5\n",
      "2/2 [==============================] - 1s 443ms/step - loss: 4.6756e-04 - accuracy: 1.0000 - val_loss: 31.1134 - val_accuracy: 0.0000e+00\n",
      "Epoch 35/70\n",
      "2/2 [==============================] - ETA: 0s - loss: 2.3313e-05 - accuracy: 1.0000\n",
      "Epoch 35: val_loss improved from 31.11343 to 30.91887, saving model to Weights-035--30.91887.hdf5\n",
      "2/2 [==============================] - 1s 509ms/step - loss: 2.3313e-05 - accuracy: 1.0000 - val_loss: 30.9189 - val_accuracy: 0.0000e+00\n",
      "Epoch 36/70\n",
      "2/2 [==============================] - ETA: 0s - loss: 1.5065e-04 - accuracy: 1.0000\n",
      "Epoch 36: val_loss improved from 30.91887 to 30.75960, saving model to Weights-036--30.75960.hdf5\n",
      "2/2 [==============================] - 1s 541ms/step - loss: 1.5065e-04 - accuracy: 1.0000 - val_loss: 30.7596 - val_accuracy: 0.0000e+00\n",
      "Epoch 37/70\n",
      "2/2 [==============================] - ETA: 0s - loss: 7.2003e-06 - accuracy: 1.0000\n",
      "Epoch 37: val_loss improved from 30.75960 to 30.61402, saving model to Weights-037--30.61402.hdf5\n",
      "2/2 [==============================] - 1s 519ms/step - loss: 7.2003e-06 - accuracy: 1.0000 - val_loss: 30.6140 - val_accuracy: 0.0000e+00\n",
      "Epoch 38/70\n",
      "2/2 [==============================] - ETA: 0s - loss: 6.2115e-04 - accuracy: 1.0000\n",
      "Epoch 38: val_loss improved from 30.61402 to 30.49873, saving model to Weights-038--30.49873.hdf5\n",
      "2/2 [==============================] - 1s 431ms/step - loss: 6.2115e-04 - accuracy: 1.0000 - val_loss: 30.4987 - val_accuracy: 0.0000e+00\n",
      "Epoch 39/70\n",
      "2/2 [==============================] - ETA: 0s - loss: 2.1226e-05 - accuracy: 1.0000\n",
      "Epoch 39: val_loss improved from 30.49873 to 30.37626, saving model to Weights-039--30.37626.hdf5\n",
      "2/2 [==============================] - 1s 370ms/step - loss: 2.1226e-05 - accuracy: 1.0000 - val_loss: 30.3763 - val_accuracy: 0.0000e+00\n",
      "Epoch 40/70\n",
      "2/2 [==============================] - ETA: 0s - loss: 0.0023 - accuracy: 1.0000    \n",
      "Epoch 40: val_loss improved from 30.37626 to 29.52394, saving model to Weights-040--29.52394.hdf5\n",
      "2/2 [==============================] - 1s 357ms/step - loss: 0.0023 - accuracy: 1.0000 - val_loss: 29.5239 - val_accuracy: 0.0000e+00\n",
      "Epoch 41/70\n",
      "2/2 [==============================] - ETA: 0s - loss: 0.0031 - accuracy: 1.0000\n",
      "Epoch 41: val_loss did not improve from 29.52394\n",
      "2/2 [==============================] - 1s 293ms/step - loss: 0.0031 - accuracy: 1.0000 - val_loss: 29.6821 - val_accuracy: 0.0000e+00\n",
      "Epoch 42/70\n",
      "2/2 [==============================] - ETA: 0s - loss: 1.6781e-04 - accuracy: 1.0000\n",
      "Epoch 42: val_loss did not improve from 29.52394\n",
      "2/2 [==============================] - 1s 369ms/step - loss: 1.6781e-04 - accuracy: 1.0000 - val_loss: 29.6154 - val_accuracy: 0.0000e+00\n",
      "Epoch 43/70\n",
      "2/2 [==============================] - ETA: 0s - loss: 1.2780e-05 - accuracy: 1.0000\n",
      "Epoch 43: val_loss did not improve from 29.52394\n",
      "2/2 [==============================] - 1s 346ms/step - loss: 1.2780e-05 - accuracy: 1.0000 - val_loss: 29.5661 - val_accuracy: 0.0000e+00\n",
      "Epoch 44/70\n",
      "2/2 [==============================] - ETA: 0s - loss: 3.3938e-04 - accuracy: 1.0000\n",
      "Epoch 44: val_loss did not improve from 29.52394\n",
      "2/2 [==============================] - 1s 355ms/step - loss: 3.3938e-04 - accuracy: 1.0000 - val_loss: 29.5416 - val_accuracy: 0.0000e+00\n",
      "Epoch 45/70\n",
      "2/2 [==============================] - ETA: 0s - loss: 1.5395e-05 - accuracy: 1.0000\n",
      "Epoch 45: val_loss improved from 29.52394 to 29.48294, saving model to Weights-045--29.48294.hdf5\n",
      "2/2 [==============================] - 1s 468ms/step - loss: 1.5395e-05 - accuracy: 1.0000 - val_loss: 29.4829 - val_accuracy: 0.0000e+00\n",
      "Epoch 46/70\n",
      "2/2 [==============================] - ETA: 0s - loss: 2.6345e-05 - accuracy: 1.0000\n",
      "Epoch 46: val_loss improved from 29.48294 to 29.46586, saving model to Weights-046--29.46586.hdf5\n",
      "2/2 [==============================] - 1s 436ms/step - loss: 2.6345e-05 - accuracy: 1.0000 - val_loss: 29.4659 - val_accuracy: 0.0000e+00\n",
      "Epoch 47/70\n",
      "2/2 [==============================] - ETA: 0s - loss: 2.0339e-05 - accuracy: 1.0000\n",
      "Epoch 47: val_loss improved from 29.46586 to 29.44000, saving model to Weights-047--29.44000.hdf5\n",
      "2/2 [==============================] - 1s 519ms/step - loss: 2.0339e-05 - accuracy: 1.0000 - val_loss: 29.4400 - val_accuracy: 0.0000e+00\n",
      "Epoch 48/70\n",
      "2/2 [==============================] - ETA: 0s - loss: 4.5110e-05 - accuracy: 1.0000\n",
      "Epoch 48: val_loss improved from 29.44000 to 29.40924, saving model to Weights-048--29.40924.hdf5\n",
      "2/2 [==============================] - 1s 534ms/step - loss: 4.5110e-05 - accuracy: 1.0000 - val_loss: 29.4092 - val_accuracy: 0.0000e+00\n",
      "Epoch 49/70\n",
      "2/2 [==============================] - ETA: 0s - loss: 1.0850e-05 - accuracy: 1.0000\n",
      "Epoch 49: val_loss did not improve from 29.40924\n",
      "2/2 [==============================] - 1s 330ms/step - loss: 1.0850e-05 - accuracy: 1.0000 - val_loss: 29.4148 - val_accuracy: 0.0000e+00\n",
      "Epoch 50/70\n",
      "2/2 [==============================] - ETA: 0s - loss: 2.7957e-06 - accuracy: 1.0000\n",
      "Epoch 50: val_loss improved from 29.40924 to 29.40632, saving model to Weights-050--29.40632.hdf5\n",
      "2/2 [==============================] - 1s 509ms/step - loss: 2.7957e-06 - accuracy: 1.0000 - val_loss: 29.4063 - val_accuracy: 0.0000e+00\n",
      "Epoch 51/70\n",
      "2/2 [==============================] - ETA: 0s - loss: 5.8039e-06 - accuracy: 1.0000\n",
      "Epoch 51: val_loss did not improve from 29.40632\n",
      "2/2 [==============================] - 1s 379ms/step - loss: 5.8039e-06 - accuracy: 1.0000 - val_loss: 29.4153 - val_accuracy: 0.0000e+00\n",
      "Epoch 52/70\n",
      "2/2 [==============================] - ETA: 0s - loss: 1.1797e-04 - accuracy: 1.0000\n",
      "Epoch 52: val_loss did not improve from 29.40632\n",
      "2/2 [==============================] - 1s 432ms/step - loss: 1.1797e-04 - accuracy: 1.0000 - val_loss: 29.4397 - val_accuracy: 0.0000e+00\n",
      "Epoch 53/70\n",
      "2/2 [==============================] - ETA: 0s - loss: 3.0142e-06 - accuracy: 1.0000\n",
      "Epoch 53: val_loss did not improve from 29.40632\n",
      "2/2 [==============================] - 1s 437ms/step - loss: 3.0142e-06 - accuracy: 1.0000 - val_loss: 29.4495 - val_accuracy: 0.0000e+00\n",
      "Epoch 54/70\n",
      "2/2 [==============================] - ETA: 0s - loss: 7.2626e-06 - accuracy: 1.0000\n",
      "Epoch 54: val_loss did not improve from 29.40632\n",
      "2/2 [==============================] - 1s 412ms/step - loss: 7.2626e-06 - accuracy: 1.0000 - val_loss: 29.4747 - val_accuracy: 0.0000e+00\n",
      "Epoch 55/70\n",
      "2/2 [==============================] - ETA: 0s - loss: 2.0407e-04 - accuracy: 1.0000\n",
      "Epoch 55: val_loss did not improve from 29.40632\n",
      "2/2 [==============================] - 1s 355ms/step - loss: 2.0407e-04 - accuracy: 1.0000 - val_loss: 29.5555 - val_accuracy: 0.0000e+00\n",
      "Epoch 56/70\n",
      "2/2 [==============================] - ETA: 0s - loss: 1.8307e-05 - accuracy: 1.0000\n",
      "Epoch 56: val_loss did not improve from 29.40632\n",
      "2/2 [==============================] - 1s 409ms/step - loss: 1.8307e-05 - accuracy: 1.0000 - val_loss: 29.5998 - val_accuracy: 0.0000e+00\n",
      "Epoch 57/70\n",
      "2/2 [==============================] - ETA: 0s - loss: 1.4651e-05 - accuracy: 1.0000\n",
      "Epoch 57: val_loss did not improve from 29.40632\n",
      "2/2 [==============================] - 1s 408ms/step - loss: 1.4651e-05 - accuracy: 1.0000 - val_loss: 29.6723 - val_accuracy: 0.0000e+00\n",
      "Epoch 58/70\n",
      "2/2 [==============================] - ETA: 0s - loss: 1.1744e-05 - accuracy: 1.0000\n",
      "Epoch 58: val_loss did not improve from 29.40632\n",
      "2/2 [==============================] - 1s 420ms/step - loss: 1.1744e-05 - accuracy: 1.0000 - val_loss: 29.7185 - val_accuracy: 0.0000e+00\n",
      "Epoch 59/70\n",
      "2/2 [==============================] - ETA: 0s - loss: 2.6907e-06 - accuracy: 1.0000\n",
      "Epoch 59: val_loss did not improve from 29.40632\n",
      "2/2 [==============================] - 1s 437ms/step - loss: 2.6907e-06 - accuracy: 1.0000 - val_loss: 29.7592 - val_accuracy: 0.0000e+00\n",
      "Epoch 60/70\n",
      "2/2 [==============================] - ETA: 0s - loss: 1.0644e-06 - accuracy: 1.0000\n",
      "Epoch 60: val_loss did not improve from 29.40632\n",
      "2/2 [==============================] - 1s 355ms/step - loss: 1.0644e-06 - accuracy: 1.0000 - val_loss: 29.8059 - val_accuracy: 0.0000e+00\n",
      "Epoch 61/70\n",
      "2/2 [==============================] - ETA: 0s - loss: 1.9853e-05 - accuracy: 1.0000\n",
      "Epoch 61: val_loss did not improve from 29.40632\n",
      "2/2 [==============================] - 1s 405ms/step - loss: 1.9853e-05 - accuracy: 1.0000 - val_loss: 29.8541 - val_accuracy: 0.0000e+00\n",
      "Epoch 62/70\n",
      "2/2 [==============================] - ETA: 0s - loss: 6.3458e-06 - accuracy: 1.0000\n",
      "Epoch 62: val_loss did not improve from 29.40632\n",
      "2/2 [==============================] - 1s 437ms/step - loss: 6.3458e-06 - accuracy: 1.0000 - val_loss: 29.9106 - val_accuracy: 0.0000e+00\n",
      "Epoch 63/70\n",
      "2/2 [==============================] - ETA: 0s - loss: 4.6289e-06 - accuracy: 1.0000\n",
      "Epoch 63: val_loss did not improve from 29.40632\n",
      "2/2 [==============================] - 1s 442ms/step - loss: 4.6289e-06 - accuracy: 1.0000 - val_loss: 29.9644 - val_accuracy: 0.0000e+00\n",
      "Epoch 64/70\n",
      "2/2 [==============================] - ETA: 0s - loss: 3.0574e-05 - accuracy: 1.0000\n",
      "Epoch 64: val_loss did not improve from 29.40632\n",
      "2/2 [==============================] - 1s 428ms/step - loss: 3.0574e-05 - accuracy: 1.0000 - val_loss: 30.0387 - val_accuracy: 0.0000e+00\n",
      "Epoch 65/70\n",
      "2/2 [==============================] - ETA: 0s - loss: 1.1979e-05 - accuracy: 1.0000\n",
      "Epoch 65: val_loss did not improve from 29.40632\n",
      "2/2 [==============================] - 1s 413ms/step - loss: 1.1979e-05 - accuracy: 1.0000 - val_loss: 30.1063 - val_accuracy: 0.0000e+00\n",
      "Epoch 66/70\n",
      "2/2 [==============================] - ETA: 0s - loss: 6.3376e-06 - accuracy: 1.0000\n",
      "Epoch 66: val_loss did not improve from 29.40632\n",
      "2/2 [==============================] - 1s 305ms/step - loss: 6.3376e-06 - accuracy: 1.0000 - val_loss: 30.1743 - val_accuracy: 0.0000e+00\n",
      "Epoch 67/70\n",
      "2/2 [==============================] - ETA: 0s - loss: 3.9452e-06 - accuracy: 1.0000\n",
      "Epoch 67: val_loss did not improve from 29.40632\n",
      "2/2 [==============================] - 1s 383ms/step - loss: 3.9452e-06 - accuracy: 1.0000 - val_loss: 30.2636 - val_accuracy: 0.0000e+00\n",
      "Epoch 68/70\n",
      "2/2 [==============================] - ETA: 0s - loss: 1.5185e-06 - accuracy: 1.0000\n",
      "Epoch 68: val_loss did not improve from 29.40632\n",
      "2/2 [==============================] - 1s 417ms/step - loss: 1.5185e-06 - accuracy: 1.0000 - val_loss: 30.3483 - val_accuracy: 0.0000e+00\n",
      "Epoch 69/70\n",
      "2/2 [==============================] - ETA: 0s - loss: 4.2176e-06 - accuracy: 1.0000\n",
      "Epoch 69: val_loss did not improve from 29.40632\n",
      "2/2 [==============================] - 1s 402ms/step - loss: 4.2176e-06 - accuracy: 1.0000 - val_loss: 30.4386 - val_accuracy: 0.0000e+00\n",
      "Epoch 70/70\n",
      "2/2 [==============================] - ETA: 0s - loss: 2.0719e-06 - accuracy: 1.0000\n",
      "Epoch 70: val_loss did not improve from 29.40632\n",
      "2/2 [==============================] - 1s 427ms/step - loss: 2.0719e-06 - accuracy: 1.0000 - val_loss: 30.5136 - val_accuracy: 0.0000e+00\n"
     ]
    }
   ],
   "source": [
    "model_cnn.compile(\n",
    "    loss = tf.keras.losses.SparseCategoricalCrossentropy(),\n",
    "    optimizer='rmsprop',\n",
    "    metrics=['accuracy']\n",
    ")\n",
    "\n",
    "history_cnn = model_cnn.fit(\n",
    "    X_train_cnn, y_train_cnn,\n",
    "    epochs = 70,\n",
    "    batch_size = 32, # données transmises pour une session\n",
    "    validation_split=0.2,\n",
    "    callbacks=callbacks_list\n",
    ")"
   ]
  },
  {
   "cell_type": "code",
   "execution_count": 77,
   "metadata": {},
   "outputs": [
    {
     "name": "stdout",
     "output_type": "stream",
     "text": [
      "1/1 [==============================] - 0s 157ms/step - loss: 5.5830 - accuracy: 0.6429\n"
     ]
    },
    {
     "data": {
      "text/plain": [
       "[5.582958221435547, 0.6428571343421936]"
      ]
     },
     "execution_count": 77,
     "metadata": {},
     "output_type": "execute_result"
    }
   ],
   "source": [
    "model_cnn.evaluate(X_test_cnn, y_test_cnn)"
   ]
  },
  {
   "cell_type": "code",
   "execution_count": 78,
   "metadata": {},
   "outputs": [
    {
     "name": "stdout",
     "output_type": "stream",
     "text": [
      "1/1 [==============================] - 0s 179ms/step\n"
     ]
    },
    {
     "data": {
      "text/plain": [
       "array([[1.08550958e-01, 8.01857352e-01, 8.95917043e-02, 1.14367316e-12],\n",
       "       [4.77968931e-01, 4.47016247e-02, 4.77329373e-01, 1.39485439e-14],\n",
       "       [9.88745511e-01, 1.14223389e-04, 1.11402879e-02, 2.67722368e-13],\n",
       "       [7.28632789e-03, 3.22381267e-04, 9.92391288e-01, 4.04613282e-15],\n",
       "       [1.47412986e-01, 8.24901462e-01, 2.76854690e-02, 4.01182858e-13],\n",
       "       [5.56604355e-04, 9.99277174e-01, 1.66233018e-04, 8.60163652e-15],\n",
       "       [3.28397029e-04, 9.99657393e-01, 1.42357785e-05, 8.07357328e-13],\n",
       "       [1.25613108e-01, 8.69975448e-01, 4.41146642e-03, 2.36222847e-11],\n",
       "       [2.58365601e-01, 1.72181274e-07, 7.41634190e-01, 5.19251261e-16],\n",
       "       [1.42059755e-03, 5.41938562e-03, 9.93160009e-01, 8.61281532e-14],\n",
       "       [1.01163588e-01, 3.33228469e-01, 5.65606475e-01, 1.48599213e-06],\n",
       "       [4.72360343e-01, 3.68919609e-06, 5.27635932e-01, 6.31018624e-15],\n",
       "       [1.71187625e-03, 3.46972817e-03, 9.94818389e-01, 4.20311312e-12],\n",
       "       [6.44465536e-03, 3.87802184e-01, 6.05753183e-01, 4.46242557e-11]],\n",
       "      dtype=float32)"
      ]
     },
     "execution_count": 78,
     "metadata": {},
     "output_type": "execute_result"
    }
   ],
   "source": [
    "pred_cnn = model_cnn.predict(X_test_cnn)\n",
    "pred_cnn"
   ]
  },
  {
   "cell_type": "code",
   "execution_count": 79,
   "metadata": {},
   "outputs": [
    {
     "name": "stdout",
     "output_type": "stream",
     "text": [
      "Predicted labels:  [1 0 0 2 1 1 1 1 2 2 2 2 2 2]\n",
      "True labels:       [0 0 0 1 1 1 1 1 1 2 2 2 3 3]\n"
     ]
    }
   ],
   "source": [
    "y_pred_cnn = np.argmax(pred_cnn, axis=1)\n",
    "print(\"Predicted labels: \", y_pred_cnn)\n",
    "print(\"True labels:      \", y_test_cnn)"
   ]
  },
  {
   "attachments": {},
   "cell_type": "markdown",
   "metadata": {},
   "source": [
    "**Accuracy: $9 / 14$ ($64.28 \\%$)**"
   ]
  }
 ],
 "metadata": {
  "kernelspec": {
   "display_name": "base",
   "language": "python",
   "name": "python3"
  },
  "language_info": {
   "codemirror_mode": {
    "name": "ipython",
    "version": 3
   },
   "file_extension": ".py",
   "mimetype": "text/x-python",
   "name": "python",
   "nbconvert_exporter": "python",
   "pygments_lexer": "ipython3",
   "version": "3.9.13"
  },
  "orig_nbformat": 4
 },
 "nbformat": 4,
 "nbformat_minor": 2
}
