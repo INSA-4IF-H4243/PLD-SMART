{
 "cells": [
  {
   "cell_type": "code",
   "execution_count": 33,
   "metadata": {},
   "outputs": [],
   "source": [
    "from smart.model import ModelJoueurConvolution\n",
    "import tensorflow as tf\n",
    "from keras.layers import Conv2D, MaxPooling2D, Flatten, Dense, BatchNormalization, Dropout\n",
    "import numpy as np"
   ]
  },
  {
   "cell_type": "code",
   "execution_count": 34,
   "metadata": {},
   "outputs": [],
   "source": [
    "path_dataset = 'img/JBas'"
   ]
  },
  {
   "cell_type": "code",
   "execution_count": 35,
   "metadata": {},
   "outputs": [],
   "source": [
    "layers = [\n",
    "    tf.keras.Input(shape = (50, 750, 3)), # 50, 15*50, 3\n",
    "    Conv2D(filters=16, kernel_size=(3, 3), activation=\"relu\"),\n",
    "    BatchNormalization(),\n",
    "    MaxPooling2D(pool_size=(2, 2)),\n",
    "    Dropout(0.2),\n",
    "        \n",
    "    Conv2D(filters=32, kernel_size=(3, 3), activation=\"relu\"),\n",
    "    BatchNormalization(),\n",
    "    MaxPooling2D(pool_size=(2, 2)),\n",
    "    Dropout(0.2),\n",
    "        \n",
    "    Conv2D(filters=64, kernel_size=(3, 3), activation=\"relu\"),\n",
    "    BatchNormalization(),\n",
    "    MaxPooling2D(pool_size=(2, 2)),\n",
    "    Dropout(0.2),\n",
    "        \n",
    "    Flatten(),\n",
    "    Dense(units=128, activation=\"relu\"),\n",
    "    Dense(units=4, activation=\"softmax\"),\n",
    "]"
   ]
  },
  {
   "cell_type": "code",
   "execution_count": 36,
   "metadata": {},
   "outputs": [
    {
     "name": "stdout",
     "output_type": "stream",
     "text": [
      "Model: \"sequential_2\"\n",
      "_________________________________________________________________\n",
      " Layer (type)                Output Shape              Param #   \n",
      "=================================================================\n",
      " conv2d_6 (Conv2D)           (None, 48, 748, 16)       448       \n",
      "                                                                 \n",
      " batch_normalization_6 (Batc  (None, 48, 748, 16)      64        \n",
      " hNormalization)                                                 \n",
      "                                                                 \n",
      " max_pooling2d_6 (MaxPooling  (None, 24, 374, 16)      0         \n",
      " 2D)                                                             \n",
      "                                                                 \n",
      " dropout_6 (Dropout)         (None, 24, 374, 16)       0         \n",
      "                                                                 \n",
      " conv2d_7 (Conv2D)           (None, 22, 372, 32)       4640      \n",
      "                                                                 \n",
      " batch_normalization_7 (Batc  (None, 22, 372, 32)      128       \n",
      " hNormalization)                                                 \n",
      "                                                                 \n",
      " max_pooling2d_7 (MaxPooling  (None, 11, 186, 32)      0         \n",
      " 2D)                                                             \n",
      "                                                                 \n",
      " dropout_7 (Dropout)         (None, 11, 186, 32)       0         \n",
      "                                                                 \n",
      " conv2d_8 (Conv2D)           (None, 9, 184, 64)        18496     \n",
      "                                                                 \n",
      " batch_normalization_8 (Batc  (None, 9, 184, 64)       256       \n",
      " hNormalization)                                                 \n",
      "                                                                 \n",
      " max_pooling2d_8 (MaxPooling  (None, 4, 92, 64)        0         \n",
      " 2D)                                                             \n",
      "                                                                 \n",
      " dropout_8 (Dropout)         (None, 4, 92, 64)         0         \n",
      "                                                                 \n",
      " flatten_2 (Flatten)         (None, 23552)             0         \n",
      "                                                                 \n",
      " dense_4 (Dense)             (None, 128)               3014784   \n",
      "                                                                 \n",
      " dense_5 (Dense)             (None, 4)                 516       \n",
      "                                                                 \n",
      "=================================================================\n",
      "Total params: 3,039,332\n",
      "Trainable params: 3,039,108\n",
      "Non-trainable params: 224\n",
      "_________________________________________________________________\n"
     ]
    }
   ],
   "source": [
    "model_joueur_conv = ModelJoueurConvolution.load_model_from_layers(layers)\n",
    "model_joueur_conv.summary_model"
   ]
  },
  {
   "cell_type": "code",
   "execution_count": 37,
   "metadata": {},
   "outputs": [],
   "source": [
    "# Step 1: Load the data\n",
    "list_videos, y = model_joueur_conv.analyse_sequence_frame(path_data_frame=path_dataset)"
   ]
  },
  {
   "cell_type": "code",
   "execution_count": 38,
   "metadata": {},
   "outputs": [
    {
     "data": {
      "text/plain": [
       "array([0, 0, 0, 0, 0, 0, 0, 0, 0, 0, 0, 0, 0, 0, 0, 0, 0, 0, 0, 0, 0, 0,\n",
       "       0, 0, 0, 0, 0, 0, 0, 0, 0, 0, 0, 0, 0, 0, 0, 0, 0, 0, 0, 0, 0, 0,\n",
       "       0, 0, 0, 0, 0, 0, 0, 0, 0, 0, 0, 0, 0, 0, 0, 0, 0, 0, 0, 0, 0, 0,\n",
       "       0, 0, 0, 0, 0, 0, 1, 1, 1, 1, 1, 1, 1, 1, 1, 1, 1, 1, 1, 1, 1, 1,\n",
       "       1, 1, 1, 1, 1, 1, 1, 1, 1, 1, 1, 1, 1, 1, 1, 1, 1, 1, 1, 1, 1, 1,\n",
       "       1, 1, 1, 1, 1, 1, 1, 1, 1, 1, 1, 1, 1, 1, 1, 1, 1, 1, 1, 1, 1, 1,\n",
       "       1, 1, 1, 1, 1, 1, 2, 2, 2, 2, 2, 2, 2, 2, 2, 2, 2, 2, 2, 2, 2, 2,\n",
       "       2, 2, 2, 2, 2, 2, 2, 2, 2, 2, 2, 2, 2, 2, 2, 2, 2, 2, 2, 2, 2, 2,\n",
       "       2, 2, 2, 2, 2, 2, 2, 2, 2, 2, 3, 3, 3, 3, 3, 3, 3, 3, 3, 3, 3, 3,\n",
       "       3, 3, 3, 3, 3, 3, 3, 3, 3, 3, 3, 3, 3, 3, 3, 3], dtype=int64)"
      ]
     },
     "execution_count": 38,
     "metadata": {},
     "output_type": "execute_result"
    }
   ],
   "source": [
    "# Step 2: Label encoder\n",
    "y = model_joueur_conv.label_encoder(y)\n",
    "y"
   ]
  },
  {
   "cell_type": "code",
   "execution_count": 39,
   "metadata": {},
   "outputs": [
    {
     "data": {
      "text/plain": [
       "(43, 50, 750, 3)"
      ]
     },
     "execution_count": 39,
     "metadata": {},
     "output_type": "execute_result"
    }
   ],
   "source": [
    "# Step 3: Split the data\n",
    "X_train, y_train, X_test, y_test = model_joueur_conv.split_train_test(list_videos, y)\n",
    "X_test.shape"
   ]
  },
  {
   "cell_type": "code",
   "execution_count": 40,
   "metadata": {},
   "outputs": [
    {
     "name": "stdout",
     "output_type": "stream",
     "text": [
      "Epoch 1/70\n",
      "5/5 [==============================] - ETA: 0s - loss: 74.9689 - accuracy: 0.2941\n",
      "Epoch 1: val_loss improved from inf to 984.68372, saving model to checkpoints\\Weights-001--984.68372.hdf5\n",
      "5/5 [==============================] - 2s 316ms/step - loss: 74.9689 - accuracy: 0.2941 - val_loss: 984.6837 - val_accuracy: 0.3143\n",
      "Epoch 2/70\n",
      "5/5 [==============================] - ETA: 0s - loss: 22.8327 - accuracy: 0.4118\n",
      "Epoch 2: val_loss improved from 984.68372 to 532.61664, saving model to checkpoints\\Weights-002--532.61664.hdf5\n",
      "5/5 [==============================] - 1s 228ms/step - loss: 22.8327 - accuracy: 0.4118 - val_loss: 532.6166 - val_accuracy: 0.0000e+00\n",
      "Epoch 3/70\n",
      "5/5 [==============================] - ETA: 0s - loss: 14.3452 - accuracy: 0.3824\n",
      "Epoch 3: val_loss improved from 532.61664 to 333.77176, saving model to checkpoints\\Weights-003--333.77176.hdf5\n",
      "5/5 [==============================] - 1s 231ms/step - loss: 14.3452 - accuracy: 0.3824 - val_loss: 333.7718 - val_accuracy: 0.3143\n",
      "Epoch 4/70\n",
      "5/5 [==============================] - ETA: 0s - loss: 3.9277 - accuracy: 0.5515\n",
      "Epoch 4: val_loss improved from 333.77176 to 249.35457, saving model to checkpoints\\Weights-004--249.35457.hdf5\n",
      "5/5 [==============================] - 1s 226ms/step - loss: 3.9277 - accuracy: 0.5515 - val_loss: 249.3546 - val_accuracy: 0.0857\n",
      "Epoch 5/70\n",
      "5/5 [==============================] - ETA: 0s - loss: 4.6237 - accuracy: 0.5515\n",
      "Epoch 5: val_loss improved from 249.35457 to 200.60193, saving model to checkpoints\\Weights-005--200.60193.hdf5\n",
      "5/5 [==============================] - 1s 237ms/step - loss: 4.6237 - accuracy: 0.5515 - val_loss: 200.6019 - val_accuracy: 0.0000e+00\n",
      "Epoch 6/70\n",
      "5/5 [==============================] - ETA: 0s - loss: 2.9181 - accuracy: 0.6765\n",
      "Epoch 6: val_loss improved from 200.60193 to 160.58574, saving model to checkpoints\\Weights-006--160.58574.hdf5\n",
      "5/5 [==============================] - 1s 238ms/step - loss: 2.9181 - accuracy: 0.6765 - val_loss: 160.5857 - val_accuracy: 0.0000e+00\n",
      "Epoch 7/70\n",
      "5/5 [==============================] - ETA: 0s - loss: 1.0956 - accuracy: 0.8235\n",
      "Epoch 7: val_loss improved from 160.58574 to 128.94897, saving model to checkpoints\\Weights-007--128.94897.hdf5\n",
      "5/5 [==============================] - 1s 243ms/step - loss: 1.0956 - accuracy: 0.8235 - val_loss: 128.9490 - val_accuracy: 0.0000e+00\n",
      "Epoch 8/70\n",
      "5/5 [==============================] - ETA: 0s - loss: 2.3487 - accuracy: 0.7647\n",
      "Epoch 8: val_loss improved from 128.94897 to 107.15206, saving model to checkpoints\\Weights-008--107.15206.hdf5\n",
      "5/5 [==============================] - 1s 241ms/step - loss: 2.3487 - accuracy: 0.7647 - val_loss: 107.1521 - val_accuracy: 0.0286\n",
      "Epoch 9/70\n",
      "5/5 [==============================] - ETA: 0s - loss: 0.1263 - accuracy: 0.9706\n",
      "Epoch 9: val_loss improved from 107.15206 to 106.23621, saving model to checkpoints\\Weights-009--106.23621.hdf5\n",
      "5/5 [==============================] - 1s 247ms/step - loss: 0.1263 - accuracy: 0.9706 - val_loss: 106.2362 - val_accuracy: 0.0286\n",
      "Epoch 10/70\n",
      "5/5 [==============================] - ETA: 0s - loss: 1.7027 - accuracy: 0.8088\n",
      "Epoch 10: val_loss improved from 106.23621 to 83.01404, saving model to checkpoints\\Weights-010--83.01404.hdf5\n",
      "5/5 [==============================] - 1s 245ms/step - loss: 1.7027 - accuracy: 0.8088 - val_loss: 83.0140 - val_accuracy: 0.0571\n",
      "Epoch 11/70\n",
      "5/5 [==============================] - ETA: 0s - loss: 0.0875 - accuracy: 0.9632\n",
      "Epoch 11: val_loss improved from 83.01404 to 79.06514, saving model to checkpoints\\Weights-011--79.06514.hdf5\n",
      "5/5 [==============================] - 1s 255ms/step - loss: 0.0875 - accuracy: 0.9632 - val_loss: 79.0651 - val_accuracy: 0.2857\n",
      "Epoch 12/70\n",
      "5/5 [==============================] - ETA: 0s - loss: 2.2543 - accuracy: 0.8235\n",
      "Epoch 12: val_loss improved from 79.06514 to 59.55156, saving model to checkpoints\\Weights-012--59.55156.hdf5\n",
      "5/5 [==============================] - 1s 247ms/step - loss: 2.2543 - accuracy: 0.8235 - val_loss: 59.5516 - val_accuracy: 0.0857\n",
      "Epoch 13/70\n",
      "5/5 [==============================] - ETA: 0s - loss: 0.2225 - accuracy: 0.9338\n",
      "Epoch 13: val_loss did not improve from 59.55156\n",
      "5/5 [==============================] - 1s 241ms/step - loss: 0.2225 - accuracy: 0.9338 - val_loss: 63.0466 - val_accuracy: 0.0000e+00\n",
      "Epoch 14/70\n",
      "5/5 [==============================] - ETA: 0s - loss: 2.4364 - accuracy: 0.7794\n",
      "Epoch 14: val_loss improved from 59.55156 to 35.28454, saving model to checkpoints\\Weights-014--35.28454.hdf5\n",
      "5/5 [==============================] - 1s 258ms/step - loss: 2.4364 - accuracy: 0.7794 - val_loss: 35.2845 - val_accuracy: 0.0286\n",
      "Epoch 15/70\n",
      "5/5 [==============================] - ETA: 0s - loss: 0.0732 - accuracy: 0.9853\n",
      "Epoch 15: val_loss improved from 35.28454 to 33.94847, saving model to checkpoints\\Weights-015--33.94847.hdf5\n",
      "5/5 [==============================] - 1s 253ms/step - loss: 0.0732 - accuracy: 0.9853 - val_loss: 33.9485 - val_accuracy: 0.1143\n",
      "Epoch 16/70\n",
      "5/5 [==============================] - ETA: 0s - loss: 0.0172 - accuracy: 0.9926\n",
      "Epoch 16: val_loss improved from 33.94847 to 33.73647, saving model to checkpoints\\Weights-016--33.73647.hdf5\n",
      "5/5 [==============================] - 1s 256ms/step - loss: 0.0172 - accuracy: 0.9926 - val_loss: 33.7365 - val_accuracy: 0.2000\n",
      "Epoch 17/70\n",
      "5/5 [==============================] - ETA: 0s - loss: 0.0116 - accuracy: 0.9926\n",
      "Epoch 17: val_loss improved from 33.73647 to 32.77855, saving model to checkpoints\\Weights-017--32.77855.hdf5\n",
      "5/5 [==============================] - 1s 254ms/step - loss: 0.0116 - accuracy: 0.9926 - val_loss: 32.7785 - val_accuracy: 0.0571\n",
      "Epoch 18/70\n",
      "5/5 [==============================] - ETA: 0s - loss: 0.0015 - accuracy: 1.0000  \n",
      "Epoch 18: val_loss improved from 32.77855 to 32.36185, saving model to checkpoints\\Weights-018--32.36185.hdf5\n",
      "5/5 [==============================] - 1s 253ms/step - loss: 0.0015 - accuracy: 1.0000 - val_loss: 32.3619 - val_accuracy: 0.0857\n",
      "Epoch 19/70\n",
      "5/5 [==============================] - ETA: 0s - loss: 1.1835e-04 - accuracy: 1.0000\n",
      "Epoch 19: val_loss improved from 32.36185 to 32.01345, saving model to checkpoints\\Weights-019--32.01345.hdf5\n",
      "5/5 [==============================] - 1s 257ms/step - loss: 1.1835e-04 - accuracy: 1.0000 - val_loss: 32.0135 - val_accuracy: 0.0571\n",
      "Epoch 20/70\n",
      "5/5 [==============================] - ETA: 0s - loss: 0.0012 - accuracy: 1.0000  \n",
      "Epoch 20: val_loss improved from 32.01345 to 31.99951, saving model to checkpoints\\Weights-020--31.99951.hdf5\n",
      "5/5 [==============================] - 1s 251ms/step - loss: 0.0012 - accuracy: 1.0000 - val_loss: 31.9995 - val_accuracy: 0.0857\n",
      "Epoch 21/70\n",
      "5/5 [==============================] - ETA: 0s - loss: 0.0015 - accuracy: 1.0000\n",
      "Epoch 21: val_loss did not improve from 31.99951\n",
      "5/5 [==============================] - 1s 248ms/step - loss: 0.0015 - accuracy: 1.0000 - val_loss: 32.0492 - val_accuracy: 0.0571\n",
      "Epoch 22/70\n",
      "5/5 [==============================] - ETA: 0s - loss: 8.6522e-04 - accuracy: 1.0000\n",
      "Epoch 22: val_loss did not improve from 31.99951\n",
      "5/5 [==============================] - 1s 266ms/step - loss: 8.6522e-04 - accuracy: 1.0000 - val_loss: 32.2679 - val_accuracy: 0.0571\n",
      "Epoch 23/70\n",
      "5/5 [==============================] - ETA: 0s - loss: 7.4167e-04 - accuracy: 1.0000\n",
      "Epoch 23: val_loss did not improve from 31.99951\n",
      "5/5 [==============================] - 1s 243ms/step - loss: 7.4167e-04 - accuracy: 1.0000 - val_loss: 32.0201 - val_accuracy: 0.0571\n",
      "Epoch 24/70\n",
      "5/5 [==============================] - ETA: 0s - loss: 2.5680e-04 - accuracy: 1.0000\n",
      "Epoch 24: val_loss improved from 31.99951 to 31.96059, saving model to checkpoints\\Weights-024--31.96059.hdf5\n",
      "5/5 [==============================] - 1s 248ms/step - loss: 2.5680e-04 - accuracy: 1.0000 - val_loss: 31.9606 - val_accuracy: 0.0571\n",
      "Epoch 25/70\n",
      "5/5 [==============================] - ETA: 0s - loss: 2.6677e-04 - accuracy: 1.0000\n",
      "Epoch 25: val_loss did not improve from 31.96059\n",
      "5/5 [==============================] - 1s 245ms/step - loss: 2.6677e-04 - accuracy: 1.0000 - val_loss: 32.5389 - val_accuracy: 0.0571\n",
      "Epoch 26/70\n",
      "5/5 [==============================] - ETA: 0s - loss: 1.3871 - accuracy: 0.9265\n",
      "Epoch 26: val_loss improved from 31.96059 to 18.12460, saving model to checkpoints\\Weights-026--18.12460.hdf5\n",
      "5/5 [==============================] - 1s 264ms/step - loss: 1.3871 - accuracy: 0.9265 - val_loss: 18.1246 - val_accuracy: 0.1714\n",
      "Epoch 27/70\n",
      "5/5 [==============================] - ETA: 0s - loss: 0.2336 - accuracy: 0.9485\n",
      "Epoch 27: val_loss did not improve from 18.12460\n",
      "5/5 [==============================] - 1s 259ms/step - loss: 0.2336 - accuracy: 0.9485 - val_loss: 25.2854 - val_accuracy: 0.0286\n",
      "Epoch 28/70\n",
      "5/5 [==============================] - ETA: 0s - loss: 0.7763 - accuracy: 0.8676\n",
      "Epoch 28: val_loss did not improve from 18.12460\n",
      "5/5 [==============================] - 1s 246ms/step - loss: 0.7763 - accuracy: 0.8676 - val_loss: 19.5066 - val_accuracy: 0.0000e+00\n",
      "Epoch 29/70\n",
      "5/5 [==============================] - ETA: 0s - loss: 0.2143 - accuracy: 0.9632\n",
      "Epoch 29: val_loss did not improve from 18.12460\n",
      "5/5 [==============================] - 1s 251ms/step - loss: 0.2143 - accuracy: 0.9632 - val_loss: 18.5182 - val_accuracy: 0.1143\n",
      "Epoch 30/70\n",
      "5/5 [==============================] - ETA: 0s - loss: 0.0289 - accuracy: 0.9926\n",
      "Epoch 30: val_loss did not improve from 18.12460\n",
      "5/5 [==============================] - 1s 247ms/step - loss: 0.0289 - accuracy: 0.9926 - val_loss: 19.9982 - val_accuracy: 0.0571\n",
      "Epoch 31/70\n",
      "5/5 [==============================] - ETA: 0s - loss: 0.0052 - accuracy: 1.0000\n",
      "Epoch 31: val_loss did not improve from 18.12460\n",
      "5/5 [==============================] - 1s 255ms/step - loss: 0.0052 - accuracy: 1.0000 - val_loss: 20.0280 - val_accuracy: 0.0857\n",
      "Epoch 32/70\n",
      "5/5 [==============================] - ETA: 0s - loss: 0.0024 - accuracy: 1.0000\n",
      "Epoch 32: val_loss did not improve from 18.12460\n",
      "5/5 [==============================] - 1s 247ms/step - loss: 0.0024 - accuracy: 1.0000 - val_loss: 20.7889 - val_accuracy: 0.0571\n",
      "Epoch 33/70\n",
      "5/5 [==============================] - ETA: 0s - loss: 0.0417 - accuracy: 0.9853\n",
      "Epoch 33: val_loss did not improve from 18.12460\n",
      "5/5 [==============================] - 1s 248ms/step - loss: 0.0417 - accuracy: 0.9853 - val_loss: 23.0527 - val_accuracy: 0.0857\n",
      "Epoch 34/70\n",
      "5/5 [==============================] - ETA: 0s - loss: 4.8945e-04 - accuracy: 1.0000\n",
      "Epoch 34: val_loss did not improve from 18.12460\n",
      "5/5 [==============================] - 1s 249ms/step - loss: 4.8945e-04 - accuracy: 1.0000 - val_loss: 23.9260 - val_accuracy: 0.0571\n",
      "Epoch 35/70\n",
      "5/5 [==============================] - ETA: 0s - loss: 9.1443e-05 - accuracy: 1.0000\n",
      "Epoch 35: val_loss did not improve from 18.12460\n",
      "5/5 [==============================] - 1s 249ms/step - loss: 9.1443e-05 - accuracy: 1.0000 - val_loss: 24.4975 - val_accuracy: 0.0571\n",
      "Epoch 36/70\n",
      "5/5 [==============================] - ETA: 0s - loss: 8.1084e-05 - accuracy: 1.0000\n",
      "Epoch 36: val_loss did not improve from 18.12460\n",
      "5/5 [==============================] - 1s 248ms/step - loss: 8.1084e-05 - accuracy: 1.0000 - val_loss: 24.9734 - val_accuracy: 0.0571\n",
      "Epoch 37/70\n",
      "5/5 [==============================] - ETA: 0s - loss: 1.6236e-04 - accuracy: 1.0000\n",
      "Epoch 37: val_loss did not improve from 18.12460\n",
      "5/5 [==============================] - 1s 250ms/step - loss: 1.6236e-04 - accuracy: 1.0000 - val_loss: 25.7116 - val_accuracy: 0.0571\n",
      "Epoch 38/70\n",
      "5/5 [==============================] - ETA: 0s - loss: 2.4079e-04 - accuracy: 1.0000\n",
      "Epoch 38: val_loss did not improve from 18.12460\n",
      "5/5 [==============================] - 1s 251ms/step - loss: 2.4079e-04 - accuracy: 1.0000 - val_loss: 26.0488 - val_accuracy: 0.0571\n",
      "Epoch 39/70\n",
      "5/5 [==============================] - ETA: 0s - loss: 2.1067e-05 - accuracy: 1.0000\n",
      "Epoch 39: val_loss did not improve from 18.12460\n",
      "5/5 [==============================] - 1s 250ms/step - loss: 2.1067e-05 - accuracy: 1.0000 - val_loss: 26.6093 - val_accuracy: 0.0571\n",
      "Epoch 40/70\n",
      "5/5 [==============================] - ETA: 0s - loss: 1.0614 - accuracy: 0.9118\n",
      "Epoch 40: val_loss did not improve from 18.12460\n",
      "5/5 [==============================] - 1s 250ms/step - loss: 1.0614 - accuracy: 0.9118 - val_loss: 19.6835 - val_accuracy: 0.1143\n",
      "Epoch 41/70\n",
      "5/5 [==============================] - ETA: 0s - loss: 0.3404 - accuracy: 0.9559\n",
      "Epoch 41: val_loss did not improve from 18.12460\n",
      "5/5 [==============================] - 1s 252ms/step - loss: 0.3404 - accuracy: 0.9559 - val_loss: 21.3134 - val_accuracy: 0.1429\n",
      "Epoch 42/70\n",
      "5/5 [==============================] - ETA: 0s - loss: 0.0101 - accuracy: 0.9926\n",
      "Epoch 42: val_loss did not improve from 18.12460\n",
      "5/5 [==============================] - 1s 258ms/step - loss: 0.0101 - accuracy: 0.9926 - val_loss: 21.6626 - val_accuracy: 0.1429\n",
      "Epoch 43/70\n",
      "5/5 [==============================] - ETA: 0s - loss: 0.0037 - accuracy: 1.0000\n",
      "Epoch 43: val_loss did not improve from 18.12460\n",
      "5/5 [==============================] - 1s 248ms/step - loss: 0.0037 - accuracy: 1.0000 - val_loss: 23.2392 - val_accuracy: 0.1429\n",
      "Epoch 44/70\n",
      "5/5 [==============================] - ETA: 0s - loss: 0.0591 - accuracy: 0.9779\n",
      "Epoch 44: val_loss did not improve from 18.12460\n",
      "5/5 [==============================] - 1s 253ms/step - loss: 0.0591 - accuracy: 0.9779 - val_loss: 32.7217 - val_accuracy: 0.1429\n",
      "Epoch 45/70\n",
      "5/5 [==============================] - ETA: 0s - loss: 4.4708e-04 - accuracy: 1.0000\n",
      "Epoch 45: val_loss did not improve from 18.12460\n",
      "5/5 [==============================] - 1s 251ms/step - loss: 4.4708e-04 - accuracy: 1.0000 - val_loss: 33.2479 - val_accuracy: 0.1143\n",
      "Epoch 46/70\n",
      "5/5 [==============================] - ETA: 0s - loss: 0.0629 - accuracy: 0.9926\n",
      "Epoch 46: val_loss did not improve from 18.12460\n",
      "5/5 [==============================] - 1s 257ms/step - loss: 0.0629 - accuracy: 0.9926 - val_loss: 33.4721 - val_accuracy: 0.0000e+00\n",
      "Epoch 47/70\n",
      "5/5 [==============================] - ETA: 0s - loss: 5.3275e-04 - accuracy: 1.0000\n",
      "Epoch 47: val_loss did not improve from 18.12460\n",
      "5/5 [==============================] - 1s 263ms/step - loss: 5.3275e-04 - accuracy: 1.0000 - val_loss: 34.6830 - val_accuracy: 0.0000e+00\n",
      "Epoch 48/70\n",
      "5/5 [==============================] - ETA: 0s - loss: 3.1590e-04 - accuracy: 1.0000\n",
      "Epoch 48: val_loss did not improve from 18.12460\n",
      "5/5 [==============================] - 1s 262ms/step - loss: 3.1590e-04 - accuracy: 1.0000 - val_loss: 35.4795 - val_accuracy: 0.0000e+00\n",
      "Epoch 49/70\n",
      "5/5 [==============================] - ETA: 0s - loss: 0.3376 - accuracy: 0.9559\n",
      "Epoch 49: val_loss did not improve from 18.12460\n",
      "5/5 [==============================] - 1s 265ms/step - loss: 0.3376 - accuracy: 0.9559 - val_loss: 36.1206 - val_accuracy: 0.1143\n",
      "Epoch 50/70\n",
      "5/5 [==============================] - ETA: 0s - loss: 0.0036 - accuracy: 1.0000\n",
      "Epoch 50: val_loss did not improve from 18.12460\n",
      "5/5 [==============================] - 1s 260ms/step - loss: 0.0036 - accuracy: 1.0000 - val_loss: 38.5339 - val_accuracy: 0.0286\n",
      "Epoch 51/70\n",
      "5/5 [==============================] - ETA: 0s - loss: 0.0015 - accuracy: 1.0000\n",
      "Epoch 51: val_loss did not improve from 18.12460\n",
      "5/5 [==============================] - 1s 253ms/step - loss: 0.0015 - accuracy: 1.0000 - val_loss: 38.6374 - val_accuracy: 0.0286\n",
      "Epoch 52/70\n",
      "5/5 [==============================] - ETA: 0s - loss: 4.6587e-04 - accuracy: 1.0000\n",
      "Epoch 52: val_loss did not improve from 18.12460\n",
      "5/5 [==============================] - 1s 254ms/step - loss: 4.6587e-04 - accuracy: 1.0000 - val_loss: 39.2341 - val_accuracy: 0.0286\n",
      "Epoch 53/70\n",
      "5/5 [==============================] - ETA: 0s - loss: 2.3306e-04 - accuracy: 1.0000\n",
      "Epoch 53: val_loss did not improve from 18.12460\n",
      "5/5 [==============================] - 1s 254ms/step - loss: 2.3306e-04 - accuracy: 1.0000 - val_loss: 39.5473 - val_accuracy: 0.0286\n",
      "Epoch 54/70\n",
      "5/5 [==============================] - ETA: 0s - loss: 7.3660e-04 - accuracy: 1.0000\n",
      "Epoch 54: val_loss did not improve from 18.12460\n",
      "5/5 [==============================] - 1s 257ms/step - loss: 7.3660e-04 - accuracy: 1.0000 - val_loss: 40.0372 - val_accuracy: 0.0286\n",
      "Epoch 55/70\n",
      "5/5 [==============================] - ETA: 0s - loss: 0.2271 - accuracy: 0.9485\n",
      "Epoch 55: val_loss did not improve from 18.12460\n",
      "5/5 [==============================] - 1s 265ms/step - loss: 0.2271 - accuracy: 0.9485 - val_loss: 36.1374 - val_accuracy: 0.0286\n",
      "Epoch 56/70\n",
      "5/5 [==============================] - ETA: 0s - loss: 0.0328 - accuracy: 0.9926\n",
      "Epoch 56: val_loss did not improve from 18.12460\n",
      "5/5 [==============================] - 1s 255ms/step - loss: 0.0328 - accuracy: 0.9926 - val_loss: 37.4950 - val_accuracy: 0.0571\n",
      "Epoch 57/70\n",
      "5/5 [==============================] - ETA: 0s - loss: 0.0068 - accuracy: 1.0000  \n",
      "Epoch 57: val_loss did not improve from 18.12460\n",
      "5/5 [==============================] - 1s 257ms/step - loss: 0.0068 - accuracy: 1.0000 - val_loss: 45.8931 - val_accuracy: 0.0571\n",
      "Epoch 58/70\n",
      "5/5 [==============================] - ETA: 0s - loss: 1.8206e-05 - accuracy: 1.0000\n",
      "Epoch 58: val_loss did not improve from 18.12460\n",
      "5/5 [==============================] - 1s 256ms/step - loss: 1.8206e-05 - accuracy: 1.0000 - val_loss: 46.3249 - val_accuracy: 0.0571\n",
      "Epoch 59/70\n",
      "5/5 [==============================] - ETA: 0s - loss: 2.0228e-04 - accuracy: 1.0000\n",
      "Epoch 59: val_loss did not improve from 18.12460\n",
      "5/5 [==============================] - 1s 255ms/step - loss: 2.0228e-04 - accuracy: 1.0000 - val_loss: 46.9693 - val_accuracy: 0.0571\n",
      "Epoch 60/70\n",
      "5/5 [==============================] - ETA: 0s - loss: 5.1311e-05 - accuracy: 1.0000\n",
      "Epoch 60: val_loss did not improve from 18.12460\n",
      "5/5 [==============================] - 1s 255ms/step - loss: 5.1311e-05 - accuracy: 1.0000 - val_loss: 47.3517 - val_accuracy: 0.0571\n",
      "Epoch 61/70\n",
      "5/5 [==============================] - ETA: 0s - loss: 7.6396e-06 - accuracy: 1.0000\n",
      "Epoch 61: val_loss did not improve from 18.12460\n",
      "5/5 [==============================] - 1s 253ms/step - loss: 7.6396e-06 - accuracy: 1.0000 - val_loss: 47.7522 - val_accuracy: 0.0571\n",
      "Epoch 62/70\n",
      "5/5 [==============================] - ETA: 0s - loss: 2.2838e-05 - accuracy: 1.0000\n",
      "Epoch 62: val_loss did not improve from 18.12460\n",
      "5/5 [==============================] - 1s 260ms/step - loss: 2.2838e-05 - accuracy: 1.0000 - val_loss: 48.0846 - val_accuracy: 0.0571\n",
      "Epoch 63/70\n",
      "5/5 [==============================] - ETA: 0s - loss: 9.1055e-04 - accuracy: 1.0000\n",
      "Epoch 63: val_loss did not improve from 18.12460\n",
      "5/5 [==============================] - 1s 256ms/step - loss: 9.1055e-04 - accuracy: 1.0000 - val_loss: 47.6398 - val_accuracy: 0.0571\n",
      "Epoch 64/70\n",
      "5/5 [==============================] - ETA: 0s - loss: 4.1678e-04 - accuracy: 1.0000\n",
      "Epoch 64: val_loss did not improve from 18.12460\n",
      "5/5 [==============================] - 1s 255ms/step - loss: 4.1678e-04 - accuracy: 1.0000 - val_loss: 49.4939 - val_accuracy: 0.0286\n",
      "Epoch 65/70\n",
      "5/5 [==============================] - ETA: 0s - loss: 0.8219 - accuracy: 0.8824\n",
      "Epoch 65: val_loss did not improve from 18.12460\n",
      "5/5 [==============================] - 1s 251ms/step - loss: 0.8219 - accuracy: 0.8824 - val_loss: 40.4839 - val_accuracy: 0.0286\n",
      "Epoch 66/70\n",
      "5/5 [==============================] - ETA: 0s - loss: 0.0152 - accuracy: 0.9926\n",
      "Epoch 66: val_loss did not improve from 18.12460\n",
      "5/5 [==============================] - 1s 256ms/step - loss: 0.0152 - accuracy: 0.9926 - val_loss: 42.5487 - val_accuracy: 0.0286\n",
      "Epoch 67/70\n",
      "5/5 [==============================] - ETA: 0s - loss: 0.0030 - accuracy: 1.0000\n",
      "Epoch 67: val_loss did not improve from 18.12460\n",
      "5/5 [==============================] - 1s 255ms/step - loss: 0.0030 - accuracy: 1.0000 - val_loss: 42.1111 - val_accuracy: 0.0286\n",
      "Epoch 68/70\n",
      "5/5 [==============================] - ETA: 0s - loss: 2.5997e-04 - accuracy: 1.0000\n",
      "Epoch 68: val_loss did not improve from 18.12460\n",
      "5/5 [==============================] - 1s 257ms/step - loss: 2.5997e-04 - accuracy: 1.0000 - val_loss: 42.8826 - val_accuracy: 0.0286\n",
      "Epoch 69/70\n",
      "5/5 [==============================] - ETA: 0s - loss: 3.0436e-04 - accuracy: 1.0000\n",
      "Epoch 69: val_loss did not improve from 18.12460\n",
      "5/5 [==============================] - 1s 252ms/step - loss: 3.0436e-04 - accuracy: 1.0000 - val_loss: 43.2095 - val_accuracy: 0.0286\n",
      "Epoch 70/70\n",
      "5/5 [==============================] - ETA: 0s - loss: 9.0388e-05 - accuracy: 1.0000\n",
      "Epoch 70: val_loss did not improve from 18.12460\n",
      "5/5 [==============================] - 1s 253ms/step - loss: 9.0388e-05 - accuracy: 1.0000 - val_loss: 43.9131 - val_accuracy: 0.0286\n"
     ]
    }
   ],
   "source": [
    "# Step 4: Train the model\n",
    "history = model_joueur_conv.train(X_train, y_train)"
   ]
  },
  {
   "cell_type": "code",
   "execution_count": 41,
   "metadata": {},
   "outputs": [
    {
     "name": "stdout",
     "output_type": "stream",
     "text": [
      "2/2 [==============================] - 0s 60ms/step - loss: 10.8995 - accuracy: 0.3488\n",
      "Loss:  10.899523735046387\n",
      "Accuracy:  0.3488371968269348\n"
     ]
    }
   ],
   "source": [
    "# Step 5: evaluate\n",
    "loss, accuracy = model_joueur_conv.evaluate(X_test, y_test)"
   ]
  },
  {
   "cell_type": "code",
   "execution_count": 29,
   "metadata": {},
   "outputs": [
    {
     "data": {
      "text/plain": [
       "(43, 50, 750, 3)"
      ]
     },
     "execution_count": 29,
     "metadata": {},
     "output_type": "execute_result"
    }
   ],
   "source": [
    "X_test.shape"
   ]
  },
  {
   "cell_type": "code",
   "execution_count": 30,
   "metadata": {},
   "outputs": [
    {
     "data": {
      "text/plain": [
       "(1, 50, 750, 3)"
      ]
     },
     "execution_count": 30,
     "metadata": {},
     "output_type": "execute_result"
    }
   ],
   "source": [
    "example_input = np.reshape(X_test[0], (1, 50, 750, 3))\n",
    "example_input.shape"
   ]
  },
  {
   "cell_type": "code",
   "execution_count": 31,
   "metadata": {},
   "outputs": [
    {
     "name": "stdout",
     "output_type": "stream",
     "text": [
      "1/1 [==============================] - 0s 97ms/step\n"
     ]
    },
    {
     "data": {
      "text/plain": [
       "array([1], dtype=int64)"
      ]
     },
     "execution_count": 31,
     "metadata": {},
     "output_type": "execute_result"
    }
   ],
   "source": [
    "# Step 6: predict\n",
    "y_pred = model_joueur_conv.predict(example_input)\n",
    "y_pred"
   ]
  },
  {
   "cell_type": "code",
   "execution_count": 32,
   "metadata": {},
   "outputs": [],
   "source": [
    "# Final step: save the model\n",
    "model_joueur_conv.save_model('saved_models/model_1_joueur_bas_conv.h5')"
   ]
  }
 ],
 "metadata": {
  "kernelspec": {
   "display_name": "base",
   "language": "python",
   "name": "python3"
  },
  "language_info": {
   "codemirror_mode": {
    "name": "ipython",
    "version": 3
   },
   "file_extension": ".py",
   "mimetype": "text/x-python",
   "name": "python",
   "nbconvert_exporter": "python",
   "pygments_lexer": "ipython3",
   "version": "3.9.13"
  },
  "orig_nbformat": 4
 },
 "nbformat": 4,
 "nbformat_minor": 2
}
