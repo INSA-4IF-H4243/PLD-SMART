{
 "cells": [
  {
   "cell_type": "code",
   "execution_count": 1,
   "metadata": {},
   "outputs": [],
   "source": [
    "from smart.model import ModelJoueurConvolution\n",
    "import tensorflow as tf\n",
    "from keras.layers import Conv2D, MaxPooling2D, Flatten, Dense, BatchNormalization, Dropout\n",
    "import numpy as np"
   ]
  },
  {
   "cell_type": "code",
   "execution_count": 2,
   "metadata": {},
   "outputs": [],
   "source": [
    "path_dataset = 'img/JHaut'"
   ]
  },
  {
   "cell_type": "code",
   "execution_count": 3,
   "metadata": {},
   "outputs": [],
   "source": [
    "layers =  [\n",
    "    tf.keras.Input(shape = (50, 750, 3)), # 50, 15*50, 3\n",
    "    Conv2D(filters=16, kernel_size=(3, 3), activation=\"relu\"),\n",
    "    BatchNormalization(),\n",
    "    MaxPooling2D(pool_size=(2, 2)),\n",
    "    Dropout(0.2),\n",
    "        \n",
    "    Conv2D(filters=32, kernel_size=(3, 3), activation=\"relu\"),\n",
    "    BatchNormalization(),\n",
    "    MaxPooling2D(pool_size=(2, 2)),\n",
    "    Dropout(0.2),\n",
    "        \n",
    "    Conv2D(filters=64, kernel_size=(3, 3), activation=\"relu\"),\n",
    "    BatchNormalization(),\n",
    "    MaxPooling2D(pool_size=(2, 2)),\n",
    "    Dropout(0.2),\n",
    "        \n",
    "    Flatten(),\n",
    "    Dense(units=128, activation=\"relu\"),\n",
    "    Dense(units=4, activation=\"softmax\"),\n",
    "]"
   ]
  },
  {
   "cell_type": "code",
   "execution_count": 4,
   "metadata": {},
   "outputs": [
    {
     "name": "stdout",
     "output_type": "stream",
     "text": [
      "Model: \"sequential\"\n",
      "_________________________________________________________________\n",
      " Layer (type)                Output Shape              Param #   \n",
      "=================================================================\n",
      " conv2d (Conv2D)             (None, 48, 748, 16)       448       \n",
      "                                                                 \n",
      " batch_normalization (BatchN  (None, 48, 748, 16)      64        \n",
      " ormalization)                                                   \n",
      "                                                                 \n",
      " max_pooling2d (MaxPooling2D  (None, 24, 374, 16)      0         \n",
      " )                                                               \n",
      "                                                                 \n",
      " dropout (Dropout)           (None, 24, 374, 16)       0         \n",
      "                                                                 \n",
      " conv2d_1 (Conv2D)           (None, 22, 372, 32)       4640      \n",
      "                                                                 \n",
      " batch_normalization_1 (Batc  (None, 22, 372, 32)      128       \n",
      " hNormalization)                                                 \n",
      "                                                                 \n",
      " max_pooling2d_1 (MaxPooling  (None, 11, 186, 32)      0         \n",
      " 2D)                                                             \n",
      "                                                                 \n",
      " dropout_1 (Dropout)         (None, 11, 186, 32)       0         \n",
      "                                                                 \n",
      " conv2d_2 (Conv2D)           (None, 9, 184, 64)        18496     \n",
      "                                                                 \n",
      " batch_normalization_2 (Batc  (None, 9, 184, 64)       256       \n",
      " hNormalization)                                                 \n",
      "                                                                 \n",
      " max_pooling2d_2 (MaxPooling  (None, 4, 92, 64)        0         \n",
      " 2D)                                                             \n",
      "                                                                 \n",
      " dropout_2 (Dropout)         (None, 4, 92, 64)         0         \n",
      "                                                                 \n",
      " flatten (Flatten)           (None, 23552)             0         \n",
      "                                                                 \n",
      " dense (Dense)               (None, 128)               3014784   \n",
      "                                                                 \n",
      " dense_1 (Dense)             (None, 4)                 516       \n",
      "                                                                 \n",
      "=================================================================\n",
      "Total params: 3,039,332\n",
      "Trainable params: 3,039,108\n",
      "Non-trainable params: 224\n",
      "_________________________________________________________________\n"
     ]
    }
   ],
   "source": [
    "model_joueur_conv = ModelJoueurConvolution.load_model_from_layers(layers)\n",
    "model_joueur_conv.summary_model"
   ]
  },
  {
   "cell_type": "code",
   "execution_count": 5,
   "metadata": {},
   "outputs": [],
   "source": [
    "# Step 1: Load the data\n",
    "list_videos, y = model_joueur_conv.analyse_sequence_frame(path_data_frame=path_dataset)"
   ]
  },
  {
   "cell_type": "code",
   "execution_count": 6,
   "metadata": {},
   "outputs": [
    {
     "data": {
      "text/plain": [
       "array([0, 0, 0, 0, 0, 0, 0, 0, 0, 0, 0, 0, 0, 0, 0, 0, 1, 1, 1, 1, 1, 1,\n",
       "       1, 1, 1, 1, 1, 1, 1, 1, 1, 1, 1, 1, 1, 1, 1, 1, 1, 1, 2, 2, 2, 2,\n",
       "       2, 2, 2, 2, 2, 2, 2, 2, 2, 2, 3, 3, 3, 3, 3, 3, 3, 3, 3, 3, 3, 3,\n",
       "       3], dtype=int64)"
      ]
     },
     "execution_count": 6,
     "metadata": {},
     "output_type": "execute_result"
    }
   ],
   "source": [
    "# Step 2: Label encoder\n",
    "y = model_joueur_conv.label_encoder(y)\n",
    "y"
   ]
  },
  {
   "cell_type": "code",
   "execution_count": 8,
   "metadata": {},
   "outputs": [
    {
     "data": {
      "text/plain": [
       "(14, 50, 750, 3)"
      ]
     },
     "execution_count": 8,
     "metadata": {},
     "output_type": "execute_result"
    }
   ],
   "source": [
    "# Step 3: Split the data\n",
    "X_train, y_train, X_test, y_test = model_joueur_conv.split_train_test(list_videos, y)\n",
    "X_test.shape"
   ]
  },
  {
   "cell_type": "code",
   "execution_count": 9,
   "metadata": {},
   "outputs": [],
   "source": [
    "# Step 4: Normalize the data\n",
    "X_train, X_test = model_joueur_conv.normalize_input(X_train, X_test)"
   ]
  },
  {
   "cell_type": "code",
   "execution_count": 10,
   "metadata": {},
   "outputs": [
    {
     "name": "stdout",
     "output_type": "stream",
     "text": [
      "Epoch 1/70\n",
      "2/2 [==============================] - ETA: 0s - loss: 27.9398 - accuracy: 0.2619\n",
      "Epoch 1: val_loss improved from inf to 10.58330, saving model to checkpoints\\Weights-001--10.58330.hdf5\n",
      "2/2 [==============================] - 3s 819ms/step - loss: 27.9398 - accuracy: 0.2619 - val_loss: 10.5833 - val_accuracy: 0.0000e+00\n",
      "Epoch 2/70\n",
      "2/2 [==============================] - ETA: 0s - loss: 97.7383 - accuracy: 0.3095 \n",
      "Epoch 2: val_loss improved from 10.58330 to 4.38824, saving model to checkpoints\\Weights-002--4.38824.hdf5\n",
      "2/2 [==============================] - 1s 360ms/step - loss: 97.7383 - accuracy: 0.3095 - val_loss: 4.3882 - val_accuracy: 0.0000e+00\n",
      "Epoch 3/70\n",
      "2/2 [==============================] - ETA: 0s - loss: 20.3291 - accuracy: 0.4286\n",
      "Epoch 3: val_loss improved from 4.38824 to 3.21795, saving model to checkpoints\\Weights-003--3.21795.hdf5\n",
      "2/2 [==============================] - 1s 335ms/step - loss: 20.3291 - accuracy: 0.4286 - val_loss: 3.2180 - val_accuracy: 0.0000e+00\n",
      "Epoch 4/70\n",
      "2/2 [==============================] - ETA: 0s - loss: 8.5806 - accuracy: 0.4524 \n",
      "Epoch 4: val_loss improved from 3.21795 to 2.73620, saving model to checkpoints\\Weights-004--2.73620.hdf5\n",
      "2/2 [==============================] - 1s 374ms/step - loss: 8.5806 - accuracy: 0.4524 - val_loss: 2.7362 - val_accuracy: 0.0000e+00\n",
      "Epoch 5/70\n",
      "2/2 [==============================] - ETA: 0s - loss: 2.8198 - accuracy: 0.7381\n",
      "Epoch 5: val_loss improved from 2.73620 to 2.54298, saving model to checkpoints\\Weights-005--2.54298.hdf5\n",
      "2/2 [==============================] - 1s 376ms/step - loss: 2.8198 - accuracy: 0.7381 - val_loss: 2.5430 - val_accuracy: 0.0000e+00\n",
      "Epoch 6/70\n",
      "2/2 [==============================] - ETA: 0s - loss: 3.9113 - accuracy: 0.6190\n",
      "Epoch 6: val_loss did not improve from 2.54298\n",
      "2/2 [==============================] - 1s 314ms/step - loss: 3.9113 - accuracy: 0.6190 - val_loss: 2.7916 - val_accuracy: 0.0000e+00\n",
      "Epoch 7/70\n",
      "2/2 [==============================] - ETA: 0s - loss: 8.0442 - accuracy: 0.4048\n",
      "Epoch 7: val_loss improved from 2.54298 to 2.43068, saving model to checkpoints\\Weights-007--2.43068.hdf5\n",
      "2/2 [==============================] - 1s 278ms/step - loss: 8.0442 - accuracy: 0.4048 - val_loss: 2.4307 - val_accuracy: 0.0000e+00\n",
      "Epoch 8/70\n",
      "2/2 [==============================] - ETA: 0s - loss: 3.5030 - accuracy: 0.6905\n",
      "Epoch 8: val_loss improved from 2.43068 to 2.13454, saving model to checkpoints\\Weights-008--2.13454.hdf5\n",
      "2/2 [==============================] - 1s 321ms/step - loss: 3.5030 - accuracy: 0.6905 - val_loss: 2.1345 - val_accuracy: 0.0000e+00\n",
      "Epoch 9/70\n",
      "2/2 [==============================] - ETA: 0s - loss: 0.5878 - accuracy: 0.8571\n",
      "Epoch 9: val_loss did not improve from 2.13454\n",
      "2/2 [==============================] - 1s 316ms/step - loss: 0.5878 - accuracy: 0.8571 - val_loss: 2.1578 - val_accuracy: 0.0000e+00\n",
      "Epoch 10/70\n",
      "2/2 [==============================] - ETA: 0s - loss: 0.7331 - accuracy: 0.8095\n",
      "Epoch 10: val_loss did not improve from 2.13454\n",
      "2/2 [==============================] - 1s 307ms/step - loss: 0.7331 - accuracy: 0.8095 - val_loss: 2.1876 - val_accuracy: 0.0000e+00\n",
      "Epoch 11/70\n",
      "2/2 [==============================] - ETA: 0s - loss: 1.6740 - accuracy: 0.7143\n",
      "Epoch 11: val_loss improved from 2.13454 to 2.11088, saving model to checkpoints\\Weights-011--2.11088.hdf5\n",
      "2/2 [==============================] - 1s 265ms/step - loss: 1.6740 - accuracy: 0.7143 - val_loss: 2.1109 - val_accuracy: 0.0000e+00\n",
      "Epoch 12/70\n",
      "2/2 [==============================] - ETA: 0s - loss: 2.0562 - accuracy: 0.6667\n",
      "Epoch 12: val_loss improved from 2.11088 to 1.96827, saving model to checkpoints\\Weights-012--1.96827.hdf5\n",
      "2/2 [==============================] - 1s 362ms/step - loss: 2.0562 - accuracy: 0.6667 - val_loss: 1.9683 - val_accuracy: 0.0000e+00\n",
      "Epoch 13/70\n",
      "2/2 [==============================] - ETA: 0s - loss: 0.1711 - accuracy: 0.9524\n",
      "Epoch 13: val_loss did not improve from 1.96827\n",
      "2/2 [==============================] - 1s 218ms/step - loss: 0.1711 - accuracy: 0.9524 - val_loss: 1.9686 - val_accuracy: 0.0000e+00\n",
      "Epoch 14/70\n",
      "2/2 [==============================] - ETA: 0s - loss: 0.1740 - accuracy: 0.9762\n",
      "Epoch 14: val_loss did not improve from 1.96827\n",
      "2/2 [==============================] - 1s 312ms/step - loss: 0.1740 - accuracy: 0.9762 - val_loss: 1.9770 - val_accuracy: 0.0000e+00\n",
      "Epoch 15/70\n",
      "2/2 [==============================] - ETA: 0s - loss: 0.0034 - accuracy: 1.0000\n",
      "Epoch 15: val_loss did not improve from 1.96827\n",
      "2/2 [==============================] - 1s 226ms/step - loss: 0.0034 - accuracy: 1.0000 - val_loss: 2.0048 - val_accuracy: 0.0000e+00\n",
      "Epoch 16/70\n",
      "2/2 [==============================] - ETA: 0s - loss: 0.0198 - accuracy: 0.9762\n",
      "Epoch 16: val_loss did not improve from 1.96827\n",
      "2/2 [==============================] - 1s 273ms/step - loss: 0.0198 - accuracy: 0.9762 - val_loss: 2.0172 - val_accuracy: 0.0000e+00\n",
      "Epoch 17/70\n",
      "2/2 [==============================] - ETA: 0s - loss: 0.0027 - accuracy: 1.0000\n",
      "Epoch 17: val_loss did not improve from 1.96827\n",
      "2/2 [==============================] - 1s 211ms/step - loss: 0.0027 - accuracy: 1.0000 - val_loss: 2.0422 - val_accuracy: 0.0000e+00\n",
      "Epoch 18/70\n",
      "2/2 [==============================] - ETA: 0s - loss: 0.0018 - accuracy: 1.0000\n",
      "Epoch 18: val_loss did not improve from 1.96827\n",
      "2/2 [==============================] - 1s 298ms/step - loss: 0.0018 - accuracy: 1.0000 - val_loss: 2.0705 - val_accuracy: 0.0000e+00\n",
      "Epoch 19/70\n",
      "2/2 [==============================] - ETA: 0s - loss: 0.0070 - accuracy: 1.0000\n",
      "Epoch 19: val_loss did not improve from 1.96827\n",
      "2/2 [==============================] - 1s 318ms/step - loss: 0.0070 - accuracy: 1.0000 - val_loss: 2.1171 - val_accuracy: 0.0000e+00\n",
      "Epoch 20/70\n",
      "2/2 [==============================] - ETA: 0s - loss: 0.0013 - accuracy: 1.0000\n",
      "Epoch 20: val_loss did not improve from 1.96827\n",
      "2/2 [==============================] - 1s 257ms/step - loss: 0.0013 - accuracy: 1.0000 - val_loss: 2.1607 - val_accuracy: 0.0000e+00\n",
      "Epoch 21/70\n",
      "2/2 [==============================] - ETA: 0s - loss: 7.7213e-04 - accuracy: 1.0000\n",
      "Epoch 21: val_loss did not improve from 1.96827\n",
      "2/2 [==============================] - 1s 314ms/step - loss: 7.7213e-04 - accuracy: 1.0000 - val_loss: 2.2076 - val_accuracy: 0.0000e+00\n",
      "Epoch 22/70\n",
      "2/2 [==============================] - ETA: 0s - loss: 7.8268e-04 - accuracy: 1.0000\n",
      "Epoch 22: val_loss did not improve from 1.96827\n",
      "2/2 [==============================] - 1s 328ms/step - loss: 7.8268e-04 - accuracy: 1.0000 - val_loss: 2.2680 - val_accuracy: 0.0000e+00\n",
      "Epoch 23/70\n",
      "2/2 [==============================] - ETA: 0s - loss: 0.0012 - accuracy: 1.0000    \n",
      "Epoch 23: val_loss did not improve from 1.96827\n",
      "2/2 [==============================] - 1s 293ms/step - loss: 0.0012 - accuracy: 1.0000 - val_loss: 2.3317 - val_accuracy: 0.0000e+00\n",
      "Epoch 24/70\n",
      "2/2 [==============================] - ETA: 0s - loss: 0.0013 - accuracy: 1.0000\n",
      "Epoch 24: val_loss did not improve from 1.96827\n",
      "2/2 [==============================] - 1s 325ms/step - loss: 0.0013 - accuracy: 1.0000 - val_loss: 2.4129 - val_accuracy: 0.0000e+00\n",
      "Epoch 25/70\n",
      "2/2 [==============================] - ETA: 0s - loss: 0.0013 - accuracy: 1.0000\n",
      "Epoch 25: val_loss did not improve from 1.96827\n",
      "2/2 [==============================] - 1s 270ms/step - loss: 0.0013 - accuracy: 1.0000 - val_loss: 2.4909 - val_accuracy: 0.0000e+00\n",
      "Epoch 26/70\n",
      "2/2 [==============================] - ETA: 0s - loss: 0.0019 - accuracy: 1.0000\n",
      "Epoch 26: val_loss did not improve from 1.96827\n",
      "2/2 [==============================] - 1s 293ms/step - loss: 0.0019 - accuracy: 1.0000 - val_loss: 2.5723 - val_accuracy: 0.0000e+00\n",
      "Epoch 27/70\n",
      "2/2 [==============================] - ETA: 0s - loss: 0.0037 - accuracy: 1.0000    \n",
      "Epoch 27: val_loss did not improve from 1.96827\n",
      "2/2 [==============================] - 1s 285ms/step - loss: 0.0037 - accuracy: 1.0000 - val_loss: 2.5968 - val_accuracy: 0.0000e+00\n",
      "Epoch 28/70\n",
      "2/2 [==============================] - ETA: 0s - loss: 0.0347 - accuracy: 0.9762\n",
      "Epoch 28: val_loss did not improve from 1.96827\n",
      "2/2 [==============================] - 1s 350ms/step - loss: 0.0347 - accuracy: 0.9762 - val_loss: 2.7789 - val_accuracy: 0.0000e+00\n",
      "Epoch 29/70\n",
      "2/2 [==============================] - ETA: 0s - loss: 0.0076 - accuracy: 1.0000\n",
      "Epoch 29: val_loss did not improve from 1.96827\n",
      "2/2 [==============================] - 1s 343ms/step - loss: 0.0076 - accuracy: 1.0000 - val_loss: 2.7035 - val_accuracy: 0.0000e+00\n",
      "Epoch 30/70\n",
      "2/2 [==============================] - ETA: 0s - loss: 1.4866e-04 - accuracy: 1.0000\n",
      "Epoch 30: val_loss did not improve from 1.96827\n",
      "2/2 [==============================] - 1s 291ms/step - loss: 1.4866e-04 - accuracy: 1.0000 - val_loss: 2.7762 - val_accuracy: 0.0000e+00\n",
      "Epoch 31/70\n",
      "2/2 [==============================] - ETA: 0s - loss: 1.1678e-04 - accuracy: 1.0000\n",
      "Epoch 31: val_loss did not improve from 1.96827\n",
      "2/2 [==============================] - 1s 285ms/step - loss: 1.1678e-04 - accuracy: 1.0000 - val_loss: 2.8437 - val_accuracy: 0.0000e+00\n",
      "Epoch 32/70\n",
      "2/2 [==============================] - ETA: 0s - loss: 1.7880e-04 - accuracy: 1.0000\n",
      "Epoch 32: val_loss did not improve from 1.96827\n",
      "2/2 [==============================] - 1s 301ms/step - loss: 1.7880e-04 - accuracy: 1.0000 - val_loss: 2.9119 - val_accuracy: 0.0000e+00\n",
      "Epoch 33/70\n",
      "2/2 [==============================] - ETA: 0s - loss: 2.6466e-04 - accuracy: 1.0000\n",
      "Epoch 33: val_loss did not improve from 1.96827\n",
      "2/2 [==============================] - 1s 294ms/step - loss: 2.6466e-04 - accuracy: 1.0000 - val_loss: 2.9854 - val_accuracy: 0.0000e+00\n",
      "Epoch 34/70\n",
      "2/2 [==============================] - ETA: 0s - loss: 5.0896e-04 - accuracy: 1.0000\n",
      "Epoch 34: val_loss did not improve from 1.96827\n",
      "2/2 [==============================] - 1s 288ms/step - loss: 5.0896e-04 - accuracy: 1.0000 - val_loss: 3.0393 - val_accuracy: 0.0000e+00\n",
      "Epoch 35/70\n",
      "2/2 [==============================] - ETA: 0s - loss: 1.5799e-04 - accuracy: 1.0000\n",
      "Epoch 35: val_loss did not improve from 1.96827\n",
      "2/2 [==============================] - 1s 313ms/step - loss: 1.5799e-04 - accuracy: 1.0000 - val_loss: 3.0933 - val_accuracy: 0.0000e+00\n",
      "Epoch 36/70\n",
      "2/2 [==============================] - ETA: 0s - loss: 1.4571e-04 - accuracy: 1.0000\n",
      "Epoch 36: val_loss did not improve from 1.96827\n",
      "2/2 [==============================] - 1s 269ms/step - loss: 1.4571e-04 - accuracy: 1.0000 - val_loss: 3.1466 - val_accuracy: 0.0000e+00\n",
      "Epoch 37/70\n",
      "2/2 [==============================] - ETA: 0s - loss: 3.2388e-04 - accuracy: 1.0000\n",
      "Epoch 37: val_loss did not improve from 1.96827\n",
      "2/2 [==============================] - 1s 291ms/step - loss: 3.2388e-04 - accuracy: 1.0000 - val_loss: 3.2046 - val_accuracy: 0.0000e+00\n",
      "Epoch 38/70\n",
      "2/2 [==============================] - ETA: 0s - loss: 2.3847e-04 - accuracy: 1.0000\n",
      "Epoch 38: val_loss did not improve from 1.96827\n",
      "2/2 [==============================] - 1s 266ms/step - loss: 2.3847e-04 - accuracy: 1.0000 - val_loss: 3.2514 - val_accuracy: 0.0000e+00\n",
      "Epoch 39/70\n",
      "2/2 [==============================] - ETA: 0s - loss: 2.4057e-04 - accuracy: 1.0000\n",
      "Epoch 39: val_loss did not improve from 1.96827\n",
      "2/2 [==============================] - 1s 248ms/step - loss: 2.4057e-04 - accuracy: 1.0000 - val_loss: 3.3354 - val_accuracy: 0.0000e+00\n",
      "Epoch 40/70\n",
      "2/2 [==============================] - ETA: 0s - loss: 9.5202e-05 - accuracy: 1.0000\n",
      "Epoch 40: val_loss did not improve from 1.96827\n",
      "2/2 [==============================] - 1s 288ms/step - loss: 9.5202e-05 - accuracy: 1.0000 - val_loss: 3.3852 - val_accuracy: 0.0000e+00\n",
      "Epoch 41/70\n",
      "2/2 [==============================] - ETA: 0s - loss: 1.5115e-04 - accuracy: 1.0000\n",
      "Epoch 41: val_loss did not improve from 1.96827\n",
      "2/2 [==============================] - 1s 204ms/step - loss: 1.5115e-04 - accuracy: 1.0000 - val_loss: 3.4345 - val_accuracy: 0.0000e+00\n",
      "Epoch 42/70\n",
      "2/2 [==============================] - ETA: 0s - loss: 1.4813e-04 - accuracy: 1.0000\n",
      "Epoch 42: val_loss did not improve from 1.96827\n",
      "2/2 [==============================] - 1s 198ms/step - loss: 1.4813e-04 - accuracy: 1.0000 - val_loss: 3.4492 - val_accuracy: 0.0000e+00\n",
      "Epoch 43/70\n",
      "2/2 [==============================] - ETA: 0s - loss: 1.8387e-04 - accuracy: 1.0000\n",
      "Epoch 43: val_loss did not improve from 1.96827\n",
      "2/2 [==============================] - 1s 205ms/step - loss: 1.8387e-04 - accuracy: 1.0000 - val_loss: 3.5130 - val_accuracy: 0.0000e+00\n",
      "Epoch 44/70\n",
      "2/2 [==============================] - ETA: 0s - loss: 1.0707e-04 - accuracy: 1.0000\n",
      "Epoch 44: val_loss did not improve from 1.96827\n",
      "2/2 [==============================] - 1s 205ms/step - loss: 1.0707e-04 - accuracy: 1.0000 - val_loss: 3.5316 - val_accuracy: 0.0000e+00\n",
      "Epoch 45/70\n",
      "2/2 [==============================] - ETA: 0s - loss: 8.4270e-05 - accuracy: 1.0000\n",
      "Epoch 45: val_loss did not improve from 1.96827\n",
      "2/2 [==============================] - 1s 204ms/step - loss: 8.4270e-05 - accuracy: 1.0000 - val_loss: 3.5849 - val_accuracy: 0.0000e+00\n",
      "Epoch 46/70\n",
      "2/2 [==============================] - ETA: 0s - loss: 6.4682e-05 - accuracy: 1.0000\n",
      "Epoch 46: val_loss did not improve from 1.96827\n",
      "2/2 [==============================] - 1s 311ms/step - loss: 6.4682e-05 - accuracy: 1.0000 - val_loss: 3.6156 - val_accuracy: 0.0000e+00\n",
      "Epoch 47/70\n",
      "2/2 [==============================] - ETA: 0s - loss: 1.7176e-04 - accuracy: 1.0000\n",
      "Epoch 47: val_loss did not improve from 1.96827\n",
      "2/2 [==============================] - 1s 310ms/step - loss: 1.7176e-04 - accuracy: 1.0000 - val_loss: 3.6457 - val_accuracy: 0.0000e+00\n",
      "Epoch 48/70\n",
      "2/2 [==============================] - ETA: 0s - loss: 8.8876e-05 - accuracy: 1.0000\n",
      "Epoch 48: val_loss did not improve from 1.96827\n",
      "2/2 [==============================] - 1s 358ms/step - loss: 8.8876e-05 - accuracy: 1.0000 - val_loss: 3.6578 - val_accuracy: 0.0000e+00\n",
      "Epoch 49/70\n",
      "2/2 [==============================] - ETA: 0s - loss: 1.2812e-04 - accuracy: 1.0000\n",
      "Epoch 49: val_loss did not improve from 1.96827\n",
      "2/2 [==============================] - 1s 328ms/step - loss: 1.2812e-04 - accuracy: 1.0000 - val_loss: 3.7171 - val_accuracy: 0.0000e+00\n",
      "Epoch 50/70\n",
      "2/2 [==============================] - ETA: 0s - loss: 1.5846e-04 - accuracy: 1.0000\n",
      "Epoch 50: val_loss did not improve from 1.96827\n",
      "2/2 [==============================] - 1s 266ms/step - loss: 1.5846e-04 - accuracy: 1.0000 - val_loss: 3.7559 - val_accuracy: 0.0000e+00\n",
      "Epoch 51/70\n",
      "2/2 [==============================] - ETA: 0s - loss: 6.4605e-05 - accuracy: 1.0000\n",
      "Epoch 51: val_loss did not improve from 1.96827\n",
      "2/2 [==============================] - 1s 336ms/step - loss: 6.4605e-05 - accuracy: 1.0000 - val_loss: 3.8147 - val_accuracy: 0.0000e+00\n",
      "Epoch 52/70\n",
      "2/2 [==============================] - ETA: 0s - loss: 8.9449e-05 - accuracy: 1.0000\n",
      "Epoch 52: val_loss did not improve from 1.96827\n",
      "2/2 [==============================] - 1s 306ms/step - loss: 8.9449e-05 - accuracy: 1.0000 - val_loss: 3.8276 - val_accuracy: 0.0000e+00\n",
      "Epoch 53/70\n",
      "2/2 [==============================] - ETA: 0s - loss: 8.8503e-05 - accuracy: 1.0000\n",
      "Epoch 53: val_loss did not improve from 1.96827\n",
      "2/2 [==============================] - 1s 270ms/step - loss: 8.8503e-05 - accuracy: 1.0000 - val_loss: 3.8567 - val_accuracy: 0.0000e+00\n",
      "Epoch 54/70\n",
      "2/2 [==============================] - ETA: 0s - loss: 5.7962e-05 - accuracy: 1.0000\n",
      "Epoch 54: val_loss did not improve from 1.96827\n",
      "2/2 [==============================] - 1s 294ms/step - loss: 5.7962e-05 - accuracy: 1.0000 - val_loss: 3.8810 - val_accuracy: 0.0000e+00\n",
      "Epoch 55/70\n",
      "2/2 [==============================] - ETA: 0s - loss: 1.2396e-04 - accuracy: 1.0000\n",
      "Epoch 55: val_loss did not improve from 1.96827\n",
      "2/2 [==============================] - 1s 236ms/step - loss: 1.2396e-04 - accuracy: 1.0000 - val_loss: 3.9345 - val_accuracy: 0.0000e+00\n",
      "Epoch 56/70\n",
      "2/2 [==============================] - ETA: 0s - loss: 5.3192e-05 - accuracy: 1.0000\n",
      "Epoch 56: val_loss did not improve from 1.96827\n",
      "2/2 [==============================] - 1s 302ms/step - loss: 5.3192e-05 - accuracy: 1.0000 - val_loss: 3.9610 - val_accuracy: 0.0000e+00\n",
      "Epoch 57/70\n",
      "2/2 [==============================] - ETA: 0s - loss: 4.4120e-05 - accuracy: 1.0000\n",
      "Epoch 57: val_loss did not improve from 1.96827\n",
      "2/2 [==============================] - 1s 260ms/step - loss: 4.4120e-05 - accuracy: 1.0000 - val_loss: 3.9781 - val_accuracy: 0.0000e+00\n",
      "Epoch 58/70\n",
      "2/2 [==============================] - ETA: 0s - loss: 5.9369e-05 - accuracy: 1.0000\n",
      "Epoch 58: val_loss did not improve from 1.96827\n",
      "2/2 [==============================] - 1s 295ms/step - loss: 5.9369e-05 - accuracy: 1.0000 - val_loss: 4.0074 - val_accuracy: 0.0000e+00\n",
      "Epoch 59/70\n",
      "2/2 [==============================] - ETA: 0s - loss: 1.2510e-04 - accuracy: 1.0000\n",
      "Epoch 59: val_loss did not improve from 1.96827\n",
      "2/2 [==============================] - 1s 335ms/step - loss: 1.2510e-04 - accuracy: 1.0000 - val_loss: 3.9455 - val_accuracy: 0.0000e+00\n",
      "Epoch 60/70\n",
      "2/2 [==============================] - ETA: 0s - loss: 1.1467e-04 - accuracy: 1.0000\n",
      "Epoch 60: val_loss did not improve from 1.96827\n",
      "2/2 [==============================] - 1s 261ms/step - loss: 1.1467e-04 - accuracy: 1.0000 - val_loss: 4.0025 - val_accuracy: 0.0000e+00\n",
      "Epoch 61/70\n",
      "2/2 [==============================] - ETA: 0s - loss: 8.8929e-05 - accuracy: 1.0000\n",
      "Epoch 61: val_loss did not improve from 1.96827\n",
      "2/2 [==============================] - 1s 335ms/step - loss: 8.8929e-05 - accuracy: 1.0000 - val_loss: 4.0853 - val_accuracy: 0.0000e+00\n",
      "Epoch 62/70\n",
      "2/2 [==============================] - ETA: 0s - loss: 4.4803e-05 - accuracy: 1.0000\n",
      "Epoch 62: val_loss did not improve from 1.96827\n",
      "2/2 [==============================] - 1s 285ms/step - loss: 4.4803e-05 - accuracy: 1.0000 - val_loss: 4.1159 - val_accuracy: 0.0000e+00\n",
      "Epoch 63/70\n",
      "2/2 [==============================] - ETA: 0s - loss: 7.2214e-05 - accuracy: 1.0000\n",
      "Epoch 63: val_loss did not improve from 1.96827\n",
      "2/2 [==============================] - 1s 325ms/step - loss: 7.2214e-05 - accuracy: 1.0000 - val_loss: 4.0933 - val_accuracy: 0.0000e+00\n",
      "Epoch 64/70\n",
      "2/2 [==============================] - ETA: 0s - loss: 5.5595e-05 - accuracy: 1.0000\n",
      "Epoch 64: val_loss did not improve from 1.96827\n",
      "2/2 [==============================] - 1s 326ms/step - loss: 5.5595e-05 - accuracy: 1.0000 - val_loss: 4.0772 - val_accuracy: 0.0000e+00\n",
      "Epoch 65/70\n",
      "2/2 [==============================] - ETA: 0s - loss: 5.4066e-04 - accuracy: 1.0000\n",
      "Epoch 65: val_loss did not improve from 1.96827\n",
      "2/2 [==============================] - 1s 329ms/step - loss: 5.4066e-04 - accuracy: 1.0000 - val_loss: 5.3197 - val_accuracy: 0.0000e+00\n",
      "Epoch 66/70\n",
      "2/2 [==============================] - ETA: 0s - loss: 3.3685 - accuracy: 0.7381\n",
      "Epoch 66: val_loss did not improve from 1.96827\n",
      "2/2 [==============================] - 1s 300ms/step - loss: 3.3685 - accuracy: 0.7381 - val_loss: 6.0799 - val_accuracy: 0.0000e+00\n",
      "Epoch 67/70\n",
      "2/2 [==============================] - ETA: 0s - loss: 16.9273 - accuracy: 0.4286\n",
      "Epoch 67: val_loss did not improve from 1.96827\n",
      "2/2 [==============================] - 1s 325ms/step - loss: 16.9273 - accuracy: 0.4286 - val_loss: 7.6916 - val_accuracy: 0.0000e+00\n",
      "Epoch 68/70\n",
      "2/2 [==============================] - ETA: 0s - loss: 0.8059 - accuracy: 0.8095\n",
      "Epoch 68: val_loss did not improve from 1.96827\n",
      "2/2 [==============================] - 1s 257ms/step - loss: 0.8059 - accuracy: 0.8095 - val_loss: 5.4285 - val_accuracy: 0.0000e+00\n",
      "Epoch 69/70\n",
      "2/2 [==============================] - ETA: 0s - loss: 0.0534 - accuracy: 0.9762\n",
      "Epoch 69: val_loss did not improve from 1.96827\n",
      "2/2 [==============================] - 1s 289ms/step - loss: 0.0534 - accuracy: 0.9762 - val_loss: 5.7297 - val_accuracy: 0.0000e+00\n",
      "Epoch 70/70\n",
      "2/2 [==============================] - ETA: 0s - loss: 7.4039e-04 - accuracy: 1.0000\n",
      "Epoch 70: val_loss did not improve from 1.96827\n",
      "2/2 [==============================] - 1s 272ms/step - loss: 7.4039e-04 - accuracy: 1.0000 - val_loss: 5.6826 - val_accuracy: 0.0000e+00\n"
     ]
    }
   ],
   "source": [
    "# Step 5: Train the model\n",
    "history = model_joueur_conv.train(X_train, y_train)"
   ]
  },
  {
   "cell_type": "code",
   "execution_count": 11,
   "metadata": {},
   "outputs": [
    {
     "name": "stdout",
     "output_type": "stream",
     "text": [
      "1/1 [==============================] - 0s 106ms/step - loss: 4.4070 - accuracy: 0.2143\n",
      "Loss:  4.4070000648498535\n",
      "Accuracy:  0.2142857164144516\n"
     ]
    }
   ],
   "source": [
    "# Step 6: evaluate\n",
    "loss, accuracy = model_joueur_conv.evaluate(X_test, y_test)"
   ]
  },
  {
   "cell_type": "code",
   "execution_count": 15,
   "metadata": {},
   "outputs": [
    {
     "data": {
      "text/plain": [
       "(14, 50, 750, 3)"
      ]
     },
     "execution_count": 15,
     "metadata": {},
     "output_type": "execute_result"
    }
   ],
   "source": [
    "X_test.shape"
   ]
  },
  {
   "cell_type": "code",
   "execution_count": 16,
   "metadata": {},
   "outputs": [
    {
     "data": {
      "text/plain": [
       "array([[[[0., 0., 0.],\n",
       "         [0., 0., 0.],\n",
       "         [0., 0., 0.],\n",
       "         ...,\n",
       "         [0., 0., 0.],\n",
       "         [0., 0., 0.],\n",
       "         [0., 0., 0.]],\n",
       "\n",
       "        [[0., 0., 0.],\n",
       "         [0., 0., 0.],\n",
       "         [0., 0., 0.],\n",
       "         ...,\n",
       "         [0., 0., 0.],\n",
       "         [0., 0., 0.],\n",
       "         [0., 0., 0.]],\n",
       "\n",
       "        [[0., 0., 0.],\n",
       "         [0., 0., 0.],\n",
       "         [0., 0., 0.],\n",
       "         ...,\n",
       "         [0., 0., 0.],\n",
       "         [0., 0., 0.],\n",
       "         [0., 0., 0.]],\n",
       "\n",
       "        ...,\n",
       "\n",
       "        [[0., 0., 0.],\n",
       "         [0., 0., 0.],\n",
       "         [0., 0., 0.],\n",
       "         ...,\n",
       "         [0., 0., 0.],\n",
       "         [0., 0., 0.],\n",
       "         [0., 0., 0.]],\n",
       "\n",
       "        [[0., 0., 0.],\n",
       "         [0., 0., 0.],\n",
       "         [0., 0., 0.],\n",
       "         ...,\n",
       "         [0., 0., 0.],\n",
       "         [0., 0., 0.],\n",
       "         [0., 0., 0.]],\n",
       "\n",
       "        [[0., 0., 0.],\n",
       "         [0., 0., 0.],\n",
       "         [0., 0., 0.],\n",
       "         ...,\n",
       "         [0., 0., 0.],\n",
       "         [0., 0., 0.],\n",
       "         [0., 0., 0.]]]])"
      ]
     },
     "execution_count": 16,
     "metadata": {},
     "output_type": "execute_result"
    }
   ],
   "source": [
    "example_input = np.reshape(X_test[0], (1, 50, 750, 3))\n",
    "example_input"
   ]
  },
  {
   "cell_type": "code",
   "execution_count": 17,
   "metadata": {},
   "outputs": [
    {
     "name": "stdout",
     "output_type": "stream",
     "text": [
      "1/1 [==============================] - 0s 211ms/step\n"
     ]
    },
    {
     "data": {
      "text/plain": [
       "array([2], dtype=int64)"
      ]
     },
     "execution_count": 17,
     "metadata": {},
     "output_type": "execute_result"
    }
   ],
   "source": [
    "# Step 7: predict\n",
    "y_pred = model_joueur_conv.predict(example_input)\n",
    "y_pred"
   ]
  },
  {
   "cell_type": "code",
   "execution_count": 18,
   "metadata": {},
   "outputs": [],
   "source": [
    "# Final step: save the model\n",
    "model_joueur_conv.save_model('saved_models/model_1_joueur_haut_conv.h5')"
   ]
  }
 ],
 "metadata": {
  "kernelspec": {
   "display_name": "base",
   "language": "python",
   "name": "python3"
  },
  "language_info": {
   "codemirror_mode": {
    "name": "ipython",
    "version": 3
   },
   "file_extension": ".py",
   "mimetype": "text/x-python",
   "name": "python",
   "nbconvert_exporter": "python",
   "pygments_lexer": "ipython3",
   "version": "3.9.13"
  },
  "orig_nbformat": 4
 },
 "nbformat": 4,
 "nbformat_minor": 2
}
