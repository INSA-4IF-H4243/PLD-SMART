{
 "cells": [
  {
   "cell_type": "code",
   "execution_count": 11,
   "metadata": {},
   "outputs": [],
   "source": [
    "from smart.model import ModelJoueurConvolution\n",
    "import tensorflow as tf\n",
    "from keras.layers import Conv2D, MaxPooling2D, Flatten, Dense, BatchNormalization, Dropout\n",
    "import numpy as np"
   ]
  },
  {
   "cell_type": "code",
   "execution_count": 12,
   "metadata": {},
   "outputs": [],
   "source": [
    "path_dataset = 'img/JBas'"
   ]
  },
  {
   "cell_type": "code",
   "execution_count": 21,
   "metadata": {},
   "outputs": [],
   "source": [
    "layers = [\n",
    "    tf.keras.Input(shape = (50, 750, 3)), # 50, 15*50, 3\n",
    "    Conv2D(filters=16, kernel_size=(3, 3), activation=\"relu\"),\n",
    "    BatchNormalization(),\n",
    "    MaxPooling2D(pool_size=(2, 2)),\n",
    "    Dropout(0.2),\n",
    "        \n",
    "    # Conv2D(filters=32, kernel_size=(3, 3), activation=\"relu\"),\n",
    "    # BatchNormalization(),\n",
    "    # MaxPooling2D(pool_size=(2, 2)),\n",
    "    # Dropout(0.2),\n",
    "        \n",
    "    Conv2D(filters=64, kernel_size=(3, 3), activation=\"relu\"),\n",
    "    BatchNormalization(),\n",
    "    MaxPooling2D(pool_size=(2, 2)),\n",
    "    Dropout(0.2),\n",
    "        \n",
    "    Flatten(),\n",
    "    # Dense(units=128, activation=\"relu\"),\n",
    "    Dense(units=4, activation=\"softmax\"),\n",
    "]"
   ]
  },
  {
   "cell_type": "code",
   "execution_count": 22,
   "metadata": {},
   "outputs": [
    {
     "name": "stdout",
     "output_type": "stream",
     "text": [
      "Model: \"sequential_2\"\n",
      "_________________________________________________________________\n",
      " Layer (type)                Output Shape              Param #   \n",
      "=================================================================\n",
      " conv2d_5 (Conv2D)           (None, 48, 748, 16)       448       \n",
      "                                                                 \n",
      " batch_normalization_5 (Batc  (None, 48, 748, 16)      64        \n",
      " hNormalization)                                                 \n",
      "                                                                 \n",
      " max_pooling2d_5 (MaxPooling  (None, 24, 374, 16)      0         \n",
      " 2D)                                                             \n",
      "                                                                 \n",
      " dropout_5 (Dropout)         (None, 24, 374, 16)       0         \n",
      "                                                                 \n",
      " conv2d_6 (Conv2D)           (None, 22, 372, 64)       9280      \n",
      "                                                                 \n",
      " batch_normalization_6 (Batc  (None, 22, 372, 64)      256       \n",
      " hNormalization)                                                 \n",
      "                                                                 \n",
      " max_pooling2d_6 (MaxPooling  (None, 11, 186, 64)      0         \n",
      " 2D)                                                             \n",
      "                                                                 \n",
      " dropout_6 (Dropout)         (None, 11, 186, 64)       0         \n",
      "                                                                 \n",
      " flatten_2 (Flatten)         (None, 130944)            0         \n",
      "                                                                 \n",
      " dense_4 (Dense)             (None, 4)                 523780    \n",
      "                                                                 \n",
      "=================================================================\n",
      "Total params: 533,828\n",
      "Trainable params: 533,668\n",
      "Non-trainable params: 160\n",
      "_________________________________________________________________\n"
     ]
    }
   ],
   "source": [
    "model_joueur_conv = ModelJoueurConvolution.load_model_from_layers(layers)\n",
    "model_joueur_conv.summary_model"
   ]
  },
  {
   "cell_type": "code",
   "execution_count": 23,
   "metadata": {},
   "outputs": [],
   "source": [
    "# Step 1: Load the data\n",
    "list_videos, y = model_joueur_conv.analyse_sequence_frame(path_data_frame=path_dataset)"
   ]
  },
  {
   "cell_type": "code",
   "execution_count": 24,
   "metadata": {},
   "outputs": [
    {
     "data": {
      "text/plain": [
       "array([0, 0, 0, 0, 0, 0, 0, 0, 0, 0, 0, 0, 0, 0, 0, 0, 0, 0, 0, 0, 0, 0,\n",
       "       0, 0, 0, 0, 0, 0, 0, 0, 0, 0, 0, 0, 0, 0, 0, 0, 0, 0, 0, 0, 0, 0,\n",
       "       0, 0, 0, 0, 0, 0, 0, 0, 0, 0, 0, 0, 0, 0, 0, 0, 0, 0, 0, 0, 0, 0,\n",
       "       0, 0, 0, 0, 0, 0, 1, 1, 1, 1, 1, 1, 1, 1, 1, 1, 1, 1, 1, 1, 1, 1,\n",
       "       1, 1, 1, 1, 1, 1, 1, 1, 1, 1, 1, 1, 1, 1, 1, 1, 1, 1, 1, 1, 1, 1,\n",
       "       1, 1, 1, 1, 1, 1, 1, 1, 1, 1, 1, 1, 1, 1, 1, 1, 1, 1, 1, 1, 1, 1,\n",
       "       1, 1, 1, 1, 1, 1, 2, 2, 2, 2, 2, 2, 2, 2, 2, 2, 2, 2, 2, 2, 2, 2,\n",
       "       2, 2, 2, 2, 2, 2, 2, 2, 2, 2, 2, 2, 2, 2, 2, 2, 2, 2, 2, 2, 2, 2,\n",
       "       2, 2, 2, 2, 2, 2, 2, 2, 2, 2, 3, 3, 3, 3, 3, 3, 3, 3, 3, 3, 3, 3,\n",
       "       3, 3, 3, 3, 3, 3, 3, 3, 3, 3, 3, 3, 3, 3, 3, 3], dtype=int64)"
      ]
     },
     "execution_count": 24,
     "metadata": {},
     "output_type": "execute_result"
    }
   ],
   "source": [
    "# Step 2: Label encoder\n",
    "y = model_joueur_conv.label_encoder(y)\n",
    "y"
   ]
  },
  {
   "cell_type": "code",
   "execution_count": 25,
   "metadata": {},
   "outputs": [
    {
     "data": {
      "text/plain": [
       "(43, 50, 750, 3)"
      ]
     },
     "execution_count": 25,
     "metadata": {},
     "output_type": "execute_result"
    }
   ],
   "source": [
    "# Step 3: Split the data\n",
    "X_train, y_train, X_test, y_test = model_joueur_conv.split_train_test(list_videos, y)\n",
    "X_test.shape"
   ]
  },
  {
   "cell_type": "code",
   "execution_count": 26,
   "metadata": {},
   "outputs": [
    {
     "name": "stdout",
     "output_type": "stream",
     "text": [
      "Epoch 1/10\n",
      "5/5 [==============================] - ETA: 0s - loss: 98.4362 - accuracy: 0.3456\n",
      "Epoch 1: val_loss improved from inf to 608.53577, saving model to checkpoints\\Weights-001--608.53577.hdf5\n",
      "5/5 [==============================] - 2s 293ms/step - loss: 98.4362 - accuracy: 0.3456 - val_loss: 608.5358 - val_accuracy: 0.0000e+00\n",
      "Epoch 2/10\n",
      "5/5 [==============================] - ETA: 0s - loss: 30.9513 - accuracy: 0.6103\n",
      "Epoch 2: val_loss improved from 608.53577 to 300.67590, saving model to checkpoints\\Weights-002--300.67590.hdf5\n",
      "5/5 [==============================] - 1s 243ms/step - loss: 30.9513 - accuracy: 0.6103 - val_loss: 300.6759 - val_accuracy: 0.0286\n",
      "Epoch 3/10\n",
      "5/5 [==============================] - ETA: 0s - loss: 11.7225 - accuracy: 0.5735\n",
      "Epoch 3: val_loss improved from 300.67590 to 240.59470, saving model to checkpoints\\Weights-003--240.59470.hdf5\n",
      "5/5 [==============================] - 1s 237ms/step - loss: 11.7225 - accuracy: 0.5735 - val_loss: 240.5947 - val_accuracy: 0.2286\n",
      "Epoch 4/10\n",
      "5/5 [==============================] - ETA: 0s - loss: 2.1588 - accuracy: 0.8676\n",
      "Epoch 4: val_loss improved from 240.59470 to 221.30165, saving model to checkpoints\\Weights-004--221.30165.hdf5\n",
      "5/5 [==============================] - 1s 240ms/step - loss: 2.1588 - accuracy: 0.8676 - val_loss: 221.3017 - val_accuracy: 0.0000e+00\n",
      "Epoch 5/10\n",
      "5/5 [==============================] - ETA: 0s - loss: 1.3839 - accuracy: 0.8676\n",
      "Epoch 5: val_loss improved from 221.30165 to 181.31886, saving model to checkpoints\\Weights-005--181.31886.hdf5\n",
      "5/5 [==============================] - 1s 239ms/step - loss: 1.3839 - accuracy: 0.8676 - val_loss: 181.3189 - val_accuracy: 0.0857\n",
      "Epoch 6/10\n",
      "5/5 [==============================] - ETA: 0s - loss: 0.1212 - accuracy: 0.9853\n",
      "Epoch 6: val_loss improved from 181.31886 to 171.07130, saving model to checkpoints\\Weights-006--171.07130.hdf5\n",
      "5/5 [==============================] - 1s 246ms/step - loss: 0.1212 - accuracy: 0.9853 - val_loss: 171.0713 - val_accuracy: 0.0857\n",
      "Epoch 7/10\n",
      "5/5 [==============================] - ETA: 0s - loss: 0.0011 - accuracy: 1.0000\n",
      "Epoch 7: val_loss improved from 171.07130 to 164.04752, saving model to checkpoints\\Weights-007--164.04752.hdf5\n",
      "5/5 [==============================] - 1s 241ms/step - loss: 0.0011 - accuracy: 1.0000 - val_loss: 164.0475 - val_accuracy: 0.0857\n",
      "Epoch 8/10\n",
      "5/5 [==============================] - ETA: 0s - loss: 0.0159 - accuracy: 0.9926  \n",
      "Epoch 8: val_loss improved from 164.04752 to 155.36349, saving model to checkpoints\\Weights-008--155.36349.hdf5\n",
      "5/5 [==============================] - 1s 241ms/step - loss: 0.0159 - accuracy: 0.9926 - val_loss: 155.3635 - val_accuracy: 0.0571\n",
      "Epoch 9/10\n",
      "5/5 [==============================] - ETA: 0s - loss: 0.0594 - accuracy: 0.9926\n",
      "Epoch 9: val_loss did not improve from 155.36349\n",
      "5/5 [==============================] - 1s 241ms/step - loss: 0.0594 - accuracy: 0.9926 - val_loss: 157.4562 - val_accuracy: 0.0286\n",
      "Epoch 10/10\n",
      "5/5 [==============================] - ETA: 0s - loss: 0.1250 - accuracy: 0.9853  \n",
      "Epoch 10: val_loss did not improve from 155.36349\n",
      "5/5 [==============================] - 1s 243ms/step - loss: 0.1250 - accuracy: 0.9853 - val_loss: 156.3163 - val_accuracy: 0.0000e+00\n"
     ]
    }
   ],
   "source": [
    "# Step 4: Train the model\n",
    "history = model_joueur_conv.train(X_train, y_train, epochs=10)"
   ]
  },
  {
   "cell_type": "code",
   "execution_count": 27,
   "metadata": {},
   "outputs": [
    {
     "name": "stdout",
     "output_type": "stream",
     "text": [
      "2/2 [==============================] - 0s 48ms/step - loss: 37.0713 - accuracy: 0.3488\n",
      "Loss:  37.07130813598633\n",
      "Accuracy:  0.3488371968269348\n"
     ]
    }
   ],
   "source": [
    "# Step 5: evaluate\n",
    "loss, accuracy = model_joueur_conv.evaluate(X_test, y_test)"
   ]
  },
  {
   "cell_type": "code",
   "execution_count": 28,
   "metadata": {},
   "outputs": [
    {
     "data": {
      "text/plain": [
       "(43, 50, 750, 3)"
      ]
     },
     "execution_count": 28,
     "metadata": {},
     "output_type": "execute_result"
    }
   ],
   "source": [
    "X_test.shape"
   ]
  },
  {
   "cell_type": "code",
   "execution_count": 29,
   "metadata": {},
   "outputs": [
    {
     "data": {
      "text/plain": [
       "(1, 50, 750, 3)"
      ]
     },
     "execution_count": 29,
     "metadata": {},
     "output_type": "execute_result"
    }
   ],
   "source": [
    "example_input = np.reshape(X_test[0], (1, 50, 750, 3))\n",
    "example_input.shape"
   ]
  },
  {
   "cell_type": "code",
   "execution_count": 30,
   "metadata": {},
   "outputs": [
    {
     "name": "stdout",
     "output_type": "stream",
     "text": [
      "1/1 [==============================] - 0s 77ms/step\n"
     ]
    },
    {
     "data": {
      "text/plain": [
       "array([0], dtype=int64)"
      ]
     },
     "execution_count": 30,
     "metadata": {},
     "output_type": "execute_result"
    }
   ],
   "source": [
    "# Step 6: predict\n",
    "y_pred = model_joueur_conv.predict(example_input)\n",
    "y_pred"
   ]
  },
  {
   "cell_type": "code",
   "execution_count": 32,
   "metadata": {},
   "outputs": [],
   "source": [
    "# Final step: save the model\n",
    "model_joueur_conv.save_model('saved_models/model_1_joueur_bas_conv.h5')"
   ]
  }
 ],
 "metadata": {
  "kernelspec": {
   "display_name": "base",
   "language": "python",
   "name": "python3"
  },
  "language_info": {
   "codemirror_mode": {
    "name": "ipython",
    "version": 3
   },
   "file_extension": ".py",
   "mimetype": "text/x-python",
   "name": "python",
   "nbconvert_exporter": "python",
   "pygments_lexer": "ipython3",
   "version": "3.9.13"
  },
  "orig_nbformat": 4
 },
 "nbformat": 4,
 "nbformat_minor": 2
}
