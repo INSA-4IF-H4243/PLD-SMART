{
 "cells": [
  {
   "cell_type": "code",
   "execution_count": 1,
   "metadata": {},
   "outputs": [],
   "source": [
    "from smart.model import ModelJoueurConvolution\n",
    "import tensorflow as tf\n",
    "from keras.layers import Conv2D, MaxPooling2D, Flatten, Dense, BatchNormalization, Dropout\n",
    "import numpy as np"
   ]
  },
  {
   "cell_type": "code",
   "execution_count": 2,
   "metadata": {},
   "outputs": [],
   "source": [
    "path_dataset = 'img/JHaut'"
   ]
  },
  {
   "cell_type": "code",
   "execution_count": 3,
   "metadata": {},
   "outputs": [],
   "source": [
    "layers =  [\n",
    "    tf.keras.Input(shape = (50, 750, 3)), # 50, 15*50, 3\n",
    "    Conv2D(filters=16, kernel_size=(3, 3), activation=\"relu\"),\n",
    "    BatchNormalization(),\n",
    "    MaxPooling2D(pool_size=(2, 2)),\n",
    "    Dropout(0.2),\n",
    "        \n",
    "    Conv2D(filters=32, kernel_size=(3, 3), activation=\"relu\"),\n",
    "    BatchNormalization(),\n",
    "    MaxPooling2D(pool_size=(2, 2)),\n",
    "    Dropout(0.2),\n",
    "        \n",
    "    Conv2D(filters=64, kernel_size=(3, 3), activation=\"relu\"),\n",
    "    BatchNormalization(),\n",
    "    MaxPooling2D(pool_size=(2, 2)),\n",
    "    Dropout(0.2),\n",
    "        \n",
    "    Flatten(),\n",
    "    Dense(units=128, activation=\"relu\"),\n",
    "    Dense(units=4, activation=\"softmax\"),\n",
    "]"
   ]
  },
  {
   "cell_type": "code",
   "execution_count": 3,
   "metadata": {},
   "outputs": [
    {
     "name": "stdout",
     "output_type": "stream",
     "text": [
      "Model: \"sequential\"\n",
      "_________________________________________________________________\n",
      " Layer (type)                Output Shape              Param #   \n",
      "=================================================================\n",
      " conv2d (Conv2D)             (None, 48, 748, 16)       448       \n",
      "                                                                 \n",
      " batch_normalization (BatchN  (None, 48, 748, 16)      64        \n",
      " ormalization)                                                   \n",
      "                                                                 \n",
      " max_pooling2d (MaxPooling2D  (None, 24, 374, 16)      0         \n",
      " )                                                               \n",
      "                                                                 \n",
      " dropout (Dropout)           (None, 24, 374, 16)       0         \n",
      "                                                                 \n",
      " conv2d_1 (Conv2D)           (None, 22, 372, 32)       4640      \n",
      "                                                                 \n",
      " batch_normalization_1 (Batc  (None, 22, 372, 32)      128       \n",
      " hNormalization)                                                 \n",
      "                                                                 \n",
      " max_pooling2d_1 (MaxPooling  (None, 11, 186, 32)      0         \n",
      " 2D)                                                             \n",
      "                                                                 \n",
      " dropout_1 (Dropout)         (None, 11, 186, 32)       0         \n",
      "                                                                 \n",
      " conv2d_2 (Conv2D)           (None, 9, 184, 64)        18496     \n",
      "                                                                 \n",
      " batch_normalization_2 (Batc  (None, 9, 184, 64)       256       \n",
      " hNormalization)                                                 \n",
      "                                                                 \n",
      " max_pooling2d_2 (MaxPooling  (None, 4, 92, 64)        0         \n",
      " 2D)                                                             \n",
      "                                                                 \n",
      " dropout_2 (Dropout)         (None, 4, 92, 64)         0         \n",
      "                                                                 \n",
      " flatten (Flatten)           (None, 23552)             0         \n",
      "                                                                 \n",
      " dense (Dense)               (None, 128)               3014784   \n",
      "                                                                 \n",
      " dense_1 (Dense)             (None, 4)                 516       \n",
      "                                                                 \n",
      "=================================================================\n",
      "Total params: 3,039,332\n",
      "Trainable params: 3,039,108\n",
      "Non-trainable params: 224\n",
      "_________________________________________________________________\n"
     ]
    }
   ],
   "source": [
    "model_joueur_conv = ModelJoueurConvolution.load_model_from_path('saved_models/model_1_joueur_haut_conv.h5')\n",
    "model_joueur_conv.summary_model"
   ]
  },
  {
   "cell_type": "code",
   "execution_count": 4,
   "metadata": {},
   "outputs": [],
   "source": [
    "# Step 1: Load the data\n",
    "list_videos, y = model_joueur_conv.analyse_sequence_frame(path_data_frame=path_dataset)"
   ]
  },
  {
   "cell_type": "code",
   "execution_count": 5,
   "metadata": {},
   "outputs": [
    {
     "data": {
      "text/plain": [
       "array([0, 0, 0, 0, 0, 0, 0, 0, 0, 0, 0, 0, 0, 0, 0, 0, 1, 1, 1, 1, 1, 1,\n",
       "       1, 1, 1, 1, 1, 1, 1, 1, 1, 1, 1, 1, 1, 1, 1, 1, 1, 1, 2, 2, 2, 2,\n",
       "       2, 2, 2, 2, 2, 2, 2, 2, 2, 2, 3, 3, 3, 3, 3, 3, 3, 3, 3, 3, 3, 3,\n",
       "       3], dtype=int64)"
      ]
     },
     "execution_count": 5,
     "metadata": {},
     "output_type": "execute_result"
    }
   ],
   "source": [
    "# Step 2: Label encoder\n",
    "y = model_joueur_conv.label_encoder(y)\n",
    "y"
   ]
  },
  {
   "cell_type": "code",
   "execution_count": 6,
   "metadata": {},
   "outputs": [
    {
     "data": {
      "text/plain": [
       "(14, 50, 750, 3)"
      ]
     },
     "execution_count": 6,
     "metadata": {},
     "output_type": "execute_result"
    }
   ],
   "source": [
    "# Step 3: Split the data\n",
    "X_train, y_train, X_test, y_test = model_joueur_conv.split_train_test(list_videos, y)\n",
    "X_test.shape"
   ]
  },
  {
   "cell_type": "code",
   "execution_count": 13,
   "metadata": {},
   "outputs": [
    {
     "name": "stdout",
     "output_type": "stream",
     "text": [
      "Epoch 1/70\n",
      "2/2 [==============================] - ETA: 0s - loss: 1.3312e-06 - accuracy: 1.0000\n",
      "Epoch 1: val_loss improved from inf to 37.36647, saving model to checkpoints\\Weights-001--37.36647.hdf5\n",
      "2/2 [==============================] - 3s 741ms/step - loss: 1.3312e-06 - accuracy: 1.0000 - val_loss: 37.3665 - val_accuracy: 0.0000e+00\n",
      "Epoch 2/70\n",
      "2/2 [==============================] - ETA: 0s - loss: 4.8646e-06 - accuracy: 1.0000\n",
      "Epoch 2: val_loss improved from 37.36647 to 37.19572, saving model to checkpoints\\Weights-002--37.19572.hdf5\n",
      "2/2 [==============================] - 1s 446ms/step - loss: 4.8646e-06 - accuracy: 1.0000 - val_loss: 37.1957 - val_accuracy: 0.0000e+00\n",
      "Epoch 3/70\n",
      "2/2 [==============================] - ETA: 0s - loss: 2.8610e-06 - accuracy: 1.0000\n",
      "Epoch 3: val_loss improved from 37.19572 to 37.11157, saving model to checkpoints\\Weights-003--37.11157.hdf5\n",
      "2/2 [==============================] - 1s 464ms/step - loss: 2.8610e-06 - accuracy: 1.0000 - val_loss: 37.1116 - val_accuracy: 0.0000e+00\n",
      "Epoch 4/70\n",
      "2/2 [==============================] - ETA: 0s - loss: 2.8752e-06 - accuracy: 1.0000\n",
      "Epoch 4: val_loss improved from 37.11157 to 36.95881, saving model to checkpoints\\Weights-004--36.95881.hdf5\n",
      "2/2 [==============================] - 1s 466ms/step - loss: 2.8752e-06 - accuracy: 1.0000 - val_loss: 36.9588 - val_accuracy: 0.0000e+00\n",
      "Epoch 5/70\n",
      "2/2 [==============================] - ETA: 0s - loss: 8.2311e-07 - accuracy: 1.0000\n",
      "Epoch 5: val_loss improved from 36.95881 to 36.85340, saving model to checkpoints\\Weights-005--36.85340.hdf5\n",
      "2/2 [==============================] - 1s 476ms/step - loss: 8.2311e-07 - accuracy: 1.0000 - val_loss: 36.8534 - val_accuracy: 0.0000e+00\n",
      "Epoch 6/70\n",
      "2/2 [==============================] - ETA: 0s - loss: 1.2803e-05 - accuracy: 1.0000\n",
      "Epoch 6: val_loss improved from 36.85340 to 36.65591, saving model to checkpoints\\Weights-006--36.65591.hdf5\n",
      "2/2 [==============================] - 1s 396ms/step - loss: 1.2803e-05 - accuracy: 1.0000 - val_loss: 36.6559 - val_accuracy: 0.0000e+00\n",
      "Epoch 7/70\n",
      "2/2 [==============================] - ETA: 0s - loss: 1.8477e-06 - accuracy: 1.0000\n",
      "Epoch 7: val_loss improved from 36.65591 to 36.55271, saving model to checkpoints\\Weights-007--36.55271.hdf5\n",
      "2/2 [==============================] - 1s 446ms/step - loss: 1.8477e-06 - accuracy: 1.0000 - val_loss: 36.5527 - val_accuracy: 0.0000e+00\n",
      "Epoch 8/70\n",
      "2/2 [==============================] - ETA: 0s - loss: 2.5601e-06 - accuracy: 1.0000\n",
      "Epoch 8: val_loss improved from 36.55271 to 36.46692, saving model to checkpoints\\Weights-008--36.46692.hdf5\n",
      "2/2 [==============================] - 1s 495ms/step - loss: 2.5601e-06 - accuracy: 1.0000 - val_loss: 36.4669 - val_accuracy: 0.0000e+00\n",
      "Epoch 9/70\n",
      "2/2 [==============================] - ETA: 0s - loss: 2.9234e-06 - accuracy: 1.0000\n",
      "Epoch 9: val_loss did not improve from 36.46692\n",
      "2/2 [==============================] - 1s 356ms/step - loss: 2.9234e-06 - accuracy: 1.0000 - val_loss: 36.5156 - val_accuracy: 0.0000e+00\n",
      "Epoch 10/70\n",
      "2/2 [==============================] - ETA: 0s - loss: 3.9821e-06 - accuracy: 1.0000\n",
      "Epoch 10: val_loss did not improve from 36.46692\n",
      "2/2 [==============================] - 1s 437ms/step - loss: 3.9821e-06 - accuracy: 1.0000 - val_loss: 36.4695 - val_accuracy: 0.0000e+00\n",
      "Epoch 11/70\n",
      "2/2 [==============================] - ETA: 0s - loss: 2.1656e-06 - accuracy: 1.0000\n",
      "Epoch 11: val_loss improved from 36.46692 to 36.35636, saving model to checkpoints\\Weights-011--36.35636.hdf5\n",
      "2/2 [==============================] - 1s 474ms/step - loss: 2.1656e-06 - accuracy: 1.0000 - val_loss: 36.3564 - val_accuracy: 0.0000e+00\n",
      "Epoch 12/70\n",
      "2/2 [==============================] - ETA: 0s - loss: 4.9980e-06 - accuracy: 1.0000\n",
      "Epoch 12: val_loss improved from 36.35636 to 36.21736, saving model to checkpoints\\Weights-012--36.21736.hdf5\n",
      "2/2 [==============================] - 1s 537ms/step - loss: 4.9980e-06 - accuracy: 1.0000 - val_loss: 36.2174 - val_accuracy: 0.0000e+00\n",
      "Epoch 13/70\n",
      "2/2 [==============================] - ETA: 0s - loss: 1.6292e-06 - accuracy: 1.0000\n",
      "Epoch 13: val_loss improved from 36.21736 to 36.15062, saving model to checkpoints\\Weights-013--36.15062.hdf5\n",
      "2/2 [==============================] - 1s 565ms/step - loss: 1.6292e-06 - accuracy: 1.0000 - val_loss: 36.1506 - val_accuracy: 0.0000e+00\n",
      "Epoch 14/70\n",
      "2/2 [==============================] - ETA: 0s - loss: 2.4551e-06 - accuracy: 1.0000\n",
      "Epoch 14: val_loss improved from 36.15062 to 36.04964, saving model to checkpoints\\Weights-014--36.04964.hdf5\n",
      "2/2 [==============================] - 1s 450ms/step - loss: 2.4551e-06 - accuracy: 1.0000 - val_loss: 36.0496 - val_accuracy: 0.0000e+00\n",
      "Epoch 15/70\n",
      "2/2 [==============================] - ETA: 0s - loss: 1.3936e-06 - accuracy: 1.0000\n",
      "Epoch 15: val_loss improved from 36.04964 to 36.00246, saving model to checkpoints\\Weights-015--36.00246.hdf5\n",
      "2/2 [==============================] - 1s 566ms/step - loss: 1.3936e-06 - accuracy: 1.0000 - val_loss: 36.0025 - val_accuracy: 0.0000e+00\n",
      "Epoch 16/70\n",
      "2/2 [==============================] - ETA: 0s - loss: 2.5573e-06 - accuracy: 1.0000\n",
      "Epoch 16: val_loss did not improve from 36.00246\n",
      "2/2 [==============================] - 1s 289ms/step - loss: 2.5573e-06 - accuracy: 1.0000 - val_loss: 36.0180 - val_accuracy: 0.0000e+00\n",
      "Epoch 17/70\n",
      "2/2 [==============================] - ETA: 0s - loss: 2.1486e-06 - accuracy: 1.0000\n",
      "Epoch 17: val_loss improved from 36.00246 to 35.95014, saving model to checkpoints\\Weights-017--35.95014.hdf5\n",
      "2/2 [==============================] - 1s 479ms/step - loss: 2.1486e-06 - accuracy: 1.0000 - val_loss: 35.9501 - val_accuracy: 0.0000e+00\n",
      "Epoch 18/70\n",
      "2/2 [==============================] - ETA: 0s - loss: 8.6564e-06 - accuracy: 1.0000\n",
      "Epoch 18: val_loss did not improve from 35.95014\n",
      "2/2 [==============================] - 1s 459ms/step - loss: 8.6564e-06 - accuracy: 1.0000 - val_loss: 36.0038 - val_accuracy: 0.0000e+00\n",
      "Epoch 19/70\n",
      "2/2 [==============================] - ETA: 0s - loss: 2.1826e-06 - accuracy: 1.0000\n",
      "Epoch 19: val_loss improved from 35.95014 to 35.93911, saving model to checkpoints\\Weights-019--35.93911.hdf5\n",
      "2/2 [==============================] - 1s 467ms/step - loss: 2.1826e-06 - accuracy: 1.0000 - val_loss: 35.9391 - val_accuracy: 0.0000e+00\n",
      "Epoch 20/70\n",
      "2/2 [==============================] - ETA: 0s - loss: 2.8723e-06 - accuracy: 1.0000\n",
      "Epoch 20: val_loss improved from 35.93911 to 35.85074, saving model to checkpoints\\Weights-020--35.85074.hdf5\n",
      "2/2 [==============================] - 1s 531ms/step - loss: 2.8723e-06 - accuracy: 1.0000 - val_loss: 35.8507 - val_accuracy: 0.0000e+00\n",
      "Epoch 21/70\n",
      "2/2 [==============================] - ETA: 0s - loss: 2.1543e-06 - accuracy: 1.0000\n",
      "Epoch 21: val_loss improved from 35.85074 to 35.83096, saving model to checkpoints\\Weights-021--35.83096.hdf5\n",
      "2/2 [==============================] - 1s 468ms/step - loss: 2.1543e-06 - accuracy: 1.0000 - val_loss: 35.8310 - val_accuracy: 0.0000e+00\n",
      "Epoch 22/70\n",
      "2/2 [==============================] - ETA: 0s - loss: 2.1912e-06 - accuracy: 1.0000\n",
      "Epoch 22: val_loss improved from 35.83096 to 35.72757, saving model to checkpoints\\Weights-022--35.72757.hdf5\n",
      "2/2 [==============================] - 1s 543ms/step - loss: 2.1912e-06 - accuracy: 1.0000 - val_loss: 35.7276 - val_accuracy: 0.0000e+00\n",
      "Epoch 23/70\n",
      "2/2 [==============================] - ETA: 0s - loss: 1.9272e-06 - accuracy: 1.0000\n",
      "Epoch 23: val_loss improved from 35.72757 to 35.65387, saving model to checkpoints\\Weights-023--35.65387.hdf5\n",
      "2/2 [==============================] - 1s 547ms/step - loss: 1.9272e-06 - accuracy: 1.0000 - val_loss: 35.6539 - val_accuracy: 0.0000e+00\n",
      "Epoch 24/70\n",
      "2/2 [==============================] - ETA: 0s - loss: 2.4750e-06 - accuracy: 1.0000\n",
      "Epoch 24: val_loss improved from 35.65387 to 35.61640, saving model to checkpoints\\Weights-024--35.61640.hdf5\n",
      "2/2 [==============================] - 1s 549ms/step - loss: 2.4750e-06 - accuracy: 1.0000 - val_loss: 35.6164 - val_accuracy: 0.0000e+00\n",
      "Epoch 25/70\n",
      "2/2 [==============================] - ETA: 0s - loss: 3.0313e-06 - accuracy: 1.0000\n",
      "Epoch 25: val_loss improved from 35.61640 to 35.59871, saving model to checkpoints\\Weights-025--35.59871.hdf5\n",
      "2/2 [==============================] - 1s 533ms/step - loss: 3.0313e-06 - accuracy: 1.0000 - val_loss: 35.5987 - val_accuracy: 0.0000e+00\n",
      "Epoch 26/70\n",
      "2/2 [==============================] - ETA: 0s - loss: 3.1704e-06 - accuracy: 1.0000\n",
      "Epoch 26: val_loss improved from 35.59871 to 35.54692, saving model to checkpoints\\Weights-026--35.54692.hdf5\n",
      "2/2 [==============================] - 1s 521ms/step - loss: 3.1704e-06 - accuracy: 1.0000 - val_loss: 35.5469 - val_accuracy: 0.0000e+00\n",
      "Epoch 27/70\n",
      "2/2 [==============================] - ETA: 0s - loss: 3.1420e-06 - accuracy: 1.0000\n",
      "Epoch 27: val_loss improved from 35.54692 to 35.46781, saving model to checkpoints\\Weights-027--35.46781.hdf5\n",
      "2/2 [==============================] - 1s 525ms/step - loss: 3.1420e-06 - accuracy: 1.0000 - val_loss: 35.4678 - val_accuracy: 0.0000e+00\n",
      "Epoch 28/70\n",
      "2/2 [==============================] - ETA: 0s - loss: 2.5147e-06 - accuracy: 1.0000\n",
      "Epoch 28: val_loss improved from 35.46781 to 35.45747, saving model to checkpoints\\Weights-028--35.45747.hdf5\n",
      "2/2 [==============================] - 1s 518ms/step - loss: 2.5147e-06 - accuracy: 1.0000 - val_loss: 35.4575 - val_accuracy: 0.0000e+00\n",
      "Epoch 29/70\n",
      "2/2 [==============================] - ETA: 0s - loss: 1.4788e-06 - accuracy: 1.0000\n",
      "Epoch 29: val_loss improved from 35.45747 to 35.39594, saving model to checkpoints\\Weights-029--35.39594.hdf5\n",
      "2/2 [==============================] - 1s 514ms/step - loss: 1.4788e-06 - accuracy: 1.0000 - val_loss: 35.3959 - val_accuracy: 0.0000e+00\n",
      "Epoch 30/70\n",
      "2/2 [==============================] - ETA: 0s - loss: 6.4654e-06 - accuracy: 1.0000\n",
      "Epoch 30: val_loss did not improve from 35.39594\n",
      "2/2 [==============================] - 1s 437ms/step - loss: 6.4654e-06 - accuracy: 1.0000 - val_loss: 35.4912 - val_accuracy: 0.0000e+00\n",
      "Epoch 31/70\n",
      "2/2 [==============================] - ETA: 0s - loss: 3.9025e-06 - accuracy: 1.0000\n",
      "Epoch 31: val_loss did not improve from 35.39594\n",
      "2/2 [==============================] - 1s 405ms/step - loss: 3.9025e-06 - accuracy: 1.0000 - val_loss: 35.4502 - val_accuracy: 0.0000e+00\n",
      "Epoch 32/70\n",
      "2/2 [==============================] - ETA: 0s - loss: 4.7456e-06 - accuracy: 1.0000\n",
      "Epoch 32: val_loss did not improve from 35.39594\n",
      "2/2 [==============================] - 1s 373ms/step - loss: 4.7456e-06 - accuracy: 1.0000 - val_loss: 35.4294 - val_accuracy: 0.0000e+00\n",
      "Epoch 33/70\n",
      "2/2 [==============================] - ETA: 0s - loss: 3.8799e-06 - accuracy: 1.0000\n",
      "Epoch 33: val_loss did not improve from 35.39594\n",
      "2/2 [==============================] - 1s 228ms/step - loss: 3.8799e-06 - accuracy: 1.0000 - val_loss: 35.4092 - val_accuracy: 0.0000e+00\n",
      "Epoch 34/70\n",
      "2/2 [==============================] - ETA: 0s - loss: 2.5318e-06 - accuracy: 1.0000\n",
      "Epoch 34: val_loss improved from 35.39594 to 35.36080, saving model to checkpoints\\Weights-034--35.36080.hdf5\n",
      "2/2 [==============================] - 1s 473ms/step - loss: 2.5318e-06 - accuracy: 1.0000 - val_loss: 35.3608 - val_accuracy: 0.0000e+00\n",
      "Epoch 35/70\n",
      "2/2 [==============================] - ETA: 0s - loss: 1.8023e-06 - accuracy: 1.0000\n",
      "Epoch 35: val_loss improved from 35.36080 to 35.31767, saving model to checkpoints\\Weights-035--35.31767.hdf5\n",
      "2/2 [==============================] - 1s 445ms/step - loss: 1.8023e-06 - accuracy: 1.0000 - val_loss: 35.3177 - val_accuracy: 0.0000e+00\n",
      "Epoch 36/70\n",
      "2/2 [==============================] - ETA: 0s - loss: 1.9925e-06 - accuracy: 1.0000\n",
      "Epoch 36: val_loss improved from 35.31767 to 35.27552, saving model to checkpoints\\Weights-036--35.27552.hdf5\n",
      "2/2 [==============================] - 1s 435ms/step - loss: 1.9925e-06 - accuracy: 1.0000 - val_loss: 35.2755 - val_accuracy: 0.0000e+00\n",
      "Epoch 37/70\n",
      "2/2 [==============================] - ETA: 0s - loss: 2.1145e-06 - accuracy: 1.0000\n",
      "Epoch 37: val_loss improved from 35.27552 to 35.26105, saving model to checkpoints\\Weights-037--35.26105.hdf5\n",
      "2/2 [==============================] - 1s 456ms/step - loss: 2.1145e-06 - accuracy: 1.0000 - val_loss: 35.2611 - val_accuracy: 0.0000e+00\n",
      "Epoch 38/70\n",
      "2/2 [==============================] - ETA: 0s - loss: 1.2858e-06 - accuracy: 1.0000\n",
      "Epoch 38: val_loss improved from 35.26105 to 35.22760, saving model to checkpoints\\Weights-038--35.22760.hdf5\n",
      "2/2 [==============================] - 1s 393ms/step - loss: 1.2858e-06 - accuracy: 1.0000 - val_loss: 35.2276 - val_accuracy: 0.0000e+00\n",
      "Epoch 39/70\n",
      "2/2 [==============================] - ETA: 0s - loss: 2.6509e-06 - accuracy: 1.0000\n",
      "Epoch 39: val_loss improved from 35.22760 to 35.18653, saving model to checkpoints\\Weights-039--35.18653.hdf5\n",
      "2/2 [==============================] - 1s 453ms/step - loss: 2.6509e-06 - accuracy: 1.0000 - val_loss: 35.1865 - val_accuracy: 0.0000e+00\n",
      "Epoch 40/70\n",
      "2/2 [==============================] - ETA: 0s - loss: 9.4232e-07 - accuracy: 1.0000\n",
      "Epoch 40: val_loss improved from 35.18653 to 35.15042, saving model to checkpoints\\Weights-040--35.15042.hdf5\n",
      "2/2 [==============================] - 1s 404ms/step - loss: 9.4232e-07 - accuracy: 1.0000 - val_loss: 35.1504 - val_accuracy: 0.0000e+00\n",
      "Epoch 41/70\n",
      "2/2 [==============================] - ETA: 0s - loss: 2.3189e-06 - accuracy: 1.0000\n",
      "Epoch 41: val_loss improved from 35.15042 to 35.10437, saving model to checkpoints\\Weights-041--35.10437.hdf5\n",
      "2/2 [==============================] - 1s 410ms/step - loss: 2.3189e-06 - accuracy: 1.0000 - val_loss: 35.1044 - val_accuracy: 0.0000e+00\n",
      "Epoch 42/70\n",
      "2/2 [==============================] - ETA: 0s - loss: 4.3397e-06 - accuracy: 1.0000\n",
      "Epoch 42: val_loss improved from 35.10437 to 35.05971, saving model to checkpoints\\Weights-042--35.05971.hdf5\n",
      "2/2 [==============================] - 1s 389ms/step - loss: 4.3397e-06 - accuracy: 1.0000 - val_loss: 35.0597 - val_accuracy: 0.0000e+00\n",
      "Epoch 43/70\n",
      "2/2 [==============================] - ETA: 0s - loss: 2.3700e-06 - accuracy: 1.0000\n",
      "Epoch 43: val_loss improved from 35.05971 to 35.00823, saving model to checkpoints\\Weights-043--35.00823.hdf5\n",
      "2/2 [==============================] - 1s 318ms/step - loss: 2.3700e-06 - accuracy: 1.0000 - val_loss: 35.0082 - val_accuracy: 0.0000e+00\n",
      "Epoch 44/70\n",
      "2/2 [==============================] - ETA: 0s - loss: 3.0909e-06 - accuracy: 1.0000\n",
      "Epoch 44: val_loss improved from 35.00823 to 34.98377, saving model to checkpoints\\Weights-044--34.98377.hdf5\n",
      "2/2 [==============================] - 1s 459ms/step - loss: 3.0909e-06 - accuracy: 1.0000 - val_loss: 34.9838 - val_accuracy: 0.0000e+00\n",
      "Epoch 45/70\n",
      "2/2 [==============================] - ETA: 0s - loss: 1.1211e-06 - accuracy: 1.0000\n",
      "Epoch 45: val_loss improved from 34.98377 to 34.94481, saving model to checkpoints\\Weights-045--34.94481.hdf5\n",
      "2/2 [==============================] - 1s 483ms/step - loss: 1.1211e-06 - accuracy: 1.0000 - val_loss: 34.9448 - val_accuracy: 0.0000e+00\n",
      "Epoch 46/70\n",
      "2/2 [==============================] - ETA: 0s - loss: 2.0748e-06 - accuracy: 1.0000\n",
      "Epoch 46: val_loss improved from 34.94481 to 34.92695, saving model to checkpoints\\Weights-046--34.92695.hdf5\n",
      "2/2 [==============================] - 1s 481ms/step - loss: 2.0748e-06 - accuracy: 1.0000 - val_loss: 34.9270 - val_accuracy: 0.0000e+00\n",
      "Epoch 47/70\n",
      "2/2 [==============================] - ETA: 0s - loss: 1.6235e-06 - accuracy: 1.0000\n",
      "Epoch 47: val_loss did not improve from 34.92695\n",
      "2/2 [==============================] - 1s 248ms/step - loss: 1.6235e-06 - accuracy: 1.0000 - val_loss: 34.9353 - val_accuracy: 0.0000e+00\n",
      "Epoch 48/70\n",
      "2/2 [==============================] - ETA: 0s - loss: 1.1694e-06 - accuracy: 1.0000\n",
      "Epoch 48: val_loss improved from 34.92695 to 34.92524, saving model to checkpoints\\Weights-048--34.92524.hdf5\n",
      "2/2 [==============================] - 1s 290ms/step - loss: 1.1694e-06 - accuracy: 1.0000 - val_loss: 34.9252 - val_accuracy: 0.0000e+00\n",
      "Epoch 49/70\n",
      "2/2 [==============================] - ETA: 0s - loss: 1.2574e-06 - accuracy: 1.0000\n",
      "Epoch 49: val_loss improved from 34.92524 to 34.89911, saving model to checkpoints\\Weights-049--34.89911.hdf5\n",
      "2/2 [==============================] - 1s 285ms/step - loss: 1.2574e-06 - accuracy: 1.0000 - val_loss: 34.8991 - val_accuracy: 0.0000e+00\n",
      "Epoch 50/70\n",
      "2/2 [==============================] - ETA: 0s - loss: 1.2318e-06 - accuracy: 1.0000\n",
      "Epoch 50: val_loss improved from 34.89911 to 34.85856, saving model to checkpoints\\Weights-050--34.85856.hdf5\n",
      "2/2 [==============================] - 1s 458ms/step - loss: 1.2318e-06 - accuracy: 1.0000 - val_loss: 34.8586 - val_accuracy: 0.0000e+00\n",
      "Epoch 51/70\n",
      "2/2 [==============================] - ETA: 0s - loss: 1.5554e-06 - accuracy: 1.0000\n",
      "Epoch 51: val_loss improved from 34.85856 to 34.81491, saving model to checkpoints\\Weights-051--34.81491.hdf5\n",
      "2/2 [==============================] - 1s 444ms/step - loss: 1.5554e-06 - accuracy: 1.0000 - val_loss: 34.8149 - val_accuracy: 0.0000e+00\n",
      "Epoch 52/70\n",
      "2/2 [==============================] - ETA: 0s - loss: 1.1240e-06 - accuracy: 1.0000\n",
      "Epoch 52: val_loss improved from 34.81491 to 34.80182, saving model to checkpoints\\Weights-052--34.80182.hdf5\n",
      "2/2 [==============================] - 1s 468ms/step - loss: 1.1240e-06 - accuracy: 1.0000 - val_loss: 34.8018 - val_accuracy: 0.0000e+00\n",
      "Epoch 53/70\n",
      "2/2 [==============================] - ETA: 0s - loss: 2.6282e-06 - accuracy: 1.0000\n",
      "Epoch 53: val_loss improved from 34.80182 to 34.71989, saving model to checkpoints\\Weights-053--34.71989.hdf5\n",
      "2/2 [==============================] - 1s 449ms/step - loss: 2.6282e-06 - accuracy: 1.0000 - val_loss: 34.7199 - val_accuracy: 0.0000e+00\n",
      "Epoch 54/70\n",
      "2/2 [==============================] - ETA: 0s - loss: 4.0559e-06 - accuracy: 1.0000\n",
      "Epoch 54: val_loss did not improve from 34.71989\n",
      "2/2 [==============================] - 1s 397ms/step - loss: 4.0559e-06 - accuracy: 1.0000 - val_loss: 34.7798 - val_accuracy: 0.0000e+00\n",
      "Epoch 55/70\n",
      "2/2 [==============================] - ETA: 0s - loss: 1.2375e-06 - accuracy: 1.0000\n",
      "Epoch 55: val_loss did not improve from 34.71989\n",
      "2/2 [==============================] - 1s 393ms/step - loss: 1.2375e-06 - accuracy: 1.0000 - val_loss: 34.7863 - val_accuracy: 0.0000e+00\n",
      "Epoch 56/70\n",
      "2/2 [==============================] - ETA: 0s - loss: 1.4220e-06 - accuracy: 1.0000\n",
      "Epoch 56: val_loss did not improve from 34.71989\n",
      "2/2 [==============================] - 1s 273ms/step - loss: 1.4220e-06 - accuracy: 1.0000 - val_loss: 34.7687 - val_accuracy: 0.0000e+00\n",
      "Epoch 57/70\n",
      "2/2 [==============================] - ETA: 0s - loss: 9.9908e-07 - accuracy: 1.0000\n",
      "Epoch 57: val_loss did not improve from 34.71989\n",
      "2/2 [==============================] - 1s 263ms/step - loss: 9.9908e-07 - accuracy: 1.0000 - val_loss: 34.7460 - val_accuracy: 0.0000e+00\n",
      "Epoch 58/70\n",
      "2/2 [==============================] - ETA: 0s - loss: 2.1543e-06 - accuracy: 1.0000\n",
      "Epoch 58: val_loss did not improve from 34.71989\n",
      "2/2 [==============================] - 1s 371ms/step - loss: 2.1543e-06 - accuracy: 1.0000 - val_loss: 34.7410 - val_accuracy: 0.0000e+00\n",
      "Epoch 59/70\n",
      "2/2 [==============================] - ETA: 0s - loss: 6.4146e-07 - accuracy: 1.0000\n",
      "Epoch 59: val_loss improved from 34.71989 to 34.70979, saving model to checkpoints\\Weights-059--34.70979.hdf5\n",
      "2/2 [==============================] - 1s 482ms/step - loss: 6.4146e-07 - accuracy: 1.0000 - val_loss: 34.7098 - val_accuracy: 0.0000e+00\n",
      "Epoch 60/70\n",
      "2/2 [==============================] - ETA: 0s - loss: 2.9404e-06 - accuracy: 1.0000\n",
      "Epoch 60: val_loss did not improve from 34.70979\n",
      "2/2 [==============================] - 1s 432ms/step - loss: 2.9404e-06 - accuracy: 1.0000 - val_loss: 34.7169 - val_accuracy: 0.0000e+00\n",
      "Epoch 61/70\n",
      "2/2 [==============================] - ETA: 0s - loss: 7.8905e-07 - accuracy: 1.0000\n",
      "Epoch 61: val_loss improved from 34.70979 to 34.67094, saving model to checkpoints\\Weights-061--34.67094.hdf5\n",
      "2/2 [==============================] - 1s 519ms/step - loss: 7.8905e-07 - accuracy: 1.0000 - val_loss: 34.6709 - val_accuracy: 0.0000e+00\n",
      "Epoch 62/70\n",
      "2/2 [==============================] - ETA: 0s - loss: 1.0190e-06 - accuracy: 1.0000\n",
      "Epoch 62: val_loss improved from 34.67094 to 34.62873, saving model to checkpoints\\Weights-062--34.62873.hdf5\n",
      "2/2 [==============================] - 1s 537ms/step - loss: 1.0190e-06 - accuracy: 1.0000 - val_loss: 34.6287 - val_accuracy: 0.0000e+00\n",
      "Epoch 63/70\n",
      "2/2 [==============================] - ETA: 0s - loss: 1.6235e-06 - accuracy: 1.0000\n",
      "Epoch 63: val_loss improved from 34.62873 to 34.61219, saving model to checkpoints\\Weights-063--34.61219.hdf5\n",
      "2/2 [==============================] - 1s 508ms/step - loss: 1.6235e-06 - accuracy: 1.0000 - val_loss: 34.6122 - val_accuracy: 0.0000e+00\n",
      "Epoch 64/70\n",
      "2/2 [==============================] - ETA: 0s - loss: 8.7988e-07 - accuracy: 1.0000\n",
      "Epoch 64: val_loss improved from 34.61219 to 34.59184, saving model to checkpoints\\Weights-064--34.59184.hdf5\n",
      "2/2 [==============================] - 1s 522ms/step - loss: 8.7988e-07 - accuracy: 1.0000 - val_loss: 34.5918 - val_accuracy: 0.0000e+00\n",
      "Epoch 65/70\n",
      "2/2 [==============================] - ETA: 0s - loss: 1.4702e-06 - accuracy: 1.0000\n",
      "Epoch 65: val_loss improved from 34.59184 to 34.57719, saving model to checkpoints\\Weights-065--34.57719.hdf5\n",
      "2/2 [==============================] - 1s 537ms/step - loss: 1.4702e-06 - accuracy: 1.0000 - val_loss: 34.5772 - val_accuracy: 0.0000e+00\n",
      "Epoch 66/70\n",
      "2/2 [==============================] - ETA: 0s - loss: 1.2120e-06 - accuracy: 1.0000\n",
      "Epoch 66: val_loss did not improve from 34.57719\n",
      "2/2 [==============================] - 1s 415ms/step - loss: 1.2120e-06 - accuracy: 1.0000 - val_loss: 34.5970 - val_accuracy: 0.0000e+00\n",
      "Epoch 67/70\n",
      "2/2 [==============================] - ETA: 0s - loss: 5.3360e-07 - accuracy: 1.0000\n",
      "Epoch 67: val_loss did not improve from 34.57719\n",
      "2/2 [==============================] - 1s 438ms/step - loss: 5.3360e-07 - accuracy: 1.0000 - val_loss: 34.5776 - val_accuracy: 0.0000e+00\n",
      "Epoch 68/70\n",
      "2/2 [==============================] - ETA: 0s - loss: 7.2093e-07 - accuracy: 1.0000\n",
      "Epoch 68: val_loss improved from 34.57719 to 34.56676, saving model to checkpoints\\Weights-068--34.56676.hdf5\n",
      "2/2 [==============================] - 1s 531ms/step - loss: 7.2093e-07 - accuracy: 1.0000 - val_loss: 34.5668 - val_accuracy: 0.0000e+00\n",
      "Epoch 69/70\n",
      "2/2 [==============================] - ETA: 0s - loss: 1.1013e-06 - accuracy: 1.0000\n",
      "Epoch 69: val_loss did not improve from 34.56676\n",
      "2/2 [==============================] - 1s 431ms/step - loss: 1.1013e-06 - accuracy: 1.0000 - val_loss: 34.5796 - val_accuracy: 0.0000e+00\n",
      "Epoch 70/70\n",
      "2/2 [==============================] - ETA: 0s - loss: 2.3047e-06 - accuracy: 1.0000\n",
      "Epoch 70: val_loss did not improve from 34.56676\n",
      "2/2 [==============================] - 1s 422ms/step - loss: 2.3047e-06 - accuracy: 1.0000 - val_loss: 34.5731 - val_accuracy: 0.0000e+00\n"
     ]
    }
   ],
   "source": [
    "# Step 4: Train the model\n",
    "history = model_joueur_conv.train(X_train, y_train)"
   ]
  },
  {
   "cell_type": "code",
   "execution_count": 14,
   "metadata": {},
   "outputs": [
    {
     "name": "stdout",
     "output_type": "stream",
     "text": [
      "1/1 [==============================] - 0s 206ms/step - loss: 6.9670 - accuracy: 0.3571\n",
      "Loss:  6.966984272003174\n",
      "Accuracy:  0.3571428656578064\n"
     ]
    }
   ],
   "source": [
    "# Step 5: evaluate\n",
    "loss, accuracy = model_joueur_conv.evaluate(X_test, y_test)"
   ]
  },
  {
   "cell_type": "code",
   "execution_count": 15,
   "metadata": {},
   "outputs": [
    {
     "data": {
      "text/plain": [
       "(14, 50, 750, 3)"
      ]
     },
     "execution_count": 15,
     "metadata": {},
     "output_type": "execute_result"
    }
   ],
   "source": [
    "X_test.shape"
   ]
  },
  {
   "cell_type": "code",
   "execution_count": 16,
   "metadata": {},
   "outputs": [
    {
     "data": {
      "text/plain": [
       "(1, 50, 750, 3)"
      ]
     },
     "execution_count": 16,
     "metadata": {},
     "output_type": "execute_result"
    }
   ],
   "source": [
    "example_input = np.reshape(X_test[0], (1, 50, 750, 3))\n",
    "example_input.shape"
   ]
  },
  {
   "cell_type": "code",
   "execution_count": 17,
   "metadata": {},
   "outputs": [
    {
     "name": "stdout",
     "output_type": "stream",
     "text": [
      "1/1 [==============================] - 0s 126ms/step\n"
     ]
    },
    {
     "data": {
      "text/plain": [
       "array([0], dtype=int64)"
      ]
     },
     "execution_count": 17,
     "metadata": {},
     "output_type": "execute_result"
    }
   ],
   "source": [
    "# Step 6: predict\n",
    "y_pred = model_joueur_conv.predict(example_input)\n",
    "y_pred"
   ]
  },
  {
   "cell_type": "code",
   "execution_count": 18,
   "metadata": {},
   "outputs": [],
   "source": [
    "# Final step: save the model\n",
    "model_joueur_conv.save_model('saved_models/model_1_joueur_haut_conv.h5')"
   ]
  }
 ],
 "metadata": {
  "kernelspec": {
   "display_name": "base",
   "language": "python",
   "name": "python3"
  },
  "language_info": {
   "codemirror_mode": {
    "name": "ipython",
    "version": 3
   },
   "file_extension": ".py",
   "mimetype": "text/x-python",
   "name": "python",
   "nbconvert_exporter": "python",
   "pygments_lexer": "ipython3",
   "version": "3.9.13"
  },
  "orig_nbformat": 4
 },
 "nbformat": 4,
 "nbformat_minor": 2
}
