{
 "cells": [
  {
   "attachments": {},
   "cell_type": "markdown",
   "metadata": {},
   "source": [
    "Modèle sans convolution (réseau de neurones classique) sur le dataset du Joueur bas - Henri, Minh, Maxime\n",
    "- Coup droit\n",
    "- Déplacement\n",
    "- Revers\n",
    "- Service"
   ]
  },
  {
   "cell_type": "code",
   "execution_count": 4,
   "metadata": {},
   "outputs": [],
   "source": [
    "import numpy as np\n",
    "import cv2\n",
    "import os\n",
    "from smart.video import Video, Image\n",
    "from keras.models import Sequential\n",
    "from keras.layers import Conv2D, MaxPooling2D, Flatten, Dense, BatchNormalization, Dropout\n",
    "from keras.callbacks import ModelCheckpoint\n",
    "from keras.optimizers import Adam\n",
    "import tensorflow as tf\n",
    "import random\n",
    "from sklearn.preprocessing import LabelEncoder"
   ]
  },
  {
   "cell_type": "code",
   "execution_count": 5,
   "metadata": {},
   "outputs": [],
   "source": [
    "# Configuration\n",
    "path_dataset = 'img/JBas'"
   ]
  },
  {
   "attachments": {},
   "cell_type": "markdown",
   "metadata": {},
   "source": [
    "# Coup droit, revers, déplacement"
   ]
  },
  {
   "attachments": {},
   "cell_type": "markdown",
   "metadata": {},
   "source": [
    "## Prises des frames et des vidéos"
   ]
  },
  {
   "cell_type": "code",
   "execution_count": 2,
   "metadata": {},
   "outputs": [],
   "source": [
    "list_videos = []"
   ]
  },
  {
   "cell_type": "code",
   "execution_count": 3,
   "metadata": {},
   "outputs": [],
   "source": [
    "y = []\n",
    "all_paths = []\n",
    "for dirpath, dirnames, _ in os.walk(path_dataset):\n",
    "    for dir_type in dirnames:\n",
    "        \n",
    "        path_fol = os.path.join(dirpath, dir_type)\n",
    "        for file in os.listdir(path_fol):\n",
    "            path_fol_img = os.path.join(path_fol, file)\n",
    "            if os.path.isdir(path_fol_img) and file == 'images':\n",
    "                frames = []\n",
    "                for file_img in os.listdir(path_fol_img):\n",
    "                    path_img = os.path.join(path_fol_img, file_img)\n",
    "                    img_obj = Image.load_image(cv2.IMREAD_GRAYSCALE, path_img)\n",
    "                    img = img_obj.img\n",
    "                    frames.append(img)\t\n",
    "                if (len(frames) == 15):\n",
    "                    output_res = path_img.split('\\\\')[1]\n",
    "                    all_paths.append(path_fol_img)\n",
    "                    vid = Video.read_video_from_frames(frames)\n",
    "                    list_videos.append(vid)\n",
    "                    y.append(output_res)"
   ]
  },
  {
   "cell_type": "code",
   "execution_count": 4,
   "metadata": {},
   "outputs": [
    {
     "data": {
      "text/plain": [
       "[<smart.video.Video.Video at 0x27df49706d0>,\n",
       " <smart.video.Video.Video at 0x27dcfad9ee0>,\n",
       " <smart.video.Video.Video at 0x27dcfad9e50>,\n",
       " <smart.video.Video.Video at 0x27dcfad9fd0>,\n",
       " <smart.video.Video.Video at 0x27dcfad9d60>,\n",
       " <smart.video.Video.Video at 0x27dcfad9cd0>,\n",
       " <smart.video.Video.Video at 0x27dcfad9c40>,\n",
       " <smart.video.Video.Video at 0x27dcfad9c10>,\n",
       " <smart.video.Video.Video at 0x27dcfad9ca0>,\n",
       " <smart.video.Video.Video at 0x27df491e3d0>,\n",
       " <smart.video.Video.Video at 0x27dcfad9be0>,\n",
       " <smart.video.Video.Video at 0x27dcfadcd90>,\n",
       " <smart.video.Video.Video at 0x27dcfadcdf0>,\n",
       " <smart.video.Video.Video at 0x27dcfadce50>,\n",
       " <smart.video.Video.Video at 0x27dcfadceb0>,\n",
       " <smart.video.Video.Video at 0x27dcfadcf10>,\n",
       " <smart.video.Video.Video at 0x27dcfadcf70>,\n",
       " <smart.video.Video.Video at 0x27dcfadc940>,\n",
       " <smart.video.Video.Video at 0x27dcfad9c70>,\n",
       " <smart.video.Video.Video at 0x27dcfadcd30>,\n",
       " <smart.video.Video.Video at 0x27dcfacceb0>,\n",
       " <smart.video.Video.Video at 0x27dcfacce20>,\n",
       " <smart.video.Video.Video at 0x27dcfaccd90>,\n",
       " <smart.video.Video.Video at 0x27dcfaccd60>,\n",
       " <smart.video.Video.Video at 0x27dcfaccd00>,\n",
       " <smart.video.Video.Video at 0x27dcfaccca0>,\n",
       " <smart.video.Video.Video at 0x27dcfaccc40>,\n",
       " <smart.video.Video.Video at 0x27dcfaccbe0>,\n",
       " <smart.video.Video.Video at 0x27dcfadc700>,\n",
       " <smart.video.Video.Video at 0x27dcfaccf10>,\n",
       " <smart.video.Video.Video at 0x27dcfa9aeb0>,\n",
       " <smart.video.Video.Video at 0x27dcfaccdc0>,\n",
       " <smart.video.Video.Video at 0x27dce0bef10>,\n",
       " <smart.video.Video.Video at 0x27df5af3eb0>,\n",
       " <smart.video.Video.Video at 0x27df5af3220>,\n",
       " <smart.video.Video.Video at 0x27df5af3c10>,\n",
       " <smart.video.Video.Video at 0x27df5af3430>,\n",
       " <smart.video.Video.Video at 0x27df5af3400>,\n",
       " <smart.video.Video.Video at 0x27df5af3370>,\n",
       " <smart.video.Video.Video at 0x27df5af37c0>,\n",
       " <smart.video.Video.Video at 0x27df5af3790>,\n",
       " <smart.video.Video.Video at 0x27df5af3640>,\n",
       " <smart.video.Video.Video at 0x27df5af32b0>,\n",
       " <smart.video.Video.Video at 0x27df5af3250>,\n",
       " <smart.video.Video.Video at 0x27df5af3490>,\n",
       " <smart.video.Video.Video at 0x27df5af34f0>,\n",
       " <smart.video.Video.Video at 0x27df5af3550>,\n",
       " <smart.video.Video.Video at 0x27df5af35b0>,\n",
       " <smart.video.Video.Video at 0x27df5af36d0>,\n",
       " <smart.video.Video.Video at 0x27df5af3be0>,\n",
       " <smart.video.Video.Video at 0x27df5af3610>,\n",
       " <smart.video.Video.Video at 0x27df5af3760>,\n",
       " <smart.video.Video.Video at 0x27df5af3c40>,\n",
       " <smart.video.Video.Video at 0x27df5af3d60>,\n",
       " <smart.video.Video.Video at 0x27df5af32e0>,\n",
       " <smart.video.Video.Video at 0x27df5af3d90>,\n",
       " <smart.video.Video.Video at 0x27dce0bec40>,\n",
       " <smart.video.Video.Video at 0x27df49fd640>,\n",
       " <smart.video.Video.Video at 0x27df5af3df0>,\n",
       " <smart.video.Video.Video at 0x27df49fd730>,\n",
       " <smart.video.Video.Video at 0x27df5af3190>,\n",
       " <smart.video.Video.Video at 0x27dcfae90d0>,\n",
       " <smart.video.Video.Video at 0x27dcfae9070>,\n",
       " <smart.video.Video.Video at 0x27dcfae9160>,\n",
       " <smart.video.Video.Video at 0x27dcfae91c0>,\n",
       " <smart.video.Video.Video at 0x27dcfae9220>,\n",
       " <smart.video.Video.Video at 0x27dcfae9280>,\n",
       " <smart.video.Video.Video at 0x27dcfae92e0>,\n",
       " <smart.video.Video.Video at 0x27dcfae9340>,\n",
       " <smart.video.Video.Video at 0x27dcfae93a0>,\n",
       " <smart.video.Video.Video at 0x27dcfae9400>,\n",
       " <smart.video.Video.Video at 0x27dcfae9460>,\n",
       " <smart.video.Video.Video at 0x27dcfae94c0>,\n",
       " <smart.video.Video.Video at 0x27dcfae9550>,\n",
       " <smart.video.Video.Video at 0x27dcfae9520>,\n",
       " <smart.video.Video.Video at 0x27dcfae95e0>,\n",
       " <smart.video.Video.Video at 0x27dcfae9640>,\n",
       " <smart.video.Video.Video at 0x27dcfae96a0>,\n",
       " <smart.video.Video.Video at 0x27dcfae9700>,\n",
       " <smart.video.Video.Video at 0x27dcfae9760>,\n",
       " <smart.video.Video.Video at 0x27dcfae97c0>,\n",
       " <smart.video.Video.Video at 0x27dcfae9820>,\n",
       " <smart.video.Video.Video at 0x27dcfae9880>,\n",
       " <smart.video.Video.Video at 0x27dcfae98e0>,\n",
       " <smart.video.Video.Video at 0x27dcfae9940>,\n",
       " <smart.video.Video.Video at 0x27dcfae99a0>,\n",
       " <smart.video.Video.Video at 0x27dcfae9a00>,\n",
       " <smart.video.Video.Video at 0x27dcfae9a60>,\n",
       " <smart.video.Video.Video at 0x27dcfae9ac0>,\n",
       " <smart.video.Video.Video at 0x27dcfae9b20>,\n",
       " <smart.video.Video.Video at 0x27dcfae9b80>,\n",
       " <smart.video.Video.Video at 0x27dcfae9be0>,\n",
       " <smart.video.Video.Video at 0x27dcfae9c40>,\n",
       " <smart.video.Video.Video at 0x27dcfae9ca0>,\n",
       " <smart.video.Video.Video at 0x27dcfae9d00>,\n",
       " <smart.video.Video.Video at 0x27dcfae9d60>,\n",
       " <smart.video.Video.Video at 0x27dcfae9dc0>,\n",
       " <smart.video.Video.Video at 0x27dcfae9e20>,\n",
       " <smart.video.Video.Video at 0x27dcfae9e80>,\n",
       " <smart.video.Video.Video at 0x27dcfae9ee0>,\n",
       " <smart.video.Video.Video at 0x27dcfae9f40>,\n",
       " <smart.video.Video.Video at 0x27dcfae9f70>,\n",
       " <smart.video.Video.Video at 0x27df49f09d0>,\n",
       " <smart.video.Video.Video at 0x27dcfaee0d0>,\n",
       " <smart.video.Video.Video at 0x27dcfaee070>,\n",
       " <smart.video.Video.Video at 0x27dcfaee160>,\n",
       " <smart.video.Video.Video at 0x27dcfaee1c0>,\n",
       " <smart.video.Video.Video at 0x27dcfaee220>,\n",
       " <smart.video.Video.Video at 0x27dcfaee280>,\n",
       " <smart.video.Video.Video at 0x27dcfaee2e0>,\n",
       " <smart.video.Video.Video at 0x27dcfaee340>,\n",
       " <smart.video.Video.Video at 0x27dcfaee3a0>,\n",
       " <smart.video.Video.Video at 0x27dcfaee400>,\n",
       " <smart.video.Video.Video at 0x27dcfaee460>,\n",
       " <smart.video.Video.Video at 0x27dcfaee4c0>,\n",
       " <smart.video.Video.Video at 0x27dcfaee520>,\n",
       " <smart.video.Video.Video at 0x27dcfaee580>,\n",
       " <smart.video.Video.Video at 0x27dcfaee5e0>,\n",
       " <smart.video.Video.Video at 0x27dcfaee640>,\n",
       " <smart.video.Video.Video at 0x27dcfaee6a0>,\n",
       " <smart.video.Video.Video at 0x27dcfaee700>,\n",
       " <smart.video.Video.Video at 0x27dcfaee760>,\n",
       " <smart.video.Video.Video at 0x27dcfaee7c0>,\n",
       " <smart.video.Video.Video at 0x27dcfaee820>,\n",
       " <smart.video.Video.Video at 0x27dcfaee880>,\n",
       " <smart.video.Video.Video at 0x27dcfaee8e0>,\n",
       " <smart.video.Video.Video at 0x27dcfaee940>,\n",
       " <smart.video.Video.Video at 0x27dcfaee9a0>,\n",
       " <smart.video.Video.Video at 0x27dcfaeea00>,\n",
       " <smart.video.Video.Video at 0x27dcfaeea60>,\n",
       " <smart.video.Video.Video at 0x27dcfaeeac0>,\n",
       " <smart.video.Video.Video at 0x27dcfaeeb20>,\n",
       " <smart.video.Video.Video at 0x27dcfaeeb80>,\n",
       " <smart.video.Video.Video at 0x27dcfaeebe0>,\n",
       " <smart.video.Video.Video at 0x27dcfaeec40>,\n",
       " <smart.video.Video.Video at 0x27dcfaeeca0>,\n",
       " <smart.video.Video.Video at 0x27dcfaeed00>,\n",
       " <smart.video.Video.Video at 0x27dcfaeed60>,\n",
       " <smart.video.Video.Video at 0x27dcfae90a0>,\n",
       " <smart.video.Video.Video at 0x27dcfaeedc0>,\n",
       " <smart.video.Video.Video at 0x27dcfaeee50>,\n",
       " <smart.video.Video.Video at 0x27dcfaeeeb0>,\n",
       " <smart.video.Video.Video at 0x27dcfaeef10>,\n",
       " <smart.video.Video.Video at 0x27dcfaeefa0>,\n",
       " <smart.video.Video.Video at 0x27dcfaee100>,\n",
       " <smart.video.Video.Video at 0x27df5afc7f0>,\n",
       " <smart.video.Video.Video at 0x27dcfaf4160>,\n",
       " <smart.video.Video.Video at 0x27dcfaf41c0>,\n",
       " <smart.video.Video.Video at 0x27dcfaf4130>,\n",
       " <smart.video.Video.Video at 0x27dcfaf4220>,\n",
       " <smart.video.Video.Video at 0x27dcfaf4280>,\n",
       " <smart.video.Video.Video at 0x27dcfaf41f0>,\n",
       " <smart.video.Video.Video at 0x27dcfaf4370>,\n",
       " <smart.video.Video.Video at 0x27dcfaf4310>,\n",
       " <smart.video.Video.Video at 0x27dcfaf4430>,\n",
       " <smart.video.Video.Video at 0x27dcfaf4460>,\n",
       " <smart.video.Video.Video at 0x27dcfaf43d0>,\n",
       " <smart.video.Video.Video at 0x27dcfaf44f0>,\n",
       " <smart.video.Video.Video at 0x27dcfaf4550>,\n",
       " <smart.video.Video.Video at 0x27dcfaf45b0>,\n",
       " <smart.video.Video.Video at 0x27dcfaf4610>,\n",
       " <smart.video.Video.Video at 0x27dcfaf4670>,\n",
       " <smart.video.Video.Video at 0x27dcfaf46d0>,\n",
       " <smart.video.Video.Video at 0x27dcfaf4790>,\n",
       " <smart.video.Video.Video at 0x27dcfaf4760>,\n",
       " <smart.video.Video.Video at 0x27dcfaf4880>,\n",
       " <smart.video.Video.Video at 0x27dcfaf47f0>,\n",
       " <smart.video.Video.Video at 0x27dcfaf48b0>,\n",
       " <smart.video.Video.Video at 0x27dcfaf4910>,\n",
       " <smart.video.Video.Video at 0x27dcfaf4970>,\n",
       " <smart.video.Video.Video at 0x27dcfaf49d0>,\n",
       " <smart.video.Video.Video at 0x27dcfaf4a30>,\n",
       " <smart.video.Video.Video at 0x27dcfaf4a90>,\n",
       " <smart.video.Video.Video at 0x27dcfaf4b80>,\n",
       " <smart.video.Video.Video at 0x27dcfaf4b20>,\n",
       " <smart.video.Video.Video at 0x27dcfaf4bb0>,\n",
       " <smart.video.Video.Video at 0x27dcfaf4c10>,\n",
       " <smart.video.Video.Video at 0x27dcfaf4d00>,\n",
       " <smart.video.Video.Video at 0x27dcfaf4d60>,\n",
       " <smart.video.Video.Video at 0x27dcfaf4dc0>,\n",
       " <smart.video.Video.Video at 0x27dcfaf4d30>,\n",
       " <smart.video.Video.Video at 0x27dcfaf4df0>,\n",
       " <smart.video.Video.Video at 0x27dcfaf4e50>,\n",
       " <smart.video.Video.Video at 0x27dcfaf4eb0>,\n",
       " <smart.video.Video.Video at 0x27dcfaf4f70>,\n",
       " <smart.video.Video.Video at 0x27dcfaf4f10>,\n",
       " <smart.video.Video.Video at 0x27dcfaf4fa0>,\n",
       " <smart.video.Video.Video at 0x27dcfaf70d0>,\n",
       " <smart.video.Video.Video at 0x27dcfaf7070>,\n",
       " <smart.video.Video.Video at 0x27dcfaf7160>,\n",
       " <smart.video.Video.Video at 0x27dcfaf71c0>,\n",
       " <smart.video.Video.Video at 0x27dcfaf7220>,\n",
       " <smart.video.Video.Video at 0x27dcfaf7280>,\n",
       " <smart.video.Video.Video at 0x27dcfaf72e0>,\n",
       " <smart.video.Video.Video at 0x27dcfaf7340>,\n",
       " <smart.video.Video.Video at 0x27dcfaf73a0>,\n",
       " <smart.video.Video.Video at 0x27dcfaf7400>,\n",
       " <smart.video.Video.Video at 0x27dcfaf7460>,\n",
       " <smart.video.Video.Video at 0x27dcfaf74c0>,\n",
       " <smart.video.Video.Video at 0x27dcfaf7520>,\n",
       " <smart.video.Video.Video at 0x27dcfaf7580>,\n",
       " <smart.video.Video.Video at 0x27dcfaf75e0>,\n",
       " <smart.video.Video.Video at 0x27dcfaf7640>,\n",
       " <smart.video.Video.Video at 0x27dcfaf76a0>,\n",
       " <smart.video.Video.Video at 0x27dcfaf7700>,\n",
       " <smart.video.Video.Video at 0x27dcfaf7760>,\n",
       " <smart.video.Video.Video at 0x27dcfaf77c0>,\n",
       " <smart.video.Video.Video at 0x27dcfaf7820>,\n",
       " <smart.video.Video.Video at 0x27dcfaf7880>,\n",
       " <smart.video.Video.Video at 0x27dcfaf78e0>,\n",
       " <smart.video.Video.Video at 0x27dcfaf7940>,\n",
       " <smart.video.Video.Video at 0x27dcfaf79a0>,\n",
       " <smart.video.Video.Video at 0x27dcfaf7a00>,\n",
       " <smart.video.Video.Video at 0x27dcfaf7a60>]"
      ]
     },
     "execution_count": 4,
     "metadata": {},
     "output_type": "execute_result"
    }
   ],
   "source": [
    "list_videos"
   ]
  },
  {
   "cell_type": "code",
   "execution_count": 5,
   "metadata": {},
   "outputs": [
    {
     "data": {
      "text/plain": [
       "['coup droit',\n",
       " 'coup droit',\n",
       " 'coup droit',\n",
       " 'coup droit',\n",
       " 'coup droit',\n",
       " 'coup droit',\n",
       " 'coup droit',\n",
       " 'coup droit',\n",
       " 'coup droit',\n",
       " 'coup droit',\n",
       " 'coup droit',\n",
       " 'coup droit',\n",
       " 'coup droit',\n",
       " 'coup droit',\n",
       " 'coup droit',\n",
       " 'coup droit',\n",
       " 'coup droit',\n",
       " 'coup droit',\n",
       " 'coup droit',\n",
       " 'coup droit',\n",
       " 'coup droit',\n",
       " 'coup droit',\n",
       " 'coup droit',\n",
       " 'coup droit',\n",
       " 'coup droit',\n",
       " 'coup droit',\n",
       " 'coup droit',\n",
       " 'coup droit',\n",
       " 'coup droit',\n",
       " 'coup droit',\n",
       " 'coup droit',\n",
       " 'coup droit',\n",
       " 'coup droit',\n",
       " 'coup droit',\n",
       " 'coup droit',\n",
       " 'coup droit',\n",
       " 'coup droit',\n",
       " 'coup droit',\n",
       " 'coup droit',\n",
       " 'coup droit',\n",
       " 'coup droit',\n",
       " 'coup droit',\n",
       " 'coup droit',\n",
       " 'coup droit',\n",
       " 'coup droit',\n",
       " 'coup droit',\n",
       " 'coup droit',\n",
       " 'coup droit',\n",
       " 'coup droit',\n",
       " 'coup droit',\n",
       " 'coup droit',\n",
       " 'coup droit',\n",
       " 'coup droit',\n",
       " 'coup droit',\n",
       " 'coup droit',\n",
       " 'coup droit',\n",
       " 'coup droit',\n",
       " 'coup droit',\n",
       " 'coup droit',\n",
       " 'coup droit',\n",
       " 'coup droit',\n",
       " 'coup droit',\n",
       " 'coup droit',\n",
       " 'coup droit',\n",
       " 'coup droit',\n",
       " 'coup droit',\n",
       " 'coup droit',\n",
       " 'coup droit',\n",
       " 'coup droit',\n",
       " 'coup droit',\n",
       " 'coup droit',\n",
       " 'coup droit',\n",
       " 'deplacement',\n",
       " 'deplacement',\n",
       " 'deplacement',\n",
       " 'deplacement',\n",
       " 'deplacement',\n",
       " 'deplacement',\n",
       " 'deplacement',\n",
       " 'deplacement',\n",
       " 'deplacement',\n",
       " 'deplacement',\n",
       " 'deplacement',\n",
       " 'deplacement',\n",
       " 'deplacement',\n",
       " 'deplacement',\n",
       " 'deplacement',\n",
       " 'deplacement',\n",
       " 'deplacement',\n",
       " 'deplacement',\n",
       " 'deplacement',\n",
       " 'deplacement',\n",
       " 'deplacement',\n",
       " 'deplacement',\n",
       " 'deplacement',\n",
       " 'deplacement',\n",
       " 'deplacement',\n",
       " 'deplacement',\n",
       " 'deplacement',\n",
       " 'deplacement',\n",
       " 'deplacement',\n",
       " 'deplacement',\n",
       " 'deplacement',\n",
       " 'deplacement',\n",
       " 'deplacement',\n",
       " 'deplacement',\n",
       " 'deplacement',\n",
       " 'deplacement',\n",
       " 'deplacement',\n",
       " 'deplacement',\n",
       " 'deplacement',\n",
       " 'deplacement',\n",
       " 'deplacement',\n",
       " 'deplacement',\n",
       " 'deplacement',\n",
       " 'deplacement',\n",
       " 'deplacement',\n",
       " 'deplacement',\n",
       " 'deplacement',\n",
       " 'deplacement',\n",
       " 'deplacement',\n",
       " 'deplacement',\n",
       " 'deplacement',\n",
       " 'deplacement',\n",
       " 'deplacement',\n",
       " 'deplacement',\n",
       " 'deplacement',\n",
       " 'deplacement',\n",
       " 'deplacement',\n",
       " 'deplacement',\n",
       " 'deplacement',\n",
       " 'deplacement',\n",
       " 'deplacement',\n",
       " 'deplacement',\n",
       " 'deplacement',\n",
       " 'deplacement',\n",
       " 'deplacement',\n",
       " 'deplacement',\n",
       " 'revers',\n",
       " 'revers',\n",
       " 'revers',\n",
       " 'revers',\n",
       " 'revers',\n",
       " 'revers',\n",
       " 'revers',\n",
       " 'revers',\n",
       " 'revers',\n",
       " 'revers',\n",
       " 'revers',\n",
       " 'revers',\n",
       " 'revers',\n",
       " 'revers',\n",
       " 'revers',\n",
       " 'revers',\n",
       " 'revers',\n",
       " 'revers',\n",
       " 'revers',\n",
       " 'revers',\n",
       " 'revers',\n",
       " 'revers',\n",
       " 'revers',\n",
       " 'revers',\n",
       " 'revers',\n",
       " 'revers',\n",
       " 'revers',\n",
       " 'revers',\n",
       " 'revers',\n",
       " 'revers',\n",
       " 'revers',\n",
       " 'revers',\n",
       " 'revers',\n",
       " 'revers',\n",
       " 'revers',\n",
       " 'revers',\n",
       " 'revers',\n",
       " 'revers',\n",
       " 'revers',\n",
       " 'revers',\n",
       " 'revers',\n",
       " 'revers',\n",
       " 'revers',\n",
       " 'revers',\n",
       " 'revers',\n",
       " 'revers',\n",
       " 'revers',\n",
       " 'revers',\n",
       " 'service',\n",
       " 'service',\n",
       " 'service',\n",
       " 'service',\n",
       " 'service',\n",
       " 'service',\n",
       " 'service',\n",
       " 'service',\n",
       " 'service',\n",
       " 'service',\n",
       " 'service',\n",
       " 'service',\n",
       " 'service',\n",
       " 'service',\n",
       " 'service',\n",
       " 'service',\n",
       " 'service',\n",
       " 'service',\n",
       " 'service',\n",
       " 'service',\n",
       " 'service',\n",
       " 'service',\n",
       " 'service',\n",
       " 'service',\n",
       " 'service',\n",
       " 'service',\n",
       " 'service',\n",
       " 'service']"
      ]
     },
     "execution_count": 5,
     "metadata": {},
     "output_type": "execute_result"
    }
   ],
   "source": [
    "# Output sans label encoder\n",
    "y"
   ]
  },
  {
   "cell_type": "code",
   "execution_count": 6,
   "metadata": {},
   "outputs": [],
   "source": [
    "# One-hot encoding\n",
    "encoder = LabelEncoder()"
   ]
  },
  {
   "attachments": {},
   "cell_type": "markdown",
   "metadata": {},
   "source": [
    "Transformer output y en one hot vector\n",
    "- 0: coup droit\n",
    "- 1: déplacement\n",
    "- 2: revers\n",
    "- 3: service"
   ]
  },
  {
   "cell_type": "code",
   "execution_count": 7,
   "metadata": {},
   "outputs": [
    {
     "data": {
      "text/plain": [
       "array([0, 0, 0, 0, 0, 0, 0, 0, 0, 0, 0, 0, 0, 0, 0, 0, 0, 0, 0, 0, 0, 0,\n",
       "       0, 0, 0, 0, 0, 0, 0, 0, 0, 0, 0, 0, 0, 0, 0, 0, 0, 0, 0, 0, 0, 0,\n",
       "       0, 0, 0, 0, 0, 0, 0, 0, 0, 0, 0, 0, 0, 0, 0, 0, 0, 0, 0, 0, 0, 0,\n",
       "       0, 0, 0, 0, 0, 0, 1, 1, 1, 1, 1, 1, 1, 1, 1, 1, 1, 1, 1, 1, 1, 1,\n",
       "       1, 1, 1, 1, 1, 1, 1, 1, 1, 1, 1, 1, 1, 1, 1, 1, 1, 1, 1, 1, 1, 1,\n",
       "       1, 1, 1, 1, 1, 1, 1, 1, 1, 1, 1, 1, 1, 1, 1, 1, 1, 1, 1, 1, 1, 1,\n",
       "       1, 1, 1, 1, 1, 1, 2, 2, 2, 2, 2, 2, 2, 2, 2, 2, 2, 2, 2, 2, 2, 2,\n",
       "       2, 2, 2, 2, 2, 2, 2, 2, 2, 2, 2, 2, 2, 2, 2, 2, 2, 2, 2, 2, 2, 2,\n",
       "       2, 2, 2, 2, 2, 2, 2, 2, 2, 2, 3, 3, 3, 3, 3, 3, 3, 3, 3, 3, 3, 3,\n",
       "       3, 3, 3, 3, 3, 3, 3, 3, 3, 3, 3, 3, 3, 3, 3, 3], dtype=int64)"
      ]
     },
     "execution_count": 7,
     "metadata": {},
     "output_type": "execute_result"
    }
   ],
   "source": [
    "y = encoder.fit_transform(y)\n",
    "y"
   ]
  },
  {
   "cell_type": "code",
   "execution_count": 8,
   "metadata": {},
   "outputs": [
    {
     "data": {
      "text/plain": [
       "array([0, 1, 2, 3], dtype=int64)"
      ]
     },
     "execution_count": 8,
     "metadata": {},
     "output_type": "execute_result"
    }
   ],
   "source": [
    "output_y = np.unique(y)\n",
    "output_y"
   ]
  },
  {
   "cell_type": "code",
   "execution_count": 9,
   "metadata": {},
   "outputs": [
    {
     "data": {
      "text/plain": [
       "37500"
      ]
     },
     "execution_count": 9,
     "metadata": {},
     "output_type": "execute_result"
    }
   ],
   "source": [
    "# Résolution des images\n",
    "input_shape_model = list_videos[0].frames.shape[0] * list_videos[0].frames.shape[1] * list_videos[0].frames.shape[2]\n",
    "input_shape_model"
   ]
  },
  {
   "cell_type": "code",
   "execution_count": 10,
   "metadata": {},
   "outputs": [
    {
     "data": {
      "text/plain": [
       "214"
      ]
     },
     "execution_count": 10,
     "metadata": {},
     "output_type": "execute_result"
    }
   ],
   "source": [
    "len(list_videos)"
   ]
  },
  {
   "cell_type": "code",
   "execution_count": 11,
   "metadata": {},
   "outputs": [],
   "source": [
    "train_size = int(len(list_videos) * 0.8)\n",
    "test_size = len(list_videos) - train_size"
   ]
  },
  {
   "cell_type": "code",
   "execution_count": 12,
   "metadata": {},
   "outputs": [
    {
     "data": {
      "text/plain": [
       "(171, 171, 43, 43)"
      ]
     },
     "execution_count": 12,
     "metadata": {},
     "output_type": "execute_result"
    }
   ],
   "source": [
    "## Split video train, test\n",
    "random.seed(42)\n",
    "vids_train = random.sample(list_videos, k = train_size)\n",
    "vids_test = [vid for vid in list_videos if vid not in vids_train]\n",
    "y_train = [y[i] for i in range(len(y)) if list_videos[i] in vids_train]\n",
    "y_test = [y[i] for i in range(len(y)) if list_videos[i] in vids_test]\n",
    "paths_test = [all_paths[i] for i in range(len(all_paths)) if list_videos[i] in vids_test]\n",
    "len(vids_train), len(y_train), len(vids_test), len(y_test)"
   ]
  },
  {
   "cell_type": "code",
   "execution_count": 13,
   "metadata": {},
   "outputs": [
    {
     "data": {
      "text/plain": [
       "['img/JBas\\\\coup droit\\\\1980-2563441\\\\images',\n",
       " 'img/JBas\\\\coup droit\\\\1980-2563523\\\\images',\n",
       " 'img/JBas\\\\coup droit\\\\42698-4288095\\\\images',\n",
       " 'img/JBas\\\\coup droit\\\\a36r805\\\\images',\n",
       " 'img/JBas\\\\coup droit\\\\Alcaraz_Sinner270\\\\images',\n",
       " 'img/JBas\\\\coup droit\\\\AS_13416\\\\images',\n",
       " 'img/JBas\\\\coup droit\\\\AS_22373\\\\images',\n",
       " 'img/JBas\\\\coup droit\\\\AS_30502\\\\images',\n",
       " 'img/JBas\\\\coup droit\\\\AS_37288\\\\images',\n",
       " 'img/JBas\\\\coup droit\\\\AS_40159\\\\images',\n",
       " 'img/JBas\\\\coup droit\\\\car0001-0342253\\\\images',\n",
       " 'img/JBas\\\\coup droit\\\\car5493-5847185\\\\images',\n",
       " 'img/JBas\\\\coup droit\\\\na0201977\\\\images',\n",
       " 'img/JBas\\\\coup droit\\\\uopc1041\\\\images',\n",
       " 'img/JBas\\\\coup droit\\\\uopc1683\\\\images',\n",
       " 'img/JBas\\\\coup droit\\\\uopc339\\\\images',\n",
       " 'img/JBas\\\\deplacement\\\\a36r1216\\\\images',\n",
       " 'img/JBas\\\\deplacement\\\\a36r1713\\\\images',\n",
       " 'img/JBas\\\\deplacement\\\\a36r172\\\\images',\n",
       " 'img/JBas\\\\deplacement\\\\a36r257\\\\images',\n",
       " 'img/JBas\\\\deplacement\\\\a36r339\\\\images',\n",
       " 'img/JBas\\\\deplacement\\\\AS_13292\\\\images',\n",
       " 'img/JBas\\\\deplacement\\\\AS_40133\\\\images',\n",
       " 'img/JBas\\\\deplacement\\\\car5936-6390437\\\\images',\n",
       " 'img/JBas\\\\deplacement\\\\ivjs985\\\\images',\n",
       " 'img/JBas\\\\deplacement\\\\na0201125\\\\images',\n",
       " 'img/JBas\\\\deplacement\\\\na0201446\\\\images',\n",
       " 'img/JBas\\\\deplacement\\\\na0201578\\\\images',\n",
       " 'img/JBas\\\\deplacement\\\\na0201831\\\\images',\n",
       " 'img/JBas\\\\deplacement\\\\uopc1067\\\\images',\n",
       " 'img/JBas\\\\deplacement\\\\uopc227\\\\images',\n",
       " 'img/JBas\\\\deplacement\\\\uopc304\\\\images',\n",
       " 'img/JBas\\\\revers\\\\a36r1276\\\\images',\n",
       " 'img/JBas\\\\revers\\\\AS_24472\\\\images',\n",
       " 'img/JBas\\\\revers\\\\AS_35566\\\\images',\n",
       " 'img/JBas\\\\revers\\\\car2491-2852287\\\\images',\n",
       " 'img/JBas\\\\revers\\\\clip_usopen896\\\\images',\n",
       " 'img/JBas\\\\revers\\\\na02011281\\\\images',\n",
       " 'img/JBas\\\\revers\\\\na02011743\\\\images',\n",
       " 'img/JBas\\\\service\\\\AS_34155\\\\images',\n",
       " 'img/JBas\\\\service\\\\car0001-0342180\\\\images',\n",
       " 'img/JBas\\\\service\\\\car2491-2852108\\\\images',\n",
       " 'img/JBas\\\\service\\\\car5493-5847116\\\\images']"
      ]
     },
     "execution_count": 13,
     "metadata": {},
     "output_type": "execute_result"
    }
   ],
   "source": [
    "paths_test"
   ]
  },
  {
   "cell_type": "code",
   "execution_count": 14,
   "metadata": {},
   "outputs": [
    {
     "data": {
      "text/plain": [
       "array([0, 0, 0, 0, 0, 0, 0, 0, 0, 0, 0, 0, 0, 0, 0, 0, 0, 0, 0, 0, 0, 0,\n",
       "       0, 0, 0, 0, 0, 0, 0, 0, 0, 0, 0, 0, 0, 0, 0, 0, 0, 0, 0, 0, 0, 0,\n",
       "       0, 0, 0, 0, 0, 0, 0, 0, 0, 0, 0, 0, 1, 1, 1, 1, 1, 1, 1, 1, 1, 1,\n",
       "       1, 1, 1, 1, 1, 1, 1, 1, 1, 1, 1, 1, 1, 1, 1, 1, 1, 1, 1, 1, 1, 1,\n",
       "       1, 1, 1, 1, 1, 1, 1, 1, 1, 1, 1, 1, 1, 1, 1, 1, 1, 1, 2, 2, 2, 2,\n",
       "       2, 2, 2, 2, 2, 2, 2, 2, 2, 2, 2, 2, 2, 2, 2, 2, 2, 2, 2, 2, 2, 2,\n",
       "       2, 2, 2, 2, 2, 2, 2, 2, 2, 2, 2, 2, 2, 2, 2, 3, 3, 3, 3, 3, 3, 3,\n",
       "       3, 3, 3, 3, 3, 3, 3, 3, 3, 3, 3, 3, 3, 3, 3, 3, 3])"
      ]
     },
     "execution_count": 14,
     "metadata": {},
     "output_type": "execute_result"
    }
   ],
   "source": [
    "y_train = np.array(y_train, dtype=int)\n",
    "y_test = np.array(y_test, dtype=int)\n",
    "y_train"
   ]
  },
  {
   "cell_type": "code",
   "execution_count": 15,
   "metadata": {},
   "outputs": [
    {
     "data": {
      "text/plain": [
       "array([[0, 0, 0, ..., 0, 0, 0],\n",
       "       [0, 0, 0, ..., 0, 0, 0],\n",
       "       [0, 0, 0, ..., 0, 0, 0],\n",
       "       ...,\n",
       "       [0, 0, 0, ..., 0, 0, 0],\n",
       "       [0, 0, 0, ..., 0, 0, 0],\n",
       "       [0, 0, 0, ..., 0, 0, 0]])"
      ]
     },
     "execution_count": 15,
     "metadata": {},
     "output_type": "execute_result"
    }
   ],
   "source": [
    "# Split input X en train, test set\n",
    "X_train = np.zeros((train_size, 50*50*15), dtype=int)\n",
    "for i, vid in enumerate(vids_train):\n",
    "    seq_img = vid.frames.flatten()\n",
    "    X_train[i] = seq_img\n",
    "X_train"
   ]
  },
  {
   "cell_type": "code",
   "execution_count": 16,
   "metadata": {},
   "outputs": [
    {
     "data": {
      "text/plain": [
       "array([[0, 0, 0, ..., 0, 0, 0],\n",
       "       [0, 0, 0, ..., 0, 0, 0],\n",
       "       [0, 0, 0, ..., 0, 0, 0],\n",
       "       ...,\n",
       "       [0, 0, 0, ..., 0, 0, 0],\n",
       "       [0, 0, 0, ..., 0, 0, 0],\n",
       "       [0, 0, 0, ..., 0, 0, 0]])"
      ]
     },
     "execution_count": 16,
     "metadata": {},
     "output_type": "execute_result"
    }
   ],
   "source": [
    "X_test = np.zeros((test_size, 50*50*15), dtype=int)\n",
    "for i, vid in enumerate(vids_test):\n",
    "    seq_img = vid.frames.flatten()\n",
    "    X_test[i] = seq_img\n",
    "X_test"
   ]
  },
  {
   "cell_type": "code",
   "execution_count": 17,
   "metadata": {},
   "outputs": [],
   "source": [
    "# Normalisation\n",
    "X_train = X_train / 255.0\n",
    "X_test = X_test / 255.0"
   ]
  },
  {
   "attachments": {},
   "cell_type": "markdown",
   "metadata": {},
   "source": [
    "## Modèle de réseau de neurones avec classification multiclass"
   ]
  },
  {
   "cell_type": "code",
   "execution_count": 18,
   "metadata": {},
   "outputs": [
    {
     "name": "stdout",
     "output_type": "stream",
     "text": [
      "Model: \"sequential\"\n",
      "_________________________________________________________________\n",
      " Layer (type)                Output Shape              Param #   \n",
      "=================================================================\n",
      " dense (Dense)               (None, 16)                600016    \n",
      "                                                                 \n",
      " dense_1 (Dense)             (None, 32)                544       \n",
      "                                                                 \n",
      " dense_2 (Dense)             (None, 64)                2112      \n",
      "                                                                 \n",
      " dense_3 (Dense)             (None, 128)               8320      \n",
      "                                                                 \n",
      " dense_4 (Dense)             (None, 4)                 516       \n",
      "                                                                 \n",
      "=================================================================\n",
      "Total params: 611,508\n",
      "Trainable params: 611,508\n",
      "Non-trainable params: 0\n",
      "_________________________________________________________________\n"
     ]
    }
   ],
   "source": [
    "tf.random.set_seed(1234) # for consistent results\n",
    "model = Sequential(\n",
    "    [               \n",
    "        tf.keras.Input(shape = input_shape_model), # 50*50 * 15 = 37500\n",
    "        Dense(units=16, activation=\"relu\"),\n",
    "        Dense(units=32, activation=\"relu\"),\n",
    "        Dense(units=64, activation=\"sigmoid\"),\n",
    "        Dense(units=128, activation=\"relu\"),\n",
    "        Dense(units=len(output_y), activation=\"softmax\"),\n",
    "    ]\n",
    ")          \n",
    "model.summary()"
   ]
  },
  {
   "cell_type": "code",
   "execution_count": 19,
   "metadata": {},
   "outputs": [],
   "source": [
    "checkpoint_name = 'Weights-{epoch:03d}--{val_loss:.5f}.hdf5' \n",
    "checkpoint = ModelCheckpoint(checkpoint_name, monitor='val_loss', verbose = 1, save_best_only = True, mode ='auto')\n",
    "callbacks_list = [checkpoint]"
   ]
  },
  {
   "cell_type": "code",
   "execution_count": 20,
   "metadata": {},
   "outputs": [
    {
     "name": "stdout",
     "output_type": "stream",
     "text": [
      "Epoch 1/70\n",
      "1/5 [=====>........................] - ETA: 2s - loss: 1.4116 - accuracy: 0.3750\n",
      "Epoch 1: val_loss improved from inf to 2.72903, saving model to Weights-001--2.72903.hdf5\n",
      "5/5 [==============================] - 1s 103ms/step - loss: 1.2571 - accuracy: 0.3676 - val_loss: 2.7290 - val_accuracy: 0.0000e+00\n",
      "Epoch 2/70\n",
      "1/5 [=====>........................] - ETA: 0s - loss: 1.1106 - accuracy: 0.3438\n",
      "Epoch 2: val_loss did not improve from 2.72903\n",
      "5/5 [==============================] - 0s 20ms/step - loss: 1.0812 - accuracy: 0.4412 - val_loss: 3.6083 - val_accuracy: 0.0000e+00\n",
      "Epoch 3/70\n",
      "1/5 [=====>........................] - ETA: 0s - loss: 1.0516 - accuracy: 0.5312\n",
      "Epoch 3: val_loss did not improve from 2.72903\n",
      "5/5 [==============================] - 0s 20ms/step - loss: 1.0073 - accuracy: 0.5368 - val_loss: 4.1296 - val_accuracy: 0.0000e+00\n",
      "Epoch 4/70\n",
      "5/5 [==============================] - ETA: 0s - loss: 0.9411 - accuracy: 0.5588\n",
      "Epoch 4: val_loss did not improve from 2.72903\n",
      "5/5 [==============================] - 0s 24ms/step - loss: 0.9411 - accuracy: 0.5588 - val_loss: 4.2230 - val_accuracy: 0.0000e+00\n",
      "Epoch 5/70\n",
      "1/5 [=====>........................] - ETA: 0s - loss: 0.9140 - accuracy: 0.5938\n",
      "Epoch 5: val_loss did not improve from 2.72903\n",
      "5/5 [==============================] - 0s 19ms/step - loss: 0.8291 - accuracy: 0.7132 - val_loss: 4.4224 - val_accuracy: 0.0000e+00\n",
      "Epoch 6/70\n",
      "1/5 [=====>........................] - ETA: 0s - loss: 0.6975 - accuracy: 0.7812\n",
      "Epoch 6: val_loss did not improve from 2.72903\n",
      "5/5 [==============================] - 0s 17ms/step - loss: 0.6724 - accuracy: 0.7941 - val_loss: 4.5342 - val_accuracy: 0.0000e+00\n",
      "Epoch 7/70\n",
      "1/5 [=====>........................] - ETA: 0s - loss: 0.5426 - accuracy: 0.9375\n",
      "Epoch 7: val_loss did not improve from 2.72903\n",
      "5/5 [==============================] - 0s 21ms/step - loss: 0.5144 - accuracy: 0.9338 - val_loss: 4.6249 - val_accuracy: 0.0571\n",
      "Epoch 8/70\n",
      "1/5 [=====>........................] - ETA: 0s - loss: 0.4140 - accuracy: 0.9688\n",
      "Epoch 8: val_loss did not improve from 2.72903\n",
      "5/5 [==============================] - 0s 20ms/step - loss: 0.3683 - accuracy: 0.9632 - val_loss: 4.8251 - val_accuracy: 0.0571\n",
      "Epoch 9/70\n",
      "1/5 [=====>........................] - ETA: 0s - loss: 0.2705 - accuracy: 0.9688\n",
      "Epoch 9: val_loss did not improve from 2.72903\n",
      "5/5 [==============================] - 0s 21ms/step - loss: 0.2500 - accuracy: 0.9706 - val_loss: 4.9046 - val_accuracy: 0.0571\n",
      "Epoch 10/70\n",
      "1/5 [=====>........................] - ETA: 0s - loss: 0.1875 - accuracy: 1.0000\n",
      "Epoch 10: val_loss did not improve from 2.72903\n",
      "5/5 [==============================] - 0s 25ms/step - loss: 0.1621 - accuracy: 0.9926 - val_loss: 4.9739 - val_accuracy: 0.0857\n",
      "Epoch 11/70\n",
      "5/5 [==============================] - ETA: 0s - loss: 0.1046 - accuracy: 1.0000\n",
      "Epoch 11: val_loss did not improve from 2.72903\n",
      "5/5 [==============================] - 0s 37ms/step - loss: 0.1046 - accuracy: 1.0000 - val_loss: 5.2479 - val_accuracy: 0.0286\n",
      "Epoch 12/70\n",
      "5/5 [==============================] - ETA: 0s - loss: 0.0637 - accuracy: 1.0000\n",
      "Epoch 12: val_loss did not improve from 2.72903\n",
      "5/5 [==============================] - 0s 37ms/step - loss: 0.0637 - accuracy: 1.0000 - val_loss: 5.3597 - val_accuracy: 0.0857\n",
      "Epoch 13/70\n",
      "1/5 [=====>........................] - ETA: 0s - loss: 0.0538 - accuracy: 1.0000\n",
      "Epoch 13: val_loss did not improve from 2.72903\n",
      "5/5 [==============================] - 0s 29ms/step - loss: 0.0392 - accuracy: 1.0000 - val_loss: 5.3637 - val_accuracy: 0.0857\n",
      "Epoch 14/70\n",
      "5/5 [==============================] - ETA: 0s - loss: 0.0255 - accuracy: 1.0000\n",
      "Epoch 14: val_loss did not improve from 2.72903\n",
      "5/5 [==============================] - 0s 27ms/step - loss: 0.0255 - accuracy: 1.0000 - val_loss: 5.5857 - val_accuracy: 0.0857\n",
      "Epoch 15/70\n",
      "5/5 [==============================] - ETA: 0s - loss: 0.0176 - accuracy: 1.0000\n",
      "Epoch 15: val_loss did not improve from 2.72903\n",
      "5/5 [==============================] - 0s 29ms/step - loss: 0.0176 - accuracy: 1.0000 - val_loss: 5.7922 - val_accuracy: 0.0857\n",
      "Epoch 16/70\n",
      "5/5 [==============================] - ETA: 0s - loss: 0.0134 - accuracy: 1.0000\n",
      "Epoch 16: val_loss did not improve from 2.72903\n",
      "5/5 [==============================] - 0s 33ms/step - loss: 0.0134 - accuracy: 1.0000 - val_loss: 5.8595 - val_accuracy: 0.0857\n",
      "Epoch 17/70\n",
      "5/5 [==============================] - ETA: 0s - loss: 0.0105 - accuracy: 1.0000\n",
      "Epoch 17: val_loss did not improve from 2.72903\n",
      "5/5 [==============================] - 0s 30ms/step - loss: 0.0105 - accuracy: 1.0000 - val_loss: 5.7932 - val_accuracy: 0.0857\n",
      "Epoch 18/70\n",
      "5/5 [==============================] - ETA: 0s - loss: 0.0086 - accuracy: 1.0000\n",
      "Epoch 18: val_loss did not improve from 2.72903\n",
      "5/5 [==============================] - 0s 28ms/step - loss: 0.0086 - accuracy: 1.0000 - val_loss: 5.7377 - val_accuracy: 0.0857\n",
      "Epoch 19/70\n",
      "5/5 [==============================] - ETA: 0s - loss: 0.0073 - accuracy: 1.0000\n",
      "Epoch 19: val_loss did not improve from 2.72903\n",
      "5/5 [==============================] - 0s 34ms/step - loss: 0.0073 - accuracy: 1.0000 - val_loss: 5.7540 - val_accuracy: 0.0857\n",
      "Epoch 20/70\n",
      "1/5 [=====>........................] - ETA: 0s - loss: 0.0063 - accuracy: 1.0000\n",
      "Epoch 20: val_loss did not improve from 2.72903\n",
      "5/5 [==============================] - 0s 32ms/step - loss: 0.0063 - accuracy: 1.0000 - val_loss: 5.8368 - val_accuracy: 0.0857\n",
      "Epoch 21/70\n",
      "5/5 [==============================] - ETA: 0s - loss: 0.0055 - accuracy: 1.0000\n",
      "Epoch 21: val_loss did not improve from 2.72903\n",
      "5/5 [==============================] - 0s 39ms/step - loss: 0.0055 - accuracy: 1.0000 - val_loss: 5.8932 - val_accuracy: 0.0857\n",
      "Epoch 22/70\n",
      "5/5 [==============================] - ETA: 0s - loss: 0.0049 - accuracy: 1.0000\n",
      "Epoch 22: val_loss did not improve from 2.72903\n",
      "5/5 [==============================] - 0s 39ms/step - loss: 0.0049 - accuracy: 1.0000 - val_loss: 5.9484 - val_accuracy: 0.0857\n",
      "Epoch 23/70\n",
      "5/5 [==============================] - ETA: 0s - loss: 0.0044 - accuracy: 1.0000\n",
      "Epoch 23: val_loss did not improve from 2.72903\n",
      "5/5 [==============================] - 0s 38ms/step - loss: 0.0044 - accuracy: 1.0000 - val_loss: 5.9945 - val_accuracy: 0.0857\n",
      "Epoch 24/70\n",
      "5/5 [==============================] - ETA: 0s - loss: 0.0040 - accuracy: 1.0000\n",
      "Epoch 24: val_loss did not improve from 2.72903\n",
      "5/5 [==============================] - 0s 33ms/step - loss: 0.0040 - accuracy: 1.0000 - val_loss: 6.0302 - val_accuracy: 0.0857\n",
      "Epoch 25/70\n",
      "5/5 [==============================] - ETA: 0s - loss: 0.0036 - accuracy: 1.0000\n",
      "Epoch 25: val_loss did not improve from 2.72903\n",
      "5/5 [==============================] - 0s 33ms/step - loss: 0.0036 - accuracy: 1.0000 - val_loss: 6.0587 - val_accuracy: 0.0857\n",
      "Epoch 26/70\n",
      "5/5 [==============================] - ETA: 0s - loss: 0.0033 - accuracy: 1.0000\n",
      "Epoch 26: val_loss did not improve from 2.72903\n",
      "5/5 [==============================] - 0s 33ms/step - loss: 0.0033 - accuracy: 1.0000 - val_loss: 6.1049 - val_accuracy: 0.0857\n",
      "Epoch 27/70\n",
      "5/5 [==============================] - ETA: 0s - loss: 0.0031 - accuracy: 1.0000\n",
      "Epoch 27: val_loss did not improve from 2.72903\n",
      "5/5 [==============================] - 0s 29ms/step - loss: 0.0031 - accuracy: 1.0000 - val_loss: 6.1429 - val_accuracy: 0.0857\n",
      "Epoch 28/70\n",
      "5/5 [==============================] - ETA: 0s - loss: 0.0028 - accuracy: 1.0000\n",
      "Epoch 28: val_loss did not improve from 2.72903\n",
      "5/5 [==============================] - 0s 32ms/step - loss: 0.0028 - accuracy: 1.0000 - val_loss: 6.1642 - val_accuracy: 0.0857\n",
      "Epoch 29/70\n",
      "5/5 [==============================] - ETA: 0s - loss: 0.0026 - accuracy: 1.0000\n",
      "Epoch 29: val_loss did not improve from 2.72903\n",
      "5/5 [==============================] - 0s 37ms/step - loss: 0.0026 - accuracy: 1.0000 - val_loss: 6.2021 - val_accuracy: 0.0857\n",
      "Epoch 30/70\n",
      "5/5 [==============================] - ETA: 0s - loss: 0.0024 - accuracy: 1.0000\n",
      "Epoch 30: val_loss did not improve from 2.72903\n",
      "5/5 [==============================] - 0s 32ms/step - loss: 0.0024 - accuracy: 1.0000 - val_loss: 6.2384 - val_accuracy: 0.0857\n",
      "Epoch 31/70\n",
      "5/5 [==============================] - ETA: 0s - loss: 0.0022 - accuracy: 1.0000\n",
      "Epoch 31: val_loss did not improve from 2.72903\n",
      "5/5 [==============================] - 0s 38ms/step - loss: 0.0022 - accuracy: 1.0000 - val_loss: 6.2775 - val_accuracy: 0.0857\n",
      "Epoch 32/70\n",
      "5/5 [==============================] - ETA: 0s - loss: 0.0020 - accuracy: 1.0000\n",
      "Epoch 32: val_loss did not improve from 2.72903\n",
      "5/5 [==============================] - 0s 32ms/step - loss: 0.0020 - accuracy: 1.0000 - val_loss: 6.3214 - val_accuracy: 0.0857\n",
      "Epoch 33/70\n",
      "1/5 [=====>........................] - ETA: 0s - loss: 0.0020 - accuracy: 1.0000\n",
      "Epoch 33: val_loss did not improve from 2.72903\n",
      "5/5 [==============================] - 0s 23ms/step - loss: 0.0019 - accuracy: 1.0000 - val_loss: 6.3738 - val_accuracy: 0.0857\n",
      "Epoch 34/70\n",
      "5/5 [==============================] - ETA: 0s - loss: 0.0017 - accuracy: 1.0000\n",
      "Epoch 34: val_loss did not improve from 2.72903\n",
      "5/5 [==============================] - 0s 39ms/step - loss: 0.0017 - accuracy: 1.0000 - val_loss: 6.4260 - val_accuracy: 0.0857\n",
      "Epoch 35/70\n",
      "5/5 [==============================] - ETA: 0s - loss: 0.0016 - accuracy: 1.0000\n",
      "Epoch 35: val_loss did not improve from 2.72903\n",
      "5/5 [==============================] - 0s 30ms/step - loss: 0.0016 - accuracy: 1.0000 - val_loss: 6.4588 - val_accuracy: 0.0857\n",
      "Epoch 36/70\n",
      "5/5 [==============================] - ETA: 0s - loss: 0.0015 - accuracy: 1.0000\n",
      "Epoch 36: val_loss did not improve from 2.72903\n",
      "5/5 [==============================] - 0s 40ms/step - loss: 0.0015 - accuracy: 1.0000 - val_loss: 6.4996 - val_accuracy: 0.0857\n",
      "Epoch 37/70\n",
      "5/5 [==============================] - ETA: 0s - loss: 0.0014 - accuracy: 1.0000\n",
      "Epoch 37: val_loss did not improve from 2.72903\n",
      "5/5 [==============================] - 0s 29ms/step - loss: 0.0014 - accuracy: 1.0000 - val_loss: 6.5542 - val_accuracy: 0.0857\n",
      "Epoch 38/70\n",
      "1/5 [=====>........................] - ETA: 0s - loss: 0.0013 - accuracy: 1.0000\n",
      "Epoch 38: val_loss did not improve from 2.72903\n",
      "5/5 [==============================] - 0s 24ms/step - loss: 0.0013 - accuracy: 1.0000 - val_loss: 6.6071 - val_accuracy: 0.0857\n",
      "Epoch 39/70\n",
      "5/5 [==============================] - ETA: 0s - loss: 0.0012 - accuracy: 1.0000\n",
      "Epoch 39: val_loss did not improve from 2.72903\n",
      "5/5 [==============================] - 0s 39ms/step - loss: 0.0012 - accuracy: 1.0000 - val_loss: 6.6597 - val_accuracy: 0.0857\n",
      "Epoch 40/70\n",
      "1/5 [=====>........................] - ETA: 0s - loss: 0.0013 - accuracy: 1.0000\n",
      "Epoch 40: val_loss did not improve from 2.72903\n",
      "5/5 [==============================] - 0s 29ms/step - loss: 0.0012 - accuracy: 1.0000 - val_loss: 6.7011 - val_accuracy: 0.0857\n",
      "Epoch 41/70\n",
      "5/5 [==============================] - ETA: 0s - loss: 0.0011 - accuracy: 1.0000\n",
      "Epoch 41: val_loss did not improve from 2.72903\n",
      "5/5 [==============================] - 0s 33ms/step - loss: 0.0011 - accuracy: 1.0000 - val_loss: 6.7429 - val_accuracy: 0.0857\n",
      "Epoch 42/70\n",
      "5/5 [==============================] - ETA: 0s - loss: 0.0011 - accuracy: 1.0000\n",
      "Epoch 42: val_loss did not improve from 2.72903\n",
      "5/5 [==============================] - 0s 35ms/step - loss: 0.0011 - accuracy: 1.0000 - val_loss: 6.7789 - val_accuracy: 0.0857\n",
      "Epoch 43/70\n",
      "5/5 [==============================] - ETA: 0s - loss: 9.9553e-04 - accuracy: 1.0000\n",
      "Epoch 43: val_loss did not improve from 2.72903\n",
      "5/5 [==============================] - 0s 35ms/step - loss: 9.9553e-04 - accuracy: 1.0000 - val_loss: 6.8159 - val_accuracy: 0.0857\n",
      "Epoch 44/70\n",
      "5/5 [==============================] - ETA: 0s - loss: 9.4102e-04 - accuracy: 1.0000\n",
      "Epoch 44: val_loss did not improve from 2.72903\n",
      "5/5 [==============================] - 0s 33ms/step - loss: 9.4102e-04 - accuracy: 1.0000 - val_loss: 6.8522 - val_accuracy: 0.0857\n",
      "Epoch 45/70\n",
      "1/5 [=====>........................] - ETA: 0s - loss: 0.0010 - accuracy: 1.0000\n",
      "Epoch 45: val_loss did not improve from 2.72903\n",
      "5/5 [==============================] - 0s 22ms/step - loss: 8.9041e-04 - accuracy: 1.0000 - val_loss: 6.8863 - val_accuracy: 0.0857\n",
      "Epoch 46/70\n",
      "1/5 [=====>........................] - ETA: 0s - loss: 8.6751e-04 - accuracy: 1.0000\n",
      "Epoch 46: val_loss did not improve from 2.72903\n",
      "5/5 [==============================] - 0s 35ms/step - loss: 8.4006e-04 - accuracy: 1.0000 - val_loss: 6.9171 - val_accuracy: 0.0857\n",
      "Epoch 47/70\n",
      "4/5 [=======================>......] - ETA: 0s - loss: 7.9173e-04 - accuracy: 1.0000\n",
      "Epoch 47: val_loss did not improve from 2.72903\n",
      "5/5 [==============================] - 0s 33ms/step - loss: 7.9626e-04 - accuracy: 1.0000 - val_loss: 6.9386 - val_accuracy: 0.0857\n",
      "Epoch 48/70\n",
      "5/5 [==============================] - ETA: 0s - loss: 7.5506e-04 - accuracy: 1.0000\n",
      "Epoch 48: val_loss did not improve from 2.72903\n",
      "5/5 [==============================] - 0s 26ms/step - loss: 7.5506e-04 - accuracy: 1.0000 - val_loss: 6.9709 - val_accuracy: 0.0857\n",
      "Epoch 49/70\n",
      "5/5 [==============================] - ETA: 0s - loss: 7.1906e-04 - accuracy: 1.0000\n",
      "Epoch 49: val_loss did not improve from 2.72903\n",
      "5/5 [==============================] - 0s 36ms/step - loss: 7.1906e-04 - accuracy: 1.0000 - val_loss: 7.0005 - val_accuracy: 0.0857\n",
      "Epoch 50/70\n",
      "5/5 [==============================] - ETA: 0s - loss: 6.8251e-04 - accuracy: 1.0000\n",
      "Epoch 50: val_loss did not improve from 2.72903\n",
      "5/5 [==============================] - 0s 37ms/step - loss: 6.8251e-04 - accuracy: 1.0000 - val_loss: 7.0354 - val_accuracy: 0.0857\n",
      "Epoch 51/70\n",
      "5/5 [==============================] - ETA: 0s - loss: 6.4968e-04 - accuracy: 1.0000\n",
      "Epoch 51: val_loss did not improve from 2.72903\n",
      "5/5 [==============================] - 0s 32ms/step - loss: 6.4968e-04 - accuracy: 1.0000 - val_loss: 7.0672 - val_accuracy: 0.0857\n",
      "Epoch 52/70\n",
      "4/5 [=======================>......] - ETA: 0s - loss: 6.2269e-04 - accuracy: 1.0000\n",
      "Epoch 52: val_loss did not improve from 2.72903\n",
      "5/5 [==============================] - 0s 40ms/step - loss: 6.1918e-04 - accuracy: 1.0000 - val_loss: 7.0971 - val_accuracy: 0.0857\n",
      "Epoch 53/70\n",
      "5/5 [==============================] - ETA: 0s - loss: 5.9035e-04 - accuracy: 1.0000\n",
      "Epoch 53: val_loss did not improve from 2.72903\n",
      "5/5 [==============================] - 0s 34ms/step - loss: 5.9035e-04 - accuracy: 1.0000 - val_loss: 7.1208 - val_accuracy: 0.0857\n",
      "Epoch 54/70\n",
      "1/5 [=====>........................] - ETA: 0s - loss: 5.4597e-04 - accuracy: 1.0000\n",
      "Epoch 54: val_loss did not improve from 2.72903\n",
      "5/5 [==============================] - 0s 26ms/step - loss: 5.6364e-04 - accuracy: 1.0000 - val_loss: 7.1406 - val_accuracy: 0.0857\n",
      "Epoch 55/70\n",
      "1/5 [=====>........................] - ETA: 0s - loss: 5.0311e-04 - accuracy: 1.0000\n",
      "Epoch 55: val_loss did not improve from 2.72903\n",
      "5/5 [==============================] - 0s 27ms/step - loss: 5.3865e-04 - accuracy: 1.0000 - val_loss: 7.1666 - val_accuracy: 0.0857\n",
      "Epoch 56/70\n",
      "5/5 [==============================] - ETA: 0s - loss: 5.1521e-04 - accuracy: 1.0000\n",
      "Epoch 56: val_loss did not improve from 2.72903\n",
      "5/5 [==============================] - 0s 32ms/step - loss: 5.1521e-04 - accuracy: 1.0000 - val_loss: 7.1950 - val_accuracy: 0.0857\n",
      "Epoch 57/70\n",
      "5/5 [==============================] - ETA: 0s - loss: 4.9300e-04 - accuracy: 1.0000\n",
      "Epoch 57: val_loss did not improve from 2.72903\n",
      "5/5 [==============================] - 0s 39ms/step - loss: 4.9300e-04 - accuracy: 1.0000 - val_loss: 7.2278 - val_accuracy: 0.0857\n",
      "Epoch 58/70\n",
      "1/5 [=====>........................] - ETA: 0s - loss: 4.8521e-04 - accuracy: 1.0000\n",
      "Epoch 58: val_loss did not improve from 2.72903\n",
      "5/5 [==============================] - 0s 25ms/step - loss: 4.7273e-04 - accuracy: 1.0000 - val_loss: 7.2562 - val_accuracy: 0.0857\n",
      "Epoch 59/70\n",
      "5/5 [==============================] - ETA: 0s - loss: 4.5275e-04 - accuracy: 1.0000\n",
      "Epoch 59: val_loss did not improve from 2.72903\n",
      "5/5 [==============================] - 0s 39ms/step - loss: 4.5275e-04 - accuracy: 1.0000 - val_loss: 7.2800 - val_accuracy: 0.0857\n",
      "Epoch 60/70\n",
      "5/5 [==============================] - ETA: 0s - loss: 4.3464e-04 - accuracy: 1.0000\n",
      "Epoch 60: val_loss did not improve from 2.72903\n",
      "5/5 [==============================] - 0s 40ms/step - loss: 4.3464e-04 - accuracy: 1.0000 - val_loss: 7.3014 - val_accuracy: 0.0857\n",
      "Epoch 61/70\n",
      "1/5 [=====>........................] - ETA: 0s - loss: 3.8384e-04 - accuracy: 1.0000\n",
      "Epoch 61: val_loss did not improve from 2.72903\n",
      "5/5 [==============================] - 0s 28ms/step - loss: 4.1711e-04 - accuracy: 1.0000 - val_loss: 7.3212 - val_accuracy: 0.0857\n",
      "Epoch 62/70\n",
      "4/5 [=======================>......] - ETA: 0s - loss: 4.0429e-04 - accuracy: 1.0000\n",
      "Epoch 62: val_loss did not improve from 2.72903\n",
      "5/5 [==============================] - 0s 37ms/step - loss: 4.0062e-04 - accuracy: 1.0000 - val_loss: 7.3428 - val_accuracy: 0.0857\n",
      "Epoch 63/70\n",
      "5/5 [==============================] - ETA: 0s - loss: 3.8522e-04 - accuracy: 1.0000\n",
      "Epoch 63: val_loss did not improve from 2.72903\n",
      "5/5 [==============================] - 0s 33ms/step - loss: 3.8522e-04 - accuracy: 1.0000 - val_loss: 7.3645 - val_accuracy: 0.0857\n",
      "Epoch 64/70\n",
      "5/5 [==============================] - ETA: 0s - loss: 3.7077e-04 - accuracy: 1.0000\n",
      "Epoch 64: val_loss did not improve from 2.72903\n",
      "5/5 [==============================] - 0s 40ms/step - loss: 3.7077e-04 - accuracy: 1.0000 - val_loss: 7.3888 - val_accuracy: 0.0857\n",
      "Epoch 65/70\n",
      "5/5 [==============================] - ETA: 0s - loss: 3.5710e-04 - accuracy: 1.0000\n",
      "Epoch 65: val_loss did not improve from 2.72903\n",
      "5/5 [==============================] - 0s 39ms/step - loss: 3.5710e-04 - accuracy: 1.0000 - val_loss: 7.4120 - val_accuracy: 0.0857\n",
      "Epoch 66/70\n",
      "5/5 [==============================] - ETA: 0s - loss: 3.4438e-04 - accuracy: 1.0000\n",
      "Epoch 66: val_loss did not improve from 2.72903\n",
      "5/5 [==============================] - 0s 33ms/step - loss: 3.4438e-04 - accuracy: 1.0000 - val_loss: 7.4346 - val_accuracy: 0.0857\n",
      "Epoch 67/70\n",
      "5/5 [==============================] - ETA: 0s - loss: 3.3223e-04 - accuracy: 1.0000\n",
      "Epoch 67: val_loss did not improve from 2.72903\n",
      "5/5 [==============================] - 0s 27ms/step - loss: 3.3223e-04 - accuracy: 1.0000 - val_loss: 7.4565 - val_accuracy: 0.0857\n",
      "Epoch 68/70\n",
      "1/5 [=====>........................] - ETA: 0s - loss: 3.2900e-04 - accuracy: 1.0000\n",
      "Epoch 68: val_loss did not improve from 2.72903\n",
      "5/5 [==============================] - 0s 29ms/step - loss: 3.2069e-04 - accuracy: 1.0000 - val_loss: 7.4752 - val_accuracy: 0.0857\n",
      "Epoch 69/70\n",
      "4/5 [=======================>......] - ETA: 0s - loss: 3.1092e-04 - accuracy: 1.0000\n",
      "Epoch 69: val_loss did not improve from 2.72903\n",
      "5/5 [==============================] - 0s 40ms/step - loss: 3.0971e-04 - accuracy: 1.0000 - val_loss: 7.4962 - val_accuracy: 0.0857\n",
      "Epoch 70/70\n",
      "5/5 [==============================] - ETA: 0s - loss: 2.9950e-04 - accuracy: 1.0000\n",
      "Epoch 70: val_loss did not improve from 2.72903\n",
      "5/5 [==============================] - 0s 29ms/step - loss: 2.9950e-04 - accuracy: 1.0000 - val_loss: 7.5119 - val_accuracy: 0.0857\n"
     ]
    }
   ],
   "source": [
    "model.compile(\n",
    "    loss = tf.keras.losses.SparseCategoricalCrossentropy(),\n",
    "    optimizer = Adam(learning_rate=0.001), # 'Adam',\n",
    "    metrics=['accuracy']\n",
    ")\n",
    "\n",
    "history = model.fit(\n",
    "    X_train, y_train,\n",
    "    epochs = 70,\n",
    "    batch_size = 32, # données transmises pour une session\n",
    "    validation_split=0.2,\n",
    "    callbacks=callbacks_list\n",
    ")"
   ]
  },
  {
   "cell_type": "code",
   "execution_count": 21,
   "metadata": {},
   "outputs": [
    {
     "name": "stdout",
     "output_type": "stream",
     "text": [
      "2/2 [==============================] - 0s 5ms/step - loss: 3.5778 - accuracy: 0.3953\n"
     ]
    },
    {
     "data": {
      "text/plain": [
       "[3.577824115753174, 0.39534884691238403]"
      ]
     },
     "execution_count": 21,
     "metadata": {},
     "output_type": "execute_result"
    }
   ],
   "source": [
    "model.evaluate(X_test, y_test)"
   ]
  },
  {
   "cell_type": "code",
   "execution_count": 22,
   "metadata": {},
   "outputs": [
    {
     "name": "stdout",
     "output_type": "stream",
     "text": [
      "2/2 [==============================] - 0s 3ms/step\n"
     ]
    },
    {
     "data": {
      "text/plain": [
       "array([[5.9259776e-03, 9.9274302e-01, 1.3035609e-03, 2.7502851e-05],\n",
       "       [9.8601228e-01, 3.5098656e-03, 1.0430318e-02, 4.7538862e-05],\n",
       "       [3.1918364e-03, 9.9658185e-01, 2.1220079e-04, 1.4194241e-05],\n",
       "       [4.3782455e-04, 9.9905330e-01, 5.0205475e-04, 6.7542064e-06],\n",
       "       [4.4629714e-04, 9.9936897e-01, 1.7952736e-04, 5.3009680e-06],\n",
       "       [8.9080566e-01, 9.1820978e-02, 1.7214239e-02, 1.5915820e-04],\n",
       "       [3.3088568e-01, 1.0922292e-01, 5.5952144e-01, 3.6999091e-04],\n",
       "       [1.4510445e-01, 6.8976277e-01, 1.6481198e-01, 3.2078949e-04],\n",
       "       [9.9739099e-01, 2.2334959e-03, 3.6017620e-04, 1.5349289e-05],\n",
       "       [5.9411433e-03, 9.9375808e-01, 2.8281682e-04, 1.8024199e-05],\n",
       "       [6.4807072e-02, 1.4824430e-02, 9.2023993e-01, 1.2864785e-04],\n",
       "       [9.9934393e-01, 5.0754234e-04, 1.4158855e-04, 6.8307868e-06],\n",
       "       [1.0224879e-02, 9.8798776e-01, 1.7530622e-03, 3.4275941e-05],\n",
       "       [6.5341091e-01, 3.4440917e-01, 2.0555428e-03, 1.2445383e-04],\n",
       "       [1.9753610e-01, 7.9048276e-01, 1.1805992e-02, 1.7517600e-04],\n",
       "       [7.0475996e-01, 9.6525207e-02, 1.9840576e-01, 3.0911379e-04],\n",
       "       [3.0563302e-02, 8.3527815e-01, 1.3399200e-01, 1.6656397e-04],\n",
       "       [4.5130731e-04, 9.9911052e-01, 4.3114301e-04, 7.0091587e-06],\n",
       "       [9.7371094e-02, 1.6491404e-01, 7.3742574e-01, 2.8905820e-04],\n",
       "       [3.3895695e-03, 9.9636298e-01, 2.3308203e-04, 1.4319732e-05],\n",
       "       [3.0754674e-03, 9.0946335e-01, 8.7400824e-02, 6.0345166e-05],\n",
       "       [2.3111710e-01, 1.6074346e-02, 7.5261390e-01, 1.9464822e-04],\n",
       "       [9.1134731e-05, 1.6317748e-04, 9.9974114e-01, 4.5434754e-06],\n",
       "       [6.7467523e-01, 2.8922346e-01, 3.5392981e-02, 7.0834701e-04],\n",
       "       [6.6521920e-05, 9.9983597e-01, 9.5434400e-05, 1.9781389e-06],\n",
       "       [3.5767215e-01, 5.5080421e-02, 5.8694458e-01, 3.0288802e-04],\n",
       "       [1.8540412e-02, 4.9064465e-02, 9.3228030e-01, 1.1476093e-04],\n",
       "       [5.9126209e-02, 9.0402317e-01, 3.6695331e-02, 1.5531440e-04],\n",
       "       [3.1944858e-03, 9.9594861e-01, 8.3917280e-04, 1.7799110e-05],\n",
       "       [6.3537680e-02, 6.5587509e-01, 2.8032529e-01, 2.6200133e-04],\n",
       "       [4.4357927e-05, 9.9852377e-01, 1.4278824e-03, 4.0547798e-06],\n",
       "       [2.4320774e-03, 9.9657226e-01, 9.7759324e-04, 1.8000121e-05],\n",
       "       [9.8012954e-01, 1.8443735e-02, 1.3764807e-03, 5.0244063e-05],\n",
       "       [4.8068897e-03, 2.9233524e-01, 7.0272958e-01, 1.2823880e-04],\n",
       "       [1.8696964e-04, 9.9935347e-01, 4.5489660e-04, 4.6010118e-06],\n",
       "       [9.9750108e-01, 1.9806335e-03, 5.0119846e-04, 1.7122205e-05],\n",
       "       [9.9714559e-01, 2.5066717e-03, 3.3205296e-04, 1.5759328e-05],\n",
       "       [9.6909481e-01, 2.8734846e-02, 2.1020197e-03, 6.8369707e-05],\n",
       "       [7.8251921e-03, 9.9049592e-01, 1.6462845e-03, 3.2557473e-05],\n",
       "       [9.9930084e-01, 3.9293632e-04, 2.9367133e-04, 1.2575448e-05],\n",
       "       [2.6618691e-02, 9.7263068e-01, 7.0991449e-04, 4.0712934e-05],\n",
       "       [9.9564844e-01, 4.0435609e-03, 2.8874542e-04, 1.9248362e-05],\n",
       "       [9.9958831e-01, 1.6051989e-04, 2.4379959e-04, 7.3414544e-06]],\n",
       "      dtype=float32)"
      ]
     },
     "execution_count": 22,
     "metadata": {},
     "output_type": "execute_result"
    }
   ],
   "source": [
    "pred = model.predict(X_test)\n",
    "pred"
   ]
  },
  {
   "cell_type": "code",
   "execution_count": 23,
   "metadata": {},
   "outputs": [
    {
     "name": "stdout",
     "output_type": "stream",
     "text": [
      "Predicted labels:  [1 0 1 1 1 0 2 1 0 1 2 0 1 0 1 0 1 1 2 1 1 2 2 0 1 2 2 1 1 1 1 1 0 2 1 0 0\n",
      " 0 1 0 1 0 0]\n",
      "True labels:       [0 0 0 0 0 0 0 0 0 0 0 0 0 0 0 0 1 1 1 1 1 1 1 1 1 1 1 1 1 1 1 1 2 2 2 2 2\n",
      " 2 2 3 3 3 3]\n"
     ]
    }
   ],
   "source": [
    "y_pred = np.argmax(pred, axis=1)\n",
    "print(\"Predicted labels: \", y_pred)\n",
    "print(\"True labels:      \", y_test)"
   ]
  },
  {
   "attachments": {},
   "cell_type": "markdown",
   "metadata": {},
   "source": [
    "**Accuracy: $17 / 43$ ($39.53 \\%$)**"
   ]
  },
  {
   "attachments": {},
   "cell_type": "markdown",
   "metadata": {},
   "source": [
    "# Réseaux de neurones convolutifs"
   ]
  },
  {
   "attachments": {},
   "cell_type": "markdown",
   "metadata": {},
   "source": [
    "## Prises des frames et des vidéos"
   ]
  },
  {
   "cell_type": "code",
   "execution_count": 6,
   "metadata": {},
   "outputs": [],
   "source": [
    "list_videos_cnn = []\n",
    "y_cnn = []\n",
    "for dirpath, dirnames, _ in os.walk(path_dataset):\n",
    "    for dir_type in dirnames:\n",
    "        \n",
    "        path_fol = os.path.join(dirpath, dir_type)\n",
    "        for file in os.listdir(path_fol):\n",
    "            path_fol_img = os.path.join(path_fol, file)\n",
    "            if os.path.isdir(path_fol_img) and file == 'images':\n",
    "                frames = []\n",
    "                for file_img in os.listdir(path_fol_img):\n",
    "                    path_img = os.path.join(path_fol_img, file_img)\n",
    "                    img_obj = Image.load_image(cv2.IMREAD_COLOR, path_img)\n",
    "                    img = img_obj.img\n",
    "                    frames.append(img)\t\n",
    "                if (len(frames) == 15):\n",
    "                    output_res = path_img.split('\\\\')[1]\n",
    "                    vid = Video.read_video_from_frames(frames)\n",
    "                    list_videos_cnn.append(vid)\n",
    "                    y_cnn.append(output_res)"
   ]
  },
  {
   "cell_type": "code",
   "execution_count": 7,
   "metadata": {},
   "outputs": [
    {
     "data": {
      "text/plain": [
       "(50, 50, 3)"
      ]
     },
     "execution_count": 7,
     "metadata": {},
     "output_type": "execute_result"
    }
   ],
   "source": [
    "list_videos_cnn[0].frames.shape[1:]"
   ]
  },
  {
   "cell_type": "code",
   "execution_count": 8,
   "metadata": {},
   "outputs": [],
   "source": [
    "# One-hot encoding\n",
    "encoder = LabelEncoder()"
   ]
  },
  {
   "attachments": {},
   "cell_type": "markdown",
   "metadata": {},
   "source": [
    "Transformer output y en one hot vector\n",
    "- 0: coup droit\n",
    "- 1: déplacement\n",
    "- 2: revers\n",
    "- 3: service"
   ]
  },
  {
   "cell_type": "code",
   "execution_count": 9,
   "metadata": {},
   "outputs": [
    {
     "data": {
      "text/plain": [
       "array([0, 0, 0, 0, 0, 0, 0, 0, 0, 0, 0, 0, 0, 0, 0, 0, 0, 0, 0, 0, 0, 0,\n",
       "       0, 0, 0, 0, 0, 0, 0, 0, 0, 0, 0, 0, 0, 0, 0, 0, 0, 0, 0, 0, 0, 0,\n",
       "       0, 0, 0, 0, 0, 0, 0, 0, 0, 0, 0, 0, 0, 0, 0, 0, 0, 0, 0, 0, 0, 0,\n",
       "       0, 0, 0, 0, 0, 0, 1, 1, 1, 1, 1, 1, 1, 1, 1, 1, 1, 1, 1, 1, 1, 1,\n",
       "       1, 1, 1, 1, 1, 1, 1, 1, 1, 1, 1, 1, 1, 1, 1, 1, 1, 1, 1, 1, 1, 1,\n",
       "       1, 1, 1, 1, 1, 1, 1, 1, 1, 1, 1, 1, 1, 1, 1, 1, 1, 1, 1, 1, 1, 1,\n",
       "       1, 1, 1, 1, 1, 1, 2, 2, 2, 2, 2, 2, 2, 2, 2, 2, 2, 2, 2, 2, 2, 2,\n",
       "       2, 2, 2, 2, 2, 2, 2, 2, 2, 2, 2, 2, 2, 2, 2, 2, 2, 2, 2, 2, 2, 2,\n",
       "       2, 2, 2, 2, 2, 2, 2, 2, 2, 2, 3, 3, 3, 3, 3, 3, 3, 3, 3, 3, 3, 3,\n",
       "       3, 3, 3, 3, 3, 3, 3, 3, 3, 3, 3, 3, 3, 3, 3, 3], dtype=int64)"
      ]
     },
     "execution_count": 9,
     "metadata": {},
     "output_type": "execute_result"
    }
   ],
   "source": [
    "y_cnn = encoder.fit_transform(y_cnn)\n",
    "y_cnn"
   ]
  },
  {
   "cell_type": "code",
   "execution_count": 10,
   "metadata": {},
   "outputs": [
    {
     "data": {
      "text/plain": [
       "array([0, 1, 2, 3], dtype=int64)"
      ]
     },
     "execution_count": 10,
     "metadata": {},
     "output_type": "execute_result"
    }
   ],
   "source": [
    "output_y = np.unique(y_cnn)\n",
    "output_y"
   ]
  },
  {
   "cell_type": "code",
   "execution_count": 11,
   "metadata": {},
   "outputs": [
    {
     "data": {
      "text/plain": [
       "214"
      ]
     },
     "execution_count": 11,
     "metadata": {},
     "output_type": "execute_result"
    }
   ],
   "source": [
    "len(list_videos_cnn)"
   ]
  },
  {
   "cell_type": "code",
   "execution_count": 12,
   "metadata": {},
   "outputs": [],
   "source": [
    "train_size = int(len(list_videos_cnn) * 0.8)\n",
    "test_size = len(list_videos_cnn) - train_size"
   ]
  },
  {
   "cell_type": "code",
   "execution_count": 13,
   "metadata": {},
   "outputs": [
    {
     "data": {
      "text/plain": [
       "(171, 171, 43, 43)"
      ]
     },
     "execution_count": 13,
     "metadata": {},
     "output_type": "execute_result"
    }
   ],
   "source": [
    "## Split video train, test\n",
    "random.seed(42)\n",
    "vids_train_cnn = random.sample(list_videos_cnn, k = train_size)\n",
    "vids_test_cnn = [vid for vid in list_videos_cnn if vid not in vids_train_cnn]\n",
    "y_train_cnn = [y_cnn[i] for i in range(len(y_cnn)) if list_videos_cnn[i] in vids_train_cnn]\n",
    "y_test_cnn = [y_cnn[i] for i in range(len(y_cnn)) if list_videos_cnn[i] in vids_test_cnn]\n",
    "len(vids_train_cnn), len(y_train_cnn), len(vids_test_cnn), len(y_test_cnn)"
   ]
  },
  {
   "cell_type": "code",
   "execution_count": 14,
   "metadata": {},
   "outputs": [
    {
     "data": {
      "text/plain": [
       "array([0, 0, 0, 0, 0, 0, 0, 0, 0, 0, 0, 0, 0, 0, 0, 0, 0, 0, 0, 0, 0, 0,\n",
       "       0, 0, 0, 0, 0, 0, 0, 0, 0, 0, 0, 0, 0, 0, 0, 0, 0, 0, 0, 0, 0, 0,\n",
       "       0, 0, 0, 0, 0, 0, 0, 0, 0, 0, 0, 0, 1, 1, 1, 1, 1, 1, 1, 1, 1, 1,\n",
       "       1, 1, 1, 1, 1, 1, 1, 1, 1, 1, 1, 1, 1, 1, 1, 1, 1, 1, 1, 1, 1, 1,\n",
       "       1, 1, 1, 1, 1, 1, 1, 1, 1, 1, 1, 1, 1, 1, 1, 1, 1, 1, 2, 2, 2, 2,\n",
       "       2, 2, 2, 2, 2, 2, 2, 2, 2, 2, 2, 2, 2, 2, 2, 2, 2, 2, 2, 2, 2, 2,\n",
       "       2, 2, 2, 2, 2, 2, 2, 2, 2, 2, 2, 2, 2, 2, 2, 3, 3, 3, 3, 3, 3, 3,\n",
       "       3, 3, 3, 3, 3, 3, 3, 3, 3, 3, 3, 3, 3, 3, 3, 3, 3])"
      ]
     },
     "execution_count": 14,
     "metadata": {},
     "output_type": "execute_result"
    }
   ],
   "source": [
    "y_train_cnn = np.array(y_train_cnn, dtype=int)\n",
    "y_test_cnn = np.array(y_test_cnn, dtype=int)\n",
    "y_train_cnn"
   ]
  },
  {
   "cell_type": "code",
   "execution_count": 15,
   "metadata": {},
   "outputs": [
    {
     "data": {
      "text/plain": [
       "(171, 50, 750, 3)"
      ]
     },
     "execution_count": 15,
     "metadata": {},
     "output_type": "execute_result"
    }
   ],
   "source": [
    "# Split input X en train, test set\n",
    "X_train_cnn = np.zeros((train_size, 50, 15*50, 3), dtype=int)\n",
    "for i, vid in enumerate(vids_train_cnn):\n",
    "    for j, frame in enumerate(vid.frames):\n",
    "        X_train_cnn[i, :, 50*j:50*(j+1), :] = frame\n",
    "X_train_cnn.shape"
   ]
  },
  {
   "cell_type": "code",
   "execution_count": 16,
   "metadata": {},
   "outputs": [
    {
     "data": {
      "text/plain": [
       "(43, 50, 750, 3)"
      ]
     },
     "execution_count": 16,
     "metadata": {},
     "output_type": "execute_result"
    }
   ],
   "source": [
    "X_test_cnn = np.zeros((test_size, 50, 15*50, 3), dtype=int)\n",
    "for i, vid in enumerate(vids_test_cnn):\n",
    "    for j, frame in enumerate(vid.frames):\n",
    "        X_test_cnn[i, :, 50*j:50*(j+1), :] = frame\n",
    "X_test_cnn.shape"
   ]
  },
  {
   "cell_type": "code",
   "execution_count": 17,
   "metadata": {},
   "outputs": [
    {
     "data": {
      "text/plain": [
       "(50, 750, 3)"
      ]
     },
     "execution_count": 17,
     "metadata": {},
     "output_type": "execute_result"
    }
   ],
   "source": [
    "input_shape_cnn = X_train_cnn.shape[1:]\n",
    "input_shape_cnn"
   ]
  },
  {
   "attachments": {},
   "cell_type": "markdown",
   "metadata": {},
   "source": [
    "## Modèle de réseau de neurones convolutifs"
   ]
  },
  {
   "cell_type": "code",
   "execution_count": 18,
   "metadata": {},
   "outputs": [
    {
     "name": "stdout",
     "output_type": "stream",
     "text": [
      "Model: \"sequential\"\n",
      "_________________________________________________________________\n",
      " Layer (type)                Output Shape              Param #   \n",
      "=================================================================\n",
      " conv2d (Conv2D)             (None, 48, 748, 16)       448       \n",
      "                                                                 \n",
      " batch_normalization (BatchN  (None, 48, 748, 16)      64        \n",
      " ormalization)                                                   \n",
      "                                                                 \n",
      " max_pooling2d (MaxPooling2D  (None, 24, 374, 16)      0         \n",
      " )                                                               \n",
      "                                                                 \n",
      " dropout (Dropout)           (None, 24, 374, 16)       0         \n",
      "                                                                 \n",
      " conv2d_1 (Conv2D)           (None, 22, 372, 32)       4640      \n",
      "                                                                 \n",
      " batch_normalization_1 (Batc  (None, 22, 372, 32)      128       \n",
      " hNormalization)                                                 \n",
      "                                                                 \n",
      " max_pooling2d_1 (MaxPooling  (None, 11, 186, 32)      0         \n",
      " 2D)                                                             \n",
      "                                                                 \n",
      " dropout_1 (Dropout)         (None, 11, 186, 32)       0         \n",
      "                                                                 \n",
      " conv2d_2 (Conv2D)           (None, 9, 184, 64)        18496     \n",
      "                                                                 \n",
      " batch_normalization_2 (Batc  (None, 9, 184, 64)       256       \n",
      " hNormalization)                                                 \n",
      "                                                                 \n",
      " max_pooling2d_2 (MaxPooling  (None, 4, 92, 64)        0         \n",
      " 2D)                                                             \n",
      "                                                                 \n",
      " dropout_2 (Dropout)         (None, 4, 92, 64)         0         \n",
      "                                                                 \n",
      " flatten (Flatten)           (None, 23552)             0         \n",
      "                                                                 \n",
      " dense (Dense)               (None, 128)               3014784   \n",
      "                                                                 \n",
      " dense_1 (Dense)             (None, 4)                 516       \n",
      "                                                                 \n",
      "=================================================================\n",
      "Total params: 3,039,332\n",
      "Trainable params: 3,039,108\n",
      "Non-trainable params: 224\n",
      "_________________________________________________________________\n"
     ]
    }
   ],
   "source": [
    "model_cnn = Sequential(\n",
    "    [\n",
    "        tf.keras.Input(shape = input_shape_cnn), # 50, 15*50, 3\n",
    "        Conv2D(filters=16, kernel_size=(3, 3), activation=\"relu\"),\n",
    "        BatchNormalization(),\n",
    "        MaxPooling2D(pool_size=(2, 2)),\n",
    "        Dropout(0.2),\n",
    "        \n",
    "        Conv2D(filters=32, kernel_size=(3, 3), activation=\"relu\"),\n",
    "        BatchNormalization(),\n",
    "        MaxPooling2D(pool_size=(2, 2)),\n",
    "        Dropout(0.2),\n",
    "        \n",
    "        Conv2D(filters=64, kernel_size=(3, 3), activation=\"relu\"),\n",
    "        BatchNormalization(),\n",
    "        MaxPooling2D(pool_size=(2, 2)),\n",
    "        Dropout(0.2),\n",
    "        \n",
    "        Flatten(),\n",
    "        Dense(units=128, activation=\"relu\"),\n",
    "        Dense(units=len(output_y), activation=\"softmax\"),\n",
    "    ]\n",
    ")\n",
    "\n",
    "model_cnn.summary()"
   ]
  },
  {
   "cell_type": "code",
   "execution_count": 19,
   "metadata": {},
   "outputs": [],
   "source": [
    "checkpoint_name = 'Weights-{epoch:03d}--{val_loss:.5f}.hdf5' \n",
    "checkpoint = ModelCheckpoint(checkpoint_name, monitor='val_loss', verbose = 1, save_best_only = True, mode ='auto')\n",
    "callbacks_list = [checkpoint]"
   ]
  },
  {
   "cell_type": "code",
   "execution_count": 20,
   "metadata": {},
   "outputs": [
    {
     "name": "stdout",
     "output_type": "stream",
     "text": [
      "Epoch 1/70\n",
      "5/5 [==============================] - ETA: 0s - loss: 53.1491 - accuracy: 0.3309\n",
      "Epoch 1: val_loss improved from inf to 642.20526, saving model to Weights-001--642.20526.hdf5\n",
      "5/5 [==============================] - 5s 734ms/step - loss: 53.1491 - accuracy: 0.3309 - val_loss: 642.2053 - val_accuracy: 0.0000e+00\n",
      "Epoch 2/70\n",
      "5/5 [==============================] - ETA: 0s - loss: 13.9353 - accuracy: 0.3897\n",
      "Epoch 2: val_loss improved from 642.20526 to 295.24750, saving model to Weights-002--295.24750.hdf5\n",
      "5/5 [==============================] - 3s 549ms/step - loss: 13.9353 - accuracy: 0.3897 - val_loss: 295.2475 - val_accuracy: 0.2857\n",
      "Epoch 3/70\n",
      "5/5 [==============================] - ETA: 0s - loss: 11.5706 - accuracy: 0.4485\n",
      "Epoch 3: val_loss improved from 295.24750 to 175.12643, saving model to Weights-003--175.12643.hdf5\n",
      "5/5 [==============================] - 3s 658ms/step - loss: 11.5706 - accuracy: 0.4485 - val_loss: 175.1264 - val_accuracy: 0.2571\n",
      "Epoch 4/70\n",
      "5/5 [==============================] - ETA: 0s - loss: 4.9521 - accuracy: 0.4706\n",
      "Epoch 4: val_loss improved from 175.12643 to 130.87776, saving model to Weights-004--130.87776.hdf5\n",
      "5/5 [==============================] - 3s 694ms/step - loss: 4.9521 - accuracy: 0.4706 - val_loss: 130.8778 - val_accuracy: 0.0000e+00\n",
      "Epoch 5/70\n",
      "5/5 [==============================] - ETA: 0s - loss: 3.4424 - accuracy: 0.5809\n",
      "Epoch 5: val_loss improved from 130.87776 to 97.87838, saving model to Weights-005--97.87838.hdf5\n",
      "5/5 [==============================] - 3s 650ms/step - loss: 3.4424 - accuracy: 0.5809 - val_loss: 97.8784 - val_accuracy: 0.0000e+00\n",
      "Epoch 6/70\n",
      "5/5 [==============================] - ETA: 0s - loss: 3.4624 - accuracy: 0.5368\n",
      "Epoch 6: val_loss improved from 97.87838 to 64.09892, saving model to Weights-006--64.09892.hdf5\n",
      "5/5 [==============================] - 3s 683ms/step - loss: 3.4624 - accuracy: 0.5368 - val_loss: 64.0989 - val_accuracy: 0.1714\n",
      "Epoch 7/70\n",
      "5/5 [==============================] - ETA: 0s - loss: 1.5926 - accuracy: 0.6250\n",
      "Epoch 7: val_loss improved from 64.09892 to 51.85394, saving model to Weights-007--51.85394.hdf5\n",
      "5/5 [==============================] - 3s 621ms/step - loss: 1.5926 - accuracy: 0.6250 - val_loss: 51.8539 - val_accuracy: 0.0286\n",
      "Epoch 8/70\n",
      "5/5 [==============================] - ETA: 0s - loss: 0.2204 - accuracy: 0.9191\n",
      "Epoch 8: val_loss improved from 51.85394 to 51.74279, saving model to Weights-008--51.74279.hdf5\n",
      "5/5 [==============================] - 3s 678ms/step - loss: 0.2204 - accuracy: 0.9191 - val_loss: 51.7428 - val_accuracy: 0.0000e+00\n",
      "Epoch 9/70\n",
      "5/5 [==============================] - ETA: 0s - loss: 0.3408 - accuracy: 0.8603\n",
      "Epoch 9: val_loss improved from 51.74279 to 49.43676, saving model to Weights-009--49.43676.hdf5\n",
      "5/5 [==============================] - 3s 674ms/step - loss: 0.3408 - accuracy: 0.8603 - val_loss: 49.4368 - val_accuracy: 0.0000e+00\n",
      "Epoch 10/70\n",
      "5/5 [==============================] - ETA: 0s - loss: 1.9397 - accuracy: 0.7132\n",
      "Epoch 10: val_loss improved from 49.43676 to 37.94888, saving model to Weights-010--37.94888.hdf5\n",
      "5/5 [==============================] - 3s 673ms/step - loss: 1.9397 - accuracy: 0.7132 - val_loss: 37.9489 - val_accuracy: 0.2857\n",
      "Epoch 11/70\n",
      "5/5 [==============================] - ETA: 0s - loss: 2.4278 - accuracy: 0.5882\n",
      "Epoch 11: val_loss improved from 37.94888 to 22.99111, saving model to Weights-011--22.99111.hdf5\n",
      "5/5 [==============================] - 3s 611ms/step - loss: 2.4278 - accuracy: 0.5882 - val_loss: 22.9911 - val_accuracy: 0.0000e+00\n",
      "Epoch 12/70\n",
      "5/5 [==============================] - ETA: 0s - loss: 0.1503 - accuracy: 0.9191\n",
      "Epoch 12: val_loss improved from 22.99111 to 20.87092, saving model to Weights-012--20.87092.hdf5\n",
      "5/5 [==============================] - 3s 663ms/step - loss: 0.1503 - accuracy: 0.9191 - val_loss: 20.8709 - val_accuracy: 0.0571\n",
      "Epoch 13/70\n",
      "5/5 [==============================] - ETA: 0s - loss: 0.0310 - accuracy: 0.9779\n",
      "Epoch 13: val_loss did not improve from 20.87092\n",
      "5/5 [==============================] - 3s 670ms/step - loss: 0.0310 - accuracy: 0.9779 - val_loss: 21.0328 - val_accuracy: 0.0286\n",
      "Epoch 14/70\n",
      "5/5 [==============================] - ETA: 0s - loss: 0.0295 - accuracy: 0.9926\n",
      "Epoch 14: val_loss improved from 20.87092 to 19.87373, saving model to Weights-014--19.87373.hdf5\n",
      "5/5 [==============================] - 3s 627ms/step - loss: 0.0295 - accuracy: 0.9926 - val_loss: 19.8737 - val_accuracy: 0.1143\n",
      "Epoch 15/70\n",
      "5/5 [==============================] - ETA: 0s - loss: 0.0081 - accuracy: 1.0000\n",
      "Epoch 15: val_loss did not improve from 19.87373\n",
      "5/5 [==============================] - 3s 521ms/step - loss: 0.0081 - accuracy: 1.0000 - val_loss: 20.6122 - val_accuracy: 0.0571\n",
      "Epoch 16/70\n",
      "5/5 [==============================] - ETA: 0s - loss: 0.0062 - accuracy: 1.0000\n",
      "Epoch 16: val_loss improved from 19.87373 to 19.78013, saving model to Weights-016--19.78013.hdf5\n",
      "5/5 [==============================] - 3s 691ms/step - loss: 0.0062 - accuracy: 1.0000 - val_loss: 19.7801 - val_accuracy: 0.0571\n",
      "Epoch 17/70\n",
      "5/5 [==============================] - ETA: 0s - loss: 0.0024 - accuracy: 1.0000\n",
      "Epoch 17: val_loss improved from 19.78013 to 19.22887, saving model to Weights-017--19.22887.hdf5\n",
      "5/5 [==============================] - 3s 610ms/step - loss: 0.0024 - accuracy: 1.0000 - val_loss: 19.2289 - val_accuracy: 0.0857\n",
      "Epoch 18/70\n",
      "5/5 [==============================] - ETA: 0s - loss: 0.0028 - accuracy: 1.0000\n",
      "Epoch 18: val_loss improved from 19.22887 to 19.22198, saving model to Weights-018--19.22198.hdf5\n",
      "5/5 [==============================] - 2s 470ms/step - loss: 0.0028 - accuracy: 1.0000 - val_loss: 19.2220 - val_accuracy: 0.0571\n",
      "Epoch 19/70\n",
      "5/5 [==============================] - ETA: 0s - loss: 0.0022 - accuracy: 1.0000\n",
      "Epoch 19: val_loss did not improve from 19.22198\n",
      "5/5 [==============================] - 2s 501ms/step - loss: 0.0022 - accuracy: 1.0000 - val_loss: 19.2982 - val_accuracy: 0.0571\n",
      "Epoch 20/70\n",
      "5/5 [==============================] - ETA: 0s - loss: 0.0034 - accuracy: 1.0000\n",
      "Epoch 20: val_loss did not improve from 19.22198\n",
      "5/5 [==============================] - 3s 468ms/step - loss: 0.0034 - accuracy: 1.0000 - val_loss: 19.3337 - val_accuracy: 0.0857\n",
      "Epoch 21/70\n",
      "5/5 [==============================] - ETA: 0s - loss: 0.0023 - accuracy: 1.0000\n",
      "Epoch 21: val_loss improved from 19.22198 to 18.89036, saving model to Weights-021--18.89036.hdf5\n",
      "5/5 [==============================] - 2s 489ms/step - loss: 0.0023 - accuracy: 1.0000 - val_loss: 18.8904 - val_accuracy: 0.1714\n",
      "Epoch 22/70\n",
      "5/5 [==============================] - ETA: 0s - loss: 5.3041 - accuracy: 0.6985\n",
      "Epoch 22: val_loss did not improve from 18.89036\n",
      "5/5 [==============================] - 3s 550ms/step - loss: 5.3041 - accuracy: 0.6985 - val_loss: 20.1923 - val_accuracy: 0.0000e+00\n",
      "Epoch 23/70\n",
      "5/5 [==============================] - ETA: 0s - loss: 2.0865 - accuracy: 0.6985\n",
      "Epoch 23: val_loss improved from 18.89036 to 10.69866, saving model to Weights-023--10.69866.hdf5\n",
      "5/5 [==============================] - 3s 622ms/step - loss: 2.0865 - accuracy: 0.6985 - val_loss: 10.6987 - val_accuracy: 0.1714\n",
      "Epoch 24/70\n",
      "5/5 [==============================] - ETA: 0s - loss: 0.0422 - accuracy: 0.9926\n",
      "Epoch 24: val_loss improved from 10.69866 to 10.19396, saving model to Weights-024--10.19396.hdf5\n",
      "5/5 [==============================] - 3s 579ms/step - loss: 0.0422 - accuracy: 0.9926 - val_loss: 10.1940 - val_accuracy: 0.1714\n",
      "Epoch 25/70\n",
      "5/5 [==============================] - ETA: 0s - loss: 0.0036 - accuracy: 1.0000\n",
      "Epoch 25: val_loss did not improve from 10.19396\n",
      "5/5 [==============================] - 2s 418ms/step - loss: 0.0036 - accuracy: 1.0000 - val_loss: 10.5355 - val_accuracy: 0.2000\n",
      "Epoch 26/70\n",
      "5/5 [==============================] - ETA: 0s - loss: 0.0230 - accuracy: 0.9853\n",
      "Epoch 26: val_loss did not improve from 10.19396\n",
      "5/5 [==============================] - 3s 632ms/step - loss: 0.0230 - accuracy: 0.9853 - val_loss: 10.5651 - val_accuracy: 0.2000\n",
      "Epoch 27/70\n",
      "5/5 [==============================] - ETA: 0s - loss: 0.0112 - accuracy: 1.0000\n",
      "Epoch 27: val_loss did not improve from 10.19396\n",
      "5/5 [==============================] - 3s 489ms/step - loss: 0.0112 - accuracy: 1.0000 - val_loss: 11.2763 - val_accuracy: 0.2571\n",
      "Epoch 28/70\n",
      "5/5 [==============================] - ETA: 0s - loss: 0.0178 - accuracy: 0.9926\n",
      "Epoch 28: val_loss did not improve from 10.19396\n",
      "5/5 [==============================] - 3s 618ms/step - loss: 0.0178 - accuracy: 0.9926 - val_loss: 13.2483 - val_accuracy: 0.1714\n",
      "Epoch 29/70\n",
      "5/5 [==============================] - ETA: 0s - loss: 0.1008 - accuracy: 0.9779\n",
      "Epoch 29: val_loss did not improve from 10.19396\n",
      "5/5 [==============================] - 3s 643ms/step - loss: 0.1008 - accuracy: 0.9779 - val_loss: 10.3308 - val_accuracy: 0.1143\n",
      "Epoch 30/70\n",
      "5/5 [==============================] - ETA: 0s - loss: 0.2930 - accuracy: 0.9412\n",
      "Epoch 30: val_loss did not improve from 10.19396\n",
      "5/5 [==============================] - 3s 651ms/step - loss: 0.2930 - accuracy: 0.9412 - val_loss: 13.0842 - val_accuracy: 0.2857\n",
      "Epoch 31/70\n",
      "5/5 [==============================] - ETA: 0s - loss: 0.4656 - accuracy: 0.9044\n",
      "Epoch 31: val_loss improved from 10.19396 to 9.39319, saving model to Weights-031--9.39319.hdf5\n",
      "5/5 [==============================] - 3s 597ms/step - loss: 0.4656 - accuracy: 0.9044 - val_loss: 9.3932 - val_accuracy: 0.3143\n",
      "Epoch 32/70\n",
      "5/5 [==============================] - ETA: 0s - loss: 0.0220 - accuracy: 0.9853\n",
      "Epoch 32: val_loss improved from 9.39319 to 8.51228, saving model to Weights-032--8.51228.hdf5\n",
      "5/5 [==============================] - 3s 648ms/step - loss: 0.0220 - accuracy: 0.9853 - val_loss: 8.5123 - val_accuracy: 0.1714\n",
      "Epoch 33/70\n",
      "5/5 [==============================] - ETA: 0s - loss: 0.0088 - accuracy: 1.0000\n",
      "Epoch 33: val_loss did not improve from 8.51228\n",
      "5/5 [==============================] - 3s 672ms/step - loss: 0.0088 - accuracy: 1.0000 - val_loss: 8.8715 - val_accuracy: 0.2286\n",
      "Epoch 34/70\n",
      "5/5 [==============================] - ETA: 0s - loss: 0.0010 - accuracy: 1.0000\n",
      "Epoch 34: val_loss did not improve from 8.51228\n",
      "5/5 [==============================] - 3s 639ms/step - loss: 0.0010 - accuracy: 1.0000 - val_loss: 9.4501 - val_accuracy: 0.2286\n",
      "Epoch 35/70\n",
      "5/5 [==============================] - ETA: 0s - loss: 4.8784e-04 - accuracy: 1.0000\n",
      "Epoch 35: val_loss did not improve from 8.51228\n",
      "5/5 [==============================] - 3s 647ms/step - loss: 4.8784e-04 - accuracy: 1.0000 - val_loss: 9.7873 - val_accuracy: 0.2000\n",
      "Epoch 36/70\n",
      "5/5 [==============================] - ETA: 0s - loss: 0.0029 - accuracy: 1.0000    \n",
      "Epoch 36: val_loss did not improve from 8.51228\n",
      "5/5 [==============================] - 3s 624ms/step - loss: 0.0029 - accuracy: 1.0000 - val_loss: 10.3723 - val_accuracy: 0.1714\n",
      "Epoch 37/70\n",
      "5/5 [==============================] - ETA: 0s - loss: 0.0626 - accuracy: 0.9706\n",
      "Epoch 37: val_loss did not improve from 8.51228\n",
      "5/5 [==============================] - 3s 569ms/step - loss: 0.0626 - accuracy: 0.9706 - val_loss: 11.4706 - val_accuracy: 0.1429\n",
      "Epoch 38/70\n",
      "5/5 [==============================] - ETA: 0s - loss: 0.0616 - accuracy: 0.9706\n",
      "Epoch 38: val_loss did not improve from 8.51228\n",
      "5/5 [==============================] - 3s 646ms/step - loss: 0.0616 - accuracy: 0.9706 - val_loss: 13.1795 - val_accuracy: 0.1429\n",
      "Epoch 39/70\n",
      "5/5 [==============================] - ETA: 0s - loss: 0.0154 - accuracy: 0.9926\n",
      "Epoch 39: val_loss did not improve from 8.51228\n",
      "5/5 [==============================] - 3s 652ms/step - loss: 0.0154 - accuracy: 0.9926 - val_loss: 14.4355 - val_accuracy: 0.1714\n",
      "Epoch 40/70\n",
      "5/5 [==============================] - ETA: 0s - loss: 3.0991e-04 - accuracy: 1.0000\n",
      "Epoch 40: val_loss did not improve from 8.51228\n",
      "5/5 [==============================] - 3s 624ms/step - loss: 3.0991e-04 - accuracy: 1.0000 - val_loss: 14.6595 - val_accuracy: 0.1714\n",
      "Epoch 41/70\n",
      "5/5 [==============================] - ETA: 0s - loss: 2.7965e-04 - accuracy: 1.0000\n",
      "Epoch 41: val_loss did not improve from 8.51228\n",
      "5/5 [==============================] - 3s 628ms/step - loss: 2.7965e-04 - accuracy: 1.0000 - val_loss: 14.9525 - val_accuracy: 0.1714\n",
      "Epoch 42/70\n",
      "5/5 [==============================] - ETA: 0s - loss: 3.3020e-04 - accuracy: 1.0000\n",
      "Epoch 42: val_loss did not improve from 8.51228\n",
      "5/5 [==============================] - 3s 668ms/step - loss: 3.3020e-04 - accuracy: 1.0000 - val_loss: 15.0465 - val_accuracy: 0.1429\n",
      "Epoch 43/70\n",
      "5/5 [==============================] - ETA: 0s - loss: 5.1371e-04 - accuracy: 1.0000\n",
      "Epoch 43: val_loss did not improve from 8.51228\n",
      "5/5 [==============================] - 3s 502ms/step - loss: 5.1371e-04 - accuracy: 1.0000 - val_loss: 15.9363 - val_accuracy: 0.1429\n",
      "Epoch 44/70\n",
      "5/5 [==============================] - ETA: 0s - loss: 4.5414e-04 - accuracy: 1.0000\n",
      "Epoch 44: val_loss did not improve from 8.51228\n",
      "5/5 [==============================] - 2s 461ms/step - loss: 4.5414e-04 - accuracy: 1.0000 - val_loss: 16.6379 - val_accuracy: 0.1429\n",
      "Epoch 45/70\n",
      "5/5 [==============================] - ETA: 0s - loss: 1.2043e-04 - accuracy: 1.0000\n",
      "Epoch 45: val_loss did not improve from 8.51228\n",
      "5/5 [==============================] - 3s 603ms/step - loss: 1.2043e-04 - accuracy: 1.0000 - val_loss: 16.9032 - val_accuracy: 0.1429\n",
      "Epoch 46/70\n",
      "5/5 [==============================] - ETA: 0s - loss: 4.0468e-05 - accuracy: 1.0000\n",
      "Epoch 46: val_loss did not improve from 8.51228\n",
      "5/5 [==============================] - 3s 607ms/step - loss: 4.0468e-05 - accuracy: 1.0000 - val_loss: 17.1891 - val_accuracy: 0.1429\n",
      "Epoch 47/70\n",
      "5/5 [==============================] - ETA: 0s - loss: 1.8882e-04 - accuracy: 1.0000\n",
      "Epoch 47: val_loss did not improve from 8.51228\n",
      "5/5 [==============================] - 3s 534ms/step - loss: 1.8882e-04 - accuracy: 1.0000 - val_loss: 17.6325 - val_accuracy: 0.1429\n",
      "Epoch 48/70\n",
      "5/5 [==============================] - ETA: 0s - loss: 0.0774 - accuracy: 0.9632\n",
      "Epoch 48: val_loss did not improve from 8.51228\n",
      "5/5 [==============================] - 3s 609ms/step - loss: 0.0774 - accuracy: 0.9632 - val_loss: 13.7630 - val_accuracy: 0.2000\n",
      "Epoch 49/70\n",
      "5/5 [==============================] - ETA: 0s - loss: 0.0453 - accuracy: 0.9779\n",
      "Epoch 49: val_loss did not improve from 8.51228\n",
      "5/5 [==============================] - 3s 614ms/step - loss: 0.0453 - accuracy: 0.9779 - val_loss: 15.3080 - val_accuracy: 0.1429\n",
      "Epoch 50/70\n",
      "5/5 [==============================] - ETA: 0s - loss: 0.0739 - accuracy: 0.9779\n",
      "Epoch 50: val_loss did not improve from 8.51228\n",
      "5/5 [==============================] - 3s 616ms/step - loss: 0.0739 - accuracy: 0.9779 - val_loss: 15.9102 - val_accuracy: 0.1429\n",
      "Epoch 51/70\n",
      "5/5 [==============================] - ETA: 0s - loss: 0.0025 - accuracy: 1.0000  \n",
      "Epoch 51: val_loss did not improve from 8.51228\n",
      "5/5 [==============================] - 3s 582ms/step - loss: 0.0025 - accuracy: 1.0000 - val_loss: 17.1293 - val_accuracy: 0.1143\n",
      "Epoch 52/70\n",
      "5/5 [==============================] - ETA: 0s - loss: 1.2888e-04 - accuracy: 1.0000\n",
      "Epoch 52: val_loss did not improve from 8.51228\n",
      "5/5 [==============================] - 3s 634ms/step - loss: 1.2888e-04 - accuracy: 1.0000 - val_loss: 17.3807 - val_accuracy: 0.1143\n",
      "Epoch 53/70\n",
      "5/5 [==============================] - ETA: 0s - loss: 1.0970e-04 - accuracy: 1.0000\n",
      "Epoch 53: val_loss did not improve from 8.51228\n",
      "5/5 [==============================] - 3s 604ms/step - loss: 1.0970e-04 - accuracy: 1.0000 - val_loss: 17.5354 - val_accuracy: 0.1143\n",
      "Epoch 54/70\n",
      "5/5 [==============================] - ETA: 0s - loss: 1.1055e-04 - accuracy: 1.0000\n",
      "Epoch 54: val_loss did not improve from 8.51228\n",
      "5/5 [==============================] - 3s 632ms/step - loss: 1.1055e-04 - accuracy: 1.0000 - val_loss: 17.9557 - val_accuracy: 0.1143\n",
      "Epoch 55/70\n",
      "5/5 [==============================] - ETA: 0s - loss: 1.0710e-04 - accuracy: 1.0000\n",
      "Epoch 55: val_loss did not improve from 8.51228\n",
      "5/5 [==============================] - 3s 627ms/step - loss: 1.0710e-04 - accuracy: 1.0000 - val_loss: 18.0527 - val_accuracy: 0.1143\n",
      "Epoch 56/70\n",
      "5/5 [==============================] - ETA: 0s - loss: 5.3452e-05 - accuracy: 1.0000\n",
      "Epoch 56: val_loss did not improve from 8.51228\n",
      "5/5 [==============================] - 3s 561ms/step - loss: 5.3452e-05 - accuracy: 1.0000 - val_loss: 18.2247 - val_accuracy: 0.1143\n",
      "Epoch 57/70\n",
      "5/5 [==============================] - ETA: 0s - loss: 1.0140e-04 - accuracy: 1.0000\n",
      "Epoch 57: val_loss did not improve from 8.51228\n",
      "5/5 [==============================] - 3s 583ms/step - loss: 1.0140e-04 - accuracy: 1.0000 - val_loss: 18.4153 - val_accuracy: 0.1143\n",
      "Epoch 58/70\n",
      "5/5 [==============================] - ETA: 0s - loss: 4.6691e-05 - accuracy: 1.0000\n",
      "Epoch 58: val_loss did not improve from 8.51228\n",
      "5/5 [==============================] - 3s 618ms/step - loss: 4.6691e-05 - accuracy: 1.0000 - val_loss: 18.6878 - val_accuracy: 0.1143\n",
      "Epoch 59/70\n",
      "5/5 [==============================] - ETA: 0s - loss: 1.4042e-05 - accuracy: 1.0000\n",
      "Epoch 59: val_loss did not improve from 8.51228\n",
      "5/5 [==============================] - 3s 567ms/step - loss: 1.4042e-05 - accuracy: 1.0000 - val_loss: 18.9333 - val_accuracy: 0.0857\n",
      "Epoch 60/70\n",
      "5/5 [==============================] - ETA: 0s - loss: 5.5811e-05 - accuracy: 1.0000\n",
      "Epoch 60: val_loss did not improve from 8.51228\n",
      "5/5 [==============================] - 3s 630ms/step - loss: 5.5811e-05 - accuracy: 1.0000 - val_loss: 19.2665 - val_accuracy: 0.0857\n",
      "Epoch 61/70\n",
      "5/5 [==============================] - ETA: 0s - loss: 0.1685 - accuracy: 0.9412\n",
      "Epoch 61: val_loss did not improve from 8.51228\n",
      "5/5 [==============================] - 3s 583ms/step - loss: 0.1685 - accuracy: 0.9412 - val_loss: 19.6597 - val_accuracy: 0.0286\n",
      "Epoch 62/70\n",
      "5/5 [==============================] - ETA: 0s - loss: 0.0063 - accuracy: 1.0000\n",
      "Epoch 62: val_loss did not improve from 8.51228\n",
      "5/5 [==============================] - 3s 640ms/step - loss: 0.0063 - accuracy: 1.0000 - val_loss: 18.9840 - val_accuracy: 0.0857\n",
      "Epoch 63/70\n",
      "5/5 [==============================] - ETA: 0s - loss: 0.0189 - accuracy: 0.9926\n",
      "Epoch 63: val_loss did not improve from 8.51228\n",
      "5/5 [==============================] - 3s 647ms/step - loss: 0.0189 - accuracy: 0.9926 - val_loss: 19.1581 - val_accuracy: 0.0286\n",
      "Epoch 64/70\n",
      "5/5 [==============================] - ETA: 0s - loss: 5.3452e-04 - accuracy: 1.0000\n",
      "Epoch 64: val_loss did not improve from 8.51228\n",
      "5/5 [==============================] - 3s 621ms/step - loss: 5.3452e-04 - accuracy: 1.0000 - val_loss: 19.2766 - val_accuracy: 0.0286\n",
      "Epoch 65/70\n",
      "5/5 [==============================] - ETA: 0s - loss: 2.8703e-04 - accuracy: 1.0000\n",
      "Epoch 65: val_loss did not improve from 8.51228\n",
      "5/5 [==============================] - 3s 545ms/step - loss: 2.8703e-04 - accuracy: 1.0000 - val_loss: 19.4212 - val_accuracy: 0.0286\n",
      "Epoch 66/70\n",
      "5/5 [==============================] - ETA: 0s - loss: 8.0624e-05 - accuracy: 1.0000\n",
      "Epoch 66: val_loss did not improve from 8.51228\n",
      "5/5 [==============================] - 3s 490ms/step - loss: 8.0624e-05 - accuracy: 1.0000 - val_loss: 19.6093 - val_accuracy: 0.0286\n",
      "Epoch 67/70\n",
      "5/5 [==============================] - ETA: 0s - loss: 1.7279e-04 - accuracy: 1.0000\n",
      "Epoch 67: val_loss did not improve from 8.51228\n",
      "5/5 [==============================] - 3s 490ms/step - loss: 1.7279e-04 - accuracy: 1.0000 - val_loss: 19.4487 - val_accuracy: 0.0286\n",
      "Epoch 68/70\n",
      "5/5 [==============================] - ETA: 0s - loss: 3.7570e-05 - accuracy: 1.0000\n",
      "Epoch 68: val_loss did not improve from 8.51228\n",
      "5/5 [==============================] - 3s 590ms/step - loss: 3.7570e-05 - accuracy: 1.0000 - val_loss: 19.6445 - val_accuracy: 0.0286\n",
      "Epoch 69/70\n",
      "5/5 [==============================] - ETA: 0s - loss: 6.5666e-04 - accuracy: 1.0000\n",
      "Epoch 69: val_loss did not improve from 8.51228\n",
      "5/5 [==============================] - 3s 586ms/step - loss: 6.5666e-04 - accuracy: 1.0000 - val_loss: 20.1961 - val_accuracy: 0.0571\n",
      "Epoch 70/70\n",
      "5/5 [==============================] - ETA: 0s - loss: 9.9222e-05 - accuracy: 1.0000\n",
      "Epoch 70: val_loss did not improve from 8.51228\n",
      "5/5 [==============================] - 3s 531ms/step - loss: 9.9222e-05 - accuracy: 1.0000 - val_loss: 20.2399 - val_accuracy: 0.0571\n"
     ]
    }
   ],
   "source": [
    "model_cnn.compile(\n",
    "    loss = tf.keras.losses.SparseCategoricalCrossentropy(),\n",
    "    optimizer='rmsprop',\n",
    "    metrics=['accuracy']\n",
    ")\n",
    "\n",
    "history_cnn = model_cnn.fit(\n",
    "    X_train_cnn, y_train_cnn,\n",
    "    epochs = 70,\n",
    "    batch_size = 32, # données transmises pour une session\n",
    "    validation_split=0.2,\n",
    "    callbacks=callbacks_list\n",
    ")"
   ]
  },
  {
   "cell_type": "code",
   "execution_count": 24,
   "metadata": {},
   "outputs": [
    {
     "name": "stdout",
     "output_type": "stream",
     "text": [
      "2/2 [==============================] - 1s 183ms/step - loss: 5.8162 - accuracy: 0.4419\n"
     ]
    },
    {
     "data": {
      "text/plain": [
       "[5.81617546081543, 0.44186046719551086]"
      ]
     },
     "execution_count": 24,
     "metadata": {},
     "output_type": "execute_result"
    }
   ],
   "source": [
    "model_cnn.evaluate(X_test_cnn, y_test_cnn)"
   ]
  },
  {
   "cell_type": "code",
   "execution_count": 25,
   "metadata": {},
   "outputs": [
    {
     "name": "stdout",
     "output_type": "stream",
     "text": [
      "2/2 [==============================] - 1s 146ms/step\n"
     ]
    },
    {
     "data": {
      "text/plain": [
       "array([[5.5714085e-05, 9.9989319e-01, 5.0722883e-05, 3.0792046e-07],\n",
       "       [9.9980098e-01, 4.1563744e-05, 1.5749715e-04, 7.6666586e-13],\n",
       "       [7.5838739e-01, 2.4161255e-01, 2.0436968e-08, 8.3754607e-11],\n",
       "       [1.3874187e-03, 9.8977822e-01, 8.8343536e-03, 9.9004506e-11],\n",
       "       [1.9859394e-06, 9.9995410e-01, 4.3856402e-05, 1.0857977e-12],\n",
       "       [1.8935978e-01, 6.7827404e-01, 1.3236614e-01, 1.3408807e-14],\n",
       "       [6.5355822e-02, 1.0895499e-02, 9.2374861e-01, 8.3503695e-13],\n",
       "       [9.9958664e-01, 4.1338801e-04, 2.0195272e-09, 7.9843785e-14],\n",
       "       [9.9995959e-01, 4.0467839e-05, 8.1417423e-10, 4.2615612e-16],\n",
       "       [6.8663359e-03, 9.9313354e-01, 6.3140554e-08, 1.9713835e-10],\n",
       "       [2.7514318e-01, 2.9292309e-03, 7.2192758e-01, 4.6424008e-13],\n",
       "       [9.9976844e-01, 1.3347029e-06, 2.3028457e-04, 8.6614462e-18],\n",
       "       [2.3402955e-02, 8.8485008e-01, 9.1746084e-02, 8.3658222e-07],\n",
       "       [8.8203526e-01, 1.1795700e-01, 7.7017294e-06, 2.2379727e-14],\n",
       "       [9.5957547e-01, 3.9123803e-02, 1.3007028e-03, 4.4123258e-13],\n",
       "       [3.8572315e-02, 7.9832301e-03, 9.5344454e-01, 1.2717113e-09],\n",
       "       [6.4268126e-04, 9.9935311e-01, 4.1856374e-06, 2.2242135e-08],\n",
       "       [2.2953682e-02, 9.3089062e-01, 4.6154834e-02, 9.3587977e-07],\n",
       "       [1.6197831e-05, 9.9997783e-01, 6.0227458e-06, 3.1667411e-15],\n",
       "       [4.7931168e-03, 9.9520630e-01, 5.5045325e-07, 3.6793157e-10],\n",
       "       [3.4928398e-04, 9.9480116e-01, 4.8496099e-03, 1.6638931e-10],\n",
       "       [5.6864345e-01, 2.2013842e-03, 4.2915517e-01, 3.7247484e-12],\n",
       "       [4.9713970e-05, 3.4397310e-08, 9.9995029e-01, 1.7327398e-18],\n",
       "       [9.9600655e-01, 3.9924257e-03, 1.0464211e-06, 4.0672261e-09],\n",
       "       [9.7531736e-02, 9.0188819e-01, 5.7560130e-04, 4.5348893e-06],\n",
       "       [1.8405741e-02, 7.8417468e-01, 1.9741763e-01, 1.9296367e-06],\n",
       "       [1.4914788e-03, 9.8227733e-01, 1.6231243e-02, 5.6433684e-09],\n",
       "       [2.2885307e-04, 9.9735296e-01, 2.4179299e-03, 1.9153993e-07],\n",
       "       [1.1755722e-03, 7.8387400e-03, 9.9098575e-01, 7.4707254e-13],\n",
       "       [3.6663625e-08, 9.9999821e-01, 1.7310726e-06, 1.2489933e-15],\n",
       "       [1.9369166e-08, 9.9956805e-01, 4.3190521e-04, 3.9526047e-12],\n",
       "       [6.7390247e-06, 9.9993253e-01, 6.0694041e-05, 4.7437089e-11],\n",
       "       [9.1811204e-01, 8.1885271e-02, 2.6728405e-06, 6.3794168e-08],\n",
       "       [4.2030582e-04, 9.9383497e-01, 5.7447599e-03, 1.0020953e-09],\n",
       "       [1.3481468e-01, 8.5901767e-01, 6.1677010e-03, 4.5003928e-10],\n",
       "       [9.9824262e-01, 1.7515969e-03, 5.8326314e-06, 8.8981783e-10],\n",
       "       [8.8083023e-01, 1.1916973e-01, 2.5249587e-09, 1.9391884e-11],\n",
       "       [8.2461119e-01, 9.2664339e-02, 8.2724512e-02, 2.0126613e-12],\n",
       "       [3.0515311e-02, 9.6729201e-01, 2.1926016e-03, 8.0529592e-09],\n",
       "       [9.4103277e-01, 5.8868080e-02, 9.9201570e-05, 7.7453854e-10],\n",
       "       [3.6001679e-02, 9.6397412e-01, 2.4161323e-05, 7.6508905e-10],\n",
       "       [9.8516613e-01, 1.4829770e-02, 4.1024123e-06, 8.5627174e-12],\n",
       "       [9.9968922e-01, 3.1078706e-04, 3.0220254e-10, 6.0177244e-17]],\n",
       "      dtype=float32)"
      ]
     },
     "execution_count": 25,
     "metadata": {},
     "output_type": "execute_result"
    }
   ],
   "source": [
    "pred_cnn = model_cnn.predict(X_test_cnn)\n",
    "pred_cnn"
   ]
  },
  {
   "cell_type": "code",
   "execution_count": 26,
   "metadata": {},
   "outputs": [
    {
     "name": "stdout",
     "output_type": "stream",
     "text": [
      "Predicted labels:  [1 0 0 1 1 1 2 0 0 1 2 0 1 0 0 2 1 1 1 1 1 0 2 0 1 1 1 1 2 1 1 1 0 1 1 0 0\n",
      " 0 1 0 1 0 0]\n",
      "True labels:       [0 0 0 0 0 0 0 0 0 0 0 0 0 0 0 0 1 1 1 1 1 1 1 1 1 1 1 1 1 1 1 1 2 2 2 2 2\n",
      " 2 2 3 3 3 3]\n"
     ]
    }
   ],
   "source": [
    "y_pred_cnn = np.argmax(pred_cnn, axis=1)\n",
    "print(\"Predicted labels: \", y_pred_cnn)\n",
    "print(\"True labels:      \", y_test_cnn)"
   ]
  },
  {
   "attachments": {},
   "cell_type": "markdown",
   "metadata": {},
   "source": [
    "**Accuracy: $19/43$ ($44.18 \\%$)**"
   ]
  }
 ],
 "metadata": {
  "kernelspec": {
   "display_name": "base",
   "language": "python",
   "name": "python3"
  },
  "language_info": {
   "codemirror_mode": {
    "name": "ipython",
    "version": 3
   },
   "file_extension": ".py",
   "mimetype": "text/x-python",
   "name": "python",
   "nbconvert_exporter": "python",
   "pygments_lexer": "ipython3",
   "version": "3.9.13"
  },
  "orig_nbformat": 4
 },
 "nbformat": 4,
 "nbformat_minor": 2
}
