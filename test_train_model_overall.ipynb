{
 "cells": [
  {
   "cell_type": "code",
   "execution_count": 1,
   "metadata": {},
   "outputs": [],
   "source": [
    "from smart.model import ModelJoueurClassique\n",
    "import tensorflow as tf\n",
    "from keras.models import Sequential\n",
    "from keras.layers import Conv2D, MaxPooling2D, Flatten, Dense, BatchNormalization, Dropout\n",
    "import numpy as np"
   ]
  },
  {
   "cell_type": "code",
   "execution_count": 2,
   "metadata": {},
   "outputs": [],
   "source": [
    "path_dataset = 'img/all-dataset'"
   ]
  },
  {
   "cell_type": "code",
   "execution_count": 3,
   "metadata": {},
   "outputs": [],
   "source": [
    "layers = [               \n",
    "    tf.keras.Input(shape = 50*50*15), # 50*50 * 15 = 37500\n",
    "    Dense(units=16, activation=\"relu\"),\n",
    "    Dense(units=32, activation=\"relu\"),\n",
    "    Dense(units=64, activation=\"sigmoid\"),\n",
    "    Dense(units=128, activation=\"relu\"),\n",
    "    Dense(units=4, activation=\"softmax\")\n",
    "]"
   ]
  },
  {
   "cell_type": "code",
   "execution_count": 4,
   "metadata": {},
   "outputs": [
    {
     "name": "stdout",
     "output_type": "stream",
     "text": [
      "Model: \"sequential\"\n",
      "_________________________________________________________________\n",
      " Layer (type)                Output Shape              Param #   \n",
      "=================================================================\n",
      " dense (Dense)               (None, 16)                600016    \n",
      "                                                                 \n",
      " dense_1 (Dense)             (None, 32)                544       \n",
      "                                                                 \n",
      " dense_2 (Dense)             (None, 64)                2112      \n",
      "                                                                 \n",
      " dense_3 (Dense)             (None, 128)               8320      \n",
      "                                                                 \n",
      " dense_4 (Dense)             (None, 4)                 516       \n",
      "                                                                 \n",
      "=================================================================\n",
      "Total params: 611,508\n",
      "Trainable params: 611,508\n",
      "Non-trainable params: 0\n",
      "_________________________________________________________________\n"
     ]
    }
   ],
   "source": [
    "model_joueur_classique = ModelJoueurClassique.load_model_from_layers(layers)\n",
    "model_joueur_classique.summary_model"
   ]
  },
  {
   "cell_type": "code",
   "execution_count": 5,
   "metadata": {},
   "outputs": [],
   "source": [
    "# Step 1: Load the data\n",
    "list_videos, y = model_joueur_classique.analyse_sequence_frame(path_data_frame=path_dataset)"
   ]
  },
  {
   "cell_type": "code",
   "execution_count": 6,
   "metadata": {},
   "outputs": [
    {
     "data": {
      "text/plain": [
       "array([0, 0, 0, 0, 0, 0, 0, 0, 0, 0, 0, 0, 0, 0, 0, 0, 0, 0, 0, 0, 0, 0,\n",
       "       0, 0, 0, 0, 0, 0, 0, 0, 0, 0, 0, 0, 0, 0, 0, 0, 0, 0, 0, 0, 0, 0,\n",
       "       0, 0, 0, 0, 0, 0, 0, 0, 0, 0, 0, 0, 0, 0, 0, 0, 0, 0, 0, 0, 0, 0,\n",
       "       0, 0, 0, 0, 0, 0, 0, 0, 0, 0, 0, 0, 0, 0, 0, 0, 0, 0, 0, 0, 0, 1,\n",
       "       1, 1, 1, 1, 1, 1, 1, 1, 1, 1, 1, 1, 1, 1, 1, 1, 1, 1, 1, 1, 1, 1,\n",
       "       1, 1, 1, 1, 1, 1, 1, 1, 1, 1, 1, 1, 1, 1, 1, 1, 1, 1, 1, 1, 1, 1,\n",
       "       1, 1, 1, 1, 1, 1, 1, 1, 1, 1, 1, 1, 1, 1, 1, 1, 1, 1, 1, 1, 1, 1,\n",
       "       1, 1, 1, 1, 1, 1, 1, 1, 1, 1, 1, 1, 1, 1, 1, 1, 1, 1, 1, 1, 1, 1,\n",
       "       2, 2, 2, 2, 2, 2, 2, 2, 2, 2, 2, 2, 2, 2, 2, 2, 2, 2, 2, 2, 2, 2,\n",
       "       2, 2, 2, 2, 2, 2, 2, 2, 2, 2, 2, 2, 2, 2, 2, 2, 2, 2, 2, 2, 2, 2,\n",
       "       2, 2, 2, 2, 2, 2, 2, 2, 2, 2, 2, 2, 2, 2, 2, 2, 2, 3, 3, 3, 3, 3,\n",
       "       3, 3, 3, 3, 3, 3, 3, 3, 3, 3, 3, 3, 3, 3, 3, 3, 3, 3, 3, 3, 3, 3,\n",
       "       3, 3, 3, 3, 3, 3, 3, 3, 3, 3, 3, 3, 3, 3], dtype=int64)"
      ]
     },
     "execution_count": 6,
     "metadata": {},
     "output_type": "execute_result"
    }
   ],
   "source": [
    "# Step 2: Label encoder\n",
    "y = model_joueur_classique.label_encoder(y)\n",
    "y"
   ]
  },
  {
   "cell_type": "code",
   "execution_count": 7,
   "metadata": {},
   "outputs": [
    {
     "data": {
      "text/plain": [
       "(222, 37500)"
      ]
     },
     "execution_count": 7,
     "metadata": {},
     "output_type": "execute_result"
    }
   ],
   "source": [
    "# Step 3: Split the data\n",
    "X_train, y_train, X_test, y_test = model_joueur_classique.split_train_test(list_videos, y)\n",
    "X_train.shape"
   ]
  },
  {
   "cell_type": "code",
   "execution_count": 8,
   "metadata": {},
   "outputs": [],
   "source": [
    "# Step 4: Normalize the data\n",
    "X_train, X_test = model_joueur_classique.normalize_input(X_train, X_test)"
   ]
  },
  {
   "cell_type": "code",
   "execution_count": 9,
   "metadata": {},
   "outputs": [
    {
     "name": "stdout",
     "output_type": "stream",
     "text": [
      "Epoch 1/70\n",
      "1/6 [====>.........................] - ETA: 2s - loss: 1.3779 - accuracy: 0.2500\n",
      "Epoch 1: val_loss improved from inf to 2.39211, saving model to checkpoints\\Weights-001--2.39211.hdf5\n",
      "6/6 [==============================] - 1s 42ms/step - loss: 1.2249 - accuracy: 0.3503 - val_loss: 2.3921 - val_accuracy: 0.0000e+00\n",
      "Epoch 2/70\n",
      "6/6 [==============================] - ETA: 0s - loss: 1.0883 - accuracy: 0.4576\n",
      "Epoch 2: val_loss did not improve from 2.39211\n",
      "6/6 [==============================] - 0s 17ms/step - loss: 1.0883 - accuracy: 0.4576 - val_loss: 3.0508 - val_accuracy: 0.0000e+00\n",
      "Epoch 3/70\n",
      "1/6 [====>.........................] - ETA: 0s - loss: 1.0434 - accuracy: 0.5000\n",
      "Epoch 3: val_loss did not improve from 2.39211\n",
      "6/6 [==============================] - 0s 13ms/step - loss: 1.0170 - accuracy: 0.6610 - val_loss: 3.4791 - val_accuracy: 0.0000e+00\n",
      "Epoch 4/70\n",
      "1/6 [====>.........................] - ETA: 0s - loss: 1.0023 - accuracy: 0.6562\n",
      "Epoch 4: val_loss did not improve from 2.39211\n",
      "6/6 [==============================] - 0s 12ms/step - loss: 0.9433 - accuracy: 0.7119 - val_loss: 3.6381 - val_accuracy: 0.0000e+00\n",
      "Epoch 5/70\n",
      "1/6 [====>.........................] - ETA: 0s - loss: 0.8368 - accuracy: 0.7188\n",
      "Epoch 5: val_loss did not improve from 2.39211\n",
      "6/6 [==============================] - 0s 13ms/step - loss: 0.8207 - accuracy: 0.7571 - val_loss: 4.0234 - val_accuracy: 0.0000e+00\n",
      "Epoch 6/70\n",
      "1/6 [====>.........................] - ETA: 0s - loss: 0.6779 - accuracy: 0.7812\n",
      "Epoch 6: val_loss did not improve from 2.39211\n",
      "6/6 [==============================] - 0s 12ms/step - loss: 0.6367 - accuracy: 0.8644 - val_loss: 4.0956 - val_accuracy: 0.0000e+00\n",
      "Epoch 7/70\n",
      "1/6 [====>.........................] - ETA: 0s - loss: 0.5067 - accuracy: 0.9062\n",
      "Epoch 7: val_loss did not improve from 2.39211\n",
      "6/6 [==============================] - 0s 13ms/step - loss: 0.4137 - accuracy: 0.9266 - val_loss: 4.6346 - val_accuracy: 0.0000e+00\n",
      "Epoch 8/70\n",
      "1/6 [====>.........................] - ETA: 0s - loss: 0.3108 - accuracy: 0.9375\n",
      "Epoch 8: val_loss did not improve from 2.39211\n",
      "6/6 [==============================] - 0s 11ms/step - loss: 0.2346 - accuracy: 0.9718 - val_loss: 4.5358 - val_accuracy: 0.0000e+00\n",
      "Epoch 9/70\n",
      "1/6 [====>.........................] - ETA: 0s - loss: 0.1506 - accuracy: 1.0000\n",
      "Epoch 9: val_loss did not improve from 2.39211\n",
      "6/6 [==============================] - 0s 12ms/step - loss: 0.1191 - accuracy: 1.0000 - val_loss: 5.2365 - val_accuracy: 0.0000e+00\n",
      "Epoch 10/70\n",
      "1/6 [====>.........................] - ETA: 0s - loss: 0.0824 - accuracy: 1.0000\n",
      "Epoch 10: val_loss did not improve from 2.39211\n",
      "6/6 [==============================] - 0s 12ms/step - loss: 0.0608 - accuracy: 1.0000 - val_loss: 5.6473 - val_accuracy: 0.0000e+00\n",
      "Epoch 11/70\n",
      "1/6 [====>.........................] - ETA: 0s - loss: 0.0460 - accuracy: 1.0000\n",
      "Epoch 11: val_loss did not improve from 2.39211\n",
      "6/6 [==============================] - 0s 12ms/step - loss: 0.0310 - accuracy: 1.0000 - val_loss: 5.8434 - val_accuracy: 0.0000e+00\n",
      "Epoch 12/70\n",
      "1/6 [====>.........................] - ETA: 0s - loss: 0.0247 - accuracy: 1.0000\n",
      "Epoch 12: val_loss did not improve from 2.39211\n",
      "6/6 [==============================] - 0s 13ms/step - loss: 0.0179 - accuracy: 1.0000 - val_loss: 6.1515 - val_accuracy: 0.0000e+00\n",
      "Epoch 13/70\n",
      "1/6 [====>.........................] - ETA: 0s - loss: 0.0124 - accuracy: 1.0000\n",
      "Epoch 13: val_loss did not improve from 2.39211\n",
      "6/6 [==============================] - 0s 11ms/step - loss: 0.0115 - accuracy: 1.0000 - val_loss: 6.3776 - val_accuracy: 0.0000e+00\n",
      "Epoch 14/70\n",
      "1/6 [====>.........................] - ETA: 0s - loss: 0.0090 - accuracy: 1.0000\n",
      "Epoch 14: val_loss did not improve from 2.39211\n",
      "6/6 [==============================] - 0s 12ms/step - loss: 0.0080 - accuracy: 1.0000 - val_loss: 6.5424 - val_accuracy: 0.0000e+00\n",
      "Epoch 15/70\n",
      "1/6 [====>.........................] - ETA: 0s - loss: 0.0063 - accuracy: 1.0000\n",
      "Epoch 15: val_loss did not improve from 2.39211\n",
      "6/6 [==============================] - 0s 12ms/step - loss: 0.0059 - accuracy: 1.0000 - val_loss: 6.6974 - val_accuracy: 0.0000e+00\n",
      "Epoch 16/70\n",
      "1/6 [====>.........................] - ETA: 0s - loss: 0.0053 - accuracy: 1.0000\n",
      "Epoch 16: val_loss did not improve from 2.39211\n",
      "6/6 [==============================] - 0s 12ms/step - loss: 0.0046 - accuracy: 1.0000 - val_loss: 6.8378 - val_accuracy: 0.0000e+00\n",
      "Epoch 17/70\n",
      "1/6 [====>.........................] - ETA: 0s - loss: 0.0030 - accuracy: 1.0000\n",
      "Epoch 17: val_loss did not improve from 2.39211\n",
      "6/6 [==============================] - 0s 13ms/step - loss: 0.0037 - accuracy: 1.0000 - val_loss: 6.9492 - val_accuracy: 0.0000e+00\n",
      "Epoch 18/70\n",
      "1/6 [====>.........................] - ETA: 0s - loss: 0.0035 - accuracy: 1.0000\n",
      "Epoch 18: val_loss did not improve from 2.39211\n",
      "6/6 [==============================] - 0s 13ms/step - loss: 0.0031 - accuracy: 1.0000 - val_loss: 7.0661 - val_accuracy: 0.0000e+00\n",
      "Epoch 19/70\n",
      "1/6 [====>.........................] - ETA: 0s - loss: 0.0031 - accuracy: 1.0000\n",
      "Epoch 19: val_loss did not improve from 2.39211\n",
      "6/6 [==============================] - 0s 13ms/step - loss: 0.0026 - accuracy: 1.0000 - val_loss: 7.1698 - val_accuracy: 0.0000e+00\n",
      "Epoch 20/70\n",
      "1/6 [====>.........................] - ETA: 0s - loss: 0.0028 - accuracy: 1.0000\n",
      "Epoch 20: val_loss did not improve from 2.39211\n",
      "6/6 [==============================] - 0s 12ms/step - loss: 0.0023 - accuracy: 1.0000 - val_loss: 7.2754 - val_accuracy: 0.0000e+00\n",
      "Epoch 21/70\n",
      "1/6 [====>.........................] - ETA: 0s - loss: 0.0020 - accuracy: 1.0000\n",
      "Epoch 21: val_loss did not improve from 2.39211\n",
      "6/6 [==============================] - 0s 12ms/step - loss: 0.0020 - accuracy: 1.0000 - val_loss: 7.3680 - val_accuracy: 0.0000e+00\n",
      "Epoch 22/70\n",
      "1/6 [====>.........................] - ETA: 0s - loss: 0.0019 - accuracy: 1.0000\n",
      "Epoch 22: val_loss did not improve from 2.39211\n",
      "6/6 [==============================] - 0s 11ms/step - loss: 0.0017 - accuracy: 1.0000 - val_loss: 7.4519 - val_accuracy: 0.0000e+00\n",
      "Epoch 23/70\n",
      "1/6 [====>.........................] - ETA: 0s - loss: 0.0015 - accuracy: 1.0000\n",
      "Epoch 23: val_loss did not improve from 2.39211\n",
      "6/6 [==============================] - 0s 11ms/step - loss: 0.0016 - accuracy: 1.0000 - val_loss: 7.5373 - val_accuracy: 0.0000e+00\n",
      "Epoch 24/70\n",
      "1/6 [====>.........................] - ETA: 0s - loss: 0.0017 - accuracy: 1.0000\n",
      "Epoch 24: val_loss did not improve from 2.39211\n",
      "6/6 [==============================] - 0s 12ms/step - loss: 0.0014 - accuracy: 1.0000 - val_loss: 7.6167 - val_accuracy: 0.0000e+00\n",
      "Epoch 25/70\n",
      "1/6 [====>.........................] - ETA: 0s - loss: 0.0013 - accuracy: 1.0000\n",
      "Epoch 25: val_loss did not improve from 2.39211\n",
      "6/6 [==============================] - 0s 11ms/step - loss: 0.0013 - accuracy: 1.0000 - val_loss: 7.6923 - val_accuracy: 0.0000e+00\n",
      "Epoch 26/70\n",
      "1/6 [====>.........................] - ETA: 0s - loss: 0.0013 - accuracy: 1.0000\n",
      "Epoch 26: val_loss did not improve from 2.39211\n",
      "6/6 [==============================] - 0s 11ms/step - loss: 0.0011 - accuracy: 1.0000 - val_loss: 7.7611 - val_accuracy: 0.0000e+00\n",
      "Epoch 27/70\n",
      "1/6 [====>.........................] - ETA: 0s - loss: 0.0010 - accuracy: 1.0000\n",
      "Epoch 27: val_loss did not improve from 2.39211\n",
      "6/6 [==============================] - 0s 11ms/step - loss: 0.0010 - accuracy: 1.0000 - val_loss: 7.8347 - val_accuracy: 0.0000e+00\n",
      "Epoch 28/70\n",
      "1/6 [====>.........................] - ETA: 0s - loss: 6.8026e-04 - accuracy: 1.0000\n",
      "Epoch 28: val_loss did not improve from 2.39211\n",
      "6/6 [==============================] - 0s 11ms/step - loss: 9.5922e-04 - accuracy: 1.0000 - val_loss: 7.8954 - val_accuracy: 0.0000e+00\n",
      "Epoch 29/70\n",
      "1/6 [====>.........................] - ETA: 0s - loss: 8.8635e-04 - accuracy: 1.0000\n",
      "Epoch 29: val_loss did not improve from 2.39211\n",
      "6/6 [==============================] - 0s 12ms/step - loss: 8.8007e-04 - accuracy: 1.0000 - val_loss: 7.9643 - val_accuracy: 0.0000e+00\n",
      "Epoch 30/70\n",
      "1/6 [====>.........................] - ETA: 0s - loss: 8.7953e-04 - accuracy: 1.0000\n",
      "Epoch 30: val_loss did not improve from 2.39211\n",
      "6/6 [==============================] - 0s 12ms/step - loss: 8.1199e-04 - accuracy: 1.0000 - val_loss: 8.0358 - val_accuracy: 0.0000e+00\n",
      "Epoch 31/70\n",
      "1/6 [====>.........................] - ETA: 0s - loss: 9.7766e-04 - accuracy: 1.0000\n",
      "Epoch 31: val_loss did not improve from 2.39211\n",
      "6/6 [==============================] - 0s 12ms/step - loss: 7.5349e-04 - accuracy: 1.0000 - val_loss: 8.1011 - val_accuracy: 0.0000e+00\n",
      "Epoch 32/70\n",
      "1/6 [====>.........................] - ETA: 0s - loss: 8.1625e-04 - accuracy: 1.0000\n",
      "Epoch 32: val_loss did not improve from 2.39211\n",
      "6/6 [==============================] - 0s 12ms/step - loss: 6.9918e-04 - accuracy: 1.0000 - val_loss: 8.1658 - val_accuracy: 0.0000e+00\n",
      "Epoch 33/70\n",
      "1/6 [====>.........................] - ETA: 0s - loss: 6.5894e-04 - accuracy: 1.0000\n",
      "Epoch 33: val_loss did not improve from 2.39211\n",
      "6/6 [==============================] - 0s 13ms/step - loss: 6.4963e-04 - accuracy: 1.0000 - val_loss: 8.2285 - val_accuracy: 0.0000e+00\n",
      "Epoch 34/70\n",
      "1/6 [====>.........................] - ETA: 0s - loss: 8.1735e-04 - accuracy: 1.0000\n",
      "Epoch 34: val_loss did not improve from 2.39211\n",
      "6/6 [==============================] - 0s 11ms/step - loss: 6.0805e-04 - accuracy: 1.0000 - val_loss: 8.2893 - val_accuracy: 0.0000e+00\n",
      "Epoch 35/70\n",
      "1/6 [====>.........................] - ETA: 0s - loss: 6.8385e-04 - accuracy: 1.0000\n",
      "Epoch 35: val_loss did not improve from 2.39211\n",
      "6/6 [==============================] - 0s 11ms/step - loss: 5.6969e-04 - accuracy: 1.0000 - val_loss: 8.3521 - val_accuracy: 0.0000e+00\n",
      "Epoch 36/70\n",
      "1/6 [====>.........................] - ETA: 0s - loss: 5.5365e-04 - accuracy: 1.0000\n",
      "Epoch 36: val_loss did not improve from 2.39211\n",
      "6/6 [==============================] - 0s 10ms/step - loss: 5.3380e-04 - accuracy: 1.0000 - val_loss: 8.4111 - val_accuracy: 0.0000e+00\n",
      "Epoch 37/70\n",
      "1/6 [====>.........................] - ETA: 0s - loss: 5.3642e-04 - accuracy: 1.0000\n",
      "Epoch 37: val_loss did not improve from 2.39211\n",
      "6/6 [==============================] - 0s 11ms/step - loss: 5.0242e-04 - accuracy: 1.0000 - val_loss: 8.4705 - val_accuracy: 0.0000e+00\n",
      "Epoch 38/70\n",
      "1/6 [====>.........................] - ETA: 0s - loss: 5.9650e-04 - accuracy: 1.0000\n",
      "Epoch 38: val_loss did not improve from 2.39211\n",
      "6/6 [==============================] - 0s 11ms/step - loss: 4.7359e-04 - accuracy: 1.0000 - val_loss: 8.5242 - val_accuracy: 0.0000e+00\n",
      "Epoch 39/70\n",
      "1/6 [====>.........................] - ETA: 0s - loss: 4.2923e-04 - accuracy: 1.0000\n",
      "Epoch 39: val_loss did not improve from 2.39211\n",
      "6/6 [==============================] - 0s 11ms/step - loss: 4.4605e-04 - accuracy: 1.0000 - val_loss: 8.5821 - val_accuracy: 0.0000e+00\n",
      "Epoch 40/70\n",
      "1/6 [====>.........................] - ETA: 0s - loss: 5.2718e-04 - accuracy: 1.0000\n",
      "Epoch 40: val_loss did not improve from 2.39211\n",
      "6/6 [==============================] - 0s 11ms/step - loss: 4.2189e-04 - accuracy: 1.0000 - val_loss: 8.6340 - val_accuracy: 0.0000e+00\n",
      "Epoch 41/70\n",
      "1/6 [====>.........................] - ETA: 0s - loss: 4.1279e-04 - accuracy: 1.0000\n",
      "Epoch 41: val_loss did not improve from 2.39211\n",
      "6/6 [==============================] - 0s 11ms/step - loss: 3.9795e-04 - accuracy: 1.0000 - val_loss: 8.6838 - val_accuracy: 0.0000e+00\n",
      "Epoch 42/70\n",
      "1/6 [====>.........................] - ETA: 0s - loss: 4.0583e-04 - accuracy: 1.0000\n",
      "Epoch 42: val_loss did not improve from 2.39211\n",
      "6/6 [==============================] - 0s 11ms/step - loss: 3.7335e-04 - accuracy: 1.0000 - val_loss: 8.7332 - val_accuracy: 0.0000e+00\n",
      "Epoch 43/70\n",
      "1/6 [====>.........................] - ETA: 0s - loss: 3.3056e-04 - accuracy: 1.0000\n",
      "Epoch 43: val_loss did not improve from 2.39211\n",
      "6/6 [==============================] - 0s 12ms/step - loss: 3.5050e-04 - accuracy: 1.0000 - val_loss: 8.7807 - val_accuracy: 0.0000e+00\n",
      "Epoch 44/70\n",
      "1/6 [====>.........................] - ETA: 0s - loss: 2.9400e-04 - accuracy: 1.0000\n",
      "Epoch 44: val_loss did not improve from 2.39211\n",
      "6/6 [==============================] - 0s 11ms/step - loss: 3.2609e-04 - accuracy: 1.0000 - val_loss: 8.8347 - val_accuracy: 0.0000e+00\n",
      "Epoch 45/70\n",
      "1/6 [====>.........................] - ETA: 0s - loss: 3.6146e-04 - accuracy: 1.0000\n",
      "Epoch 45: val_loss did not improve from 2.39211\n",
      "6/6 [==============================] - 0s 12ms/step - loss: 3.0471e-04 - accuracy: 1.0000 - val_loss: 8.8876 - val_accuracy: 0.0000e+00\n",
      "Epoch 46/70\n",
      "1/6 [====>.........................] - ETA: 0s - loss: 2.8261e-04 - accuracy: 1.0000\n",
      "Epoch 46: val_loss did not improve from 2.39211\n",
      "6/6 [==============================] - 0s 11ms/step - loss: 2.8473e-04 - accuracy: 1.0000 - val_loss: 8.9428 - val_accuracy: 0.0000e+00\n",
      "Epoch 47/70\n",
      "1/6 [====>.........................] - ETA: 0s - loss: 2.4443e-04 - accuracy: 1.0000\n",
      "Epoch 47: val_loss did not improve from 2.39211\n",
      "6/6 [==============================] - 0s 13ms/step - loss: 2.6585e-04 - accuracy: 1.0000 - val_loss: 9.0002 - val_accuracy: 0.0000e+00\n",
      "Epoch 48/70\n",
      "1/6 [====>.........................] - ETA: 0s - loss: 2.0908e-04 - accuracy: 1.0000\n",
      "Epoch 48: val_loss did not improve from 2.39211\n",
      "6/6 [==============================] - 0s 12ms/step - loss: 2.4937e-04 - accuracy: 1.0000 - val_loss: 9.0501 - val_accuracy: 0.0000e+00\n",
      "Epoch 49/70\n",
      "1/6 [====>.........................] - ETA: 0s - loss: 2.5110e-04 - accuracy: 1.0000\n",
      "Epoch 49: val_loss did not improve from 2.39211\n",
      "6/6 [==============================] - 0s 12ms/step - loss: 2.3527e-04 - accuracy: 1.0000 - val_loss: 9.1047 - val_accuracy: 0.0000e+00\n",
      "Epoch 50/70\n",
      "1/6 [====>.........................] - ETA: 0s - loss: 2.1755e-04 - accuracy: 1.0000\n",
      "Epoch 50: val_loss did not improve from 2.39211\n",
      "6/6 [==============================] - 0s 12ms/step - loss: 2.2151e-04 - accuracy: 1.0000 - val_loss: 9.1614 - val_accuracy: 0.0000e+00\n",
      "Epoch 51/70\n",
      "1/6 [====>.........................] - ETA: 0s - loss: 1.9718e-04 - accuracy: 1.0000\n",
      "Epoch 51: val_loss did not improve from 2.39211\n",
      "6/6 [==============================] - 0s 12ms/step - loss: 2.0944e-04 - accuracy: 1.0000 - val_loss: 9.2124 - val_accuracy: 0.0000e+00\n",
      "Epoch 52/70\n",
      "1/6 [====>.........................] - ETA: 0s - loss: 2.1917e-04 - accuracy: 1.0000\n",
      "Epoch 52: val_loss did not improve from 2.39211\n",
      "6/6 [==============================] - 0s 11ms/step - loss: 1.9835e-04 - accuracy: 1.0000 - val_loss: 9.2641 - val_accuracy: 0.0000e+00\n",
      "Epoch 53/70\n",
      "1/6 [====>.........................] - ETA: 0s - loss: 2.0950e-04 - accuracy: 1.0000\n",
      "Epoch 53: val_loss did not improve from 2.39211\n",
      "6/6 [==============================] - 0s 11ms/step - loss: 1.8840e-04 - accuracy: 1.0000 - val_loss: 9.3206 - val_accuracy: 0.0000e+00\n",
      "Epoch 54/70\n",
      "1/6 [====>.........................] - ETA: 0s - loss: 1.6943e-04 - accuracy: 1.0000\n",
      "Epoch 54: val_loss did not improve from 2.39211\n",
      "6/6 [==============================] - 0s 13ms/step - loss: 1.7906e-04 - accuracy: 1.0000 - val_loss: 9.3727 - val_accuracy: 0.0000e+00\n",
      "Epoch 55/70\n",
      "1/6 [====>.........................] - ETA: 0s - loss: 1.8528e-04 - accuracy: 1.0000\n",
      "Epoch 55: val_loss did not improve from 2.39211\n",
      "6/6 [==============================] - 0s 12ms/step - loss: 1.7074e-04 - accuracy: 1.0000 - val_loss: 9.4231 - val_accuracy: 0.0000e+00\n",
      "Epoch 56/70\n",
      "1/6 [====>.........................] - ETA: 0s - loss: 1.4256e-04 - accuracy: 1.0000\n",
      "Epoch 56: val_loss did not improve from 2.39211\n",
      "6/6 [==============================] - 0s 12ms/step - loss: 1.6302e-04 - accuracy: 1.0000 - val_loss: 9.4754 - val_accuracy: 0.0000e+00\n",
      "Epoch 57/70\n",
      "1/6 [====>.........................] - ETA: 0s - loss: 1.7747e-04 - accuracy: 1.0000\n",
      "Epoch 57: val_loss did not improve from 2.39211\n",
      "6/6 [==============================] - 0s 13ms/step - loss: 1.5593e-04 - accuracy: 1.0000 - val_loss: 9.5215 - val_accuracy: 0.0000e+00\n",
      "Epoch 58/70\n",
      "1/6 [====>.........................] - ETA: 0s - loss: 1.3283e-04 - accuracy: 1.0000\n",
      "Epoch 58: val_loss did not improve from 2.39211\n",
      "6/6 [==============================] - 0s 11ms/step - loss: 1.4900e-04 - accuracy: 1.0000 - val_loss: 9.5638 - val_accuracy: 0.0000e+00\n",
      "Epoch 59/70\n",
      "1/6 [====>.........................] - ETA: 0s - loss: 1.3394e-04 - accuracy: 1.0000\n",
      "Epoch 59: val_loss did not improve from 2.39211\n",
      "6/6 [==============================] - 0s 11ms/step - loss: 1.4303e-04 - accuracy: 1.0000 - val_loss: 9.6084 - val_accuracy: 0.0000e+00\n",
      "Epoch 60/70\n",
      "1/6 [====>.........................] - ETA: 0s - loss: 1.0003e-04 - accuracy: 1.0000\n",
      "Epoch 60: val_loss did not improve from 2.39211\n",
      "6/6 [==============================] - 0s 10ms/step - loss: 1.3719e-04 - accuracy: 1.0000 - val_loss: 9.6526 - val_accuracy: 0.0000e+00\n",
      "Epoch 61/70\n",
      "1/6 [====>.........................] - ETA: 0s - loss: 1.6096e-04 - accuracy: 1.0000\n",
      "Epoch 61: val_loss did not improve from 2.39211\n",
      "6/6 [==============================] - 0s 11ms/step - loss: 1.3206e-04 - accuracy: 1.0000 - val_loss: 9.6981 - val_accuracy: 0.0000e+00\n",
      "Epoch 62/70\n",
      "1/6 [====>.........................] - ETA: 0s - loss: 1.3080e-04 - accuracy: 1.0000\n",
      "Epoch 62: val_loss did not improve from 2.39211\n",
      "6/6 [==============================] - 0s 11ms/step - loss: 1.2700e-04 - accuracy: 1.0000 - val_loss: 9.7390 - val_accuracy: 0.0000e+00\n",
      "Epoch 63/70\n",
      "1/6 [====>.........................] - ETA: 0s - loss: 9.7085e-05 - accuracy: 1.0000\n",
      "Epoch 63: val_loss did not improve from 2.39211\n",
      "6/6 [==============================] - 0s 10ms/step - loss: 1.2238e-04 - accuracy: 1.0000 - val_loss: 9.7784 - val_accuracy: 0.0000e+00\n",
      "Epoch 64/70\n",
      "1/6 [====>.........................] - ETA: 0s - loss: 1.1852e-04 - accuracy: 1.0000\n",
      "Epoch 64: val_loss did not improve from 2.39211\n",
      "6/6 [==============================] - 0s 12ms/step - loss: 1.1801e-04 - accuracy: 1.0000 - val_loss: 9.8192 - val_accuracy: 0.0000e+00\n",
      "Epoch 65/70\n",
      "1/6 [====>.........................] - ETA: 0s - loss: 1.3526e-04 - accuracy: 1.0000\n",
      "Epoch 65: val_loss did not improve from 2.39211\n",
      "6/6 [==============================] - 0s 11ms/step - loss: 1.1392e-04 - accuracy: 1.0000 - val_loss: 9.8588 - val_accuracy: 0.0000e+00\n",
      "Epoch 66/70\n",
      "1/6 [====>.........................] - ETA: 0s - loss: 9.4370e-05 - accuracy: 1.0000\n",
      "Epoch 66: val_loss did not improve from 2.39211\n",
      "6/6 [==============================] - 0s 12ms/step - loss: 1.0978e-04 - accuracy: 1.0000 - val_loss: 9.8938 - val_accuracy: 0.0000e+00\n",
      "Epoch 67/70\n",
      "1/6 [====>.........................] - ETA: 0s - loss: 1.2549e-04 - accuracy: 1.0000\n",
      "Epoch 67: val_loss did not improve from 2.39211\n",
      "6/6 [==============================] - 0s 11ms/step - loss: 1.0628e-04 - accuracy: 1.0000 - val_loss: 9.9310 - val_accuracy: 0.0000e+00\n",
      "Epoch 68/70\n",
      "1/6 [====>.........................] - ETA: 0s - loss: 8.8231e-05 - accuracy: 1.0000\n",
      "Epoch 68: val_loss did not improve from 2.39211\n",
      "6/6 [==============================] - 0s 11ms/step - loss: 1.0279e-04 - accuracy: 1.0000 - val_loss: 9.9663 - val_accuracy: 0.0000e+00\n",
      "Epoch 69/70\n",
      "1/6 [====>.........................] - ETA: 0s - loss: 1.0655e-04 - accuracy: 1.0000\n",
      "Epoch 69: val_loss did not improve from 2.39211\n",
      "6/6 [==============================] - 0s 11ms/step - loss: 9.9511e-05 - accuracy: 1.0000 - val_loss: 10.0010 - val_accuracy: 0.0000e+00\n",
      "Epoch 70/70\n",
      "1/6 [====>.........................] - ETA: 0s - loss: 9.5836e-05 - accuracy: 1.0000\n",
      "Epoch 70: val_loss did not improve from 2.39211\n",
      "6/6 [==============================] - 0s 11ms/step - loss: 9.6370e-05 - accuracy: 1.0000 - val_loss: 10.0395 - val_accuracy: 0.0000e+00\n"
     ]
    }
   ],
   "source": [
    "# Step 5: Train the model\n",
    "history = model_joueur_classique.train(X_train, y_train)"
   ]
  },
  {
   "cell_type": "code",
   "execution_count": 10,
   "metadata": {},
   "outputs": [
    {
     "name": "stdout",
     "output_type": "stream",
     "text": [
      "2/2 [==============================] - 0s 3ms/step - loss: 5.3697 - accuracy: 0.3036\n",
      "Loss:  5.369710445404053\n",
      "Accuracy:  0.3035714328289032\n"
     ]
    }
   ],
   "source": [
    "# Step 6: evaluate\n",
    "loss, accuracy = model_joueur_classique.evaluate(X_test, y_test)"
   ]
  },
  {
   "cell_type": "code",
   "execution_count": 13,
   "metadata": {},
   "outputs": [
    {
     "data": {
      "text/plain": [
       "array([[0., 0., 0., ..., 0., 0., 0.],\n",
       "       [0., 0., 0., ..., 0., 0., 0.],\n",
       "       [0., 0., 0., ..., 0., 0., 0.],\n",
       "       ...,\n",
       "       [0., 0., 0., ..., 0., 0., 0.],\n",
       "       [0., 0., 0., ..., 0., 0., 0.],\n",
       "       [0., 0., 0., ..., 0., 0., 0.]])"
      ]
     },
     "execution_count": 13,
     "metadata": {},
     "output_type": "execute_result"
    }
   ],
   "source": [
    "X_test"
   ]
  },
  {
   "cell_type": "code",
   "execution_count": 14,
   "metadata": {},
   "outputs": [
    {
     "data": {
      "text/plain": [
       "array([[0., 0., 0., ..., 0., 0., 0.]])"
      ]
     },
     "execution_count": 14,
     "metadata": {},
     "output_type": "execute_result"
    }
   ],
   "source": [
    "example_input = np.reshape(X_test[0], (1, 50*50*15))\n",
    "example_input"
   ]
  },
  {
   "cell_type": "code",
   "execution_count": 15,
   "metadata": {},
   "outputs": [
    {
     "name": "stdout",
     "output_type": "stream",
     "text": [
      "1/1 [==============================] - 0s 56ms/step\n"
     ]
    },
    {
     "data": {
      "text/plain": [
       "array([1], dtype=int64)"
      ]
     },
     "execution_count": 15,
     "metadata": {},
     "output_type": "execute_result"
    }
   ],
   "source": [
    "# Step 7: predict\n",
    "y_pred = model_joueur_classique.predict(example_input)\n",
    "y_pred"
   ]
  },
  {
   "cell_type": "code",
   "execution_count": 16,
   "metadata": {},
   "outputs": [],
   "source": [
    "# Final step: save the model\n",
    "# model_joueur_classique.save_model('saved_models\\classic_model_1_joueur_bas.h5')"
   ]
  }
 ],
 "metadata": {
  "kernelspec": {
   "display_name": "base",
   "language": "python",
   "name": "python3"
  },
  "language_info": {
   "codemirror_mode": {
    "name": "ipython",
    "version": 3
   },
   "file_extension": ".py",
   "mimetype": "text/x-python",
   "name": "python",
   "nbconvert_exporter": "python",
   "pygments_lexer": "ipython3",
   "version": "3.9.13"
  },
  "orig_nbformat": 4
 },
 "nbformat": 4,
 "nbformat_minor": 2
}
