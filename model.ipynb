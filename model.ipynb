{
 "cells": [
  {
   "attachments": {},
   "cell_type": "markdown",
   "metadata": {},
   "source": [
    "Modèle sans convolution (réseau de neurones classique) sur le dataset du Joueur bas - Henri\n",
    "- Coup droit\n",
    "- Revers"
   ]
  },
  {
   "cell_type": "code",
   "execution_count": 22,
   "metadata": {},
   "outputs": [],
   "source": [
    "import numpy as np\n",
    "import cv2\n",
    "import os\n",
    "from smart.video import Video, Image\n",
    "from keras.models import Sequential\n",
    "from keras.layers import Conv2D, MaxPooling2D, Dropout, Flatten, Dense, Activation, BatchNormalization\n",
    "from keras.callbacks import ModelCheckpoint\n",
    "from keras.optimizers import Adam\n",
    "import tensorflow as tf\n",
    "import random\n",
    "from sklearn.preprocessing import LabelEncoder"
   ]
  },
  {
   "attachments": {},
   "cell_type": "markdown",
   "metadata": {},
   "source": [
    "# Coup droit et revers"
   ]
  },
  {
   "attachments": {},
   "cell_type": "markdown",
   "metadata": {},
   "source": [
    "## Prises des frames et des vidéos"
   ]
  },
  {
   "cell_type": "code",
   "execution_count": 23,
   "metadata": {},
   "outputs": [],
   "source": [
    "list_videos = []"
   ]
  },
  {
   "cell_type": "code",
   "execution_count": 24,
   "metadata": {},
   "outputs": [],
   "source": [
    "y = []\n",
    "all_paths = []\n",
    "for dirpath, dirnames, _ in os.walk('img/JBas'):\n",
    "    for dir_type in dirnames:\n",
    "        \n",
    "        path_fol = os.path.join(dirpath, dir_type)\n",
    "        for file in os.listdir(path_fol):\n",
    "            path_fol_img = os.path.join(path_fol, file)\n",
    "            if os.path.isdir(path_fol_img) and file == 'images':\n",
    "                frames = []\n",
    "                for file_img in os.listdir(path_fol_img):\n",
    "                    path_img = os.path.join(path_fol_img, file_img)\n",
    "                    img_obj = Image.load_image(cv2.IMREAD_GRAYSCALE, path_img)\n",
    "                    img = img_obj.img\n",
    "                    frames.append(img)\t\n",
    "                if (len(frames) == 15):\n",
    "                    output_res = path_img.split('\\\\')[1]\n",
    "                    all_paths.append(path_fol_img)\n",
    "                    vid = Video.read_video_from_frames(frames)\n",
    "                    list_videos.append(vid)\n",
    "                    y.append(output_res)"
   ]
  },
  {
   "cell_type": "code",
   "execution_count": 25,
   "metadata": {},
   "outputs": [
    {
     "data": {
      "text/plain": [
       "[<smart.video.Video.Video at 0x23a289c1a00>,\n",
       " <smart.video.Video.Video at 0x23a2b2a0d60>,\n",
       " <smart.video.Video.Video at 0x23a2b2a0c10>,\n",
       " <smart.video.Video.Video at 0x23a2b2a0d90>,\n",
       " <smart.video.Video.Video at 0x23a2b2a0e50>,\n",
       " <smart.video.Video.Video at 0x23a2b2a0eb0>,\n",
       " <smart.video.Video.Video at 0x23a2b2a0f10>,\n",
       " <smart.video.Video.Video at 0x23a2b2a0fa0>,\n",
       " <smart.video.Video.Video at 0x23a4da3d580>,\n",
       " <smart.video.Video.Video at 0x23a2b2a0c70>,\n",
       " <smart.video.Video.Video at 0x23a2bbcc970>,\n",
       " <smart.video.Video.Video at 0x23a2bbcc250>,\n",
       " <smart.video.Video.Video at 0x23a2bbcc430>,\n",
       " <smart.video.Video.Video at 0x23a2bbcc1f0>,\n",
       " <smart.video.Video.Video at 0x23a2bbcc850>,\n",
       " <smart.video.Video.Video at 0x23a2bbcc910>,\n",
       " <smart.video.Video.Video at 0x23a2bbcceb0>,\n",
       " <smart.video.Video.Video at 0x23a2bbcc640>,\n",
       " <smart.video.Video.Video at 0x23a2bbcc6a0>,\n",
       " <smart.video.Video.Video at 0x23a2b2a0fd0>,\n",
       " <smart.video.Video.Video at 0x23a2bb8c760>,\n",
       " <smart.video.Video.Video at 0x23a2bb8c580>,\n",
       " <smart.video.Video.Video at 0x23a2bb8c9a0>,\n",
       " <smart.video.Video.Video at 0x23a2bb8cbe0>,\n",
       " <smart.video.Video.Video at 0x23a2bb8c940>,\n",
       " <smart.video.Video.Video at 0x23a2bb8c970>,\n",
       " <smart.video.Video.Video at 0x23a2bb8c5e0>,\n",
       " <smart.video.Video.Video at 0x23a2bb8c700>,\n",
       " <smart.video.Video.Video at 0x23a2bb8cac0>,\n",
       " <smart.video.Video.Video at 0x23a2bbccbb0>,\n",
       " <smart.video.Video.Video at 0x23a2bb8c820>,\n",
       " <smart.video.Video.Video at 0x23a2c0abf40>,\n",
       " <smart.video.Video.Video at 0x23a2c0ab130>,\n",
       " <smart.video.Video.Video at 0x23a2bb8c8e0>,\n",
       " <smart.video.Video.Video at 0x23a2b2a0cd0>,\n",
       " <smart.video.Video.Video at 0x23a2b2a0d30>,\n",
       " <smart.video.Video.Video at 0x23a2b1313a0>,\n",
       " <smart.video.Video.Video at 0x23a2b1317c0>,\n",
       " <smart.video.Video.Video at 0x23a2b1312b0>,\n",
       " <smart.video.Video.Video at 0x23a2b131250>,\n",
       " <smart.video.Video.Video at 0x23a2b131a90>,\n",
       " <smart.video.Video.Video at 0x23a2b131a00>,\n",
       " <smart.video.Video.Video at 0x23a2b1313d0>,\n",
       " <smart.video.Video.Video at 0x23a2b131970>,\n",
       " <smart.video.Video.Video at 0x23a4df1dd90>,\n",
       " <smart.video.Video.Video at 0x23a2b131460>,\n",
       " <smart.video.Video.Video at 0x23a4df1d310>,\n",
       " <smart.video.Video.Video at 0x23a2c0abe20>,\n",
       " <smart.video.Video.Video at 0x23a2bbbc8b0>,\n",
       " <smart.video.Video.Video at 0x23a2bbbc9d0>,\n",
       " <smart.video.Video.Video at 0x23a2bbbccd0>,\n",
       " <smart.video.Video.Video at 0x23a2bbbcb80>,\n",
       " <smart.video.Video.Video at 0x23a2bbbc040>,\n",
       " <smart.video.Video.Video at 0x23a2bbbc100>,\n",
       " <smart.video.Video.Video at 0x23a2bbbc3a0>,\n",
       " <smart.video.Video.Video at 0x23a2bbbc160>,\n",
       " <smart.video.Video.Video at 0x23a2bbbc5b0>,\n",
       " <smart.video.Video.Video at 0x23a2bbbc6d0>,\n",
       " <smart.video.Video.Video at 0x23a2bbbc610>,\n",
       " <smart.video.Video.Video at 0x23a4df1ddf0>,\n",
       " <smart.video.Video.Video at 0x23a2bbbcb50>,\n",
       " <smart.video.Video.Video at 0x23a2bb9c100>,\n",
       " <smart.video.Video.Video at 0x23a2bb9c220>,\n",
       " <smart.video.Video.Video at 0x23a2bb9c400>,\n",
       " <smart.video.Video.Video at 0x23a2bb9c850>,\n",
       " <smart.video.Video.Video at 0x23a2bb9c7f0>,\n",
       " <smart.video.Video.Video at 0x23a2bb9c4c0>]"
      ]
     },
     "execution_count": 25,
     "metadata": {},
     "output_type": "execute_result"
    }
   ],
   "source": [
    "list_videos"
   ]
  },
  {
   "cell_type": "code",
   "execution_count": 26,
   "metadata": {},
   "outputs": [
    {
     "data": {
      "text/plain": [
       "['coup droit',\n",
       " 'coup droit',\n",
       " 'coup droit',\n",
       " 'coup droit',\n",
       " 'coup droit',\n",
       " 'coup droit',\n",
       " 'coup droit',\n",
       " 'coup droit',\n",
       " 'coup droit',\n",
       " 'coup droit',\n",
       " 'coup droit',\n",
       " 'coup droit',\n",
       " 'coup droit',\n",
       " 'coup droit',\n",
       " 'coup droit',\n",
       " 'coup droit',\n",
       " 'coup droit',\n",
       " 'coup droit',\n",
       " 'coup droit',\n",
       " 'coup droit',\n",
       " 'coup droit',\n",
       " 'coup droit',\n",
       " 'coup droit',\n",
       " 'coup droit',\n",
       " 'coup droit',\n",
       " 'coup droit',\n",
       " 'coup droit',\n",
       " 'coup droit',\n",
       " 'coup droit',\n",
       " 'coup droit',\n",
       " 'coup droit',\n",
       " 'coup droit',\n",
       " 'coup droit',\n",
       " 'coup droit',\n",
       " 'revers',\n",
       " 'revers',\n",
       " 'revers',\n",
       " 'revers',\n",
       " 'revers',\n",
       " 'revers',\n",
       " 'revers',\n",
       " 'revers',\n",
       " 'revers',\n",
       " 'revers',\n",
       " 'revers',\n",
       " 'revers',\n",
       " 'revers',\n",
       " 'revers',\n",
       " 'revers',\n",
       " 'revers',\n",
       " 'revers',\n",
       " 'revers',\n",
       " 'revers',\n",
       " 'revers',\n",
       " 'revers',\n",
       " 'revers',\n",
       " 'revers',\n",
       " 'revers',\n",
       " 'revers',\n",
       " 'revers',\n",
       " 'revers',\n",
       " 'revers',\n",
       " 'revers',\n",
       " 'revers',\n",
       " 'revers',\n",
       " 'revers',\n",
       " 'revers']"
      ]
     },
     "execution_count": 26,
     "metadata": {},
     "output_type": "execute_result"
    }
   ],
   "source": [
    "# Output sans label encoder\n",
    "y"
   ]
  },
  {
   "cell_type": "code",
   "execution_count": 27,
   "metadata": {},
   "outputs": [],
   "source": [
    "# One-hot encoding\n",
    "encoder = LabelEncoder()"
   ]
  },
  {
   "attachments": {},
   "cell_type": "markdown",
   "metadata": {},
   "source": [
    "Transformer output y en one hot vector\n",
    "- 0: coup droit\n",
    "- 1: revers"
   ]
  },
  {
   "cell_type": "code",
   "execution_count": 28,
   "metadata": {},
   "outputs": [
    {
     "data": {
      "text/plain": [
       "array([0, 0, 0, 0, 0, 0, 0, 0, 0, 0, 0, 0, 0, 0, 0, 0, 0, 0, 0, 0, 0, 0,\n",
       "       0, 0, 0, 0, 0, 0, 0, 0, 0, 0, 0, 0, 1, 1, 1, 1, 1, 1, 1, 1, 1, 1,\n",
       "       1, 1, 1, 1, 1, 1, 1, 1, 1, 1, 1, 1, 1, 1, 1, 1, 1, 1, 1, 1, 1, 1,\n",
       "       1], dtype=int64)"
      ]
     },
     "execution_count": 28,
     "metadata": {},
     "output_type": "execute_result"
    }
   ],
   "source": [
    "y = encoder.fit_transform(y)\n",
    "y"
   ]
  },
  {
   "cell_type": "code",
   "execution_count": 29,
   "metadata": {},
   "outputs": [
    {
     "data": {
      "text/plain": [
       "(50, 50)"
      ]
     },
     "execution_count": 29,
     "metadata": {},
     "output_type": "execute_result"
    }
   ],
   "source": [
    "# Résolution des images\n",
    "list_videos[0].frames[0].shape"
   ]
  },
  {
   "cell_type": "code",
   "execution_count": 30,
   "metadata": {},
   "outputs": [
    {
     "data": {
      "text/plain": [
       "67"
      ]
     },
     "execution_count": 30,
     "metadata": {},
     "output_type": "execute_result"
    }
   ],
   "source": [
    "len(list_videos)"
   ]
  },
  {
   "cell_type": "code",
   "execution_count": 31,
   "metadata": {},
   "outputs": [],
   "source": [
    "train_size = int(len(list_videos) * 0.8)\n",
    "test_size = len(list_videos) - train_size"
   ]
  },
  {
   "cell_type": "code",
   "execution_count": 32,
   "metadata": {},
   "outputs": [
    {
     "data": {
      "text/plain": [
       "(53, 53, 14, 14)"
      ]
     },
     "execution_count": 32,
     "metadata": {},
     "output_type": "execute_result"
    }
   ],
   "source": [
    "## Split video train, test\n",
    "random.seed(42)\n",
    "vids_train = random.sample(list_videos, k = train_size)\n",
    "vids_test = [vid for vid in list_videos if vid not in vids_train]\n",
    "y_train = [y[i] for i in range(len(y)) if list_videos[i] in vids_train]\n",
    "y_test = [y[i] for i in range(len(y)) if list_videos[i] in vids_test]\n",
    "paths_test = [all_paths[i] for i in range(len(all_paths)) if list_videos[i] in vids_test]\n",
    "len(vids_train), len(y_train), len(vids_test), len(y_test)"
   ]
  },
  {
   "cell_type": "code",
   "execution_count": 33,
   "metadata": {},
   "outputs": [
    {
     "data": {
      "text/plain": [
       "['img/JBas\\\\coup droit\\\\car0001-0342253\\\\images',\n",
       " 'img/JBas\\\\coup droit\\\\car5493-5847185\\\\images',\n",
       " 'img/JBas\\\\coup droit\\\\na02011927\\\\images',\n",
       " 'img/JBas\\\\coup droit\\\\na02012021\\\\images',\n",
       " 'img/JBas\\\\coup droit\\\\na0201737\\\\images',\n",
       " 'img/JBas\\\\coup droit\\\\uopc1606\\\\images',\n",
       " 'img/JBas\\\\coup droit\\\\uopc424\\\\images',\n",
       " 'img/JBas\\\\coup droit\\\\uopc698\\\\images',\n",
       " 'img/JBas\\\\coup droit\\\\uopc955\\\\images',\n",
       " 'img/JBas\\\\revers\\\\a36r977\\\\images',\n",
       " 'img/JBas\\\\revers\\\\na02011122\\\\images',\n",
       " 'img/JBas\\\\revers\\\\na02011195\\\\images',\n",
       " 'img/JBas\\\\revers\\\\na0201493\\\\images',\n",
       " 'img/JBas\\\\revers\\\\uopc1371\\\\images']"
      ]
     },
     "execution_count": 33,
     "metadata": {},
     "output_type": "execute_result"
    }
   ],
   "source": [
    "paths_test"
   ]
  },
  {
   "cell_type": "code",
   "execution_count": 34,
   "metadata": {},
   "outputs": [
    {
     "data": {
      "text/plain": [
       "array([0, 0, 0, 0, 0, 0, 0, 0, 0, 0, 0, 0, 0, 0, 0, 0, 0, 0, 0, 0, 0, 0,\n",
       "       0, 0, 0, 1, 1, 1, 1, 1, 1, 1, 1, 1, 1, 1, 1, 1, 1, 1, 1, 1, 1, 1,\n",
       "       1, 1, 1, 1, 1, 1, 1, 1, 1])"
      ]
     },
     "execution_count": 34,
     "metadata": {},
     "output_type": "execute_result"
    }
   ],
   "source": [
    "y_train = np.array(y_train, dtype=int)\n",
    "y_test = np.array(y_test, dtype=int)\n",
    "y_train"
   ]
  },
  {
   "cell_type": "code",
   "execution_count": 35,
   "metadata": {},
   "outputs": [
    {
     "data": {
      "text/plain": [
       "array([[0, 0, 0, ..., 0, 0, 0],\n",
       "       [0, 0, 0, ..., 0, 0, 0],\n",
       "       [0, 0, 0, ..., 0, 0, 0],\n",
       "       ...,\n",
       "       [0, 0, 0, ..., 0, 0, 0],\n",
       "       [0, 0, 0, ..., 0, 0, 0],\n",
       "       [0, 0, 0, ..., 0, 0, 0]])"
      ]
     },
     "execution_count": 35,
     "metadata": {},
     "output_type": "execute_result"
    }
   ],
   "source": [
    "# Split input X en train, test set\n",
    "X_train = np.zeros((train_size, 50*50*15), dtype=int)\n",
    "for i, vid in enumerate(vids_train):\n",
    "    seq_img = vid.frames.flatten()\n",
    "    X_train[i] = seq_img\n",
    "X_train"
   ]
  },
  {
   "cell_type": "code",
   "execution_count": 36,
   "metadata": {},
   "outputs": [
    {
     "data": {
      "text/plain": [
       "array([[0, 0, 0, ..., 0, 0, 0],\n",
       "       [0, 0, 0, ..., 0, 0, 0],\n",
       "       [0, 0, 0, ..., 0, 0, 0],\n",
       "       ...,\n",
       "       [0, 0, 0, ..., 0, 0, 0],\n",
       "       [0, 0, 0, ..., 0, 0, 0],\n",
       "       [0, 0, 0, ..., 0, 0, 0]])"
      ]
     },
     "execution_count": 36,
     "metadata": {},
     "output_type": "execute_result"
    }
   ],
   "source": [
    "X_test = np.zeros((test_size, 50*50*15), dtype=int)\n",
    "for i, vid in enumerate(vids_test):\n",
    "    seq_img = vid.frames.flatten()\n",
    "    X_test[i] = seq_img\n",
    "X_test"
   ]
  },
  {
   "attachments": {},
   "cell_type": "markdown",
   "metadata": {},
   "source": [
    "## Modèle de réseau de neurones avec classification binaires"
   ]
  },
  {
   "cell_type": "code",
   "execution_count": 37,
   "metadata": {},
   "outputs": [
    {
     "name": "stdout",
     "output_type": "stream",
     "text": [
      "Model: \"sequential_1\"\n",
      "_________________________________________________________________\n",
      " Layer (type)                Output Shape              Param #   \n",
      "=================================================================\n",
      " dense_5 (Dense)             (None, 16)                600016    \n",
      "                                                                 \n",
      " dense_6 (Dense)             (None, 32)                544       \n",
      "                                                                 \n",
      " dense_7 (Dense)             (None, 128)               4224      \n",
      "                                                                 \n",
      " dense_8 (Dense)             (None, 1)                 129       \n",
      "                                                                 \n",
      "=================================================================\n",
      "Total params: 604,913\n",
      "Trainable params: 604,913\n",
      "Non-trainable params: 0\n",
      "_________________________________________________________________\n"
     ]
    }
   ],
   "source": [
    "tf.random.set_seed(1234) # for consistent results\n",
    "model = Sequential(\n",
    "    [               \n",
    "        tf.keras.Input(shape = 50*50*15), # 50x50x15 = 37500\n",
    "        Dense(units=16, activation=\"relu\"),\n",
    "        Dense(units=32, activation=\"relu\"),\n",
    "        Dense(units=128, activation=\"relu\"),\n",
    "        Dense(units=1, activation=\"sigmoid\"),\n",
    "    ]\n",
    ")          \n",
    "model.summary()"
   ]
  },
  {
   "cell_type": "code",
   "execution_count": 38,
   "metadata": {},
   "outputs": [],
   "source": [
    "checkpoint_name = 'Weights-{epoch:03d}--{val_loss:.5f}.hdf5' \n",
    "checkpoint = ModelCheckpoint(checkpoint_name, monitor='val_loss', verbose = 1, save_best_only = True, mode ='auto')\n",
    "callbacks_list = [checkpoint]"
   ]
  },
  {
   "cell_type": "code",
   "execution_count": 39,
   "metadata": {},
   "outputs": [
    {
     "name": "stdout",
     "output_type": "stream",
     "text": [
      "Epoch 1/70\n",
      "1/2 [==============>...............] - ETA: 0s - loss: 7.0420 - accuracy: 0.6562\n",
      "Epoch 1: val_loss improved from inf to 36.00470, saving model to Weights-001--36.00470.hdf5\n",
      "2/2 [==============================] - 0s 120ms/step - loss: 14.7298 - accuracy: 0.6429 - val_loss: 36.0047 - val_accuracy: 0.0909\n",
      "Epoch 2/70\n",
      "1/2 [==============>...............] - ETA: 0s - loss: 18.7017 - accuracy: 0.5938\n",
      "Epoch 2: val_loss improved from 36.00470 to 2.26896, saving model to Weights-002--2.26896.hdf5\n",
      "2/2 [==============================] - 0s 37ms/step - loss: 15.8013 - accuracy: 0.6429 - val_loss: 2.2690 - val_accuracy: 0.5455\n",
      "Epoch 3/70\n",
      "1/2 [==============>...............] - ETA: 0s - loss: 4.4147 - accuracy: 0.5312\n",
      "Epoch 3: val_loss did not improve from 2.26896\n",
      "2/2 [==============================] - 0s 22ms/step - loss: 4.0073 - accuracy: 0.5952 - val_loss: 6.1398 - val_accuracy: 0.2727\n",
      "Epoch 4/70\n",
      "1/2 [==============>...............] - ETA: 0s - loss: 2.8896 - accuracy: 0.6875\n",
      "Epoch 4: val_loss improved from 2.26896 to 1.52152, saving model to Weights-004--1.52152.hdf5\n",
      "2/2 [==============================] - 0s 38ms/step - loss: 2.3745 - accuracy: 0.7143 - val_loss: 1.5215 - val_accuracy: 0.6364\n",
      "Epoch 5/70\n",
      "1/2 [==============>...............] - ETA: 0s - loss: 1.8671 - accuracy: 0.6875\n",
      "Epoch 5: val_loss did not improve from 1.52152\n",
      "2/2 [==============================] - 0s 22ms/step - loss: 1.6992 - accuracy: 0.6667 - val_loss: 2.3340 - val_accuracy: 0.3636\n",
      "Epoch 6/70\n",
      "1/2 [==============>...............] - ETA: 0s - loss: 0.1863 - accuracy: 0.9375\n",
      "Epoch 6: val_loss did not improve from 1.52152\n",
      "2/2 [==============================] - 0s 23ms/step - loss: 0.1651 - accuracy: 0.9286 - val_loss: 4.4196 - val_accuracy: 0.3636\n",
      "Epoch 7/70\n",
      "1/2 [==============>...............] - ETA: 0s - loss: 0.2744 - accuracy: 0.9688\n",
      "Epoch 7: val_loss did not improve from 1.52152\n",
      "2/2 [==============================] - 0s 23ms/step - loss: 0.3759 - accuracy: 0.9286 - val_loss: 4.6577 - val_accuracy: 0.5455\n",
      "Epoch 8/70\n",
      "1/2 [==============>...............] - ETA: 0s - loss: 0.7744 - accuracy: 0.8125\n",
      "Epoch 8: val_loss did not improve from 1.52152\n",
      "2/2 [==============================] - 0s 22ms/step - loss: 0.8122 - accuracy: 0.8095 - val_loss: 6.0149 - val_accuracy: 0.5455\n",
      "Epoch 9/70\n",
      "1/2 [==============>...............] - ETA: 0s - loss: 0.5889 - accuracy: 0.9062\n",
      "Epoch 9: val_loss did not improve from 1.52152\n",
      "2/2 [==============================] - 0s 23ms/step - loss: 0.4860 - accuracy: 0.9048 - val_loss: 8.0246 - val_accuracy: 0.2727\n",
      "Epoch 10/70\n",
      "1/2 [==============>...............] - ETA: 0s - loss: 0.3152 - accuracy: 0.9375\n",
      "Epoch 10: val_loss did not improve from 1.52152\n",
      "2/2 [==============================] - 0s 22ms/step - loss: 0.2402 - accuracy: 0.9524 - val_loss: 6.2339 - val_accuracy: 0.4545\n",
      "Epoch 11/70\n",
      "1/2 [==============>...............] - ETA: 0s - loss: 0.1411 - accuracy: 0.9375\n",
      "Epoch 11: val_loss did not improve from 1.52152\n",
      "2/2 [==============================] - 0s 23ms/step - loss: 0.1077 - accuracy: 0.9524 - val_loss: 4.2090 - val_accuracy: 0.6364\n",
      "Epoch 12/70\n",
      "1/2 [==============>...............] - ETA: 0s - loss: 0.0530 - accuracy: 0.9688\n",
      "Epoch 12: val_loss did not improve from 1.52152\n",
      "2/2 [==============================] - 0s 25ms/step - loss: 0.0424 - accuracy: 0.9762 - val_loss: 3.5713 - val_accuracy: 0.6364\n",
      "Epoch 13/70\n",
      "1/2 [==============>...............] - ETA: 0s - loss: 0.0723 - accuracy: 0.9688\n",
      "Epoch 13: val_loss did not improve from 1.52152\n",
      "2/2 [==============================] - 0s 25ms/step - loss: 0.0553 - accuracy: 0.9762 - val_loss: 4.0258 - val_accuracy: 0.6364\n",
      "Epoch 14/70\n",
      "1/2 [==============>...............] - ETA: 0s - loss: 0.0251 - accuracy: 0.9688\n",
      "Epoch 14: val_loss did not improve from 1.52152\n",
      "2/2 [==============================] - 0s 23ms/step - loss: 0.0356 - accuracy: 0.9762 - val_loss: 4.5023 - val_accuracy: 0.6364\n",
      "Epoch 15/70\n",
      "1/2 [==============>...............] - ETA: 0s - loss: 0.0437 - accuracy: 0.9688\n",
      "Epoch 15: val_loss did not improve from 1.52152\n",
      "2/2 [==============================] - 0s 23ms/step - loss: 0.0374 - accuracy: 0.9762 - val_loss: 4.8101 - val_accuracy: 0.6364\n",
      "Epoch 16/70\n",
      "1/2 [==============>...............] - ETA: 0s - loss: 0.0464 - accuracy: 0.9688\n",
      "Epoch 16: val_loss did not improve from 1.52152\n",
      "2/2 [==============================] - 0s 24ms/step - loss: 0.0353 - accuracy: 0.9762 - val_loss: 5.0059 - val_accuracy: 0.5455\n",
      "Epoch 17/70\n",
      "1/2 [==============>...............] - ETA: 0s - loss: 0.0440 - accuracy: 0.9688\n",
      "Epoch 17: val_loss did not improve from 1.52152\n",
      "2/2 [==============================] - 0s 23ms/step - loss: 0.0339 - accuracy: 0.9762 - val_loss: 5.1898 - val_accuracy: 0.5455\n",
      "Epoch 18/70\n",
      "1/2 [==============>...............] - ETA: 0s - loss: 0.0223 - accuracy: 1.0000\n",
      "Epoch 18: val_loss did not improve from 1.52152\n",
      "2/2 [==============================] - 0s 24ms/step - loss: 0.0336 - accuracy: 0.9762 - val_loss: 5.3630 - val_accuracy: 0.4545\n",
      "Epoch 19/70\n",
      "1/2 [==============>...............] - ETA: 0s - loss: 0.0442 - accuracy: 0.9688\n",
      "Epoch 19: val_loss did not improve from 1.52152\n",
      "2/2 [==============================] - 0s 23ms/step - loss: 0.0337 - accuracy: 0.9762 - val_loss: 5.5313 - val_accuracy: 0.4545\n",
      "Epoch 20/70\n",
      "1/2 [==============>...............] - ETA: 0s - loss: 0.0439 - accuracy: 0.9688\n",
      "Epoch 20: val_loss did not improve from 1.52152\n",
      "2/2 [==============================] - 0s 23ms/step - loss: 0.0337 - accuracy: 0.9762 - val_loss: 5.6606 - val_accuracy: 0.4545\n",
      "Epoch 21/70\n",
      "1/2 [==============>...............] - ETA: 0s - loss: 0.0226 - accuracy: 0.9688\n",
      "Epoch 21: val_loss did not improve from 1.52152\n",
      "2/2 [==============================] - 0s 24ms/step - loss: 0.0336 - accuracy: 0.9762 - val_loss: 5.7734 - val_accuracy: 0.4545\n",
      "Epoch 22/70\n",
      "1/2 [==============>...............] - ETA: 0s - loss: 0.0440 - accuracy: 0.9688\n",
      "Epoch 22: val_loss did not improve from 1.52152\n",
      "2/2 [==============================] - 0s 24ms/step - loss: 0.0335 - accuracy: 0.9762 - val_loss: 5.8618 - val_accuracy: 0.4545\n",
      "Epoch 23/70\n",
      "1/2 [==============>...............] - ETA: 0s - loss: 0.0436 - accuracy: 0.9688\n",
      "Epoch 23: val_loss did not improve from 1.52152\n",
      "2/2 [==============================] - 0s 24ms/step - loss: 0.0334 - accuracy: 0.9762 - val_loss: 5.9579 - val_accuracy: 0.3636\n",
      "Epoch 24/70\n",
      "1/2 [==============>...............] - ETA: 0s - loss: 0.0220 - accuracy: 1.0000\n",
      "Epoch 24: val_loss did not improve from 1.52152\n",
      "2/2 [==============================] - 0s 24ms/step - loss: 0.0334 - accuracy: 0.9762 - val_loss: 6.0654 - val_accuracy: 0.3636\n",
      "Epoch 25/70\n",
      "1/2 [==============>...............] - ETA: 0s - loss: 0.0220 - accuracy: 0.9688\n",
      "Epoch 25: val_loss did not improve from 1.52152\n",
      "2/2 [==============================] - 0s 24ms/step - loss: 0.0333 - accuracy: 0.9762 - val_loss: 6.1589 - val_accuracy: 0.3636\n",
      "Epoch 26/70\n",
      "1/2 [==============>...............] - ETA: 0s - loss: 0.0221 - accuracy: 0.9688\n",
      "Epoch 26: val_loss did not improve from 1.52152\n",
      "2/2 [==============================] - 0s 23ms/step - loss: 0.0332 - accuracy: 0.9762 - val_loss: 6.2440 - val_accuracy: 0.3636\n",
      "Epoch 27/70\n",
      "1/2 [==============>...............] - ETA: 0s - loss: 0.0435 - accuracy: 0.9688\n",
      "Epoch 27: val_loss did not improve from 1.52152\n",
      "2/2 [==============================] - 0s 23ms/step - loss: 0.0332 - accuracy: 0.9762 - val_loss: 6.3176 - val_accuracy: 0.3636\n",
      "Epoch 28/70\n",
      "1/2 [==============>...............] - ETA: 0s - loss: 0.0435 - accuracy: 0.9688\n",
      "Epoch 28: val_loss did not improve from 1.52152\n",
      "2/2 [==============================] - 0s 23ms/step - loss: 0.0331 - accuracy: 0.9762 - val_loss: 6.3752 - val_accuracy: 0.3636\n",
      "Epoch 29/70\n",
      "1/2 [==============>...............] - ETA: 0s - loss: 0.0435 - accuracy: 0.9688\n",
      "Epoch 29: val_loss did not improve from 1.52152\n",
      "2/2 [==============================] - 0s 24ms/step - loss: 0.0331 - accuracy: 0.9762 - val_loss: 6.4213 - val_accuracy: 0.3636\n",
      "Epoch 30/70\n",
      "1/2 [==============>...............] - ETA: 0s - loss: 0.0216 - accuracy: 1.0000\n",
      "Epoch 30: val_loss did not improve from 1.52152\n",
      "2/2 [==============================] - 0s 27ms/step - loss: 0.0331 - accuracy: 0.9762 - val_loss: 6.4592 - val_accuracy: 0.3636\n",
      "Epoch 31/70\n",
      "1/2 [==============>...............] - ETA: 0s - loss: 0.0216 - accuracy: 1.0000\n",
      "Epoch 31: val_loss did not improve from 1.52152\n",
      "2/2 [==============================] - 0s 27ms/step - loss: 0.0331 - accuracy: 0.9762 - val_loss: 6.4936 - val_accuracy: 0.3636\n",
      "Epoch 32/70\n",
      "1/2 [==============>...............] - ETA: 0s - loss: 0.0434 - accuracy: 0.9688\n",
      "Epoch 32: val_loss did not improve from 1.52152\n",
      "2/2 [==============================] - 0s 26ms/step - loss: 0.0331 - accuracy: 0.9762 - val_loss: 6.5234 - val_accuracy: 0.3636\n",
      "Epoch 33/70\n",
      "1/2 [==============>...............] - ETA: 0s - loss: 0.0216 - accuracy: 1.0000\n",
      "Epoch 33: val_loss did not improve from 1.52152\n",
      "2/2 [==============================] - 0s 26ms/step - loss: 0.0331 - accuracy: 0.9762 - val_loss: 6.5471 - val_accuracy: 0.3636\n",
      "Epoch 34/70\n",
      "1/2 [==============>...............] - ETA: 0s - loss: 0.0434 - accuracy: 0.9688\n",
      "Epoch 34: val_loss did not improve from 1.52152\n",
      "2/2 [==============================] - 0s 26ms/step - loss: 0.0331 - accuracy: 0.9762 - val_loss: 6.5676 - val_accuracy: 0.3636\n",
      "Epoch 35/70\n",
      "1/2 [==============>...............] - ETA: 0s - loss: 0.0434 - accuracy: 0.9688\n",
      "Epoch 35: val_loss did not improve from 1.52152\n",
      "2/2 [==============================] - 0s 24ms/step - loss: 0.0331 - accuracy: 0.9762 - val_loss: 6.5869 - val_accuracy: 0.3636\n",
      "Epoch 36/70\n",
      "1/2 [==============>...............] - ETA: 0s - loss: 0.0434 - accuracy: 0.9688\n",
      "Epoch 36: val_loss did not improve from 1.52152\n",
      "2/2 [==============================] - 0s 31ms/step - loss: 0.0331 - accuracy: 0.9762 - val_loss: 6.6055 - val_accuracy: 0.3636\n",
      "Epoch 37/70\n",
      "1/2 [==============>...............] - ETA: 0s - loss: 0.0433 - accuracy: 0.9688\n",
      "Epoch 37: val_loss did not improve from 1.52152\n",
      "2/2 [==============================] - 0s 27ms/step - loss: 0.0331 - accuracy: 0.9762 - val_loss: 6.6226 - val_accuracy: 0.3636\n",
      "Epoch 38/70\n",
      "1/2 [==============>...............] - ETA: 0s - loss: 5.2979e-05 - accuracy: 1.0000\n",
      "Epoch 38: val_loss did not improve from 1.52152\n",
      "2/2 [==============================] - 0s 25ms/step - loss: 0.0330 - accuracy: 0.9762 - val_loss: 6.6374 - val_accuracy: 0.3636\n",
      "Epoch 39/70\n",
      "1/2 [==============>...............] - ETA: 0s - loss: 0.0434 - accuracy: 0.9688\n",
      "Epoch 39: val_loss did not improve from 1.52152\n",
      "2/2 [==============================] - 0s 24ms/step - loss: 0.0330 - accuracy: 0.9762 - val_loss: 6.6515 - val_accuracy: 0.3636\n",
      "Epoch 40/70\n",
      "1/2 [==============>...............] - ETA: 0s - loss: 4.2571e-05 - accuracy: 1.0000\n",
      "Epoch 40: val_loss did not improve from 1.52152\n",
      "2/2 [==============================] - 0s 24ms/step - loss: 0.0330 - accuracy: 0.9762 - val_loss: 6.6656 - val_accuracy: 0.3636\n",
      "Epoch 41/70\n",
      "1/2 [==============>...............] - ETA: 0s - loss: 0.0434 - accuracy: 0.9688\n",
      "Epoch 41: val_loss did not improve from 1.52152\n",
      "2/2 [==============================] - 0s 25ms/step - loss: 0.0330 - accuracy: 0.9762 - val_loss: 6.6782 - val_accuracy: 0.3636\n",
      "Epoch 42/70\n",
      "1/2 [==============>...............] - ETA: 0s - loss: 0.0434 - accuracy: 0.9688\n",
      "Epoch 42: val_loss did not improve from 1.52152\n",
      "2/2 [==============================] - 0s 27ms/step - loss: 0.0330 - accuracy: 0.9762 - val_loss: 6.6896 - val_accuracy: 0.3636\n",
      "Epoch 43/70\n",
      "1/2 [==============>...............] - ETA: 0s - loss: 0.0434 - accuracy: 0.9688\n",
      "Epoch 43: val_loss did not improve from 1.52152\n",
      "2/2 [==============================] - 0s 27ms/step - loss: 0.0330 - accuracy: 0.9762 - val_loss: 6.6999 - val_accuracy: 0.3636\n",
      "Epoch 44/70\n",
      "1/2 [==============>...............] - ETA: 0s - loss: 0.0433 - accuracy: 0.9688\n",
      "Epoch 44: val_loss did not improve from 1.52152\n",
      "2/2 [==============================] - 0s 27ms/step - loss: 0.0330 - accuracy: 0.9762 - val_loss: 6.7099 - val_accuracy: 0.3636\n",
      "Epoch 45/70\n",
      "1/2 [==============>...............] - ETA: 0s - loss: 0.0216 - accuracy: 1.0000\n",
      "Epoch 45: val_loss did not improve from 1.52152\n",
      "2/2 [==============================] - 0s 25ms/step - loss: 0.0330 - accuracy: 0.9762 - val_loss: 6.7194 - val_accuracy: 0.3636\n",
      "Epoch 46/70\n",
      "1/2 [==============>...............] - ETA: 0s - loss: 0.0433 - accuracy: 0.9688\n",
      "Epoch 46: val_loss did not improve from 1.52152\n",
      "2/2 [==============================] - 0s 25ms/step - loss: 0.0330 - accuracy: 0.9762 - val_loss: 6.7275 - val_accuracy: 0.3636\n",
      "Epoch 47/70\n",
      "1/2 [==============>...............] - ETA: 0s - loss: 0.0434 - accuracy: 0.9688\n",
      "Epoch 47: val_loss did not improve from 1.52152\n",
      "2/2 [==============================] - 0s 23ms/step - loss: 0.0330 - accuracy: 0.9762 - val_loss: 6.7348 - val_accuracy: 0.3636\n",
      "Epoch 48/70\n",
      "1/2 [==============>...............] - ETA: 0s - loss: 0.0216 - accuracy: 1.0000\n",
      "Epoch 48: val_loss did not improve from 1.52152\n",
      "2/2 [==============================] - 0s 24ms/step - loss: 0.0330 - accuracy: 0.9762 - val_loss: 6.7421 - val_accuracy: 0.3636\n",
      "Epoch 49/70\n",
      "1/2 [==============>...............] - ETA: 0s - loss: 0.0216 - accuracy: 1.0000\n",
      "Epoch 49: val_loss did not improve from 1.52152\n",
      "2/2 [==============================] - 0s 24ms/step - loss: 0.0330 - accuracy: 0.9762 - val_loss: 6.7493 - val_accuracy: 0.3636\n",
      "Epoch 50/70\n",
      "1/2 [==============>...............] - ETA: 0s - loss: 0.0216 - accuracy: 1.0000\n",
      "Epoch 50: val_loss did not improve from 1.52152\n",
      "2/2 [==============================] - 0s 23ms/step - loss: 0.0330 - accuracy: 0.9762 - val_loss: 6.7562 - val_accuracy: 0.3636\n",
      "Epoch 51/70\n",
      "1/2 [==============>...............] - ETA: 0s - loss: 0.0217 - accuracy: 1.0000\n",
      "Epoch 51: val_loss did not improve from 1.52152\n",
      "2/2 [==============================] - 0s 24ms/step - loss: 0.0330 - accuracy: 1.0000 - val_loss: 6.7623 - val_accuracy: 0.3636\n",
      "Epoch 52/70\n",
      "1/2 [==============>...............] - ETA: 0s - loss: 0.0433 - accuracy: 0.9688\n",
      "Epoch 52: val_loss did not improve from 1.52152\n",
      "2/2 [==============================] - 0s 24ms/step - loss: 0.0330 - accuracy: 0.9762 - val_loss: 6.7679 - val_accuracy: 0.3636\n",
      "Epoch 53/70\n",
      "1/2 [==============>...............] - ETA: 0s - loss: 0.0217 - accuracy: 0.9688\n",
      "Epoch 53: val_loss did not improve from 1.52152\n",
      "2/2 [==============================] - 0s 26ms/step - loss: 0.0330 - accuracy: 0.9762 - val_loss: 6.7730 - val_accuracy: 0.3636\n",
      "Epoch 54/70\n",
      "1/2 [==============>...............] - ETA: 0s - loss: 0.0216 - accuracy: 1.0000\n",
      "Epoch 54: val_loss did not improve from 1.52152\n",
      "2/2 [==============================] - 0s 25ms/step - loss: 0.0330 - accuracy: 0.9762 - val_loss: 6.7779 - val_accuracy: 0.3636\n",
      "Epoch 55/70\n",
      "1/2 [==============>...............] - ETA: 0s - loss: 0.0433 - accuracy: 0.9688\n",
      "Epoch 55: val_loss did not improve from 1.52152\n",
      "2/2 [==============================] - 0s 23ms/step - loss: 0.0330 - accuracy: 0.9762 - val_loss: 6.7829 - val_accuracy: 0.3636\n",
      "Epoch 56/70\n",
      "1/2 [==============>...............] - ETA: 0s - loss: 0.0218 - accuracy: 0.9688\n",
      "Epoch 56: val_loss did not improve from 1.52152\n",
      "2/2 [==============================] - 0s 31ms/step - loss: 0.0330 - accuracy: 0.9762 - val_loss: 6.7881 - val_accuracy: 0.3636\n",
      "Epoch 57/70\n",
      "1/2 [==============>...............] - ETA: 0s - loss: 0.0433 - accuracy: 0.9688\n",
      "Epoch 57: val_loss did not improve from 1.52152\n",
      "2/2 [==============================] - 0s 25ms/step - loss: 0.0330 - accuracy: 0.9762 - val_loss: 6.7931 - val_accuracy: 0.3636\n",
      "Epoch 58/70\n",
      "1/2 [==============>...............] - ETA: 0s - loss: 0.0218 - accuracy: 0.9688\n",
      "Epoch 58: val_loss did not improve from 1.52152\n",
      "2/2 [==============================] - 0s 24ms/step - loss: 0.0330 - accuracy: 0.9762 - val_loss: 6.7981 - val_accuracy: 0.3636\n",
      "Epoch 59/70\n",
      "1/2 [==============>...............] - ETA: 0s - loss: 0.0218 - accuracy: 0.9688\n",
      "Epoch 59: val_loss did not improve from 1.52152\n",
      "2/2 [==============================] - 0s 25ms/step - loss: 0.0330 - accuracy: 0.9762 - val_loss: 6.8032 - val_accuracy: 0.3636\n",
      "Epoch 60/70\n",
      "1/2 [==============>...............] - ETA: 0s - loss: 0.0433 - accuracy: 0.9688\n",
      "Epoch 60: val_loss did not improve from 1.52152\n",
      "2/2 [==============================] - 0s 24ms/step - loss: 0.0330 - accuracy: 0.9762 - val_loss: 6.8082 - val_accuracy: 0.3636\n",
      "Epoch 61/70\n",
      "1/2 [==============>...............] - ETA: 0s - loss: 0.0215 - accuracy: 1.0000\n",
      "Epoch 61: val_loss did not improve from 1.52152\n",
      "2/2 [==============================] - 0s 26ms/step - loss: 0.0330 - accuracy: 0.9762 - val_loss: 6.8128 - val_accuracy: 0.3636\n",
      "Epoch 62/70\n",
      "1/2 [==============>...............] - ETA: 0s - loss: 0.0433 - accuracy: 0.9688\n",
      "Epoch 62: val_loss did not improve from 1.52152\n",
      "2/2 [==============================] - 0s 27ms/step - loss: 0.0330 - accuracy: 0.9762 - val_loss: 6.8174 - val_accuracy: 0.3636\n",
      "Epoch 63/70\n",
      "1/2 [==============>...............] - ETA: 0s - loss: 0.0433 - accuracy: 0.9688\n",
      "Epoch 63: val_loss did not improve from 1.52152\n",
      "2/2 [==============================] - 0s 28ms/step - loss: 0.0330 - accuracy: 0.9762 - val_loss: 6.8220 - val_accuracy: 0.3636\n",
      "Epoch 64/70\n",
      "1/2 [==============>...............] - ETA: 0s - loss: 0.0433 - accuracy: 0.9688\n",
      "Epoch 64: val_loss did not improve from 1.52152\n",
      "2/2 [==============================] - 0s 27ms/step - loss: 0.0330 - accuracy: 0.9762 - val_loss: 6.8267 - val_accuracy: 0.3636\n",
      "Epoch 65/70\n",
      "1/2 [==============>...............] - ETA: 0s - loss: 0.0214 - accuracy: 1.0000\n",
      "Epoch 65: val_loss did not improve from 1.52152\n",
      "2/2 [==============================] - 0s 25ms/step - loss: 0.0330 - accuracy: 0.9762 - val_loss: 6.8313 - val_accuracy: 0.3636\n",
      "Epoch 66/70\n",
      "1/2 [==============>...............] - ETA: 0s - loss: 0.0433 - accuracy: 0.9688\n",
      "Epoch 66: val_loss did not improve from 1.52152\n",
      "2/2 [==============================] - 0s 24ms/step - loss: 0.0330 - accuracy: 0.9762 - val_loss: 6.8362 - val_accuracy: 0.3636\n",
      "Epoch 67/70\n",
      "1/2 [==============>...............] - ETA: 0s - loss: 0.0433 - accuracy: 0.9688\n",
      "Epoch 67: val_loss did not improve from 1.52152\n",
      "2/2 [==============================] - 0s 26ms/step - loss: 0.0330 - accuracy: 0.9762 - val_loss: 6.8406 - val_accuracy: 0.3636\n",
      "Epoch 68/70\n",
      "1/2 [==============>...............] - ETA: 0s - loss: 0.0433 - accuracy: 0.9688\n",
      "Epoch 68: val_loss did not improve from 1.52152\n",
      "2/2 [==============================] - 0s 24ms/step - loss: 0.0330 - accuracy: 0.9762 - val_loss: 6.8448 - val_accuracy: 0.3636\n",
      "Epoch 69/70\n",
      "1/2 [==============>...............] - ETA: 0s - loss: 0.0433 - accuracy: 0.9688\n",
      "Epoch 69: val_loss did not improve from 1.52152\n",
      "2/2 [==============================] - 0s 24ms/step - loss: 0.0330 - accuracy: 0.9762 - val_loss: 6.8487 - val_accuracy: 0.3636\n",
      "Epoch 70/70\n",
      "1/2 [==============>...............] - ETA: 0s - loss: 0.0433 - accuracy: 0.9688\n",
      "Epoch 70: val_loss did not improve from 1.52152\n",
      "2/2 [==============================] - 0s 24ms/step - loss: 0.0330 - accuracy: 0.9762 - val_loss: 6.8527 - val_accuracy: 0.3636\n"
     ]
    }
   ],
   "source": [
    "model.compile(\n",
    "    loss = tf.keras.losses.BinaryCrossentropy(),\n",
    "    optimizer = Adam(learning_rate=0.001), # 'Adam',\n",
    "    metrics=['accuracy']\n",
    ")\n",
    "\n",
    "history = model.fit(\n",
    "    X_train, y_train,\n",
    "    epochs = 70,\n",
    "    batch_size = 32, # données transmises pour une session\n",
    "    validation_split=0.2,\n",
    "    callbacks=callbacks_list\n",
    ")"
   ]
  },
  {
   "cell_type": "code",
   "execution_count": 40,
   "metadata": {},
   "outputs": [
    {
     "name": "stdout",
     "output_type": "stream",
     "text": [
      "1/1 [==============================] - 0s 17ms/step - loss: 12.4700 - accuracy: 0.3571\n"
     ]
    },
    {
     "data": {
      "text/plain": [
       "[12.470030784606934, 0.3571428656578064]"
      ]
     },
     "execution_count": 40,
     "metadata": {},
     "output_type": "execute_result"
    }
   ],
   "source": [
    "model.evaluate(X_test, y_test)"
   ]
  },
  {
   "cell_type": "code",
   "execution_count": 41,
   "metadata": {},
   "outputs": [
    {
     "name": "stdout",
     "output_type": "stream",
     "text": [
      "1/1 [==============================] - 0s 34ms/step\n"
     ]
    },
    {
     "data": {
      "text/plain": [
       "<tf.Tensor: shape=(14, 1), dtype=float32, numpy=\n",
       "array([[0.7310586 ],\n",
       "       [0.7310586 ],\n",
       "       [0.7310551 ],\n",
       "       [0.7310586 ],\n",
       "       [0.5000059 ],\n",
       "       [0.51469284],\n",
       "       [0.7310586 ],\n",
       "       [0.7310586 ],\n",
       "       [0.5036303 ],\n",
       "       [0.59707725],\n",
       "       [0.7310586 ],\n",
       "       [0.5004201 ],\n",
       "       [0.7310586 ],\n",
       "       [0.5       ]], dtype=float32)>"
      ]
     },
     "execution_count": 41,
     "metadata": {},
     "output_type": "execute_result"
    }
   ],
   "source": [
    "pred = model.predict(X_test)\n",
    "prediction_p = tf.nn.sigmoid(pred)\n",
    "prediction_p"
   ]
  },
  {
   "cell_type": "code",
   "execution_count": 42,
   "metadata": {},
   "outputs": [
    {
     "name": "stdout",
     "output_type": "stream",
     "text": [
      "Predicted labels:  tf.Tensor(\n",
      "[[1]\n",
      " [1]\n",
      " [1]\n",
      " [1]\n",
      " [1]\n",
      " [1]\n",
      " [1]\n",
      " [1]\n",
      " [1]\n",
      " [1]\n",
      " [1]\n",
      " [1]\n",
      " [1]\n",
      " [1]], shape=(14, 1), dtype=int32)\n",
      "True labels:       [0 0 0 0 0 0 0 0 0 1 1 1 1 1]\n"
     ]
    }
   ],
   "source": [
    "y_pred = tf.where(prediction_p < 0.5, 0, 1)\n",
    "print(\"Predicted labels: \", y_pred)\n",
    "print(\"True labels:      \", y_test)"
   ]
  },
  {
   "attachments": {},
   "cell_type": "markdown",
   "metadata": {},
   "source": [
    "**Accuracy: $5/14$ ($35.71\\%$)**"
   ]
  },
  {
   "attachments": {},
   "cell_type": "markdown",
   "metadata": {},
   "source": [
    "# Coup droit, revers, service et déplacement"
   ]
  },
  {
   "attachments": {},
   "cell_type": "markdown",
   "metadata": {},
   "source": [
    "## Prises des frames et des vidéos"
   ]
  },
  {
   "cell_type": "code",
   "execution_count": 3,
   "metadata": {},
   "outputs": [],
   "source": [
    "list_videos = []\n",
    "y = []\n",
    "all_paths = []\n",
    "for dirpath, dirnames, _ in os.walk('img/JBas'):\n",
    "    for dir_type in dirnames:\n",
    "        \n",
    "        path_fol = os.path.join(dirpath, dir_type)\n",
    "        for file in os.listdir(path_fol):\n",
    "            path_fol_img = os.path.join(path_fol, file)\n",
    "            if os.path.isdir(path_fol_img) and file == 'images':\n",
    "                frames = []\n",
    "                for file_img in os.listdir(path_fol_img):\n",
    "                    path_img = os.path.join(path_fol_img, file_img)\n",
    "                    img_obj = Image.load_image(cv2.IMREAD_GRAYSCALE, path_img)\n",
    "                    img = img_obj.img\n",
    "                    frames.append(img)\t\n",
    "                if (len(frames) == 15):\n",
    "                    output_res = path_img.split('\\\\')[1]\n",
    "                    all_paths.append(path_fol_img)\n",
    "                    vid = Video.read_video_from_frames(frames)\n",
    "                    list_videos.append(vid)\n",
    "                    y.append(output_res)"
   ]
  },
  {
   "cell_type": "code",
   "execution_count": 4,
   "metadata": {},
   "outputs": [
    {
     "data": {
      "text/plain": [
       "['coup droit',\n",
       " 'coup droit',\n",
       " 'coup droit',\n",
       " 'coup droit',\n",
       " 'coup droit',\n",
       " 'coup droit',\n",
       " 'coup droit',\n",
       " 'coup droit',\n",
       " 'coup droit',\n",
       " 'coup droit',\n",
       " 'coup droit',\n",
       " 'coup droit',\n",
       " 'coup droit',\n",
       " 'coup droit',\n",
       " 'coup droit',\n",
       " 'coup droit',\n",
       " 'coup droit',\n",
       " 'coup droit',\n",
       " 'coup droit',\n",
       " 'coup droit',\n",
       " 'coup droit',\n",
       " 'coup droit',\n",
       " 'coup droit',\n",
       " 'coup droit',\n",
       " 'coup droit',\n",
       " 'coup droit',\n",
       " 'coup droit',\n",
       " 'coup droit',\n",
       " 'coup droit',\n",
       " 'coup droit',\n",
       " 'coup droit',\n",
       " 'coup droit',\n",
       " 'coup droit',\n",
       " 'coup droit',\n",
       " 'deplacement',\n",
       " 'deplacement',\n",
       " 'deplacement',\n",
       " 'deplacement',\n",
       " 'deplacement',\n",
       " 'deplacement',\n",
       " 'deplacement',\n",
       " 'deplacement',\n",
       " 'deplacement',\n",
       " 'deplacement',\n",
       " 'deplacement',\n",
       " 'deplacement',\n",
       " 'deplacement',\n",
       " 'deplacement',\n",
       " 'deplacement',\n",
       " 'deplacement',\n",
       " 'deplacement',\n",
       " 'deplacement',\n",
       " 'deplacement',\n",
       " 'deplacement',\n",
       " 'deplacement',\n",
       " 'deplacement',\n",
       " 'deplacement',\n",
       " 'deplacement',\n",
       " 'deplacement',\n",
       " 'deplacement',\n",
       " 'deplacement',\n",
       " 'deplacement',\n",
       " 'deplacement',\n",
       " 'deplacement',\n",
       " 'deplacement',\n",
       " 'deplacement',\n",
       " 'deplacement',\n",
       " 'deplacement',\n",
       " 'deplacement',\n",
       " 'deplacement',\n",
       " 'deplacement',\n",
       " 'deplacement',\n",
       " 'deplacement',\n",
       " 'deplacement',\n",
       " 'deplacement',\n",
       " 'deplacement',\n",
       " 'deplacement',\n",
       " 'deplacement',\n",
       " 'deplacement',\n",
       " 'deplacement',\n",
       " 'deplacement',\n",
       " 'deplacement',\n",
       " 'deplacement',\n",
       " 'deplacement',\n",
       " 'deplacement',\n",
       " 'deplacement',\n",
       " 'revers',\n",
       " 'revers',\n",
       " 'revers',\n",
       " 'revers',\n",
       " 'revers',\n",
       " 'revers',\n",
       " 'revers',\n",
       " 'revers',\n",
       " 'revers',\n",
       " 'revers',\n",
       " 'revers',\n",
       " 'revers',\n",
       " 'revers',\n",
       " 'revers',\n",
       " 'revers',\n",
       " 'revers',\n",
       " 'revers',\n",
       " 'revers',\n",
       " 'revers',\n",
       " 'revers',\n",
       " 'revers',\n",
       " 'revers',\n",
       " 'revers',\n",
       " 'revers',\n",
       " 'revers',\n",
       " 'revers',\n",
       " 'revers',\n",
       " 'revers',\n",
       " 'revers',\n",
       " 'revers',\n",
       " 'revers',\n",
       " 'revers',\n",
       " 'revers',\n",
       " 'service',\n",
       " 'service',\n",
       " 'service',\n",
       " 'service',\n",
       " 'service',\n",
       " 'service',\n",
       " 'service',\n",
       " 'service',\n",
       " 'service',\n",
       " 'service',\n",
       " 'service']"
      ]
     },
     "execution_count": 4,
     "metadata": {},
     "output_type": "execute_result"
    }
   ],
   "source": [
    "# Output sans label encoder\n",
    "y"
   ]
  },
  {
   "attachments": {},
   "cell_type": "markdown",
   "metadata": {},
   "source": [
    "Transformer output y en one hot vector\n",
    "- 0: coup droit\n",
    "- 1: déplacement\n",
    "- 2: revers\n",
    "- 3: service"
   ]
  },
  {
   "cell_type": "code",
   "execution_count": 8,
   "metadata": {},
   "outputs": [
    {
     "data": {
      "text/plain": [
       "array([0, 0, 0, 0, 0, 0, 0, 0, 0, 0, 0, 0, 0, 0, 0, 0, 0, 0, 0, 0, 0, 0,\n",
       "       0, 0, 0, 0, 0, 0, 0, 0, 0, 0, 0, 0, 1, 1, 1, 1, 1, 1, 1, 1, 1, 1,\n",
       "       1, 1, 1, 1, 1, 1, 1, 1, 1, 1, 1, 1, 1, 1, 1, 1, 1, 1, 1, 1, 1, 1,\n",
       "       1, 1, 1, 1, 1, 1, 1, 1, 1, 1, 1, 1, 1, 1, 1, 1, 1, 1, 1, 1, 2, 2,\n",
       "       2, 2, 2, 2, 2, 2, 2, 2, 2, 2, 2, 2, 2, 2, 2, 2, 2, 2, 2, 2, 2, 2,\n",
       "       2, 2, 2, 2, 2, 2, 2, 2, 2, 3, 3, 3, 3, 3, 3, 3, 3, 3, 3, 3],\n",
       "      dtype=int64)"
      ]
     },
     "execution_count": 8,
     "metadata": {},
     "output_type": "execute_result"
    }
   ],
   "source": [
    "y = encoder.fit_transform(y)\n",
    "y"
   ]
  },
  {
   "cell_type": "code",
   "execution_count": 9,
   "metadata": {},
   "outputs": [
    {
     "data": {
      "text/plain": [
       "array([0, 1, 2, 3], dtype=int64)"
      ]
     },
     "execution_count": 9,
     "metadata": {},
     "output_type": "execute_result"
    }
   ],
   "source": [
    "output_y = np.unique(y)\n",
    "output_y"
   ]
  },
  {
   "cell_type": "code",
   "execution_count": 10,
   "metadata": {},
   "outputs": [],
   "source": [
    "train_size = int(len(list_videos) * 0.8)\n",
    "test_size = len(list_videos) - train_size"
   ]
  },
  {
   "cell_type": "code",
   "execution_count": 11,
   "metadata": {},
   "outputs": [
    {
     "data": {
      "text/plain": [
       "(104, 104, 26, 26)"
      ]
     },
     "execution_count": 11,
     "metadata": {},
     "output_type": "execute_result"
    }
   ],
   "source": [
    "## Split video train, test\n",
    "random.seed(42)\n",
    "vids_train = random.sample(list_videos, k = train_size)\n",
    "vids_test = [vid for vid in list_videos if vid not in vids_train]\n",
    "y_train = [y[i] for i in range(len(y)) if list_videos[i] in vids_train]\n",
    "y_test = [y[i] for i in range(len(y)) if list_videos[i] in vids_test]\n",
    "paths_test = [all_paths[i] for i in range(len(all_paths)) if list_videos[i] in vids_test]\n",
    "len(vids_train), len(y_train), len(vids_test), len(y_test)"
   ]
  },
  {
   "cell_type": "code",
   "execution_count": 12,
   "metadata": {},
   "outputs": [],
   "source": [
    "y_train = np.array(y_train, dtype=int)\n",
    "y_test = np.array(y_test, dtype=int)"
   ]
  },
  {
   "cell_type": "code",
   "execution_count": 13,
   "metadata": {},
   "outputs": [
    {
     "data": {
      "text/plain": [
       "array([[0, 0, 0, ..., 0, 0, 0],\n",
       "       [0, 0, 0, ..., 0, 0, 0],\n",
       "       [0, 0, 0, ..., 0, 0, 0],\n",
       "       ...,\n",
       "       [0, 0, 0, ..., 0, 0, 0],\n",
       "       [0, 0, 0, ..., 0, 0, 0],\n",
       "       [0, 0, 0, ..., 0, 0, 0]])"
      ]
     },
     "execution_count": 13,
     "metadata": {},
     "output_type": "execute_result"
    }
   ],
   "source": [
    "# Split input X en train, test set\n",
    "X_train = np.zeros((train_size, 50*50*15), dtype=int)\n",
    "for i, vid in enumerate(vids_train):\n",
    "    seq_img = vid.frames.flatten()\n",
    "    X_train[i] = seq_img\n",
    "X_train"
   ]
  },
  {
   "cell_type": "code",
   "execution_count": 14,
   "metadata": {},
   "outputs": [
    {
     "data": {
      "text/plain": [
       "array([[0, 0, 0, ..., 0, 0, 0],\n",
       "       [0, 0, 0, ..., 0, 0, 0],\n",
       "       [0, 0, 0, ..., 0, 0, 0],\n",
       "       ...,\n",
       "       [0, 0, 0, ..., 0, 0, 0],\n",
       "       [0, 0, 0, ..., 0, 0, 0],\n",
       "       [0, 0, 0, ..., 0, 0, 0]])"
      ]
     },
     "execution_count": 14,
     "metadata": {},
     "output_type": "execute_result"
    }
   ],
   "source": [
    "X_test = np.zeros((test_size, 50*50*15), dtype=int)\n",
    "for i, vid in enumerate(vids_test):\n",
    "    seq_img = vid.frames.flatten()\n",
    "    X_test[i] = seq_img\n",
    "X_test"
   ]
  },
  {
   "attachments": {},
   "cell_type": "markdown",
   "metadata": {},
   "source": [
    "## Modèle de réseau de neurones avec classification multiclass"
   ]
  },
  {
   "cell_type": "code",
   "execution_count": 15,
   "metadata": {},
   "outputs": [
    {
     "name": "stdout",
     "output_type": "stream",
     "text": [
      "Model: \"sequential\"\n",
      "_________________________________________________________________\n",
      " Layer (type)                Output Shape              Param #   \n",
      "=================================================================\n",
      " dense (Dense)               (None, 16)                600016    \n",
      "                                                                 \n",
      " dense_1 (Dense)             (None, 32)                544       \n",
      "                                                                 \n",
      " dense_2 (Dense)             (None, 64)                2112      \n",
      "                                                                 \n",
      " dense_3 (Dense)             (None, 128)               8320      \n",
      "                                                                 \n",
      " dense_4 (Dense)             (None, 4)                 516       \n",
      "                                                                 \n",
      "=================================================================\n",
      "Total params: 611,508\n",
      "Trainable params: 611,508\n",
      "Non-trainable params: 0\n",
      "_________________________________________________________________\n"
     ]
    }
   ],
   "source": [
    "model_2 = Sequential(\n",
    "    [               \n",
    "        tf.keras.Input(shape = 50*50*15), # 50*50 * 15 = 37500\n",
    "        Dense(units=16, activation=\"relu\"),\n",
    "        Dense(units=32, activation=\"relu\"),\n",
    "        Dense(units=64, activation=\"sigmoid\"),\n",
    "        Dense(units=128, activation=\"relu\"),\n",
    "        Dense(units=len(output_y), activation=\"softmax\"),\n",
    "    ]\n",
    ")          \n",
    "model_2.summary()"
   ]
  },
  {
   "cell_type": "code",
   "execution_count": 16,
   "metadata": {},
   "outputs": [],
   "source": [
    "checkpoint_name = 'Weights-{epoch:03d}--{val_loss:.5f}.hdf5' \n",
    "checkpoint = ModelCheckpoint(checkpoint_name, monitor='val_loss', verbose = 1, save_best_only = True, mode ='auto')\n",
    "callbacks_list = [checkpoint]"
   ]
  },
  {
   "cell_type": "code",
   "execution_count": 17,
   "metadata": {},
   "outputs": [
    {
     "name": "stdout",
     "output_type": "stream",
     "text": [
      "Epoch 1/70\n",
      "1/3 [=========>....................] - ETA: 0s - loss: 1.6367 - accuracy: 0.0625\n",
      "Epoch 1: val_loss improved from inf to 1.51667, saving model to Weights-001--1.51667.hdf5\n",
      "3/3 [==============================] - 0s 84ms/step - loss: 1.4726 - accuracy: 0.3012 - val_loss: 1.5167 - val_accuracy: 0.0000e+00\n",
      "Epoch 2/70\n",
      "1/3 [=========>....................] - ETA: 0s - loss: 1.2665 - accuracy: 0.5000\n",
      "Epoch 2: val_loss did not improve from 1.51667\n",
      "3/3 [==============================] - 0s 16ms/step - loss: 1.2259 - accuracy: 0.4819 - val_loss: 1.9074 - val_accuracy: 0.0000e+00\n",
      "Epoch 3/70\n",
      "1/3 [=========>....................] - ETA: 0s - loss: 1.1630 - accuracy: 0.4375\n",
      "Epoch 3: val_loss did not improve from 1.51667\n",
      "3/3 [==============================] - 0s 16ms/step - loss: 1.1311 - accuracy: 0.4699 - val_loss: 2.2622 - val_accuracy: 0.0000e+00\n",
      "Epoch 4/70\n",
      "1/3 [=========>....................] - ETA: 0s - loss: 1.0913 - accuracy: 0.5000\n",
      "Epoch 4: val_loss did not improve from 1.51667\n",
      "3/3 [==============================] - 0s 16ms/step - loss: 1.1198 - accuracy: 0.4699 - val_loss: 2.4927 - val_accuracy: 0.0000e+00\n",
      "Epoch 5/70\n",
      "1/3 [=========>....................] - ETA: 0s - loss: 1.0836 - accuracy: 0.5000\n",
      "Epoch 5: val_loss did not improve from 1.51667\n",
      "3/3 [==============================] - 0s 16ms/step - loss: 1.1192 - accuracy: 0.4578 - val_loss: 2.6520 - val_accuracy: 0.0000e+00\n",
      "Epoch 6/70\n",
      "1/3 [=========>....................] - ETA: 0s - loss: 1.0348 - accuracy: 0.5000\n",
      "Epoch 6: val_loss did not improve from 1.51667\n",
      "3/3 [==============================] - 0s 21ms/step - loss: 1.0929 - accuracy: 0.4578 - val_loss: 2.7535 - val_accuracy: 0.0000e+00\n",
      "Epoch 7/70\n",
      "1/3 [=========>....................] - ETA: 0s - loss: 1.0250 - accuracy: 0.5000\n",
      "Epoch 7: val_loss did not improve from 1.51667\n",
      "3/3 [==============================] - 0s 17ms/step - loss: 1.0836 - accuracy: 0.4699 - val_loss: 2.8430 - val_accuracy: 0.0000e+00\n",
      "Epoch 8/70\n",
      "1/3 [=========>....................] - ETA: 0s - loss: 1.0525 - accuracy: 0.4688\n",
      "Epoch 8: val_loss did not improve from 1.51667\n",
      "3/3 [==============================] - 0s 18ms/step - loss: 1.0727 - accuracy: 0.4578 - val_loss: 2.8962 - val_accuracy: 0.0000e+00\n",
      "Epoch 9/70\n",
      "1/3 [=========>....................] - ETA: 0s - loss: 1.0312 - accuracy: 0.5625\n",
      "Epoch 9: val_loss did not improve from 1.51667\n",
      "3/3 [==============================] - 0s 17ms/step - loss: 1.0647 - accuracy: 0.4578 - val_loss: 2.9672 - val_accuracy: 0.0000e+00\n",
      "Epoch 10/70\n",
      "1/3 [=========>....................] - ETA: 0s - loss: 1.0461 - accuracy: 0.4688\n",
      "Epoch 10: val_loss did not improve from 1.51667\n",
      "3/3 [==============================] - 0s 17ms/step - loss: 1.0532 - accuracy: 0.4699 - val_loss: 3.0338 - val_accuracy: 0.0000e+00\n",
      "Epoch 11/70\n",
      "1/3 [=========>....................] - ETA: 0s - loss: 1.0927 - accuracy: 0.4375\n",
      "Epoch 11: val_loss did not improve from 1.51667\n",
      "3/3 [==============================] - 0s 17ms/step - loss: 1.0483 - accuracy: 0.4699 - val_loss: 3.1521 - val_accuracy: 0.0000e+00\n",
      "Epoch 12/70\n",
      "1/3 [=========>....................] - ETA: 0s - loss: 1.0332 - accuracy: 0.5000\n",
      "Epoch 12: val_loss did not improve from 1.51667\n",
      "3/3 [==============================] - 0s 16ms/step - loss: 1.0505 - accuracy: 0.4699 - val_loss: 3.2813 - val_accuracy: 0.0000e+00\n",
      "Epoch 13/70\n",
      "1/3 [=========>....................] - ETA: 0s - loss: 1.1270 - accuracy: 0.3750\n",
      "Epoch 13: val_loss did not improve from 1.51667\n",
      "3/3 [==============================] - 0s 17ms/step - loss: 1.0582 - accuracy: 0.4699 - val_loss: 3.3009 - val_accuracy: 0.0000e+00\n",
      "Epoch 14/70\n",
      "1/3 [=========>....................] - ETA: 0s - loss: 1.0441 - accuracy: 0.5000\n",
      "Epoch 14: val_loss did not improve from 1.51667\n",
      "3/3 [==============================] - 0s 17ms/step - loss: 1.0442 - accuracy: 0.4699 - val_loss: 3.3072 - val_accuracy: 0.0000e+00\n",
      "Epoch 15/70\n",
      "1/3 [=========>....................] - ETA: 0s - loss: 0.9913 - accuracy: 0.5625\n",
      "Epoch 15: val_loss did not improve from 1.51667\n",
      "3/3 [==============================] - 0s 17ms/step - loss: 1.0419 - accuracy: 0.4699 - val_loss: 3.3127 - val_accuracy: 0.0000e+00\n",
      "Epoch 16/70\n",
      "1/3 [=========>....................] - ETA: 0s - loss: 1.0739 - accuracy: 0.3750\n",
      "Epoch 16: val_loss did not improve from 1.51667\n",
      "3/3 [==============================] - 0s 17ms/step - loss: 1.0385 - accuracy: 0.4699 - val_loss: 3.3474 - val_accuracy: 0.0000e+00\n",
      "Epoch 17/70\n",
      "1/3 [=========>....................] - ETA: 0s - loss: 0.9932 - accuracy: 0.5000\n",
      "Epoch 17: val_loss did not improve from 1.51667\n",
      "3/3 [==============================] - 0s 16ms/step - loss: 1.0291 - accuracy: 0.4819 - val_loss: 3.4435 - val_accuracy: 0.0000e+00\n",
      "Epoch 18/70\n",
      "1/3 [=========>....................] - ETA: 0s - loss: 1.0238 - accuracy: 0.4375\n",
      "Epoch 18: val_loss did not improve from 1.51667\n",
      "3/3 [==============================] - 0s 16ms/step - loss: 1.0335 - accuracy: 0.4699 - val_loss: 3.4852 - val_accuracy: 0.0000e+00\n",
      "Epoch 19/70\n",
      "1/3 [=========>....................] - ETA: 0s - loss: 1.0369 - accuracy: 0.4688\n",
      "Epoch 19: val_loss did not improve from 1.51667\n",
      "3/3 [==============================] - 0s 16ms/step - loss: 1.0245 - accuracy: 0.4699 - val_loss: 3.5058 - val_accuracy: 0.0000e+00\n",
      "Epoch 20/70\n",
      "1/3 [=========>....................] - ETA: 0s - loss: 0.9900 - accuracy: 0.5312\n",
      "Epoch 20: val_loss did not improve from 1.51667\n",
      "3/3 [==============================] - 0s 15ms/step - loss: 1.0300 - accuracy: 0.4699 - val_loss: 3.5338 - val_accuracy: 0.0000e+00\n",
      "Epoch 21/70\n",
      "1/3 [=========>....................] - ETA: 0s - loss: 1.0252 - accuracy: 0.4688\n",
      "Epoch 21: val_loss did not improve from 1.51667\n",
      "3/3 [==============================] - 0s 16ms/step - loss: 1.0310 - accuracy: 0.4699 - val_loss: 3.5494 - val_accuracy: 0.0000e+00\n",
      "Epoch 22/70\n",
      "1/3 [=========>....................] - ETA: 0s - loss: 1.0646 - accuracy: 0.5312\n",
      "Epoch 22: val_loss did not improve from 1.51667\n",
      "3/3 [==============================] - 0s 15ms/step - loss: 1.0333 - accuracy: 0.4819 - val_loss: 3.5537 - val_accuracy: 0.0000e+00\n",
      "Epoch 23/70\n",
      "1/3 [=========>....................] - ETA: 0s - loss: 1.0239 - accuracy: 0.5000\n",
      "Epoch 23: val_loss did not improve from 1.51667\n",
      "3/3 [==============================] - 0s 15ms/step - loss: 1.0202 - accuracy: 0.5181 - val_loss: 3.6099 - val_accuracy: 0.0000e+00\n",
      "Epoch 24/70\n",
      "1/3 [=========>....................] - ETA: 0s - loss: 1.0841 - accuracy: 0.5000\n",
      "Epoch 24: val_loss did not improve from 1.51667\n",
      "3/3 [==============================] - 0s 16ms/step - loss: 1.0211 - accuracy: 0.4819 - val_loss: 3.6081 - val_accuracy: 0.0000e+00\n",
      "Epoch 25/70\n",
      "1/3 [=========>....................] - ETA: 0s - loss: 1.0684 - accuracy: 0.4062\n",
      "Epoch 25: val_loss did not improve from 1.51667\n",
      "3/3 [==============================] - 0s 16ms/step - loss: 1.0125 - accuracy: 0.5060 - val_loss: 3.5935 - val_accuracy: 0.0000e+00\n",
      "Epoch 26/70\n",
      "1/3 [=========>....................] - ETA: 0s - loss: 0.9785 - accuracy: 0.4375\n",
      "Epoch 26: val_loss did not improve from 1.51667\n",
      "3/3 [==============================] - 0s 15ms/step - loss: 1.0064 - accuracy: 0.4940 - val_loss: 3.4768 - val_accuracy: 0.0000e+00\n",
      "Epoch 27/70\n",
      "1/3 [=========>....................] - ETA: 0s - loss: 1.0389 - accuracy: 0.4062\n",
      "Epoch 27: val_loss did not improve from 1.51667\n",
      "3/3 [==============================] - 0s 15ms/step - loss: 1.0260 - accuracy: 0.4699 - val_loss: 3.4012 - val_accuracy: 0.0000e+00\n",
      "Epoch 28/70\n",
      "1/3 [=========>....................] - ETA: 0s - loss: 1.0307 - accuracy: 0.4688\n",
      "Epoch 28: val_loss did not improve from 1.51667\n",
      "3/3 [==============================] - 0s 16ms/step - loss: 1.0299 - accuracy: 0.4819 - val_loss: 3.4132 - val_accuracy: 0.0000e+00\n",
      "Epoch 29/70\n",
      "1/3 [=========>....................] - ETA: 0s - loss: 0.9599 - accuracy: 0.5938\n",
      "Epoch 29: val_loss did not improve from 1.51667\n",
      "3/3 [==============================] - 0s 18ms/step - loss: 1.0299 - accuracy: 0.4819 - val_loss: 3.5309 - val_accuracy: 0.0000e+00\n",
      "Epoch 30/70\n",
      "1/3 [=========>....................] - ETA: 0s - loss: 1.0530 - accuracy: 0.4688\n",
      "Epoch 30: val_loss did not improve from 1.51667\n",
      "3/3 [==============================] - 0s 21ms/step - loss: 1.0122 - accuracy: 0.4819 - val_loss: 3.5701 - val_accuracy: 0.0000e+00\n",
      "Epoch 31/70\n",
      "1/3 [=========>....................] - ETA: 0s - loss: 1.0487 - accuracy: 0.4375\n",
      "Epoch 31: val_loss did not improve from 1.51667\n",
      "3/3 [==============================] - 0s 17ms/step - loss: 1.0022 - accuracy: 0.5060 - val_loss: 3.6893 - val_accuracy: 0.0000e+00\n",
      "Epoch 32/70\n",
      "1/3 [=========>....................] - ETA: 0s - loss: 0.9904 - accuracy: 0.5312\n",
      "Epoch 32: val_loss did not improve from 1.51667\n",
      "3/3 [==============================] - 0s 18ms/step - loss: 0.9877 - accuracy: 0.5422 - val_loss: 3.7748 - val_accuracy: 0.0000e+00\n",
      "Epoch 33/70\n",
      "1/3 [=========>....................] - ETA: 0s - loss: 1.0327 - accuracy: 0.4062\n",
      "Epoch 33: val_loss did not improve from 1.51667\n",
      "3/3 [==============================] - 0s 19ms/step - loss: 0.9773 - accuracy: 0.4940 - val_loss: 4.0290 - val_accuracy: 0.0000e+00\n",
      "Epoch 34/70\n",
      "1/3 [=========>....................] - ETA: 0s - loss: 0.9464 - accuracy: 0.5938\n",
      "Epoch 34: val_loss did not improve from 1.51667\n",
      "3/3 [==============================] - 0s 15ms/step - loss: 0.9685 - accuracy: 0.5301 - val_loss: 4.1634 - val_accuracy: 0.0000e+00\n",
      "Epoch 35/70\n",
      "1/3 [=========>....................] - ETA: 0s - loss: 1.0361 - accuracy: 0.5000\n",
      "Epoch 35: val_loss did not improve from 1.51667\n",
      "3/3 [==============================] - 0s 16ms/step - loss: 0.9891 - accuracy: 0.4940 - val_loss: 4.1359 - val_accuracy: 0.0000e+00\n",
      "Epoch 36/70\n",
      "1/3 [=========>....................] - ETA: 0s - loss: 1.1943 - accuracy: 0.3438\n",
      "Epoch 36: val_loss did not improve from 1.51667\n",
      "3/3 [==============================] - 0s 16ms/step - loss: 1.0260 - accuracy: 0.4940 - val_loss: 3.9832 - val_accuracy: 0.0000e+00\n",
      "Epoch 37/70\n",
      "1/3 [=========>....................] - ETA: 0s - loss: 1.0535 - accuracy: 0.4688\n",
      "Epoch 37: val_loss did not improve from 1.51667\n",
      "3/3 [==============================] - 0s 16ms/step - loss: 1.0199 - accuracy: 0.4940 - val_loss: 3.8752 - val_accuracy: 0.0000e+00\n",
      "Epoch 38/70\n",
      "1/3 [=========>....................] - ETA: 0s - loss: 1.0664 - accuracy: 0.4062\n",
      "Epoch 38: val_loss did not improve from 1.51667\n",
      "3/3 [==============================] - 0s 17ms/step - loss: 1.0159 - accuracy: 0.4699 - val_loss: 3.8037 - val_accuracy: 0.0000e+00\n",
      "Epoch 39/70\n",
      "1/3 [=========>....................] - ETA: 0s - loss: 0.9909 - accuracy: 0.5000\n",
      "Epoch 39: val_loss did not improve from 1.51667\n",
      "3/3 [==============================] - 0s 16ms/step - loss: 1.0035 - accuracy: 0.5060 - val_loss: 3.8488 - val_accuracy: 0.0000e+00\n",
      "Epoch 40/70\n",
      "1/3 [=========>....................] - ETA: 0s - loss: 1.0202 - accuracy: 0.5000\n",
      "Epoch 40: val_loss did not improve from 1.51667\n",
      "3/3 [==============================] - 0s 17ms/step - loss: 0.9816 - accuracy: 0.5542 - val_loss: 3.9187 - val_accuracy: 0.0000e+00\n",
      "Epoch 41/70\n",
      "1/3 [=========>....................] - ETA: 0s - loss: 0.9533 - accuracy: 0.5625\n",
      "Epoch 41: val_loss did not improve from 1.51667\n",
      "3/3 [==============================] - 0s 16ms/step - loss: 0.9426 - accuracy: 0.5663 - val_loss: 4.0645 - val_accuracy: 0.0000e+00\n",
      "Epoch 42/70\n",
      "1/3 [=========>....................] - ETA: 0s - loss: 0.9234 - accuracy: 0.5625\n",
      "Epoch 42: val_loss did not improve from 1.51667\n",
      "3/3 [==============================] - 0s 16ms/step - loss: 0.9251 - accuracy: 0.5663 - val_loss: 4.1102 - val_accuracy: 0.0000e+00\n",
      "Epoch 43/70\n",
      "1/3 [=========>....................] - ETA: 0s - loss: 0.7879 - accuracy: 0.7188\n",
      "Epoch 43: val_loss did not improve from 1.51667\n",
      "3/3 [==============================] - 0s 16ms/step - loss: 0.8762 - accuracy: 0.6265 - val_loss: 3.8570 - val_accuracy: 0.0000e+00\n",
      "Epoch 44/70\n",
      "1/3 [=========>....................] - ETA: 0s - loss: 0.9375 - accuracy: 0.5938\n",
      "Epoch 44: val_loss did not improve from 1.51667\n",
      "3/3 [==============================] - 0s 16ms/step - loss: 0.9594 - accuracy: 0.5422 - val_loss: 3.7537 - val_accuracy: 0.0476\n",
      "Epoch 45/70\n",
      "1/3 [=========>....................] - ETA: 0s - loss: 1.0075 - accuracy: 0.5000\n",
      "Epoch 45: val_loss did not improve from 1.51667\n",
      "3/3 [==============================] - 0s 17ms/step - loss: 0.9931 - accuracy: 0.4940 - val_loss: 3.9059 - val_accuracy: 0.0000e+00\n",
      "Epoch 46/70\n",
      "1/3 [=========>....................] - ETA: 0s - loss: 1.0024 - accuracy: 0.3750\n",
      "Epoch 46: val_loss did not improve from 1.51667\n",
      "3/3 [==============================] - 0s 16ms/step - loss: 0.9690 - accuracy: 0.4940 - val_loss: 4.0751 - val_accuracy: 0.0000e+00\n",
      "Epoch 47/70\n",
      "1/3 [=========>....................] - ETA: 0s - loss: 1.0173 - accuracy: 0.4062\n",
      "Epoch 47: val_loss did not improve from 1.51667\n",
      "3/3 [==============================] - 0s 16ms/step - loss: 0.9762 - accuracy: 0.4699 - val_loss: 4.1098 - val_accuracy: 0.0000e+00\n",
      "Epoch 48/70\n",
      "1/3 [=========>....................] - ETA: 0s - loss: 0.9587 - accuracy: 0.5312\n",
      "Epoch 48: val_loss did not improve from 1.51667\n",
      "3/3 [==============================] - 0s 19ms/step - loss: 0.9604 - accuracy: 0.4819 - val_loss: 4.0138 - val_accuracy: 0.0000e+00\n",
      "Epoch 49/70\n",
      "1/3 [=========>....................] - ETA: 0s - loss: 0.8572 - accuracy: 0.5000\n",
      "Epoch 49: val_loss did not improve from 1.51667\n",
      "3/3 [==============================] - 0s 17ms/step - loss: 0.9212 - accuracy: 0.5181 - val_loss: 3.9357 - val_accuracy: 0.0000e+00\n",
      "Epoch 50/70\n",
      "1/3 [=========>....................] - ETA: 0s - loss: 0.9474 - accuracy: 0.4375\n",
      "Epoch 50: val_loss did not improve from 1.51667\n",
      "3/3 [==============================] - 0s 16ms/step - loss: 0.9090 - accuracy: 0.5422 - val_loss: 3.9867 - val_accuracy: 0.0952\n",
      "Epoch 51/70\n",
      "1/3 [=========>....................] - ETA: 0s - loss: 0.8598 - accuracy: 0.6875\n",
      "Epoch 51: val_loss did not improve from 1.51667\n",
      "3/3 [==============================] - 0s 17ms/step - loss: 0.8840 - accuracy: 0.5904 - val_loss: 4.0926 - val_accuracy: 0.0476\n",
      "Epoch 52/70\n",
      "1/3 [=========>....................] - ETA: 0s - loss: 0.9096 - accuracy: 0.5625\n",
      "Epoch 52: val_loss did not improve from 1.51667\n",
      "3/3 [==============================] - 0s 17ms/step - loss: 0.8650 - accuracy: 0.6265 - val_loss: 4.2831 - val_accuracy: 0.0000e+00\n",
      "Epoch 53/70\n",
      "1/3 [=========>....................] - ETA: 0s - loss: 0.9929 - accuracy: 0.5312\n",
      "Epoch 53: val_loss did not improve from 1.51667\n",
      "3/3 [==============================] - 0s 16ms/step - loss: 0.8307 - accuracy: 0.6506 - val_loss: 4.4041 - val_accuracy: 0.0000e+00\n",
      "Epoch 54/70\n",
      "1/3 [=========>....................] - ETA: 0s - loss: 0.7803 - accuracy: 0.6562\n",
      "Epoch 54: val_loss did not improve from 1.51667\n",
      "3/3 [==============================] - 0s 16ms/step - loss: 0.8206 - accuracy: 0.6627 - val_loss: 4.1659 - val_accuracy: 0.0476\n",
      "Epoch 55/70\n",
      "1/3 [=========>....................] - ETA: 0s - loss: 0.7714 - accuracy: 0.7500\n",
      "Epoch 55: val_loss did not improve from 1.51667\n",
      "3/3 [==============================] - 0s 16ms/step - loss: 0.8020 - accuracy: 0.6867 - val_loss: 4.2523 - val_accuracy: 0.0000e+00\n",
      "Epoch 56/70\n",
      "1/3 [=========>....................] - ETA: 0s - loss: 0.8483 - accuracy: 0.6875\n",
      "Epoch 56: val_loss did not improve from 1.51667\n",
      "3/3 [==============================] - 0s 16ms/step - loss: 0.7924 - accuracy: 0.6627 - val_loss: 4.2821 - val_accuracy: 0.0000e+00\n",
      "Epoch 57/70\n",
      "1/3 [=========>....................] - ETA: 0s - loss: 0.8650 - accuracy: 0.5312\n",
      "Epoch 57: val_loss did not improve from 1.51667\n",
      "3/3 [==============================] - 0s 17ms/step - loss: 0.7935 - accuracy: 0.6024 - val_loss: 4.5437 - val_accuracy: 0.0000e+00\n",
      "Epoch 58/70\n",
      "1/3 [=========>....................] - ETA: 0s - loss: 0.8881 - accuracy: 0.5938\n",
      "Epoch 58: val_loss did not improve from 1.51667\n",
      "3/3 [==============================] - 0s 20ms/step - loss: 0.8509 - accuracy: 0.6145 - val_loss: 4.4797 - val_accuracy: 0.0000e+00\n",
      "Epoch 59/70\n",
      "1/3 [=========>....................] - ETA: 0s - loss: 0.9030 - accuracy: 0.5625\n",
      "Epoch 59: val_loss did not improve from 1.51667\n",
      "3/3 [==============================] - 0s 17ms/step - loss: 0.8542 - accuracy: 0.5783 - val_loss: 4.3680 - val_accuracy: 0.0000e+00\n",
      "Epoch 60/70\n",
      "1/3 [=========>....................] - ETA: 0s - loss: 0.9154 - accuracy: 0.5312\n",
      "Epoch 60: val_loss did not improve from 1.51667\n",
      "3/3 [==============================] - 0s 16ms/step - loss: 0.8558 - accuracy: 0.5783 - val_loss: 4.2187 - val_accuracy: 0.0000e+00\n",
      "Epoch 61/70\n",
      "1/3 [=========>....................] - ETA: 0s - loss: 0.9080 - accuracy: 0.5938\n",
      "Epoch 61: val_loss did not improve from 1.51667\n",
      "3/3 [==============================] - 0s 15ms/step - loss: 0.8724 - accuracy: 0.6386 - val_loss: 4.0567 - val_accuracy: 0.0476\n",
      "Epoch 62/70\n",
      "1/3 [=========>....................] - ETA: 0s - loss: 0.8452 - accuracy: 0.6875\n",
      "Epoch 62: val_loss did not improve from 1.51667\n",
      "3/3 [==============================] - 0s 15ms/step - loss: 0.8875 - accuracy: 0.6386 - val_loss: 4.0429 - val_accuracy: 0.0000e+00\n",
      "Epoch 63/70\n",
      "1/3 [=========>....................] - ETA: 0s - loss: 0.9589 - accuracy: 0.5938\n",
      "Epoch 63: val_loss did not improve from 1.51667\n",
      "3/3 [==============================] - 0s 15ms/step - loss: 0.8921 - accuracy: 0.6386 - val_loss: 4.1830 - val_accuracy: 0.0000e+00\n",
      "Epoch 64/70\n",
      "1/3 [=========>....................] - ETA: 0s - loss: 0.8501 - accuracy: 0.6875\n",
      "Epoch 64: val_loss did not improve from 1.51667\n",
      "3/3 [==============================] - 0s 15ms/step - loss: 0.8744 - accuracy: 0.6145 - val_loss: 4.4057 - val_accuracy: 0.0000e+00\n",
      "Epoch 65/70\n",
      "1/3 [=========>....................] - ETA: 0s - loss: 0.8236 - accuracy: 0.7500\n",
      "Epoch 65: val_loss did not improve from 1.51667\n",
      "3/3 [==============================] - 0s 15ms/step - loss: 0.8121 - accuracy: 0.6747 - val_loss: 4.3857 - val_accuracy: 0.0952\n",
      "Epoch 66/70\n",
      "1/3 [=========>....................] - ETA: 0s - loss: 0.7931 - accuracy: 0.6250\n",
      "Epoch 66: val_loss did not improve from 1.51667\n",
      "3/3 [==============================] - 0s 18ms/step - loss: 0.7842 - accuracy: 0.6867 - val_loss: 4.2783 - val_accuracy: 0.0476\n",
      "Epoch 67/70\n",
      "1/3 [=========>....................] - ETA: 0s - loss: 0.7622 - accuracy: 0.7188\n",
      "Epoch 67: val_loss did not improve from 1.51667\n",
      "3/3 [==============================] - 0s 15ms/step - loss: 0.7851 - accuracy: 0.6506 - val_loss: 4.3847 - val_accuracy: 0.0000e+00\n",
      "Epoch 68/70\n",
      "1/3 [=========>....................] - ETA: 0s - loss: 0.6991 - accuracy: 0.7188\n",
      "Epoch 68: val_loss did not improve from 1.51667\n",
      "3/3 [==============================] - 0s 15ms/step - loss: 0.7645 - accuracy: 0.6627 - val_loss: 4.6294 - val_accuracy: 0.0000e+00\n",
      "Epoch 69/70\n",
      "1/3 [=========>....................] - ETA: 0s - loss: 0.8696 - accuracy: 0.5938\n",
      "Epoch 69: val_loss did not improve from 1.51667\n",
      "3/3 [==============================] - 0s 16ms/step - loss: 0.7674 - accuracy: 0.6265 - val_loss: 4.9176 - val_accuracy: 0.0000e+00\n",
      "Epoch 70/70\n",
      "1/3 [=========>....................] - ETA: 0s - loss: 0.7991 - accuracy: 0.6562\n",
      "Epoch 70: val_loss did not improve from 1.51667\n",
      "3/3 [==============================] - 0s 15ms/step - loss: 0.7596 - accuracy: 0.6867 - val_loss: 5.1561 - val_accuracy: 0.0000e+00\n"
     ]
    }
   ],
   "source": [
    "model_2.compile(\n",
    "    loss = tf.keras.losses.SparseCategoricalCrossentropy(), \n",
    "    optimizer = Adam(learning_rate=0.001),\n",
    "    metrics=['accuracy']\n",
    ")\n",
    "\n",
    "history_2 = model_2.fit(\n",
    "    X_train, y_train,\n",
    "    epochs = 70,\n",
    "    # batch_size = 32, # données transmises pour une session\n",
    "    validation_split=0.2,\n",
    "    callbacks=callbacks_list\n",
    ")"
   ]
  },
  {
   "cell_type": "code",
   "execution_count": 18,
   "metadata": {},
   "outputs": [
    {
     "name": "stdout",
     "output_type": "stream",
     "text": [
      "1/1 [==============================] - 0s 18ms/step - loss: 1.4615 - accuracy: 0.4615\n"
     ]
    },
    {
     "data": {
      "text/plain": [
       "[1.4615302085876465, 0.4615384638309479]"
      ]
     },
     "execution_count": 18,
     "metadata": {},
     "output_type": "execute_result"
    }
   ],
   "source": [
    "model_2.evaluate(X_test, y_test)"
   ]
  },
  {
   "cell_type": "code",
   "execution_count": 19,
   "metadata": {},
   "outputs": [
    {
     "name": "stdout",
     "output_type": "stream",
     "text": [
      "1/1 [==============================] - 0s 73ms/step\n"
     ]
    },
    {
     "data": {
      "text/plain": [
       "array([[1.49822980e-01, 8.17166984e-01, 3.23286019e-02, 6.81411300e-04],\n",
       "       [2.14750364e-01, 7.28787780e-01, 5.56702837e-02, 7.91511906e-04],\n",
       "       [2.14740381e-01, 7.28804529e-01, 5.56635968e-02, 7.91487517e-04],\n",
       "       [6.83230758e-02, 9.18769181e-01, 1.24931317e-02, 4.14513663e-04],\n",
       "       [4.06499356e-01, 7.23045915e-02, 5.20398974e-01, 7.97014509e-04],\n",
       "       [6.83230758e-02, 9.18769181e-01, 1.24931317e-02, 4.14513663e-04],\n",
       "       [2.14744627e-01, 7.28797436e-01, 5.56664653e-02, 7.91497878e-04],\n",
       "       [5.93578160e-01, 3.06648493e-01, 9.89249200e-02, 8.48393945e-04],\n",
       "       [1.29252151e-01, 8.47273707e-01, 2.28803810e-02, 5.93844743e-04],\n",
       "       [2.14750364e-01, 7.28787780e-01, 5.56702837e-02, 7.91511906e-04],\n",
       "       [1.93586066e-01, 5.96877158e-01, 2.08260536e-01, 1.27620203e-03],\n",
       "       [5.94482303e-01, 3.13794374e-01, 9.04920027e-02, 1.23130088e-03],\n",
       "       [2.14750364e-01, 7.28787780e-01, 5.56702837e-02, 7.91511906e-04],\n",
       "       [2.09466517e-01, 7.38262713e-01, 5.14968038e-02, 7.73995533e-04],\n",
       "       [6.83230758e-02, 9.18769181e-01, 1.24931317e-02, 4.14513663e-04],\n",
       "       [2.14750364e-01, 7.28787780e-01, 5.56702837e-02, 7.91511906e-04],\n",
       "       [3.28379184e-01, 4.52947706e-01, 2.17908114e-01, 7.64959608e-04],\n",
       "       [3.34704131e-01, 8.55308399e-02, 5.79053700e-01, 7.11350411e-04],\n",
       "       [2.06598222e-01, 7.45472252e-01, 4.71738353e-02, 7.55681947e-04],\n",
       "       [3.20389867e-01, 5.72157025e-01, 1.06673814e-01, 7.79310940e-04],\n",
       "       [6.83230832e-02, 9.18769300e-01, 1.24931280e-02, 4.14513488e-04],\n",
       "       [3.20389867e-01, 5.72157025e-01, 1.06673814e-01, 7.79310940e-04],\n",
       "       [6.00495040e-01, 2.76700795e-01, 1.21971056e-01, 8.33062164e-04],\n",
       "       [5.93578160e-01, 3.06648493e-01, 9.89249200e-02, 8.48393945e-04],\n",
       "       [2.14750364e-01, 7.28787780e-01, 5.56702837e-02, 7.91511557e-04],\n",
       "       [6.83230981e-02, 9.18769181e-01, 1.24931317e-02, 4.14513663e-04]],\n",
       "      dtype=float32)"
      ]
     },
     "execution_count": 19,
     "metadata": {},
     "output_type": "execute_result"
    }
   ],
   "source": [
    "pred = model_2.predict(X_test)\n",
    "pred"
   ]
  },
  {
   "cell_type": "code",
   "execution_count": 20,
   "metadata": {},
   "outputs": [
    {
     "data": {
      "text/plain": [
       "<tf.Tensor: shape=(26, 4), dtype=float32, numpy=\n",
       "array([[0.21278197, 0.41472346, 0.18919411, 0.1833004 ],\n",
       "       [0.23082228, 0.38594136, 0.19687478, 0.18636164],\n",
       "       [0.2308193 , 0.3859467 , 0.19687288, 0.1863611 ],\n",
       "       [0.19154385, 0.44834492, 0.181143  , 0.17896819],\n",
       "       [0.28546453, 0.20436813, 0.31990284, 0.19026454],\n",
       "       [0.19154385, 0.44834492, 0.181143  , 0.17896819],\n",
       "       [0.23082054, 0.3859444 , 0.1968737 , 0.18636133],\n",
       "       [0.34326947, 0.25764588, 0.20931965, 0.1897649 ],\n",
       "       [0.20709348, 0.4246188 , 0.18619575, 0.182092  ],\n",
       "       [0.23082228, 0.38594136, 0.19687478, 0.18636164],\n",
       "       [0.23059666, 0.34514382, 0.23400551, 0.19025405],\n",
       "       [0.34341753, 0.2593709 , 0.20746376, 0.18974783],\n",
       "       [0.23082228, 0.38594136, 0.19687478, 0.18636164],\n",
       "       [0.22923116, 0.38897967, 0.19573489, 0.18605426],\n",
       "       [0.19154385, 0.44834492, 0.181143  , 0.17896819],\n",
       "       [0.23082228, 0.38594136, 0.19687478, 0.18636164],\n",
       "       [0.26675823, 0.3021463 , 0.2388586 , 0.1922369 ],\n",
       "       [0.26509064, 0.20662354, 0.33846524, 0.18982051],\n",
       "       [0.22827551, 0.39128152, 0.19463556, 0.1858074 ],\n",
       "       [0.2617591 , 0.33669984, 0.21139084, 0.19015016],\n",
       "       [0.19154385, 0.44834498, 0.181143  , 0.1789682 ],\n",
       "       [0.2617591 , 0.33669984, 0.21139084, 0.19015016],\n",
       "       [0.3457703 , 0.2501299 , 0.21427295, 0.18982689],\n",
       "       [0.34326947, 0.25764588, 0.20931965, 0.1897649 ],\n",
       "       [0.23082228, 0.38594136, 0.19687478, 0.18636164],\n",
       "       [0.19154385, 0.44834492, 0.181143  , 0.17896819]], dtype=float32)>"
      ]
     },
     "execution_count": 20,
     "metadata": {},
     "output_type": "execute_result"
    }
   ],
   "source": [
    "prediction = tf.nn.softmax(pred)\n",
    "prediction"
   ]
  },
  {
   "cell_type": "code",
   "execution_count": 21,
   "metadata": {},
   "outputs": [
    {
     "name": "stdout",
     "output_type": "stream",
     "text": [
      "Predicted labels:  [1 1 1 1 2 1 1 0 1 1 1 0 1 1 1 1 1 2 1 1 1 1 0 0 1 1]\n",
      "True labels:       [0 0 0 0 0 0 0 0 1 1 1 1 1 1 1 1 1 1 1 1 1 2 2 2 2 3]\n"
     ]
    }
   ],
   "source": [
    "y_pred = np.argmax(prediction, axis=1)\n",
    "print(\"Predicted labels: \", y_pred)\n",
    "print(\"True labels:      \", y_test)"
   ]
  }
 ],
 "metadata": {
  "kernelspec": {
   "display_name": "base",
   "language": "python",
   "name": "python3"
  },
  "language_info": {
   "codemirror_mode": {
    "name": "ipython",
    "version": 3
   },
   "file_extension": ".py",
   "mimetype": "text/x-python",
   "name": "python",
   "nbconvert_exporter": "python",
   "pygments_lexer": "ipython3",
   "version": "3.9.13"
  },
  "orig_nbformat": 4
 },
 "nbformat": 4,
 "nbformat_minor": 2
}
