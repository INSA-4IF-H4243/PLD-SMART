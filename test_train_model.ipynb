{
 "cells": [
  {
   "cell_type": "code",
   "execution_count": 27,
   "metadata": {},
   "outputs": [],
   "source": [
    "from smart.model import ModelJoueurClassique\n",
    "import tensorflow as tf\n",
    "from keras.models import Sequential\n",
    "from keras.layers import Conv2D, MaxPooling2D, Flatten, Dense, BatchNormalization, Dropout\n",
    "import numpy as np"
   ]
  },
  {
   "cell_type": "code",
   "execution_count": 2,
   "metadata": {},
   "outputs": [],
   "source": [
    "path_dataset = 'img/JHaut'"
   ]
  },
  {
   "cell_type": "code",
   "execution_count": 3,
   "metadata": {},
   "outputs": [],
   "source": [
    "layers = [               \n",
    "    tf.keras.Input(shape = 50*50*15), # 50*50 * 15 = 37500\n",
    "    Dense(units=16, activation=\"relu\"),\n",
    "    Dense(units=32, activation=\"relu\"),\n",
    "    Dense(units=64, activation=\"sigmoid\"),\n",
    "    Dense(units=128, activation=\"relu\"),\n",
    "    Dense(units=4, activation=\"softmax\")\n",
    "]"
   ]
  },
  {
   "cell_type": "code",
   "execution_count": 4,
   "metadata": {},
   "outputs": [
    {
     "name": "stdout",
     "output_type": "stream",
     "text": [
      "Model: \"sequential\"\n",
      "_________________________________________________________________\n",
      " Layer (type)                Output Shape              Param #   \n",
      "=================================================================\n",
      " dense (Dense)               (None, 16)                600016    \n",
      "                                                                 \n",
      " dense_1 (Dense)             (None, 32)                544       \n",
      "                                                                 \n",
      " dense_2 (Dense)             (None, 64)                2112      \n",
      "                                                                 \n",
      " dense_3 (Dense)             (None, 128)               8320      \n",
      "                                                                 \n",
      " dense_4 (Dense)             (None, 4)                 516       \n",
      "                                                                 \n",
      "=================================================================\n",
      "Total params: 611,508\n",
      "Trainable params: 611,508\n",
      "Non-trainable params: 0\n",
      "_________________________________________________________________\n"
     ]
    }
   ],
   "source": [
    "model_joueur_classique = ModelJoueurClassique.load_model_from_layers(layers)\n",
    "model_joueur_classique.summary_model"
   ]
  },
  {
   "cell_type": "code",
   "execution_count": 6,
   "metadata": {},
   "outputs": [],
   "source": [
    "# Step 1: Load the data\n",
    "list_videos, y = model_joueur_classique.analyse_sequence_frame(path_data_frame=path_dataset)"
   ]
  },
  {
   "cell_type": "code",
   "execution_count": 7,
   "metadata": {},
   "outputs": [
    {
     "data": {
      "text/plain": [
       "array([0, 0, 0, 0, 0, 0, 0, 0, 0, 0, 0, 0, 0, 0, 0, 0, 1, 1, 1, 1, 1, 1,\n",
       "       1, 1, 1, 1, 1, 1, 1, 1, 1, 1, 1, 1, 1, 1, 1, 1, 1, 1, 2, 2, 2, 2,\n",
       "       2, 2, 2, 2, 2, 2, 2, 2, 2, 2, 3, 3, 3, 3, 3, 3, 3, 3, 3, 3, 3, 3,\n",
       "       3], dtype=int64)"
      ]
     },
     "execution_count": 7,
     "metadata": {},
     "output_type": "execute_result"
    }
   ],
   "source": [
    "# Step 2: Label encoder\n",
    "y = model_joueur_classique.label_encoder(y)\n",
    "y"
   ]
  },
  {
   "cell_type": "code",
   "execution_count": 8,
   "metadata": {},
   "outputs": [
    {
     "data": {
      "text/plain": [
       "(53, 37500)"
      ]
     },
     "execution_count": 8,
     "metadata": {},
     "output_type": "execute_result"
    }
   ],
   "source": [
    "# Step 3: Split the data\n",
    "X_train, y_train, X_test, y_test = model_joueur_classique.split_train_test(list_videos, y)\n",
    "X_train.shape"
   ]
  },
  {
   "cell_type": "code",
   "execution_count": 9,
   "metadata": {},
   "outputs": [],
   "source": [
    "# Step 4: Normalize the data\n",
    "X_train, X_test = model_joueur_classique.normalize_input(X_train, X_test)"
   ]
  },
  {
   "cell_type": "code",
   "execution_count": 10,
   "metadata": {},
   "outputs": [
    {
     "name": "stdout",
     "output_type": "stream",
     "text": [
      "Epoch 1/70\n",
      "1/2 [==============>...............] - ETA: 0s - loss: 1.6330 - accuracy: 0.0000e+00\n",
      "Epoch 1: val_loss improved from inf to 1.29607, saving model to checkpoints\\Weights-001--1.29607.hdf5\n",
      "2/2 [==============================] - 1s 160ms/step - loss: 1.6056 - accuracy: 0.0000e+00 - val_loss: 1.2961 - val_accuracy: 0.6364\n",
      "Epoch 2/70\n",
      "1/2 [==============>...............] - ETA: 0s - loss: 1.4207 - accuracy: 0.2500\n",
      "Epoch 2: val_loss did not improve from 1.29607\n",
      "2/2 [==============================] - 0s 34ms/step - loss: 1.4040 - accuracy: 0.2619 - val_loss: 1.6097 - val_accuracy: 0.0000e+00\n",
      "Epoch 3/70\n",
      "1/2 [==============>...............] - ETA: 0s - loss: 1.2584 - accuracy: 0.7500\n",
      "Epoch 3: val_loss did not improve from 1.29607\n",
      "2/2 [==============================] - 0s 32ms/step - loss: 1.2484 - accuracy: 0.7619 - val_loss: 1.9413 - val_accuracy: 0.0000e+00\n",
      "Epoch 4/70\n",
      "1/2 [==============>...............] - ETA: 0s - loss: 1.1321 - accuracy: 0.6562\n",
      "Epoch 4: val_loss did not improve from 1.29607\n",
      "2/2 [==============================] - 0s 40ms/step - loss: 1.1249 - accuracy: 0.6190 - val_loss: 2.2892 - val_accuracy: 0.0000e+00\n",
      "Epoch 5/70\n",
      "1/2 [==============>...............] - ETA: 0s - loss: 1.0214 - accuracy: 0.6562\n",
      "Epoch 5: val_loss did not improve from 1.29607\n",
      "2/2 [==============================] - 0s 46ms/step - loss: 1.0290 - accuracy: 0.5952 - val_loss: 2.6437 - val_accuracy: 0.0000e+00\n",
      "Epoch 6/70\n",
      "1/2 [==============>...............] - ETA: 0s - loss: 0.9692 - accuracy: 0.5000\n",
      "Epoch 6: val_loss did not improve from 1.29607\n",
      "2/2 [==============================] - 0s 31ms/step - loss: 0.9457 - accuracy: 0.5476 - val_loss: 2.9623 - val_accuracy: 0.0000e+00\n",
      "Epoch 7/70\n",
      "1/2 [==============>...............] - ETA: 0s - loss: 0.9224 - accuracy: 0.5312\n",
      "Epoch 7: val_loss did not improve from 1.29607\n",
      "2/2 [==============================] - 0s 32ms/step - loss: 0.8729 - accuracy: 0.5952 - val_loss: 3.2576 - val_accuracy: 0.0000e+00\n",
      "Epoch 8/70\n",
      "1/2 [==============>...............] - ETA: 0s - loss: 0.8094 - accuracy: 0.6250\n",
      "Epoch 8: val_loss did not improve from 1.29607\n",
      "2/2 [==============================] - 0s 30ms/step - loss: 0.7964 - accuracy: 0.6190 - val_loss: 3.5192 - val_accuracy: 0.0000e+00\n",
      "Epoch 9/70\n",
      "1/2 [==============>...............] - ETA: 0s - loss: 0.7422 - accuracy: 0.6562\n",
      "Epoch 9: val_loss did not improve from 1.29607\n",
      "2/2 [==============================] - 0s 31ms/step - loss: 0.7196 - accuracy: 0.6905 - val_loss: 3.7487 - val_accuracy: 0.0000e+00\n",
      "Epoch 10/70\n",
      "1/2 [==============>...............] - ETA: 0s - loss: 0.6516 - accuracy: 0.8125\n",
      "Epoch 10: val_loss did not improve from 1.29607\n",
      "2/2 [==============================] - 0s 86ms/step - loss: 0.6388 - accuracy: 0.8333 - val_loss: 3.9389 - val_accuracy: 0.0000e+00\n",
      "Epoch 11/70\n",
      "1/2 [==============>...............] - ETA: 0s - loss: 0.5529 - accuracy: 0.9375\n",
      "Epoch 11: val_loss did not improve from 1.29607\n",
      "2/2 [==============================] - 0s 30ms/step - loss: 0.5519 - accuracy: 0.9524 - val_loss: 4.0997 - val_accuracy: 0.0000e+00\n",
      "Epoch 12/70\n",
      "1/2 [==============>...............] - ETA: 0s - loss: 0.4707 - accuracy: 1.0000\n",
      "Epoch 12: val_loss did not improve from 1.29607\n",
      "2/2 [==============================] - 0s 32ms/step - loss: 0.4686 - accuracy: 1.0000 - val_loss: 4.2639 - val_accuracy: 0.0000e+00\n",
      "Epoch 13/70\n",
      "1/2 [==============>...............] - ETA: 0s - loss: 0.4042 - accuracy: 1.0000\n",
      "Epoch 13: val_loss did not improve from 1.29607\n",
      "2/2 [==============================] - 0s 31ms/step - loss: 0.3903 - accuracy: 1.0000 - val_loss: 4.4437 - val_accuracy: 0.0000e+00\n",
      "Epoch 14/70\n",
      "1/2 [==============>...............] - ETA: 0s - loss: 0.3407 - accuracy: 1.0000\n",
      "Epoch 14: val_loss did not improve from 1.29607\n",
      "2/2 [==============================] - 0s 32ms/step - loss: 0.3258 - accuracy: 1.0000 - val_loss: 4.6144 - val_accuracy: 0.0000e+00\n",
      "Epoch 15/70\n",
      "1/2 [==============>...............] - ETA: 0s - loss: 0.2721 - accuracy: 1.0000\n",
      "Epoch 15: val_loss did not improve from 1.29607\n",
      "2/2 [==============================] - 0s 32ms/step - loss: 0.2683 - accuracy: 1.0000 - val_loss: 4.7706 - val_accuracy: 0.0000e+00\n",
      "Epoch 16/70\n",
      "1/2 [==============>...............] - ETA: 0s - loss: 0.2240 - accuracy: 1.0000\n",
      "Epoch 16: val_loss did not improve from 1.29607\n",
      "2/2 [==============================] - 0s 28ms/step - loss: 0.2161 - accuracy: 1.0000 - val_loss: 4.9297 - val_accuracy: 0.0000e+00\n",
      "Epoch 17/70\n",
      "1/2 [==============>...............] - ETA: 0s - loss: 0.1756 - accuracy: 1.0000\n",
      "Epoch 17: val_loss did not improve from 1.29607\n",
      "2/2 [==============================] - 0s 30ms/step - loss: 0.1737 - accuracy: 1.0000 - val_loss: 5.1038 - val_accuracy: 0.0000e+00\n",
      "Epoch 18/70\n",
      "1/2 [==============>...............] - ETA: 0s - loss: 0.1400 - accuracy: 1.0000\n",
      "Epoch 18: val_loss did not improve from 1.29607\n",
      "2/2 [==============================] - 0s 29ms/step - loss: 0.1377 - accuracy: 1.0000 - val_loss: 5.2602 - val_accuracy: 0.0000e+00\n",
      "Epoch 19/70\n",
      "1/2 [==============>...............] - ETA: 0s - loss: 0.1135 - accuracy: 1.0000\n",
      "Epoch 19: val_loss did not improve from 1.29607\n",
      "2/2 [==============================] - 0s 37ms/step - loss: 0.1074 - accuracy: 1.0000 - val_loss: 5.3866 - val_accuracy: 0.0000e+00\n",
      "Epoch 20/70\n",
      "1/2 [==============>...............] - ETA: 0s - loss: 0.0835 - accuracy: 1.0000\n",
      "Epoch 20: val_loss did not improve from 1.29607\n",
      "2/2 [==============================] - 0s 32ms/step - loss: 0.0831 - accuracy: 1.0000 - val_loss: 5.4983 - val_accuracy: 0.0000e+00\n",
      "Epoch 21/70\n",
      "1/2 [==============>...............] - ETA: 0s - loss: 0.0669 - accuracy: 1.0000\n",
      "Epoch 21: val_loss did not improve from 1.29607\n",
      "2/2 [==============================] - 0s 28ms/step - loss: 0.0652 - accuracy: 1.0000 - val_loss: 5.6066 - val_accuracy: 0.0000e+00\n",
      "Epoch 22/70\n",
      "1/2 [==============>...............] - ETA: 0s - loss: 0.0553 - accuracy: 1.0000\n",
      "Epoch 22: val_loss did not improve from 1.29607\n",
      "2/2 [==============================] - 0s 33ms/step - loss: 0.0515 - accuracy: 1.0000 - val_loss: 5.7129 - val_accuracy: 0.0000e+00\n",
      "Epoch 23/70\n",
      "1/2 [==============>...............] - ETA: 0s - loss: 0.0412 - accuracy: 1.0000\n",
      "Epoch 23: val_loss did not improve from 1.29607\n",
      "2/2 [==============================] - 0s 31ms/step - loss: 0.0404 - accuracy: 1.0000 - val_loss: 5.8102 - val_accuracy: 0.0000e+00\n",
      "Epoch 24/70\n",
      "1/2 [==============>...............] - ETA: 0s - loss: 0.0344 - accuracy: 1.0000\n",
      "Epoch 24: val_loss did not improve from 1.29607\n",
      "2/2 [==============================] - 0s 33ms/step - loss: 0.0324 - accuracy: 1.0000 - val_loss: 5.9018 - val_accuracy: 0.0000e+00\n",
      "Epoch 25/70\n",
      "1/2 [==============>...............] - ETA: 0s - loss: 0.0259 - accuracy: 1.0000\n",
      "Epoch 25: val_loss did not improve from 1.29607\n",
      "2/2 [==============================] - 0s 31ms/step - loss: 0.0261 - accuracy: 1.0000 - val_loss: 5.9872 - val_accuracy: 0.0000e+00\n",
      "Epoch 26/70\n",
      "1/2 [==============>...............] - ETA: 0s - loss: 0.0220 - accuracy: 1.0000\n",
      "Epoch 26: val_loss did not improve from 1.29607\n",
      "2/2 [==============================] - 0s 44ms/step - loss: 0.0215 - accuracy: 1.0000 - val_loss: 6.0665 - val_accuracy: 0.0000e+00\n",
      "Epoch 27/70\n",
      "1/2 [==============>...............] - ETA: 0s - loss: 0.0185 - accuracy: 1.0000\n",
      "Epoch 27: val_loss did not improve from 1.29607\n",
      "2/2 [==============================] - 0s 40ms/step - loss: 0.0179 - accuracy: 1.0000 - val_loss: 6.1421 - val_accuracy: 0.0000e+00\n",
      "Epoch 28/70\n",
      "1/2 [==============>...............] - ETA: 0s - loss: 0.0154 - accuracy: 1.0000\n",
      "Epoch 28: val_loss did not improve from 1.29607\n",
      "2/2 [==============================] - 0s 45ms/step - loss: 0.0152 - accuracy: 1.0000 - val_loss: 6.2146 - val_accuracy: 0.0000e+00\n",
      "Epoch 29/70\n",
      "1/2 [==============>...............] - ETA: 0s - loss: 0.0135 - accuracy: 1.0000\n",
      "Epoch 29: val_loss did not improve from 1.29607\n",
      "2/2 [==============================] - 0s 34ms/step - loss: 0.0130 - accuracy: 1.0000 - val_loss: 6.2846 - val_accuracy: 0.0000e+00\n",
      "Epoch 30/70\n",
      "1/2 [==============>...............] - ETA: 0s - loss: 0.0118 - accuracy: 1.0000\n",
      "Epoch 30: val_loss did not improve from 1.29607\n",
      "2/2 [==============================] - 0s 40ms/step - loss: 0.0113 - accuracy: 1.0000 - val_loss: 6.3535 - val_accuracy: 0.0000e+00\n",
      "Epoch 31/70\n",
      "1/2 [==============>...............] - ETA: 0s - loss: 0.0102 - accuracy: 1.0000\n",
      "Epoch 31: val_loss did not improve from 1.29607\n",
      "2/2 [==============================] - 0s 34ms/step - loss: 0.0099 - accuracy: 1.0000 - val_loss: 6.4252 - val_accuracy: 0.0000e+00\n",
      "Epoch 32/70\n",
      "1/2 [==============>...............] - ETA: 0s - loss: 0.0092 - accuracy: 1.0000\n",
      "Epoch 32: val_loss did not improve from 1.29607\n",
      "2/2 [==============================] - 0s 37ms/step - loss: 0.0088 - accuracy: 1.0000 - val_loss: 6.4952 - val_accuracy: 0.0000e+00\n",
      "Epoch 33/70\n",
      "1/2 [==============>...............] - ETA: 0s - loss: 0.0079 - accuracy: 1.0000\n",
      "Epoch 33: val_loss did not improve from 1.29607\n",
      "2/2 [==============================] - 0s 33ms/step - loss: 0.0079 - accuracy: 1.0000 - val_loss: 6.5634 - val_accuracy: 0.0000e+00\n",
      "Epoch 34/70\n",
      "1/2 [==============>...............] - ETA: 0s - loss: 0.0072 - accuracy: 1.0000\n",
      "Epoch 34: val_loss did not improve from 1.29607\n",
      "2/2 [==============================] - 0s 31ms/step - loss: 0.0072 - accuracy: 1.0000 - val_loss: 6.6250 - val_accuracy: 0.0000e+00\n",
      "Epoch 35/70\n",
      "1/2 [==============>...............] - ETA: 0s - loss: 0.0065 - accuracy: 1.0000\n",
      "Epoch 35: val_loss did not improve from 1.29607\n",
      "2/2 [==============================] - 0s 34ms/step - loss: 0.0065 - accuracy: 1.0000 - val_loss: 6.6802 - val_accuracy: 0.0000e+00\n",
      "Epoch 36/70\n",
      "1/2 [==============>...............] - ETA: 0s - loss: 0.0060 - accuracy: 1.0000\n",
      "Epoch 36: val_loss did not improve from 1.29607\n",
      "2/2 [==============================] - 0s 31ms/step - loss: 0.0060 - accuracy: 1.0000 - val_loss: 6.7316 - val_accuracy: 0.0000e+00\n",
      "Epoch 37/70\n",
      "1/2 [==============>...............] - ETA: 0s - loss: 0.0054 - accuracy: 1.0000\n",
      "Epoch 37: val_loss did not improve from 1.29607\n",
      "2/2 [==============================] - 0s 29ms/step - loss: 0.0055 - accuracy: 1.0000 - val_loss: 6.7786 - val_accuracy: 0.0000e+00\n",
      "Epoch 38/70\n",
      "1/2 [==============>...............] - ETA: 0s - loss: 0.0051 - accuracy: 1.0000\n",
      "Epoch 38: val_loss did not improve from 1.29607\n",
      "2/2 [==============================] - 0s 31ms/step - loss: 0.0051 - accuracy: 1.0000 - val_loss: 6.8187 - val_accuracy: 0.0000e+00\n",
      "Epoch 39/70\n",
      "1/2 [==============>...............] - ETA: 0s - loss: 0.0048 - accuracy: 1.0000\n",
      "Epoch 39: val_loss did not improve from 1.29607\n",
      "2/2 [==============================] - 0s 31ms/step - loss: 0.0047 - accuracy: 1.0000 - val_loss: 6.8568 - val_accuracy: 0.0000e+00\n",
      "Epoch 40/70\n",
      "1/2 [==============>...............] - ETA: 0s - loss: 0.0045 - accuracy: 1.0000\n",
      "Epoch 40: val_loss did not improve from 1.29607\n",
      "2/2 [==============================] - 0s 30ms/step - loss: 0.0044 - accuracy: 1.0000 - val_loss: 6.8945 - val_accuracy: 0.0000e+00\n",
      "Epoch 41/70\n",
      "1/2 [==============>...............] - ETA: 0s - loss: 0.0040 - accuracy: 1.0000\n",
      "Epoch 41: val_loss did not improve from 1.29607\n",
      "2/2 [==============================] - 0s 28ms/step - loss: 0.0041 - accuracy: 1.0000 - val_loss: 6.9296 - val_accuracy: 0.0000e+00\n",
      "Epoch 42/70\n",
      "1/2 [==============>...............] - ETA: 0s - loss: 0.0039 - accuracy: 1.0000\n",
      "Epoch 42: val_loss did not improve from 1.29607\n",
      "2/2 [==============================] - 0s 29ms/step - loss: 0.0039 - accuracy: 1.0000 - val_loss: 6.9624 - val_accuracy: 0.0000e+00\n",
      "Epoch 43/70\n",
      "1/2 [==============>...............] - ETA: 0s - loss: 0.0037 - accuracy: 1.0000\n",
      "Epoch 43: val_loss did not improve from 1.29607\n",
      "2/2 [==============================] - 0s 29ms/step - loss: 0.0037 - accuracy: 1.0000 - val_loss: 6.9951 - val_accuracy: 0.0000e+00\n",
      "Epoch 44/70\n",
      "1/2 [==============>...............] - ETA: 0s - loss: 0.0036 - accuracy: 1.0000\n",
      "Epoch 44: val_loss did not improve from 1.29607\n",
      "2/2 [==============================] - 0s 35ms/step - loss: 0.0035 - accuracy: 1.0000 - val_loss: 7.0267 - val_accuracy: 0.0000e+00\n",
      "Epoch 45/70\n",
      "1/2 [==============>...............] - ETA: 0s - loss: 0.0033 - accuracy: 1.0000\n",
      "Epoch 45: val_loss did not improve from 1.29607\n",
      "2/2 [==============================] - 0s 37ms/step - loss: 0.0033 - accuracy: 1.0000 - val_loss: 7.0571 - val_accuracy: 0.0000e+00\n",
      "Epoch 46/70\n",
      "1/2 [==============>...............] - ETA: 0s - loss: 0.0031 - accuracy: 1.0000\n",
      "Epoch 46: val_loss did not improve from 1.29607\n",
      "2/2 [==============================] - 0s 31ms/step - loss: 0.0031 - accuracy: 1.0000 - val_loss: 7.0858 - val_accuracy: 0.0000e+00\n",
      "Epoch 47/70\n",
      "1/2 [==============>...............] - ETA: 0s - loss: 0.0030 - accuracy: 1.0000\n",
      "Epoch 47: val_loss did not improve from 1.29607\n",
      "2/2 [==============================] - 0s 32ms/step - loss: 0.0030 - accuracy: 1.0000 - val_loss: 7.1143 - val_accuracy: 0.0000e+00\n",
      "Epoch 48/70\n",
      "1/2 [==============>...............] - ETA: 0s - loss: 0.0029 - accuracy: 1.0000\n",
      "Epoch 48: val_loss did not improve from 1.29607\n",
      "2/2 [==============================] - 0s 32ms/step - loss: 0.0028 - accuracy: 1.0000 - val_loss: 7.1426 - val_accuracy: 0.0000e+00\n",
      "Epoch 49/70\n",
      "1/2 [==============>...............] - ETA: 0s - loss: 0.0027 - accuracy: 1.0000\n",
      "Epoch 49: val_loss did not improve from 1.29607\n",
      "2/2 [==============================] - 0s 34ms/step - loss: 0.0027 - accuracy: 1.0000 - val_loss: 7.1701 - val_accuracy: 0.0000e+00\n",
      "Epoch 50/70\n",
      "1/2 [==============>...............] - ETA: 0s - loss: 0.0026 - accuracy: 1.0000\n",
      "Epoch 50: val_loss did not improve from 1.29607\n",
      "2/2 [==============================] - 0s 33ms/step - loss: 0.0026 - accuracy: 1.0000 - val_loss: 7.1961 - val_accuracy: 0.0000e+00\n",
      "Epoch 51/70\n",
      "1/2 [==============>...............] - ETA: 0s - loss: 0.0025 - accuracy: 1.0000\n",
      "Epoch 51: val_loss did not improve from 1.29607\n",
      "2/2 [==============================] - 0s 31ms/step - loss: 0.0025 - accuracy: 1.0000 - val_loss: 7.2191 - val_accuracy: 0.0000e+00\n",
      "Epoch 52/70\n",
      "1/2 [==============>...............] - ETA: 0s - loss: 0.0024 - accuracy: 1.0000\n",
      "Epoch 52: val_loss did not improve from 1.29607\n",
      "2/2 [==============================] - 0s 28ms/step - loss: 0.0024 - accuracy: 1.0000 - val_loss: 7.2411 - val_accuracy: 0.0000e+00\n",
      "Epoch 53/70\n",
      "1/2 [==============>...............] - ETA: 0s - loss: 0.0023 - accuracy: 1.0000\n",
      "Epoch 53: val_loss did not improve from 1.29607\n",
      "2/2 [==============================] - 0s 31ms/step - loss: 0.0023 - accuracy: 1.0000 - val_loss: 7.2638 - val_accuracy: 0.0000e+00\n",
      "Epoch 54/70\n",
      "1/2 [==============>...............] - ETA: 0s - loss: 0.0022 - accuracy: 1.0000\n",
      "Epoch 54: val_loss did not improve from 1.29607\n",
      "2/2 [==============================] - 0s 27ms/step - loss: 0.0022 - accuracy: 1.0000 - val_loss: 7.2865 - val_accuracy: 0.0000e+00\n",
      "Epoch 55/70\n",
      "1/2 [==============>...............] - ETA: 0s - loss: 0.0022 - accuracy: 1.0000\n",
      "Epoch 55: val_loss did not improve from 1.29607\n",
      "2/2 [==============================] - 0s 30ms/step - loss: 0.0021 - accuracy: 1.0000 - val_loss: 7.3099 - val_accuracy: 0.0000e+00\n",
      "Epoch 56/70\n",
      "1/2 [==============>...............] - ETA: 0s - loss: 0.0020 - accuracy: 1.0000\n",
      "Epoch 56: val_loss did not improve from 1.29607\n",
      "2/2 [==============================] - 0s 31ms/step - loss: 0.0020 - accuracy: 1.0000 - val_loss: 7.3331 - val_accuracy: 0.0000e+00\n",
      "Epoch 57/70\n",
      "1/2 [==============>...............] - ETA: 0s - loss: 0.0020 - accuracy: 1.0000\n",
      "Epoch 57: val_loss did not improve from 1.29607\n",
      "2/2 [==============================] - 0s 30ms/step - loss: 0.0020 - accuracy: 1.0000 - val_loss: 7.3565 - val_accuracy: 0.0000e+00\n",
      "Epoch 58/70\n",
      "1/2 [==============>...............] - ETA: 0s - loss: 0.0019 - accuracy: 1.0000\n",
      "Epoch 58: val_loss did not improve from 1.29607\n",
      "2/2 [==============================] - 0s 31ms/step - loss: 0.0019 - accuracy: 1.0000 - val_loss: 7.3806 - val_accuracy: 0.0000e+00\n",
      "Epoch 59/70\n",
      "1/2 [==============>...............] - ETA: 0s - loss: 0.0019 - accuracy: 1.0000\n",
      "Epoch 59: val_loss did not improve from 1.29607\n",
      "2/2 [==============================] - 0s 30ms/step - loss: 0.0018 - accuracy: 1.0000 - val_loss: 7.4045 - val_accuracy: 0.0000e+00\n",
      "Epoch 60/70\n",
      "1/2 [==============>...............] - ETA: 0s - loss: 0.0018 - accuracy: 1.0000\n",
      "Epoch 60: val_loss did not improve from 1.29607\n",
      "2/2 [==============================] - 0s 29ms/step - loss: 0.0018 - accuracy: 1.0000 - val_loss: 7.4277 - val_accuracy: 0.0000e+00\n",
      "Epoch 61/70\n",
      "1/2 [==============>...............] - ETA: 0s - loss: 0.0017 - accuracy: 1.0000\n",
      "Epoch 61: val_loss did not improve from 1.29607\n",
      "2/2 [==============================] - 0s 29ms/step - loss: 0.0017 - accuracy: 1.0000 - val_loss: 7.4508 - val_accuracy: 0.0000e+00\n",
      "Epoch 62/70\n",
      "1/2 [==============>...............] - ETA: 0s - loss: 0.0017 - accuracy: 1.0000\n",
      "Epoch 62: val_loss did not improve from 1.29607\n",
      "2/2 [==============================] - 0s 30ms/step - loss: 0.0016 - accuracy: 1.0000 - val_loss: 7.4731 - val_accuracy: 0.0000e+00\n",
      "Epoch 63/70\n",
      "1/2 [==============>...............] - ETA: 0s - loss: 0.0016 - accuracy: 1.0000\n",
      "Epoch 63: val_loss did not improve from 1.29607\n",
      "2/2 [==============================] - 0s 29ms/step - loss: 0.0016 - accuracy: 1.0000 - val_loss: 7.4945 - val_accuracy: 0.0000e+00\n",
      "Epoch 64/70\n",
      "1/2 [==============>...............] - ETA: 0s - loss: 0.0016 - accuracy: 1.0000\n",
      "Epoch 64: val_loss did not improve from 1.29607\n",
      "2/2 [==============================] - 0s 28ms/step - loss: 0.0015 - accuracy: 1.0000 - val_loss: 7.5155 - val_accuracy: 0.0000e+00\n",
      "Epoch 65/70\n",
      "1/2 [==============>...............] - ETA: 0s - loss: 0.0015 - accuracy: 1.0000\n",
      "Epoch 65: val_loss did not improve from 1.29607\n",
      "2/2 [==============================] - 0s 30ms/step - loss: 0.0015 - accuracy: 1.0000 - val_loss: 7.5358 - val_accuracy: 0.0000e+00\n",
      "Epoch 66/70\n",
      "1/2 [==============>...............] - ETA: 0s - loss: 0.0015 - accuracy: 1.0000\n",
      "Epoch 66: val_loss did not improve from 1.29607\n",
      "2/2 [==============================] - 0s 25ms/step - loss: 0.0014 - accuracy: 1.0000 - val_loss: 7.5557 - val_accuracy: 0.0000e+00\n",
      "Epoch 67/70\n",
      "1/2 [==============>...............] - ETA: 0s - loss: 0.0014 - accuracy: 1.0000\n",
      "Epoch 67: val_loss did not improve from 1.29607\n",
      "2/2 [==============================] - 0s 26ms/step - loss: 0.0014 - accuracy: 1.0000 - val_loss: 7.5753 - val_accuracy: 0.0000e+00\n",
      "Epoch 68/70\n",
      "1/2 [==============>...............] - ETA: 0s - loss: 0.0014 - accuracy: 1.0000\n",
      "Epoch 68: val_loss did not improve from 1.29607\n",
      "2/2 [==============================] - 0s 30ms/step - loss: 0.0014 - accuracy: 1.0000 - val_loss: 7.5942 - val_accuracy: 0.0000e+00\n",
      "Epoch 69/70\n",
      "1/2 [==============>...............] - ETA: 0s - loss: 0.0013 - accuracy: 1.0000\n",
      "Epoch 69: val_loss did not improve from 1.29607\n",
      "2/2 [==============================] - 0s 28ms/step - loss: 0.0013 - accuracy: 1.0000 - val_loss: 7.6135 - val_accuracy: 0.0000e+00\n",
      "Epoch 70/70\n",
      "1/2 [==============>...............] - ETA: 0s - loss: 0.0013 - accuracy: 1.0000\n",
      "Epoch 70: val_loss did not improve from 1.29607\n",
      "2/2 [==============================] - 0s 28ms/step - loss: 0.0013 - accuracy: 1.0000 - val_loss: 7.6332 - val_accuracy: 0.0000e+00\n"
     ]
    }
   ],
   "source": [
    "# Step 5: Train the model\n",
    "history = model_joueur_classique.train(X_train, y_train)"
   ]
  },
  {
   "cell_type": "code",
   "execution_count": 11,
   "metadata": {},
   "outputs": [
    {
     "name": "stdout",
     "output_type": "stream",
     "text": [
      "1/1 [==============================] - 0s 17ms/step - loss: 2.1769 - accuracy: 0.5714\n",
      "Loss:  2.1769444942474365\n",
      "Accuracy:  0.5714285969734192\n"
     ]
    }
   ],
   "source": [
    "# Step 6: evaluate\n",
    "loss, accuracy = model_joueur_classique.evaluate(X_test, y_test)"
   ]
  },
  {
   "cell_type": "code",
   "execution_count": 25,
   "metadata": {},
   "outputs": [
    {
     "data": {
      "text/plain": [
       "array([[0., 0., 0., ..., 0., 0., 0.],\n",
       "       [0., 0., 0., ..., 0., 0., 0.],\n",
       "       [0., 0., 0., ..., 0., 0., 0.],\n",
       "       ...,\n",
       "       [0., 0., 0., ..., 0., 0., 0.],\n",
       "       [0., 0., 0., ..., 0., 0., 0.],\n",
       "       [0., 0., 0., ..., 0., 0., 0.]])"
      ]
     },
     "execution_count": 25,
     "metadata": {},
     "output_type": "execute_result"
    }
   ],
   "source": [
    "X_test"
   ]
  },
  {
   "cell_type": "code",
   "execution_count": 28,
   "metadata": {},
   "outputs": [
    {
     "data": {
      "text/plain": [
       "array([[0., 0., 0., ..., 0., 0., 0.]])"
      ]
     },
     "execution_count": 28,
     "metadata": {},
     "output_type": "execute_result"
    }
   ],
   "source": [
    "example_input = np.reshape(X_test[0], (1, 50*50*15))\n",
    "example_input"
   ]
  },
  {
   "cell_type": "code",
   "execution_count": 29,
   "metadata": {},
   "outputs": [
    {
     "name": "stdout",
     "output_type": "stream",
     "text": [
      "1/1 [==============================] - 0s 16ms/step\n"
     ]
    },
    {
     "data": {
      "text/plain": [
       "array([0], dtype=int64)"
      ]
     },
     "execution_count": 29,
     "metadata": {},
     "output_type": "execute_result"
    }
   ],
   "source": [
    "# Step 7: predict\n",
    "y_pred = model_joueur_classique.predict(example_input)\n",
    "y_pred"
   ]
  },
  {
   "cell_type": "code",
   "execution_count": 32,
   "metadata": {},
   "outputs": [],
   "source": [
    "# Final step: save the model\n",
    "model_joueur_classique.save_model('saved_models/model_joueur_haut.h5')"
   ]
  }
 ],
 "metadata": {
  "kernelspec": {
   "display_name": "base",
   "language": "python",
   "name": "python3"
  },
  "language_info": {
   "codemirror_mode": {
    "name": "ipython",
    "version": 3
   },
   "file_extension": ".py",
   "mimetype": "text/x-python",
   "name": "python",
   "nbconvert_exporter": "python",
   "pygments_lexer": "ipython3",
   "version": "3.9.13"
  },
  "orig_nbformat": 4
 },
 "nbformat": 4,
 "nbformat_minor": 2
}
