{
 "cells": [
  {
   "cell_type": "code",
   "execution_count": 1,
   "metadata": {},
   "outputs": [],
   "source": [
    "from smart.model import ModelJoueurClassique\n",
    "import tensorflow as tf\n",
    "from keras.models import Sequential\n",
    "from keras.layers import Conv2D, MaxPooling2D, Flatten, Dense, BatchNormalization, Dropout\n",
    "import numpy as np"
   ]
  },
  {
   "cell_type": "code",
   "execution_count": 2,
   "metadata": {},
   "outputs": [],
   "source": [
    "path_dataset = 'img/JBas'"
   ]
  },
  {
   "cell_type": "code",
   "execution_count": 3,
   "metadata": {},
   "outputs": [],
   "source": [
    "layers = [               \n",
    "    tf.keras.Input(shape = 50*50*15), # 50*50 * 15 = 37500\n",
    "    Dense(units=16, activation=\"relu\"),\n",
    "    Dense(units=32, activation=\"relu\"),\n",
    "    Dense(units=64, activation=\"sigmoid\"),\n",
    "    Dense(units=128, activation=\"relu\"),\n",
    "    Dense(units=4, activation=\"softmax\")\n",
    "]"
   ]
  },
  {
   "cell_type": "code",
   "execution_count": 4,
   "metadata": {},
   "outputs": [
    {
     "name": "stdout",
     "output_type": "stream",
     "text": [
      "Model: \"sequential\"\n",
      "_________________________________________________________________\n",
      " Layer (type)                Output Shape              Param #   \n",
      "=================================================================\n",
      " dense (Dense)               (None, 16)                600016    \n",
      "                                                                 \n",
      " dense_1 (Dense)             (None, 32)                544       \n",
      "                                                                 \n",
      " dense_2 (Dense)             (None, 64)                2112      \n",
      "                                                                 \n",
      " dense_3 (Dense)             (None, 128)               8320      \n",
      "                                                                 \n",
      " dense_4 (Dense)             (None, 4)                 516       \n",
      "                                                                 \n",
      "=================================================================\n",
      "Total params: 611,508\n",
      "Trainable params: 611,508\n",
      "Non-trainable params: 0\n",
      "_________________________________________________________________\n"
     ]
    }
   ],
   "source": [
    "model_joueur_classique = ModelJoueurClassique.load_model_from_layers(layers)\n",
    "model_joueur_classique.summary_model"
   ]
  },
  {
   "cell_type": "code",
   "execution_count": 5,
   "metadata": {},
   "outputs": [],
   "source": [
    "# Step 1: Load the data\n",
    "list_videos, y = model_joueur_classique.analyse_sequence_frame(path_data_frame=path_dataset)"
   ]
  },
  {
   "cell_type": "code",
   "execution_count": 6,
   "metadata": {},
   "outputs": [
    {
     "data": {
      "text/plain": [
       "array([0, 0, 0, 0, 0, 0, 0, 0, 0, 0, 0, 0, 0, 0, 0, 0, 0, 0, 0, 0, 0, 0,\n",
       "       0, 0, 0, 0, 0, 0, 0, 0, 0, 0, 0, 0, 0, 0, 0, 0, 0, 0, 0, 0, 0, 0,\n",
       "       0, 0, 0, 0, 0, 0, 0, 0, 0, 0, 0, 0, 0, 0, 0, 0, 0, 0, 0, 0, 0, 0,\n",
       "       0, 0, 0, 0, 0, 0, 1, 1, 1, 1, 1, 1, 1, 1, 1, 1, 1, 1, 1, 1, 1, 1,\n",
       "       1, 1, 1, 1, 1, 1, 1, 1, 1, 1, 1, 1, 1, 1, 1, 1, 1, 1, 1, 1, 1, 1,\n",
       "       1, 1, 1, 1, 1, 1, 1, 1, 1, 1, 1, 1, 1, 1, 1, 1, 1, 1, 1, 1, 1, 1,\n",
       "       1, 1, 1, 1, 1, 1, 2, 2, 2, 2, 2, 2, 2, 2, 2, 2, 2, 2, 2, 2, 2, 2,\n",
       "       2, 2, 2, 2, 2, 2, 2, 2, 2, 2, 2, 2, 2, 2, 2, 2, 2, 2, 2, 2, 2, 2,\n",
       "       2, 2, 2, 2, 2, 2, 2, 2, 2, 2, 3, 3, 3, 3, 3, 3, 3, 3, 3, 3, 3, 3,\n",
       "       3, 3, 3, 3, 3, 3, 3, 3, 3, 3, 3, 3, 3, 3, 3, 3], dtype=int64)"
      ]
     },
     "execution_count": 6,
     "metadata": {},
     "output_type": "execute_result"
    }
   ],
   "source": [
    "# Step 2: Label encoder\n",
    "y = model_joueur_classique.label_encoder(y)\n",
    "y"
   ]
  },
  {
   "cell_type": "code",
   "execution_count": 7,
   "metadata": {},
   "outputs": [
    {
     "data": {
      "text/plain": [
       "(171, 37500)"
      ]
     },
     "execution_count": 7,
     "metadata": {},
     "output_type": "execute_result"
    }
   ],
   "source": [
    "# Step 3: Split the data\n",
    "X_train, y_train, X_test, y_test = model_joueur_classique.split_train_test(list_videos, y)\n",
    "X_train.shape"
   ]
  },
  {
   "cell_type": "code",
   "execution_count": 8,
   "metadata": {},
   "outputs": [],
   "source": [
    "# Step 4: Normalize the data\n",
    "X_train, X_test = model_joueur_classique.normalize_input(X_train, X_test)"
   ]
  },
  {
   "cell_type": "code",
   "execution_count": 11,
   "metadata": {},
   "outputs": [
    {
     "name": "stdout",
     "output_type": "stream",
     "text": [
      "Epoch 1/70\n",
      "1/5 [=====>........................] - ETA: 2s - loss: 4.9286e-04 - accuracy: 1.0000\n",
      "Epoch 1: val_loss improved from inf to 7.63678, saving model to checkpoints\\Weights-001--7.63678.hdf5\n",
      "5/5 [==============================] - 1s 45ms/step - loss: 4.1301e-04 - accuracy: 1.0000 - val_loss: 7.6368 - val_accuracy: 0.0857\n",
      "Epoch 2/70\n",
      "1/5 [=====>........................] - ETA: 0s - loss: 2.2721e-04 - accuracy: 1.0000\n",
      "Epoch 2: val_loss did not improve from 7.63678\n",
      "5/5 [==============================] - 0s 14ms/step - loss: 1.6267e-04 - accuracy: 1.0000 - val_loss: 8.7237 - val_accuracy: 0.0000e+00\n",
      "Epoch 3/70\n",
      "1/5 [=====>........................] - ETA: 0s - loss: 9.3913e-05 - accuracy: 1.0000\n",
      "Epoch 3: val_loss did not improve from 7.63678\n",
      "5/5 [==============================] - 0s 16ms/step - loss: 6.9015e-05 - accuracy: 1.0000 - val_loss: 9.1821 - val_accuracy: 0.0000e+00\n",
      "Epoch 4/70\n",
      "1/5 [=====>........................] - ETA: 0s - loss: 4.3432e-05 - accuracy: 1.0000\n",
      "Epoch 4: val_loss did not improve from 7.63678\n",
      "5/5 [==============================] - 0s 19ms/step - loss: 3.4239e-05 - accuracy: 1.0000 - val_loss: 9.0277 - val_accuracy: 0.0857\n",
      "Epoch 5/70\n",
      "2/5 [===========>..................] - ETA: 0s - loss: 2.2294e-05 - accuracy: 1.0000\n",
      "Epoch 5: val_loss did not improve from 7.63678\n",
      "5/5 [==============================] - 0s 35ms/step - loss: 1.9660e-05 - accuracy: 1.0000 - val_loss: 9.0840 - val_accuracy: 0.0857\n",
      "Epoch 6/70\n",
      "1/5 [=====>........................] - ETA: 0s - loss: 1.4353e-05 - accuracy: 1.0000\n",
      "Epoch 6: val_loss did not improve from 7.63678\n",
      "5/5 [==============================] - 0s 14ms/step - loss: 1.2799e-05 - accuracy: 1.0000 - val_loss: 9.3430 - val_accuracy: 0.0857\n",
      "Epoch 7/70\n",
      "1/5 [=====>........................] - ETA: 0s - loss: 9.9278e-06 - accuracy: 1.0000\n",
      "Epoch 7: val_loss did not improve from 7.63678\n",
      "5/5 [==============================] - 0s 14ms/step - loss: 9.1002e-06 - accuracy: 1.0000 - val_loss: 9.6526 - val_accuracy: 0.0571\n",
      "Epoch 8/70\n",
      "1/5 [=====>........................] - ETA: 0s - loss: 7.4841e-06 - accuracy: 1.0000\n",
      "Epoch 8: val_loss did not improve from 7.63678\n",
      "5/5 [==============================] - 0s 14ms/step - loss: 6.9781e-06 - accuracy: 1.0000 - val_loss: 9.9256 - val_accuracy: 0.0571\n",
      "Epoch 9/70\n",
      "1/5 [=====>........................] - ETA: 0s - loss: 6.3367e-06 - accuracy: 1.0000\n",
      "Epoch 9: val_loss did not improve from 7.63678\n",
      "5/5 [==============================] - 0s 14ms/step - loss: 5.6361e-06 - accuracy: 1.0000 - val_loss: 10.1261 - val_accuracy: 0.0571\n",
      "Epoch 10/70\n",
      "1/5 [=====>........................] - ETA: 0s - loss: 4.9658e-06 - accuracy: 1.0000\n",
      "Epoch 10: val_loss did not improve from 7.63678\n",
      "5/5 [==============================] - 0s 13ms/step - loss: 4.7368e-06 - accuracy: 1.0000 - val_loss: 10.2561 - val_accuracy: 0.0571\n",
      "Epoch 11/70\n",
      "1/5 [=====>........................] - ETA: 0s - loss: 4.4107e-06 - accuracy: 1.0000\n",
      "Epoch 11: val_loss did not improve from 7.63678\n",
      "5/5 [==============================] - 0s 14ms/step - loss: 4.0978e-06 - accuracy: 1.0000 - val_loss: 10.3057 - val_accuracy: 0.0571\n",
      "Epoch 12/70\n",
      "1/5 [=====>........................] - ETA: 0s - loss: 3.5800e-06 - accuracy: 1.0000\n",
      "Epoch 12: val_loss did not improve from 7.63678\n",
      "5/5 [==============================] - 0s 14ms/step - loss: 3.5771e-06 - accuracy: 1.0000 - val_loss: 10.3301 - val_accuracy: 0.0571\n",
      "Epoch 13/70\n",
      "1/5 [=====>........................] - ETA: 0s - loss: 3.6470e-06 - accuracy: 1.0000\n",
      "Epoch 13: val_loss did not improve from 7.63678\n",
      "5/5 [==============================] - 0s 14ms/step - loss: 3.1827e-06 - accuracy: 1.0000 - val_loss: 10.3356 - val_accuracy: 0.0571\n",
      "Epoch 14/70\n",
      "1/5 [=====>........................] - ETA: 0s - loss: 3.9078e-06 - accuracy: 1.0000\n",
      "Epoch 14: val_loss did not improve from 7.63678\n",
      "5/5 [==============================] - 0s 12ms/step - loss: 2.8724e-06 - accuracy: 1.0000 - val_loss: 10.3565 - val_accuracy: 0.0571\n",
      "Epoch 15/70\n",
      "1/5 [=====>........................] - ETA: 0s - loss: 2.4252e-06 - accuracy: 1.0000\n",
      "Epoch 15: val_loss did not improve from 7.63678\n",
      "5/5 [==============================] - 0s 11ms/step - loss: 2.5946e-06 - accuracy: 1.0000 - val_loss: 10.3780 - val_accuracy: 0.0571\n",
      "Epoch 16/70\n",
      "1/5 [=====>........................] - ETA: 0s - loss: 2.6561e-06 - accuracy: 1.0000\n",
      "Epoch 16: val_loss did not improve from 7.63678\n",
      "5/5 [==============================] - 0s 11ms/step - loss: 2.3754e-06 - accuracy: 1.0000 - val_loss: 10.3989 - val_accuracy: 0.0571\n",
      "Epoch 17/70\n",
      "1/5 [=====>........................] - ETA: 0s - loss: 1.9446e-06 - accuracy: 1.0000\n",
      "Epoch 17: val_loss did not improve from 7.63678\n",
      "5/5 [==============================] - 0s 12ms/step - loss: 2.1791e-06 - accuracy: 1.0000 - val_loss: 10.4306 - val_accuracy: 0.0571\n",
      "Epoch 18/70\n",
      "1/5 [=====>........................] - ETA: 0s - loss: 1.8850e-06 - accuracy: 1.0000\n",
      "Epoch 18: val_loss did not improve from 7.63678\n",
      "5/5 [==============================] - 0s 12ms/step - loss: 2.0213e-06 - accuracy: 1.0000 - val_loss: 10.4692 - val_accuracy: 0.0571\n",
      "Epoch 19/70\n",
      "1/5 [=====>........................] - ETA: 0s - loss: 1.9148e-06 - accuracy: 1.0000\n",
      "Epoch 19: val_loss did not improve from 7.63678\n",
      "5/5 [==============================] - 0s 14ms/step - loss: 1.8714e-06 - accuracy: 1.0000 - val_loss: 10.5104 - val_accuracy: 0.0571\n",
      "Epoch 20/70\n",
      "1/5 [=====>........................] - ETA: 0s - loss: 1.6727e-06 - accuracy: 1.0000\n",
      "Epoch 20: val_loss did not improve from 7.63678\n",
      "5/5 [==============================] - 0s 14ms/step - loss: 1.7391e-06 - accuracy: 1.0000 - val_loss: 10.5528 - val_accuracy: 0.0571\n",
      "Epoch 21/70\n",
      "1/5 [=====>........................] - ETA: 0s - loss: 1.4938e-06 - accuracy: 1.0000\n",
      "Epoch 21: val_loss did not improve from 7.63678\n",
      "5/5 [==============================] - 0s 13ms/step - loss: 1.6286e-06 - accuracy: 1.0000 - val_loss: 10.5828 - val_accuracy: 0.0571\n",
      "Epoch 22/70\n",
      "1/5 [=====>........................] - ETA: 0s - loss: 1.4342e-06 - accuracy: 1.0000\n",
      "Epoch 22: val_loss did not improve from 7.63678\n",
      "5/5 [==============================] - 0s 13ms/step - loss: 1.5278e-06 - accuracy: 1.0000 - val_loss: 10.6066 - val_accuracy: 0.0571\n",
      "Epoch 23/70\n",
      "1/5 [=====>........................] - ETA: 0s - loss: 1.2070e-06 - accuracy: 1.0000\n",
      "Epoch 23: val_loss did not improve from 7.63678\n",
      "5/5 [==============================] - 0s 15ms/step - loss: 1.4358e-06 - accuracy: 1.0000 - val_loss: 10.6313 - val_accuracy: 0.0571\n",
      "Epoch 24/70\n",
      "1/5 [=====>........................] - ETA: 0s - loss: 1.4864e-06 - accuracy: 1.0000\n",
      "Epoch 24: val_loss did not improve from 7.63678\n",
      "5/5 [==============================] - 0s 13ms/step - loss: 1.3437e-06 - accuracy: 1.0000 - val_loss: 10.6577 - val_accuracy: 0.0571\n",
      "Epoch 25/70\n",
      "1/5 [=====>........................] - ETA: 0s - loss: 1.5125e-06 - accuracy: 1.0000\n",
      "Epoch 25: val_loss did not improve from 7.63678\n",
      "5/5 [==============================] - 0s 13ms/step - loss: 1.2675e-06 - accuracy: 1.0000 - val_loss: 10.6836 - val_accuracy: 0.0571\n",
      "Epoch 26/70\n",
      "1/5 [=====>........................] - ETA: 0s - loss: 1.1958e-06 - accuracy: 1.0000\n",
      "Epoch 26: val_loss did not improve from 7.63678\n",
      "5/5 [==============================] - 0s 13ms/step - loss: 1.2009e-06 - accuracy: 1.0000 - val_loss: 10.7130 - val_accuracy: 0.0571\n",
      "Epoch 27/70\n",
      "1/5 [=====>........................] - ETA: 0s - loss: 1.2256e-06 - accuracy: 1.0000\n",
      "Epoch 27: val_loss did not improve from 7.63678\n",
      "5/5 [==============================] - 0s 12ms/step - loss: 1.1404e-06 - accuracy: 1.0000 - val_loss: 10.7407 - val_accuracy: 0.0571\n",
      "Epoch 28/70\n",
      "1/5 [=====>........................] - ETA: 0s - loss: 1.1474e-06 - accuracy: 1.0000\n",
      "Epoch 28: val_loss did not improve from 7.63678\n",
      "5/5 [==============================] - 0s 13ms/step - loss: 1.0764e-06 - accuracy: 1.0000 - val_loss: 10.7587 - val_accuracy: 0.0571\n",
      "Epoch 29/70\n",
      "1/5 [=====>........................] - ETA: 0s - loss: 9.9093e-07 - accuracy: 1.0000\n",
      "Epoch 29: val_loss did not improve from 7.63678\n",
      "5/5 [==============================] - 0s 12ms/step - loss: 1.0255e-06 - accuracy: 1.0000 - val_loss: 10.7739 - val_accuracy: 0.0571\n",
      "Epoch 30/70\n",
      "1/5 [=====>........................] - ETA: 0s - loss: 8.5309e-07 - accuracy: 1.0000\n",
      "Epoch 30: val_loss did not improve from 7.63678\n",
      "5/5 [==============================] - 0s 14ms/step - loss: 9.7383e-07 - accuracy: 1.0000 - val_loss: 10.7874 - val_accuracy: 0.0571\n",
      "Epoch 31/70\n",
      "1/5 [=====>........................] - ETA: 0s - loss: 8.7917e-07 - accuracy: 1.0000\n",
      "Epoch 31: val_loss did not improve from 7.63678\n",
      "5/5 [==============================] - 0s 13ms/step - loss: 9.3088e-07 - accuracy: 1.0000 - val_loss: 10.8020 - val_accuracy: 0.0571\n",
      "Epoch 32/70\n",
      "1/5 [=====>........................] - ETA: 0s - loss: 1.0543e-06 - accuracy: 1.0000\n",
      "Epoch 32: val_loss did not improve from 7.63678\n",
      "5/5 [==============================] - 0s 13ms/step - loss: 9.0108e-07 - accuracy: 1.0000 - val_loss: 10.8173 - val_accuracy: 0.0571\n",
      "Epoch 33/70\n",
      "1/5 [=====>........................] - ETA: 0s - loss: 8.8662e-07 - accuracy: 1.0000\n",
      "Epoch 33: val_loss did not improve from 7.63678\n",
      "5/5 [==============================] - 0s 13ms/step - loss: 8.5813e-07 - accuracy: 1.0000 - val_loss: 10.8403 - val_accuracy: 0.0571\n",
      "Epoch 34/70\n",
      "1/5 [=====>........................] - ETA: 0s - loss: 6.1095e-07 - accuracy: 1.0000\n",
      "Epoch 34: val_loss did not improve from 7.63678\n",
      "5/5 [==============================] - 0s 12ms/step - loss: 8.0291e-07 - accuracy: 1.0000 - val_loss: 10.8605 - val_accuracy: 0.0857\n",
      "Epoch 35/70\n",
      "1/5 [=====>........................] - ETA: 0s - loss: 8.1956e-07 - accuracy: 1.0000\n",
      "Epoch 35: val_loss did not improve from 7.63678\n",
      "5/5 [==============================] - 0s 12ms/step - loss: 7.7837e-07 - accuracy: 1.0000 - val_loss: 10.8681 - val_accuracy: 0.0857\n",
      "Epoch 36/70\n",
      "1/5 [=====>........................] - ETA: 0s - loss: 8.1584e-07 - accuracy: 1.0000\n",
      "Epoch 36: val_loss did not improve from 7.63678\n",
      "5/5 [==============================] - 0s 13ms/step - loss: 7.5207e-07 - accuracy: 1.0000 - val_loss: 10.8785 - val_accuracy: 0.0857\n",
      "Epoch 37/70\n",
      "1/5 [=====>........................] - ETA: 0s - loss: 7.4506e-07 - accuracy: 1.0000\n",
      "Epoch 37: val_loss did not improve from 7.63678\n",
      "5/5 [==============================] - 0s 13ms/step - loss: 7.0649e-07 - accuracy: 1.0000 - val_loss: 10.8924 - val_accuracy: 0.0857\n",
      "Epoch 38/70\n",
      "1/5 [=====>........................] - ETA: 0s - loss: 7.4133e-07 - accuracy: 1.0000\n",
      "Epoch 38: val_loss did not improve from 7.63678\n",
      "5/5 [==============================] - 0s 13ms/step - loss: 6.8195e-07 - accuracy: 1.0000 - val_loss: 10.9069 - val_accuracy: 0.0857\n",
      "Epoch 39/70\n",
      "1/5 [=====>........................] - ETA: 0s - loss: 5.9605e-07 - accuracy: 1.0000\n",
      "Epoch 39: val_loss did not improve from 7.63678\n",
      "5/5 [==============================] - 0s 14ms/step - loss: 6.5916e-07 - accuracy: 1.0000 - val_loss: 10.9292 - val_accuracy: 0.0857\n",
      "Epoch 40/70\n",
      "1/5 [=====>........................] - ETA: 0s - loss: 8.0466e-07 - accuracy: 1.0000\n",
      "Epoch 40: val_loss did not improve from 7.63678\n",
      "5/5 [==============================] - 0s 13ms/step - loss: 6.2673e-07 - accuracy: 1.0000 - val_loss: 10.9451 - val_accuracy: 0.0857\n",
      "Epoch 41/70\n",
      "1/5 [=====>........................] - ETA: 0s - loss: 5.1036e-07 - accuracy: 1.0000\n",
      "Epoch 41: val_loss did not improve from 7.63678\n",
      "5/5 [==============================] - 0s 12ms/step - loss: 6.0131e-07 - accuracy: 1.0000 - val_loss: 10.9620 - val_accuracy: 0.0857\n",
      "Epoch 42/70\n",
      "1/5 [=====>........................] - ETA: 0s - loss: 6.2957e-07 - accuracy: 1.0000\n",
      "Epoch 42: val_loss did not improve from 7.63678\n",
      "5/5 [==============================] - 0s 12ms/step - loss: 5.8553e-07 - accuracy: 1.0000 - val_loss: 10.9740 - val_accuracy: 0.0857\n",
      "Epoch 43/70\n",
      "1/5 [=====>........................] - ETA: 0s - loss: 5.5879e-07 - accuracy: 1.0000\n",
      "Epoch 43: val_loss did not improve from 7.63678\n",
      "5/5 [==============================] - 0s 12ms/step - loss: 5.7238e-07 - accuracy: 1.0000 - val_loss: 10.9801 - val_accuracy: 0.0857\n",
      "Epoch 44/70\n",
      "1/5 [=====>........................] - ETA: 0s - loss: 6.2957e-07 - accuracy: 1.0000\n",
      "Epoch 44: val_loss did not improve from 7.63678\n",
      "5/5 [==============================] - 0s 13ms/step - loss: 5.5047e-07 - accuracy: 1.0000 - val_loss: 10.9907 - val_accuracy: 0.0857\n",
      "Epoch 45/70\n",
      "1/5 [=====>........................] - ETA: 0s - loss: 7.0780e-07 - accuracy: 1.0000\n",
      "Epoch 45: val_loss did not improve from 7.63678\n",
      "5/5 [==============================] - 0s 12ms/step - loss: 5.2855e-07 - accuracy: 1.0000 - val_loss: 11.0073 - val_accuracy: 0.0857\n",
      "Epoch 46/70\n",
      "1/5 [=====>........................] - ETA: 0s - loss: 4.8056e-07 - accuracy: 1.0000\n",
      "Epoch 46: val_loss did not improve from 7.63678\n",
      "5/5 [==============================] - 0s 15ms/step - loss: 5.0927e-07 - accuracy: 1.0000 - val_loss: 11.0246 - val_accuracy: 0.0857\n",
      "Epoch 47/70\n",
      "1/5 [=====>........................] - ETA: 0s - loss: 6.3702e-07 - accuracy: 1.0000\n",
      "Epoch 47: val_loss did not improve from 7.63678\n",
      "5/5 [==============================] - 0s 12ms/step - loss: 4.9875e-07 - accuracy: 1.0000 - val_loss: 11.0314 - val_accuracy: 0.0857\n",
      "Epoch 48/70\n",
      "1/5 [=====>........................] - ETA: 0s - loss: 3.8370e-07 - accuracy: 1.0000\n",
      "Epoch 48: val_loss did not improve from 7.63678\n",
      "5/5 [==============================] - 0s 12ms/step - loss: 4.8122e-07 - accuracy: 1.0000 - val_loss: 11.0444 - val_accuracy: 0.0857\n",
      "Epoch 49/70\n",
      "1/5 [=====>........................] - ETA: 0s - loss: 5.4389e-07 - accuracy: 1.0000\n",
      "Epoch 49: val_loss did not improve from 7.63678\n",
      "5/5 [==============================] - 0s 13ms/step - loss: 4.7333e-07 - accuracy: 1.0000 - val_loss: 11.0531 - val_accuracy: 0.0857\n",
      "Epoch 50/70\n",
      "1/5 [=====>........................] - ETA: 0s - loss: 3.7253e-07 - accuracy: 1.0000\n",
      "Epoch 50: val_loss did not improve from 7.63678\n",
      "5/5 [==============================] - 0s 13ms/step - loss: 4.5054e-07 - accuracy: 1.0000 - val_loss: 11.0647 - val_accuracy: 0.0857\n",
      "Epoch 51/70\n",
      "1/5 [=====>........................] - ETA: 0s - loss: 4.6194e-07 - accuracy: 1.0000\n",
      "Epoch 51: val_loss did not improve from 7.63678\n",
      "5/5 [==============================] - 0s 14ms/step - loss: 4.2512e-07 - accuracy: 1.0000 - val_loss: 11.0781 - val_accuracy: 0.0857\n",
      "Epoch 52/70\n",
      "1/5 [=====>........................] - ETA: 0s - loss: 3.8370e-07 - accuracy: 1.0000\n",
      "Epoch 52: val_loss did not improve from 7.63678\n",
      "5/5 [==============================] - 0s 15ms/step - loss: 4.0496e-07 - accuracy: 1.0000 - val_loss: 11.0916 - val_accuracy: 0.0857\n",
      "Epoch 53/70\n",
      "1/5 [=====>........................] - ETA: 0s - loss: 3.3528e-07 - accuracy: 1.0000\n",
      "Epoch 53: val_loss did not improve from 7.63678\n",
      "5/5 [==============================] - 0s 15ms/step - loss: 3.9006e-07 - accuracy: 1.0000 - val_loss: 11.1037 - val_accuracy: 0.0857\n",
      "Epoch 54/70\n",
      "1/5 [=====>........................] - ETA: 0s - loss: 3.7625e-07 - accuracy: 1.0000\n",
      "Epoch 54: val_loss did not improve from 7.63678\n",
      "5/5 [==============================] - 0s 14ms/step - loss: 3.8305e-07 - accuracy: 1.0000 - val_loss: 11.1095 - val_accuracy: 0.0857\n",
      "Epoch 55/70\n",
      "1/5 [=====>........................] - ETA: 0s - loss: 4.0233e-07 - accuracy: 1.0000\n",
      "Epoch 55: val_loss did not improve from 7.63678\n",
      "5/5 [==============================] - 0s 14ms/step - loss: 3.8042e-07 - accuracy: 1.0000 - val_loss: 11.1198 - val_accuracy: 0.0857\n",
      "Epoch 56/70\n",
      "1/5 [=====>........................] - ETA: 0s - loss: 3.5763e-07 - accuracy: 1.0000\n",
      "Epoch 56: val_loss did not improve from 7.63678\n",
      "5/5 [==============================] - 0s 14ms/step - loss: 3.7779e-07 - accuracy: 1.0000 - val_loss: 11.1320 - val_accuracy: 0.0857\n",
      "Epoch 57/70\n",
      "1/5 [=====>........................] - ETA: 0s - loss: 3.5390e-07 - accuracy: 1.0000\n",
      "Epoch 57: val_loss did not improve from 7.63678\n",
      "5/5 [==============================] - 0s 15ms/step - loss: 3.7516e-07 - accuracy: 1.0000 - val_loss: 11.1430 - val_accuracy: 0.0857\n",
      "Epoch 58/70\n",
      "1/5 [=====>........................] - ETA: 0s - loss: 3.7253e-07 - accuracy: 1.0000\n",
      "Epoch 58: val_loss did not improve from 7.63678\n",
      "5/5 [==============================] - 0s 16ms/step - loss: 3.7078e-07 - accuracy: 1.0000 - val_loss: 11.1508 - val_accuracy: 0.0857\n",
      "Epoch 59/70\n",
      "1/5 [=====>........................] - ETA: 0s - loss: 3.2783e-07 - accuracy: 1.0000\n",
      "Epoch 59: val_loss did not improve from 7.63678\n",
      "5/5 [==============================] - 0s 16ms/step - loss: 3.5587e-07 - accuracy: 1.0000 - val_loss: 11.1648 - val_accuracy: 0.0857\n",
      "Epoch 60/70\n",
      "1/5 [=====>........................] - ETA: 0s - loss: 3.6880e-07 - accuracy: 1.0000\n",
      "Epoch 60: val_loss did not improve from 7.63678\n",
      "5/5 [==============================] - 0s 17ms/step - loss: 3.4886e-07 - accuracy: 1.0000 - val_loss: 11.1805 - val_accuracy: 0.0857\n",
      "Epoch 61/70\n",
      "1/5 [=====>........................] - ETA: 0s - loss: 3.7253e-07 - accuracy: 1.0000\n",
      "Epoch 61: val_loss did not improve from 7.63678\n",
      "5/5 [==============================] - 0s 16ms/step - loss: 3.4711e-07 - accuracy: 1.0000 - val_loss: 11.1950 - val_accuracy: 0.0857\n",
      "Epoch 62/70\n",
      "1/5 [=====>........................] - ETA: 0s - loss: 3.4273e-07 - accuracy: 1.0000\n",
      "Epoch 62: val_loss did not improve from 7.63678\n",
      "5/5 [==============================] - 0s 16ms/step - loss: 3.4448e-07 - accuracy: 1.0000 - val_loss: 11.2103 - val_accuracy: 0.0857\n",
      "Epoch 63/70\n",
      "1/5 [=====>........................] - ETA: 0s - loss: 3.3900e-07 - accuracy: 1.0000\n",
      "Epoch 63: val_loss did not improve from 7.63678\n",
      "5/5 [==============================] - 0s 15ms/step - loss: 3.4185e-07 - accuracy: 1.0000 - val_loss: 11.2219 - val_accuracy: 0.0857\n",
      "Epoch 64/70\n",
      "1/5 [=====>........................] - ETA: 0s - loss: 3.5763e-07 - accuracy: 1.0000\n",
      "Epoch 64: val_loss did not improve from 7.63678\n",
      "5/5 [==============================] - 0s 14ms/step - loss: 3.3046e-07 - accuracy: 1.0000 - val_loss: 11.2321 - val_accuracy: 0.0857\n",
      "Epoch 65/70\n",
      "1/5 [=====>........................] - ETA: 0s - loss: 3.3155e-07 - accuracy: 1.0000\n",
      "Epoch 65: val_loss did not improve from 7.63678\n",
      "5/5 [==============================] - 0s 14ms/step - loss: 3.1731e-07 - accuracy: 1.0000 - val_loss: 11.2434 - val_accuracy: 0.0857\n",
      "Epoch 66/70\n",
      "1/5 [=====>........................] - ETA: 0s - loss: 3.5018e-07 - accuracy: 1.0000\n",
      "Epoch 66: val_loss did not improve from 7.63678\n",
      "5/5 [==============================] - 0s 14ms/step - loss: 3.0065e-07 - accuracy: 1.0000 - val_loss: 11.2537 - val_accuracy: 0.0857\n",
      "Epoch 67/70\n",
      "1/5 [=====>........................] - ETA: 0s - loss: 2.6077e-07 - accuracy: 1.0000\n",
      "Epoch 67: val_loss did not improve from 7.63678\n",
      "5/5 [==============================] - 0s 13ms/step - loss: 2.8750e-07 - accuracy: 1.0000 - val_loss: 11.2683 - val_accuracy: 0.0857\n",
      "Epoch 68/70\n",
      "1/5 [=====>........................] - ETA: 0s - loss: 2.8685e-07 - accuracy: 1.0000\n",
      "Epoch 68: val_loss did not improve from 7.63678\n",
      "5/5 [==============================] - 0s 13ms/step - loss: 2.8225e-07 - accuracy: 1.0000 - val_loss: 11.2865 - val_accuracy: 0.0857\n",
      "Epoch 69/70\n",
      "1/5 [=====>........................] - ETA: 0s - loss: 2.3469e-07 - accuracy: 1.0000\n",
      "Epoch 69: val_loss did not improve from 7.63678\n",
      "5/5 [==============================] - 0s 14ms/step - loss: 2.6997e-07 - accuracy: 1.0000 - val_loss: 11.3020 - val_accuracy: 0.0857\n",
      "Epoch 70/70\n",
      "1/5 [=====>........................] - ETA: 0s - loss: 3.0920e-07 - accuracy: 1.0000\n",
      "Epoch 70: val_loss did not improve from 7.63678\n",
      "5/5 [==============================] - 0s 14ms/step - loss: 2.6121e-07 - accuracy: 1.0000 - val_loss: 11.3136 - val_accuracy: 0.0857\n"
     ]
    }
   ],
   "source": [
    "# Step 5: Train the model\n",
    "history = model_joueur_classique.train(X_train, y_train)"
   ]
  },
  {
   "cell_type": "code",
   "execution_count": 12,
   "metadata": {},
   "outputs": [
    {
     "name": "stdout",
     "output_type": "stream",
     "text": [
      "2/2 [==============================] - 0s 3ms/step - loss: 6.0163 - accuracy: 0.3023\n",
      "Loss:  6.016252517700195\n",
      "Accuracy:  0.302325576543808\n"
     ]
    }
   ],
   "source": [
    "# Step 6: evaluate\n",
    "loss, accuracy = model_joueur_classique.evaluate(X_test, y_test)"
   ]
  },
  {
   "cell_type": "code",
   "execution_count": 13,
   "metadata": {},
   "outputs": [
    {
     "data": {
      "text/plain": [
       "array([[0., 0., 0., ..., 0., 0., 0.],\n",
       "       [0., 0., 0., ..., 0., 0., 0.],\n",
       "       [0., 0., 0., ..., 0., 0., 0.],\n",
       "       ...,\n",
       "       [0., 0., 0., ..., 0., 0., 0.],\n",
       "       [0., 0., 0., ..., 0., 0., 0.],\n",
       "       [0., 0., 0., ..., 0., 0., 0.]])"
      ]
     },
     "execution_count": 13,
     "metadata": {},
     "output_type": "execute_result"
    }
   ],
   "source": [
    "X_test"
   ]
  },
  {
   "cell_type": "code",
   "execution_count": 14,
   "metadata": {},
   "outputs": [
    {
     "data": {
      "text/plain": [
       "array([[0., 0., 0., ..., 0., 0., 0.]])"
      ]
     },
     "execution_count": 14,
     "metadata": {},
     "output_type": "execute_result"
    }
   ],
   "source": [
    "example_input = np.reshape(X_test[0], (1, 50*50*15))\n",
    "example_input"
   ]
  },
  {
   "cell_type": "code",
   "execution_count": 15,
   "metadata": {},
   "outputs": [
    {
     "name": "stdout",
     "output_type": "stream",
     "text": [
      "1/1 [==============================] - 0s 56ms/step\n"
     ]
    },
    {
     "data": {
      "text/plain": [
       "array([1], dtype=int64)"
      ]
     },
     "execution_count": 15,
     "metadata": {},
     "output_type": "execute_result"
    }
   ],
   "source": [
    "# Step 7: predict\n",
    "y_pred = model_joueur_classique.predict(example_input)\n",
    "y_pred"
   ]
  },
  {
   "cell_type": "code",
   "execution_count": 16,
   "metadata": {},
   "outputs": [],
   "source": [
    "# Final step: save the model\n",
    "model_joueur_classique.save_model('saved_models\\classic_model_1_joueur_bas.h5')"
   ]
  }
 ],
 "metadata": {
  "kernelspec": {
   "display_name": "base",
   "language": "python",
   "name": "python3"
  },
  "language_info": {
   "codemirror_mode": {
    "name": "ipython",
    "version": 3
   },
   "file_extension": ".py",
   "mimetype": "text/x-python",
   "name": "python",
   "nbconvert_exporter": "python",
   "pygments_lexer": "ipython3",
   "version": "3.9.13"
  },
  "orig_nbformat": 4
 },
 "nbformat": 4,
 "nbformat_minor": 2
}
